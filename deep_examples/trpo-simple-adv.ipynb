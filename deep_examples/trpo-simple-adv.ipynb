{
 "cells": [
  {
   "cell_type": "markdown",
   "id": "f0a5f846-de2e-4db3-acf7-9073fd61d8c1",
   "metadata": {},
   "source": [
    "![DSME-logo](./static/DSME_logo.png)\n",
    "\n",
    "#  Reinforcement Learning and Learning-based Control\n",
    "\n",
    "<p style=\"font-size:12pt\";> \n",
    "<b> Prof. Dr. Sebastian Trimpe, Dr. Friedrich Solowjow </b><br>\n",
    "<b> Institute for Data Science in Mechanical Engineering (DSME) </b><br>\n",
    "<a href = \"mailto:rllbc@dsme.rwth-aachen.de\">rllbc@dsme.rwth-aachen.de</a><br>\n",
    "</p>\n",
    "\n",
    "---\n",
    "TRPO Implementation\n",
    "\n",
    "Notebook Authors: Jyotirmaya Patra, Ramil Sabirov\n",
    "\n",
    "Adapted from: [Stable Baselines3 Contrib](https://github.com/Stable-Baselines-Team/stable-baselines3-contrib)\n",
    "\n",
    "Orignal Paper: [Trust Region Policy Optimization](https://arxiv.org/abs/1502.05477)\n",
    "\n",
    "Additional References:\n",
    "1. OpenAI SpinningUp:\n",
    "    * [Trust Region Policy Optimization](https://spinningup.openai.com/en/latest/algorithms/trpo.html)\n",
    "2. CS 285 at UC Berkeley:\n",
    "    * [Lecture 9: Advanced Policy Gradients](http://rail.eecs.berkeley.edu/deeprlcourse/static/slides/lec-9.pdf) (Lecture recordings also available on Youtube!)\n"
   ]
  },
  {
   "cell_type": "markdown",
   "id": "b5a83f6f-418b-4959-b725-9f4f32ecb319",
   "metadata": {},
   "source": [
    "## Library Imports"
   ]
  },
  {
   "cell_type": "code",
   "execution_count": 15,
   "id": "e818d134-4fcc-4756-aa73-0d236efd42d1",
   "metadata": {},
   "outputs": [
    {
     "name": "stdout",
     "output_type": "stream",
     "text": [
      "The autoreload extension is already loaded. To reload it, use:\n",
      "  %reload_ext autoreload\n"
     ]
    }
   ],
   "source": [
    "import warnings\n",
    "warnings.filterwarnings(\"ignore\", category=DeprecationWarning)\n",
    "warnings.filterwarnings(\"ignore\", category=UserWarning)\n",
    "import os\n",
    "import time\n",
    "import copy\n",
    "import random\n",
    "\n",
    "from datetime import datetime\n",
    "from functools import partial\n",
    "\n",
    "import numpy as np\n",
    "import matplotlib.pyplot as plt\n",
    "from tqdm import notebook\n",
    "from easydict import EasyDict as edict\n",
    "from IPython.display import Video\n",
    "\n",
    "import utils.helper_fns as hf\n",
    "\n",
    "import gymnasium as gym\n",
    "import wandb\n",
    "import torch\n",
    "import torch.nn as nn\n",
    "import torch.optim as optim\n",
    "from torch.distributions.categorical import Categorical\n",
    "\n",
    "\n",
    "os.environ['SDL_VIDEODRIVER'] = 'dummy'\n",
    "os.environ['WANDB_NOTEBOOK_NAME'] = 'trpo-simple-adv.ipynb'\n",
    "\n",
    "\n",
    "\n",
    "plt.rcParams['figure.dpi'] = 100\n",
    "device = torch.device(\"cuda\" if torch.cuda.is_available() else \"cpu\")\n",
    "\n",
    "%load_ext autoreload\n",
    "%autoreload 2"
   ]
  },
  {
   "cell_type": "markdown",
   "id": "a97075de-2532-473e-af22-e6cb8c3035a5",
   "metadata": {},
   "source": [
    "## TRPO Specific Helper Functions\n",
    "\n",
    "Apart from the general helper functions in `/uitls/helper_fns.py` here you will find helper functions specific to TRPO. Here's a quick preview:\n",
    "1. `kl_divergence`: compute kl divergence between two pytorch distributions\n",
    "2. `compute_policy_grad`: compute gradients for kl div and surrogate objective wrt the policy parameters \n",
    "3. `hessian_vector_product`: computes the matrix-vector product with the Fisher information matrix.\n",
    "4. `conjugate_gradient_solver`: finds an approximate solution to a set of linear equations Ax = b"
   ]
  },
  {
   "cell_type": "code",
   "execution_count": 16,
   "id": "03865a9c-3ff9-4993-ba57-93096ae86478",
   "metadata": {},
   "outputs": [],
   "source": [
    "def kl_divergence(dist_true, dist_pred):\n",
    "    \"\"\"\n",
    "    Wrapper for the PyTorch implementation of the full form KL Divergence\n",
    "\n",
    "    :param dist_true: the p distribution\n",
    "    :param dist_pred: the q distribution\n",
    "    :return: KL(dist_true||dist_pred)\n",
    "    \"\"\"\n",
    "    return torch.distributions.kl_divergence(dist_true, dist_pred)\n",
    "\n",
    "\n",
    "def compute_policy_grad(actor, kl_div, policy_objective):\n",
    "    \"\"\"\n",
    "    Compute gradients for kl div and surrogate objective wrt the policy parameters\n",
    "    :param actor: actor model in agent\n",
    "    :param kl_div: The KL divergence objective\n",
    "    :param policy_objective: The surrogate advantage\n",
    "    :return: List of actor params, gradients and gradients shape.\n",
    "    \"\"\"\n",
    "    # Contains the gradients of surrogate advantage wrt to each policy parameters\n",
    "    policy_objective_gradients = []\n",
    "    # Contains gradients of the KL divergence wrt each policy parameter\n",
    "    grad_kl = []\n",
    "    # Save the shape of the gradients of the KL divergence w.r.t each policy parameter\n",
    "    # Will be used to unflatten the gradients into its original shape later in the training loop\n",
    "    grad_shape = []\n",
    "    # List of policy parameters\n",
    "    actor_params = []\n",
    "\n",
    "    for param in actor.parameters():\n",
    "        kl_param_grad, *_ = torch.autograd.grad(\n",
    "            kl_div,\n",
    "            param,\n",
    "            create_graph=True,\n",
    "            retain_graph=True,\n",
    "            allow_unused=True,\n",
    "            only_inputs=True\n",
    "        )\n",
    "\n",
    "        policy_objective_grad, *_ = torch.autograd.grad(\n",
    "            policy_objective,\n",
    "            param,\n",
    "            retain_graph=True,\n",
    "            only_inputs=True\n",
    "        )\n",
    "\n",
    "        grad_shape.append(kl_param_grad.shape)\n",
    "        grad_kl.append(kl_param_grad.reshape(-1))\n",
    "        policy_objective_gradients.append(policy_objective_grad.reshape(-1))\n",
    "        actor_params.append(param)\n",
    "\n",
    "    # Concatenate gradients before the conjugate gradient step\n",
    "    policy_objective_gradients = torch.cat(policy_objective_gradients)\n",
    "    grad_kl = torch.cat(grad_kl)\n",
    "    return actor_params, policy_objective_gradients, grad_kl, grad_shape\n",
    "\n",
    "\n",
    "def hessian_vector_product(params, grad_kl, cg_damping, vector, retain_graph=True):\n",
    "    \"\"\"\n",
    "    Computes the matrix-vector product with the Fisher information matrix.\n",
    "\n",
    "    :param params: list of parameters used to compute the Hessian\n",
    "    :param grad_kl: flattened gradient of the KL divergence between the old and new policy\n",
    "    :param vector: vector to compute the dot product the hessian-vector dot product with\n",
    "    :param retain_graph: if True, the graph will be kept after computing the Hessian\n",
    "    :return: Hessian-vector dot product (with damping)\n",
    "    \"\"\"\n",
    "    jacobian_vector_product = (grad_kl * vector).sum()\n",
    "\n",
    "    hessian_vector_product = torch.autograd.grad(\n",
    "        jacobian_vector_product,\n",
    "        params,\n",
    "        create_graph=False,\n",
    "        retain_graph=retain_graph,\n",
    "        allow_unused=True\n",
    "    )\n",
    "\n",
    "    hessian_vector_product_flattened = torch.cat([torch.ravel(grad) for grad in hessian_vector_product if grad is not None])\n",
    "    return hessian_vector_product_flattened + cg_damping * vector\n",
    "\n",
    "\n",
    "def conjugate_gradient_solver(matrix_vector_dot_fn, b, max_iter=10, residual_tol=1e-10):\n",
    "    \"\"\"\n",
    "    Finds an approximate solution to a set of linear equations Ax = b\n",
    "\n",
    "    Sources:\n",
    "     - https://github.com/ajlangley/trpo-pytorch/blob/master/conjugate_gradient.py\n",
    "     - https://github.com/joschu/modular_rl/blob/master/modular_rl/trpo.py#L122\n",
    "\n",
    "    Reference:\n",
    "     - https://epubs.siam.org/doi/abs/10.1137/1.9781611971446.ch6\n",
    "\n",
    "    :param matrix_vector_dot_fn:\n",
    "        a function that right multiplies a matrix A by a vector v\n",
    "    :param b:\n",
    "        the right hand term in the set of linear equations Ax = b\n",
    "    :param max_iter:\n",
    "        the maximum number of iterations (default is 10)\n",
    "    :param residual_tol:\n",
    "        residual tolerance for early stopping of the solving (default is 1e-10)\n",
    "    :return x:\n",
    "        the approximate solution to the system of equations defined by `matrix_vector_dot_fn`\n",
    "        and b\n",
    "    \"\"\"\n",
    "\n",
    "    # The vector is not initialized at 0 because of the instability issues when the gradient becomes small.\n",
    "    # Hence, a small random gaussian noise is used for the initialization.\n",
    "    x = 1e-4 * torch.randn_like(b)\n",
    "    residual = b - matrix_vector_dot_fn(x)\n",
    "    # Equivalent to th.linalg.norm(residual) ** 2 (L2 norm squared)\n",
    "    residual_squared_norm = torch.matmul(residual, residual)\n",
    "\n",
    "    if residual_squared_norm < residual_tol:\n",
    "        # If the gradient becomes extremely small\n",
    "        # The denominator in alpha will become zero\n",
    "        # Leading to a division by zero\n",
    "        return x\n",
    "\n",
    "    p = residual.clone()\n",
    "\n",
    "    for i in range(max_iter):\n",
    "        # A @ p (matrix vector multiplication)\n",
    "        A_dot_p = matrix_vector_dot_fn(p)\n",
    "\n",
    "        alpha = residual_squared_norm / p.dot(A_dot_p)\n",
    "        x += alpha * p\n",
    "\n",
    "        if i == max_iter - 1:\n",
    "            return x\n",
    "\n",
    "        residual -= alpha * A_dot_p\n",
    "        new_residual_squared_norm = torch.matmul(residual, residual)\n",
    "\n",
    "        if new_residual_squared_norm < residual_tol:\n",
    "            return x\n",
    "\n",
    "        beta = new_residual_squared_norm / residual_squared_norm\n",
    "        residual_squared_norm = new_residual_squared_norm\n",
    "        p = residual + beta * p\n",
    "    # Note: this return statement is only used when max_iter=0\n",
    "    return x"
   ]
  },
  {
   "cell_type": "markdown",
   "id": "0c56a7a7-bace-4ddc-8c90-93aa86d8ae69",
   "metadata": {
    "tags": []
   },
   "source": [
    "## Initializations"
   ]
  },
  {
   "cell_type": "markdown",
   "id": "a7705efc-11be-4fa7-8e1c-054bc3efbd7a",
   "metadata": {},
   "source": [
    "### Experiment\n",
    "\n",
    "We primarily use dictionaries for initializing experiment parameters and training hyperparameters. We use the `EasyDict` (imported as `edict`) library, which allows us to access dict values as attributes while retaining the operations and properties of the original python `dict`! [[Github Link](https://github.com/makinacorpus/easydict)]\n",
    "\n",
    "In this notebook we use a few `edicts` with `exp` being one of them. It is initialized in the following cell and has keys and values containing information about the experiment being run. Although initialized in this section, we keep adding new keys and values to the dict in the later sections as well.  \n",
    "\n",
    "This notebook supports gymnasium environments with observation space of type `gym.spaces.Box` and action space of type `gym.spaces.Discrete`. Eg: Acrobot-v1, CartPole-v1, MountainCar-v0"
   ]
  },
  {
   "cell_type": "code",
   "execution_count": 17,
   "id": "468a56a4-7e93-4ec9-8bd8-de7efc02e2d9",
   "metadata": {},
   "outputs": [],
   "source": [
    "exp = edict()\n",
    "\n",
    "exp.exp_name = 'TRPO'  # algorithm name, in this case it should be 'PPO'\n",
    "exp.env_id = 'CartPole-v1'  # name of the gymnasium environment to be used in this experiment. Eg: Acrobot-v1, CartPole-v1, MountainCar-v0\n",
    "exp.device = device.type  # save the device type used to load tensors and perform tensor operations\n",
    "\n",
    "exp.random_seed = True  # set random seed for reproducibility of python, numpy and torch\n",
    "exp.seed = 2\n",
    "\n",
    "# name of the project in Weights & Biases (wandb) to which logs are patched. (only if wandb logging is enabled)\n",
    "# if the project does not exist in wandb, it will be created automatically\n",
    "wandb_prj_name = f\"RLLBC_{exp.env_id}\"\n",
    "\n",
    "# name prefix of output files generated by the notebook\n",
    "exp.run_name = f\"{exp.env_id}__{exp.exp_name}__{exp.seed}__{datetime.now().strftime('%y%m%d_%H%M%S')}\"\n",
    "\n",
    "if exp.random_seed:\n",
    "    random.seed(exp.seed)\n",
    "    np.random.seed(exp.seed)\n",
    "    torch.manual_seed(exp.seed)\n",
    "    torch.backends.cudnn.deterministic = exp.random_seed"
   ]
  },
  {
   "cell_type": "markdown",
   "id": "e7685598-5e38-4124-bf7e-2c76faef0607",
   "metadata": {
    "tags": []
   },
   "source": [
    "### Rollout Buffer\n",
    "\n",
    "The second dictionary, `hypp`, is initialized in the following cell. It has keys and values containing the hyperparameters necessary to the algorithm. Similar to the `exp` dict, new keys and values are added to the `hypp` in the later sections. \n",
    "\n",
    "Define both `exp.num_envs` and `hypp.num_steps`.\n",
    "\n",
    "Initialize the multiple environments and run them in parallel using the `SyncVectorEnv` class from the gymnasium library [More info: [Link](https://www.gymlibrary.dev/content/vectorising/)]. \n",
    "\n",
    "Next, create a rollout buffer based on the number of parallel envs `exp.num_envs` and the number of steps per env `hypp.num_steps`. It is later used to save episode trajectories during agent training. The buffer gets replaced with new trajectories at the beginning of every iteration of the training loop."
   ]
  },
  {
   "cell_type": "code",
   "execution_count": 18,
   "id": "4632173c-fb81-48fe-8378-d3ac93736c60",
   "metadata": {
    "tags": []
   },
   "outputs": [],
   "source": [
    "hypp = edict()\n",
    "\n",
    "exp.num_envs = 4  # number of parallel game environments\n",
    "hypp.num_steps = 128  # number of steps to run in each environment per policy rollout\n",
    "\n",
    "# Intialize vectorized gymnasium evn\n",
    "envs = gym.vector.SyncVectorEnv([hf.make_env(exp.env_id, exp.seed + i) for i in range(exp.num_envs)])\n",
    "\n",
    "# RollOut Buffer Init\n",
    "observations = torch.zeros((hypp.num_steps, exp.num_envs) + envs.single_observation_space.shape).to(device)\n",
    "actions = torch.zeros((hypp.num_steps, exp.num_envs) + envs.single_action_space.shape).to(device)\n",
    "logprobs = torch.zeros((hypp.num_steps, exp.num_envs)).to(device)\n",
    "rewards = torch.zeros((hypp.num_steps, exp.num_envs)).to(device)\n",
    "dones = torch.zeros((hypp.num_steps, exp.num_envs)).to(device)\n",
    "values = torch.zeros((hypp.num_steps, exp.num_envs)).to(device)\n",
    "\n",
    "envs.close()"
   ]
  },
  {
   "cell_type": "markdown",
   "id": "5080f052-8cfd-47bb-83e8-772b8c22f780",
   "metadata": {},
   "source": [
    "### Agent Model Class\n",
    "\n",
    "The `Agent` class consists of a deep MLP value function called the `critic`, and a deep MLP policy called the `actor`, both learned during training. \n",
    "\n",
    "The class has three methods:\n",
    "1. `get_value` method evaluates the `critic` with a given observation (state) to obtain the learned estimate of the observation's value.\n",
    "2. `get_distribution` method first evaluates the `actor` to obtain the un-normalized probabilities of the actions, which is then used to create a categorical distribution over the actions.\n",
    "3. `get_action` method returns an action. The method first obtains the categorical distribution over actions the `actor` has learned. Then, if `greedy = True`, it returns the action with the highest probability else, an action sampled from the distribution.\n",
    "4. `get_action_and_value` method when given an observation, returns the action sampled from the probability distribution (if `action=None`), the respective action's log probability, and the estimate of the observation's value according to the `critic` network.\n",
    "\n",
    "The `actor` and `critic` networks in the `Agent` class make use of the `layer_init` function to implement ideas derived from [Engstrom, Ilyas, et al., (2020)](https://openreview.net/forum?id=r1etN1rtPB), and [Andrychowicz et al. (2021)](https://openreview.net/forum?id=nIAxjsniDzg). The former introduces the idea of orthogonal initialization of weights for tanh activation. In the latter paper, decision C57 shows that initializing the policy such that the action distribution is centered as zero gives better performance. This is done by initializing the `actor`'s output layer weights with 0.01 std. (see the final layer of `self.actor`)\n",
    "\n",
    "Note: observation and state mean the same in the context of this notebook"
   ]
  },
  {
   "cell_type": "code",
   "execution_count": 19,
   "id": "d0fff29a-690d-4dc8-bf2c-191243f98a2e",
   "metadata": {},
   "outputs": [],
   "source": [
    "def layer_init(layer, std=np.sqrt(2), bias_const=0.0):\n",
    "    torch.nn.init.orthogonal_(layer.weight, std)\n",
    "    torch.nn.init.constant_(layer.bias, bias_const)\n",
    "    return layer\n",
    "\n",
    "\n",
    "class Agent(nn.Module):\n",
    "    def __init__(self, envs):\n",
    "        super().__init__()\n",
    "        self.critic = nn.Sequential(\n",
    "            layer_init(nn.Linear(np.array(envs.single_observation_space.shape).prod(), 64)),\n",
    "            nn.Tanh(),\n",
    "            layer_init(nn.Linear(64, 64)),\n",
    "            nn.Tanh(),\n",
    "            layer_init(nn.Linear(64, 1), std=1.0),\n",
    "        )\n",
    "        self.actor = nn.Sequential(\n",
    "            layer_init(nn.Linear(np.array(envs.single_observation_space.shape).prod(), 64)),\n",
    "            nn.Tanh(),\n",
    "            layer_init(nn.Linear(64, 64)),\n",
    "            nn.Tanh(),\n",
    "            layer_init(nn.Linear(64, envs.single_action_space.n), std=0.01),\n",
    "        )\n",
    "\n",
    "    def get_value(self, x):\n",
    "        return self.critic(x)\n",
    "\n",
    "    def get_distribution(self, x):\n",
    "        logits = self.actor(x)\n",
    "        probs = Categorical(logits=logits)\n",
    "        return probs\n",
    "\n",
    "    def get_action(self, x, greedy=False):\n",
    "        distr = self.get_distribution(x)\n",
    "        action = distr.sample() if not greedy else distr.mode\n",
    "        return action\n",
    "\n",
    "    def get_action_and_value(self, x, action=None):\n",
    "        distr = self.get_distribution(x)\n",
    "        if action is None:\n",
    "            action = distr.sample()\n",
    "        return action, distr.log_prob(action), self.critic(x)"
   ]
  },
  {
   "cell_type": "markdown",
   "id": "08382f29-5bfb-4814-94ef-53d39db5cfea",
   "metadata": {
    "tags": []
   },
   "source": [
    "### Training Params & Agent Hyperparams\n",
    "\n",
    "The parameters and hyperparameters in this section are broadly categorized as below:\n",
    "1. Flags for logging: \n",
    "    - They are stored in the `exp` dict. \n",
    "    - This notebook uses tensorboard logging by deafult to log experiment metrics. These tb log files are saved in the directory `logs/<exp.exp_type>/<exp.run_name>/tb`. (to learn about `exp.exp_type` refer point 3. below)\n",
    "    - To enable logging of gymnasium videos of the agent's interaction with the env set `exp.capture_video = True`\n",
    "    - Patch tensorboard logs and gymnasium videos to Weigths & Biases (wandb) by setting `exp.enable_wandb_logging = True`\n",
    "2. Flags and parameters to generate average performance throughout training:\n",
    "    - Stored in the `exp` dict\n",
    "    - If `exp.eval_agent = True`, the performance of the agent during it's training is saved in the corresponding logs folder. You can later used this to compare the performance of your current agent with other agents during their training (in Section 1.5.2).\n",
    "    - Every `exp.eval_frequency` episodes the trained agent is evaluated using the `envs_eval` by playing out `exp.eval_count` episodes\n",
    "    - To speed up training set `exp.eval_agent = False` \n",
    "3. Create experiment hierarchy inside log folders:\n",
    "    - if `exp.exp_type` is None, experiment logs are saved to the root log directory `logs`, ie, `/logs/<exp.run_name>`, otherwise they are saved to the directory `logs/<exp.exp_type>/<exp._name>`\n",
    "4. Parameters and hyperparameters related to the algorithm:\n",
    "    - Stored in the `hypp` dict\n",
    "    - Quick reminder:  the `num_steps` key in the `hypp` dict is also a hyperparameter defined in Env & Rollout Buffer Init Section.\n",
    "\n",
    "Note: \n",
    "1. If Weigths and Biases (wandb) logging is enabled, when you run the \"Training The Agent\" cell, enter your wandb's api key when prompted. \n",
    "2. Training takes longer when either gymnasium video recording or agent evaluation during training is enabled. To speed up training set both `exp.capture_video` and `exp.eval_agent` to `False`."
   ]
  },
  {
   "cell_type": "code",
   "execution_count": 20,
   "id": "72d426a0-fca1-4608-9ac7-31ceabd0b100",
   "metadata": {},
   "outputs": [],
   "source": [
    "# flags for logging purposes\n",
    "exp.enable_wandb_logging = True\n",
    "exp.capture_video = False  # disable to speed up training\n",
    "\n",
    "# flags to generate agent's average performance during training\n",
    "exp.eval_agent = True  # disable to speed up training\n",
    "exp.eval_count = 10\n",
    "exp.eval_frequency = 20\n",
    "exp.device = device.type\n",
    "\n",
    "# putting the run into the designated log folder for structuring\n",
    "exp.exp_type = None  # directory the run is saved to. Should be None or a string value\n",
    "\n",
    "# agent learning specific flags\n",
    "hypp.total_timesteps = 500000  # the training duration in number of time steps\n",
    "hypp.num_minibatches = 4  # number of minibatches for gradient updates\n",
    "hypp.update_epochs = 10  # only applies to critic updates in TRPO\n",
    "\n",
    "hypp.batch_size = int(exp.num_envs * hypp.num_steps)  # len of the rollout buffer\n",
    "hypp.minibatch_size = int(hypp.batch_size // hypp.num_minibatches)  # rollout buffer size / minibatch count\n",
    "\n",
    "hypp.learning_rate = 1e-3  # size of gradient update step\n",
    "hypp.anneal_lr = False  # when True reduces the learning rate as the training progresses\n",
    "hypp.gamma = 0.99  # discount factor over future rewards\n",
    "hypp.norm_adv = True\n",
    "hypp.cg_max_steps = 10                   # maximum number of steps in the Conjugate Gradient algorithm for computing the Hessian vector product\n",
    "hypp.cg_damping = 0.1                    # damping in the Hessian vector product computation\n",
    "hypp.line_search_shrinking_factor = 0.8  # step-size reduction factor for the line-search (i.e., `theta_new = theta + shrinking_factor^i * step`)\n",
    "hypp.line_search_max_iter = 10           # maximum number of iteration for the backtracking line-search\n",
    "hypp.target_kl = 0.01  # the target KL divergence threshold for the policy"
   ]
  },
  {
   "cell_type": "markdown",
   "id": "d3493918-2c78-4ea4-bd28-391141dc0b83",
   "metadata": {
    "tags": []
   },
   "source": [
    "## Training the Agent\n",
    "Before we begin training the agent we first initalize the logging (based on the repsective flags in the `exp` dict), object of the `Agent` class and the optimizer, followed by an inital set of observations. \n",
    "\n",
    "After that comes the main training loop which is comprised of:  \n",
    "1. learning rate annealing, \n",
    "2. collecting trajectories, ie, filling the rollout buffer with the actor's interaction with the environment,\n",
    "3. computing the advantage estimate $A^{\\pi_{\\theta_k}}$ and returns $G$ of the trajectories saved in the rollout buffer,\n",
    "4. Policy parameters update:\n",
    "    1. Computing the gradient of the surrogate objective wrt the policy parameters, ie, $g_k = \\nabla_{\\theta} L_{\\pi_{\\theta_{k}}}\\left(\\pi_\\theta\\right)|_{\\theta_{k}}$, where: \n",
    "    $$ L_{\\pi_{\\theta_{k}}}\\left(\\pi_\\theta\\right) = \\mathbb{E}_{s , a \\sim \\pi_{\\theta_{k}}} \\left[ \\frac{\\pi_\\theta(a|s)}{\\pi_{\\theta_{k}}(a|s)}A^{\\pi_{\\theta_k}}(s, a) \\right]$$\n",
    "    2. Computing the Hessian of KL Divergence (also called the Fisher Information Matrix) wrt to policy parameters, ie, $H_k ={\\nabla^2_\\theta} \\bar{D}_{KL}\\left(\\pi_{\\theta_{k}}, \\pi_{\\theta}\\right)$, where\n",
    "    $$\\bar{D}_{KL}\\left(\\pi_{\\theta_{k}}, \\pi_{\\theta}\\right) = \\mathbb{E}_{s \\sim \\pi_{\\theta_{k}}}\\left[D_{\\mathrm{KL}}\\left(\\pi_{\\theta_k}(\\cdot \\mid s) \\| \\pi_\\theta(\\cdot \\mid s)\\right)\\right]$$\n",
    "    3. Using the conjugate gradient algorithm to compute: $$ x_k \\approx H_k^{-1} g_k$$\n",
    "    4. Updating the policy by bracktracing line search with: $$\\theta_{k+1}=\\theta_k+\\alpha^j \\sqrt{\\frac{2 \\delta}{x_k^T H_k x_k}} x_k $$\n",
    "5. Critic network update:\n",
    "    1. Computing the value loss for critic network update, ie, $$L^{V}(s, \\theta) = \\left(V_{\\theta}(s)-G(s)\\right)^{2}$$\n",
    "    2. Perform gradient descent over the critic network `hypp.update_epochs` times wrt the value loss function $L^{V}$.\n",
    "    \n",
    "Post completion of the main training loop, we save a copy of the following in the directory `logs/<exp.exp_type>/<exp.run_name>`:\n",
    "1. `exp` and `hypp` dicts into a `.config` file \n",
    "2. `agent` (instance of `Agent` class) into a `.pt` file for later evaluation\n",
    "3. agent performance progress throughout training into a `.csv` file if `exp.eval_agent=True`\n",
    "\n",
    "\n",
    "Note: we have two vectorised gymnasium environments, `envs` and `envs_eval` in the initalizations. `envs` is used to fill the rollout buffer with trajectories and `envs_eval` is used to evaluate the agent performance at different stages of training."
   ]
  },
  {
   "cell_type": "code",
   "execution_count": null,
   "id": "4faadf6f-01ed-4318-8e21-fd41df1faa09",
   "metadata": {},
   "outputs": [
    {
     "data": {
      "text/html": [],
      "text/plain": [
       "<IPython.core.display.HTML object>"
      ]
     },
     "metadata": {},
     "output_type": "display_data"
    },
    {
     "data": {
      "text/html": [
       " View run <strong style=\"color:#cdcd00\">CartPole-v1__TRPO__2__250724_105459</strong> at: <a href='https://wandb.ai/artur-eisele/RLLBC_CartPole-v1/runs/oqc1obwc' target=\"_blank\">https://wandb.ai/artur-eisele/RLLBC_CartPole-v1/runs/oqc1obwc</a><br> View project at: <a href='https://wandb.ai/artur-eisele/RLLBC_CartPole-v1' target=\"_blank\">https://wandb.ai/artur-eisele/RLLBC_CartPole-v1</a><br>Synced 5 W&B file(s), 0 media file(s), 0 artifact file(s) and 1 other file(s)"
      ],
      "text/plain": [
       "<IPython.core.display.HTML object>"
      ]
     },
     "metadata": {},
     "output_type": "display_data"
    },
    {
     "data": {
      "text/html": [
       "Find logs at: <code>./logs/wandb/run-20250724_105500-oqc1obwc/logs</code>"
      ],
      "text/plain": [
       "<IPython.core.display.HTML object>"
      ]
     },
     "metadata": {},
     "output_type": "display_data"
    },
    {
     "data": {
      "text/html": [
       "Tracking run with wandb version 0.20.1"
      ],
      "text/plain": [
       "<IPython.core.display.HTML object>"
      ]
     },
     "metadata": {},
     "output_type": "display_data"
    },
    {
     "data": {
      "text/html": [
       "Run data is saved locally in <code>/home/artur/Dokumente/RL_SS2025/rllbc_ss25_final/RLLBC/deep_examples/logs/wandb/run-20250724_105542-vlnmw1nt</code>"
      ],
      "text/plain": [
       "<IPython.core.display.HTML object>"
      ]
     },
     "metadata": {},
     "output_type": "display_data"
    },
    {
     "data": {
      "text/html": [
       "Syncing run <strong><a href='https://wandb.ai/artur-eisele/RLLBC_CartPole-v1/runs/vlnmw1nt' target=\"_blank\">CartPole-v1__TRPO__2__250724_105541</a></strong> to <a href='https://wandb.ai/artur-eisele/RLLBC_CartPole-v1' target=\"_blank\">Weights & Biases</a> (<a href='https://wandb.me/developer-guide' target=\"_blank\">docs</a>)<br>"
      ],
      "text/plain": [
       "<IPython.core.display.HTML object>"
      ]
     },
     "metadata": {},
     "output_type": "display_data"
    },
    {
     "data": {
      "text/html": [
       " View project at <a href='https://wandb.ai/artur-eisele/RLLBC_CartPole-v1' target=\"_blank\">https://wandb.ai/artur-eisele/RLLBC_CartPole-v1</a>"
      ],
      "text/plain": [
       "<IPython.core.display.HTML object>"
      ]
     },
     "metadata": {},
     "output_type": "display_data"
    },
    {
     "data": {
      "text/html": [
       " View run at <a href='https://wandb.ai/artur-eisele/RLLBC_CartPole-v1/runs/vlnmw1nt' target=\"_blank\">https://wandb.ai/artur-eisele/RLLBC_CartPole-v1/runs/vlnmw1nt</a>"
      ],
      "text/plain": [
       "<IPython.core.display.HTML object>"
      ]
     },
     "metadata": {},
     "output_type": "display_data"
    },
    {
     "name": "stderr",
     "output_type": "stream",
     "text": [
      "\u001b[34m\u001b[1mwandb\u001b[0m: \u001b[33mWARNING\u001b[0m When using several event log directories, please call `wandb.tensorboard.patch(root_logdir=\"...\")` before `wandb.init`\n"
     ]
    },
    {
     "data": {
      "application/vnd.jupyter.widget-view+json": {
       "model_id": "6a803edef3f3491abf56ee36d1625472",
       "version_major": 2,
       "version_minor": 0
      },
      "text/plain": [
       "  0%|          | 0/976 [00:00<?, ?it/s]"
      ]
     },
     "metadata": {},
     "output_type": "display_data"
    },
    {
     "name": "stderr",
     "output_type": "stream",
     "text": [
      "\u001b[34m\u001b[1mwandb\u001b[0m: \u001b[33mWARNING\u001b[0m The `quiet` argument to `wandb.run.finish()` is deprecated, use `wandb.Settings(quiet=...)` to set this instead.\n"
     ]
    },
    {
     "data": {
      "text/html": [],
      "text/plain": [
       "<IPython.core.display.HTML object>"
      ]
     },
     "metadata": {},
     "output_type": "display_data"
    },
    {
     "data": {
      "text/html": [
       "<br>    <style><br>        .wandb-row {<br>            display: flex;<br>            flex-direction: row;<br>            flex-wrap: wrap;<br>            justify-content: flex-start;<br>            width: 100%;<br>        }<br>        .wandb-col {<br>            display: flex;<br>            flex-direction: column;<br>            flex-basis: 100%;<br>            flex: 1;<br>            padding: 10px;<br>        }<br>    </style><br><div class=\"wandb-row\"><div class=\"wandb-col\"><h3>Run history:</h3><br/><table class=\"wandb\"><tr><td>Charts/episode_step</td><td>▁▂▂▂▂▃▃▃▃▄▄▄▅▅▅▅▅▆▆▆▆▆▆▆▇▇▇▇▇▇▇▇▇███████</td></tr><tr><td>Charts/gradient_step</td><td>▁▁▁▁▁▁▂▂▂▂▃▃▃▃▃▄▄▄▄▄▅▅▅▅▅▅▅▆▆▆▆▆▆▇▇▇████</td></tr><tr><td>global_step</td><td>▁▁▁▁▁▂▂▂▂▂▂▃▃▃▃▄▄▄▄▅▅▅▅▅▆▆▆▆▆▇▇▇▇▇▇█████</td></tr><tr><td>hyperparameters/learning_rate</td><td>▁▁▁▁▁▁▁▁▁▁▁▁▁▁▁▁▁▁▁▁▁▁▁▁▁▁▁▁▁▁▁▁▁▁▁▁▁▁▁▁</td></tr><tr><td>rollout/episodic_length</td><td>▁▁▅▄███▄███████████████▁████████████████</td></tr><tr><td>rollout/episodic_return</td><td>▁▂▁▁▅█▅█▅▇██████████████████████████████</td></tr><tr><td>train/explained_variance</td><td>██████████▇██▇███▅███▁█▆███▅█▇██████████</td></tr><tr><td>train/is_line_search_success</td><td>▁▁▁▁▁▁▁▁▁▁▁▁▁▁▁▁▁▁▁▁▁▁▁▁▁▁▁▁▁▁▁▁▁▁▁▁▁▁▁▁</td></tr><tr><td>train/kl_divergence</td><td>▃▅▆▅▇█▃▅▄▄▃▅▅▄▃▅▄▁▃▅█▄▅▆▅▃▃▆▄▃▃▄▆▅▅▂▆▄▃▅</td></tr><tr><td>train/surrogate_objective</td><td>▃▂▂▃▂▃▂▃█▃▃▂▂▁▂▃▁▆▄▅▂▂▂▂▃▁▂▂▃▃▃▂▃▄▁▁▂▃▃▂</td></tr><tr><td>train/value_loss</td><td>▄█▂▁▁▁▁▁▁▁▁▁▁▁▁▁▁▁▁▁▁▁▁▁▁▁▁▁▁▁▁▁▁▁▁▁▁▁▁▁</td></tr></table><br/></div><div class=\"wandb-col\"><h3>Run summary:</h3><br/><table class=\"wandb\"><tr><td>Charts/episode_step</td><td>1124</td></tr><tr><td>Charts/gradient_step</td><td>39040</td></tr><tr><td>global_step</td><td>499712</td></tr><tr><td>hyperparameters/learning_rate</td><td>0.001</td></tr><tr><td>rollout/episodic_length</td><td>500</td></tr><tr><td>rollout/episodic_return</td><td>500</td></tr><tr><td>train/explained_variance</td><td>0.76285</td></tr><tr><td>train/is_line_search_success</td><td>1</td></tr><tr><td>train/kl_divergence</td><td>0.00895</td></tr><tr><td>train/surrogate_objective</td><td>0.00682</td></tr><tr><td>train/value_loss</td><td>1e-05</td></tr></table><br/></div></div>"
      ],
      "text/plain": [
       "<IPython.core.display.HTML object>"
      ]
     },
     "metadata": {},
     "output_type": "display_data"
    },
    {
     "data": {
      "text/html": [
       " View run <strong style=\"color:#cdcd00\">CartPole-v1__TRPO__2__250724_105541</strong> at: <a href='https://wandb.ai/artur-eisele/RLLBC_CartPole-v1/runs/vlnmw1nt' target=\"_blank\">https://wandb.ai/artur-eisele/RLLBC_CartPole-v1/runs/vlnmw1nt</a><br> View project at: <a href='https://wandb.ai/artur-eisele/RLLBC_CartPole-v1' target=\"_blank\">https://wandb.ai/artur-eisele/RLLBC_CartPole-v1</a><br>Synced 5 W&B file(s), 0 media file(s), 0 artifact file(s) and 1 other file(s)"
      ],
      "text/plain": [
       "<IPython.core.display.HTML object>"
      ]
     },
     "metadata": {},
     "output_type": "display_data"
    },
    {
     "data": {
      "text/html": [
       "Find logs at: <code>./logs/wandb/run-20250724_105542-vlnmw1nt/logs</code>"
      ],
      "text/plain": [
       "<IPython.core.display.HTML object>"
      ]
     },
     "metadata": {},
     "output_type": "display_data"
    }
   ],
   "source": [
    "# reinit run_name\n",
    "exp.run_name = f\"{exp.env_id}__{exp.exp_name}__{exp.seed}__{datetime.now().strftime('%y%m%d_%H%M%S')}\"\n",
    "\n",
    "# Init tensorboard logging and wandb logging\n",
    "writer = hf.setup_logging(wandb_prj_name, exp, hypp)\n",
    "\n",
    "# create two vectorized envs: one to fill the rollout buffer with trajectories, and\n",
    "# another to evaluate the agent performance at different stages of training  \n",
    "envs.close()\n",
    "envs = gym.vector.SyncVectorEnv([hf.make_env(exp.env_id, exp.seed + i) for i in range(exp.num_envs)])\n",
    "envs_eval = gym.vector.SyncVectorEnv([hf.make_env(exp.env_id, exp.seed + i) for i in range(exp.eval_count)])\n",
    "\n",
    "# init list to track agent's performance throughout training\n",
    "tracked_returns_over_training = []\n",
    "tracked_episode_len_over_training = []\n",
    "tracked_episode_count = []\n",
    "last_evaluated_episode = None  # stores the episode_step of when the agent's performance was last evaluated\n",
    "greedy_evaluation = False  # whether to perform the evaluation in a greedy way or not\n",
    "eval_max_return = -float('inf')\n",
    "\n",
    "# Create Agent class Instance and network optimizer\n",
    "agent = Agent(envs).to(device)\n",
    "optimizer = optim.Adam(agent.critic.parameters(), lr=hypp.learning_rate)\n",
    "\n",
    "# Init observation to start learning\n",
    "start_time = time.time()\n",
    "obs, _ = envs.reset()\n",
    "obs = torch.Tensor(obs).to(device)\n",
    "done = torch.zeros(exp.num_envs).to(device)\n",
    "num_updates = int(hypp.total_timesteps // hypp.batch_size)\n",
    "\n",
    "global_step = 0\n",
    "episode_step = 0\n",
    "gradient_step = 0\n",
    "\n",
    "pbar = notebook.tqdm(range(1, num_updates + 1))\n",
    "\n",
    "# training loop\n",
    "for update in pbar:\n",
    "    # Annealing the rate if instructed to do so.\n",
    "    if hypp.anneal_lr:\n",
    "        frac = 1.0 - (update - 1.0) / num_updates\n",
    "        lrnow = frac * hypp.learning_rate\n",
    "        optimizer.param_groups[0][\"lr\"] = lrnow\n",
    "\n",
    "    agent.eval()\n",
    "\n",
    "    # collect trajectories\n",
    "    for step in range(0, hypp.num_steps):\n",
    "        observations[step] = obs\n",
    "        dones[step] = done\n",
    "\n",
    "        # sample action and collect value from learned agent policy and value networks\n",
    "        with torch.no_grad():\n",
    "            action, logprob, value = agent.get_action_and_value(obs)\n",
    "            values[step] = value.flatten()\n",
    "        actions[step] = action\n",
    "        logprobs[step] = logprob\n",
    "\n",
    "        # execute the game and log data.\n",
    "        next_obs, reward, terminateds, truncateds, infos = envs.step(action.cpu().numpy())\n",
    "        done = terminateds | truncateds\n",
    "\n",
    "        agent.eval()\n",
    "        if \"final_observation\" in infos.keys():\n",
    "            for idx, final_obs_single in enumerate(infos[\"final_observation\"]):\n",
    "                if final_obs_single is not None and truncateds[idx]==True:\n",
    "                    with torch.no_grad():\n",
    "                        #Deal with the truncated case\n",
    "                        terminal_obs = torch.tensor(final_obs_single).to(device)\n",
    "                        terminal_value = agent.get_value(terminal_obs)\n",
    "                        reward[idx]+=hypp.gamma * terminal_value\n",
    "\n",
    "        if \"final_info\" in infos.keys():\n",
    "            for idx, final_info_single in enumerate(infos[\"final_info\"]):\n",
    "                if final_info_single is not None:\n",
    "                    if \"episode\" in final_info_single.keys():         \n",
    "                        pbar.set_description(f\"global_step={global_step}, episodic_return={float(final_info_single['episode']['r']):.3f}\")\n",
    "                        writer.add_scalar(\"rollout/episodic_return\", final_info_single[\"episode\"][\"r\"], global_step)\n",
    "                        writer.add_scalar(\"rollout/episodic_length\", final_info_single[\"episode\"][\"l\"], global_step)\n",
    "                        writer.add_scalar(\"Charts/episode_step\", episode_step, global_step)\n",
    "                        writer.add_scalar(\"Charts/gradient_step\", gradient_step, global_step)\n",
    "                        episode_step += 1\n",
    "\n",
    "        rewards[step] = torch.tensor(reward).to(device).view(-1)\n",
    "        next_obs, done = torch.Tensor(next_obs).to(device), torch.Tensor(done).to(device)\n",
    "\n",
    "        global_step += 1 * exp.num_envs\n",
    "        obs = next_obs\n",
    "\n",
    "        # generate average performance statistics of current learned agent\n",
    "        if exp.eval_agent and episode_step % exp.eval_frequency == 0 and last_evaluated_episode != episode_step:\n",
    "            last_evaluated_episode = episode_step\n",
    "            tracked_return, tracked_episode_len = hf.evaluate_agent(envs_eval, agent, exp.eval_count, exp.seed, greedy_actor=greedy_evaluation)\n",
    "            tracked_returns_over_training.append(tracked_return)\n",
    "            tracked_episode_len_over_training.append(tracked_episode_len)\n",
    "            tracked_episode_count.append([episode_step, global_step])\n",
    "\n",
    "            # if there has been improvment of the model -\n",
    "            if np.mean(tracked_return) > eval_max_return:\n",
    "                eval_max_return = np.mean(tracked_return)\n",
    "                # call helper function save_and_log_agent to save model, create video, log video to wandb\n",
    "                hf.save_and_log_agent(exp, agent, episode_step, greedy=greedy_evaluation, print_path=False)\n",
    "\n",
    "    next_done = done\n",
    "    agent.train()\n",
    "\n",
    "    # calculate advantages and returns\n",
    "    with torch.no_grad():\n",
    "        next_value = agent.get_value(next_obs).reshape(1, -1)\n",
    "        advantages = torch.zeros_like(rewards).to(device)\n",
    "        returns = torch.zeros_like(rewards).to(device)\n",
    "        for t in reversed(range(hypp.num_steps)):\n",
    "            if t == hypp.num_steps - 1:\n",
    "                nextnonterminal = 1.0 - next_done\n",
    "                returns[t] = rewards[t] + hypp.gamma * next_value * nextnonterminal\n",
    "            else:\n",
    "                nextnonterminal = 1.0 - dones[t + 1]\n",
    "                returns[t] = rewards[t] + hypp.gamma * returns[t+1] * nextnonterminal\n",
    "        advantages = returns - values\n",
    "\n",
    "    # flatten the batch\n",
    "    b_observations = observations.reshape((-1,) + envs.single_observation_space.shape)\n",
    "    b_logprobs = logprobs.reshape(-1)\n",
    "    b_actions = actions.reshape((-1,) + envs.single_action_space.shape)\n",
    "    b_advantages = advantages.reshape(-1)\n",
    "    b_returns = returns.reshape(-1)\n",
    "    b_values = values.reshape(-1)\n",
    "\n",
    "    with torch.no_grad():\n",
    "        old_distribution = copy.copy(agent.get_distribution(b_observations))\n",
    "\n",
    "    distribution = agent.get_distribution(b_observations)\n",
    "    log_prob = distribution.log_prob(b_actions)\n",
    "\n",
    "    if hypp.norm_adv:\n",
    "        b_advantages = (b_advantages - b_advantages.mean()) / (b_advantages.std() + 1e-8)\n",
    "\n",
    "    # ratio between old and new policy, should be one at the start of each iteration\n",
    "    ratio = torch.exp(log_prob - b_logprobs)\n",
    "\n",
    "    # compute the surrogate advantage\n",
    "    policy_objective = (b_advantages * ratio).mean()\n",
    "\n",
    "    # KL Divergence\n",
    "    kl_div = kl_divergence(distribution, old_distribution).mean()\n",
    "\n",
    "    # Compute the gradient of the surroagate advantage and the kl divergence wrt to the policy network parameters\n",
    "    optimizer.zero_grad()\n",
    "    actor_params, policy_objective_gradients, grad_kl, grad_shape = compute_policy_grad(agent.actor, kl_div,\n",
    "                                                                                        policy_objective)\n",
    "\n",
    "    # Compute search_direction, ie ${H^-1}.{g}$, using the conjugate gradient method\n",
    "    hessian_vector_product_fn = partial(hessian_vector_product, actor_params, grad_kl, hypp.cg_damping)\n",
    "\n",
    "    search_direction = conjugate_gradient_solver(\n",
    "        hessian_vector_product_fn,\n",
    "        policy_objective_gradients,\n",
    "        max_iter=hypp.cg_max_steps\n",
    "    )\n",
    "\n",
    "    line_search_max_step_size = 2 * hypp.target_kl\n",
    "    line_search_max_step_size /= torch.matmul(\n",
    "        search_direction, hessian_vector_product_fn(search_direction, retain_graph=False)\n",
    "    )\n",
    "    line_search_max_step_size = torch.sqrt(line_search_max_step_size)\n",
    "\n",
    "    line_search_backtrack_coeff = 1.0\n",
    "    original_actor_params = [param.detach().clone() for param in actor_params]\n",
    "\n",
    "    policy_objective_values = []  # average value of the surrogate advantage\n",
    "    kl_divergences = []  # average KL-divergence between policies across states visited by the old policy\n",
    "\n",
    "    is_line_search_success = False\n",
    "    with torch.no_grad():\n",
    "        # update policy parameters by backtracking line-search\n",
    "        for _ in range(hypp.line_search_max_iter):\n",
    "\n",
    "            start_idx = 0\n",
    "            # Applying the scaled step direction\n",
    "            for param, original_param, shape in zip(actor_params, original_actor_params, grad_shape):\n",
    "                n_params = param.numel()\n",
    "                param.data = (\n",
    "                        original_param.data\n",
    "                        + line_search_backtrack_coeff\n",
    "                        * line_search_max_step_size\n",
    "                        * search_direction[start_idx: (start_idx + n_params)].view(shape)\n",
    "                )\n",
    "                start_idx += n_params\n",
    "\n",
    "            # Recomputing the policy log-probabilities\n",
    "            distribution = agent.get_distribution(b_observations)\n",
    "            log_prob = distribution.log_prob(b_actions)\n",
    "\n",
    "            # New policy objective\n",
    "            ratio = torch.exp(log_prob - b_logprobs)\n",
    "            new_policy_objective = (b_advantages * ratio).mean()\n",
    "\n",
    "            # New KL-divergence\n",
    "            kl_div = kl_divergence(distribution, old_distribution).mean()\n",
    "\n",
    "            # Constraint criteria:\n",
    "            # we need to improve the surrogate policy objective\n",
    "            # while being close enough (in terms of kl div) to the old policy\n",
    "            if (kl_div < hypp.target_kl) and (new_policy_objective > policy_objective):\n",
    "                is_line_search_success = True\n",
    "                break\n",
    "\n",
    "            # Reducing step size if line-search wasn't successful\n",
    "            line_search_backtrack_coeff *= hypp.line_search_shrinking_factor\n",
    "\n",
    "        if not is_line_search_success:\n",
    "            # If the line-search wasn't successful we revert to the original parameters\n",
    "            for param, original_param in zip(actor_params, original_actor_params):\n",
    "                param.data = original_param.data.clone()\n",
    "\n",
    "            policy_objective_values = policy_objective.item()\n",
    "            kl_divergences = 0\n",
    "        else:\n",
    "            policy_objective_values = new_policy_objective.item()\n",
    "            kl_divergences = kl_div.item()\n",
    "\n",
    "    b_inds = np.arange(hypp.batch_size)\n",
    "\n",
    "    value_losses = []\n",
    "\n",
    "    # update the critic network\n",
    "    for i in range(hypp.update_epochs):\n",
    "        np.random.shuffle(b_inds)\n",
    "        for start in range(0, hypp.batch_size, hypp.minibatch_size):\n",
    "            end = start + hypp.minibatch_size\n",
    "            mb_inds = b_inds[start:end]\n",
    "\n",
    "            newvals = agent.get_value(b_observations[mb_inds])\n",
    "            newvals = newvals.view(-1)\n",
    "\n",
    "            v_loss = 0.5 * ((newvals - b_returns[mb_inds]) ** 2).mean()\n",
    "\n",
    "            optimizer.zero_grad()\n",
    "            v_loss.backward()\n",
    "            optimizer.step()\n",
    "\n",
    "            value_losses.append(v_loss.item())\n",
    "            gradient_step += 1\n",
    "\n",
    "    y_pred, y_true = b_values.cpu().numpy(), b_returns.cpu().numpy()\n",
    "    var_y = np.var(y_true)\n",
    "    explained_var = np.nan if var_y == 0 else 1 - np.var(y_true - y_pred) / var_y\n",
    "\n",
    "    # log losses to tensorboard summary writer\n",
    "    writer.add_scalar(\"hyperparameters/learning_rate\", optimizer.param_groups[0][\"lr\"], global_step)\n",
    "    writer.add_scalar(\"train/value_loss\", np.mean(value_losses), global_step)\n",
    "    writer.add_scalar(\"train/kl_divergence\", kl_divergences, global_step)\n",
    "    writer.add_scalar(\"train/explained_variance\", explained_var, global_step)\n",
    "    writer.add_scalar(\"train/is_line_search_success\", int(is_line_search_success), global_step)\n",
    "    writer.add_scalar(\"train/surrogate_objective\", policy_objective_values, global_step)\n",
    "    writer.add_scalar(\"Charts/episode_step\", episode_step, global_step)\n",
    "    writer.add_scalar(\"Charts/gradient_step\", gradient_step, global_step)\n",
    "\n",
    "# one last evaluation stage\n",
    "if exp.eval_agent:\n",
    "    last_evaluated_episode = episode_step\n",
    "    tracked_return, tracked_episode_len = hf.evaluate_agent(envs_eval, agent, exp.eval_count, exp.seed, greedy_actor=greedy_evaluation)\n",
    "    tracked_returns_over_training.append(tracked_return)\n",
    "    tracked_episode_len_over_training.append(tracked_episode_len)\n",
    "    tracked_episode_count.append([episode_step, global_step])\n",
    "\n",
    "    # if there has been improvment of the model -\n",
    "    if np.mean(tracked_return) > eval_max_return:\n",
    "        eval_max_return = np.mean(tracked_return)\n",
    "        # call helper function save_and_log_agent to save model, create video, log video to wandb\n",
    "        hf.save_and_log_agent(exp, agent, episode_step, greedy=greedy_evaluation, print_path=True)\n",
    "\n",
    "    hf.save_tracked_values(tracked_returns_over_training, tracked_episode_len_over_training, tracked_episode_count, exp.eval_count, exp.run_name, exp.exp_type)\n",
    "\n",
    "envs.close()\n",
    "envs_eval.close()\n",
    "writer.close()\n",
    "if wandb.run is not None:\n",
    "    wandb.finish()\n",
    "    wandb.init(mode=\"disabled\")\n",
    "\n",
    "hf.save_train_config_to_yaml(exp, hypp)"
   ]
  },
  {
   "cell_type": "markdown",
   "id": "74e2408a-aeea-4c1f-800c-5067bdd305e4",
   "metadata": {
    "tags": []
   },
   "source": [
    "## Compare Trained Agents and Display Behaviour"
   ]
  },
  {
   "cell_type": "markdown",
   "id": "4b0f1482-cf6b-4a95-b64a-c0d8e8626a30",
   "metadata": {
    "tags": []
   },
   "source": [
    "### Display Trained Agent Behaviour\n",
    "\n",
    "Set `agent_name` and `agent_exp_type` to load the saved agent model in the respective log folder and generate a video of the agent's interaction with the gymnasium environment. After the cell is executed, you should see a video embedding as output, and the video is also available in the following directory: `/logs/<exp.exp_type>/<exp.run_name>/videos` "
   ]
  },
  {
   "cell_type": "code",
   "execution_count": 22,
   "id": "7419ed1c-cfb3-4e86-be95-e418a3ffe51d",
   "metadata": {},
   "outputs": [
    {
     "data": {
      "text/html": [
       "<video loop autoplay  >\n",
       " <source src=\"data:video/mp4;base64,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\" type=\"video/mp4\">\n",
       " Your browser does not support the video tag.\n",
       " </video>"
      ],
      "text/plain": [
       "<IPython.core.display.Video object>"
      ]
     },
     "execution_count": 22,
     "metadata": {},
     "output_type": "execute_result"
    }
   ],
   "source": [
    "agent_name = exp.run_name\n",
    "agent_exp_type = exp.exp_type  # both are needed to identify the agent location\n",
    "\n",
    "\n",
    "exp_folder = \"\" if agent_exp_type is None else agent_exp_type\n",
    "filepath, _ = hf.create_folder_relative(f\"{exp_folder}/{agent_name}/videos\")\n",
    "\n",
    "hf.record_video(exp.env_id, agent_name, f\"{filepath}/best.mp4\", exp_type=agent_exp_type, greedy=True)\n",
    "Video(data=f\"{filepath}/best.mp4\", html_attributes='loop autoplay', embed=True)"
   ]
  },
  {
   "cell_type": "markdown",
   "id": "015ae10e-2713-4f25-a07f-b925d01c4461",
   "metadata": {
    "tags": []
   },
   "source": [
    "### Compare Performance of Agents During Training\n",
    "\n",
    "During the training loop, if `exp.eval_agent = True`, the performance progress of the agent during its training is saved as a csv file. To compare the saved progress of different agents, create a `dict` containing the parent folder's name of each of the csv files and use the helper function `plotter_agents_training_stats`.\n",
    "\n",
    "To load the data, you can either set `eval_params.run_name00 = exp.run_name` (if only a `tracked_performance_training.csv` file for the corresponding `exp.run_name` exists) or manually enter the folder name containing the csv file. \n",
    "\n",
    "If the agent performance you want to load is inside an exp_type folder, set `eval_params.exp_type00` to experiment type, and if not, set it to `None`. \n",
    "\n",
    "You can add more than one experiment by initializing dict keys and values of the format `eval_params.run_namexx` and `eval_params.exp_typexx`."
   ]
  },
  {
   "cell_type": "code",
   "execution_count": 23,
   "id": "1ffead0b-a7a3-4062-8c93-5b209c63e43e",
   "metadata": {
    "tags": []
   },
   "outputs": [
    {
     "data": {
      "image/png": "[encoded data removed]",
      "text/plain": [
       "<Figure size 1400x300 with 2 Axes>"
      ]
     },
     "metadata": {},
     "output_type": "display_data"
    }
   ],
   "source": [
    "eval_params = edict()  # eval_params - evaluation settings for trained agent\n",
    "\n",
    "eval_params.run_name00 = exp.run_name\n",
    "eval_params.exp_type00 = exp.exp_type\n",
    "\n",
    "# eval_params.run_name01 = \"CartPole-v1__PPO__1__230323_224300\"\n",
    "# eval_params.exp_type01 = None \n",
    "\n",
    "# eval_params.run_name02 = \"CartPole-v1__PPO__1__230302_221245\"\n",
    "# eval_params.exp_type02 = None\n",
    "\n",
    "agent_labels = []\n",
    "\n",
    "episode_axis_limit = None\n",
    "\n",
    "hf.plotter_agents_training_stats(eval_params, agent_labels, episode_axis_limit, plot_returns=True, plot_episode_len=True)"
   ]
  },
  {
   "cell_type": "markdown",
   "id": "dc26b1fa-7c14-4bc0-8183-e59450f5d021",
   "metadata": {
    "tags": []
   },
   "source": [
    "## TensorBoard Inline"
   ]
  },
  {
   "cell_type": "code",
   "execution_count": 24,
   "id": "8abce1b0-018f-4761-954d-8015bbda779b",
   "metadata": {
    "tags": []
   },
   "outputs": [],
   "source": [
    "# %load_ext tensorboard\n",
    "# %tensorboard --logdir logs --host localhost"
   ]
  }
 ],
 "metadata": {
  "kernelspec": {
   "display_name": "default",
   "language": "python",
   "name": "python3"
  },
  "language_info": {
   "codemirror_mode": {
    "name": "ipython",
    "version": 3
   },
   "file_extension": ".py",
   "mimetype": "text/x-python",
   "name": "python",
   "nbconvert_exporter": "python",
   "pygments_lexer": "ipython3",
   "version": "3.10.18"
  },
  "toc-autonumbering": true,
  "widgets": {
   "application/vnd.jupyter.widget-state+json": {
    "state": {},
    "version_major": 2,
    "version_minor": 0
   }
  }
 },
 "nbformat": 4,
 "nbformat_minor": 5
}
