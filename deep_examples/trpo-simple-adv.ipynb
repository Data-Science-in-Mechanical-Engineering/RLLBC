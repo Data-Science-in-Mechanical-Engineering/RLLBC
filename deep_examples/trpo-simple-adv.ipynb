{
 "cells": [
  {
   "cell_type": "markdown",
   "id": "f0a5f846-de2e-4db3-acf7-9073fd61d8c1",
   "metadata": {},
   "source": [
    "![DSME-logo](./static/DSME_logo.png)\n",
    "\n",
    "#  Reinforcement Learning and Learning-based Control\n",
    "\n",
    "<p style=\"font-size:12pt\";> \n",
    "<b> Prof. Dr. Sebastian Trimpe, Dr. Friedrich Solowjow </b><br>\n",
    "<b> Institute for Data Science in Mechanical Engineering (DSME) </b><br>\n",
    "<a href = \"mailto:rllbc@dsme.rwth-aachen.de\">rllbc@dsme.rwth-aachen.de</a><br>\n",
    "</p>\n",
    "\n",
    "---\n",
    "TRPO Implementation\n",
    "\n",
    "Notebook Authors: Jyotirmaya Patra, Ramil Sabirov\n",
    "\n",
    "Adapted from: [Stable Baselines3 Contrib](https://github.com/Stable-Baselines-Team/stable-baselines3-contrib)\n",
    "\n",
    "Orignal Paper: [Trust Region Policy Optimization](https://arxiv.org/abs/1502.05477)\n",
    "\n",
    "Additional References:\n",
    "1. OpenAI SpinningUp:\n",
    "    * [Trust Region Policy Optimization](https://spinningup.openai.com/en/latest/algorithms/trpo.html)\n",
    "2. CS 285 at UC Berkeley:\n",
    "    * [Lecture 9: Advanced Policy Gradients](http://rail.eecs.berkeley.edu/deeprlcourse/static/slides/lec-9.pdf) (Lecture recordings also available on Youtube!)\n"
   ]
  },
  {
   "cell_type": "markdown",
   "id": "b5a83f6f-418b-4959-b725-9f4f32ecb319",
   "metadata": {},
   "source": [
    "## Library Imports"
   ]
  },
  {
   "cell_type": "code",
   "execution_count": 1,
   "id": "e818d134-4fcc-4756-aa73-0d236efd42d1",
   "metadata": {},
   "outputs": [],
   "source": [
    "import os\n",
    "import time\n",
    "import copy\n",
    "import random\n",
    "import warnings\n",
    "from datetime import datetime\n",
    "from functools import partial\n",
    "\n",
    "import numpy as np\n",
    "import matplotlib.pyplot as plt\n",
    "from tqdm import notebook\n",
    "from easydict import EasyDict as edict\n",
    "from IPython.display import Video\n",
    "\n",
    "import utils.helper_fns as hf\n",
    "\n",
    "import gym\n",
    "import wandb\n",
    "import torch\n",
    "import torch.nn as nn\n",
    "import torch.optim as optim\n",
    "from torch.distributions.categorical import Categorical\n",
    "\n",
    "\n",
    "os.environ['SDL_VIDEODRIVER'] = 'dummy'\n",
    "os.environ['WANDB_NOTEBOOK_NAME'] = 'trpo-simple-adv.ipynb'\n",
    "\n",
    "warnings.filterwarnings(\"ignore\", category=DeprecationWarning)\n",
    "\n",
    "plt.rcParams['figure.dpi'] = 100\n",
    "device = torch.device(\"cuda\" if torch.cuda.is_available() else \"cpu\")\n",
    "\n",
    "%load_ext autoreload\n",
    "%autoreload 2"
   ]
  },
  {
   "cell_type": "markdown",
   "id": "a97075de-2532-473e-af22-e6cb8c3035a5",
   "metadata": {},
   "source": [
    "## TRPO Specific Helper Functions\n",
    "\n",
    "Apart from the general helper functions in `/uitls/helper_fns.py` here you will find helper functions specific to TRPO. Here's a quick preview:\n",
    "1. `kl_divergence`: compute kl divergence between two pytorch distributions\n",
    "2. `compute_policy_grad`: compute gradients for kl div and surrogate objective wrt the policy parameters \n",
    "3. `hessian_vector_product`: computes the matrix-vector product with the Fisher information matrix.\n",
    "4. `conjugate_gradient_solver`: finds an approximate solution to a set of linear equations Ax = b"
   ]
  },
  {
   "cell_type": "code",
   "execution_count": 2,
   "id": "03865a9c-3ff9-4993-ba57-93096ae86478",
   "metadata": {},
   "outputs": [],
   "source": [
    "def kl_divergence(dist_true, dist_pred):\n",
    "    \"\"\"\n",
    "    Wrapper for the PyTorch implementation of the full form KL Divergence\n",
    "\n",
    "    :param dist_true: the p distribution\n",
    "    :param dist_pred: the q distribution\n",
    "    :return: KL(dist_true||dist_pred)\n",
    "    \"\"\"\n",
    "    return torch.distributions.kl_divergence(dist_true, dist_pred)\n",
    "\n",
    "\n",
    "def compute_policy_grad(actor, kl_div, policy_objective):\n",
    "    \"\"\"\n",
    "    Compute gradients for kl div and surrogate objective wrt the policy parameters\n",
    "    :param actor: actor model in agent\n",
    "    :param kl_div: The KL divergence objective\n",
    "    :param policy_objective: The surrogate advantage\n",
    "    :return: List of actor params, gradients and gradients shape.\n",
    "    \"\"\"\n",
    "    # Contains the gradients of surrogate advantage wrt to each policy parameters\n",
    "    policy_objective_gradients = []\n",
    "    # Contains gradients of the KL divergence wrt each policy parameter\n",
    "    grad_kl = []\n",
    "    # Save the shape of the gradients of the KL divergence w.r.t each policy parameter\n",
    "    # Will be used to unflatten the gradients into its original shape later in the training loop\n",
    "    grad_shape = []\n",
    "    # List of policy parameters\n",
    "    actor_params = []\n",
    "\n",
    "    for param in actor.parameters():\n",
    "        kl_param_grad, *_ = torch.autograd.grad(\n",
    "            kl_div,\n",
    "            param,\n",
    "            create_graph=True,\n",
    "            retain_graph=True,\n",
    "            allow_unused=True,\n",
    "            only_inputs=True\n",
    "        )\n",
    "\n",
    "        policy_objective_grad, *_ = torch.autograd.grad(\n",
    "            policy_objective,\n",
    "            param,\n",
    "            retain_graph=True,\n",
    "            only_inputs=True\n",
    "        )\n",
    "\n",
    "        grad_shape.append(kl_param_grad.shape)\n",
    "        grad_kl.append(kl_param_grad.reshape(-1))\n",
    "        policy_objective_gradients.append(policy_objective_grad.reshape(-1))\n",
    "        actor_params.append(param)\n",
    "\n",
    "    # Concatenate gradients before the conjugate gradient step\n",
    "    policy_objective_gradients = torch.cat(policy_objective_gradients)\n",
    "    grad_kl = torch.cat(grad_kl)\n",
    "    return actor_params, policy_objective_gradients, grad_kl, grad_shape\n",
    "\n",
    "\n",
    "def hessian_vector_product(params, grad_kl, cg_damping, vector, retain_graph=True):\n",
    "    \"\"\"\n",
    "    Computes the matrix-vector product with the Fisher information matrix.\n",
    "\n",
    "    :param params: list of parameters used to compute the Hessian\n",
    "    :param grad_kl: flattened gradient of the KL divergence between the old and new policy\n",
    "    :param vector: vector to compute the dot product the hessian-vector dot product with\n",
    "    :param retain_graph: if True, the graph will be kept after computing the Hessian\n",
    "    :return: Hessian-vector dot product (with damping)\n",
    "    \"\"\"\n",
    "    jacobian_vector_product = (grad_kl * vector).sum()\n",
    "\n",
    "    hessian_vector_product = torch.autograd.grad(\n",
    "        jacobian_vector_product,\n",
    "        params,\n",
    "        create_graph=False,\n",
    "        retain_graph=retain_graph,\n",
    "        allow_unused=True\n",
    "    )\n",
    "\n",
    "    hessian_vector_product_flattened = torch.cat([torch.ravel(grad) for grad in hessian_vector_product if grad is not None])\n",
    "    return hessian_vector_product_flattened + cg_damping * vector\n",
    "\n",
    "\n",
    "def conjugate_gradient_solver(matrix_vector_dot_fn, b, max_iter=10, residual_tol=1e-10):\n",
    "    \"\"\"\n",
    "    Finds an approximate solution to a set of linear equations Ax = b\n",
    "\n",
    "    Sources:\n",
    "     - https://github.com/ajlangley/trpo-pytorch/blob/master/conjugate_gradient.py\n",
    "     - https://github.com/joschu/modular_rl/blob/master/modular_rl/trpo.py#L122\n",
    "\n",
    "    Reference:\n",
    "     - https://epubs.siam.org/doi/abs/10.1137/1.9781611971446.ch6\n",
    "\n",
    "    :param matrix_vector_dot_fn:\n",
    "        a function that right multiplies a matrix A by a vector v\n",
    "    :param b:\n",
    "        the right hand term in the set of linear equations Ax = b\n",
    "    :param max_iter:\n",
    "        the maximum number of iterations (default is 10)\n",
    "    :param residual_tol:\n",
    "        residual tolerance for early stopping of the solving (default is 1e-10)\n",
    "    :return x:\n",
    "        the approximate solution to the system of equations defined by `matrix_vector_dot_fn`\n",
    "        and b\n",
    "    \"\"\"\n",
    "\n",
    "    # The vector is not initialized at 0 because of the instability issues when the gradient becomes small.\n",
    "    # Hence, a small random gaussian noise is used for the initialization.\n",
    "    x = 1e-4 * torch.randn_like(b)\n",
    "    residual = b - matrix_vector_dot_fn(x)\n",
    "    # Equivalent to th.linalg.norm(residual) ** 2 (L2 norm squared)\n",
    "    residual_squared_norm = torch.matmul(residual, residual)\n",
    "\n",
    "    if residual_squared_norm < residual_tol:\n",
    "        # If the gradient becomes extremely small\n",
    "        # The denominator in alpha will become zero\n",
    "        # Leading to a division by zero\n",
    "        return x\n",
    "\n",
    "    p = residual.clone()\n",
    "\n",
    "    for i in range(max_iter):\n",
    "        # A @ p (matrix vector multiplication)\n",
    "        A_dot_p = matrix_vector_dot_fn(p)\n",
    "\n",
    "        alpha = residual_squared_norm / p.dot(A_dot_p)\n",
    "        x += alpha * p\n",
    "\n",
    "        if i == max_iter - 1:\n",
    "            return x\n",
    "\n",
    "        residual -= alpha * A_dot_p\n",
    "        new_residual_squared_norm = torch.matmul(residual, residual)\n",
    "\n",
    "        if new_residual_squared_norm < residual_tol:\n",
    "            return x\n",
    "\n",
    "        beta = new_residual_squared_norm / residual_squared_norm\n",
    "        residual_squared_norm = new_residual_squared_norm\n",
    "        p = residual + beta * p\n",
    "    # Note: this return statement is only used when max_iter=0\n",
    "    return x"
   ]
  },
  {
   "cell_type": "markdown",
   "id": "0c56a7a7-bace-4ddc-8c90-93aa86d8ae69",
   "metadata": {
    "tags": []
   },
   "source": [
    "## Initializations"
   ]
  },
  {
   "cell_type": "markdown",
   "id": "a7705efc-11be-4fa7-8e1c-054bc3efbd7a",
   "metadata": {},
   "source": [
    "### Experiment\n",
    "\n",
    "We primarily use dictionaries for initializing experiment parameters and training hyperparameters. We use the `EasyDict` (imported as `edict`) library, which allows us to access dict values as attributes while retaining the operations and properties of the original python `dict`! [[Github Link](https://github.com/makinacorpus/easydict)]\n",
    "\n",
    "In this notebook we use a few `edicts` with `exp` being one of them. It is initialized in the following cell and has keys and values containing information about the experiment being run. Although initialized in this section, we keep adding new keys and values to the dict in the later sections as well.  \n",
    "\n",
    "This notebook supports gym environments with observation space of type `gym.spaces.Box` and action space of type `gym.spaces.Discrete`. Eg: Acrobot-v1, CartPole-v1, MountainCar-v0"
   ]
  },
  {
   "cell_type": "code",
   "execution_count": 3,
   "id": "468a56a4-7e93-4ec9-8bd8-de7efc02e2d9",
   "metadata": {},
   "outputs": [],
   "source": [
    "exp = edict()\n",
    "\n",
    "exp.exp_name = 'TRPO'  # algorithm name, in this case it should be 'PPO'\n",
    "exp.env_id = 'CartPole-v1'  # name of the gym environment to be used in this experiment. Eg: Acrobot-v1, CartPole-v1, MountainCar-v0\n",
    "exp.device = device.type  # save the device type used to load tensors and perform tensor operations\n",
    "\n",
    "exp.random_seed = True  # set random seed for reproducibility of python, numpy and torch\n",
    "exp.seed = 2\n",
    "\n",
    "# name of the project in Weights & Biases (wandb) to which logs are patched. (only if wandb logging is enabled)\n",
    "# if the project does not exist in wandb, it will be created automatically\n",
    "wandb_prj_name = f\"RLLBC_{exp.env_id}\"\n",
    "\n",
    "# name prefix of output files generated by the notebook\n",
    "exp.run_name = f\"{exp.env_id}__{exp.exp_name}__{exp.seed}__{datetime.now().strftime('%y%m%d_%H%M%S')}\"\n",
    "\n",
    "if exp.random_seed:\n",
    "    random.seed(exp.seed)\n",
    "    np.random.seed(exp.seed)\n",
    "    torch.manual_seed(exp.seed)\n",
    "    torch.backends.cudnn.deterministic = exp.random_seed"
   ]
  },
  {
   "cell_type": "markdown",
   "id": "e7685598-5e38-4124-bf7e-2c76faef0607",
   "metadata": {
    "tags": []
   },
   "source": [
    "### Rollout Buffer\n",
    "\n",
    "The second dictionary, `hypp`, is initialized in the following cell. It has keys and values containing the hyperparameters necessary to the algorithm. Similar to the `exp` dict, new keys and values are added to the `hypp` in the later sections. \n",
    "\n",
    "Define both `exp.num_envs` and `hypp.num_steps`.\n",
    "\n",
    "Initialize the multiple environments and run them in parallel using the `SyncVectorEnv` class from the gym library [More info: [Link](https://www.gymlibrary.dev/content/vectorising/)]. \n",
    "\n",
    "Next, create a rollout buffer based on the number of parallel envs `exp.num_envs` and the number of steps per env `hypp.num_steps`. It is later used to save episode trajectories during agent training. The buffer gets replaced with new trajectories at the beginning of every iteration of the training loop."
   ]
  },
  {
   "cell_type": "code",
   "execution_count": 4,
   "id": "4632173c-fb81-48fe-8378-d3ac93736c60",
   "metadata": {
    "tags": []
   },
   "outputs": [],
   "source": [
    "hypp = edict()\n",
    "\n",
    "exp.num_envs = 4  # number of parallel game environments\n",
    "hypp.num_steps = 128  # number of steps to run in each environment per policy rollout\n",
    "\n",
    "# Intialize vectorized gym evn\n",
    "envs = gym.vector.SyncVectorEnv([hf.make_env(exp.env_id, exp.seed + i) for i in range(exp.num_envs)])\n",
    "\n",
    "# RollOut Buffer Init\n",
    "observations = torch.zeros((hypp.num_steps, exp.num_envs) + envs.single_observation_space.shape).to(device)\n",
    "actions = torch.zeros((hypp.num_steps, exp.num_envs) + envs.single_action_space.shape).to(device)\n",
    "logprobs = torch.zeros((hypp.num_steps, exp.num_envs)).to(device)\n",
    "rewards = torch.zeros((hypp.num_steps, exp.num_envs)).to(device)\n",
    "dones = torch.zeros((hypp.num_steps, exp.num_envs)).to(device)\n",
    "values = torch.zeros((hypp.num_steps, exp.num_envs)).to(device)\n",
    "\n",
    "envs.close()"
   ]
  },
  {
   "cell_type": "markdown",
   "id": "5080f052-8cfd-47bb-83e8-772b8c22f780",
   "metadata": {},
   "source": [
    "### Agent Model Class\n",
    "\n",
    "The `Agent` class consists of a deep MLP value function called the `critic`, and a deep MLP policy called the `actor`, both learned during training. \n",
    "\n",
    "The class has three methods:\n",
    "1. `get_value` method evaluates the `critic` with a given observation (state) to obtain the learned estimate of the observation's value.\n",
    "2. `get_distribution` method first evaluates the `actor` to obtain the un-normalized probabilities of the actions, which is then used to create a categorical distribution over the actions.\n",
    "3. `get_action` method returns an action. The method first obtains the categorical distribution over actions the `actor` has learned. Then, if `greedy = True`, it returns the action with the highest probability else, an action sampled from the distribution.\n",
    "4. `get_action_and_value` method when given an observation, returns the action sampled from the probability distribution (if `action=None`), the respective action's log probability, and the estimate of the observation's value according to the `critic` network.\n",
    "\n",
    "The `actor` and `critic` networks in the `Agent` class make use of the `layer_init` function to implement ideas derived from [Engstrom, Ilyas, et al., (2020)](https://openreview.net/forum?id=r1etN1rtPB), and [Andrychowicz et al. (2021)](https://openreview.net/forum?id=nIAxjsniDzg). The former introduces the idea of orthogonal initialization of weights for tanh activation. In the latter paper, decision C57 shows that initializing the policy such that the action distribution is centered as zero gives better performance. This is done by initializing the `actor`'s output layer weights with 0.01 std. (see the final layer of `self.actor`)\n",
    "\n",
    "Note: observation and state mean the same in the context of this notebook"
   ]
  },
  {
   "cell_type": "code",
   "execution_count": 5,
   "id": "d0fff29a-690d-4dc8-bf2c-191243f98a2e",
   "metadata": {},
   "outputs": [],
   "source": [
    "def layer_init(layer, std=np.sqrt(2), bias_const=0.0):\n",
    "    torch.nn.init.orthogonal_(layer.weight, std)\n",
    "    torch.nn.init.constant_(layer.bias, bias_const)\n",
    "    return layer\n",
    "\n",
    "\n",
    "class Agent(nn.Module):\n",
    "    def __init__(self, envs):\n",
    "        super().__init__()\n",
    "        self.critic = nn.Sequential(\n",
    "            layer_init(nn.Linear(np.array(envs.single_observation_space.shape).prod(), 64)),\n",
    "            nn.Tanh(),\n",
    "            layer_init(nn.Linear(64, 64)),\n",
    "            nn.Tanh(),\n",
    "            layer_init(nn.Linear(64, 1), std=1.0),\n",
    "        )\n",
    "        self.actor = nn.Sequential(\n",
    "            layer_init(nn.Linear(np.array(envs.single_observation_space.shape).prod(), 64)),\n",
    "            nn.Tanh(),\n",
    "            layer_init(nn.Linear(64, 64)),\n",
    "            nn.Tanh(),\n",
    "            layer_init(nn.Linear(64, envs.single_action_space.n), std=0.01),\n",
    "        )\n",
    "\n",
    "    def get_value(self, x):\n",
    "        return self.critic(x)\n",
    "\n",
    "    def get_distribution(self, x):\n",
    "        logits = self.actor(x)\n",
    "        probs = Categorical(logits=logits)\n",
    "        return probs\n",
    "\n",
    "    def get_action(self, x, greedy=False):\n",
    "        distr = self.get_distribution(x)\n",
    "        action = distr.sample() if not greedy else distr.mode\n",
    "        return action\n",
    "\n",
    "    def get_action_and_value(self, x, action=None):\n",
    "        distr = self.get_distribution(x)\n",
    "        if action is None:\n",
    "            action = distr.sample()\n",
    "        return action, distr.log_prob(action), self.critic(x)"
   ]
  },
  {
   "cell_type": "markdown",
   "id": "08382f29-5bfb-4814-94ef-53d39db5cfea",
   "metadata": {
    "tags": []
   },
   "source": [
    "### Training Params & Agent Hyperparams\n",
    "\n",
    "The parameters and hyperparameters in this section are broadly categorized as below:\n",
    "1. Flags for logging: \n",
    "    - They are stored in the `exp` dict. \n",
    "    - This notebook uses tensorboard logging by deafult to log experiment metrics. These tb log files are saved in the directory `logs/<exp.exp_type>/<exp.run_name>/tb`. (to learn about `exp.exp_type` refer point 3. below)\n",
    "    - To enable logging of gym videos of the agent's interaction with the env set `exp.capture_video = True`\n",
    "    - Patch tensorboard logs and gym videos to Weigths & Biases (wandb) by setting `exp.enable_wandb_logging = True`\n",
    "2. Flags and parameters to generate average performance throughout training:\n",
    "    - Stored in the `exp` dict\n",
    "    - If `exp.eval_agent = True`, the performance of the agent during it's training is saved in the corresponding logs folder. You can later used this to compare the performance of your current agent with other agents during their training (in Section 1.5.2).\n",
    "    - Every `exp.eval_frequency` episodes the trained agent is evaluated using the `envs_eval` by playing out `exp.eval_count` episodes\n",
    "    - To speed up training set `exp.eval_agent = False` \n",
    "3. Create experiment hierarchy inside log folders:\n",
    "    - if `exp.exp_type` is None, experiment logs are saved to the root log directory `logs`, ie, `/logs/<exp.run_name>`, otherwise they are saved to the directory `logs/<exp.exp_type>/<exp._name>`\n",
    "4. Parameters and hyperparameters related to the algorithm:\n",
    "    - Stored in the `hypp` dict\n",
    "    - Quick reminder:  the `num_steps` key in the `hypp` dict is also a hyperparameter defined in Env & Rollout Buffer Init Section.\n",
    "\n",
    "Note: \n",
    "1. If Weigths and Biases (wandb) logging is enabled, when you run the \"Training The Agent\" cell, enter your wandb's api key when prompted. \n",
    "2. Training takes longer when either gym video recording or agent evaluation during training is enabled. To speed up training set both `exp.capture_video` and `exp.eval_agent` to `False`."
   ]
  },
  {
   "cell_type": "code",
   "execution_count": 6,
   "id": "72d426a0-fca1-4608-9ac7-31ceabd0b100",
   "metadata": {},
   "outputs": [],
   "source": [
    "# flags for logging purposes\n",
    "exp.enable_wandb_logging = True\n",
    "exp.capture_video = False  # disable to speed up training\n",
    "\n",
    "# flags to generate agent's average performance during training\n",
    "exp.eval_agent = True  # disable to speed up training\n",
    "exp.eval_count = 10\n",
    "exp.eval_frequency = 20\n",
    "exp.device = device.type\n",
    "\n",
    "# putting the run into the designated log folder for structuring\n",
    "exp.exp_type = None  # directory the run is saved to. Should be None or a string value\n",
    "\n",
    "# agent learning specific flags\n",
    "hypp.total_timesteps = 500000  # the training duration in number of time steps\n",
    "hypp.num_minibatches = 4  # number of minibatches for gradient updates\n",
    "hypp.update_epochs = 10  # only applies to critic updates in TRPO\n",
    "\n",
    "hypp.batch_size = int(exp.num_envs * hypp.num_steps)  # len of the rollout buffer\n",
    "hypp.minibatch_size = int(hypp.batch_size // hypp.num_minibatches)  # rollout buffer size / minibatch count\n",
    "\n",
    "hypp.learning_rate = 1e-3  # size of gradient update step\n",
    "hypp.anneal_lr = False  # when True reduces the learning rate as the training progresses\n",
    "hypp.gamma = 0.99  # discount factor over future rewards\n",
    "hypp.norm_adv = True\n",
    "hypp.cg_max_steps = 10                   # maximum number of steps in the Conjugate Gradient algorithm for computing the Hessian vector product\n",
    "hypp.cg_damping = 0.1                    # damping in the Hessian vector product computation\n",
    "hypp.line_search_shrinking_factor = 0.8  # step-size reduction factor for the line-search (i.e., `theta_new = theta + shrinking_factor^i * step`)\n",
    "hypp.line_search_max_iter = 10           # maximum number of iteration for the backtracking line-search\n",
    "hypp.target_kl = 0.01  # the target KL divergence threshold for the policy"
   ]
  },
  {
   "cell_type": "markdown",
   "id": "d3493918-2c78-4ea4-bd28-391141dc0b83",
   "metadata": {
    "tags": []
   },
   "source": [
    "## Training the Agent\n",
    "Before we begin training the agent we first initalize the logging (based on the repsective flags in the `exp` dict), object of the `Agent` class and the optimizer, followed by an inital set of observations. \n",
    "\n",
    "After that comes the main training loop which is comprised of:  \n",
    "1. learning rate annealing, \n",
    "2. collecting trajectories, ie, filling the rollout buffer with the actor's interaction with the environment,\n",
    "3. computing the advantage estimate $A^{\\pi_{\\theta_k}}$ and returns $G$ of the trajectories saved in the rollout buffer,\n",
    "4. Policy parameters update:\n",
    "    1. Computing the gradient of the surrogate objective wrt the policy parameters, ie, $g_k = \\nabla_{\\theta} L_{\\pi_{\\theta_{k}}}\\left(\\pi_\\theta\\right)|_{\\theta_{k}}$, where: \n",
    "    $$ L_{\\pi_{\\theta_{k}}}\\left(\\pi_\\theta\\right) = \\mathbb{E}_{s , a \\sim \\pi_{\\theta_{k}}} \\left[ \\frac{\\pi_\\theta(a|s)}{\\pi_{\\theta_{k}}(a|s)}A^{\\pi_{\\theta_k}}(s, a) \\right]$$\n",
    "    2. Computing the Hessian of KL Divergence (also called the Fisher Information Matrix) wrt to policy parameters, ie, $H_k ={\\nabla^2_\\theta} \\bar{D}_{KL}\\left(\\pi_{\\theta_{k}}, \\pi_{\\theta}\\right)$, where\n",
    "    $$\\bar{D}_{KL}\\left(\\pi_{\\theta_{k}}, \\pi_{\\theta}\\right) = \\mathbb{E}_{s \\sim \\pi_{\\theta_{k}}}\\left[D_{\\mathrm{KL}}\\left(\\pi_{\\theta_k}(\\cdot \\mid s) \\| \\pi_\\theta(\\cdot \\mid s)\\right)\\right]$$\n",
    "    3. Using the conjugate gradient algorithm to compute: $$ x_k \\approx H_k^{-1} g_k$$\n",
    "    4. Updating the policy by bracktracing line search with: $$\\theta_{k+1}=\\theta_k+\\alpha^j \\sqrt{\\frac{2 \\delta}{x_k^T H_k x_k}} x_k $$\n",
    "5. Critic network update:\n",
    "    1. Computing the value loss for critic network update, ie, $$L^{V}(s, \\theta) = \\left(V_{\\theta}(s)-G(s)\\right)^{2}$$\n",
    "    2. Perform gradient descent over the critic network `hypp.update_epochs` times wrt the value loss function $L^{V}$.\n",
    "    \n",
    "Post completion of the main training loop, we save a copy of the following in the directory `logs/<exp.exp_type>/<exp.run_name>`:\n",
    "1. `exp` and `hypp` dicts into a `.config` file \n",
    "2. `agent` (instance of `Agent` class) into a `.pt` file for later evaluation\n",
    "3. agent performance progress throughout training into a `.csv` file if `exp.eval_agent=True`\n",
    "\n",
    "\n",
    "Note: we have two vectorised gym environments, `envs` and `envs_eval` in the initalizations. `envs` is used to fill the rollout buffer with trajectories and `envs_eval` is used to evaluate the agent performance at different stages of training."
   ]
  },
  {
   "cell_type": "code",
   "execution_count": 7,
   "id": "4faadf6f-01ed-4318-8e21-fd41df1faa09",
   "metadata": {},
   "outputs": [
    {
     "name": "stderr",
     "output_type": "stream",
     "text": [
      "\u001b[34m\u001b[1mwandb\u001b[0m: Currently logged in as: \u001b[33mlukas-kesper98\u001b[0m. Use \u001b[1m`wandb login --relogin`\u001b[0m to force relogin\n"
     ]
    },
    {
     "data": {
      "text/html": [
       "wandb version 0.16.6 is available!  To upgrade, please run:\n",
       " $ pip install wandb --upgrade"
      ],
      "text/plain": [
       "<IPython.core.display.HTML object>"
      ]
     },
     "metadata": {},
     "output_type": "display_data"
    },
    {
     "data": {
      "text/html": [
       "Tracking run with wandb version 0.16.5"
      ],
      "text/plain": [
       "<IPython.core.display.HTML object>"
      ]
     },
     "metadata": {},
     "output_type": "display_data"
    },
    {
     "data": {
      "text/html": [
       "Run data is saved locally in <code>/Users/kesperlukas/Projects/RLLBC/deep_examples/notebooks/logs/wandb/run-20240412_142425-dg016uz9</code>"
      ],
      "text/plain": [
       "<IPython.core.display.HTML object>"
      ]
     },
     "metadata": {},
     "output_type": "display_data"
    },
    {
     "data": {
      "text/html": [
       "Syncing run <strong><a href='https://wandb.ai/lukas-kesper98/RLLBC_CartPole-v1/runs/dg016uz9/workspace' target=\"_blank\">CartPole-v1__TRPO__2__240412_142424</a></strong> to <a href='https://wandb.ai/lukas-kesper98/RLLBC_CartPole-v1' target=\"_blank\">Weights & Biases</a> (<a href='https://wandb.me/run' target=\"_blank\">docs</a>)<br/>"
      ],
      "text/plain": [
       "<IPython.core.display.HTML object>"
      ]
     },
     "metadata": {},
     "output_type": "display_data"
    },
    {
     "data": {
      "text/html": [
       " View project at <a href='https://wandb.ai/lukas-kesper98/RLLBC_CartPole-v1' target=\"_blank\">https://wandb.ai/lukas-kesper98/RLLBC_CartPole-v1</a>"
      ],
      "text/plain": [
       "<IPython.core.display.HTML object>"
      ]
     },
     "metadata": {},
     "output_type": "display_data"
    },
    {
     "data": {
      "text/html": [
       " View run at <a href='https://wandb.ai/lukas-kesper98/RLLBC_CartPole-v1/runs/dg016uz9/workspace' target=\"_blank\">https://wandb.ai/lukas-kesper98/RLLBC_CartPole-v1/runs/dg016uz9/workspace</a>"
      ],
      "text/plain": [
       "<IPython.core.display.HTML object>"
      ]
     },
     "metadata": {},
     "output_type": "display_data"
    },
    {
     "data": {
      "application/vnd.jupyter.widget-view+json": {
       "model_id": "e94deead99094e7694699cc2e1379688",
       "version_major": 2,
       "version_minor": 0
      },
      "text/plain": [
       "  0%|          | 0/976 [00:00<?, ?it/s]"
      ]
     },
     "metadata": {},
     "output_type": "display_data"
    },
    {
     "data": {
      "application/vnd.jupyter.widget-view+json": {
       "model_id": "",
       "version_major": 2,
       "version_minor": 0
      },
      "text/plain": [
       "VBox(children=(Label(value='0.724 MB of 0.724 MB uploaded\\r'), FloatProgress(value=1.0, max=1.0)))"
      ]
     },
     "metadata": {},
     "output_type": "display_data"
    },
    {
     "data": {
      "text/html": [
       " View run <strong style=\"color:#cdcd00\">CartPole-v1__TRPO__2__240412_142424</strong> at: <a href='https://wandb.ai/lukas-kesper98/RLLBC_CartPole-v1/runs/dg016uz9/workspace' target=\"_blank\">https://wandb.ai/lukas-kesper98/RLLBC_CartPole-v1/runs/dg016uz9/workspace</a><br/>Synced 5 W&B file(s), 0 media file(s), 2 artifact file(s) and 1 other file(s)"
      ],
      "text/plain": [
       "<IPython.core.display.HTML object>"
      ]
     },
     "metadata": {},
     "output_type": "display_data"
    }
   ],
   "source": [
    "# reinit run_name\n",
    "exp.run_name = f\"{exp.env_id}__{exp.exp_name}__{exp.seed}__{datetime.now().strftime('%y%m%d_%H%M%S')}\"\n",
    "\n",
    "# Init tensorboard logging and wandb logging\n",
    "writer = hf.setup_logging(wandb_prj_name, exp, hypp)\n",
    "\n",
    "# create two vectorized envs: one to fill the rollout buffer with trajectories, and\n",
    "# another to evaluate the agent performance at different stages of training  \n",
    "envs.close()\n",
    "envs = gym.vector.SyncVectorEnv([hf.make_env(exp.env_id, exp.seed + i) for i in range(exp.num_envs)])\n",
    "envs_eval = gym.vector.SyncVectorEnv([hf.make_env(exp.env_id, exp.seed + i) for i in range(exp.eval_count)])\n",
    "\n",
    "# init list to track agent's performance throughout training\n",
    "tracked_returns_over_training = []\n",
    "tracked_episode_len_over_training = []\n",
    "tracked_episode_count = []\n",
    "last_evaluated_episode = None  # stores the episode_step of when the agent's performance was last evaluated\n",
    "greedy_evaluation = False  # whether to perform the evaluation in a greedy way or not\n",
    "eval_max_return = -float('inf')\n",
    "\n",
    "# Create Agent class Instance and network optimizer\n",
    "agent = Agent(envs).to(device)\n",
    "optimizer = optim.Adam(agent.critic.parameters(), lr=hypp.learning_rate)\n",
    "\n",
    "# Init observation to start learning\n",
    "start_time = time.time()\n",
    "obs = torch.Tensor(envs.reset()).to(device)\n",
    "done = torch.zeros(exp.num_envs).to(device)\n",
    "num_updates = int(hypp.total_timesteps // hypp.batch_size)\n",
    "\n",
    "global_step = 0\n",
    "episode_step = 0\n",
    "gradient_step = 0\n",
    "\n",
    "pbar = notebook.tqdm(range(1, num_updates + 1))\n",
    "\n",
    "# training loop\n",
    "for update in pbar:\n",
    "    # Annealing the rate if instructed to do so.\n",
    "    if hypp.anneal_lr:\n",
    "        frac = 1.0 - (update - 1.0) / num_updates\n",
    "        lrnow = frac * hypp.learning_rate\n",
    "        optimizer.param_groups[0][\"lr\"] = lrnow\n",
    "\n",
    "    agent.eval()\n",
    "\n",
    "    # collect trajectories\n",
    "    for step in range(0, hypp.num_steps):\n",
    "        observations[step] = obs\n",
    "        dones[step] = done\n",
    "\n",
    "        # sample action and collect value from learned agent policy and value networks\n",
    "        with torch.no_grad():\n",
    "            action, logprob, value = agent.get_action_and_value(obs)\n",
    "            values[step] = value.flatten()\n",
    "        actions[step] = action\n",
    "        logprobs[step] = logprob\n",
    "\n",
    "        # execute the game and log data.\n",
    "        next_obs, reward, done, infos = envs.step(action.cpu().numpy())\n",
    "\n",
    "        for idx, info in enumerate(infos):\n",
    "            agent.eval()\n",
    "            # bootstrap value of the observation when done is true and the episode is truncated\n",
    "            if (\n",
    "                done[idx]\n",
    "                and info.get(\"terminal_observation\") is not None\n",
    "                and info.get(\"TimeLimit.truncated\", False)\n",
    "               ):\n",
    "                terminal_obs = torch.tensor(info[\"terminal_observation\"]).to(device)\n",
    "                with torch.no_grad():\n",
    "                    terminal_value = agent.get_value(terminal_obs)\n",
    "                reward[idx] += hypp.gamma * terminal_value\n",
    "\n",
    "            # log episode return and length to tensorboard\n",
    "            if \"episode\" in info.keys():\n",
    "                episode_step += 1\n",
    "                pbar.set_description(f\"global_step={global_step}, episodic_return={info['episode']['r']}\")\n",
    "                writer.add_scalar(\"rollout/episodic_return\", info[\"episode\"][\"r\"], global_step+idx)\n",
    "                writer.add_scalar(\"rollout/episodic_length\", info[\"episode\"][\"l\"], global_step+idx)\n",
    "                writer.add_scalar(\"Charts/episode_step\", episode_step, global_step)\n",
    "                writer.add_scalar(\"Charts/gradient_step\", gradient_step, global_step)\n",
    "\n",
    "        rewards[step] = torch.tensor(reward).to(device).view(-1)\n",
    "        next_obs, done = torch.Tensor(next_obs).to(device), torch.Tensor(done).to(device)\n",
    "\n",
    "        global_step += 1 * exp.num_envs\n",
    "        obs = next_obs\n",
    "\n",
    "        # generate average performance statistics of current learned agent\n",
    "        if exp.eval_agent and episode_step % exp.eval_frequency == 0 and last_evaluated_episode != episode_step:\n",
    "            last_evaluated_episode = episode_step\n",
    "            tracked_return, tracked_episode_len = hf.evaluate_agent(envs_eval, agent, exp.eval_count, exp.seed, greedy_actor=greedy_evaluation)\n",
    "            tracked_returns_over_training.append(tracked_return)\n",
    "            tracked_episode_len_over_training.append(tracked_episode_len)\n",
    "            tracked_episode_count.append([episode_step, global_step])\n",
    "\n",
    "            # if there has been improvment of the model -\n",
    "            if np.mean(tracked_return) > eval_max_return:\n",
    "                eval_max_return = np.mean(tracked_return)\n",
    "                # call helper function save_and_log_agent to save model, create video, log video to wandb\n",
    "                hf.save_and_log_agent(exp, agent, episode_step, greedy=greedy_evaluation, print_path=False)\n",
    "\n",
    "    next_done = done\n",
    "    agent.train()\n",
    "\n",
    "    # calculate advantages and returns\n",
    "    with torch.no_grad():\n",
    "        next_value = agent.get_value(next_obs).reshape(1, -1)\n",
    "        advantages = torch.zeros_like(rewards).to(device)\n",
    "        returns = torch.zeros_like(rewards).to(device)\n",
    "        for t in reversed(range(hypp.num_steps)):\n",
    "            if t == hypp.num_steps - 1:\n",
    "                nextnonterminal = 1.0 - next_done\n",
    "                returns[t] = rewards[t] + hypp.gamma * next_value * nextnonterminal\n",
    "            else:\n",
    "                nextnonterminal = 1.0 - dones[t + 1]\n",
    "                returns[t] = rewards[t] + hypp.gamma * returns[t+1] * nextnonterminal\n",
    "        advantages = returns - values\n",
    "\n",
    "    # flatten the batch\n",
    "    b_observations = observations.reshape((-1,) + envs.single_observation_space.shape)\n",
    "    b_logprobs = logprobs.reshape(-1)\n",
    "    b_actions = actions.reshape((-1,) + envs.single_action_space.shape)\n",
    "    b_advantages = advantages.reshape(-1)\n",
    "    b_returns = returns.reshape(-1)\n",
    "    b_values = values.reshape(-1)\n",
    "\n",
    "    with torch.no_grad():\n",
    "        old_distribution = copy.copy(agent.get_distribution(b_observations))\n",
    "\n",
    "    distribution = agent.get_distribution(b_observations)\n",
    "    log_prob = distribution.log_prob(b_actions)\n",
    "\n",
    "    if hypp.norm_adv:\n",
    "        b_advantages = (b_advantages - b_advantages.mean()) / (b_advantages.std() + 1e-8)\n",
    "\n",
    "    # ratio between old and new policy, should be one at the start of each iteration\n",
    "    ratio = torch.exp(log_prob - b_logprobs)\n",
    "\n",
    "    # compute the surrogate advantage\n",
    "    policy_objective = (b_advantages * ratio).mean()\n",
    "\n",
    "    # KL Divergence\n",
    "    kl_div = kl_divergence(distribution, old_distribution).mean()\n",
    "\n",
    "    # Compute the gradient of the surroagate advantage and the kl divergence wrt to the policy network parameters\n",
    "    optimizer.zero_grad()\n",
    "    actor_params, policy_objective_gradients, grad_kl, grad_shape = compute_policy_grad(agent.actor, kl_div,\n",
    "                                                                                        policy_objective)\n",
    "\n",
    "    # Compute search_direction, ie ${H^-1}.{g}$, using the conjugate gradient method\n",
    "    hessian_vector_product_fn = partial(hessian_vector_product, actor_params, grad_kl, hypp.cg_damping)\n",
    "\n",
    "    search_direction = conjugate_gradient_solver(\n",
    "        hessian_vector_product_fn,\n",
    "        policy_objective_gradients,\n",
    "        max_iter=hypp.cg_max_steps\n",
    "    )\n",
    "\n",
    "    line_search_max_step_size = 2 * hypp.target_kl\n",
    "    line_search_max_step_size /= torch.matmul(\n",
    "        search_direction, hessian_vector_product_fn(search_direction, retain_graph=False)\n",
    "    )\n",
    "    line_search_max_step_size = torch.sqrt(line_search_max_step_size)\n",
    "\n",
    "    line_search_backtrack_coeff = 1.0\n",
    "    original_actor_params = [param.detach().clone() for param in actor_params]\n",
    "\n",
    "    policy_objective_values = []  # average value of the surrogate advantage\n",
    "    kl_divergences = []  # average KL-divergence between policies across states visited by the old policy\n",
    "\n",
    "    is_line_search_success = False\n",
    "    with torch.no_grad():\n",
    "        # update policy parameters by backtracking line-search\n",
    "        for _ in range(hypp.line_search_max_iter):\n",
    "\n",
    "            start_idx = 0\n",
    "            # Applying the scaled step direction\n",
    "            for param, original_param, shape in zip(actor_params, original_actor_params, grad_shape):\n",
    "                n_params = param.numel()\n",
    "                param.data = (\n",
    "                        original_param.data\n",
    "                        + line_search_backtrack_coeff\n",
    "                        * line_search_max_step_size\n",
    "                        * search_direction[start_idx: (start_idx + n_params)].view(shape)\n",
    "                )\n",
    "                start_idx += n_params\n",
    "\n",
    "            # Recomputing the policy log-probabilities\n",
    "            distribution = agent.get_distribution(b_observations)\n",
    "            log_prob = distribution.log_prob(b_actions)\n",
    "\n",
    "            # New policy objective\n",
    "            ratio = torch.exp(log_prob - b_logprobs)\n",
    "            new_policy_objective = (b_advantages * ratio).mean()\n",
    "\n",
    "            # New KL-divergence\n",
    "            kl_div = kl_divergence(distribution, old_distribution).mean()\n",
    "\n",
    "            # Constraint criteria:\n",
    "            # we need to improve the surrogate policy objective\n",
    "            # while being close enough (in terms of kl div) to the old policy\n",
    "            if (kl_div < hypp.target_kl) and (new_policy_objective > policy_objective):\n",
    "                is_line_search_success = True\n",
    "                break\n",
    "\n",
    "            # Reducing step size if line-search wasn't successful\n",
    "            line_search_backtrack_coeff *= hypp.line_search_shrinking_factor\n",
    "\n",
    "        if not is_line_search_success:\n",
    "            # If the line-search wasn't successful we revert to the original parameters\n",
    "            for param, original_param in zip(actor_params, original_actor_params):\n",
    "                param.data = original_param.data.clone()\n",
    "\n",
    "            policy_objective_values = policy_objective.item()\n",
    "            kl_divergences = 0\n",
    "        else:\n",
    "            policy_objective_values = new_policy_objective.item()\n",
    "            kl_divergences = kl_div.item()\n",
    "\n",
    "    b_inds = np.arange(hypp.batch_size)\n",
    "\n",
    "    value_losses = []\n",
    "\n",
    "    # update the critic network\n",
    "    for i in range(hypp.update_epochs):\n",
    "        np.random.shuffle(b_inds)\n",
    "        for start in range(0, hypp.batch_size, hypp.minibatch_size):\n",
    "            end = start + hypp.minibatch_size\n",
    "            mb_inds = b_inds[start:end]\n",
    "\n",
    "            newvals = agent.get_value(b_observations[mb_inds])\n",
    "            newvals = newvals.view(-1)\n",
    "\n",
    "            v_loss = 0.5 * ((newvals - b_returns[mb_inds]) ** 2).mean()\n",
    "\n",
    "            optimizer.zero_grad()\n",
    "            v_loss.backward()\n",
    "            optimizer.step()\n",
    "\n",
    "            value_losses.append(v_loss.item())\n",
    "            gradient_step += 1\n",
    "\n",
    "    y_pred, y_true = b_values.cpu().numpy(), b_returns.cpu().numpy()\n",
    "    var_y = np.var(y_true)\n",
    "    explained_var = np.nan if var_y == 0 else 1 - np.var(y_true - y_pred) / var_y\n",
    "\n",
    "    # log losses to tensorboard summary writer\n",
    "    writer.add_scalar(\"hyperparameters/learning_rate\", optimizer.param_groups[0][\"lr\"], global_step)\n",
    "    writer.add_scalar(\"train/value_loss\", np.mean(value_losses), global_step)\n",
    "    writer.add_scalar(\"train/kl_divergence\", kl_divergences, global_step)\n",
    "    writer.add_scalar(\"train/explained_variance\", explained_var, global_step)\n",
    "    writer.add_scalar(\"train/is_line_search_success\", int(is_line_search_success), global_step)\n",
    "    writer.add_scalar(\"train/surrogate_objective\", policy_objective_values, global_step)\n",
    "    writer.add_scalar(\"Charts/episode_step\", episode_step, global_step)\n",
    "    writer.add_scalar(\"Charts/gradient_step\", gradient_step, global_step)\n",
    "\n",
    "# one last evaluation stage\n",
    "if exp.eval_agent:\n",
    "    last_evaluated_episode = episode_step\n",
    "    tracked_return, tracked_episode_len = hf.evaluate_agent(envs_eval, agent, exp.eval_count, exp.seed, greedy_actor=greedy_evaluation)\n",
    "    tracked_returns_over_training.append(tracked_return)\n",
    "    tracked_episode_len_over_training.append(tracked_episode_len)\n",
    "    tracked_episode_count.append([episode_step, global_step])\n",
    "\n",
    "    # if there has been improvment of the model -\n",
    "    if np.mean(tracked_return) > eval_max_return:\n",
    "        eval_max_return = np.mean(tracked_return)\n",
    "        # call helper function save_and_log_agent to save model, create video, log video to wandb\n",
    "        hf.save_and_log_agent(exp, agent, episode_step, greedy=greedy_evaluation, print_path=True)\n",
    "\n",
    "    hf.save_tracked_values(tracked_returns_over_training, tracked_episode_len_over_training, tracked_episode_count, exp.eval_count, exp.run_name, exp.exp_type)\n",
    "\n",
    "envs.close()\n",
    "envs_eval.close()\n",
    "writer.close()\n",
    "if wandb.run is not None:\n",
    "    wandb.finish(quiet=True)\n",
    "    wandb.init(mode=\"disabled\")\n",
    "\n",
    "hf.save_train_config_to_yaml(exp, hypp)"
   ]
  },
  {
   "cell_type": "markdown",
   "id": "74e2408a-aeea-4c1f-800c-5067bdd305e4",
   "metadata": {
    "tags": []
   },
   "source": [
    "## Compare Trained Agents and Display Behaviour"
   ]
  },
  {
   "cell_type": "markdown",
   "id": "4b0f1482-cf6b-4a95-b64a-c0d8e8626a30",
   "metadata": {
    "tags": []
   },
   "source": [
    "### Display Trained Agent Behaviour\n",
    "\n",
    "Set `agent_name` and `agent_exp_type` to load the saved agent model in the respective log folder and generate a video of the agent's interaction with the gym environment. After the cell is executed, you should see a video embedding as output, and the video is also available in the following directory: `/logs/<exp.exp_type>/<exp.run_name>/videos` "
   ]
  },
  {
   "cell_type": "code",
   "execution_count": 8,
   "id": "7419ed1c-cfb3-4e86-be95-e418a3ffe51d",
   "metadata": {},
   "outputs": [
    {
     "data": {
      "text/html": [
       "<video loop autoplay  >\n",
       " <source src=\"data:video/mp4;base64,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\" type=\"video/mp4\">\n",
       " Your browser does not support the video tag.\n",
       " </video>"
      ],
      "text/plain": [
       "<IPython.core.display.Video object>"
      ]
     },
     "execution_count": 8,
     "metadata": {},
     "output_type": "execute_result"
    }
   ],
   "source": [
    "agent_name = exp.run_name\n",
    "agent_exp_type = exp.exp_type  # both are needed to identify the agent location\n",
    "\n",
    "\n",
    "exp_folder = \"\" if agent_exp_type is None else agent_exp_type\n",
    "filepath, _ = hf.create_folder_relative(f\"{exp_folder}/{agent_name}/videos\")\n",
    "\n",
    "hf.record_video(exp.env_id, agent_name, f\"{filepath}/best.mp4\", exp_type=agent_exp_type, greedy=True)\n",
    "Video(data=f\"{filepath}/best.mp4\", html_attributes='loop autoplay', embed=True)"
   ]
  },
  {
   "cell_type": "markdown",
   "id": "015ae10e-2713-4f25-a07f-b925d01c4461",
   "metadata": {
    "tags": []
   },
   "source": [
    "### Compare Performance of Agents During Training\n",
    "\n",
    "During the training loop, if `exp.eval_agent = True`, the performance progress of the agent during its training is saved as a csv file. To compare the saved progress of different agents, create a `dict` containing the parent folder's name of each of the csv files and use the helper function `plotter_agents_training_stats`.\n",
    "\n",
    "To load the data, you can either set `eval_params.run_name00 = exp.run_name` (if only a `tracked_performance_training.csv` file for the corresponding `exp.run_name` exists) or manually enter the folder name containing the csv file. \n",
    "\n",
    "If the agent performance you want to load is inside an exp_type folder, set `eval_params.exp_type00` to experiment type, and if not, set it to `None`. \n",
    "\n",
    "You can add more than one experiment by initializing dict keys and values of the format `eval_params.run_namexx` and `eval_params.exp_typexx`."
   ]
  },
  {
   "cell_type": "code",
   "execution_count": 9,
   "id": "1ffead0b-a7a3-4062-8c93-5b209c63e43e",
   "metadata": {
    "tags": []
   },
   "outputs": [
    {
     "data": {
      "image/png": "[encoded data removed]",
      "text/plain": [
       "<Figure size 1400x300 with 2 Axes>"
      ]
     },
     "metadata": {},
     "output_type": "display_data"
    }
   ],
   "source": [
    "eval_params = edict()  # eval_params - evaluation settings for trained agent\n",
    "\n",
    "eval_params.run_name00 = exp.run_name\n",
    "eval_params.exp_type00 = exp.exp_type\n",
    "\n",
    "# eval_params.run_name01 = \"CartPole-v1__PPO__1__230323_224300\"\n",
    "# eval_params.exp_type01 = None \n",
    "\n",
    "# eval_params.run_name02 = \"CartPole-v1__PPO__1__230302_221245\"\n",
    "# eval_params.exp_type02 = None\n",
    "\n",
    "agent_labels = []\n",
    "\n",
    "episode_axis_limit = None\n",
    "\n",
    "hf.plotter_agents_training_stats(eval_params, agent_labels, episode_axis_limit, plot_returns=True, plot_episode_len=True)"
   ]
  },
  {
   "cell_type": "markdown",
   "id": "dc26b1fa-7c14-4bc0-8183-e59450f5d021",
   "metadata": {
    "tags": []
   },
   "source": [
    "## TensorBoard Inline"
   ]
  },
  {
   "cell_type": "code",
   "execution_count": 10,
   "id": "8abce1b0-018f-4761-954d-8015bbda779b",
   "metadata": {
    "tags": []
   },
   "outputs": [],
   "source": [
    "# %load_ext tensorboard\n",
    "# %tensorboard --logdir logs --host localhost"
   ]
  }
 ],
 "metadata": {
  "kernelspec": {
   "display_name": "Python 3 (ipykernel)",
   "language": "python",
   "name": "python3"
  },
  "language_info": {
   "codemirror_mode": {
    "name": "ipython",
    "version": 3
   },
   "file_extension": ".py",
   "mimetype": "text/x-python",
   "name": "python",
   "nbconvert_exporter": "python",
   "pygments_lexer": "ipython3",
   "version": "3.10.8"
  },
  "toc-autonumbering": true,
  "widgets": {
   "application/vnd.jupyter.widget-state+json": {
    "state": {},
    "version_major": 2,
    "version_minor": 0
   }
  }
 },
 "nbformat": 4,
 "nbformat_minor": 5
}
