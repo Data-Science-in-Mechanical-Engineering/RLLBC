{
 "cells": [
  {
   "cell_type": "markdown",
   "id": "f0a5f846-de2e-4db3-acf7-9073fd61d8c1",
   "metadata": {},
   "source": [
    "![DSME-logo](./static/DSME_logo.png)\n",
    "\n",
    "#  Reinforcement Learning and Learning-based Control\n",
    "\n",
    "<p style=\"font-size:12pt\";> \n",
    "<b> Prof. Dr. Sebastian Trimpe, Dr. Friedrich Solowjow </b><br>\n",
    "<b> Institute for Data Science in Mechanical Engineering (DSME) </b><br>\n",
    "<a href = \"mailto:rllbc@dsme.rwth-aachen.de\">rllbc@dsme.rwth-aachen.de</a><br>\n",
    "</p>\n",
    "\n",
    "---\n",
    "TRPO Implementation\n",
    "\n",
    "Notebook Authors: Jyotirmaya Patra, Ramil Sabirov\n",
    "\n",
    "Adapted from: [Stable Baselines3 Contrib](https://github.com/Stable-Baselines-Team/stable-baselines3-contrib)\n",
    "\n",
    "Orignal Paper: [Trust Region Policy Optimization](https://arxiv.org/abs/1502.05477)\n",
    "\n",
    "Additional References:\n",
    "1. OpenAI SpinningUp:\n",
    "    * [Trust Region Policy Optimization](https://spinningup.openai.com/en/latest/algorithms/trpo.html)\n",
    "2. CS 285 at UC Berkeley:\n",
    "    * [Lecture 9: Advanced Policy Gradients](http://rail.eecs.berkeley.edu/deeprlcourse/static/slides/lec-9.pdf) (Lecture recordings also available on Youtube!)\n"
   ]
  },
  {
   "cell_type": "markdown",
   "id": "b5a83f6f-418b-4959-b725-9f4f32ecb319",
   "metadata": {},
   "source": [
    "## Library Imports"
   ]
  },
  {
   "cell_type": "code",
   "execution_count": 1,
   "id": "e818d134-4fcc-4756-aa73-0d236efd42d1",
   "metadata": {},
   "outputs": [],
   "source": [
    "import os\n",
    "import time\n",
    "import copy\n",
    "import random\n",
    "from datetime import datetime\n",
    "from functools import partial\n",
    "\n",
    "import numpy as np\n",
    "import matplotlib.pyplot as plt\n",
    "from tqdm import notebook\n",
    "from easydict import EasyDict as edict\n",
    "from IPython.display import Video\n",
    "\n",
    "import utils.helper_fns as hf\n",
    "\n",
    "import gymnasium as gym\n",
    "import wandb\n",
    "import torch\n",
    "import torch.nn as nn\n",
    "import torch.optim as optim\n",
    "from torch.distributions.categorical import Categorical\n",
    "\n",
    "\n",
    "os.environ['SDL_VIDEODRIVER'] = 'dummy'\n",
    "os.environ['WANDB_NOTEBOOK_NAME'] = 'trpo-simple-adv.ipynb'\n",
    "\n",
    "plt.rcParams['figure.dpi'] = 100\n",
    "device = torch.device(\"cuda\" if torch.cuda.is_available() else \"cpu\")\n",
    "\n",
    "%load_ext autoreload\n",
    "%autoreload 2"
   ]
  },
  {
   "cell_type": "markdown",
   "id": "a97075de-2532-473e-af22-e6cb8c3035a5",
   "metadata": {},
   "source": [
    "## TRPO Specific Helper Functions\n",
    "\n",
    "Apart from the general helper functions in `/uitls/helper_fns.py` here you will find helper functions specific to TRPO. Here's a quick preview:\n",
    "1. `kl_divergence`: compute kl divergence between two pytorch distributions\n",
    "2. `compute_policy_grad`: compute gradients for kl div and surrogate objective wrt the policy parameters \n",
    "3. `hessian_vector_product`: computes the matrix-vector product with the Fisher information matrix.\n",
    "4. `conjugate_gradient_solver`: finds an approximate solution to a set of linear equations Ax = b"
   ]
  },
  {
   "cell_type": "code",
   "execution_count": 2,
   "id": "03865a9c-3ff9-4993-ba57-93096ae86478",
   "metadata": {},
   "outputs": [],
   "source": [
    "def kl_divergence(dist_true, dist_pred):\n",
    "    \"\"\"\n",
    "    Wrapper for the PyTorch implementation of the full form KL Divergence\n",
    "\n",
    "    :param dist_true: the p distribution\n",
    "    :param dist_pred: the q distribution\n",
    "    :return: KL(dist_true||dist_pred)\n",
    "    \"\"\"\n",
    "    return torch.distributions.kl_divergence(dist_true, dist_pred)\n",
    "\n",
    "\n",
    "def compute_policy_grad(actor, kl_div, policy_objective):\n",
    "    \"\"\"\n",
    "    Compute gradients for kl div and surrogate objective wrt the policy parameters\n",
    "    :param actor: actor model in agent\n",
    "    :param kl_div: The KL divergence objective\n",
    "    :param policy_objective: The surrogate advantage\n",
    "    :return: List of actor params, gradients and gradients shape.\n",
    "    \"\"\"\n",
    "    # Contains the gradients of surrogate advantage wrt to each policy parameters\n",
    "    policy_objective_gradients = []\n",
    "    # Contains gradients of the KL divergence wrt each policy parameter\n",
    "    grad_kl = []\n",
    "    # Save the shape of the gradients of the KL divergence w.r.t each policy parameter\n",
    "    # Will be used to unflatten the gradients into its original shape later in the training loop\n",
    "    grad_shape = []\n",
    "    # List of policy parameters\n",
    "    actor_params = []\n",
    "\n",
    "    for param in actor.parameters():\n",
    "        kl_param_grad, *_ = torch.autograd.grad(\n",
    "            kl_div,\n",
    "            param,\n",
    "            create_graph=True,\n",
    "            retain_graph=True,\n",
    "            allow_unused=True,\n",
    "            only_inputs=True\n",
    "        )\n",
    "\n",
    "        policy_objective_grad, *_ = torch.autograd.grad(\n",
    "            policy_objective,\n",
    "            param,\n",
    "            retain_graph=True,\n",
    "            only_inputs=True\n",
    "        )\n",
    "\n",
    "        grad_shape.append(kl_param_grad.shape)\n",
    "        grad_kl.append(kl_param_grad.reshape(-1))\n",
    "        policy_objective_gradients.append(policy_objective_grad.reshape(-1))\n",
    "        actor_params.append(param)\n",
    "\n",
    "    # Concatenate gradients before the conjugate gradient step\n",
    "    policy_objective_gradients = torch.cat(policy_objective_gradients)\n",
    "    grad_kl = torch.cat(grad_kl)\n",
    "    return actor_params, policy_objective_gradients, grad_kl, grad_shape\n",
    "\n",
    "\n",
    "def hessian_vector_product(params, grad_kl, cg_damping, vector, retain_graph=True):\n",
    "    \"\"\"\n",
    "    Computes the matrix-vector product with the Fisher information matrix.\n",
    "\n",
    "    :param params: list of parameters used to compute the Hessian\n",
    "    :param grad_kl: flattened gradient of the KL divergence between the old and new policy\n",
    "    :param vector: vector to compute the dot product the hessian-vector dot product with\n",
    "    :param retain_graph: if True, the graph will be kept after computing the Hessian\n",
    "    :return: Hessian-vector dot product (with damping)\n",
    "    \"\"\"\n",
    "    jacobian_vector_product = (grad_kl * vector).sum()\n",
    "\n",
    "    hessian_vector_product = torch.autograd.grad(\n",
    "        jacobian_vector_product,\n",
    "        params,\n",
    "        create_graph=False,\n",
    "        retain_graph=retain_graph,\n",
    "        allow_unused=True\n",
    "    )\n",
    "\n",
    "    hessian_vector_product_flattened = torch.cat([torch.ravel(grad) for grad in hessian_vector_product if grad is not None])\n",
    "    return hessian_vector_product_flattened + cg_damping * vector\n",
    "\n",
    "\n",
    "def conjugate_gradient_solver(matrix_vector_dot_fn, b, max_iter=10, residual_tol=1e-10):\n",
    "    \"\"\"\n",
    "    Finds an approximate solution to a set of linear equations Ax = b\n",
    "\n",
    "    Sources:\n",
    "     - https://github.com/ajlangley/trpo-pytorch/blob/master/conjugate_gradient.py\n",
    "     - https://github.com/joschu/modular_rl/blob/master/modular_rl/trpo.py#L122\n",
    "\n",
    "    Reference:\n",
    "     - https://epubs.siam.org/doi/abs/10.1137/1.9781611971446.ch6\n",
    "\n",
    "    :param matrix_vector_dot_fn:\n",
    "        a function that right multiplies a matrix A by a vector v\n",
    "    :param b:\n",
    "        the right hand term in the set of linear equations Ax = b\n",
    "    :param max_iter:\n",
    "        the maximum number of iterations (default is 10)\n",
    "    :param residual_tol:\n",
    "        residual tolerance for early stopping of the solving (default is 1e-10)\n",
    "    :return x:\n",
    "        the approximate solution to the system of equations defined by `matrix_vector_dot_fn`\n",
    "        and b\n",
    "    \"\"\"\n",
    "\n",
    "    # The vector is not initialized at 0 because of the instability issues when the gradient becomes small.\n",
    "    # Hence, a small random gaussian noise is used for the initialization.\n",
    "    x = 1e-4 * torch.randn_like(b)\n",
    "    residual = b - matrix_vector_dot_fn(x)\n",
    "    # Equivalent to th.linalg.norm(residual) ** 2 (L2 norm squared)\n",
    "    residual_squared_norm = torch.matmul(residual, residual)\n",
    "\n",
    "    if residual_squared_norm < residual_tol:\n",
    "        # If the gradient becomes extremely small\n",
    "        # The denominator in alpha will become zero\n",
    "        # Leading to a division by zero\n",
    "        return x\n",
    "\n",
    "    p = residual.clone()\n",
    "\n",
    "    for i in range(max_iter):\n",
    "        # A @ p (matrix vector multiplication)\n",
    "        A_dot_p = matrix_vector_dot_fn(p)\n",
    "\n",
    "        alpha = residual_squared_norm / p.dot(A_dot_p)\n",
    "        x += alpha * p\n",
    "\n",
    "        if i == max_iter - 1:\n",
    "            return x\n",
    "\n",
    "        residual -= alpha * A_dot_p\n",
    "        new_residual_squared_norm = torch.matmul(residual, residual)\n",
    "\n",
    "        if new_residual_squared_norm < residual_tol:\n",
    "            return x\n",
    "\n",
    "        beta = new_residual_squared_norm / residual_squared_norm\n",
    "        residual_squared_norm = new_residual_squared_norm\n",
    "        p = residual + beta * p\n",
    "    # Note: this return statement is only used when max_iter=0\n",
    "    return x"
   ]
  },
  {
   "cell_type": "markdown",
   "id": "0c56a7a7-bace-4ddc-8c90-93aa86d8ae69",
   "metadata": {
    "tags": []
   },
   "source": [
    "## Initializations"
   ]
  },
  {
   "cell_type": "markdown",
   "id": "a7705efc-11be-4fa7-8e1c-054bc3efbd7a",
   "metadata": {},
   "source": [
    "### Experiment\n",
    "\n",
    "We primarily use dictionaries for initializing experiment parameters and training hyperparameters. We use the `EasyDict` (imported as `edict`) library, which allows us to access dict values as attributes while retaining the operations and properties of the original python `dict`! [[Github Link](https://github.com/makinacorpus/easydict)]\n",
    "\n",
    "In this notebook we use a few `edicts` with `exp` being one of them. It is initialized in the following cell and has keys and values containing information about the experiment being run. Although initialized in this section, we keep adding new keys and values to the dict in the later sections as well.  \n",
    "\n",
    "This notebook supports gym environments with observation space of type `gym.spaces.Box` and action space of type `gym.spaces.Discrete`. Eg: Acrobot-v1, CartPole-v1, MountainCar-v0"
   ]
  },
  {
   "cell_type": "code",
   "execution_count": 3,
   "id": "468a56a4-7e93-4ec9-8bd8-de7efc02e2d9",
   "metadata": {},
   "outputs": [],
   "source": [
    "exp = edict()\n",
    "\n",
    "exp.exp_name = 'TRPO'  # algorithm name, in this case it should be 'PPO'\n",
    "exp.env_id = 'CartPole-v1'  # name of the gym environment to be used in this experiment. Eg: Acrobot-v1, CartPole-v1, MountainCar-v0\n",
    "exp.device = device.type  # save the device type used to load tensors and perform tensor operations\n",
    "\n",
    "exp.random_seed = True  # set random seed for reproducibility of python, numpy and torch\n",
    "exp.seed = 2\n",
    "\n",
    "# name of the project in Weights & Biases (wandb) to which logs are patched. (only if wandb logging is enabled)\n",
    "# if the project does not exist in wandb, it will be created automatically\n",
    "wandb_prj_name = f\"RLLBC_{exp.env_id}\"\n",
    "\n",
    "# name prefix of output files generated by the notebook\n",
    "exp.run_name = f\"{exp.env_id}__{exp.exp_name}__{exp.seed}__{datetime.now().strftime('%y%m%d_%H%M%S')}\"\n",
    "\n",
    "if exp.random_seed:\n",
    "    random.seed(exp.seed)\n",
    "    np.random.seed(exp.seed)\n",
    "    torch.manual_seed(exp.seed)\n",
    "    torch.backends.cudnn.deterministic = exp.random_seed"
   ]
  },
  {
   "cell_type": "markdown",
   "id": "e7685598-5e38-4124-bf7e-2c76faef0607",
   "metadata": {
    "tags": []
   },
   "source": [
    "### Rollout Buffer\n",
    "\n",
    "The second dictionary, `hypp`, is initialized in the following cell. It has keys and values containing the hyperparameters necessary to the algorithm. Similar to the `exp` dict, new keys and values are added to the `hypp` in the later sections. \n",
    "\n",
    "Define both `exp.num_envs` and `hypp.num_steps`.\n",
    "\n",
    "Initialize the multiple environments and run them in parallel using the `SyncVectorEnv` class from the gym library [More info: [Link](https://www.gymlibrary.dev/content/vectorising/)]. \n",
    "\n",
    "Next, create a rollout buffer based on the number of parallel envs `exp.num_envs` and the number of steps per env `hypp.num_steps`. It is later used to save episode trajectories during agent training. The buffer gets replaced with new trajectories at the beginning of every iteration of the training loop."
   ]
  },
  {
   "cell_type": "code",
   "execution_count": 4,
   "id": "4632173c-fb81-48fe-8378-d3ac93736c60",
   "metadata": {
    "tags": []
   },
   "outputs": [],
   "source": [
    "hypp = edict()\n",
    "\n",
    "exp.num_envs = 4  # number of parallel game environments\n",
    "hypp.num_steps = 128  # number of steps to run in each environment per policy rollout\n",
    "\n",
    "# Intialize vectorized gym evn\n",
    "envs = gym.vector.SyncVectorEnv([hf.make_env(exp.env_id, exp.seed + i) for i in range(exp.num_envs)])\n",
    "\n",
    "# RollOut Buffer Init\n",
    "observations = torch.zeros((hypp.num_steps, exp.num_envs) + envs.single_observation_space.shape).to(device)\n",
    "actions = torch.zeros((hypp.num_steps, exp.num_envs) + envs.single_action_space.shape).to(device)\n",
    "logprobs = torch.zeros((hypp.num_steps, exp.num_envs)).to(device)\n",
    "rewards = torch.zeros((hypp.num_steps, exp.num_envs)).to(device)\n",
    "dones = torch.zeros((hypp.num_steps, exp.num_envs)).to(device)\n",
    "values = torch.zeros((hypp.num_steps, exp.num_envs)).to(device)\n",
    "\n",
    "envs.close()"
   ]
  },
  {
   "cell_type": "markdown",
   "id": "5080f052-8cfd-47bb-83e8-772b8c22f780",
   "metadata": {},
   "source": [
    "### Agent Model Class\n",
    "\n",
    "The `Agent` class consists of a deep MLP value function called the `critic`, and a deep MLP policy called the `actor`, both learned during training. \n",
    "\n",
    "The class has three methods:\n",
    "1. `get_value` method evaluates the `critic` with a given observation (state) to obtain the learned estimate of the observation's value.\n",
    "2. `get_distribution` method first evaluates the `actor` to obtain the un-normalized probabilities of the actions, which is then used to create a categorical distribution over the actions.\n",
    "3. `get_action` method returns an action. The method first obtains the categorical distribution over actions the `actor` has learned. Then, if `greedy = True`, it returns the action with the highest probability else, an action sampled from the distribution.\n",
    "4. `get_action_and_value` method when given an observation, returns the action sampled from the probability distribution (if `action=None`), the respective action's log probability, and the estimate of the observation's value according to the `critic` network.\n",
    "\n",
    "The `actor` and `critic` networks in the `Agent` class make use of the `layer_init` function to implement ideas derived from [Engstrom, Ilyas, et al., (2020)](https://openreview.net/forum?id=r1etN1rtPB), and [Andrychowicz et al. (2021)](https://openreview.net/forum?id=nIAxjsniDzg). The former introduces the idea of orthogonal initialization of weights for tanh activation. In the latter paper, decision C57 shows that initializing the policy such that the action distribution is centered as zero gives better performance. This is done by initializing the `actor`'s output layer weights with 0.01 std. (see the final layer of `self.actor`)\n",
    "\n",
    "Note: observation and state mean the same in the context of this notebook"
   ]
  },
  {
   "cell_type": "code",
   "execution_count": 5,
   "id": "d0fff29a-690d-4dc8-bf2c-191243f98a2e",
   "metadata": {},
   "outputs": [],
   "source": [
    "def layer_init(layer, std=np.sqrt(2), bias_const=0.0):\n",
    "    torch.nn.init.orthogonal_(layer.weight, std)\n",
    "    torch.nn.init.constant_(layer.bias, bias_const)\n",
    "    return layer\n",
    "\n",
    "\n",
    "class Agent(nn.Module):\n",
    "    def __init__(self, envs):\n",
    "        super().__init__()\n",
    "        self.critic = nn.Sequential(\n",
    "            layer_init(nn.Linear(np.array(envs.single_observation_space.shape).prod(), 64)),\n",
    "            nn.Tanh(),\n",
    "            layer_init(nn.Linear(64, 64)),\n",
    "            nn.Tanh(),\n",
    "            layer_init(nn.Linear(64, 1), std=1.0),\n",
    "        )\n",
    "        self.actor = nn.Sequential(\n",
    "            layer_init(nn.Linear(np.array(envs.single_observation_space.shape).prod(), 64)),\n",
    "            nn.Tanh(),\n",
    "            layer_init(nn.Linear(64, 64)),\n",
    "            nn.Tanh(),\n",
    "            layer_init(nn.Linear(64, envs.single_action_space.n), std=0.01),\n",
    "        )\n",
    "\n",
    "    def get_value(self, x):\n",
    "        return self.critic(x)\n",
    "\n",
    "    def get_distribution(self, x):\n",
    "        logits = self.actor(x)\n",
    "        probs = Categorical(logits=logits)\n",
    "        return probs\n",
    "\n",
    "    def get_action(self, x, greedy=False):\n",
    "        distr = self.get_distribution(x)\n",
    "        action = distr.sample() if not greedy else distr.mode\n",
    "        return action\n",
    "\n",
    "    def get_action_and_value(self, x, action=None):\n",
    "        distr = self.get_distribution(x)\n",
    "        if action is None:\n",
    "            action = distr.sample()\n",
    "        return action, distr.log_prob(action), self.critic(x)"
   ]
  },
  {
   "cell_type": "markdown",
   "id": "08382f29-5bfb-4814-94ef-53d39db5cfea",
   "metadata": {
    "tags": []
   },
   "source": [
    "### Training Params & Agent Hyperparams\n",
    "\n",
    "The parameters and hyperparameters in this section are broadly categorized as below:\n",
    "1. Flags for logging: \n",
    "    - They are stored in the `exp` dict. \n",
    "    - This notebook uses tensorboard logging by deafult to log experiment metrics. These tb log files are saved in the directory `logs/<exp.exp_type>/<exp.run_name>/tb`. (to learn about `exp.exp_type` refer point 3. below)\n",
    "    - To enable logging of gym videos of the agent's interaction with the env set `exp.capture_video = True`\n",
    "    - Patch tensorboard logs and gym videos to Weigths & Biases (wandb) by setting `exp.enable_wandb_logging = True`\n",
    "2. Flags and parameters to generate average performance throughout training:\n",
    "    - Stored in the `exp` dict\n",
    "    - If `exp.eval_agent = True`, the performance of the agent during it's training is saved in the corresponding logs folder. You can later used this to compare the performance of your current agent with other agents during their training (in Section 1.5.2).\n",
    "    - Every `exp.eval_frequency` episodes the trained agent is evaluated using the `envs_eval` by playing out `exp.eval_count` episodes\n",
    "    - To speed up training set `exp.eval_agent = False` \n",
    "3. Create experiment hierarchy inside log folders:\n",
    "    - if `exp.exp_type` is None, experiment logs are saved to the root log directory `logs`, ie, `/logs/<exp.run_name>`, otherwise they are saved to the directory `logs/<exp.exp_type>/<exp._name>`\n",
    "4. Parameters and hyperparameters related to the algorithm:\n",
    "    - Stored in the `hypp` dict\n",
    "    - Quick reminder:  the `num_steps` key in the `hypp` dict is also a hyperparameter defined in Env & Rollout Buffer Init Section.\n",
    "\n",
    "Note: \n",
    "1. If Weigths and Biases (wandb) logging is enabled, when you run the \"Training The Agent\" cell, enter your wandb's api key when prompted. \n",
    "2. Training takes longer when either gym video recording or agent evaluation during training is enabled. To speed up training set both `exp.capture_video` and `exp.eval_agent` to `False`."
   ]
  },
  {
   "cell_type": "code",
   "execution_count": 6,
   "id": "72d426a0-fca1-4608-9ac7-31ceabd0b100",
   "metadata": {},
   "outputs": [],
   "source": [
    "# flags for logging purposes\n",
    "exp.enable_wandb_logging = True\n",
    "exp.capture_video = False  # disable to speed up training\n",
    "\n",
    "# flags to generate agent's average performance during training\n",
    "exp.eval_agent = True  # disable to speed up training\n",
    "exp.eval_count = 10\n",
    "exp.eval_frequency = 20\n",
    "exp.device = device.type\n",
    "\n",
    "# putting the run into the designated log folder for structuring\n",
    "exp.exp_type = None  # directory the run is saved to. Should be None or a string value\n",
    "\n",
    "# agent learning specific flags\n",
    "hypp.total_timesteps = 500000  # the training duration in number of time steps\n",
    "hypp.num_minibatches = 4  # number of minibatches for gradient updates\n",
    "hypp.update_epochs = 10  # only applies to critic updates in TRPO\n",
    "\n",
    "hypp.batch_size = int(exp.num_envs * hypp.num_steps)  # len of the rollout buffer\n",
    "hypp.minibatch_size = int(hypp.batch_size // hypp.num_minibatches)  # rollout buffer size / minibatch count\n",
    "\n",
    "hypp.learning_rate = 1e-3  # size of gradient update step\n",
    "hypp.anneal_lr = False  # when True reduces the learning rate as the training progresses\n",
    "hypp.gamma = 0.99  # discount factor over future rewards\n",
    "hypp.norm_adv = True\n",
    "hypp.cg_max_steps = 10                   # maximum number of steps in the Conjugate Gradient algorithm for computing the Hessian vector product\n",
    "hypp.cg_damping = 0.1                    # damping in the Hessian vector product computation\n",
    "hypp.line_search_shrinking_factor = 0.8  # step-size reduction factor for the line-search (i.e., `theta_new = theta + shrinking_factor^i * step`)\n",
    "hypp.line_search_max_iter = 10           # maximum number of iteration for the backtracking line-search\n",
    "hypp.target_kl = 0.01  # the target KL divergence threshold for the policy"
   ]
  },
  {
   "cell_type": "markdown",
   "id": "d3493918-2c78-4ea4-bd28-391141dc0b83",
   "metadata": {
    "tags": []
   },
   "source": [
    "## Training the Agent\n",
    "Before we begin training the agent we first initalize the logging (based on the repsective flags in the `exp` dict), object of the `Agent` class and the optimizer, followed by an inital set of observations. \n",
    "\n",
    "After that comes the main training loop which is comprised of:  \n",
    "1. learning rate annealing, \n",
    "2. collecting trajectories, ie, filling the rollout buffer with the actor's interaction with the environment,\n",
    "3. computing the advantage estimate $A^{\\pi_{\\theta_k}}$ and returns $G$ of the trajectories saved in the rollout buffer,\n",
    "4. Policy parameters update:\n",
    "    1. Computing the gradient of the surrogate objective wrt the policy parameters, ie, $g_k = \\nabla_{\\theta} L_{\\pi_{\\theta_{k}}}\\left(\\pi_\\theta\\right)|_{\\theta_{k}}$, where: \n",
    "    $$ L_{\\pi_{\\theta_{k}}}\\left(\\pi_\\theta\\right) = \\mathbb{E}_{s , a \\sim \\pi_{\\theta_{k}}} \\left[ \\frac{\\pi_\\theta(a|s)}{\\pi_{\\theta_{k}}(a|s)}A^{\\pi_{\\theta_k}}(s, a) \\right]$$\n",
    "    2. Computing the Hessian of KL Divergence (also called the Fisher Information Matrix) wrt to policy parameters, ie, $H_k ={\\nabla^2_\\theta} \\bar{D}_{KL}\\left(\\pi_{\\theta_{k}}, \\pi_{\\theta}\\right)$, where\n",
    "    $$\\bar{D}_{KL}\\left(\\pi_{\\theta_{k}}, \\pi_{\\theta}\\right) = \\mathbb{E}_{s \\sim \\pi_{\\theta_{k}}}\\left[D_{\\mathrm{KL}}\\left(\\pi_{\\theta_k}(\\cdot \\mid s) \\| \\pi_\\theta(\\cdot \\mid s)\\right)\\right]$$\n",
    "    3. Using the conjugate gradient algorithm to compute: $$ x_k \\approx H_k^{-1} g_k$$\n",
    "    4. Updating the policy by bracktracing line search with: $$\\theta_{k+1}=\\theta_k+\\alpha^j \\sqrt{\\frac{2 \\delta}{x_k^T H_k x_k}} x_k $$\n",
    "5. Critic network update:\n",
    "    1. Computing the value loss for critic network update, ie, $$L^{V}(s, \\theta) = \\left(V_{\\theta}(s)-G(s)\\right)^{2}$$\n",
    "    2. Perform gradient descent over the critic network `hypp.update_epochs` times wrt the value loss function $L^{V}$.\n",
    "    \n",
    "Post completion of the main training loop, we save a copy of the following in the directory `logs/<exp.exp_type>/<exp.run_name>`:\n",
    "1. `exp` and `hypp` dicts into a `.config` file \n",
    "2. `agent` (instance of `Agent` class) into a `.pt` file for later evaluation\n",
    "3. agent performance progress throughout training into a `.csv` file if `exp.eval_agent=True`\n",
    "\n",
    "\n",
    "Note: we have two vectorised gym environments, `envs` and `envs_eval` in the initalizations. `envs` is used to fill the rollout buffer with trajectories and `envs_eval` is used to evaluate the agent performance at different stages of training."
   ]
  },
  {
   "cell_type": "code",
   "execution_count": 7,
   "id": "4faadf6f-01ed-4318-8e21-fd41df1faa09",
   "metadata": {},
   "outputs": [
    {
     "name": "stderr",
     "output_type": "stream",
     "text": [
      "\u001b[34m\u001b[1mwandb\u001b[0m: Using wandb-core as the SDK backend. Please refer to https://wandb.me/wandb-core for more information.\n",
      "\u001b[34m\u001b[1mwandb\u001b[0m: Currently logged in as: \u001b[33mlukas-kesper98\u001b[0m. Use \u001b[1m`wandb login --relogin`\u001b[0m to force relogin\n"
     ]
    },
    {
     "data": {
      "text/html": [
       "Tracking run with wandb version 0.18.3"
      ],
      "text/plain": [
       "<IPython.core.display.HTML object>"
      ]
     },
     "metadata": {},
     "output_type": "display_data"
    },
    {
     "data": {
      "text/html": [
       "Run data is saved locally in <code>/Users/kesperlukas/Projects/RLLBC/deep_examples/logs/wandb/run-20241118_153335-fu1a4xpt</code>"
      ],
      "text/plain": [
       "<IPython.core.display.HTML object>"
      ]
     },
     "metadata": {},
     "output_type": "display_data"
    },
    {
     "data": {
      "text/html": [
       "Syncing run <strong><a href='https://wandb.ai/lukas-kesper98/RLLBC_CartPole-v1/runs/fu1a4xpt' target=\"_blank\">CartPole-v1__TRPO__2__241118_153335</a></strong> to <a href='https://wandb.ai/lukas-kesper98/RLLBC_CartPole-v1' target=\"_blank\">Weights & Biases</a> (<a href='https://wandb.me/run' target=\"_blank\">docs</a>)<br/>"
      ],
      "text/plain": [
       "<IPython.core.display.HTML object>"
      ]
     },
     "metadata": {},
     "output_type": "display_data"
    },
    {
     "data": {
      "text/html": [
       " View project at <a href='https://wandb.ai/lukas-kesper98/RLLBC_CartPole-v1' target=\"_blank\">https://wandb.ai/lukas-kesper98/RLLBC_CartPole-v1</a>"
      ],
      "text/plain": [
       "<IPython.core.display.HTML object>"
      ]
     },
     "metadata": {},
     "output_type": "display_data"
    },
    {
     "data": {
      "text/html": [
       " View run at <a href='https://wandb.ai/lukas-kesper98/RLLBC_CartPole-v1/runs/fu1a4xpt' target=\"_blank\">https://wandb.ai/lukas-kesper98/RLLBC_CartPole-v1/runs/fu1a4xpt</a>"
      ],
      "text/plain": [
       "<IPython.core.display.HTML object>"
      ]
     },
     "metadata": {},
     "output_type": "display_data"
    },
    {
     "data": {
      "application/vnd.jupyter.widget-view+json": {
       "model_id": "e3115a84fa2343d08942fd30472e84cc",
       "version_major": 2,
       "version_minor": 0
      },
      "text/plain": [
       "  0%|          | 0/976 [00:00<?, ?it/s]"
      ]
     },
     "metadata": {},
     "output_type": "display_data"
    },
    {
     "data": {
      "application/vnd.jupyter.widget-view+json": {
       "model_id": "",
       "version_major": 2,
       "version_minor": 0
      },
      "text/plain": [
       "VBox(children=(Label(value='0.005 MB of 0.005 MB uploaded\\r'), FloatProgress(value=1.0, max=1.0)))"
      ]
     },
     "metadata": {},
     "output_type": "display_data"
    },
    {
     "data": {
      "text/html": [
       " View run <strong style=\"color:#cdcd00\">CartPole-v1__TRPO__2__241118_153335</strong> at: <a href='https://wandb.ai/lukas-kesper98/RLLBC_CartPole-v1/runs/fu1a4xpt' target=\"_blank\">https://wandb.ai/lukas-kesper98/RLLBC_CartPole-v1/runs/fu1a4xpt</a><br/> View project at: <a href='https://wandb.ai/lukas-kesper98/RLLBC_CartPole-v1' target=\"_blank\">https://wandb.ai/lukas-kesper98/RLLBC_CartPole-v1</a><br/>Synced 4 W&B file(s), 0 media file(s), 2 artifact file(s) and 1 other file(s)"
      ],
      "text/plain": [
       "<IPython.core.display.HTML object>"
      ]
     },
     "metadata": {},
     "output_type": "display_data"
    }
   ],
   "source": [
    "# reinit run_name\n",
    "exp.run_name = f\"{exp.env_id}__{exp.exp_name}__{exp.seed}__{datetime.now().strftime('%y%m%d_%H%M%S')}\"\n",
    "\n",
    "# Init tensorboard logging and wandb logging\n",
    "writer = hf.setup_logging(wandb_prj_name, exp, hypp)\n",
    "\n",
    "# create two vectorized envs: one to fill the rollout buffer with trajectories, and\n",
    "# another to evaluate the agent performance at different stages of training  \n",
    "envs.close()\n",
    "envs = gym.vector.SyncVectorEnv([hf.make_env(exp.env_id, exp.seed + i) for i in range(exp.num_envs)])\n",
    "envs_eval = gym.vector.SyncVectorEnv([hf.make_env(exp.env_id, exp.seed + i) for i in range(exp.eval_count)])\n",
    "\n",
    "# init list to track agent's performance throughout training\n",
    "tracked_returns_over_training = []\n",
    "tracked_episode_len_over_training = []\n",
    "tracked_episode_count = []\n",
    "last_evaluated_episode = None  # stores the episode_step of when the agent's performance was last evaluated\n",
    "greedy_evaluation = False  # whether to perform the evaluation in a greedy way or not\n",
    "eval_max_return = -float('inf')\n",
    "\n",
    "# Create Agent class Instance and network optimizer\n",
    "agent = Agent(envs).to(device)\n",
    "optimizer = optim.Adam(agent.critic.parameters(), lr=hypp.learning_rate)\n",
    "\n",
    "# Init observation to start learning\n",
    "start_time = time.time()\n",
    "obs, _  = envs.reset()\n",
    "obs = torch.Tensor(obs).to(device)\n",
    "done = torch.zeros(exp.num_envs).to(device)\n",
    "num_updates = int(hypp.total_timesteps // hypp.batch_size)\n",
    "\n",
    "global_step = 0\n",
    "episode_step = 0\n",
    "gradient_step = 0\n",
    "\n",
    "pbar = notebook.tqdm(range(1, num_updates + 1))\n",
    "\n",
    "# training loop\n",
    "for update in pbar:\n",
    "    # Annealing the rate if instructed to do so.\n",
    "    if hypp.anneal_lr:\n",
    "        frac = 1.0 - (update - 1.0) / num_updates\n",
    "        lrnow = frac * hypp.learning_rate\n",
    "        optimizer.param_groups[0][\"lr\"] = lrnow\n",
    "\n",
    "    agent.eval()\n",
    "\n",
    "    # collect trajectories\n",
    "    for step in range(0, hypp.num_steps):\n",
    "        observations[step] = obs\n",
    "        dones[step] = done\n",
    "\n",
    "        # sample action and collect value from learned agent policy and value networks\n",
    "        with torch.no_grad():\n",
    "            action, logprob, value = agent.get_action_and_value(obs)\n",
    "            values[step] = value.flatten()\n",
    "        actions[step] = action\n",
    "        logprobs[step] = logprob\n",
    "\n",
    "        # execute the game and log data.\n",
    "        next_obs, reward, terminations, truncations, infos = envs.step(action.cpu().numpy())\n",
    "        done = np.logical_or(terminations, truncations)\n",
    "        \n",
    "        for idx, trunc in enumerate(truncations):\n",
    "            agent.eval()\n",
    "            if trunc:\n",
    "                terminal_obs = torch.tensor(infos[\"final_observation\"][idx]).to(device)\n",
    "                with torch.no_grad():\n",
    "                    terminal_value = agent.get_value(terminal_obs)\n",
    "                reward[idx] += hypp.gamma * terminal_value\n",
    "        \n",
    "        if \"final_info\" in infos:\n",
    "            for info in infos[\"final_info\"]:\n",
    "                if info and \"episode\" in info:\n",
    "                    episode_step += 1\n",
    "                    pbar.set_description(f\"global_step={global_step}, episodic_return={info['episode']['r']}\")\n",
    "                    writer.add_scalar(\"rollout/episodic_return\", info[\"episode\"][\"r\"], global_step+idx)\n",
    "                    writer.add_scalar(\"rollout/episodic_length\", info[\"episode\"][\"l\"], global_step+idx)\n",
    "                    writer.add_scalar(\"Charts/episode_step\", episode_step, global_step)\n",
    "                    writer.add_scalar(\"Charts/gradient_step\", gradient_step, global_step)\n",
    "                    break\n",
    "\n",
    "        rewards[step] = torch.tensor(reward).to(device).view(-1)\n",
    "        next_obs, done = torch.Tensor(next_obs).to(device), torch.Tensor(done).to(device)\n",
    "\n",
    "        global_step += 1 * exp.num_envs\n",
    "        obs = next_obs\n",
    "\n",
    "        # generate average performance statistics of current learned agent\n",
    "        if exp.eval_agent and episode_step % exp.eval_frequency == 0 and last_evaluated_episode != episode_step:\n",
    "            last_evaluated_episode = episode_step\n",
    "            tracked_return, tracked_episode_len = hf.evaluate_agent(envs_eval, agent, exp.eval_count, exp.seed, greedy_actor=greedy_evaluation)\n",
    "            tracked_returns_over_training.append(tracked_return)\n",
    "            tracked_episode_len_over_training.append(tracked_episode_len)\n",
    "            tracked_episode_count.append([episode_step, global_step])\n",
    "\n",
    "            # if there has been improvment of the model -\n",
    "            if np.mean(tracked_return) > eval_max_return:\n",
    "                eval_max_return = np.mean(tracked_return)\n",
    "                # call helper function save_and_log_agent to save model, create video, log video to wandb\n",
    "                hf.save_and_log_agent(exp, envs, Agent, agent, episode_step, greedy=greedy_evaluation, print_path=False)\n",
    "\n",
    "    next_done = done\n",
    "    agent.train()\n",
    "\n",
    "    # calculate advantages and returns\n",
    "    with torch.no_grad():\n",
    "        next_value = agent.get_value(next_obs).reshape(1, -1)\n",
    "        advantages = torch.zeros_like(rewards).to(device)\n",
    "        returns = torch.zeros_like(rewards).to(device)\n",
    "        for t in reversed(range(hypp.num_steps)):\n",
    "            if t == hypp.num_steps - 1:\n",
    "                nextnonterminal = 1.0 - next_done\n",
    "                returns[t] = rewards[t] + hypp.gamma * next_value * nextnonterminal\n",
    "            else:\n",
    "                nextnonterminal = 1.0 - dones[t + 1]\n",
    "                returns[t] = rewards[t] + hypp.gamma * returns[t+1] * nextnonterminal\n",
    "        advantages = returns - values\n",
    "\n",
    "    # flatten the batch\n",
    "    b_observations = observations.reshape((-1,) + envs.single_observation_space.shape)\n",
    "    b_logprobs = logprobs.reshape(-1)\n",
    "    b_actions = actions.reshape((-1,) + envs.single_action_space.shape)\n",
    "    b_advantages = advantages.reshape(-1)\n",
    "    b_returns = returns.reshape(-1)\n",
    "    b_values = values.reshape(-1)\n",
    "\n",
    "    with torch.no_grad():\n",
    "        old_distribution = copy.copy(agent.get_distribution(b_observations))\n",
    "\n",
    "    distribution = agent.get_distribution(b_observations)\n",
    "    log_prob = distribution.log_prob(b_actions)\n",
    "\n",
    "    if hypp.norm_adv:\n",
    "        b_advantages = (b_advantages - b_advantages.mean()) / (b_advantages.std() + 1e-8)\n",
    "\n",
    "    # ratio between old and new policy, should be one at the start of each iteration\n",
    "    ratio = torch.exp(log_prob - b_logprobs)\n",
    "\n",
    "    # compute the surrogate advantage\n",
    "    policy_objective = (b_advantages * ratio).mean()\n",
    "\n",
    "    # KL Divergence\n",
    "    kl_div = kl_divergence(distribution, old_distribution).mean()\n",
    "\n",
    "    # Compute the gradient of the surroagate advantage and the kl divergence wrt to the policy network parameters\n",
    "    optimizer.zero_grad()\n",
    "    actor_params, policy_objective_gradients, grad_kl, grad_shape = compute_policy_grad(agent.actor, kl_div,\n",
    "                                                                                        policy_objective)\n",
    "\n",
    "    # Compute search_direction, ie ${H^-1}.{g}$, using the conjugate gradient method\n",
    "    hessian_vector_product_fn = partial(hessian_vector_product, actor_params, grad_kl, hypp.cg_damping)\n",
    "\n",
    "    search_direction = conjugate_gradient_solver(\n",
    "        hessian_vector_product_fn,\n",
    "        policy_objective_gradients,\n",
    "        max_iter=hypp.cg_max_steps\n",
    "    )\n",
    "\n",
    "    line_search_max_step_size = 2 * hypp.target_kl\n",
    "    line_search_max_step_size /= torch.matmul(\n",
    "        search_direction, hessian_vector_product_fn(search_direction, retain_graph=False)\n",
    "    )\n",
    "    line_search_max_step_size = torch.sqrt(line_search_max_step_size)\n",
    "\n",
    "    line_search_backtrack_coeff = 1.0\n",
    "    original_actor_params = [param.detach().clone() for param in actor_params]\n",
    "\n",
    "    policy_objective_values = []  # average value of the surrogate advantage\n",
    "    kl_divergences = []  # average KL-divergence between policies across states visited by the old policy\n",
    "\n",
    "    is_line_search_success = False\n",
    "    with torch.no_grad():\n",
    "        # update policy parameters by backtracking line-search\n",
    "        for _ in range(hypp.line_search_max_iter):\n",
    "\n",
    "            start_idx = 0\n",
    "            # Applying the scaled step direction\n",
    "            for param, original_param, shape in zip(actor_params, original_actor_params, grad_shape):\n",
    "                n_params = param.numel()\n",
    "                param.data = (\n",
    "                        original_param.data\n",
    "                        + line_search_backtrack_coeff\n",
    "                        * line_search_max_step_size\n",
    "                        * search_direction[start_idx: (start_idx + n_params)].view(shape)\n",
    "                )\n",
    "                start_idx += n_params\n",
    "\n",
    "            # Recomputing the policy log-probabilities\n",
    "            distribution = agent.get_distribution(b_observations)\n",
    "            log_prob = distribution.log_prob(b_actions)\n",
    "\n",
    "            # New policy objective\n",
    "            ratio = torch.exp(log_prob - b_logprobs)\n",
    "            new_policy_objective = (b_advantages * ratio).mean()\n",
    "\n",
    "            # New KL-divergence\n",
    "            kl_div = kl_divergence(distribution, old_distribution).mean()\n",
    "\n",
    "            # Constraint criteria:\n",
    "            # we need to improve the surrogate policy objective\n",
    "            # while being close enough (in terms of kl div) to the old policy\n",
    "            if (kl_div < hypp.target_kl) and (new_policy_objective > policy_objective):\n",
    "                is_line_search_success = True\n",
    "                break\n",
    "\n",
    "            # Reducing step size if line-search wasn't successful\n",
    "            line_search_backtrack_coeff *= hypp.line_search_shrinking_factor\n",
    "\n",
    "        if not is_line_search_success:\n",
    "            # If the line-search wasn't successful we revert to the original parameters\n",
    "            for param, original_param in zip(actor_params, original_actor_params):\n",
    "                param.data = original_param.data.clone()\n",
    "\n",
    "            policy_objective_values = policy_objective.item()\n",
    "            kl_divergences = 0\n",
    "        else:\n",
    "            policy_objective_values = new_policy_objective.item()\n",
    "            kl_divergences = kl_div.item()\n",
    "\n",
    "    b_inds = np.arange(hypp.batch_size)\n",
    "\n",
    "    value_losses = []\n",
    "\n",
    "    # update the critic network\n",
    "    for i in range(hypp.update_epochs):\n",
    "        np.random.shuffle(b_inds)\n",
    "        for start in range(0, hypp.batch_size, hypp.minibatch_size):\n",
    "            end = start + hypp.minibatch_size\n",
    "            mb_inds = b_inds[start:end]\n",
    "\n",
    "            newvals = agent.get_value(b_observations[mb_inds])\n",
    "            newvals = newvals.view(-1)\n",
    "\n",
    "            v_loss = 0.5 * ((newvals - b_returns[mb_inds]) ** 2).mean()\n",
    "\n",
    "            optimizer.zero_grad()\n",
    "            v_loss.backward()\n",
    "            optimizer.step()\n",
    "\n",
    "            value_losses.append(v_loss.item())\n",
    "            gradient_step += 1\n",
    "\n",
    "    y_pred, y_true = b_values.cpu().numpy(), b_returns.cpu().numpy()\n",
    "    var_y = np.var(y_true)\n",
    "    explained_var = np.nan if var_y == 0 else 1 - np.var(y_true - y_pred) / var_y\n",
    "\n",
    "    # log losses to tensorboard summary writer\n",
    "    writer.add_scalar(\"hyperparameters/learning_rate\", optimizer.param_groups[0][\"lr\"], global_step)\n",
    "    writer.add_scalar(\"train/value_loss\", np.mean(value_losses), global_step)\n",
    "    writer.add_scalar(\"train/kl_divergence\", kl_divergences, global_step)\n",
    "    writer.add_scalar(\"train/explained_variance\", explained_var, global_step)\n",
    "    writer.add_scalar(\"train/is_line_search_success\", int(is_line_search_success), global_step)\n",
    "    writer.add_scalar(\"train/surrogate_objective\", policy_objective_values, global_step)\n",
    "    writer.add_scalar(\"Charts/episode_step\", episode_step, global_step)\n",
    "    writer.add_scalar(\"Charts/gradient_step\", gradient_step, global_step)\n",
    "\n",
    "# one last evaluation stage\n",
    "if exp.eval_agent:\n",
    "    last_evaluated_episode = episode_step\n",
    "    tracked_return, tracked_episode_len = hf.evaluate_agent(envs_eval, agent, exp.eval_count, exp.seed, greedy_actor=greedy_evaluation)\n",
    "    tracked_returns_over_training.append(tracked_return)\n",
    "    tracked_episode_len_over_training.append(tracked_episode_len)\n",
    "    tracked_episode_count.append([episode_step, global_step])\n",
    "\n",
    "    # if there has been improvment of the model -\n",
    "    if np.mean(tracked_return) > eval_max_return:\n",
    "        eval_max_return = np.mean(tracked_return)\n",
    "        # call helper function save_and_log_agent to save model, create video, log video to wandb\n",
    "        hf.save_and_log_agent(exp, envs, Agent, agent, episode_step, greedy=greedy_evaluation, print_path=True)\n",
    "\n",
    "    hf.save_tracked_values(tracked_returns_over_training, tracked_episode_len_over_training, tracked_episode_count, exp.eval_count, exp.run_name, exp.exp_type)\n",
    "\n",
    "envs.close()\n",
    "envs_eval.close()\n",
    "writer.close()\n",
    "if wandb.run is not None:\n",
    "    wandb.finish(quiet=True)\n",
    "    wandb.init(mode=\"disabled\")\n",
    "\n",
    "hf.save_train_config_to_yaml(exp, hypp)"
   ]
  },
  {
   "cell_type": "markdown",
   "id": "74e2408a-aeea-4c1f-800c-5067bdd305e4",
   "metadata": {
    "tags": []
   },
   "source": [
    "## Compare Trained Agents and Display Behaviour"
   ]
  },
  {
   "cell_type": "markdown",
   "id": "4b0f1482-cf6b-4a95-b64a-c0d8e8626a30",
   "metadata": {
    "tags": []
   },
   "source": [
    "### Display Trained Agent Behaviour\n",
    "\n",
    "Set `agent_name` and `agent_exp_type` to load the saved agent model in the respective log folder and generate a video of the agent's interaction with the gym environment. After the cell is executed, you should see a video embedding as output, and the video is also available in the following directory: `/logs/<exp.exp_type>/<exp.run_name>/videos` "
   ]
  },
  {
   "cell_type": "code",
   "execution_count": 8,
   "id": "7419ed1c-cfb3-4e86-be95-e418a3ffe51d",
   "metadata": {},
   "outputs": [
    {
     "data": {
      "text/html": [
       "<video loop autoplay  >\n",
       " <source src=\"data:video/mp4;base64,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\" type=\"video/mp4\">\n",
       " Your browser does not support the video tag.\n",
       " </video>"
      ],
      "text/plain": [
       "<IPython.core.display.Video object>"
      ]
     },
     "execution_count": 8,
     "metadata": {},
     "output_type": "execute_result"
    }
   ],
   "source": [
    "agent_name = exp.run_name\n",
    "agent_exp_type = exp.exp_type  # both are needed to identify the agent location\n",
    "\n",
    "\n",
    "exp_folder = \"\" if agent_exp_type is None else agent_exp_type\n",
    "filepath, _ = hf.create_folder_relative(f\"{exp_folder}/{agent_name}/videos\")\n",
    "\n",
    "hf.record_video(exp.env_id, envs, Agent, agent_name, f\"{filepath}/best.mp4\", exp_type=agent_exp_type, greedy=True)\n",
    "Video(data=f\"{filepath}/best.mp4\", html_attributes='loop autoplay', embed=True)"
   ]
  },
  {
   "cell_type": "markdown",
   "id": "015ae10e-2713-4f25-a07f-b925d01c4461",
   "metadata": {
    "tags": []
   },
   "source": [
    "### Compare Performance of Agents During Training\n",
    "\n",
    "During the training loop, if `exp.eval_agent = True`, the performance progress of the agent during its training is saved as a csv file. To compare the saved progress of different agents, create a `dict` containing the parent folder's name of each of the csv files and use the helper function `plotter_agents_training_stats`.\n",
    "\n",
    "To load the data, you can either set `eval_params.run_name00 = exp.run_name` (if only a `tracked_performance_training.csv` file for the corresponding `exp.run_name` exists) or manually enter the folder name containing the csv file. \n",
    "\n",
    "If the agent performance you want to load is inside an exp_type folder, set `eval_params.exp_type00` to experiment type, and if not, set it to `None`. \n",
    "\n",
    "You can add more than one experiment by initializing dict keys and values of the format `eval_params.run_namexx` and `eval_params.exp_typexx`."
   ]
  },
  {
   "cell_type": "code",
   "execution_count": 9,
   "id": "1ffead0b-a7a3-4062-8c93-5b209c63e43e",
   "metadata": {
    "tags": []
   },
   "outputs": [
    {
     "data": {
      "image/png": "[encoded data removed]",
      "text/plain": [
       "<Figure size 1400x300 with 2 Axes>"
      ]
     },
     "metadata": {},
     "output_type": "display_data"
    }
   ],
   "source": [
    "eval_params = edict()  # eval_params - evaluation settings for trained agent\n",
    "\n",
    "eval_params.run_name00 = exp.run_name\n",
    "eval_params.exp_type00 = exp.exp_type\n",
    "\n",
    "# eval_params.run_name01 = \"CartPole-v1__PPO__1__230323_224300\"\n",
    "# eval_params.exp_type01 = None \n",
    "\n",
    "# eval_params.run_name02 = \"CartPole-v1__PPO__1__230302_221245\"\n",
    "# eval_params.exp_type02 = None\n",
    "\n",
    "agent_labels = []\n",
    "\n",
    "episode_axis_limit = None\n",
    "\n",
    "hf.plotter_agents_training_stats(eval_params, agent_labels, episode_axis_limit, plot_returns=True, plot_episode_len=True)"
   ]
  },
  {
   "cell_type": "markdown",
   "id": "dc26b1fa-7c14-4bc0-8183-e59450f5d021",
   "metadata": {
    "tags": []
   },
   "source": [
    "## TensorBoard Inline"
   ]
  },
  {
   "cell_type": "code",
   "execution_count": 10,
   "id": "8abce1b0-018f-4761-954d-8015bbda779b",
   "metadata": {
    "tags": []
   },
   "outputs": [],
   "source": [
    "# %load_ext tensorboard\n",
    "# %tensorboard --logdir logs --host localhost"
   ]
  }
 ],
 "metadata": {
  "kernelspec": {
   "display_name": "Python 3 (ipykernel)",
   "language": "python",
   "name": "python3"
  },
  "language_info": {
   "codemirror_mode": {
    "name": "ipython",
    "version": 3
   },
   "file_extension": ".py",
   "mimetype": "text/x-python",
   "name": "python",
   "nbconvert_exporter": "python",
   "pygments_lexer": "ipython3",
   "version": "3.10.8"
  },
  "toc-autonumbering": true,
  "widgets": {
   "application/vnd.jupyter.widget-state+json": {
    "state": {},
    "version_major": 2,
    "version_minor": 0
   }
  }
 },
 "nbformat": 4,
 "nbformat_minor": 5
}
