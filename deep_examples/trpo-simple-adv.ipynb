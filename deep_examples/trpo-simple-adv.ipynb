{
 "cells": [
  {
   "cell_type": "markdown",
   "id": "f0a5f846-de2e-4db3-acf7-9073fd61d8c1",
   "metadata": {},
   "source": [
    "![DSME-logo](./static/DSME_logo.png)\n",
    "\n",
    "#  Reinforcement Learning and Learning-based Control\n",
    "\n",
    "<p style=\"font-size:12pt\";> \n",
    "<b> Prof. Dr. Sebastian Trimpe, Dr. Friedrich Solowjow </b><br>\n",
    "<b> Institute for Data Science in Mechanical Engineering (DSME) </b><br>\n",
    "<a href = \"mailto:rllbc@dsme.rwth-aachen.de\">rllbc@dsme.rwth-aachen.de</a><br>\n",
    "</p>\n",
    "\n",
    "---\n",
    "TRPO Implementation\n",
    "\n",
    "Notebook Authors: Jyotirmaya Patra, Ramil Sabirov\n",
    "\n",
    "Adapted from: [Stable Baselines3 Contrib](https://github.com/Stable-Baselines-Team/stable-baselines3-contrib)\n",
    "\n",
    "Orignal Paper: [Trust Region Policy Optimization](https://arxiv.org/abs/1502.05477)\n",
    "\n",
    "Additional References:\n",
    "1. OpenAI SpinningUp:\n",
    "    * [Trust Region Policy Optimization](https://spinningup.openai.com/en/latest/algorithms/trpo.html)\n",
    "2. CS 285 at UC Berkeley:\n",
    "    * [Lecture 9: Advanced Policy Gradients](http://rail.eecs.berkeley.edu/deeprlcourse/static/slides/lec-9.pdf) (Lecture recordings also available on Youtube!)\n"
   ]
  },
  {
   "cell_type": "markdown",
   "id": "b5a83f6f-418b-4959-b725-9f4f32ecb319",
   "metadata": {},
   "source": [
    "## Library Imports"
   ]
  },
  {
   "cell_type": "code",
   "execution_count": 1,
   "id": "e818d134-4fcc-4756-aa73-0d236efd42d1",
   "metadata": {},
   "outputs": [],
   "source": [
    "import os\n",
    "import time\n",
    "import copy\n",
    "import random\n",
    "from datetime import datetime\n",
    "from functools import partial\n",
    "\n",
    "import numpy as np\n",
    "import matplotlib.pyplot as plt\n",
    "from tqdm import notebook\n",
    "from easydict import EasyDict as edict\n",
    "from IPython.display import Video\n",
    "\n",
    "import utils.helper_fns as hf\n",
    "\n",
    "import gymnasium as gym\n",
    "import wandb\n",
    "import torch\n",
    "import torch.nn as nn\n",
    "import torch.optim as optim\n",
    "from torch.distributions.categorical import Categorical\n",
    "\n",
    "\n",
    "os.environ['SDL_VIDEODRIVER'] = 'dummy'\n",
    "os.environ['WANDB_NOTEBOOK_NAME'] = 'trpo-simple-adv.ipynb'\n",
    "\n",
    "plt.rcParams['figure.dpi'] = 100\n",
    "device = torch.device(\"cuda\" if torch.cuda.is_available() else \"cpu\")\n",
    "\n",
    "%load_ext autoreload\n",
    "%autoreload 2"
   ]
  },
  {
   "cell_type": "markdown",
   "id": "a97075de-2532-473e-af22-e6cb8c3035a5",
   "metadata": {},
   "source": [
    "## TRPO Specific Helper Functions\n",
    "\n",
    "Apart from the general helper functions in `/uitls/helper_fns.py` here you will find helper functions specific to TRPO. Here's a quick preview:\n",
    "1. `kl_divergence`: compute kl divergence between two pytorch distributions\n",
    "2. `compute_policy_grad`: compute gradients for kl div and surrogate objective wrt the policy parameters \n",
    "3. `hessian_vector_product`: computes the matrix-vector product with the Fisher information matrix.\n",
    "4. `conjugate_gradient_solver`: finds an approximate solution to a set of linear equations Ax = b"
   ]
  },
  {
   "cell_type": "code",
   "execution_count": 2,
   "id": "03865a9c-3ff9-4993-ba57-93096ae86478",
   "metadata": {},
   "outputs": [],
   "source": [
    "def kl_divergence(dist_true, dist_pred):\n",
    "    \"\"\"\n",
    "    Wrapper for the PyTorch implementation of the full form KL Divergence\n",
    "\n",
    "    :param dist_true: the p distribution\n",
    "    :param dist_pred: the q distribution\n",
    "    :return: KL(dist_true||dist_pred)\n",
    "    \"\"\"\n",
    "    return torch.distributions.kl_divergence(dist_true, dist_pred)\n",
    "\n",
    "\n",
    "def compute_policy_grad(actor, kl_div, policy_objective):\n",
    "    \"\"\"\n",
    "    Compute gradients for kl div and surrogate objective wrt the policy parameters\n",
    "    :param actor: actor model in agent\n",
    "    :param kl_div: The KL divergence objective\n",
    "    :param policy_objective: The surrogate advantage\n",
    "    :return: List of actor params, gradients and gradients shape.\n",
    "    \"\"\"\n",
    "    # Contains the gradients of surrogate advantage wrt to each policy parameters\n",
    "    policy_objective_gradients = []\n",
    "    # Contains gradients of the KL divergence wrt each policy parameter\n",
    "    grad_kl = []\n",
    "    # Save the shape of the gradients of the KL divergence w.r.t each policy parameter\n",
    "    # Will be used to unflatten the gradients into its original shape later in the training loop\n",
    "    grad_shape = []\n",
    "    # List of policy parameters\n",
    "    actor_params = []\n",
    "\n",
    "    for param in actor.parameters():\n",
    "        kl_param_grad, *_ = torch.autograd.grad(\n",
    "            kl_div,\n",
    "            param,\n",
    "            create_graph=True,\n",
    "            retain_graph=True,\n",
    "            allow_unused=True,\n",
    "            only_inputs=True\n",
    "        )\n",
    "\n",
    "        policy_objective_grad, *_ = torch.autograd.grad(\n",
    "            policy_objective,\n",
    "            param,\n",
    "            retain_graph=True,\n",
    "            only_inputs=True\n",
    "        )\n",
    "\n",
    "        grad_shape.append(kl_param_grad.shape)\n",
    "        grad_kl.append(kl_param_grad.reshape(-1))\n",
    "        policy_objective_gradients.append(policy_objective_grad.reshape(-1))\n",
    "        actor_params.append(param)\n",
    "\n",
    "    # Concatenate gradients before the conjugate gradient step\n",
    "    policy_objective_gradients = torch.cat(policy_objective_gradients)\n",
    "    grad_kl = torch.cat(grad_kl)\n",
    "    return actor_params, policy_objective_gradients, grad_kl, grad_shape\n",
    "\n",
    "\n",
    "def hessian_vector_product(params, grad_kl, cg_damping, vector, retain_graph=True):\n",
    "    \"\"\"\n",
    "    Computes the matrix-vector product with the Fisher information matrix.\n",
    "\n",
    "    :param params: list of parameters used to compute the Hessian\n",
    "    :param grad_kl: flattened gradient of the KL divergence between the old and new policy\n",
    "    :param vector: vector to compute the dot product the hessian-vector dot product with\n",
    "    :param retain_graph: if True, the graph will be kept after computing the Hessian\n",
    "    :return: Hessian-vector dot product (with damping)\n",
    "    \"\"\"\n",
    "    jacobian_vector_product = (grad_kl * vector).sum()\n",
    "\n",
    "    hessian_vector_product = torch.autograd.grad(\n",
    "        jacobian_vector_product,\n",
    "        params,\n",
    "        create_graph=False,\n",
    "        retain_graph=retain_graph,\n",
    "        allow_unused=True\n",
    "    )\n",
    "\n",
    "    hessian_vector_product_flattened = torch.cat([torch.ravel(grad) for grad in hessian_vector_product if grad is not None])\n",
    "    return hessian_vector_product_flattened + cg_damping * vector\n",
    "\n",
    "\n",
    "def conjugate_gradient_solver(matrix_vector_dot_fn, b, max_iter=10, residual_tol=1e-10):\n",
    "    \"\"\"\n",
    "    Finds an approximate solution to a set of linear equations Ax = b\n",
    "\n",
    "    Sources:\n",
    "     - https://github.com/ajlangley/trpo-pytorch/blob/master/conjugate_gradient.py\n",
    "     - https://github.com/joschu/modular_rl/blob/master/modular_rl/trpo.py#L122\n",
    "\n",
    "    Reference:\n",
    "     - https://epubs.siam.org/doi/abs/10.1137/1.9781611971446.ch6\n",
    "\n",
    "    :param matrix_vector_dot_fn:\n",
    "        a function that right multiplies a matrix A by a vector v\n",
    "    :param b:\n",
    "        the right hand term in the set of linear equations Ax = b\n",
    "    :param max_iter:\n",
    "        the maximum number of iterations (default is 10)\n",
    "    :param residual_tol:\n",
    "        residual tolerance for early stopping of the solving (default is 1e-10)\n",
    "    :return x:\n",
    "        the approximate solution to the system of equations defined by `matrix_vector_dot_fn`\n",
    "        and b\n",
    "    \"\"\"\n",
    "\n",
    "    # The vector is not initialized at 0 because of the instability issues when the gradient becomes small.\n",
    "    # Hence, a small random gaussian noise is used for the initialization.\n",
    "    x = 1e-4 * torch.randn_like(b)\n",
    "    residual = b - matrix_vector_dot_fn(x)\n",
    "    # Equivalent to th.linalg.norm(residual) ** 2 (L2 norm squared)\n",
    "    residual_squared_norm = torch.matmul(residual, residual)\n",
    "\n",
    "    if residual_squared_norm < residual_tol:\n",
    "        # If the gradient becomes extremely small\n",
    "        # The denominator in alpha will become zero\n",
    "        # Leading to a division by zero\n",
    "        return x\n",
    "\n",
    "    p = residual.clone()\n",
    "\n",
    "    for i in range(max_iter):\n",
    "        # A @ p (matrix vector multiplication)\n",
    "        A_dot_p = matrix_vector_dot_fn(p)\n",
    "\n",
    "        alpha = residual_squared_norm / p.dot(A_dot_p)\n",
    "        x += alpha * p\n",
    "\n",
    "        if i == max_iter - 1:\n",
    "            return x\n",
    "\n",
    "        residual -= alpha * A_dot_p\n",
    "        new_residual_squared_norm = torch.matmul(residual, residual)\n",
    "\n",
    "        if new_residual_squared_norm < residual_tol:\n",
    "            return x\n",
    "\n",
    "        beta = new_residual_squared_norm / residual_squared_norm\n",
    "        residual_squared_norm = new_residual_squared_norm\n",
    "        p = residual + beta * p\n",
    "    # Note: this return statement is only used when max_iter=0\n",
    "    return x"
   ]
  },
  {
   "cell_type": "markdown",
   "id": "0c56a7a7-bace-4ddc-8c90-93aa86d8ae69",
   "metadata": {
    "tags": []
   },
   "source": [
    "## Initializations"
   ]
  },
  {
   "cell_type": "markdown",
   "id": "a7705efc-11be-4fa7-8e1c-054bc3efbd7a",
   "metadata": {},
   "source": [
    "### Experiment\n",
    "\n",
    "We primarily use dictionaries for initializing experiment parameters and training hyperparameters. We use the `EasyDict` (imported as `edict`) library, which allows us to access dict values as attributes while retaining the operations and properties of the original python `dict`! [[Github Link](https://github.com/makinacorpus/easydict)]\n",
    "\n",
    "In this notebook we use a few `edicts` with `exp` being one of them. It is initialized in the following cell and has keys and values containing information about the experiment being run. Although initialized in this section, we keep adding new keys and values to the dict in the later sections as well.  \n",
    "\n",
    "This notebook supports gym environments with observation space of type `gym.spaces.Box` and action space of type `gym.spaces.Discrete`. Eg: Acrobot-v1, CartPole-v1, MountainCar-v0"
   ]
  },
  {
   "cell_type": "code",
   "execution_count": 3,
   "id": "468a56a4-7e93-4ec9-8bd8-de7efc02e2d9",
   "metadata": {},
   "outputs": [],
   "source": [
    "exp = edict()\n",
    "\n",
    "exp.exp_name = 'TRPO'  # algorithm name, in this case it should be 'PPO'\n",
    "exp.env_id = 'CartPole-v1'  # name of the gym environment to be used in this experiment. Eg: Acrobot-v1, CartPole-v1, MountainCar-v0\n",
    "exp.device = device.type  # save the device type used to load tensors and perform tensor operations\n",
    "\n",
    "exp.random_seed = True  # set random seed for reproducibility of python, numpy and torch\n",
    "exp.seed = 2\n",
    "\n",
    "# name of the project in Weights & Biases (wandb) to which logs are patched. (only if wandb logging is enabled)\n",
    "# if the project does not exist in wandb, it will be created automatically\n",
    "wandb_prj_name = f\"RLLBC_{exp.env_id}\"\n",
    "\n",
    "# name prefix of output files generated by the notebook\n",
    "exp.run_name = f\"{exp.env_id}__{exp.exp_name}__{exp.seed}__{datetime.now().strftime('%y%m%d_%H%M%S')}\"\n",
    "\n",
    "if exp.random_seed:\n",
    "    random.seed(exp.seed)\n",
    "    np.random.seed(exp.seed)\n",
    "    torch.manual_seed(exp.seed)\n",
    "    torch.backends.cudnn.deterministic = exp.random_seed"
   ]
  },
  {
   "cell_type": "markdown",
   "id": "e7685598-5e38-4124-bf7e-2c76faef0607",
   "metadata": {
    "tags": []
   },
   "source": [
    "### Rollout Buffer\n",
    "\n",
    "The second dictionary, `hypp`, is initialized in the following cell. It has keys and values containing the hyperparameters necessary to the algorithm. Similar to the `exp` dict, new keys and values are added to the `hypp` in the later sections. \n",
    "\n",
    "Define both `exp.num_envs` and `hypp.num_steps`.\n",
    "\n",
    "Initialize the multiple environments and run them in parallel using the `SyncVectorEnv` class from the gym library [More info: [Link](https://www.gymlibrary.dev/content/vectorising/)]. \n",
    "\n",
    "Next, create a rollout buffer based on the number of parallel envs `exp.num_envs` and the number of steps per env `hypp.num_steps`. It is later used to save episode trajectories during agent training. The buffer gets replaced with new trajectories at the beginning of every iteration of the training loop."
   ]
  },
  {
   "cell_type": "code",
   "execution_count": 4,
   "id": "4632173c-fb81-48fe-8378-d3ac93736c60",
   "metadata": {
    "tags": []
   },
   "outputs": [],
   "source": [
    "hypp = edict()\n",
    "\n",
    "exp.num_envs = 4  # number of parallel game environments\n",
    "hypp.num_steps = 128  # number of steps to run in each environment per policy rollout\n",
    "\n",
    "# Intialize vectorized gym evn\n",
    "envs = gym.vector.SyncVectorEnv([hf.make_env(exp.env_id, exp.seed + i) for i in range(exp.num_envs)])\n",
    "\n",
    "# RollOut Buffer Init\n",
    "observations = torch.zeros((hypp.num_steps, exp.num_envs) + envs.single_observation_space.shape).to(device)\n",
    "actions = torch.zeros((hypp.num_steps, exp.num_envs) + envs.single_action_space.shape).to(device)\n",
    "logprobs = torch.zeros((hypp.num_steps, exp.num_envs)).to(device)\n",
    "rewards = torch.zeros((hypp.num_steps, exp.num_envs)).to(device)\n",
    "dones = torch.zeros((hypp.num_steps, exp.num_envs)).to(device)\n",
    "values = torch.zeros((hypp.num_steps, exp.num_envs)).to(device)\n",
    "\n",
    "envs.close()"
   ]
  },
  {
   "cell_type": "markdown",
   "id": "5080f052-8cfd-47bb-83e8-772b8c22f780",
   "metadata": {},
   "source": [
    "### Agent Model Class\n",
    "\n",
    "The `Agent` class consists of a deep MLP value function called the `critic`, and a deep MLP policy called the `actor`, both learned during training. \n",
    "\n",
    "The class has three methods:\n",
    "1. `get_value` method evaluates the `critic` with a given observation (state) to obtain the learned estimate of the observation's value.\n",
    "2. `get_distribution` method first evaluates the `actor` to obtain the un-normalized probabilities of the actions, which is then used to create a categorical distribution over the actions.\n",
    "3. `get_action` method returns an action. The method first obtains the categorical distribution over actions the `actor` has learned. Then, if `greedy = True`, it returns the action with the highest probability else, an action sampled from the distribution.\n",
    "4. `get_action_and_value` method when given an observation, returns the action sampled from the probability distribution (if `action=None`), the respective action's log probability, and the estimate of the observation's value according to the `critic` network.\n",
    "\n",
    "The `actor` and `critic` networks in the `Agent` class make use of the `layer_init` function to implement ideas derived from [Engstrom, Ilyas, et al., (2020)](https://openreview.net/forum?id=r1etN1rtPB), and [Andrychowicz et al. (2021)](https://openreview.net/forum?id=nIAxjsniDzg). The former introduces the idea of orthogonal initialization of weights for tanh activation. In the latter paper, decision C57 shows that initializing the policy such that the action distribution is centered as zero gives better performance. This is done by initializing the `actor`'s output layer weights with 0.01 std. (see the final layer of `self.actor`)\n",
    "\n",
    "Note: observation and state mean the same in the context of this notebook"
   ]
  },
  {
   "cell_type": "code",
   "execution_count": 5,
   "id": "d0fff29a-690d-4dc8-bf2c-191243f98a2e",
   "metadata": {},
   "outputs": [],
   "source": [
    "def layer_init(layer, std=np.sqrt(2), bias_const=0.0):\n",
    "    torch.nn.init.orthogonal_(layer.weight, std)\n",
    "    torch.nn.init.constant_(layer.bias, bias_const)\n",
    "    return layer\n",
    "\n",
    "\n",
    "class Agent(nn.Module):\n",
    "    def __init__(self, envs):\n",
    "        super().__init__()\n",
    "        self.critic = nn.Sequential(\n",
    "            layer_init(nn.Linear(np.array(envs.single_observation_space.shape).prod(), 64)),\n",
    "            nn.Tanh(),\n",
    "            layer_init(nn.Linear(64, 64)),\n",
    "            nn.Tanh(),\n",
    "            layer_init(nn.Linear(64, 1), std=1.0),\n",
    "        )\n",
    "        self.actor = nn.Sequential(\n",
    "            layer_init(nn.Linear(np.array(envs.single_observation_space.shape).prod(), 64)),\n",
    "            nn.Tanh(),\n",
    "            layer_init(nn.Linear(64, 64)),\n",
    "            nn.Tanh(),\n",
    "            layer_init(nn.Linear(64, envs.single_action_space.n), std=0.01),\n",
    "        )\n",
    "\n",
    "    def get_value(self, x):\n",
    "        return self.critic(x)\n",
    "\n",
    "    def get_distribution(self, x):\n",
    "        logits = self.actor(x)\n",
    "        probs = Categorical(logits=logits)\n",
    "        return probs\n",
    "\n",
    "    def get_action(self, x, greedy=False):\n",
    "        distr = self.get_distribution(x)\n",
    "        action = distr.sample() if not greedy else distr.mode\n",
    "        return action\n",
    "\n",
    "    def get_action_and_value(self, x, action=None):\n",
    "        distr = self.get_distribution(x)\n",
    "        if action is None:\n",
    "            action = distr.sample()\n",
    "        return action, distr.log_prob(action), self.critic(x)"
   ]
  },
  {
   "cell_type": "markdown",
   "id": "08382f29-5bfb-4814-94ef-53d39db5cfea",
   "metadata": {
    "tags": []
   },
   "source": [
    "### Training Params & Agent Hyperparams\n",
    "\n",
    "The parameters and hyperparameters in this section are broadly categorized as below:\n",
    "1. Flags for logging: \n",
    "    - They are stored in the `exp` dict. \n",
    "    - This notebook uses tensorboard logging by deafult to log experiment metrics. These tb log files are saved in the directory `logs/<exp.exp_type>/<exp.run_name>/tb`. (to learn about `exp.exp_type` refer point 3. below)\n",
    "    - To enable logging of gym videos of the agent's interaction with the env set `exp.capture_video = True`\n",
    "    - Patch tensorboard logs and gym videos to Weigths & Biases (wandb) by setting `exp.enable_wandb_logging = True`\n",
    "2. Flags and parameters to generate average performance throughout training:\n",
    "    - Stored in the `exp` dict\n",
    "    - If `exp.eval_agent = True`, the performance of the agent during it's training is saved in the corresponding logs folder. You can later used this to compare the performance of your current agent with other agents during their training (in Section 1.5.2).\n",
    "    - Every `exp.eval_frequency` episodes the trained agent is evaluated using the `envs_eval` by playing out `exp.eval_count` episodes\n",
    "    - To speed up training set `exp.eval_agent = False` \n",
    "3. Create experiment hierarchy inside log folders:\n",
    "    - if `exp.exp_type` is None, experiment logs are saved to the root log directory `logs`, ie, `/logs/<exp.run_name>`, otherwise they are saved to the directory `logs/<exp.exp_type>/<exp._name>`\n",
    "4. Parameters and hyperparameters related to the algorithm:\n",
    "    - Stored in the `hypp` dict\n",
    "    - Quick reminder:  the `num_steps` key in the `hypp` dict is also a hyperparameter defined in Env & Rollout Buffer Init Section.\n",
    "\n",
    "Note: \n",
    "1. If Weigths and Biases (wandb) logging is enabled, when you run the \"Training The Agent\" cell, enter your wandb's api key when prompted. \n",
    "2. Training takes longer when either gym video recording or agent evaluation during training is enabled. To speed up training set both `exp.capture_video` and `exp.eval_agent` to `False`."
   ]
  },
  {
   "cell_type": "code",
   "execution_count": 6,
   "id": "72d426a0-fca1-4608-9ac7-31ceabd0b100",
   "metadata": {},
   "outputs": [],
   "source": [
    "# flags for logging purposes\n",
    "exp.enable_wandb_logging = True\n",
    "exp.capture_video = False  # disable to speed up training\n",
    "\n",
    "# flags to generate agent's average performance during training\n",
    "exp.eval_agent = True  # disable to speed up training\n",
    "exp.eval_count = 10\n",
    "exp.eval_frequency = 20\n",
    "exp.device = device.type\n",
    "\n",
    "# putting the run into the designated log folder for structuring\n",
    "exp.exp_type = None  # directory the run is saved to. Should be None or a string value\n",
    "\n",
    "# agent learning specific flags\n",
    "hypp.total_timesteps = 500000  # the training duration in number of time steps\n",
    "hypp.num_minibatches = 4  # number of minibatches for gradient updates\n",
    "hypp.update_epochs = 10  # only applies to critic updates in TRPO\n",
    "\n",
    "hypp.batch_size = int(exp.num_envs * hypp.num_steps)  # len of the rollout buffer\n",
    "hypp.minibatch_size = int(hypp.batch_size // hypp.num_minibatches)  # rollout buffer size / minibatch count\n",
    "\n",
    "hypp.learning_rate = 1e-3  # size of gradient update step\n",
    "hypp.anneal_lr = False  # when True reduces the learning rate as the training progresses\n",
    "hypp.gamma = 0.99  # discount factor over future rewards\n",
    "hypp.norm_adv = True\n",
    "hypp.cg_max_steps = 10                   # maximum number of steps in the Conjugate Gradient algorithm for computing the Hessian vector product\n",
    "hypp.cg_damping = 0.1                    # damping in the Hessian vector product computation\n",
    "hypp.line_search_shrinking_factor = 0.8  # step-size reduction factor for the line-search (i.e., `theta_new = theta + shrinking_factor^i * step`)\n",
    "hypp.line_search_max_iter = 10           # maximum number of iteration for the backtracking line-search\n",
    "hypp.target_kl = 0.01  # the target KL divergence threshold for the policy"
   ]
  },
  {
   "cell_type": "markdown",
   "id": "d3493918-2c78-4ea4-bd28-391141dc0b83",
   "metadata": {
    "tags": []
   },
   "source": [
    "## Training the Agent\n",
    "Before we begin training the agent we first initalize the logging (based on the repsective flags in the `exp` dict), object of the `Agent` class and the optimizer, followed by an inital set of observations. \n",
    "\n",
    "After that comes the main training loop which is comprised of:  \n",
    "1. learning rate annealing, \n",
    "2. collecting trajectories, ie, filling the rollout buffer with the actor's interaction with the environment,\n",
    "3. computing the advantage estimate $A^{\\pi_{\\theta_k}}$ and returns $G$ of the trajectories saved in the rollout buffer,\n",
    "4. Policy parameters update:\n",
    "    1. Computing the gradient of the surrogate objective wrt the policy parameters, ie, $g_k = \\nabla_{\\theta} L_{\\pi_{\\theta_{k}}}\\left(\\pi_\\theta\\right)|_{\\theta_{k}}$, where: \n",
    "    $$ L_{\\pi_{\\theta_{k}}}\\left(\\pi_\\theta\\right) = \\mathbb{E}_{s , a \\sim \\pi_{\\theta_{k}}} \\left[ \\frac{\\pi_\\theta(a|s)}{\\pi_{\\theta_{k}}(a|s)}A^{\\pi_{\\theta_k}}(s, a) \\right]$$\n",
    "    2. Computing the Hessian of KL Divergence (also called the Fisher Information Matrix) wrt to policy parameters, ie, $H_k ={\\nabla^2_\\theta} \\bar{D}_{KL}\\left(\\pi_{\\theta_{k}}, \\pi_{\\theta}\\right)$, where\n",
    "    $$\\bar{D}_{KL}\\left(\\pi_{\\theta_{k}}, \\pi_{\\theta}\\right) = \\mathbb{E}_{s \\sim \\pi_{\\theta_{k}}}\\left[D_{\\mathrm{KL}}\\left(\\pi_{\\theta_k}(\\cdot \\mid s) \\| \\pi_\\theta(\\cdot \\mid s)\\right)\\right]$$\n",
    "    3. Using the conjugate gradient algorithm to compute: $$ x_k \\approx H_k^{-1} g_k$$\n",
    "    4. Updating the policy by bracktracing line search with: $$\\theta_{k+1}=\\theta_k+\\alpha^j \\sqrt{\\frac{2 \\delta}{x_k^T H_k x_k}} x_k $$\n",
    "5. Critic network update:\n",
    "    1. Computing the value loss for critic network update, ie, $$L^{V}(s, \\theta) = \\left(V_{\\theta}(s)-G(s)\\right)^{2}$$\n",
    "    2. Perform gradient descent over the critic network `hypp.update_epochs` times wrt the value loss function $L^{V}$.\n",
    "    \n",
    "Post completion of the main training loop, we save a copy of the following in the directory `logs/<exp.exp_type>/<exp.run_name>`:\n",
    "1. `exp` and `hypp` dicts into a `.config` file \n",
    "2. `agent` (instance of `Agent` class) into a `.pt` file for later evaluation\n",
    "3. agent performance progress throughout training into a `.csv` file if `exp.eval_agent=True`\n",
    "\n",
    "\n",
    "Note: we have two vectorised gym environments, `envs` and `envs_eval` in the initalizations. `envs` is used to fill the rollout buffer with trajectories and `envs_eval` is used to evaluate the agent performance at different stages of training."
   ]
  },
  {
   "cell_type": "code",
   "execution_count": 7,
   "id": "4faadf6f-01ed-4318-8e21-fd41df1faa09",
   "metadata": {},
   "outputs": [
    {
     "name": "stderr",
     "output_type": "stream",
     "text": [
      "\u001b[34m\u001b[1mwandb\u001b[0m: Using wandb-core as the SDK backend. Please refer to https://wandb.me/wandb-core for more information.\n",
      "\u001b[34m\u001b[1mwandb\u001b[0m: Currently logged in as: \u001b[33mlukas-kesper98\u001b[0m. Use \u001b[1m`wandb login --relogin`\u001b[0m to force relogin\n"
     ]
    },
    {
     "data": {
      "text/html": [
       "Tracking run with wandb version 0.18.3"
      ],
      "text/plain": [
       "<IPython.core.display.HTML object>"
      ]
     },
     "metadata": {},
     "output_type": "display_data"
    },
    {
     "data": {
      "text/html": [
       "Run data is saved locally in <code>/Users/kesperlukas/Projects/RLLBC/deep_examples/logs/wandb/run-20241119_144924-j3q2by4n</code>"
      ],
      "text/plain": [
       "<IPython.core.display.HTML object>"
      ]
     },
     "metadata": {},
     "output_type": "display_data"
    },
    {
     "data": {
      "text/html": [
       "Syncing run <strong><a href='https://wandb.ai/lukas-kesper98/RLLBC_CartPole-v1/runs/j3q2by4n' target=\"_blank\">CartPole-v1__TRPO__2__241119_144923</a></strong> to <a href='https://wandb.ai/lukas-kesper98/RLLBC_CartPole-v1' target=\"_blank\">Weights & Biases</a> (<a href='https://wandb.me/run' target=\"_blank\">docs</a>)<br/>"
      ],
      "text/plain": [
       "<IPython.core.display.HTML object>"
      ]
     },
     "metadata": {},
     "output_type": "display_data"
    },
    {
     "data": {
      "text/html": [
       " View project at <a href='https://wandb.ai/lukas-kesper98/RLLBC_CartPole-v1' target=\"_blank\">https://wandb.ai/lukas-kesper98/RLLBC_CartPole-v1</a>"
      ],
      "text/plain": [
       "<IPython.core.display.HTML object>"
      ]
     },
     "metadata": {},
     "output_type": "display_data"
    },
    {
     "data": {
      "text/html": [
       " View run at <a href='https://wandb.ai/lukas-kesper98/RLLBC_CartPole-v1/runs/j3q2by4n' target=\"_blank\">https://wandb.ai/lukas-kesper98/RLLBC_CartPole-v1/runs/j3q2by4n</a>"
      ],
      "text/plain": [
       "<IPython.core.display.HTML object>"
      ]
     },
     "metadata": {},
     "output_type": "display_data"
    },
    {
     "data": {
      "application/vnd.jupyter.widget-view+json": {
       "model_id": "e4d7e7e7afb5472c90f91befcbb1eac8",
       "version_major": 2,
       "version_minor": 0
      },
      "text/plain": [
       "  0%|          | 0/976 [00:00<?, ?it/s]"
      ]
     },
     "metadata": {},
     "output_type": "display_data"
    },
    {
     "data": {
      "application/vnd.jupyter.widget-view+json": {
       "model_id": "",
       "version_major": 2,
       "version_minor": 0
      },
      "text/plain": [
       "VBox(children=(Label(value='0.490 MB of 0.727 MB uploaded\\r'), FloatProgress(value=0.6733018728143615, max=1.0…"
      ]
     },
     "metadata": {},
     "output_type": "display_data"
    },
    {
     "data": {
      "text/html": [
       " View run <strong style=\"color:#cdcd00\">CartPole-v1__TRPO__2__241119_144923</strong> at: <a href='https://wandb.ai/lukas-kesper98/RLLBC_CartPole-v1/runs/j3q2by4n' target=\"_blank\">https://wandb.ai/lukas-kesper98/RLLBC_CartPole-v1/runs/j3q2by4n</a><br/> View project at: <a href='https://wandb.ai/lukas-kesper98/RLLBC_CartPole-v1' target=\"_blank\">https://wandb.ai/lukas-kesper98/RLLBC_CartPole-v1</a><br/>Synced 5 W&B file(s), 0 media file(s), 0 artifact file(s) and 1 other file(s)"
      ],
      "text/plain": [
       "<IPython.core.display.HTML object>"
      ]
     },
     "metadata": {},
     "output_type": "display_data"
    }
   ],
   "source": [
    "# reinit run_name\n",
    "exp.run_name = f\"{exp.env_id}__{exp.exp_name}__{exp.seed}__{datetime.now().strftime('%y%m%d_%H%M%S')}\"\n",
    "\n",
    "# Init tensorboard logging and wandb logging\n",
    "writer = hf.setup_logging(wandb_prj_name, exp, hypp)\n",
    "\n",
    "# create two vectorized envs: one to fill the rollout buffer with trajectories, and\n",
    "# another to evaluate the agent performance at different stages of training  \n",
    "envs.close()\n",
    "envs = gym.vector.SyncVectorEnv([hf.make_env(exp.env_id, exp.seed + i) for i in range(exp.num_envs)])\n",
    "envs_eval = gym.vector.SyncVectorEnv([hf.make_env(exp.env_id, exp.seed + i) for i in range(exp.eval_count)])\n",
    "\n",
    "# init list to track agent's performance throughout training\n",
    "tracked_returns_over_training = []\n",
    "tracked_episode_len_over_training = []\n",
    "tracked_episode_count = []\n",
    "last_evaluated_episode = None  # stores the episode_step of when the agent's performance was last evaluated\n",
    "greedy_evaluation = False  # whether to perform the evaluation in a greedy way or not\n",
    "eval_max_return = -float('inf')\n",
    "\n",
    "# Create Agent class Instance and network optimizer\n",
    "agent = Agent(envs).to(device)\n",
    "optimizer = optim.Adam(agent.critic.parameters(), lr=hypp.learning_rate)\n",
    "\n",
    "# Init observation to start learning\n",
    "start_time = time.time()\n",
    "obs, _  = envs.reset()\n",
    "obs = torch.Tensor(obs).to(device)\n",
    "done = torch.zeros(exp.num_envs).to(device)\n",
    "num_updates = int(hypp.total_timesteps // hypp.batch_size)\n",
    "\n",
    "global_step = 0\n",
    "episode_step = 0\n",
    "gradient_step = 0\n",
    "\n",
    "pbar = notebook.tqdm(range(1, num_updates + 1))\n",
    "\n",
    "# training loop\n",
    "for update in pbar:\n",
    "    # Annealing the rate if instructed to do so.\n",
    "    if hypp.anneal_lr:\n",
    "        frac = 1.0 - (update - 1.0) / num_updates\n",
    "        lrnow = frac * hypp.learning_rate\n",
    "        optimizer.param_groups[0][\"lr\"] = lrnow\n",
    "\n",
    "    agent.eval()\n",
    "\n",
    "    # collect trajectories\n",
    "    for step in range(0, hypp.num_steps):\n",
    "        observations[step] = obs\n",
    "        dones[step] = done\n",
    "\n",
    "        # sample action and collect value from learned agent policy and value networks\n",
    "        with torch.no_grad():\n",
    "            action, logprob, value = agent.get_action_and_value(obs)\n",
    "            values[step] = value.flatten()\n",
    "        actions[step] = action\n",
    "        logprobs[step] = logprob\n",
    "\n",
    "        # execute the game and log data.\n",
    "        next_obs, reward, terminations, truncations, infos = envs.step(action.cpu().numpy())\n",
    "        done = np.logical_or(terminations, truncations)\n",
    "        \n",
    "        for idx, trunc in enumerate(truncations):\n",
    "            agent.eval()\n",
    "            if trunc:\n",
    "                terminal_obs = torch.tensor(infos[\"final_observation\"][idx]).to(device)\n",
    "                with torch.no_grad():\n",
    "                    terminal_value = agent.get_value(terminal_obs)\n",
    "                reward[idx] += hypp.gamma * terminal_value\n",
    "        \n",
    "        if \"final_info\" in infos:\n",
    "            for info in infos[\"final_info\"]:\n",
    "                if info and \"episode\" in info:\n",
    "                    episode_step += 1\n",
    "                    pbar.set_description(f\"global_step={global_step}, episodic_return={info['episode']['r']}\")\n",
    "                    writer.add_scalar(\"rollout/episodic_return\", info[\"episode\"][\"r\"], global_step+idx)\n",
    "                    writer.add_scalar(\"rollout/episodic_length\", info[\"episode\"][\"l\"], global_step+idx)\n",
    "                    writer.add_scalar(\"Charts/episode_step\", episode_step, global_step)\n",
    "                    writer.add_scalar(\"Charts/gradient_step\", gradient_step, global_step)\n",
    "                    break\n",
    "\n",
    "        rewards[step] = torch.tensor(reward).to(device).view(-1)\n",
    "        next_obs, done = torch.Tensor(next_obs).to(device), torch.Tensor(done).to(device)\n",
    "\n",
    "        global_step += 1 * exp.num_envs\n",
    "        obs = next_obs\n",
    "\n",
    "        # generate average performance statistics of current learned agent\n",
    "        if exp.eval_agent and episode_step % exp.eval_frequency == 0 and last_evaluated_episode != episode_step:\n",
    "            last_evaluated_episode = episode_step\n",
    "            tracked_return, tracked_episode_len = hf.evaluate_agent(envs_eval, agent, exp.eval_count, exp.seed, greedy_actor=greedy_evaluation)\n",
    "            tracked_returns_over_training.append(tracked_return)\n",
    "            tracked_episode_len_over_training.append(tracked_episode_len)\n",
    "            tracked_episode_count.append([episode_step, global_step])\n",
    "\n",
    "            # if there has been improvment of the model -\n",
    "            if np.mean(tracked_return) > eval_max_return:\n",
    "                eval_max_return = np.mean(tracked_return)\n",
    "                # call helper function save_and_log_agent to save model, create video, log video to wandb\n",
    "                hf.save_and_log_agent(exp, envs, Agent, agent, episode_step, greedy=greedy_evaluation, print_path=False)\n",
    "\n",
    "    next_done = done\n",
    "    agent.train()\n",
    "\n",
    "    # calculate advantages and returns\n",
    "    with torch.no_grad():\n",
    "        next_value = agent.get_value(next_obs).reshape(1, -1)\n",
    "        advantages = torch.zeros_like(rewards).to(device)\n",
    "        returns = torch.zeros_like(rewards).to(device)\n",
    "        for t in reversed(range(hypp.num_steps)):\n",
    "            if t == hypp.num_steps - 1:\n",
    "                nextnonterminal = 1.0 - next_done\n",
    "                returns[t] = rewards[t] + hypp.gamma * next_value * nextnonterminal\n",
    "            else:\n",
    "                nextnonterminal = 1.0 - dones[t + 1]\n",
    "                returns[t] = rewards[t] + hypp.gamma * returns[t+1] * nextnonterminal\n",
    "        advantages = returns - values\n",
    "\n",
    "    # flatten the batch\n",
    "    b_observations = observations.reshape((-1,) + envs.single_observation_space.shape)\n",
    "    b_logprobs = logprobs.reshape(-1)\n",
    "    b_actions = actions.reshape((-1,) + envs.single_action_space.shape)\n",
    "    b_advantages = advantages.reshape(-1)\n",
    "    b_returns = returns.reshape(-1)\n",
    "    b_values = values.reshape(-1)\n",
    "\n",
    "    with torch.no_grad():\n",
    "        old_distribution = copy.copy(agent.get_distribution(b_observations))\n",
    "\n",
    "    distribution = agent.get_distribution(b_observations)\n",
    "    log_prob = distribution.log_prob(b_actions)\n",
    "\n",
    "    if hypp.norm_adv:\n",
    "        b_advantages = (b_advantages - b_advantages.mean()) / (b_advantages.std() + 1e-8)\n",
    "\n",
    "    # ratio between old and new policy, should be one at the start of each iteration\n",
    "    ratio = torch.exp(log_prob - b_logprobs)\n",
    "\n",
    "    # compute the surrogate advantage\n",
    "    policy_objective = (b_advantages * ratio).mean()\n",
    "\n",
    "    # KL Divergence\n",
    "    kl_div = kl_divergence(distribution, old_distribution).mean()\n",
    "\n",
    "    # Compute the gradient of the surroagate advantage and the kl divergence wrt to the policy network parameters\n",
    "    optimizer.zero_grad()\n",
    "    actor_params, policy_objective_gradients, grad_kl, grad_shape = compute_policy_grad(agent.actor, kl_div,\n",
    "                                                                                        policy_objective)\n",
    "\n",
    "    # Compute search_direction, ie ${H^-1}.{g}$, using the conjugate gradient method\n",
    "    hessian_vector_product_fn = partial(hessian_vector_product, actor_params, grad_kl, hypp.cg_damping)\n",
    "\n",
    "    search_direction = conjugate_gradient_solver(\n",
    "        hessian_vector_product_fn,\n",
    "        policy_objective_gradients,\n",
    "        max_iter=hypp.cg_max_steps\n",
    "    )\n",
    "\n",
    "    line_search_max_step_size = 2 * hypp.target_kl\n",
    "    line_search_max_step_size /= torch.matmul(\n",
    "        search_direction, hessian_vector_product_fn(search_direction, retain_graph=False)\n",
    "    )\n",
    "    line_search_max_step_size = torch.sqrt(line_search_max_step_size)\n",
    "\n",
    "    line_search_backtrack_coeff = 1.0\n",
    "    original_actor_params = [param.detach().clone() for param in actor_params]\n",
    "\n",
    "    policy_objective_values = []  # average value of the surrogate advantage\n",
    "    kl_divergences = []  # average KL-divergence between policies across states visited by the old policy\n",
    "\n",
    "    is_line_search_success = False\n",
    "    with torch.no_grad():\n",
    "        # update policy parameters by backtracking line-search\n",
    "        for _ in range(hypp.line_search_max_iter):\n",
    "\n",
    "            start_idx = 0\n",
    "            # Applying the scaled step direction\n",
    "            for param, original_param, shape in zip(actor_params, original_actor_params, grad_shape):\n",
    "                n_params = param.numel()\n",
    "                param.data = (\n",
    "                        original_param.data\n",
    "                        + line_search_backtrack_coeff\n",
    "                        * line_search_max_step_size\n",
    "                        * search_direction[start_idx: (start_idx + n_params)].view(shape)\n",
    "                )\n",
    "                start_idx += n_params\n",
    "\n",
    "            # Recomputing the policy log-probabilities\n",
    "            distribution = agent.get_distribution(b_observations)\n",
    "            log_prob = distribution.log_prob(b_actions)\n",
    "\n",
    "            # New policy objective\n",
    "            ratio = torch.exp(log_prob - b_logprobs)\n",
    "            new_policy_objective = (b_advantages * ratio).mean()\n",
    "\n",
    "            # New KL-divergence\n",
    "            kl_div = kl_divergence(distribution, old_distribution).mean()\n",
    "\n",
    "            # Constraint criteria:\n",
    "            # we need to improve the surrogate policy objective\n",
    "            # while being close enough (in terms of kl div) to the old policy\n",
    "            if (kl_div < hypp.target_kl) and (new_policy_objective > policy_objective):\n",
    "                is_line_search_success = True\n",
    "                break\n",
    "\n",
    "            # Reducing step size if line-search wasn't successful\n",
    "            line_search_backtrack_coeff *= hypp.line_search_shrinking_factor\n",
    "\n",
    "        if not is_line_search_success:\n",
    "            # If the line-search wasn't successful we revert to the original parameters\n",
    "            for param, original_param in zip(actor_params, original_actor_params):\n",
    "                param.data = original_param.data.clone()\n",
    "\n",
    "            policy_objective_values = policy_objective.item()\n",
    "            kl_divergences = 0\n",
    "        else:\n",
    "            policy_objective_values = new_policy_objective.item()\n",
    "            kl_divergences = kl_div.item()\n",
    "\n",
    "    b_inds = np.arange(hypp.batch_size)\n",
    "\n",
    "    value_losses = []\n",
    "\n",
    "    # update the critic network\n",
    "    for i in range(hypp.update_epochs):\n",
    "        np.random.shuffle(b_inds)\n",
    "        for start in range(0, hypp.batch_size, hypp.minibatch_size):\n",
    "            end = start + hypp.minibatch_size\n",
    "            mb_inds = b_inds[start:end]\n",
    "\n",
    "            newvals = agent.get_value(b_observations[mb_inds])\n",
    "            newvals = newvals.view(-1)\n",
    "\n",
    "            v_loss = 0.5 * ((newvals - b_returns[mb_inds]) ** 2).mean()\n",
    "\n",
    "            optimizer.zero_grad()\n",
    "            v_loss.backward()\n",
    "            optimizer.step()\n",
    "\n",
    "            value_losses.append(v_loss.item())\n",
    "            gradient_step += 1\n",
    "\n",
    "    y_pred, y_true = b_values.cpu().numpy(), b_returns.cpu().numpy()\n",
    "    var_y = np.var(y_true)\n",
    "    explained_var = np.nan if var_y == 0 else 1 - np.var(y_true - y_pred) / var_y\n",
    "\n",
    "    # log losses to tensorboard summary writer\n",
    "    writer.add_scalar(\"hyperparameters/learning_rate\", optimizer.param_groups[0][\"lr\"], global_step)\n",
    "    writer.add_scalar(\"train/value_loss\", np.mean(value_losses), global_step)\n",
    "    writer.add_scalar(\"train/kl_divergence\", kl_divergences, global_step)\n",
    "    writer.add_scalar(\"train/explained_variance\", explained_var, global_step)\n",
    "    writer.add_scalar(\"train/is_line_search_success\", int(is_line_search_success), global_step)\n",
    "    writer.add_scalar(\"train/surrogate_objective\", policy_objective_values, global_step)\n",
    "    writer.add_scalar(\"Charts/episode_step\", episode_step, global_step)\n",
    "    writer.add_scalar(\"Charts/gradient_step\", gradient_step, global_step)\n",
    "\n",
    "# one last evaluation stage\n",
    "if exp.eval_agent:\n",
    "    last_evaluated_episode = episode_step\n",
    "    tracked_return, tracked_episode_len = hf.evaluate_agent(envs_eval, agent, exp.eval_count, exp.seed, greedy_actor=greedy_evaluation)\n",
    "    tracked_returns_over_training.append(tracked_return)\n",
    "    tracked_episode_len_over_training.append(tracked_episode_len)\n",
    "    tracked_episode_count.append([episode_step, global_step])\n",
    "\n",
    "    # if there has been improvment of the model -\n",
    "    if np.mean(tracked_return) > eval_max_return:\n",
    "        eval_max_return = np.mean(tracked_return)\n",
    "        # call helper function save_and_log_agent to save model, create video, log video to wandb\n",
    "        hf.save_and_log_agent(exp, envs, Agent, agent, episode_step, greedy=greedy_evaluation, print_path=True)\n",
    "\n",
    "    hf.save_tracked_values(tracked_returns_over_training, tracked_episode_len_over_training, tracked_episode_count, exp.eval_count, exp.run_name, exp.exp_type)\n",
    "\n",
    "envs.close()\n",
    "envs_eval.close()\n",
    "writer.close()\n",
    "if wandb.run is not None:\n",
    "    wandb.finish(quiet=True)\n",
    "    wandb.init(mode=\"disabled\")\n",
    "\n",
    "hf.save_train_config_to_yaml(exp, hypp)"
   ]
  },
  {
   "cell_type": "markdown",
   "id": "74e2408a-aeea-4c1f-800c-5067bdd305e4",
   "metadata": {
    "tags": []
   },
   "source": [
    "## Compare Trained Agents and Display Behaviour"
   ]
  },
  {
   "cell_type": "markdown",
   "id": "4b0f1482-cf6b-4a95-b64a-c0d8e8626a30",
   "metadata": {
    "tags": []
   },
   "source": [
    "### Display Trained Agent Behaviour\n",
    "\n",
    "Set `agent_name` and `agent_exp_type` to load the saved agent model in the respective log folder and generate a video of the agent's interaction with the gym environment. After the cell is executed, you should see a video embedding as output, and the video is also available in the following directory: `/logs/<exp.exp_type>/<exp.run_name>/videos` "
   ]
  },
  {
   "cell_type": "code",
   "execution_count": 8,
   "id": "7419ed1c-cfb3-4e86-be95-e418a3ffe51d",
   "metadata": {},
   "outputs": [
    {
     "data": {
      "text/html": [
       "<video loop autoplay  >\n",
       " <source src=\"data:video/mp4;base64,AAAAIGZ0eXBpc29tAAACAGlzb21pc28yYXZjMW1wNDEAAAAIZnJlZQAAkmhtZGF0AAACrwYF//+r3EXpvebZSLeWLNgg2SPu73gyNjQgLSBjb3JlIDE2NCByMzEwOCAzMWUxOWY5IC0gSC4yNjQvTVBFRy00IEFWQyBjb2RlYyAtIENvcHlsZWZ0IDIwMDMtMjAyMyAtIGh0dHA6Ly93d3cudmlkZW9sYW4ub3JnL3gyNjQuaHRtbCAtIG9wdGlvbnM6IGNhYmFjPTEgcmVmPTMgZGVibG9jaz0xOjA6MCBhbmFseXNlPTB4MzoweDExMyBtZT1oZXggc3VibWU9NyBwc3k9MSBwc3lfcmQ9MS4wMDowLjAwIG1peGVkX3JlZj0xIG1lX3JhbmdlPTE2IGNocm9tYV9tZT0xIHRyZWxsaXM9MSA4eDhkY3Q9MSBjcW09MCBkZWFkem9uZT0yMSwxMSBmYXN0X3Bza2lwPTEgY2hyb21hX3FwX29mZnNldD0tMiB0aHJlYWRzPTEyIGxvb2thaGVhZF90aHJlYWRzPTIgc2xpY2VkX3RocmVhZHM9MCBucj0wIGRlY2ltYXRlPTEgaW50ZXJsYWNlZD0wIGJsdXJheV9jb21wYXQ9MCBjb25zdHJhaW5lZF9pbnRyYT0wIGJmcmFtZXM9MyBiX3B5cmFtaWQ9MiBiX2FkYXB0PTEgYl9iaWFzPTAgZGlyZWN0PTEgd2VpZ2h0Yj0xIG9wZW5fZ29wPTAgd2VpZ2h0cD0yIGtleWludD0yNTAga2V5aW50X21pbj0yNSBzY2VuZWN1dD00MCBpbnRyYV9yZWZyZXNoPTAgcmNfbG9va2FoZWFkPTQwIHJjPWNyZiBtYnRyZWU9MSBjcmY9MjMuMCBxY29tcD0wLjYwIHFwbWluPTAgcXBtYXg9NjkgcXBzdGVwPTQgaXBfcmF0aW89MS40MCBhcT0xOjEuMDAAgAAAAiNliIQAL//+9q78yytHC5UuHVl7s1Hy6Ely/YgwfWgABqfIAAADAAqdX469HICGqQAAAwAFjADkB4hihgCJirFQJETByvho9SAGr9RoqG/essp34xGwmgAOt+m8gY0xue8OmxcJqE19HbVe5vXgD+3BZRUdv0KTCQal5H4IK0kYrUlWmk6NfQ3uDIBfrq+ae7U5ad6VPjFF72ELujymTFvlb4KiHq0znNKjfQXg/2HlkWd4wgU+0dnDJfRiWaj54fXmG2s2lOWvpCnneoSJQ1seWhKJJBwrTx/COvhkh2BIci0ap7mMHsx5HYdwMgEO8IfQA0ncWG4/vUxVnWv3NXRPXDEhWm1BOjDVXL+QzvUAMt2/mVcLV4KCZ8aBKCa0ToDRbERl+TAnGNCmSHhLoS8uUWQ4ptJ4J404e6+Wbh5Scau7qaHQBR6tPsMYr+PQXSr7ASlL+2ABJvNyExk2dwruK84R+zISts7c+vAxYdvq4nkQ8thQt4OlWW3qjpzrz/ZC5Dw7elSAcvBAdeS8+qfHwC+UETBcUlA/qePicJBkjoMQ3so0qjS1FA2Jqu0FkIqiSrY8npqfhDUVSbxUhrHh3ikhBxkduTjGIZ7KCXG7sNgKA+QGhhZUL35q1aYflN3F6fnruHBi6XaHwAACHNIZvpkcRm9Wr2qe7c1uvzFb1DqbwNmk0VPUA3qhhAAAAwAAAwAAAwAAAwAAAwAAAwAAAwOvAAAAQUGaJGxCv/44QAAAZ1ESlSqQGLuLhJAv4U+RdDqy5lbOVFJjtcjsvYIxvIN62eOGHiS0WA1wZrhsQvZld3VXg0NCAAAAFkGeQniFfwAABYshkKKZWrvpxBkfhjUAAAAPAZ5hdEJ/AAADAAADAN6AAAAAJwGeY2pCfwAABxQaUeQUWCIKNOvxjBBHY/SoRPo8AJbAb5RSlpv1lQAAAFJBmmhJqEFomUwIX//+jLAAABqgbHas+gFIOzQaBS7lnHt+10ox7twSVH/wBFElKfl1sDOH0Kg4pK+BfGee8PAoeYtzCuwVA+qrfffeXIJeGLWVAAAAMEGehkURLCv/AAAFiwzGnO4fJ1LQtk8lE4chXcNbZp9ScGOMij5TABM4WrJ0y5fZAwAAACcBnqV0Qn8AAAcTXCaYu+jfVk/YLupD/wWsVFjabHLXITiGYtDsxoEAAAAXAZ6nakJ/AAAHFCNiDILtC8ybvUgxo2YAAACnQZqsSahBbJlMCFf//jhAAABnB3M7AD5tMxjqx/F1PL2UBGqVoXUop2w0NUHT183/xg9lQ+7gTGGqRmwuM6UvnEXkvZwD97OW8esFZR3GJ6wXnAbumfrRrUmdbvOo+TE6fQ13z/pb+4PfM0t47MTQNIRsE+yeqbgiF1zVlu0O0G/AmU9cuu/RGmKilY3VHg5u61C41N/4iwb0dbkGm0wAymgDmov0jqwAAAA9QZ7KRRUsK/8AAAWKoNmZw5xT3nclRye+M5R0IYaK0ANxM1e/WzNK1DkNfeAlxqL/5VIaCo0JRxfFH9/SkwAAACgBnul0Qn8AAAcWX4wDDFtYiKIKy5EBFzVupd/yrS54WsSnuqjPOHpgAAAAIQGe62pCfwAABxXgKP5gycgOj/3MauJRsjTQpmCAx9uPgAAAAH5BmvBJqEFsmUwIX//+jLAAABqLqmfYTpg1iADB4AL36dUvUP6NaqlK6CEbZBpsZJRx/Ui4H7DKcAyeTdI5AzY5AbXC4q8Ogg+/9yn21HXvI2qA3Rh8mGtPmtXCsvQEYd8Cdv38HrIJShYVt4cctJTjiKa/JNO93gVlLgTRf/kAAAAoQZ8ORRUsK/8AAAWJaRigE86wz78JiSnFAdCK6OR1u2+iQVgtX2JJuQAAACQBny10Qn8AAAcWX4unLyd/iw9C3uUv6xQ1uTH6LEO+hWa8Ky8AAAAlAZ8vakJ/AAAHFeAo/mDJyA6QUiwAC1BCGi5CrMKrU9EmNfbGgAAAAKRBmzRJqEFsmUwIX//+jLAAABqFUpwQDQYe/h48wLs7CImTfSjOBiCB1BJQn3iNKXZ1CftanuSXIvGfqVkvbfTvPfX1EBpOHJxEAsE46ysxpFsa4aFwOAT59XsFi31ZyZh0ESC/KjQQIMTQBj7YH7a11k1N5OgRJ5hPRd8b0Qy4y31Q3dCz9H5ULXnM30wN/AMQKh+VAfDRWNwpC1z48ebw6A5cgAAAAD9Bn1JFFSwr/wAABYgfBD9WoC0VMD20/gnkvgLm64ma8J6PrvZd97C+OeOWUYUbRfoAg19nkp5HA8YZ4nyg4+EAAAAiAZ9xdEJ/AAAHE19Hl+6Bmj5KpLzd97C5SwtsLV5iROe5YAAAACkBn3NqQn8AAAcTtgJEdB9dettWy3LhNBAgstoIs4PdcuZFB4mLseAB8AAAAHtBm3hJqEFsmUwIV//+OEAAAGcBRj3xiATTcXQFHbMKDxWoQWki3qeYh5ZOf7d3Vz5bBHLKWHZVFB1AhCdaVM61tPQS4/TTviJnRiNHScAYkHp93jPfJ1qKz1MteIVncU4jH+d6Q7zhYzZDj8pgA1ijUE4EJ57ibBo3Io0AAABGQZ+WRRUsK/8AAAWLJYlVACz1S3wk7ctxyAK9HV3LsmN5LtBtpHwAWuX+mir0txk672hlgwffeadXjVdvXBBjLsm4DM6kgAAAACoBn7V0Qn8AAAcTX8x8gW7acpU6a+LotkPeNdfWN54F/vUlPMwgldKwvA0AAAAkAZ+3akJ/AAAHFbeyks6N4/P7fd1QChZWp1G/6h8mNYbNYjKTAAAAjkGbvEmoQWyZTAhX//44QAAAaff+a5gPnAQ/lMARUs5XmAwH5bIlUKTiCFb6kyct2lnnrDeNeMTgiRQJcEVi277ldsQDc2l6RyBL2dmxSuBdNbVr37D9D+6HD7687PEAqOG33x8/XX4mlh9z3md43W+BKAAJUofwklE1hHAO16+SXrPRJ6wz1rYDYY77qzAAAABAQZ/aRRUsK/8AAAWLgkUwDxUVeyNNpsnVa+epD4QAt7dYhKI67gYr+W5tI5BtXo0BE7rLm7+LvPRMAOCc6cnuNQAAADEBn/l0Qn8AAAcTJhtOQ7fcdGcACdSfvuK3p5rHN4N7cWvNN3ggAunD2H1RhlLFsTqQAAAANgGf+2pCfwAABxGYd8rt8GmHvK2H4JJoFPQvegBKLOPv0CGrK1C+56wn7c6VZibjFvwX5Hu40QAAAIdBm+BJqEFsmUwIV//+OEAAAGm+YqHFcsFC2H8fhNwacW7ffCmKT9ktbulQXdUJsgRONntQfeszFH1L4LjQIYqxEZ/O/BltnyaylOrTUmEHlCVaiNVRiUmSv0wWxnlS/fd0EpMB9V+MsNmWKwKYKp9yk669MFnvlI+XK6QgtFsvo5HX4ISlOXEAAAA3QZ4eRRUsK/8AAAWuvHw0rpCgpv1phz2JjyAxFWJgqrdC/1tqnSn0H1HehDHHE67XtxDcncim1AAAADUBnj10Qn8AAAcWEaysAstusMGymwisQCPpe3cxrExV5KMNIX2u9wM6LHfEPxE2HRlANeIpIAAAAC0Bnj9qQn8AAAdB3vIRBUR3CVanRZazkoXMZ2ILyIMGgu5ESGozquWUB7iZP6UAAACHQZokSahBbJlMCFf//jhAAABpZaEK1+rQSEfTxjj4v2AHyP0AlgW+epyIIMMkWkNahN722/35Xr1PrhILV87LO/UzaeAEQaMFtuh5ch5mzHxr89FpaKt4Q3VMUaQg+EsYRTutWfaA90bB0prSuBj+Wwyz116zfIBYb4IwF2PpjouQ/3/bUhiAAAAAOkGeQkUVLCv/AAAFr4MHGisEgBmJ2f0AzbK71PK775XHeSzkg1TvqhLdxrsRBwY2RKAZps/CsW1eu6kAAAA7AZ5hdEJ/AAAHPyX4KCgADJgpfXC9pCCLS2GfucFk98b1hgedDrj/DiQAcT78D9T8tXct0XvB7ebvHi4AAAApAZ5jakJ/AAAHQtwsnBzhrGziIyLs6VogBb+G2YHEGqI4LDyOA+xPBQUAAAB5QZpoSahBbJlMCFf//jhAAABp0vnlgB1ZYfoakUnqfn3EDT+iyLu89HooHHJhcx4F0EqsDIfGM5jLxqQm/kKwQt0jjGvB3ATqM2bF+0yVX6rwYVgK81e7pg9CXfs1VJFXLZteoZx8plymRqA5s4ZwfmZNVwlkW90AKwAAAFhBnoZFFSwr/wAABa8nOVbAAgz0i61WlWWRC8ZtlKWUSY/sqpyfRMSepVcvNd8p11TQu4+eM9JBjAJsal/ERuyMMpY89EAbxixo3Y35ujaMvo+35/IlF+vTAAAAQgGepXRCfwAAB0IRa9g4IO37ubYyibSGlk5GZMwybiC4gBb+Gd5S53cedVKsTDIipab6Z6IZIZKq6v1oX5tumN7LgQAAADkBnqdqQn8AAAdC3C1/hQtZoydo4nN3k3K0NnHeoxSsB+2cpN+DYVEALe00C3IXQAW+7OMZmzqT64AAAACqQZqsSahBbJlMCFf//jhAAABpgeZFZvJ6z1X79dkFlwAKUkR1QH5dhSVaUwciMjUPLkfZigSS+MC4yAT7YM5bU6T+keTYNlyDYws+2uEqVRsSh0pUA9aL5H2Qyh2OWH+p1RfChlYlq6T57y6hkdiDkfSAUYaKVQZf5LbXWfJSoDc66CC/sQ+O1K0Jo6tvhrjAExY5DqbB9360vplqj+Drb2+kW+z4V8AUno4AAAA+QZ7KRRUsK/8AAAWuiki0HGnFEwVkTYddBTiXJOlrg7a2FTcH5mJ0UMbomerkpPzufDbMn+1I5WOFaZX7QpMAAAA7AZ7pdEJ/AAAHQfjuLzWW6kjoxkXXlPyoVxBwAqBphQ3dUvuz9FTirAG9QBAgbOlbCcQri31YywKsVHwAAAArAZ7rakJ/AAAHQt25HU8GAwcDy8B30JaAALq3LUTP2HQER+6VP0lUVfyggAAAAG1Bmu9JqEFsmUwIV//+OEAAAGvOo5IKqbmoopzAGuK7ZHn8+QcouxBRVSMPstVwDmU2PEHKfWZPmypt+xHsMyyV0T0dxS/nYsvNaj+U0z5NqYXKjwOAjDt6F6oVHtWw+VcAF80AIrx2b47ZuyAfAAAANEGfDUUVLCf/AAAHbeAGEFMULLvcPYvTvhZlSza5N56VVZSye6TY6ojgO0vg3HlFE1nV9IEAAAArAZ8uakJ/AAAHbat7C0kgBb6uEMS+2/If6e0v993vyHIC8Qov56MFQXp8qQAAAIFBmzNJqEFsmUwIV//+OEAAAGwUIw9MwAWg0qM3QigjscesRUsPlIU44TVm0X06qbUk8meWHdBw/7jNXjdTLQRK+l4xVh8gYNkyEWSdLQpzVspSHRNxX3NfsLSZ2XYHVnX5YOgSFGA45e714lav1dHMleiD2QRhskLA6xgkoRFtIqAAAAAwQZ9RRRUsK/8AAAXRNVduKsgsFYEmzLoAW3hrXxLOGdIlOl6Kcppw6X+hykAjHRd6AAAAQAGfcHRCfwAAB2salmiRjBwIAVk+d/noZ71txQwJKG6NzofdbIhjYOB1IVeJ8p3/7wAqxlvm9kxHgbmDbW813kEAAAAxAZ9yakJ/AAAHaFD5dr54r8Ch46pN8TMgdkxsh2Z/893GCUsDjJrftBnLViJ/Z10m4AAAAJBBm3dJqEFsmUwIV//+OEAAAGwB9p2byrEAcoAAvq2U9GGfuOGafz6MjY7SAPiYxorc5zy6uig1CPIqR1zCtsyB8l1hIGHYdYvOINquDo4CXXdhYojW1hQ0CiN47UR6lrxlmSsHry3QmN2ja7WpbKUtz2/CqvvRNasze1BRCvzdOmqz/peeyK/F+47QvHCYPZQAAAA/QZ+VRRUsK/8AAAXRNVnvZ57S3C6SsaEALIsvU0alknZqMhpvKchRnkQVm1fepVuonhZPLidkvBtL7SZwfdz5AAAAOwGftHRCfwAAB2347ittmISIiAFvOlMyFPByQy0EC67JGPbiT/M/swpmDYmyc0licqi6TqQ+YEsGl03AAAAANQGftmpCfwAAB2uLKIYhScABfbWcZalYBT0AJaR6nXuIs+IHIHVOYrzCrd4i5ZTzwW+Z2/TBAAAAgEGbu0moQWyZTAhX//44QAAAbj5S/tRwYN0EuTgE09FvGw8Socs8BZpzYpDXXoyGvKA4A3FonhkzusCPHrQWOnzmnPgrCvaq/qx9s87y1xtB4AJs7wMC8ilpnCoqwvdKW73+sNjlpTy5DxYDixO5sUA6QHkiq2y/699Xm5HN/G+BAAAAOUGf2UUVLCv/AAAF+ZDVCMsQH0kuDFQAf2sWh86zQp+Ck7ufQg5bag+4MWy95iTKzkusMLR10AGmgAAAACYBn/h0Qn8AAAeaXwF/lauflseAvNaem8ip469I+wdb8pE4uehFLwAAADMBn/pqQn8AAAeXjVgbxh6WiHO9cI4kxAC31RnA57+p3VXGsXl9hL+mAwYyBfO/yuaPoeAAAABfQZv/SahBbJlMCFf//jhAAABuTzxWciKoBUQyj0sOLH/4wzpI/sYXhlxQP2/ccfklQosgEtSSB7qjX7J6ug+Uy7rZx7OcUoZpkScydGbssyL83EREmJdEDERxvO4VxiEAAAA0QZ4dRRUsK/8AAAX08IQGi/uxKYgSzrQAkurViI0pEi3o54RWIMMJN/u9OKeAAqEEs0cPgwAAADMBnjx0Qn8AAAeZ88CT9twqDt2DHo0Q+49hWKAGo+L96xtSYDWzgv9hiMTj/WZzMxgRf0wAAABMAZ4+akJ/AAAHlKiY8hrAgKFqmNQAlGFkZ0uHCaLaT0S85OYq5bfl8CcZ5EiNhGSmVFwEtegrOCm47WWVXzl6+SCIQjO23eiLXZ3vvQAAAKZBmiNJqEFsmUwIV//+OEAAAHGO0I+QbAPPzCxKWqi4Zt109qgx8hJ50vi8Jk1ENMoAUdhhaOxaVX37VHZA+nkUmlRkFVlF3z0vC3g4eUcLkqQ3edCzQF7U3lGzKfpnnay47UfaxxA3Xnw/AtcZievzYhqTZQi0N+kt4IWJLCHO0fd/Tm5VJ92gkCwSFcofLBnAiePrf75icKsXKa1aRPshEY5I+6jPAAAARkGeQUUVLCv/AAAGIc/tss8Z9Y9CcdSxGYFBA0AK2dSBQU+B9fy3b+LmtZToYwTOu48jVucZs32OULEwuC7QzZ2633W2S8AAAABFAZ5gdEJ/AAAHkyHxkC29IqjagBLCDMzlPSKRTYRNJ5XrKLb/oPaD/7K1vMke0PlSSwtxUQT3i6Vw6ZQO9KyeiX2p3IuzAAAAMQGeYmpCfwAAB8XddQYl8D1mTinzDa5CCa23zY4tLB0UvS0g2i3iccRmI+YpLC7HfMAAAACbQZpnSahBbJlMCFf//jhAAABw2YIShjmkAACPYzA06sx76v3jr9Gqqwd+ICDPt1qzwSc00s26z+lV5VLp/CoZjOe2eYqUXPuwhrROjPtdHmxwMoBMqHbV31N/AxCYwGfLMBTJEovgcwVgWg/2LAxngG4HaAgNlS1SdJqs4AX/E9jqkVbMeP88+a4TVvu03uxrYslrKUHXtgkgKcMAAAA3QZ6FRRUsK/8AAA/jKaeL5UGYavQjLMkdMckZJ1WkUv5FM0Mq2FZAOfmTEI0aRcD0d3y8LqYnpQAAADMBnqR0Qn8AAAfC53LyfxAOlmSM1AbD52heuY/u1suUO6caR0mDj10Qrr8wbhgJVdEwfwcAAAAvAZ6makJ/AAAVC4BPSCniYANHYOmG1pw51i57pgjCZ0ZhuYuC6MtW9W8Ln1fF7yEAAABzQZqrSahBbJlMCFf//jhAAAEu+CIp9Yz6wa3JvFsO7QLGXzFvhEAYDTlsvs6ZhqNkCiD9MUh14fxa5h0KCJGluJ5F9VR+nekvhXe3pRMBnZwBGcNV8lbfJauNs8T+SbRroaxxOF3ajmqDmCxdNcINNHGegAAAADpBnslFFSwr/wAAD+AbTdDdhe1e6GUQKIXRrKRiCtWU9QKJjOdoft4UnDIZen8ZMJT0/wCTJ5mZLUfAAAAAPQGe6HRCfwAAFQRk6A3GLAI7J/PsDXQNWMXEQAs3t+GiEqnTAeQ5QgTAhxVXbHHnKF2hhzRhX2ZZDIPGJOEAAAAlAZ7qakJ/AAAHwDWImdrD4XFiVF2h1Hbi0WK4+XJUn6RNW69JwAAAAKNBmu9JqEFsmUwIV//+OEAAAHOxxmHvB/9Dhe1xLsjx4tj3RhopZ3xZg7bsei1QBz8mPyOtt//AGdQDFS+int48nixrKgYLKQUGm4grXG2V8GcHP5suQnGI567u6c8jKgcjDqh2aoiV1paVE6++b2GgKlGJ93cdmZlf1YB0BjTybjcJvY8pO6p8i128IZP4/16iSXmdNL3d1bmKbFEnho2nE6QgAAAASEGfDUUVLCv/AAAGSZSfJAoPbiZshgA5zRjDCFRMf5XuJ3FBpHNmrNt1CrJ9rH7Ngp4CqRigNl444u7v2sB0h1Prk/0vGS1NwQAAAEoBnyx0Qn8AAAfx869B1VQIZKSAFq8V82Ztbxd7aumuYMpg/2kUhv0LcHdTcaStlwZZnk934yQVy5+k1o99lE10kkJYLcPEA0GP+QAAAD0Bny5qQn8AAAfxq32ErKkJucpgYcAAsZwmM041qxKpv1jqeYvMYATQlqTpDgxYKvDSDMzbqI8q9JWfDCThAAAAkUGbM0moQWyZTAhX//44QAAAc7HkywgClEofCmnoJAYholye5e2tWsZtny5bQqEzBSyLaUhGRqFEBXiKt0wMDQsipR6Ru5WFgEOCZ8sl9CLE0f90pfB88K77gGvDxzA0VG5sSC2MH8wfXG+UZ1tdrc8xbhZCCB/1QtprWrNCRfUsGJADRX01hRNtx7zE8LnuyoAAAAA2QZ9RRRUsK/8AAAZKsYzMy/5uh2NH+tLephH+0f7vhUPEcTbXwAchpjz9UfGe9zZucVg0iFR8AAAAQQGfcHRCfwAAB+0zVDaMN1QQMcAOJXiyHW/fQfUNwsRhKQwMQX/5PE6NhfNm3Ippi1onsMF6DKk64OrNdCQ4t1JxAAAAKQGfcmpCfwAAB+9Hu2+FliZxul/lM4n26pXm9f3JFgbk/TrKV2yeE3MaAAAAp0Gbd0moQWyZTAhX//44QAAAdozKIs0AtI1ilVOwQTdSdHb0VDDUK7hLN5XvYvzk48F8S9afKVeA1QlbnqObVJpnnAi0QjqgK3U3nt39EIipP2x21lDyf0bueeQlIra+102eUBTKEKPqThXh5524c/nRA7wHEJg/5Fp9qJHHTorV1MJ4qAYqYN2n9o8Ud1v5ddilGVdHD88XhNPVYCmM/3tEvGkEogcxAAAAQEGflUUVLCv/AAAGcZCpbAA0nUXft2HFMsubm8xZUWCRkzG7g5OXDnh85cyzz25ZW2LCkqVae+jTGH8Hw2OU/jUAAABHAZ+0dEJ/AAAIL63rNYhaaFUAJbw5Z62Yx0zin6Fi2U/nxCY4x5SwEmibcZGNJwgSz2w9sA/wRAwuJD9dKA6htV37k6ZMxf4AAAA6AZ+2akJ/AAAILoHofIj2Wifl5ibJAC3AFJWJsw3/0Wzyj/hxs8Ki4kv29r8OPTqYM2eJA5fr+KD29QAAAI9Bm7tJqEFsmUwIV//+OEAAAHbzrpclWxTQW34OvP/JVHjXzAVLSBBg3xi18dIA4JjM6oOFRsFD4Jetp6JquDOG0MxyoeRYEyhCijVJEJzzfVKut3Pw95wd6RPWXqtGXCqSHk2hQvJtv5hStmmrwxfLcnQp4f/GMnOl8rYIO3/TvAMYfviZSNYSisdQVjtJKQAAAEZBn9lFFSwr/wAABnGTmlN10GerMHIAWq2T3uDsYexMOVQtgnZEUzww9DM6fHSyDmKAMB+kLeys6B21RmId7V/yUm6o56K2AAAAQgGf+HRCfwAACCq4KSfJpZFxhhOfWiFiAFvMSd0CVjtlq7vZRHp9dbjECU0EZtcDoJD7iarRA8GBekRYVc7SLXZD/QAAAC4Bn/pqQn8AAAgrhEROu1oFRs3J1OUAxfyImUEso4f0FWVqN556U/tCnEJLenzAAAAAfkGb/0moQWyZTAhX//44QAAAec7QhLtQBGSlHBjzaeCjEih3GjvYZuj99IFm+XqrM4BH2+ZinzS2Cuu+62DiKaRfsx+FgHrpk9Vt12Z6NJO5snUvnntMQzUPiACSnRPTRjOAdwhlNjHczq/qOnrlaTrEznxeVLjwj0AVP5WhQQAAAE1Bnh1FFSwr/wAABpnP8C1PPbhcB0gfEkmgM0gGhs4CrL8JZ3OPFkF7CMr0xqJ2DTjPBCrzwIoHNkAB9RSIUS9RZWXgsePQ1H4lsb8I+QAAAEYBnjx0Qn8AAAgtST6bV048jmB9SbiUc86zulV+aFtdBq9zmJ+ZegA2iBObiftDCR/iD9IQ/HJIbzIxc2Sa918VM/pDH+pOAAAASQGePmpCfwAACG55q3mRXkOgIAaKdbH995k6lUEnW2PhoCiVar+ggrcgpp0lTCuwT+RuoAIHzlaM653/5ACK/SLOtoeTwE2qsScAAACTQZojSahBbJlMCFf//jhAAAB5GxxBLNf8DGgGZpSYBY7yopSSjOS8qt5R8GKVFDOKum3jfjBFgJUoHk0lrY0ZHMGwMxQx9c2/FfuVUdDmhij0t1E/mVK2QqbwsBNVCBPnrUk4XFE9KdDPjTkgMtIxiwkD03hqDJQ8ImB/CDxyZWPTalddYHls4/BR+r1rDQC+f4DhAAAAPkGeQUUVLCv/AAAGmZCTIYyR3eBiN5lXmmMKPKAAb9nhFwlc4i1hoiJOxRKs9El1qQzXvERZHXvlWUBW0clYAAAAOAGeYHRCfwAACG8YtM9gvsPgALoAUlYrxaM8/xbjSi24DykD2k+rZHDSCMjgEbtk7XV2z5kjbmLLAAAAOwGeYmpCfwAACG6B6IvdlEw0mtb5QAlrcsmLrpaGMc3NIt9nATBFvbHs8iKkeQtIAH6S0DLNT6f6/jknAAAAZkGaZ0moQWyZTAhX//44QAAAebOjcEVgtVtEhuSfNnmo12XpAwqPvtez+Q7wkQLlSs9Ke+hWM7epXEZp/XG2kkzW/0fkn3qOXngiobesK08xkKazr3m9Jbk/bFFTqio0lqCFOmcpNQAAAC9BnoVFFSwr/wAABpmQkoCknbquvh/aih1jnl0135s3zEwYYpwh89fPVpIVuzx7/QAAADEBnqR0Qn8AAAhvGKbfq3VqKXNuwa3kABdAABoVuPZi79ZCljDdtfw9G9LUUgNZhwD/AAAARgGepmpCfwAACGuHpkr1yly/wYRhFWSS9bvIDyiAFvrq2xBDZvAAiipepDbYceGHuWIzyHcPIpvjjDw8L2ZkRVOKUcmvaGEAAACoQZqrSahBbJlMCFf//jhAAAB78Y1Q2AoOszAm4J6N+81pRFwGhGGa4qCkACceCx92sgD7o/iITqPhmE+M5eVxH+7TYaMDkYIQkgbGFWUy8DZ2E2/FVOWfDvLr9F1SoqkVnkThFdGkzjDV5/nXR/hAAI7+mXmedhGAI7PaVgJLYkJkiQFINmqdE6lfz44mQrQZMLcyCJZaWCLVTyLtpFg4e7h9z97MCaEDAAAAO0GeyUUVLCv/AAAGwAElmMDUx8q/VVvZWKt/6C3YXxeSI0j271ubs/eyhKhs3U7UYsnuFtGaPTzsdI4+AAAAOAGe6HRCfwAACK+p38lHfVfSdMZAAsnbYEWbg2TA2A8ND1lQeCuwnxriuOSrNNsgxzcQcxwrvCSdAAAAPQGe6mpCfwAACLCQbVtZMz+9xQD4Bb4vy6lifN4xXaT36KIsysDmoZuKRh4APwJb/1CyNnPY553Rbib+EPAAAAChQZrvSahBbJlMCFf//jhAAAB72qDEW+A9YAE4cQWifeUEkzb76Bfcb6yPdx0sgsCti5XqasFQPwDjI/qyDc4j1Di/sDuXnZ+01S34vziVb74denxFjtZq5frbDKfojpF6KGAlfGNlWHm7xoEaEbjphgWx25qDNlhEgXI2GfIRUA8njw0bUS3KVmTTfCkkT/J5zIAAKVQzT1NYuPMHNQ6ohXQAAABMQZ8NRRUsK/8AAAa+ewojSbeNcGmoAW1uQM8ouUlP8doEWtYLfukCzw9CuMK54aiAO3dLa3zyqAUkn0PFIUWZV8th1NKRJ5TpyHGUnQAAACwBnyx0Qn8AAAivGJu9noWBzCYPBN+waAEtMH1434e1IZ5aUq3DPwA30c8h4QAAACwBny5qQn8AAAireJ5R9h5/GPrqZm3INE4/kbvbAcWoIcAGKDV8pdyOKxQdMQAAAF5BmzNJqEFsmUwIV//+OEAAAHyQiqGLJK/IDY5dUasArfd2qvUadJKvctfLr+1BoZF6IjYspADCU1cdL1t1akLfQgu0BpSlS0E62S6J8nbPVh/1lUDyiZ/DNNlzF7+oAAAARUGfUUUVLCv/AAAGv/sblWh9sqCrU741r7aLBPPQyJMXpnbZHx8SfARXyyILhnm7t0pphl1NlJ6Yxu1jj8Kpbqq7mrSPgAAAADgBn3B0Qn8AAAitRL96PilhcOuiwW88d12fFblwMGDEswnZOVACNrWIj6wyXy90T3HSl4Zaw48xoQAAADwBn3JqQn8AAAirwVpSVTloCqnSAi4m1sIAW+nu0C/dn/EUECkRZWj6ngedUZDZD2XewYnZW9t/34ZRJOAAAACoQZt3SahBbJlMCFf//jhAAAB+sW/IkA+PR+8HuBi/u/camNmHeTxUWhyIt1L3PQbaNqrQ7ej5tdEwLU7/R5N7VIczvVgxtbNtP0hZHJC5F9kmmGIwPh4KaywTqvtuMgJSHz5BeFrEr0UM0sXAUphhKJLgxTZa6VOn297hA0sLHd8qc0LfE9Q5pp/tINgVT2c0Y1tWsF4xlTNM78q954MBa9GCaoGQYoOAAAAAPUGflUUVLCv/AAAG5/v/tJItHCDQle2igK76O1GqJUNyF9HSvIt4px1S9ytRhwb9r7wZLaTdJpdB0a0mOj8AAAAyAZ+0dEJ/AAAI76x4BTDaJXD/p3xAAF14ddTtCp0Jks+SZy2csWCXHD1DyuKkZCOo5DwAAAAuAZ+2akJ/AAAI68EPJUefAZUyOuo2z2HWbDyxGcJiy6O9lq8nhqUpTrxvECBH+QAAAKpBm7tJqEFsmUwIV//+OEAAAH7TzYcdxASfNQV9zTf1CDHuMo03p+sytw9Qv6vkQrrsw1326L6oZl2Irlm7lofpwqNm8hqmIY6/CKmjBm+Kv5qer4LZ+20dQ7XFltFedZsvC9g1UAopJxktGPQA6kZvKckLlY4XKQaHTe/ZY7S4MBhgD6KDbahzZRKGyjd9nr+ZnluiXJ4NAyXHtr6AIh4nVb6+w5fPn//IYQAAAD9Bn9lFFSwr/wAAEl1+L8lPNxB3QrDpkSloUDQADjJdJrTJaHsodp/LY6s42q6ht5VfxvSv9iSofe49iuxRzekAAAAvAZ/4dEJ/AAAI6wRu6Wk+FMbNNVsRng86Q3CGEALe3av/Q+1IY9WQ3AWKQ94a4Y0AAAA4AZ/6akJ/AAAX54r53uOy/7AnayzLUAALqcJ82CN+Vq0s3HeQyxReil/ujWDxub2Dw+/Av2REr3oAAACNQZv/SahBbJlMCFf//jhAAAFa9rbTiQeTXTDEbeHJQl9oADoMNySVtJ0thReKi0uf3vE7SjMtaWgbwL4GK2j+Y9wReTxEyZX1y5o9fX4HMdImYzfyOt7H5yguakaAdXbyqChA4brhrhwWVdJyf0Md9WNt2/g1N83OLVlWkATTI4ERb7GeInU67hhTHmXBAAAAREGeHUUVLCv/AAASWRygxGZEAKxPCW97B8uQLqrEadOFBaC1bYdtz3scvA5IfYLp1hCPnik6W/U2wfGAenB0GBQa0W9JAAAAKAGePHRCfwAAF9823Trfqg7QAXKUjIg94hS1UNpQCiignnMnwQQMbMAAAAAwAZ4+akJ/AAAI51F62m4J5AtGFkbiOcCLCXKrOsrUiUI05KBPfBcRfveLW2jWPiScAAAApEGaI0moQWyZTAhX//44QAAAftPIlAjm+XvWzWCp783LMA4NMIEL2Te9gwDNiG8Uh4hRf0++3L8z5DHxDCRVzTdNqLT5CwaPYh1ioiKx1Zu01a2aC8RHp0G2WINJzCNR7KFPYUyzwJ1EZC4D9QLRC5pYCEiPX/VoaO4HP9qU9EH6m33EWqQZ2pSa2cMJwy9JNCIomsgkthV28jGG7iv+Mpjn6I1lAAAAOkGeQUUVLCv/AAAG6CZ7Z2ewX1PyCz90NWreKN9T7EALfXE06aSyx7xJY+3OrDZO0ZG8SQNl7ua+I+AAAAAxAZ5gdEJ/AAAI7zvNoeh8GiHLwu1ktoKhb7+0AAuvDsmfko7jp5LfN4RH3iAeFWKjKwAAADkBnmJqQn8AAAjrwUcxtIe0qWhJ+oCwj8MrCib0kAALrV514E5vhLIo9IWx82zYjCd03rMA8lx5tg8AAACQQZpnSahBbJlMCFf//jhAAACCeL7qHpN+ICc4rZO4t6FAkYoIDsYA0JaX4xSkmoA/anR4NbZHQVmLdgDNhKrZAuGCGH/qiHexaU+YDdJhITKnkvEV4NqimTA92lGeLy4qI7z/iWXDoMCl/ISLZ/rZh9/QfNlHijkamvXtRQG69DScw5s/VW5LGW7O7gPPGcHBAAAANEGehUUVLCv/AAAHFrGJllf3dCQk1QAts8C+WJJXuGO1Ko2730n3IxACbgGAUKUMkMK8cfEAAAAlAZ6kdEJ/AAAJL64QHhmOMLIIyKoBGn04PY1XIleaE7LBFOaRjQAAAC4BnqZqQn8AAAkukO2CrE9/V4ioAS3h27Kcl5SCkPi4IiOwXkqb6VW0nl0MQknBAAAAk0Gaq0moQWyZTAhX//44QAAAgpukcTAydpVJs7eByvZq7H/8eSoozOO1HpJPztmgmL+QEbHFYO5kt+XS/PBaMFBjl7KlKeVbGOdcIkMkvNXIgrDBpHMrooxYVFppfB8Vzq2KbWxt3cB4dPRl2MTFdeRJ8Wns77Xw8GZi95tNb12tt9evY+vh1OFRmDHvtU2Zux7V4AAAADFBnslFFSwr/wAABxVtNCGI4IY7asUQCdD9l/GcNLWgkXts28mUz536rp1xjJrLSZ8wAAAAOAGe6HRCfwAACS+z2Aho4ipbyvm60Cw9vSZfN8z4AAgflweqC21CYp/o9acQmCy3px9m7hDx87B5AAAALAGe6mpCfwAACSvAzXe84J/a45Jl6GM9xwYrXqSiAEKHtXu7GFBBmNG+TSeNAAAAoEGa70moQWyZTAhX//44QAAAgnv5lgB74bFE3XgMqkzeybERfQMumW2KFdXBQGwZ7+pUXH/LIrUi+wuSoQh7oJsKKc37vybVl21zQxF4JEYJoG18fejttIlMnVEgXv3hzDxmOQ5cUz6mBg1sWAGlvkSLd/iUqinj0SQ3pdtSnwognmQ0PSIfhLT/BaEZpFw4AAAF2cC498YbRNxPaE44/EgAAAA7QZ8NRRUsK/8AAAcVbSzM7InCQPeOhP/llAC2t0YQ5Jmw4/fWuOd+sE5GeyY4t3X3lYNk+Ri0qs0tZqUAAAAxAZ8sdEJ/AAAJL7PYBlE57vkH7hVfNb2sbz1y20xapfCWa8K/b9sWLjv3Z9zc2CjugQAAADUBny5qQn8AAAku2tIF3XzFOwN2O0Zj/CPiPrvzaD1uy074c5wAHRKOyID1di5C4L6Fcu7B4QAAAKxBmzNJqEFsmUwIV//+OEAAAIL1n7QOAsczsTdFb3Q21Cb+tbPQ+HN3+HN6WIYHTvyqFm0dqKNfaSin8KjwH2TOJpeeeDheNLS+sjP7PdV6WkWOqFo10x0GEXzAHFjdXlF8SDyKyTalOfy6ThImfVhRjFu6zKr4/9K/KSLLxTvILFNr7aXh1Gvd4chkYUAdVPhjmo2uqlgGXpqqLben/n3B7f4q3D2xXr5OcANAAAAAMkGfUUUVLCv/AAAHFiKESU3a60RACzjAcwZD1YZeHO7DRTB07g93A/XO4tFhDf+gCvXpAAAAJAGfcHRCfwAACStJ5bS+Pfm4exG2YG20hDKO271kMmLS6fUvIQAAACABn3JqQn8AAAksRh6LZyAgSVWcl7DeekqxFws3XvJJwAAAAKxBm3dJqEFsmUwIX//+jLAAACIvM+KvcABPsG9nrLpzokLPozx8eK6feXpWA1yLK8IVd2m8HIosByTpVn4KuYv3FcIl3TTTiSnVtnf11brOidzb18Ik9+n50MSFCBSDRBVj7dq1/ZFCulbJJxfvyL1eT1f5WprnazdarYYGht5OFSscU/Nbh49AUaZqIUz3JoPgCoPDTrtYj5csP8NEE89uA2k/EZi9ju7VM01WAAAANEGflUUVLCv/AAAHFW0tDYAAJ1VaQAEUtIqDLnVbqFWPh+1jeNaZkYCG1sTjZCTW1XR9YpsAAAAsAZ+0dEJ/AAAJK0nltiVCyuvQ0UFVMpbl7uqFlC/WwdBtiWg6McZLxuu0ruAAAAAmAZ+2akJ/AAAJLtjNOfGrRtuUKhp6VPm3vzDo10xsvqvB02jhpSUAAACeQZu7SahBbJlMCF///oywAAAiL0Fbtf0YA2/bMYeHHjBNac9mb2T3EssLOsfWocctxYaepuGpduTDYy7Q6a1BaecTNkCn5fl3AJA5lIiIS9uQ03F3cH6haNdzij9vVFxF/2q3+19aM6tRmg03X0B/ytRf2odO5TbZJka2yUsa9e7sEy7wdNlrGkapAMdZAZ6fbPjbnxFHaAtKU77z80EAAAAlQZ/ZRRUsK/8AAAcVklW+fPs6lh8/I3oGupuJh76SOhiNnCn9oQAAABsBn/h0Qn8AAAMAeXZde+fL1AujJfW4JxtTrekAAAAbAZ/6akJ/AAAJLtrR/VSZnFODMm4PUsQlON6AAAAAZEGb/0moQWyZTAhn//6eEAAAIcxmskgEZIiBZ1xsifDA/HWzDtz6LUUzzhgfnjQJ7rK1IEQQg0qN+vlvl/SDrXkSauJG5tgTZCz/3Bky1rcUifGP7NaCHoNI4fxrEs6X02RRS8EAAAAlQZ4dRRUsK/8AAAcVkZmCMQbL2HxnkFqGlQ3EcG6ctDqNjEhHwQAAABsBnjx0Qn8AAAjrUaRVIb2arSQJS4fU2FvnXcAAAAAYAZ4+akJ/AAAJLt9M4AFhrAzs7+MXveN6AAAAF0GaI0moQWyZTAhf//6MsAAAAwAAAwNDAAAAHEGeQUUVLCv/AAAS4MyHX3BtWKy7DtCtRsXBPSAAAAASAZ5gdEJ/AAADAAKyjY38OqkhAAAAEgGeYmpCfwAAAwACs3DT6F4i4AAAAFBBmmdJqEFsmUwIV//+OEAAAIMvyOD44Vxqy0KTH7FhRJqAKQJc/gCDuGK+xBcQyroH3xNkNcApl3xyp1nbxjjxY3GA7KNA00U6mb2uSJQWoQAAAC1BnoVFFSwr/wAAEuDMmlY6FGeZsCCMZL6g+XeLNgALUPf8cW7Nz+D4+voM1IEAAAAZAZ6kdEJ/AAADABJflFDwAbRy2QQvrjtsnQAAABgBnqZqQn8AAAMDdPFaSC341gaXUUicZycAAAB3QZqrSahBbJlMCF///oywAAAh+YmO7/7zEA1cQk1nsy127NBKw2BTgvtojaXrXStmV21FneLV9ystS/klMkanlo5YiiAClx1QCfCxDuxmMlz8O6f74Pknm/hXMJ5bbPo1okvxhlp+0A3wzr+eeH7nw/pcOKfNfO0AAAAxQZ7JRRUsK/8AABLgzD41/+FPHV5/I6Uc+tAyeVL6YWIxeCxEYMIQU1xwiz87A+956QAAACYBnuh0Qn8AAAkrR2i9gARS0nZETkM2e1akxJ4fbooXiRWBqlVY0QAAACABnupqQn8AAAjsVE22XihWtwIvEfrqvIxPd5FjT+ldwAAAAKtBmu9JqEFsmUwIX//+jLAAAFv9zQiKL7vNANhGRol4CuCjsKwlOdD8aR7pPES3LyJNOh9DVnNF0zLvhg9wJEpm6ykBczGJVIRFdIZVxzbIc4MNlw3ANRNrGHDPB3u3h1kSA06NB2CxNbbS/posApSGNRx/Oei12cvkQlpBB04VcxueRzyTOGy/piqX6BV6UlZLh/e2jgIrG8QR5NKajah1q9tbWlmv6zvcVMAAAABEQZ8NRRUsK/8AAAcUB2Lwj7DJ+OtiMylG4xOHm7gH4bQAJ2WnnVJfw4SCZFPwkSgVLxQcaDfNkUCVSJvXSZ4otSsFemEAAAAuAZ8sdEJ/AAAJKvtOeA8XGABdFYDHk5HYxJUyGkGWgPaS/uJu438RityrUhDbgQAAACYBny5qQn8AAAMDdCmipjsf6qrLnX+CkyA0tYJUBQTGvfLGIdzmTwAAAJBBmzNJqEFsmUwIX//+jLAAACIBG64AIM/EDw/LL7VdbbxsGdhHvLbq2P8e+FcO4TJURnnUDjtxpFJnoBYRB6ZefAofQ1rU1aDBfEQi8FnznDkC1TAzzNosPYkrqilaWF6Ou78yAy/IpcGPfR7KwRx+PK/Qz25hy10JTjbPN/yJaEz4P6IUwCOP8v88p2v7OYAAAAA+QZ9RRRUsK/8AAAcTvl1pwkh7P35YNJWpAATrPiW/ObVOT9WOz4tRkbL/0BKRIPFlcIHUmiE2aARmS9v7wb0AAAAsAZ9wdEJ/AAAJL6yLWyUQ/tXVBKO+LqQgBXlVDaAkbiRr4JCGvPm9S4SusnEAAAApAZ9yakJ/AAAJLtrSExNdWcp2MHJdHP9zllCrhwRx8h70WJ7+HzgpDpgAAACeQZt3SahBbJlMCF///oywAAAh+UJS9jpNR0sB97H6twNmB+BgKzA4zs6Nwu8/wGvVS2/CDvTplZUjxG6j1KZOEv/fErTli+z8J2GYxIW19hf8T2PmwF+OYQuXhssVONWG/erVWw2kcpiEN7pqm0FuN8wbBONeVzpzeol0L4pI4p3hShMzANVFK6RlyOA+gbkobJMWP3wh9S+btBlPLi0AAABMQZ+VRRUsK/8AAAcTvmn5FZYo9wRoYVAAN26f9EnUMcIkdyUzltfQ3JwbKoqdCAwNU3dgqoLQscdOQumEAwXjd+aNG8UJ+NHH2iaZ8wAAAB0Bn7R0Qn8AAAMDX+cdBH/AcCxHbfYJVhYl1sYfpgAAACABn7ZqQn8AAAksRh73y0PgtgbUWz3u5GrTK3dOqQnz0wAAAIhBm7tJqEFsmUwIV//+OEAAAIJ8SGIA21qJ3qZO2C5JZakak33MONg5n4jp3m70Lx9GMQVSgrjUmV6+ETM2I+aTw4xALPv4bas8EdjogTkZW3uFFEG0X60Y7o2v1hb36qoB3q+xklqzO6QaZ77jEVOwNKdsOAQQi3QcwOW5DfAWZUlYahwsfFnJAAAAOUGf2UUVLCv/AAAHE75dagAmMtVHoVIl5P8DZcAKxqTdKku8QIKrSUaoP6BQ05/fk1Glar7BEWEBqQAAAB0Bn/h0Qn8AAAkrSeXeySu7X71G8YZw/BcBOcQ2DwAAACcBn/pqQn8AAAksRh7L01TWyZFyciJTPZhDdi6PQgiR7Cit7TK3Ed0AAAB0QZv/SahBbJlMCF///oywAAAiAF1y8BlBATrzklA3WtvluJ0j+9oytMPE6rlvVczi+8QHQHU0h73hnY4aEn9dSqOW9/HzWtYSbcQqdh4vpxQwqTbnWCJqQVl81CQWX7R4kIl2amV4O6BiMJs7vgo4iNczIuEAAAA8QZ4dRRUsK/8AAAcVcNx23b7yXZwjI6MAoRCocyURXIvFMEJLiFRKO+VanohpPyWFdeIFEs58Osjzs5R9AAAAJQGePHRCfwAACStJ5d0WpdSIemdAsH5V+HY5hx6yxaF5+iJEdg8AAAAjAZ4+akJ/AAAJK66IEtZ+xCbYBwT0FhAaDIgSyOsw0/Dov8AAAAB0QZojSahBbJlMCFf//jhAAACDdE5EIL5JSnUtjMDf/qXs4QkqSQrev9VjRh6t5czCcocrSOVN+MM7NPHr9wDjzGWhYZLzIq7n+kJCvvggPDjp41Ydn+hsHZlLCsS9ng6g9Pj/WosXWc6OUzKe5azBn7sWTcEAAAA2QZ5BRRUsK/8AAAcRFOWhY4YCwAEGUxFm/cOhLf1Z7PflOHJjD+cEdSahXO+28obEjH1EBipuAAAAJAGeYHRCfwAACS+z2AfLQfQma2k9MsjhPCU1Ech/jKM+bwXYPQAAAC8BnmJqQn8AAAju4B9H2GDg53cAALZ9+2J//ixxei+4kesw0BEHOcYDD+TkQwpf4AAAAIBBmmdJqEFsmUwIV//+OEAAAIN0TVGCotGMEEAzC/vEzvNvTxOiBRBqh0iPPrI3eCkQYFKhCNbgzzP+OdatifI2IBY9trtTZkHRUekKtHPPrriaqQ4fxk5dcxVhOsSa5aDlH86z9FH60liucCc71clg8RjovjRGBVmrTgTel4BTgQAAAFlBnoVFFSwr/wAABuo7ZcwVl3kU82sf02zVgBLkie9WYOnl6CJrFr0k4v//syNjPsBtWn6VAJzuUceYm+vHg39FLoowV9qKj8TYWsO3l72OiBLWWMTFvb4j4QAAACoBnqR0Qn8AAAjvSD5pb1rGr9KDSO1EIjXlKbZ2JnzFaAZ5vzGtC6wH6YEAAAAzAZ6makJ/AAAI7t9SZoVOXa45W8Ef6drC0XGgAFkhqpLvgztXjQiLjLL8ju/2aGg140LbAAAAg0Gaq0moQWyZTAhf//6MsAAAISE7OKgfiANoafCV3CWpyr/pa4A2nNJl4r/1e0XjueAb6HmX5pL+c5dtJkTWHZ6gjIbYR53FsDNaYRpM5nCWPC9fwNyBY5pVIMtf4oD8RG+eFDHOqizxn8FN1F0ws0hJluPubUF8KoW07qhWP+X2ZT3AAAAAP0GeyUUVLCv/AAAG6DiNddLXOA88CpbuG+3IA90y6TbsP6cBVgMpQioCE4QGZxsAHwmygW/LGqf5DvpfW4dPmAAAAC8Bnuh0Qn8AAAjvuoxXsPocNzMDVfScI41igA5XgdDzUJnrjGMr2FZi9lZ1qsDZgQAAAC8BnupqQn8AAAju4Cel28S1bVMMjo6AFuAQjYi7pIqFkjAGWPlLAbMTkhUfYHvYsAAAAJ1Bmu9JqEFsmUwIV//+OEAAAH8C2Mb5oACD7i3Z2iUasDoJwnYXUTEmmjJFMiU2grbvmdOVZ294GlT8T5d1NSs1GJaprGQSLpCFVRV/ELZCxmCO7B0HYff3jMv+XKH8wMSTW8iu/yRyvG3XKeQ6ziQSXF+T3b2F4u2CbIm3FiY+zqE+Whe33VuFKtzVWQVgFxxbuZsMATUoY5ysM0HYAAAAOUGfDUUVLCv/AAAG5yxronOqZ5mF1PESW4CPdY97RtZ+JBJRlIofwKXw6IcSgA0Sspm+1yQwXiskfQAAAB4Bnyx0Qn8AAAjvvI0gLoH4sH1nGEPgXvQLyOUx3pkAAAAqAZ8uakJ/AAAI7FDCdIAShfjrnh/HBFXMsjR7e7X1IUTzpvAI2VvSRjpPAAAAhkGbM0moQWyZTAhX//44QAAAfp2NJlyUfESVhc4QGbX1HtqxTz4pCdu8rVwH4A0gAGr0DrukGePlIAz1xgq3NU1GMl+vsLZlbjVyd7s9yV+uykbqHG3jqxdpvJTpf4vLJ2X0NT+DjbKvt2N9Rx9rEZItpf/Pl7F6QK8giy9bwfFMO7vPNM3EAAAAYEGfUUUVLCv/AAAG6aFAKAHHWIdKrGoCikbNDLxpKEISsxHHmr9LCDZkOqiWLBowzJ2i11QZ30bTGKaOVxiwPTEgOsYVpJUlGFL8COQainXweYM+uivYof9X+iZhikhKwAAAADMBn3B0Qn8AAAjvR/luFjAagAFwwthhiYwWh0LRaN+ieg8ijkwssJE465lmsX+qQcs0NSEAAAAwAZ9yakJ/AAAI7tsGhoB2MA2kN02fYCPM82rgi/g/AzW182tO80CMOUwz2xO47ef4AAAAcEGbd0moQWyZTAhf//6MsAAAIQg/BIgEpmolXgDWOlYb6x/R990e0H4AQzdNmCEilNusPmWuvoc2nnur3ASef00m5nSCLhjMB/ueZfdAPz/+84195f9tNsuOyZoWsCjvCDlWPrQor2lneugnqGA9kYYAAAA7QZ+VRRUsK/8AAAbqPGeTXlizGIo6WxTZgPs4ACRt2n9qwXq+ztUB7zkb7TBydNKK9ImRRqnKuEtotCEAAAAkAZ+0dEJ/AAAI6Zz8kDc4Bq201gnWikVhrKTz5FY93HeiNEk4AAAAHwGftmpCfwAACO7a0f1UnE/2eq7IVc8Cb8vGay1q2pEAAABrQZu7SahBbJlMCF///oywAAAhCD7WJpgC+IfDJqNo3UuIbuZP4kBdZeQLgLVzf4C1ILxDohB486uajqnXK70sapWSfwXtg82hMkWGoD4VYAH/IGvC5TdfPOC7WiZL7+xtT5KF2z/SF1Ay6rUAAAA1QZ/ZRRUsK/8AAAbpsGZub6xYDFoXRQN+lbAuyBjivs00huemupPO4AIqx0RO62OEVjhym4AAAAA3AZ/4dEJ/AAAI60nl0cDf7FggBKvaszeakhkr11b/yUh1JKFLsSbshwtoJKKDLednity4OUebewAAACgBn/pqQn8AAAjrrvI63KCu9shW3V4k83HDT2cF6AVAsoTbLLljCSTgAAAAeEGb/0moQWyZTAhf//6MsAAAIQBdd+14UAYwOmj57dQZCnHfaYuSYb7pmk3Sn24dtdGV/VRU/mBfWSlN9yPSRztm9QiOftit2k6MKb+wxsGHv2sech0DCqf5ixBvSx+B9p8sPnsu1lF5zvYw15Fs8G+TpPq2f/s9wQAAADZBnh1FFSwr/wAABumwXHbdswxACtCUMJZfDv0UU4rgK9H2wEa1RJkJoNaaiUa7rTZFcoM53R8AAAAfAZ48dEJ/AAAI77PX2XV6lxOZPjgMS1gZXISXvb15DwAAACcBnj5qQn8AAAjunN+c+DvEcxj1dO2mox6LS+pCRXATRt6CDzPvLjQAAACBQZojSahBbJlMCF///oywAAAhPTZ7Ztq/xjQCZW5nb9QZXqbxl7GGwXIgO8KrJEsismEovZSznNB6WtkF7opoJAzzP+DIJbokQy8vGhhcRCNr94ZdcdHo77vHN5uDo/sfb/fJ4ewkPFeqDJYvZC8Zz6nKJ1LYy7eDsnHgyJlVl17RAAAAR0GeQUUVLCv/AAAG6FurWeQpelAPkxNP0PSHCEoCsRh51PwjAHtfvUE81jyLYe4qM225LyYecypnuB9eLpGXeHK5mGW1JSakAAAAJwGeYHRCfwAACO+z1315g2xz6QkKGIASxQQRcGlZ240ePAcCpyXGgQAAADQBnmJqQn8AAAjSTXccfw+e/HBlGWxAQ2UBDAC4eLi+IMEQ+E4RTEAPA0FLG2fueZ8QUZf4AAAAckGaZ0moQWyZTAhf//6MsAAAIABe06AJ/r76Oab1TgmniFsEuE1kK8X+BMhClLqiqotrTdBkm2cjUJpVxa5sRf4XtjEOX5cDSs1vjOJxaB0z8GMNLCs8ergBTyDSOv+Q549/C/LGuFGns2DJ1oMTg2Ne8wAAACxBnoVFFSwr/wAABsGwc+xqtm1zmQAl6M5aDeRJm8jafV6njzKz/v9s/2M9IQAAACoBnqR0Qn8AAAirUW8wCt/tQGY9U0xleqQWkwCIIAAQO8p9I/6PirXuk4EAAAAeAZ6makJ/AAAIq69WGLWzsStdvYJRebuQ4ojlSJ+nAAAAgEGaq0moQWyZTAhf//6MsAAAIABe7SAF+dLfcpMjaertCDN10vQKSaRvbtzIW6q/PQfPQwnvhor6kJz3lsjvVe3AzONuPzMurWeh+bcJ3oA8QR7IrJC7P8/wqqjfakGFMMfQqGBDTaG/vY7KYPYh4zZ3eOyfkeZf/4m2eIoUykIgAAAAMkGeyUUVLCv/AAAGwjtlsFEGwR7O8/d2M89LELPpjZAu6QMtsBOxRPjOMlWBjlgx0cvIAAAAJgGe6HRCfwAACK+6D0D1vXXqFeQtmFZRJIEiaI3XLP7Zb4paApOBAAAAIwGe6mpCfwAACK6dGdE+v1GM+tbAoITb0pfQknAom0TgqExoAAAAdUGa70moQWyZTAhX//44QAAAfE6jQI/UAoYL7u/taWNocrlwEzc5HTYog5wsvfNH2FyT/EKtDnT4Js06QDfmZsRBV8H8TvA9DOEZ5CZ9XNo0iKJrAeP4qx5R2nY8VeTkk8NR+ZqmBnAdzQ2AlH3XXx+mtPiHgAAAAC1Bnw1FFSwr/wAABsA4afkgnVsF6k9G8wuDwQbvpjLjCulEu/vxz/2434OhB4EAAAAcAZ8sdEJ/AAAIr7rn6NGTqddQukdTBBFvbPHJOQAAABwBny5qQn8AAAisSbs7jOuCqMum1lVciru7v96BAAAAkkGbMkmoQWyZTAhf//6MsAAAIBJehl98ADDSblmDhDqIa7KIgSNo3UuIbubZUsr2pN3/SDkQa8hhv8kCNSe69DU6GslZKmTXcsb50RtGb4DDP+Mx7vXkJbV5w6dCWW8ODxLktGSqCDEE+6y3CyqcuoGB/Jh/TvX3OPZl5snS+nUhwaojG+tVifQD0U5hyb3ebSVAAAAAQUGfUEUVLCv/AAAGvc4tDGZtoAiZkpWhkr+nglM3tfmXNnVCIilKWaX9pgkvPuui7814CWlw7zaKXS89gguTwrI+AAAAJwGfcWpCfwAACKxGHotrPwB1VMEARcd+PFIbYPwxH+qcNAua4m6pgQAAAGVBm3ZJqEFsmUwIX//+jLAAACAIPtaCm6Ylxtmv59A7VyIyZDV6wCaKxUwUo7EDklRQLa4Jwv35IbED/bTKYOabDDxUjrsJ5wfWS12QU4oqIwzKksOOX3FlPKkv7CDWrz8uLG3qUwAAADtBn5RFFSwr/wAABsGwWMpzCb7ESAcX6TKhwPhCAPTV0IqsJ6e4AEEo2DaMk4NIbRSGIp07/BzCv8tKwAAAADUBn7N0Qn8AAAirSeXSjJkBq25GvIEtpuI6u2aPlABDjc82ntzbJSDIQh2Wt9R8pHAbC9VyDwAAACQBn7VqQn8AAAirrvI63HAp5NeLBNW/y+LIrlLm3sijp5q59MAAAABDQZu5SahBbJlMCE///fEAAAMBNSyqLMNLsCd+JH/pIa6Hh/qP/YATVLLkjs72RuFgQ4DHblvWGTjspj5DiDo55IffoQAAAC5Bn9dFFSwn/wAACK/Cqa47aB45uOCKv4ALGeifp4VUt4yGk3A5TBBkmAOxhI+BAAAAKQGf+GpCfwAACK7a0fKOtOUGmpCBz0sdcZEG7sDhtmyDh3wbp5KJjH+AAAAB8mWIggAN//728P4FNjuY0JcRzeidMx+/Fbi6ND9C0puAAAADAAADAACUaTvY8YluKmOAAABagA5AeIYoYAiYqxUCRFW4N0+E0mYAkgT0mKVVw4ETy4IYEI/ftfXOg0v4T30XeKvPtWVip83I97qk9GHkD6NAoBE0goUU3uYFHlHjIaWQ/1/Hanh31TSHiItRzhg/B3gylkUV/UQlhvhZlHrycACtDBIQQv7ea8hLG9QMuCHRoOl/ggECYQSv3+D+DcN5XtCUd3GNsLwLEqLx+t/UhQ/7QjhXSJOpzJFNJiO/QebczdLSMYvJQBABueMgWpqfBLnzfHBGYCV7t883GvbPXJdqCmo0Y12bnCJ7U20xu/n2O8UxfgoJef3HDWOM3SiuhHs4huouhF8RUTCdfbv2H7VSjh/MSvToKyg+FbLtAr9pCaNJi47+cLlxFJaaLVOjkxRLoF52QqcmPEG3aZ60kiudqCgpdz5QLsjfKZ2+QhHg34j0C23FPDr7N6xGJknAm97Rp0rqedf2bY8F61Ry+awTv7/Tarn6nlGdExf/ibiC3aVTmSR7QFF3Ow8f4q8uC8S1MHC4H18dPkLwGiK7Apq7X5tPV2smp5iOlVO09sdSmYh1r3UY5PcRDL3l8/ARPAAAAwAAAwAAAwAAAwDigQAAAIhBmiRsQv/+jLAAACAEy6OAN0v8l4lHWcxXt3TeuCHd2O8ALwM5b955+h9xiQN/DGUpgBZo7JzwGuhZQOWqw2qQ15LgJ7JpdR50qcP9Vg7EaWoJCRsjX/erl7MSYUdAc2JYe8VQ6LBbq+GOihw8u+RiGCAjEPEC08dAwrjv6R4KWzpmAT9bGvQcAAAAZkGeQniFfwAABsI4AKLL7phLsC0nmXM5gC7EaJEaBDUzW6dNApIq7kfEH6igB5tDH51HS2Mz23Vv3s5XKIFBsAvViaRHUiedboLV0YOTNvVdurm+Qa4/fXQgJWuj34N/uDA1HgCepQAAAC4BnmF0Qn8AAAMBPqf8Y0FuZuDFlaCS0jaVyMXSaZS3YN0ANygksSVj7fH89Y5VAAAALwGeY2pCfwAACK6c4C/5+KADTFLJbRCHFF/T3I1uotCd7jyHW3/E1cHg2ocXHv6YAAAAfEGaaEmoQWiZTAhf//6MsAAAID03nt7QcaATK3Mz3Dx9iN6blPyxACfTMj13rfHf5zGWQ/zuI+BEfaskbyQOsUSqXhnwQN/Bu41Jh9lXTPKZImtvB7ZosHkXyutKTwqwFKggE+xxBl10+yzW4k65LPozVbJhg4v37ue5uMQAAABAQZ6GRREsK/8AAAbBsFZfU1QAttYGEuZQ3NN+SPA+dHhA4lh44JsBHMpi8R/EeNI0szK/JMDO/+43TGRnxo1vUwAAACgBnqV0Qn8AAAirNq4zMqekAH96uj2RygqRm15aBdaQRqtA9gqWuMoOAAAAJwGep2pCfwAACKxJWRgdqkgAXPPlY+0q8vAM1ha9l4jF5ri5WmqJBwAAAG9BmqxJqEFsmUwIV//+OEAAAHkc5GcvdTwWTfSJn28zy3aG38AcGYgrPshB8CRKpoNCaP8F+naZLounVnlmGZsLq2gBSgUsfUeWcZRTJmzYHxWxF8OZGxC3RvwOO0W+I5JWibiQ7ORHmltmNhINmPgAAAA/QZ7KRRUsK/8AAAaaO2Wwzsv7ZA2AApQgEzwXmjeVINstwqlmNdtc1V5fQK4B7P1ULJ+nzTsp3T9CHd2wfmqZAAAAGwGe6XRCfwAACG+66YLPpvfKeiMU4MbuO9t6kQAAAB8BnutqQn8AAAhsUMJeIMRF6MxoEMh2p8I/dxnf7E7pAAAAVUGa8EmoQWyZTAhf//6MsAAAHzWGaxMzmyKOvczZO/aC/wiBgjlij9HOx0giDgnEf/S6eMmipDTYiKocv5j3M1XsXMbx3LyzxFxz1ZixgwFUtD5vKoMAAAA8QZ8ORRUsK/8AAAaENu3MTAqpuxBuGA9jnPNpACxonuSPwd2Ms0wgFbvFU8HJTMDubZnS8CSWUWZXk96AAAAAJQGfLXRCfwAACG9IHxNG97SdOgBKK53cZ/c3wOaq4MMQX5s5yoAAAAAlAZ8vakJ/AAAIaaqXQAcCHFeKqAJat+QikLER3SdI+6gm1hyhgQAAAIpBmzRJqEFsmUwIV//+OEAAAHkdjS28QXDFeKwGTWwgsNm1KwFkbfX84in1l7oXTVGBbHX4J3A+G6lzDNEu4mZloQKd/+TFXi7DoASTxhLS6c1911jKkckqhcYfYZMEcFEso305rJw3jlqZXM0i1Il8dUDYxYBQyEihyBxC7dCZR8jByw8oYsOBykIAAAA6QZ9SRRUsK/8AAAaZsHNMp7es4XO406C0oJDvSz3b0mvdiAfoAJ29evS8vHOxvtxP0YWdWreHMY3ccAAAACABn3F0Qn8AAAhvuuloS5FCtLkqaj7mPs4JT30frkaJgQAAACQBn3NqQn8AAAhsUmbmDOmzTjPfDwwXeEfo1L2nZ6tdq8/TrYEAAACKQZt4SahBbJlMCF///oywAAAfQU1EitiVim9l5JNh6VcZYbAbIkGG4e1Np/FA0zLT42wuWvnD4zOH1zFccES2wq8nw3ClgdwY4NKdrL3HE3Jpq8T/FAgDx5L53OPl5rSO4/tKYNCgkOiPx+wnoUoV2TQ4qT3uurKS0GU0J1w4lMowkaMcZm/iP9hpAAAAO0GflkUVLCv/AAAGld7/GQA2sjKuuPgQEQrbe4wml6spvLDn2IqsDuSkOtG2g4nDPCMyU6eRhzOTzce6AAAALwGftXRCfwAACE7IA0rYq5VGG5nrNgEcHZfjze/C2gvYE7rbH7XkozffOMvevD5gAAAAHwGft2pCfwAACG7a0fzBk5AalnZM0gBHo3/SGELOcWEAAABbQZu8SahBbJlMCFf//jhAAAB5c+Jxeoc0AtNSWQ0Ah5NFSXidAEM4NmIU4f4nuhneE+sdUqveCxYyK+j7lS2ccHPNKiPanTVWgR9SDJPr2uz7hUDKWFdzPu0WRQAAACdBn9pFFSwr/wAABpmwZm5wnbqEtx1Z41jMZviDtKk1h+40bE1UHHwAAAAoAZ/5dEJ/AAAIb7PX20hPl90PGgKYgBoboIsdXCZlQ+anjGiT31Q7oQAAACEBn/tqQn8AAAhsRh6MtwhC8pGZ/glrJ0bdbycJ+T58h4AAAABoQZv/SahBbJlMCF///oywAAAfNYN2gIBJKA9D+xWjyIBca6b+WsZjM1AYjbfsAuB9TZ6Ee4IkV/r4QGTMdMi1kjd4JwEdgpZPRRMblsU+CmZTDo9ZXkcONLO6kHcXTWK6+GMViNNYrEEAAAApQZ4dRRUsK/8AAAaYOGixvrMiCDtAQi8UjTAa2gc39IErcpUeHVMoVtEAAAAhAZ4+akJ/AAAIbEYekPDLyP8Wp+btVC1HMorisvrJpEh4AAAAbUGaI0moQWyZTAhf//6MsAAAHy38h5920ABPOTLLeS6owt2p4yUdRW2I4YjfAR+2l3L5PKN6d2Bq2r7pa40sfWuRBGslbbkCw28CIbDGpODeEeXMJ2+sgbypb32pFXokIav64AsRbbgFqDJ8Jo0AAABIQZ5BRRUsK/8AAAaYOG2XmsEeYha/7eaAGpNZORJs9nJkWRC2q7rcUgrF2l47dqWXQe4Ln3A8a388B6buKjtFKfhSB+sGPch4AAAAIAGeYHRCfwAACG9HypUIKfpSZwQtiVO+llvDt3Sa1tNBAAAAIgGeYmpCfwAACG7a0fzBkrKvORW8x++jNohZvqcl6Hr04sEAAACRQZpnSahBbJlMCFf//jhAAAB5MzaR1HOs28cDxQo4bjTaVpP/99moPFHcQAuw4wz13irCNZv3qMsvPbg465b7c6dsxgbgW9hC5pIoZ1XJLnVRx2r15crCtnwJimzI7diee0xNhoVr7/d0jvbEAUfq9KJjT4drOGTzYR3xBE0LFYnykmI+k+MsnpcezMST6xsUQAAAADdBnoVFFSwr/wAABpo7ZbDLgcowAEU+WU+L7/0jqqYBc31J9SI1zVs8MWoChiU96pMj8qIaQyHgAAAAIAGepHRCfwAACG+z19jp1o4tXQ9v3iLt7jA0Z0V2H+6BAAAAGgGepmpCfwAACGxGHotnG96csTx1leARuwuLAAAAcEGaq0moQWyZTAhf//6MsAAAH14TpSK/SYj0Agjd8oqtIrJga+ujJCXKRoXBIxln5QnprXMgeeSfSVzQfDhBqtHczSDm+7HdxU/AuYpImhCl4nE4dGtIKvBLnINAxz5Z0aMYHINd3/P2KqzHbqz1uScAAABOQZ7JRRUsK/8AAAaHO8lYTDZCR6YWccCAB0TsVR+41iA1FMPnugA/RzmAqObilLmrw5p0tS8wjxMMY02pC8YJEdSWTHweho+A/DGDlHFgAAAAIgGe6HRCfwAACGs3BIe8edvBdWWm/m92rBX1Q1bvlxaC6aEAAAAwAZ7qakJ/AAAILt9My7JeHf5wIMp5AgFu/nXh1nAB/EbnPqnEei4C05WrIZ3bgSUPAAAAc0Ga70moQWyZTAhf//6MsAAAH14Tn+37XjQCaVDmG+Ax/XpuU/LEAJ9MyPXet8eEEJ51ZpdQqAqbqLiJn54PkrY12cHtPVqdPMhFRsgcrD6TN9G2U4GQSuskRk7sU6LUgAYPC8D4r1MKGY+hnifEX/CaOzsAAAAnQZ8NRRUsK/8AAAZxsHLmqDXtJvwdK3ZLgdyB0nU7iDlq9Vqesf8rAAAAGgGfLHRCfwAACC+66YLPpveC1RPyptNv8Nu6AAAAIQGfLmpCfwAACCxRI/Bzm7Q5HH9BlWAlb8FXOuk3ConH0gAAAHNBmzNJqEFsmUwIX//+jLAAAB59/oEuAKB/1odDHzuV51Ye9qkUltzngO1pUHKcN7JTTOvIt73BbvPnBzERZBaSJccGv4rutWKzYQRxNagNm9+OYjDkLE9mUrmLrY7u65XrZHiFI4tw4GHqzrd2yb2rT4qhAAAAMkGfUUUVLCv/AAAGbqXKEqxUa3qoUTGZumwIgmQh+f5AADjqSp//HeD54ByF+U5T0umAAAAALQGfcHRCfwAACCtQQgY4NjPvblvazBjzrN4Pqqg9UAHJ0+5N/A06NPIrM4BVQAAAACgBn3JqQn8AAAgrr1iDr+L+GJyZAAtXJXWL4718pxXaMBAu27q6M0zBAAAAbEGbd0moQWyZTAhf//6MsAAAHnmcsyB3pJ6ADsn8Nna4UX+zMyjqsY2x7L7QGQdJ8clCLriU8C/5rnAu0nkIarsWMubDoMUNkZDnzhrEhQfoOoJuAeu1xd13GA4nhSGgUyum7ghCPV/MJ82wIwAAAC1Bn5VFFSwr/wAABnI7ZZLrpnaePGgD4LBLRFN+GJXnVBla0xHVgKx3UeWi+6MAAAAfAZ+0dEJ/AAAIL7pmcqJAgeziN/w2um7Y7Phs+CaH0gAAACgBn7ZqQn8AAAgu2ZWo8NndEbwqAAXU73U3YQ7yyqrc1fqt3iPoWWFNAAAAcEGbu0moQWyZTAhf//6MsAAAHpFN6SRzEAu+R+X4j3xN7ByQDiG7m2VLK9qTd/1gtpFdpFW2AvnOs62XcGtQG+wHVGvrfAFPwYnDtn7kvoxZc62OKNV8cSDCjKKY7qbBfP9oPaxufNwvUCGKnXDmzsEAAABBQZ/ZRRUsK/8AAAZt3i5+Zf1AHg7OAT8eaZDeG7VTqIDcWTlKaGBAfIAHM4xPmQPk7MzkIOwQiF+i5HwwVrWd05UAAAAqAZ/4dEJ/AAAIK0yzF7x5g/TAxfX43JcqvjP1dQRWfCACPD2PUGWJG+pAAAAAJwGf+mpCfwAACC6RjifXjGFnLEiZ0sgBHhUw4k3Emy0TgBBhCvyLgQAAAHpBm/9JqEFsmUwIX//+jLAAAB6D21IrWT6gHwq6lQivGAR+YoSkMSs3Pl+QlQfbdVhBn0ZpRDH1t/x1xJVCMyWgs+d3t5NrKHOPo7qwaR0g6PmOjzOjuP1wMELbZRcu8kQKMsn3hMRjgTrg4CLfPz09njvuO2CYQAbEIAAAACVBnh1FFSwr/wAABnGwZm5wnbqErzR6swHdotPmOjn0CgusF3abAAAAGwGePHRCfwAACC+z19xiRP3zZ7VdcdUM3VC5UQAAAB0Bnj5qQn8AAAgu2tH85kGkdoDvBvKSQfvUrrMyLgAAAHlBmiNJqEFsmUwIV//+OEAAAHZzFbxE9IgLyRcQV/YHeqf+/TOTzJuDd5pRdqRASf1bIZRbyjRy5C7ZiftGrFDnXxW7E/CIQTCcVoFY06Cjd4jiCQ3hgqwSArqCVOTYR/05zhD42ZsEKA/rSvnW4fdojiYXo3dRyzEhAAAARUGeQUUVLCv/AAAGcap+ugXFSnBaQaznw3ClsxXarKYYJAAr/ll4u5K/6nyNBLKixngFWlk3tdUapVm5MWUvYR5BFceLgAAAABsBnmB0Qn8AAAgrSeXRwOGaPkro35wn4i0dU5UAAAAdAZ5iakJ/AAAILEYei2cbyu9DrMHaDOHPZ1rSyLkAAACAQZpnSahBbJlMCF///oywAAAeg9uBKgFD36hg7kObYd9gkmBTFoxuA4Ro/jnodiRAS7DDgrEhvr+slnsvq2IHMb1MeCZTVnltEpxebfJFO0fU7IXKuJExfovLF7V9FG0MK97nlSM+7O8RhZBJL/yMdidkQRF5NbuZRC1+QXReZ3AAAAAtQZ6FRRUsK/8AAAZwOG2XmsEeYha9SmY/kCM+qgjHJU2rRMHlxgjAUXxr6nzAAAAAIwGepHRCfwAACC9HypUICoasH4wPWvAu5KSURdP3mct15DChAAAAMgGepmpCfwAACC7a0fKOs1F648rp791QPHysAF0SOUAjeHX8pqd7tLgqJixpPiDTRHUgAAAAhEGaq0moQWyZTAhf//6MsAAAHq4TnvUoMAWk6MJgZGOVa2C8mA2IyYl0GaIAT6ZkV1i8h2/lBX6ckdEPvXxZ4/g8pEixl4XJHSJDxRZDBPHnDlvKvDkA9Kq/yAAdGZaAe5i4nOiCQNXX/SmDS+n3t8J5ovUEgo7+XBAIEm1yLVxgOWbKkQAAAENBnslFFSwr/wAABnBH/u2Y1AB/aveAeoyoRc9Gsp+o8hbVyfQAPyyOmrXQ090o8zBJKWjlXqANQQA2iyD8i+CA1dkXAAAAKQGe6HRCfwAACC+z1Mk9Z0JizVj5+4KUFRaS1pN/dDWG7wwpGnHUB7VRAAAAIQGe6mpCfwAACC5/wJe1XLhQ7D47Fq2FHZoptnFXoIJBVQAAAF5Bmu9JqEFsmUwIV//+OEAAAHQUtKg3CZfXcw7yHB8SCAENRjfQuQA1MjrLbuEWyRmMOznpXHh12Q8N3EIxwjsfyz2/FlSJu/2pwkhesKcGoE8Ub35q8gxbifdApqNpAAAAKEGfDUUVLCv/AAAGRnYp5G3h3gBnNlFWIzDI5vPfmLmgU2PlvSv+VUEAAAAvAZ8sdEJ/AAAH72VKX2/PSEQ9qOJrMAA63gdP3yxBkjzTbpx5a3y0k+pjq2fF1UAAAAAaAZ8uakJ/AAAH8CNjGdgshvTINoGW06NWFVAAAACCQZsySahBbJlMCF///oywAAAdzrFvgA5gYjVgndE6V1hUYXZzhqQz9NqZGeA2NL7kfpa69WAO0r95jwti/tmYmzTeBOYRbQ+2KjZ12DRTyF7C1dgH6+T/arA0EPHqrrU1H3g3ISLWphRFtHONCcwAFABRonpjKBNZR2vdeXpfqDHMiQAAACdBn1BFFSwr/wAABkg4h9qv/F8JVFngkTEEsH55GcO1EJQrXwQUpIAAAAAqAZ9xakJ/AAAILtjG9MQYGadL/939CDAWogAr/PGZuXKS2S/UoYtqvej4AAAAiUGbdkmoQWyZTAhf//6MsAAAHq4Tn+2IBcLGNOAV8ZhK9oVMYAueShBBynLhplrXUcIppj7hFthSA5S9vCB+hz5BOYBVDUk+G4AIBii9e3oypIQtPXkUrFq4v60+Yda5PfCiJZzkiHaFg8jtSGGJ71MyehXR8oXvMpSKhFWRjYr6QL1NG7eqf0tDAAAAPkGflEUVLCv/AAAGcIEQRogBa0ElQ8olEYvfNWAoWMMb8SlqHmVe8KElW/GWaNp03CLnh8Snt0s0bbaRmK+BAAAAJAGfs3RCfwAACC14QOBgVPXSCb74ciPoqXcC4qFWSTyeMar0gQAAACABn7VqQn8AAAgsRgbjGKzXSu982jm9VaBHXDKoVFSLgAAAAJ1Bm7pJqEFsmUwIV//+OEAAAHOgeCq3CQzEBQ3blP7fzQKqYk6PLdj+lMIXJTg9yWAWvQyxJBSZGRATLVMNNvOnp4P3lxH4pyd1hUn/3tWOb5lYGYfILFUBAzQnsMZ5nl9f+LJJECCP8tQuP1XJ3YIfy+0HOx4DwDGGmolH33XveQI99zl4ZOz1rk26AXVS9Yz4dQKUHu6QRkxxSvN0AAAAPUGf2EUVLCv/AAAGSjtlVAyZA6J6cyQKylE+AzvJoCb7CAczuZmqBRQDkB5nwRrqj1UPK9H3b8spipEX2YEAAAAgAZ/3dEJ/AAAH8hqstyLtpP3mVtZgBNPCEe3wpoZ94/MAAAA0AZ/5akJ/AAAH8d7mNgePfs6Evk8h6YkQphSxItQAkfZ/Zdjxp5LCVLvH0u6JMkyqhZhj8wAAAHRBm/5JqEFsmUwIX//+jLAAAB3VhmfptdOAfCamg6M9u6CjpZWLTWrLF8LWVTM1bfRLWFHb3BI+3w5ZokVeb7YLq3PUDvrQ11W/TwHmf3luQ4KmvFnX9mlRyxbI5q2Jb1RA1omnLe65KmpLVMx2Dm43VM5F0QAAADxBnhxFFSwr/wAABkgv9N0+XeGBNDUAQbGoE3F8m57eEnh4zw05E3GTYz8ZTwUgE40cvI/Vf0ygblNw0fAAAAAmAZ47dEJ/AAAH8l+L7M8pZ9CnxzIdySmbLgAFqUwcofkqg/2mnPkAAAAeAZ49akJ/AAAH8eAo/mDJyN+7NldzjMZA9GRa7R2ZAAAAYEGaIkmoQWyZTAhf//6MsAAAHeEzkvpuUEC3gYvaMxOFjzU66m8T8vNDMjIocQi0NjodLpl+t+E/YlLKt5dhjiybDIFJkCGrlGiqmuCvQ7yKJiTgvBJCb+MTXj3CuzQowAAAACdBnkBFFSwr/wAABkmwXOFHXYyE/c3lamrrHE37i3VgNh1XgKWLx4EAAAAbAZ5/dEJ/AAAH8l+L7jEifvmz2q646oZuqFz4AAAAIAGeYWpCfwAAB/AaUbQNNNBbyTtfbomlQz2QF6EKhnPhAAAAfEGaZkmoQWyZTAhf//6MsAAAHdWDcNwC/RBHAw87FvebiBu9HYvTHuvOPXpfQbSR9kKsfQKbSJqSQCrP9v4gdpn7qyCHma6If2bYMiWNqiUd7sLyju1JEy7Ft6YGt17rzmPMFpbvjrX2jFyFhyyeezuiTaoD+FS4x/SKdKEAAABDQZ6ERRUsK/8AAAZIOGixxmet88H0dGzu5C+G/S4Va/YTGuKdNi4AJaldrzPuEX5W9l0D+nluVEpADJWvUnTF7BJz4AAAAB4BnqN0Qn8AAAfvX0eX7oGc8R8ltGhZfIx8xu/f+YAAAAAmAZ6lakJ/AAAH8BpRGaoU1gPD2KROIC3vGhlCrTumwdcZTF6pLn0AAACFQZqqSahBbJlMCFf//jhAAABzs5VmgIS/oF0u4yPtlkLslfIGHgEA08lwzouFF3FCKq5pO0uEvDadnYzwNiu01qT3m8czpIZrmMqe9VKPX34//xl7NXR6VS9UCEcVPYrzq3hmsZyDcwX8+h6N23nCO0XviepoF+TYOEQMGQ+W+YvIquHXQwAAAEJBnshFFSwr/wAABkg5vsACMAAC+boe78MJsQXn3XTqkbqKPTaVGWap42wqCxNkk7D4/hp1I1Bsus2cG7iPeglG9xEAAAAdAZ7ndEJ/AAAH8l+L7jEifI5yHOn8AZUq/27Jz4AAAAAcAZ7pakJ/AAAH8eAo/mDJyA6QUAfo4amB/2GR8QAAAKZBmu5JqEFsmUwIV//+OEAAAHO1h3+3bTQV3L3xyR9TjLDprAr1M3vM2W+VE+TAF4C5LXk/Yg6CIYY5FKUdq6ZvYFCFPCaap4e78UdJhPFKXdX2ARC/9E5Ua9brXbKOFCekXEBsAVFoOu80Jz/lt6yfYny/hwsJp5BIAF3qGN0/QT95uCkTJ46g39TasYHpeDASL5xPiMjZwPnwyUgpvApl+lTylszrAAAANkGfDEUVLCv/AAAGSH/C/IsfIF4d24WhGkFShVXAAdIViIjUzGr76AkJ9nEGtVQcuE8jzPbXwQAAAB8Bnyt0Qn8AAAfyX4vtpCUNs+gxxyk5dR8aZpxExyPhAAAAHQGfLWpCfwAAAwMQ8BR/VSKjz2fgIhPllf6OvlzQAAAAmkGbMkmoQWyZTAhX//44QAAAdHigwUrwJZlORfSk3ainkL2SoYyOX18mMYa1Py59irdypH8MY91DELB7LM0aMcDxVPkZ7+zRqF7j/756wragKVjDlnH8Z68Ul/zfakPFipTb7kmMscJl6XgyY7EB3wrB0pBxNGxtOX9BYrNDKARlVzkOONZPOMhwJAv4VIlzr2XI4GvPvrTG+sAAAABBQZ9QRRUsK/8AAAZIOGixspKBlNqvAAAOPhzV4k7GHQWEjWat5WL3e9QIs3MBcT1aAW6BUfxrUvTXLrIaXKbgwYEAAAAgAZ9vdEJ/AAAH719Hl+6Bmj5eOFT08Ai5+jLdwnSD2YAAAAAmAZ9xakJ/AAAH8BpRu8Ql6Zdka8pl2jUwMijGX3spFp+S7Pit2j4AAACGQZt2SahBbJlMCFf//jhAAAB0d/wvgcS5kB+muYX6FQuZz2Yv6/ow/MQMVrLhaSAsiALKFvg2eHysfbJxZpySBni7lSdvQoBc6z+cuXHxsLBsHo/yayLxLc2fS8UfLufftOQGNTPWEMj4alKnZRb/nNqp5xDq4smc+1ZF0LiaTZxLn9MLHGEAAAA1QZ+URRUsK/8AAAYeVpChQmb1HD5HXF/5pdvjr1p3vcWfT7LDVVZQbAihAB8JFHETTQkrj/EAAAAuAZ+zdEJ/AAAH8l+L7aV09p/IKaPmWNd8AA7i2qKxY4ANloV3kYHabf6Bev64gQAAABwBn7VqQn8AAAfF4vW6YYWD+WPwEI1glGnYBIHAAAAArkGbukmoQWyZTAhX//44QAAAcXU/txhMBPson170fsSdL2zVd+VmHUsRVLmZCjsEZpdwskFmSIl+aOAC2CRbqyM65ln5PHD9YaDlnOovVAvjtbQYP+sdQfY0KSug3r0HdojFK+UJf6ZwePzFKjRZMIHZCI7o0A0LT+dKtwbQSaTWKnH0gYLt7NxrEZf+onJucUDDbQYi6nCjOjuCtUw9sV8fYrZdBeDmB/kAk92dVgAAACpBn9hFFSwr/wAABh5WuklZwdjvuxpJ0/9cuSxy7rGLjRP56FRhtYxliTkAAAAcAZ/3dEJ/AAAHxmNUwWS89C0ordRCjYYHOALOwAAAACUBn/lqQn8AAAfEJMru5guZAbKv4exA/1AL8LAB91dFmekfPhnYAAAAtUGb/kmoQWyZTAhn//6eEAAAHO/YN4gE1AACAckDAko+AYe02d8K9fltEE0ahYz1moh1V1k0sB1g0H6OfWezxzlsqYDj5msCuLLV1cJ6E+iVR2r9EXP6i2EjznPJYijMkGfqvQQbOA9NJES43Qq3EcOV+aAKaNjgds5TuLtMnHGNC8NiewCZkf5TRjmc5LQzlASv6FDH7HOolYEvqGqcbsJYY+yPRouojAAXLVWQcbSrNcTuJeEAAAA2QZ4cRRUsK/8AAAZJz2eih6FVJoKdhxPeUcVJTNTBgxqtYETt7Pvq9bABOM3Hi1JgsuejSGEnAAAAHwGeO3RCfwAAAwMP4moYWfu/n9YpO6VsGwzfO116FtEAAAAcAZ49akJ/AAAHxCTK7nNkNsZpkxUioyQBgJlHwQAAACRBmiJJqEFsmUwIV//+OEAAACx+1t3djWNO94L3gGQ1ym5iQ1IAAAAcQZ5ARRUsK/8AAAMCWyOUq+dzAsrDFyGVe8ABvQAAABQBnn90Qn8AAAMDD+cXuxzK+w0U0AAAAB4BnmFqQn8AAAMC/IgYZkeC/luxh66YgjwrFdMyAmcAAABpQZpmSahBbJlMCF///oywAAAdP/zBaBMjKCds7OSFYRiXjj/0iUMAZ6kAeLqdtUj7cAvhV3dok6915P5Lpc7zNHKDmhg04uzYrrDlgsVWCieHa7f73mqVpSxx5nJ/Qf1JB/tExVZm8HunAAAAJUGehEUVLCv/AAAGIIRxC5PqNZwEyLB2sipVBKkgf2mdlhZrvSAAAAAcAZ6jdEJ/AAADAvvmzgYMFKmh4aYO2HPQr5jHwAAAABgBnqVqQn8AAAMBFdvyD+7ae/0tDZrBnYEAAABNQZqqSahBbJlMCFf//jhAAABw2tm2s5j51HGuKu3U7ce47xAHMbJx37pVVzrBvdGN6m3fGK9n15OvOevhIqwRgmnURgEuoE/sVG8JR4QAAAAfQZ7IRRUsK/8AAAYh0pSk+EtD0o7Y+mSROLw6Ozj3/QAAABIBnud0Qn8AAAMBFWo3n2VXGVAAAAAgAZ7pakJ/AAAHxCQq8SGMEq54IIzSgur0thLnNErHyDkAAABqQZruSahBbJlMCF///oywAAAdJBNC8UhYrjmOogmyJKWlgAhG99/cL8aUtKTVTvVZE3dr2W/lNd3nu5b7e7BKrDodHaTK/LnyfGhjrpYbXciMZcktZFesJbf5mufWG0b6++CVfwscVGa+QQAAAC9BnwxFFSwr/wAABiCE88T2m6JEeVfSgIyhA+CWYi3oUFBHPGTM4vAOXTVyQYhJwQAAACcBnyt0Qn8AAAe+ioFQ6n+sMUu63SYgcBumq2alpVJrJuj06eCqWUEAAAAZAZ8takJ/AAADAvwposxYh9UcdCptS4DPgAAAAKZBmzJJqEFsmUwIV//+OEAAAHD1PlIAIJFEY4IwkB852cHxmB/xrZL5doRF9ZoOWJyIb1orst+upeb6sqUbFg4O+VlGKdJlUaU4fIB/i9Bw35qQQpk/ajo24Sx5u2HHyR6k+3WrudMRZE8HEiAIhBHWhRgYbuvBs641QaiRzZ+UdI4sMhVedx5MxYW95DSUq1QY71N3X/mlrZsG8BttzCsnafNDTDMQAAAAOUGfUEUVLCv/AAAGHtrYyFhfNmqVd8fpiBMiyZCU0X0wVZrLn6Sr+Vxc+sALS1rJ5c6G8j/oV9BdSQAAABsBn290Qn8AAAMC++bOBgwUqaC18NJzKd7kzXwAAAAfAZ9xakJ/AAAHxCNjGYgHoh23PiW2lFsX43+wMPd6QAAAAIhBm3ZJqEFsmUwIX//+jLAAAB3OpXiwl976LH7a4racMv4OMrff6RLQ7GYX7T1f6UF/1VXaDzlXnkRSPOoCpChEfMnytZ6HhRAc5iSCU44GMTZXPjoTahxM/2W1Vn41BXxTSOd5l5tFASXpuvNDhY9/CCTMBj9f+kO1p2OBzlRymWrapH5GOZJjAAAAJUGflEUVLCv/AAAGSdAHtntUax7uWvw14xwgle5rLhYmC3isL0kAAAAfAZ+zdEJ/AAAHwefXv3kqfm3aRzC1f1nmvp7TSfAD7wAAACMBn7VqQn8AAAfx3hNdQxcL+V/TwKkAYKoVrGe4htSKASFHwAAAAHtBm7pJqEFsmUwIV//+OEAAAHPTrxBrzqgC0priob/02yzkXbzLUfn53KEgMgpn8R62F04D866bUagRARtsatDfN3ifKgEGphPeHomaqMb/EsE32oI0i95XjRfWMsiWzxkBtkDk/i5ILuEACreBgJQcPmCm704/GNJVqBgAAAA5QZ/YRRUsK/8AAAZGOeo4+DFwGm0zKASisN6yWgmIz4MoKf9w0MtKfr3Mq531zOtiEtP9kv/OHz/BAAAAIAGf93RCfwAAB/Jfi+4yWGSqCSEhaeTTEnBdPRS6Z2NAAAAAKAGf+WpCfwAAB/HgKQLy25xCtFUeocQwQ1SQKuyfZDi9nrC9mq6ph4AAAACZQZv+SahBbJlMCFf//jhAAAB0SgdxFFRgOeOskg1Q2sP/ulxIZPs1Ps3Hf6rli3HOexZOBoTeOJtoSMv18lF6vKD9jriKgEfh2+rDMD63O41/T1f/U0dvl/WGKGrc3rOgddJ4DQ5liw/wgWbYBHi+2wMUxj9SFjXVp88UBwqfDRo203C4SOKDgaP7oM4oc8HYDNBGH8S8yCarAAAAR0GeHEUVLCv/AAAGRywrIVlQEPtwiWCcIho3oBMOYyf/lKGvRMAqUAT2fakC0PzPZNWa0mn+/gT/5c5f37IAYfTsWs3z/V7MAAAAMgGeO3RCfwAAB/Jfi+0V5HYDmtPMhCZ/KVsCels1J4ADfaOR1yok8uXOc1AKUzvreoHBAAAAKAGePWpCfwAAB/AWaK29tXW12/8SUaCve8523YCBXLM+xWXrKcTkUfEAAACfQZoiSahBbJlMCFf//jhAAABzsChAgDZLjpguxddTqHYcmn7pkuggSVUZ2loyCOoRHBLJICkk+muTpqm8ApCkgFb2e+7Cnk1+X4hG1GTfvahQdQMXNHmP//vfZRxxJsarYZugqFU97rVtrOVVCoGt9zBPHnlw6jc9pA8dOdY83SgqoC2MqmF2WJcejCVMIIGOEEJlqs3tPSxgdMFF3nAyAAAATkGeQEUVLCv/AAAGSayhhxWelFzX9ABA/LLxp+icBCEO8yLBtL5FT9tXjx6WYRBYB9z4CFZ/SLIsnihGIJyFLvwLI6lVPrLfsXwEtnTp6QAAAC8Bnn90Qn8AAAfvX0eEjhw5+IjQJYKO81CKpBU7M0CUu9ANDFZeCgraEyG1PTd1fAAAACcBnmFqQn8AAAfvtdht2AqHboHn4SZ/qFr1T7yl4a//QbIBJat1SPkAAACmQZpmSahBbJlMCFf//jhAAABzsCTygIV0jl8AdLH0oNkKbcVrmxeggbn9tI9EpVZIZYHE/bNs6aH5hx6Wu1/gM9lMOiugB+aXz+rEPNVNLqG4ePyg/OzeReBuWWrn4YT8idr6hjCMGTUl45SmD+Rkv+mSlS3cogJeUHLhXBsr8KJWlo0jAzp3EmDF6odfJmn6NTdM99MzQMzvdlH+UZP5lNNNb8dVUwAAAEBBnoRFFSwr/wAABkaicRQPwn6km47ujkwzl9cZKQvDUJ9IAuV44JuTMAG0SPYb0xc3MVasGc9w+HP6yrq7i+f4AAAAIwGeo3RCfwAAB/IRf8AuC6eWIb5KlXfHldCAsFkl5niQss58AAAAMgGepWpCfwAAB/HgKP5gycgOkFAJDFuSsRjAAIQlAyPaU35Cp+h8EXQvffhAtS+yZnPhAAAAeUGaqkmoQWyZTAhX//44QAAAc589CgV2U/gATO8nWBsx2ptXHImChfqHCWR6hEPf5ANTEioL+C6B9brGLNTpP1PsmVbgYoZAWjwIhkgDHof7DpZcWzLOMsXFH0UE+1h6F5k6rmvEn8woW/ZUoG5qgMqTWpo3tUdxnLwAAAA6QZ7IRRUsK/8AAAZKPE1bAAWJPM/9m3pSZ1WNtZ6xcEKlJccsiWBQSiQNpgsqWdc3420/sruFB2+R8QAAACwBnud0Qn8AAAfyEVzPdbaAEtWZfVgsF06T4f12V4nkh2a+bwX5DbODXqRNfAAAACkBnulqQn8AAAfxt8/BO7WIX9+t6WgBI9yW5UUSY9sG3cMnSE8bnxQz4QAAAHxBmu5JqEFsmUwIV//+OEAAAHQzMqGFGmC0aox50heepASm5wAbUXj3uk60kJpLdDhvPq1MFJcI0RJqMG9NQg7ErlPe+qQ3n5nKRN7/lEbI/rYwh/8rlXjX3WmGg/T2Vj2RrbbHITRnByR+63l0ZePzJpkjTqa+57OrsKDRAAAAL0GfDEUVLCv/AAAGSq8wYtGPluAsztdA1QTzFUxU5t72HAFpY1USVR4VTJFa7u6BAAAALwGfK3RCfwAAB+8mG06RXwi2MowFrbpBY1XkWEuhjO+ATSmRkTwbi8o6S8Q6j7XxAAAALwGfLWpCfwAAB++2MLRltQAliEwjmGQEIO38bqgenMjf6RcOlET6uWbhXfams7aAAAAAsUGbMkmoQWyZTAhX//44QAAAdvMyoYC96BS3QVuGoQjPrb4lMS5XWvHSnPKMLSj3jkyeHx+zjFg8Tj1J6LER1maLpHTvrEgx4ZSDVpyrUQ0LreAP60ZVX1oKKFdaouNNaUyAqYRaWnKRLiJlQl9N0/JbcXy8spuhVa/GnzOvF1W/YIP7YQ2uNqmpBspb2m3q2NLQMOTkcZiUeSAtD9+mShfWiDS2wCfUDl24ZXQbIKnpCAAAAEZBn1BFFSwr/wAABnK7USCJWom3RwSWropGckDZlHSxG0v5BDiOjHZnm7wV33dtgWG8rQ2qI33EtwvU9j9JbbdRlIaQL8+ZAAAALAGfb3RCfwAACC+seoRlvf0+MjDHqKp8kMCoyhVnm0StW8l9MQCy0+JL/7WUAAAAKgGfcWpCfwAACC6ODlbIBEP0tc6+MU8YdVMZq4ZTF0LgKxO8krUa2ZiK+AAAAIhBm3ZJqEFsmUwIV//+OEAAAHcOxwyE/uIbL5nSdoyr1ICH64AVUyy8XhHh0XB376vNiXYbBhGjhBOkyOwmlwgQ+cu5wqix+YRx5XeXb4iq/vR4Lx2VWLQlUAtzOhVuJy4LgRt9PELCdB11einbvaF4kqJ5jTtAuBUic4KpySBS7dLyPYGrv6PBAAAAPUGflEUVLCv/AAAGcq822EAPxv6iOS2KSJrrGDkH9rU4wWdREu3iZ9cUu5eT76uhFO0paZDyhvnmRGzDepEAAAAuAZ+zdEJ/AAAILzuWnxb7ZgH39auN9Cf30CygBKPAX25TrifuaMYsjySw26pFwQAAACUBn7VqQn8AAAgujg5W14ce8yB8xAaKAupys0yLcFhEvYnfPXdAAAAAkUGbukmoQWyZTAhX//44QAAAdpPInyABrVij8EUsyuuzTz1o4MNafKZCBxJYjC58mvRi4z5AZW/mIueE/KV9Ij0wntnrbnxKtCSDUghxsJ2+D1X2dWprULwlB98G6j+gvNI4rDSJa63zazOreguoDbkIAhXLSXMBP6vnihStNP20xdVbAEQYgePay7Ci80pU1kAAAABMQZ/YRRUsK/8AAAZul0dNOZ8HOKWctkpDmOOqyAD2+itD+UdzT0lyNiAonwzMC64pRQNHovYTd/T2l22wJOipsC4dD4IWj2Ae6D/RcQAAAC8Bn/d0Qn8AAAgtQzFr9ua5pxAABdAEI2Nr9ttErjxK888wM5dJ4G9KxEGJCGsi4AAAACgBn/lqQn8AAAglzdYvk1VihEB9bYHSwUot0tTw0MRF/IMUokfoq57OAAAAhkGb/kmoQWyZTAhX//44QAAAeff+icAU3GhABxsQ5kYs8cCREHwvPpycgoNc1TtoYp7BjxuMRkNX3g66R7ixEsyUjpjdqaz0Gs1yuUQ4yYAhGL5Vk+J7tLpI9PyW1r1Kpa/XJsZUfzccStScqyJMF9qFoSZ6TfdIz6mHQJzdGeVj48xD9R5BAAAASEGeHEUVLCv/AAAGb/sWfRQBZNrOwfWcqZsDx4qyguJyRsOpAA309rFQqxnaY75FqDPM6ZNynU6ThxMzYf7EIzlCc6YuvUfH0gAAACwBnjt0Qn8AAAgtRL0l6TTED3alNASABdct8+kCicGHFsYF+NT+VZYp4Gz+pQAAACYBnj1qQn8AAAgwjZCV7bxfgiUY1V3kd4daCvoJtdygE5CypEyLgQAAAI9BmiJJqEFsmUwIV//+OEAAAHkxOwCBUbTHgE+XMyZU7FRbEG7QqV6NGv8tC5Up+XTAFBrubN+fXS5zkCF6R2Qi5S4VmpHpDQiu/HKiYT+iEmHbSV5L0uOr6BCtlnDh1J/dR8ifd+XxdsXEerwGlD6yUYN05UL0/fvm5jiZsfowE5KMRLUiS2gQsXC78q2H8AAAADtBnkBFFSwr/wAABpnO6tQlnuRUC481fpshhEzKLAHZRFXjl8+/GLZd6CD91ZYeI4ZoNLKGlUzQEXYWmwAAACIBnn90Qn8AAAgrBKyDS6j5dGNT5dY952dfNbrZlRrGvXK+AAAANgGeYWpCfwAACGvAyrpAALrWfBpb5ZEPFcTVSkkYzDsA6IKPQGoR7n985rsge+KkwSW4LHWmYQAAAGdBmmZJqEFsmUwIV//+OEAAAHkxOGwgGRH4bxjCwMIYY3wKXlegBsJ/L69Q5sHoLakvkND/em7L4c/wJQ+POeadUeRNutJhM2EfIMxKt4R3kVPYAkaqovbKYXBKIRpO5I1sqWZaUHuLAAAAO0GehEUVLCv/AAAGl/sVrUwOqMXXjCYIcegyro4jAPA7m5UtRHxRKKiY7Zn2AgBWHAM2aYDssEDH9bz4AAAAOQGeo3RCfwAACG87akxLp4Dggtl/YNas6VBKUAJR+q9egcw3WQVRR5ehd5UGkDhmLDX0ZcZyVdbz4AAAACkBnqVqQn8AAAhwjY8G8UYUSomGVgKVM7dW0FmzVXH5wHHAnvt2zfT2mwAAAJVBmqpJqEFsmUwIV//+OEAAAHkxEyQABh4pLdBrhS8r0PmYDQBsc+HX9u7udDV6kAAGqXWNGTHp1oPYaPnVwuyE8w4rcXlZG+GRxQl/rWRd2kFP5gEVNbrh1zVjGRMycvBI92nq12eFoA+163og4AIEnpkiIjPpBKyxacgwG9kTPJqFUdz+fjUxWu6jHG45Sv/yxBOtkAAAAERBnshFFSwr/wAABpqwGqebWq/l1gYJf6yHtApqPAM/LkU7VgvV91R1i3RD/cDh4ZQN30nqxZh7U0cBE5yrh07w2PREPQAAADwBnud0Qn8AAAhvO4E3b7ZVPynkL+zLaeAXZsVDD9+djjLMoWAB+jkeHRwi11doXbucoWscNGOdSfQfp5kAAAA0AZ7pakJ/AAAIaPEmPwHsLATQTG/C/CgUaD7vFldSziFCRzgOh0nKltXbk6BL2nYMAFse6QAAAH5Bmu5JqEFsmUwIV//+OEAAAHlsp6AYkAg6l1dvNFlfkLZfBnzatCPla/erIQRm3EG7EmrBvhGsHaq5AtBd6T1xjm0fOG55eD+1ccAhCpnTTxdMWXE21Mct87OVVJqKqU/bJT3hevzZBZx4GME/Of/KDrV+b+Ajclm6GaBXESEAAABEQZ8MRRUsK/8AAAaX+xuKdhvAdUbcRW+zsQaIDOW9sT6U8NYiQAhLBehWvYlclFicb71IlQ0tjftxdDuaXW2PXGzQb1MAAAAmAZ8rdEJ/AAAIbUS/Af6EnCaAFcNItxiFchjLeDb2ePkvBSg9nrcAAAAxAZ8takJ/AAAIa8E/pkMC0CO/S8Osw/vz2QAlhBmZu5ypSIxgZtCkIENKfOnD/tXlQAAAAI9BmzJJqEFsmUwIV//+OEAAAHwMsycABFmjMNmyCm2CWrud7OPQjshnOCwXUbrNzn9Y+Hoq10nFCz5HMv/ToPd3upKKhJCnERh48r69Dmy4aZ2IWPx588jHLbT737lcc1LOmQy2hw98DewfwxXnbZIEGWhTgLF84VkuHXhVpo4KSHAYbvtdn18ItvoFYTRUuAAAAD1Bn1BFFSwr/wAABsHQryZkpRhddJQMnaiZl9jkt8/tilCodEvXBXzKfzVZrhjMUQ1wJN66/2zEUM32faGBAAAALgGfb3RCfwAACG1Ev3j/ndZSDMXEAAXDwiHkpEcIo/eLJnQlSDa05ZKPTzlMFnAAAAAyAZ9xakJ/AAAIrpVsJ15yLWS+AAXWsCtJajiuVq8s3FsloHzLsXJOjuRdmwhpzJ2RveQAAAB9QZt2SahBbJlMCFf//jhAAAB8DLKkCANk5mptO/6uKzOQbe/jr0a9nR8WCv6pZcJ475LMIM09j0/Biqx9uCeUc7Ui9/cxGdTyg3fYmEs/tr7j7uxknG+s8qpTubV6gIhmjbsqv7IfA8OjnI4Fsn+OREx0tL18IqR/Df9BCQ0AAAAtQZ+URRUsK/8AAAa/+xdRl97sp/Gid28EMjTvxU1zk+jKIkCRF2AbHpLfkS45AAAAKwGfs3RCfwAACK1EvKxAbzBFiNhdoBwb57wYRYasn3sMaksWgchKlG12OVEAAAApAZ+1akJ/AAAIrpWg/qbxOLVb1/70SSIGMXEEuaHNgUGz8N7M2wV6OkYAAABxQZu6SahBbJlMCFf//jhAAAB8LL7xSAAa0yxVqL45NE9yLBY14sbZu1AL5GTtCLaiNfzy5Z0TZGdqFVU2dDC6K6/I6/ThfQYTvBgtwwxS1jxDMZDZT3gvJUy7TWnqT/wdEFPDDqaabsNIYPKyDI72J6gAAABcQZ/YRRUsK/8AAAbAISmzC6QgdQAlrZw4W43E2IXLMv0y7g/4RZjsxhdbrTif90+Hz8KSbx9ArvoYRH6MR80uHxQp6IyQoLdg/Nu4qeEzMbi2XS36GC7C1+Lg3ysAAAA1AZ/3dEJ/AAAIryzu76djFX3i9v+ACydtXRr2bLEvXpfphY7RkjLHgxnYLWYtiDUqgbSWxBwAAAAvAZ/5akJ/AAAIq6QytAF/yC7gBbwp/fcd5tP3NRHPs54lwGT5Zh9RC5Hix5A3HTAAAABjQZv+SahBbJlMCFf//jhAAAB78Q593VVntdb/FSHGACLuAc6NCWjXm/V9dEeD2HsmGjiYSJ8q0qiOPl4vBVbpndBSswrGS6xstjkXhnKHajUgzA0Hmcw4HmT93NgvmBF2l5fZAAAALUGeHEUVLCv/AAAGvpRJbBq8OwFgz+rY0QH1Gfs00czDSuUCTh/L1WiYuZxR/gAAADQBnjt0Qn8AAAivO8vl1KnC9UkEAFuIuw1tp6Xp5Nt1+n51SBWIFE7YGYqbEUwv6ZF1Sj/BAAAAJAGePWpCfwAACLCNkJYJjJoxBtkIy0WAnYHWDsovjIicLdQT/QAAAHVBmiJJqEFsmUwIV//+OEAAAH7TylYyJn2q1Xdp2RMnODbuADjOaoMizlEgjYTl54eaATfxhfgNHNjSSCefcCYzuEgcIFkFfLtj1Dmz5mGkAZCendY+e3UoHRmN4nmV2zOjzL1mZR8XZYKG/ZyobzgCWYurpY4AAAA+QZ5ARRUsK/8AAAbpz1D/3dL8L769c1ulBr0ALP6pjM0gdNFRpe2CmUEUzI+swNf86YKG9d+7XyJqM8vOFTUAAAAsAZ5/dEJ/AAAIrUS/iIMqKSBfmok/WxVdDxUpR/yceczd+Qk6Wqz9kM0fFTQAAAAzAZ5hakJ/AAAI66Qk95pyjdAfQg5wAAXWoLA8jMe2zYWwvNOMHTm8FlbUX7saULaMVTdxAAAAg0GaZkmoQWyZTAhX//44QAAAfwrE/HAN78nCFky5AqIZbsEXNple8TnqGHM+fgmEA+UZVgW5qmimhCX/hXT08bRnAwkWFhUyBk72ZZkYiiSYezWhgQ9nmuovB/GnxicbGgW00S0fQj9IozjVXEy07DdpjV/cV05J2R4fdNSvY6PNEOIxAAAAMEGehEUVLCv/AAAG6rBpn+UH8cCMEsAb/w7o/uT/Ht7eDFjdcvwIxh9DVSaLDrCzdwAAAC4BnqN0Qn8AAAjtRLysQI6ryAWu86lMugh6jeprkHy6I4a9kYUG8asyp6rHFOmAAAAAJAGepWpCfwAACO6VgOIy/dpQgQTF7aT88zGXxDYTlLN5COP/xwAAAHpBmqpJqEFsmUwIV//+OEAAAH7zeang+sI9+8QBCFlGt3JC6eTBsanqWhx4dnz10q7ioqrqXHtCqK7j313Og4Lzt3Wm6vOkK/axuyHa7Bsl0gN+HVZCLQpuGWe+FWyUu6Ljjt3v0zfjNqRjMj6GeEX11s3YKTbjMY/O7AAAAD5BnshFFSwr/wAABuqvL69WeevkAJUrmMupz3nTkPz4gmc7licGDgPzHVtCP1ySErkgBAH+MLNbUpXXeV5/gQAAADkBnud0Qn8AAAjrBH001Gg7xUCncTIe1hckJ6zZoAVZqx4Fwm4mqWJw5tebY4+C3nl/axpP8g99nYAAAAA4AZ7pakJ/AAAI68EO2O7YPZ4yphe2S2oABdTLNhjGfhm/b+zTnj+wuY/pIa5LYZV7I49x1xlrtmEAAABmQZruSahBbJlMCFf//jhAAAB+mRrZoiSkjW30uvHKbsfopm2eosvJujVzwxXnNJvf2AA3LXoYry8c8l0FYF43V99TPCEFGK/XPh85YPLvDEjP6HFnUxuS+xRop7RVaHaS/Q2ikNfBAAAAO0GfDEUVLCv/AAAG51SCcHkPFpEhTPTl4OUdfQZd/loZIw/ZEx3C0AAnTAA3nkApK2OHzfeJPksndh/hAAAAMQGfK3RCfwAACO87bJHGoEpsBM5qKjdFwdbBHtGIDtS5gZeKfviqNPtVtn72N0smg/0AAAAnAZ8takJ/AAAI6ZqDmPt5ky9ZEyEluWfUpzHgVECFcKvjZTdlyPmAAAAAdUGbMkmoQWyZTAhX//44QAAAftPGMVUACe2IWL0uBAQ7ETI6W294ceBdeWJnKzIjjMCVpol2kgZQ6ssZXsAt+ibcmHBZgS2qKRC3cGRx4RmfN1H/ur48UzGssJmeWztlZrPLaMLnMqQypQTYDqkCgIIsJ7kWeQAAAEdBn1BFFSwr/wAABugme2SJtlvBgQAtwCEaS0yHYF0B2aBQnfLNsoaj9/lxMODNrDMd4otPmZlkDb2WnFmNUI38ojP0mtAqGQAAACsBn290Qn8AAAjm9qPX8gVsWyYyxlSYQSBePDIq8XbYnjNAsME+m7YOeg1UAAAAKAGfcWpCfwAACOvBbKFzb9lrHHPRLa1Lz8HSyfK7aCBaYkt5WFkUPAgAAABnQZt2SahBbJlMCFf//jhAAACDIfrdytkks4Are9Z3iEJWDRMStEpQhpBXcV9Jevr58475Nx6VGGdcOdtyuRJQj4aNguO1DZuJFrP+FnA49WFdr6j17QcsCeVc2CyEkEAOquM2gUsrgQAAAEtBn5RFFSwr/wAABxOLM/yNoASXVQRd+bV7fNiqwk0hHuZve1WPkNUIeoWxjcbGSQxkbjnp4wRLq9nJqwkvdlChs0RYskYWGA//qccAAAAxAZ+zdEJ/AAAJL64QILxQWnPRQh5gAC4eGOrDUsFW5qfk73p01E2NnCGrf4nvI+53sQAAAC8Bn7VqQn8AAAkrpi6AF/lSP/uHmT8U40p59VxwWN4uDEk/Zw9MS0IoVBmXsKLbQAAAAEtBm7lJqEFsmUwIT//98QAAAwFG2+Ct9fY8hqzfFzfqj1V8rdR9ELIG/JHcIAQFDYAT40JtF2qfhlO2CaigVfk4boAnXln/3pcgJKwAAAA3QZ/XRRUsK/8AAAcWo2Q/y+l8SfHEgBZfqOjJqU9gdKlyQ2dps96bhuL4tawR1koo58eTzfhnzQAAACQBn/hqQn8AAAkrwM13gzQhRRQb7PIQgNLsiVIhJiCe/aPZtoAAABpubW9vdgAAAGxtdmhkAAAAAAAAAAAAAAAAAAAD6AAAQRsAAQAAAQAAAAAAAAAAAAAAAAEAAAAAAAAAAAAAAAAAAAABAAAAAAAAAAAAAAAAAABAAAAAAAAAAAAAAAAAAAAAAAAAAAAAAAAAAAAAAAAAAgAAGZl0cmFrAAAAXHRraGQAAAADAAAAAAAAAAAAAAABAAAAAAAAQRsAAAAAAAAAAAAAAAAAAAAAAAEAAAAAAAAAAAAAAAAAAAABAAAAAAAAAAAAAAAAAABAAAAAAlgAAAGQAAAAAAAkZWR0cwAAABxlbHN0AAAAAAAAAAEAAEEbAAAEAAABAAAAABkRbWRpYQAAACBtZGhkAAAAAAAAAAAAAAAAAAA8AAAD6ABVxAAAAAAALWhkbHIAAAAAAAAAAHZpZGUAAAAAAAAAAAAAAABWaWRlb0hhbmRsZXIAAAAYvG1pbmYAAAAUdm1oZAAAAAEAAAAAAAAAAAAAACRkaW5mAAAAHGRyZWYAAAAAAAAAAQAAAAx1cmwgAAAAAQAAGHxzdGJsAAAAsHN0c2QAAAAAAAAAAQAAAKBhdmMxAAAAAAAAAAEAAAAAAAAAAAAAAAAAAAAAAlgBkABIAAAASAAAAAAAAAABFUxhdmM2MS4xOS4xMDAgbGlieDI2NAAAAAAAAAAAAAAAGP//AAAANmF2Y0MBZAAe/+EAGWdkAB6s2UCYM+XhAAADAAEAAAMAPA8WLZYBAAZo6+PLIsD9+PgAAAAAFGJ0cnQAAAAAAABGQgAARkIAAAAYc3R0cwAAAAAAAAABAAAB9AAAAgAAAAAYc3RzcwAAAAAAAAACAAAAAQAAAPsAAA+AY3R0cwAAAAAAAAHuAAAAAQAABAAAAAABAAAKAAAAAAEAAAQAAAAAAQAAAAAAAAABAAACAAAAAAEAAAoAAAAAAQAABAAAAAABAAAAAAAAAAEAAAIAAAAAAQAACgAAAAABAAAEAAAAAAEAAAAAAAAAAQAAAgAAAAABAAAKAAAAAAEAAAQAAAAAAQAAAAAAAAABAAACAAAAAAEAAAoAAAAAAQAABAAAAAABAAAAAAAAAAEAAAIAAAAAAQAACgAAAAABAAAEAAAAAAEAAAAAAAAAAQAAAgAAAAABAAAKAAAAAAEAAAQAAAAAAQAAAAAAAAABAAACAAAAAAEAAAoAAAAAAQAABAAAAAABAAAAAAAAAAEAAAIAAAAAAQAACgAAAAABAAAEAAAAAAEAAAAAAAAAAQAAAgAAAAABAAAKAAAAAAEAAAQAAAAAAQAAAAAAAAABAAACAAAAAAEAAAoAAAAAAQAABAAAAAABAAAAAAAAAAEAAAIAAAAAAQAACAAAAAACAAACAAAAAAEAAAoAAAAAAQAABAAAAAABAAAAAAAAAAEAAAIAAAAAAQAACgAAAAABAAAEAAAAAAEAAAAAAAAAAQAAAgAAAAABAAAKAAAAAAEAAAQAAAAAAQAAAAAAAAABAAACAAAAAAEAAAoAAAAAAQAABAAAAAABAAAAAAAAAAEAAAIAAAAAAQAACgAAAAABAAAEAAAAAAEAAAAAAAAAAQAAAgAAAAABAAAKAAAAAAEAAAQAAAAAAQAAAAAAAAABAAACAAAAAAEAAAoAAAAAAQAABAAAAAABAAAAAAAAAAEAAAIAAAAAAQAACgAAAAABAAAEAAAAAAEAAAAAAAAAAQAAAgAAAAABAAAKAAAAAAEAAAQAAAAAAQAAAAAAAAABAAACAAAAAAEAAAoAAAAAAQAABAAAAAABAAAAAAAAAAEAAAIAAAAAAQAACgAAAAABAAAEAAAAAAEAAAAAAAAAAQAAAgAAAAABAAAKAAAAAAEAAAQAAAAAAQAAAAAAAAABAAACAAAAAAEAAAoAAAAAAQAABAAAAAABAAAAAAAAAAEAAAIAAAAAAQAACgAAAAABAAAEAAAAAAEAAAAAAAAAAQAAAgAAAAABAAAKAAAAAAEAAAQAAAAAAQAAAAAAAAABAAACAAAAAAEAAAoAAAAAAQAABAAAAAABAAAAAAAAAAEAAAIAAAAAAQAACgAAAAABAAAEAAAAAAEAAAAAAAAAAQAAAgAAAAABAAAKAAAAAAEAAAQAAAAAAQAAAAAAAAABAAACAAAAAAEAAAoAAAAAAQAABAAAAAABAAAAAAAAAAEAAAIAAAAAAQAACgAAAAABAAAEAAAAAAEAAAAAAAAAAQAAAgAAAAABAAAKAAAAAAEAAAQAAAAAAQAAAAAAAAABAAACAAAAAAEAAAoAAAAAAQAABAAAAAABAAAAAAAAAAEAAAIAAAAAAQAACgAAAAABAAAEAAAAAAEAAAAAAAAAAQAAAgAAAAABAAAKAAAAAAEAAAQAAAAAAQAAAAAAAAABAAACAAAAAAEAAAoAAAAAAQAABAAAAAABAAAAAAAAAAEAAAIAAAAAAQAACgAAAAABAAAEAAAAAAEAAAAAAAAAAQAAAgAAAAABAAAKAAAAAAEAAAQAAAAAAQAAAAAAAAABAAACAAAAAAEAAAoAAAAAAQAABAAAAAABAAAAAAAAAAEAAAIAAAAAAQAACgAAAAABAAAEAAAAAAEAAAAAAAAAAQAAAgAAAAABAAAKAAAAAAEAAAQAAAAAAQAAAAAAAAABAAACAAAAAAEAAAoAAAAAAQAABAAAAAABAAAAAAAAAAEAAAIAAAAAAQAACgAAAAABAAAEAAAAAAEAAAAAAAAAAQAAAgAAAAABAAAKAAAAAAEAAAQAAAAAAQAAAAAAAAABAAACAAAAAAEAAAoAAAAAAQAABAAAAAABAAAAAAAAAAEAAAIAAAAAAQAACgAAAAABAAAEAAAAAAEAAAAAAAAAAQAAAgAAAAABAAAKAAAAAAEAAAQAAAAAAQAAAAAAAAABAAACAAAAAAEAAAoAAAAAAQAABAAAAAABAAAAAAAAAAEAAAIAAAAAAQAACgAAAAABAAAEAAAAAAEAAAAAAAAAAQAAAgAAAAABAAAKAAAAAAEAAAQAAAAAAQAAAAAAAAABAAACAAAAAAEAAAoAAAAAAQAABAAAAAABAAAAAAAAAAEAAAIAAAAAAQAACgAAAAABAAAEAAAAAAEAAAAAAAAAAQAAAgAAAAABAAAKAAAAAAEAAAQAAAAAAQAAAAAAAAABAAACAAAAAAEAAAoAAAAAAQAABAAAAAABAAAAAAAAAAEAAAIAAAAAAQAACgAAAAABAAAEAAAAAAEAAAAAAAAAAQAAAgAAAAABAAAKAAAAAAEAAAQAAAAAAQAAAAAAAAABAAACAAAAAAEAAAoAAAAAAQAABAAAAAABAAAAAAAAAAEAAAIAAAAAAQAACgAAAAABAAAEAAAAAAEAAAAAAAAAAQAAAgAAAAABAAAKAAAAAAEAAAQAAAAAAQAAAAAAAAABAAACAAAAAAEAAAgAAAAAAgAAAgAAAAABAAAKAAAAAAEAAAQAAAAAAQAAAAAAAAABAAACAAAAAAEAAAgAAAAAAgAAAgAAAAABAAAEAAAAAAEAAAoAAAAAAQAABAAAAAABAAAAAAAAAAEAAAIAAAAAAQAACgAAAAABAAAEAAAAAAEAAAAAAAAAAQAAAgAAAAABAAAKAAAAAAEAAAQAAAAAAQAAAAAAAAABAAACAAAAAAEAAAoAAAAAAQAABAAAAAABAAAAAAAAAAEAAAIAAAAAAQAACgAAAAABAAAEAAAAAAEAAAAAAAAAAQAAAgAAAAABAAAKAAAAAAEAAAQAAAAAAQAAAAAAAAABAAACAAAAAAEAAAoAAAAAAQAABAAAAAABAAAAAAAAAAEAAAIAAAAAAQAACAAAAAACAAACAAAAAAEAAAoAAAAAAQAABAAAAAABAAAAAAAAAAEAAAIAAAAAAQAACgAAAAABAAAEAAAAAAEAAAAAAAAAAQAAAgAAAAABAAAKAAAAAAEAAAQAAAAAAQAAAAAAAAABAAACAAAAAAEAAAoAAAAAAQAABAAAAAABAAAAAAAAAAEAAAIAAAAAAQAACgAAAAABAAAEAAAAAAEAAAAAAAAAAQAAAgAAAAABAAAKAAAAAAEAAAQAAAAAAQAAAAAAAAABAAACAAAAAAEAAAoAAAAAAQAABAAAAAABAAAAAAAAAAEAAAIAAAAAAQAACgAAAAABAAAEAAAAAAEAAAAAAAAAAQAAAgAAAAABAAAKAAAAAAEAAAQAAAAAAQAAAAAAAAABAAACAAAAAAEAAAoAAAAAAQAABAAAAAABAAAAAAAAAAEAAAIAAAAAAQAACgAAAAABAAAEAAAAAAEAAAAAAAAAAQAAAgAAAAABAAAKAAAAAAEAAAQAAAAAAQAAAAAAAAABAAACAAAAAAEAAAgAAAAAAgAAAgAAAAABAAAKAAAAAAEAAAQAAAAAAQAAAAAAAAABAAACAAAAAAEAAAoAAAAAAQAABAAAAAABAAAAAAAAAAEAAAIAAAAAAQAACgAAAAABAAAEAAAAAAEAAAAAAAAAAQAAAgAAAAABAAAKAAAAAAEAAAQAAAAAAQAAAAAAAAABAAACAAAAAAEAAAoAAAAAAQAABAAAAAABAAAAAAAAAAEAAAIAAAAAAQAACgAAAAABAAAEAAAAAAEAAAAAAAAAAQAAAgAAAAABAAAKAAAAAAEAAAQAAAAAAQAAAAAAAAABAAACAAAAAAEAAAoAAAAAAQAABAAAAAABAAAAAAAAAAEAAAIAAAAAAQAACgAAAAABAAAEAAAAAAEAAAAAAAAAAQAAAgAAAAABAAAKAAAAAAEAAAQAAAAAAQAAAAAAAAABAAACAAAAAAEAAAoAAAAAAQAABAAAAAABAAAAAAAAAAEAAAIAAAAAAQAACgAAAAABAAAEAAAAAAEAAAAAAAAAAQAAAgAAAAABAAAKAAAAAAEAAAQAAAAAAQAAAAAAAAABAAACAAAAAAEAAAoAAAAAAQAABAAAAAABAAAAAAAAAAEAAAIAAAAAAQAACgAAAAABAAAEAAAAAAEAAAAAAAAAAQAAAgAAAAABAAAKAAAAAAEAAAQAAAAAAQAAAAAAAAABAAACAAAAAAEAAAoAAAAAAQAABAAAAAABAAAAAAAAAAEAAAIAAAAAAQAACgAAAAABAAAEAAAAAAEAAAAAAAAAAQAAAgAAAAABAAAKAAAAAAEAAAQAAAAAAQAAAAAAAAABAAACAAAAAAEAAAoAAAAAAQAABAAAAAABAAAAAAAAAAEAAAIAAAAAAQAACgAAAAABAAAEAAAAAAEAAAAAAAAAAQAAAgAAAAABAAAKAAAAAAEAAAQAAAAAAQAAAAAAAAABAAACAAAAAAEAAAoAAAAAAQAABAAAAAABAAAAAAAAAAEAAAIAAAAAAQAACgAAAAABAAAEAAAAAAEAAAAAAAAAAQAAAgAAAAABAAAKAAAAAAEAAAQAAAAAAQAAAAAAAAABAAACAAAAAAEAAAoAAAAAAQAABAAAAAABAAAAAAAAAAEAAAIAAAAAAQAACgAAAAABAAAEAAAAAAEAAAAAAAAAAQAAAgAAAAABAAAKAAAAAAEAAAQAAAAAAQAAAAAAAAABAAACAAAAAAEAAAoAAAAAAQAABAAAAAABAAAAAAAAAAEAAAIAAAAAAQAACgAAAAABAAAEAAAAAAEAAAAAAAAAAQAAAgAAAAABAAAKAAAAAAEAAAQAAAAAAQAAAAAAAAABAAACAAAAAAEAAAoAAAAAAQAABAAAAAABAAAAAAAAAAEAAAIAAAAAAQAACgAAAAABAAAEAAAAAAEAAAAAAAAAAQAAAgAAAAABAAAKAAAAAAEAAAQAAAAAAQAAAAAAAAABAAACAAAAAAEAAAoAAAAAAQAABAAAAAABAAAAAAAAAAEAAAIAAAAAAQAACgAAAAABAAAEAAAAAAEAAAAAAAAAAQAAAgAAAAABAAAKAAAAAAEAAAQAAAAAAQAAAAAAAAABAAACAAAAAAEAAAoAAAAAAQAABAAAAAABAAAAAAAAAAEAAAIAAAAAAQAACgAAAAABAAAEAAAAAAEAAAAAAAAAAQAAAgAAAAABAAAKAAAAAAEAAAQAAAAAAQAAAAAAAAABAAACAAAAAAEAAAoAAAAAAQAABAAAAAABAAAAAAAAAAEAAAIAAAAAAQAACAAAAAACAAACAAAAABxzdHNjAAAAAAAAAAEAAAABAAAB9AAAAAEAAAfkc3RzegAAAAAAAAAAAAAB9AAABNoAAABFAAAAGgAAABMAAAArAAAAVgAAADQAAAArAAAAGwAAAKsAAABBAAAALAAAACUAAACCAAAALAAAACgAAAApAAAAqAAAAEMAAAAmAAAALQAAAH8AAABKAAAALgAAACgAAACSAAAARAAAADUAAAA6AAAAiwAAADsAAAA5AAAAMQAAAIsAAAA+AAAAPwAAAC0AAAB9AAAAXAAAAEYAAAA9AAAArgAAAEIAAAA/AAAALwAAAHEAAAA4AAAALwAAAIUAAAA0AAAARAAAADUAAACUAAAAQwAAAD8AAAA5AAAAhAAAAD0AAAAqAAAANwAAAGMAAAA4AAAANwAAAFAAAACqAAAASgAAAEkAAAA1AAAAnwAAADsAAAA3AAAAMwAAAHcAAAA+AAAAQQAAACkAAACnAAAATAAAAE4AAABBAAAAlQAAADoAAABFAAAALQAAAKsAAABEAAAASwAAAD4AAACTAAAASgAAAEYAAAAyAAAAggAAAFEAAABKAAAATQAAAJcAAABCAAAAPAAAAD8AAABqAAAAMwAAADUAAABKAAAArAAAAD8AAAA8AAAAQQAAAKUAAABQAAAAMAAAADAAAABiAAAASQAAADwAAABAAAAArAAAAEEAAAA2AAAAMgAAAK4AAABDAAAAMwAAADwAAACRAAAASAAAACwAAAA0AAAAqAAAAD4AAAA1AAAAPQAAAJQAAAA4AAAAKQAAADIAAACXAAAANQAAADwAAAAwAAAApAAAAD8AAAA1AAAAOQAAALAAAAA2AAAAKAAAACQAAACwAAAAOAAAADAAAAAqAAAAogAAACkAAAAfAAAAHwAAAGgAAAApAAAAHwAAABwAAAAbAAAAIAAAABYAAAAWAAAAVAAAADEAAAAdAAAAHAAAAHsAAAA1AAAAKgAAACQAAACvAAAASAAAADIAAAAqAAAAlAAAAEIAAAAwAAAALQAAAKIAAABQAAAAIQAAACQAAACMAAAAPQAAACEAAAArAAAAeAAAAEAAAAApAAAAJwAAAHgAAAA6AAAAKAAAADMAAACEAAAAXQAAAC4AAAA3AAAAhwAAAEMAAAAzAAAAMwAAAKEAAAA9AAAAIgAAAC4AAACKAAAAZAAAADcAAAA0AAAAdAAAAD8AAAAoAAAAIwAAAG8AAAA5AAAAOwAAACwAAAB8AAAAOgAAACMAAAArAAAAhQAAAEsAAAArAAAAOAAAAHYAAAAwAAAALgAAACIAAACEAAAANgAAACoAAAAnAAAAeQAAADEAAAAgAAAAIAAAAJYAAABFAAAAKwAAAGkAAAA/AAAAOQAAACgAAABHAAAAMgAAAC0AAAH2AAAAjAAAAGoAAAAyAAAAMwAAAIAAAABEAAAALAAAACsAAABzAAAAQwAAAB8AAAAjAAAAWQAAAEAAAAApAAAAKQAAAI4AAAA+AAAAJAAAACgAAACOAAAAPwAAADMAAAAjAAAAXwAAACsAAAAsAAAAJQAAAGwAAAAtAAAAJQAAAHEAAABMAAAAJAAAACYAAACVAAAAOwAAACQAAAAeAAAAdAAAAFIAAAAmAAAANAAAAHcAAAArAAAAHgAAACUAAAB3AAAANgAAADEAAAAsAAAAcAAAADEAAAAjAAAALAAAAHQAAABFAAAALgAAACsAAAB+AAAAKQAAAB8AAAAhAAAAfQAAAEkAAAAfAAAAIQAAAIQAAAAxAAAAJwAAADYAAACIAAAARwAAAC0AAAAlAAAAYgAAACwAAAAzAAAAHgAAAIYAAAArAAAALgAAAI0AAABCAAAAKAAAACQAAAChAAAAQQAAACQAAAA4AAAAeAAAAEAAAAAqAAAAIgAAAGQAAAArAAAAHwAAACQAAACAAAAARwAAACIAAAAqAAAAiQAAAEYAAAAhAAAAIAAAAKoAAAA6AAAAIwAAACEAAACeAAAARQAAACQAAAAqAAAAigAAADkAAAAyAAAAIAAAALIAAAAuAAAAIAAAACkAAAC5AAAAOgAAACMAAAAgAAAAKAAAACAAAAAYAAAAIgAAAG0AAAApAAAAIAAAABwAAABRAAAAIwAAABYAAAAkAAAAbgAAADMAAAArAAAAHQAAAKoAAAA9AAAAHwAAACMAAACMAAAAKQAAACMAAAAnAAAAfwAAAD0AAAAkAAAALAAAAJ0AAABLAAAANgAAACwAAACjAAAAUgAAADMAAAArAAAAqgAAAEQAAAAnAAAANgAAAH0AAAA+AAAAMAAAAC0AAACAAAAAMwAAADMAAAAzAAAAtQAAAEoAAAAwAAAALgAAAIwAAABBAAAAMgAAACkAAACVAAAAUAAAADMAAAAsAAAAigAAAEwAAAAwAAAAKgAAAJMAAAA/AAAAJgAAADoAAABrAAAAPwAAAD0AAAAtAAAAmQAAAEgAAABAAAAAOAAAAIIAAABIAAAAKgAAADUAAACTAAAAQQAAADIAAAA2AAAAgQAAADEAAAAvAAAALQAAAHUAAABgAAAAOQAAADMAAABnAAAAMQAAADgAAAAoAAAAeQAAAEIAAAAwAAAANwAAAIcAAAA0AAAAMgAAACgAAAB+AAAAQgAAAD0AAAA8AAAAagAAAD8AAAA1AAAAKwAAAHkAAABLAAAALwAAACwAAABrAAAATwAAADUAAAAzAAAATwAAADsAAAAoAAAAFHN0Y28AAAAAAAAAAQAAADAAAABhdWR0YQAAAFltZXRhAAAAAAAAACFoZGxyAAAAAAAAAABtZGlyYXBwbAAAAAAAAAAAAAAAACxpbHN0AAAAJKl0b28AAAAcZGF0YQAAAAEAAAAATGF2ZjYxLjcuMTAw\" type=\"video/mp4\">\n",
       " Your browser does not support the video tag.\n",
       " </video>"
      ],
      "text/plain": [
       "<IPython.core.display.Video object>"
      ]
     },
     "execution_count": 8,
     "metadata": {},
     "output_type": "execute_result"
    }
   ],
   "source": [
    "agent_name = exp.run_name\n",
    "agent_exp_type = exp.exp_type  # both are needed to identify the agent location\n",
    "\n",
    "\n",
    "exp_folder = \"\" if agent_exp_type is None else agent_exp_type\n",
    "filepath, _ = hf.create_folder_relative(f\"{exp_folder}/{agent_name}/videos\")\n",
    "\n",
    "hf.record_video(exp.env_id, envs, Agent, agent_name, f\"{filepath}/best.mp4\", exp_type=agent_exp_type, greedy=True)\n",
    "Video(data=f\"{filepath}/best.mp4\", html_attributes='loop autoplay', embed=True)"
   ]
  },
  {
   "cell_type": "markdown",
   "id": "015ae10e-2713-4f25-a07f-b925d01c4461",
   "metadata": {
    "tags": []
   },
   "source": [
    "### Compare Performance of Agents During Training\n",
    "\n",
    "During the training loop, if `exp.eval_agent = True`, the performance progress of the agent during its training is saved as a csv file. To compare the saved progress of different agents, create a `dict` containing the parent folder's name of each of the csv files and use the helper function `plotter_agents_training_stats`.\n",
    "\n",
    "To load the data, you can either set `eval_params.run_name00 = exp.run_name` (if only a `tracked_performance_training.csv` file for the corresponding `exp.run_name` exists) or manually enter the folder name containing the csv file. \n",
    "\n",
    "If the agent performance you want to load is inside an exp_type folder, set `eval_params.exp_type00` to experiment type, and if not, set it to `None`. \n",
    "\n",
    "You can add more than one experiment by initializing dict keys and values of the format `eval_params.run_namexx` and `eval_params.exp_typexx`."
   ]
  },
  {
   "cell_type": "code",
   "execution_count": 9,
   "id": "1ffead0b-a7a3-4062-8c93-5b209c63e43e",
   "metadata": {
    "tags": []
   },
   "outputs": [
    {
     "data": {
      "image/png": "[encoded data removed]",
      "text/plain": [
       "<Figure size 1400x300 with 2 Axes>"
      ]
     },
     "metadata": {},
     "output_type": "display_data"
    }
   ],
   "source": [
    "eval_params = edict()  # eval_params - evaluation settings for trained agent\n",
    "\n",
    "eval_params.run_name00 = exp.run_name\n",
    "eval_params.exp_type00 = exp.exp_type\n",
    "\n",
    "# eval_params.run_name01 = \"CartPole-v1__PPO__1__230323_224300\"\n",
    "# eval_params.exp_type01 = None \n",
    "\n",
    "# eval_params.run_name02 = \"CartPole-v1__PPO__1__230302_221245\"\n",
    "# eval_params.exp_type02 = None\n",
    "\n",
    "agent_labels = []\n",
    "\n",
    "episode_axis_limit = None\n",
    "\n",
    "hf.plotter_agents_training_stats(eval_params, agent_labels, episode_axis_limit, plot_returns=True, plot_episode_len=True)"
   ]
  },
  {
   "cell_type": "markdown",
   "id": "dc26b1fa-7c14-4bc0-8183-e59450f5d021",
   "metadata": {
    "tags": []
   },
   "source": [
    "## TensorBoard Inline"
   ]
  },
  {
   "cell_type": "code",
   "execution_count": 10,
   "id": "8abce1b0-018f-4761-954d-8015bbda779b",
   "metadata": {
    "tags": []
   },
   "outputs": [],
   "source": [
    "# %load_ext tensorboard\n",
    "# %tensorboard --logdir logs --host localhost"
   ]
  }
 ],
 "metadata": {
  "kernelspec": {
   "display_name": "Python 3 (ipykernel)",
   "language": "python",
   "name": "python3"
  },
  "language_info": {
   "codemirror_mode": {
    "name": "ipython",
    "version": 3
   },
   "file_extension": ".py",
   "mimetype": "text/x-python",
   "name": "python",
   "nbconvert_exporter": "python",
   "pygments_lexer": "ipython3",
   "version": "3.10.8"
  },
  "toc-autonumbering": true,
  "widgets": {
   "application/vnd.jupyter.widget-state+json": {
    "state": {},
    "version_major": 2,
    "version_minor": 0
   }
  }
 },
 "nbformat": 4,
 "nbformat_minor": 5
}
