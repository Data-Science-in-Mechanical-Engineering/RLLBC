{
 "cells": [
  {
   "cell_type": "markdown",
   "id": "f0a5f846-de2e-4db3-acf7-9073fd61d8c1",
   "metadata": {},
   "source": [
    "![DSME-logo](./static/DSME_logo.png)\n",
    "\n",
    "#  Reinforcement Learning and Learning-based Control\n",
    "\n",
    "<p style=\"font-size:12pt\";> \n",
    "<b> Prof. Dr. Sebastian Trimpe, Dr. Friedrich Solowjow </b><br>\n",
    "<b> Institute for Data Science in Mechanical Engineering (DSME) </b><br>\n",
    "<a href = \"mailto:rllbc@dsme.rwth-aachen.de\">rllbc@dsme.rwth-aachen.de</a><br>\n",
    "</p>\n",
    "\n",
    "---\n",
    "TRPO With Generalized Advantage Estimate\n",
    "\n",
    "Notebook Authors: Jyotirmaya Patra\n",
    "\n",
    "Adapted from: [Stable Baselines3 Contrib](https://github.com/Stable-Baselines-Team/stable-baselines3-contrib)\n",
    "\n",
    "Orignal Paper: [Trust Region Policy Optimization](https://arxiv.org/abs/1502.05477)\n",
    "\n",
    "Additional References:\n",
    "1. OpenAI SpinningUp:\n",
    "    * [Trust Region Policy Optimization](https://spinningup.openai.com/en/latest/algorithms/trpo.html)\n",
    "2. CS 285 at UC Berkeley:\n",
    "    * [Lecture 9: Advanced Policy Gradients](http://rail.eecs.berkeley.edu/deeprlcourse/static/slides/lec-9.pdf) (Lecture recordings also available on Youtube!)\n",
    "3. Generalised Advantage Estimate:\n",
    "    * [High-Dimensional Continuous Control Using Generalized Advantage Estimation](https://arxiv.org/abs/1506.02438)\n"
   ]
  },
  {
   "cell_type": "markdown",
   "id": "b5a83f6f-418b-4959-b725-9f4f32ecb319",
   "metadata": {},
   "source": [
    "## Library Imports"
   ]
  },
  {
   "cell_type": "code",
   "execution_count": 1,
   "id": "e818d134-4fcc-4756-aa73-0d236efd42d1",
   "metadata": {},
   "outputs": [],
   "source": [
    "import warnings\n",
    "warnings.filterwarnings(\"ignore\", category=DeprecationWarning)\n",
    "warnings.filterwarnings(\"ignore\", category=UserWarning)\n",
    "import os\n",
    "import time\n",
    "import copy\n",
    "import random\n",
    "from datetime import datetime\n",
    "from functools import partial\n",
    "\n",
    "import numpy as np\n",
    "import matplotlib.pyplot as plt\n",
    "from tqdm import notebook\n",
    "from easydict import EasyDict as edict\n",
    "from IPython.display import Video\n",
    "\n",
    "import utils.helper_fns as hf\n",
    "\n",
    "import gymnasium as gym\n",
    "import wandb\n",
    "import torch\n",
    "import torch.nn as nn\n",
    "import torch.optim as optim\n",
    "from torch.distributions.categorical import Categorical\n",
    "\n",
    "\n",
    "os.environ['SDL_VIDEODRIVER'] = 'dummy'\n",
    "os.environ['WANDB_NOTEBOOK_NAME'] = 'trpo.ipynb'\n",
    "\n",
    "\n",
    "\n",
    "plt.rcParams['figure.dpi'] = 100\n",
    "device = torch.device(\"cuda\" if torch.cuda.is_available() else \"cpu\")\n",
    "\n",
    "%load_ext autoreload\n",
    "%autoreload 2"
   ]
  },
  {
   "cell_type": "markdown",
   "id": "a97075de-2532-473e-af22-e6cb8c3035a5",
   "metadata": {},
   "source": [
    "## TRPO Specific Helper Functions\n",
    "\n",
    "Apart from the general helper functions in `/uitls/helper_fns.py` here you will find helper functions specific to TRPO. Here's a quick preview:\n",
    "1. `kl_divergence`: compute kl divergence between two pytorch distributions\n",
    "2. `compute_policy_grad`: compute gradients for kl div and surrogate objective wrt the policy parameters \n",
    "3. `hessian_vector_product`: computes the matrix-vector product with the Fisher information matrix.\n",
    "4. `conjugate_gradient_solver`: finds an approximate solution to a set of linear equations Ax = b"
   ]
  },
  {
   "cell_type": "code",
   "execution_count": 2,
   "id": "03865a9c-3ff9-4993-ba57-93096ae86478",
   "metadata": {},
   "outputs": [],
   "source": [
    "def kl_divergence(dist_true, dist_pred):\n",
    "    \"\"\"\n",
    "    Wrapper for the PyTorch implementation of the full form KL Divergence\n",
    "\n",
    "    :param dist_true: the p distribution\n",
    "    :param dist_pred: the q distribution\n",
    "    :return: KL(dist_true||dist_pred)\n",
    "    \"\"\"\n",
    "    return torch.distributions.kl_divergence(dist_true, dist_pred)\n",
    "\n",
    "\n",
    "def compute_policy_grad(actor, kl_div, policy_objective):\n",
    "    \"\"\"\n",
    "    Compute gradients for kl div and surrogate objective wrt the policy parameters\n",
    "    :param actor: actor model in agent\n",
    "    :param kl_div: The KL divergence objective\n",
    "    :param policy_objective: The surrogate advantage\n",
    "    :return: List of actor params, gradients and gradients shape.\n",
    "    \"\"\"\n",
    "    # Contains the gradients of surrogate advantage wrt to each policy parameters\n",
    "    policy_objective_gradients = []\n",
    "    # Contains gradients of the KL divergence wrt each policy parameter\n",
    "    grad_kl = []\n",
    "    # Save the shape of the gradients of the KL divergence w.r.t each policy parameter\n",
    "    # Will be used to unflatten the gradients into its original shape later in the training loop\n",
    "    grad_shape = []\n",
    "    # List of policy parameters\n",
    "    actor_params = []\n",
    "\n",
    "    for param in actor.parameters():\n",
    "        kl_param_grad, *_ = torch.autograd.grad(\n",
    "            kl_div,\n",
    "            param,\n",
    "            create_graph=True,\n",
    "            retain_graph=True,\n",
    "            allow_unused=True,\n",
    "            only_inputs=True\n",
    "        )\n",
    "\n",
    "        policy_objective_grad, *_ = torch.autograd.grad(\n",
    "            policy_objective,\n",
    "            param,\n",
    "            retain_graph=True,\n",
    "            only_inputs=True\n",
    "        )\n",
    "\n",
    "        grad_shape.append(kl_param_grad.shape)\n",
    "        grad_kl.append(kl_param_grad.reshape(-1))\n",
    "        policy_objective_gradients.append(policy_objective_grad.reshape(-1))\n",
    "        actor_params.append(param)\n",
    "\n",
    "    # Concatenate gradients before the conjugate gradient step\n",
    "    policy_objective_gradients = torch.cat(policy_objective_gradients)\n",
    "    grad_kl = torch.cat(grad_kl)\n",
    "    return actor_params, policy_objective_gradients, grad_kl, grad_shape\n",
    "\n",
    "\n",
    "def hessian_vector_product(params, grad_kl, cg_damping, vector, retain_graph=True):\n",
    "    \"\"\"\n",
    "    Computes the matrix-vector product with the Fisher information matrix.\n",
    "\n",
    "    :param params: list of parameters used to compute the Hessian\n",
    "    :param grad_kl: flattened gradient of the KL divergence between the old and new policy\n",
    "    :param vector: vector to compute the dot product the hessian-vector dot product with\n",
    "    :param retain_graph: if True, the graph will be kept after computing the Hessian\n",
    "    :return: Hessian-vector dot product (with damping)\n",
    "    \"\"\"\n",
    "    jacobian_vector_product = (grad_kl * vector).sum()\n",
    "\n",
    "    hessian_vector_product = torch.autograd.grad(\n",
    "        jacobian_vector_product,\n",
    "        params,\n",
    "        create_graph=False,\n",
    "        retain_graph=retain_graph,\n",
    "        allow_unused=True\n",
    "    )\n",
    "\n",
    "    hessian_vector_product_flattened = torch.cat([torch.ravel(grad) for grad in hessian_vector_product if grad is not None])\n",
    "    return hessian_vector_product_flattened + cg_damping * vector\n",
    "\n",
    "\n",
    "def conjugate_gradient_solver(matrix_vector_dot_fn, b, max_iter=10, residual_tol=1e-10):\n",
    "    \"\"\"\n",
    "    Finds an approximate solution to a set of linear equations Ax = b\n",
    "\n",
    "    Sources:\n",
    "     - https://github.com/ajlangley/trpo-pytorch/blob/master/conjugate_gradient.py\n",
    "     - https://github.com/joschu/modular_rl/blob/master/modular_rl/trpo.py#L122\n",
    "\n",
    "    Reference:\n",
    "     - https://epubs.siam.org/doi/abs/10.1137/1.9781611971446.ch6\n",
    "\n",
    "    :param matrix_vector_dot_fn:\n",
    "        a function that right multiplies a matrix A by a vector v\n",
    "    :param b:\n",
    "        the right hand term in the set of linear equations Ax = b\n",
    "    :param max_iter:\n",
    "        the maximum number of iterations (default is 10)\n",
    "    :param residual_tol:\n",
    "        residual tolerance for early stopping of the solving (default is 1e-10)\n",
    "    :return x:\n",
    "        the approximate solution to the system of equations defined by `matrix_vector_dot_fn`\n",
    "        and b\n",
    "    \"\"\"\n",
    "\n",
    "    # The vector is not initialized at 0 because of the instability issues when the gradient becomes small.\n",
    "    # Hence, a small random gaussian noise is used for the initialization.\n",
    "    x = 1e-4 * torch.randn_like(b)\n",
    "    residual = b - matrix_vector_dot_fn(x)\n",
    "    # Equivalent to th.linalg.norm(residual) ** 2 (L2 norm squared)\n",
    "    residual_squared_norm = torch.matmul(residual, residual)\n",
    "\n",
    "    if residual_squared_norm < residual_tol:\n",
    "        # If the gradient becomes extremely small\n",
    "        # The denominator in alpha will become zero\n",
    "        # Leading to a division by zero\n",
    "        return x\n",
    "\n",
    "    p = residual.clone()\n",
    "\n",
    "    for i in range(max_iter):\n",
    "        # A @ p (matrix vector multiplication)\n",
    "        A_dot_p = matrix_vector_dot_fn(p)\n",
    "\n",
    "        alpha = residual_squared_norm / p.dot(A_dot_p)\n",
    "        x += alpha * p\n",
    "\n",
    "        if i == max_iter - 1:\n",
    "            return x\n",
    "\n",
    "        residual -= alpha * A_dot_p\n",
    "        new_residual_squared_norm = torch.matmul(residual, residual)\n",
    "\n",
    "        if new_residual_squared_norm < residual_tol:\n",
    "            return x\n",
    "\n",
    "        beta = new_residual_squared_norm / residual_squared_norm\n",
    "        residual_squared_norm = new_residual_squared_norm\n",
    "        p = residual + beta * p\n",
    "    # Note: this return statement is only used when max_iter=0\n",
    "    return x"
   ]
  },
  {
   "cell_type": "markdown",
   "id": "0c56a7a7-bace-4ddc-8c90-93aa86d8ae69",
   "metadata": {
    "tags": []
   },
   "source": [
    "## Initializations"
   ]
  },
  {
   "cell_type": "markdown",
   "id": "a7705efc-11be-4fa7-8e1c-054bc3efbd7a",
   "metadata": {},
   "source": [
    "### Experiment\n",
    "\n",
    "We primarily use dictionaries for initializing experiment parameters and training hyperparameters. We use the `EasyDict` (imported as `edict`) library, which allows us to access dict values as attributes while retaining the operations and properties of the original python `dict`! [[Github Link](https://github.com/makinacorpus/easydict)]\n",
    "\n",
    "In this notebook we use a few `edicts` with `exp` being one of them. It is initialized in the following cell and has keys and values containing information about the experiment being run. Although initialized in this section, we keep adding new keys and values to the dict in the later sections as well.  \n",
    "\n",
    "This notebook supports gymnasium environments with observation space of type `gym.spaces.Box` and action space of type `gym.spaces.Discrete`. Eg: Acrobot-v1, CartPole-v1, MountainCar-v0"
   ]
  },
  {
   "cell_type": "code",
   "execution_count": 3,
   "id": "468a56a4-7e93-4ec9-8bd8-de7efc02e2d9",
   "metadata": {},
   "outputs": [],
   "source": [
    "exp = edict()\n",
    "\n",
    "exp.exp_name = 'TRPO'  # algorithm name, in this case it should be 'PPO'\n",
    "exp.env_id = 'CartPole-v1'  # name of the gymnasium environment to be used in this experiment. Eg: Acrobot-v1, CartPole-v1, MountainCar-v0\n",
    "exp.device = device.type  # save the device type used to load tensors and perform tensor operations\n",
    "\n",
    "exp.random_seed = True  # set random seed for reproducibility of python, numpy and torch\n",
    "exp.seed = 2\n",
    "\n",
    "# name of the project in Weights & Biases (wandb) to which logs are patched. (only if wandb logging is enabled)\n",
    "# if the project does not exist in wandb, it will be created automatically\n",
    "wandb_prj_name = f\"RLLBC_{exp.env_id}\"\n",
    "\n",
    "# name prefix of output files generated by the notebook\n",
    "exp.run_name = f\"{exp.env_id}__{exp.exp_name}__{exp.seed}__{datetime.now().strftime('%y%m%d_%H%M%S')}\"\n",
    "\n",
    "if exp.random_seed:\n",
    "    random.seed(exp.seed)\n",
    "    np.random.seed(exp.seed)\n",
    "    torch.manual_seed(exp.seed)\n",
    "    torch.backends.cudnn.deterministic = exp.random_seed"
   ]
  },
  {
   "cell_type": "markdown",
   "id": "e7685598-5e38-4124-bf7e-2c76faef0607",
   "metadata": {
    "tags": []
   },
   "source": [
    "### Rollout Buffer\n",
    "\n",
    "The second dictionary, `hypp`, is initialized in the following cell. It has keys and values containing the hyperparameters necessary to the algorithm. Similar to the `exp` dict, new keys and values are added to the `hypp` in the later sections. \n",
    "\n",
    "Define both `exp.num_envs` and `hypp.num_steps`.\n",
    "\n",
    "Initialize the multiple environments and run them in parallel using the `SyncVectorEnv` class from the gymnasium library [More info: [Link](https://www.gymlibrary.dev/content/vectorising/)]. \n",
    "\n",
    "Next, create a rollout buffer based on the number of parallel envs `exp.num_envs` and the number of steps per env `hypp.num_steps`. It is later used to save episode trajectories during agent training. The buffer gets replaced with new trajectories at the beginning of every iteration of the training loop."
   ]
  },
  {
   "cell_type": "code",
   "execution_count": 4,
   "id": "4632173c-fb81-48fe-8378-d3ac93736c60",
   "metadata": {
    "tags": []
   },
   "outputs": [],
   "source": [
    "hypp = edict()\n",
    "\n",
    "exp.num_envs = 4  # number of parallel game environments\n",
    "hypp.num_steps = 128  # number of steps to run in each environment per policy rollout\n",
    "\n",
    "# Intialize vectorized gymnasium evn\n",
    "envs = gym.vector.SyncVectorEnv([hf.make_env(exp.env_id, exp.seed + i) for i in range(exp.num_envs)])\n",
    "\n",
    "# RollOut Buffer Init\n",
    "observations = torch.zeros((hypp.num_steps, exp.num_envs) + envs.single_observation_space.shape).to(device)\n",
    "actions = torch.zeros((hypp.num_steps, exp.num_envs) + envs.single_action_space.shape).to(device)\n",
    "logprobs = torch.zeros((hypp.num_steps, exp.num_envs)).to(device)\n",
    "rewards = torch.zeros((hypp.num_steps, exp.num_envs)).to(device)\n",
    "dones = torch.zeros((hypp.num_steps, exp.num_envs)).to(device)\n",
    "values = torch.zeros((hypp.num_steps, exp.num_envs)).to(device)\n",
    "\n",
    "envs.close()"
   ]
  },
  {
   "cell_type": "markdown",
   "id": "5080f052-8cfd-47bb-83e8-772b8c22f780",
   "metadata": {},
   "source": [
    "### Agent Model Class\n",
    "\n",
    "The `Agent` class consists of a deep MLP value function called the `critic`, and a deep MLP policy called the `actor`, both learned during training. \n",
    "\n",
    "The class has three methods:\n",
    "1. `get_value` method evaluates the `critic` with a given observation (state) to obtain the learned estimate of the observation's value.\n",
    "2. `get_distribution` method first evaluates the `actor` to obtain the un-normalized probabilities of the actions, which is then used to create a categorical distribution over the actions.\n",
    "3. `get_action` method returns an action. The method first obtains the categorical distribution over actions the `actor` has learned. Then, if `greedy = True`, it returns the action with the highest probability else, an action sampled from the distribution.\n",
    "4. `get_action_and_value` method when given an observation, returns the action sampled from the probability distribution (if `action=None`), the respective action's log probability, and the estimate of the observation's value according to the `critic` network.\n",
    "\n",
    "The `actor` and `critic` networks in the `Agent` class make use of the `layer_init` function to implement ideas derived from [Engstrom, Ilyas, et al., (2020)](https://openreview.net/forum?id=r1etN1rtPB), and [Andrychowicz et al. (2021)](https://openreview.net/forum?id=nIAxjsniDzg). The former introduces the idea of orthogonal initialization of weights for tanh activation. In the latter paper, decision C57 shows that initializing the policy such that the action distribution is centered as zero gives better performance. This is done by initializing the `actor`'s output layer weights with 0.01 std. (see the final layer of `self.actor`)\n",
    "\n",
    "Note: observation and state mean the same in the context of this notebook"
   ]
  },
  {
   "cell_type": "code",
   "execution_count": 5,
   "id": "d0fff29a-690d-4dc8-bf2c-191243f98a2e",
   "metadata": {},
   "outputs": [],
   "source": [
    "def layer_init(layer, std=np.sqrt(2), bias_const=0.0):\n",
    "    torch.nn.init.orthogonal_(layer.weight, std)\n",
    "    torch.nn.init.constant_(layer.bias, bias_const)\n",
    "    return layer\n",
    "\n",
    "\n",
    "class Agent(nn.Module):\n",
    "    def __init__(self, envs):\n",
    "        super().__init__()\n",
    "        self.critic = nn.Sequential(\n",
    "            layer_init(nn.Linear(np.array(envs.single_observation_space.shape).prod(), 64)),\n",
    "            nn.Tanh(),\n",
    "            layer_init(nn.Linear(64, 64)),\n",
    "            nn.Tanh(),\n",
    "            layer_init(nn.Linear(64, 1), std=1.0),\n",
    "        )\n",
    "        self.actor = nn.Sequential(\n",
    "            layer_init(nn.Linear(np.array(envs.single_observation_space.shape).prod(), 64)),\n",
    "            nn.Tanh(),\n",
    "            layer_init(nn.Linear(64, 64)),\n",
    "            nn.Tanh(),\n",
    "            layer_init(nn.Linear(64, envs.single_action_space.n), std=0.01),\n",
    "        )\n",
    "\n",
    "    def get_value(self, x):\n",
    "        return self.critic(x)\n",
    "\n",
    "    def get_distribution(self, x):\n",
    "        logits = self.actor(x)\n",
    "        probs = Categorical(logits=logits)\n",
    "        return probs\n",
    "\n",
    "    def get_action(self, x, greedy=False):\n",
    "        distr = self.get_distribution(x)\n",
    "        action = distr.sample() if not greedy else distr.mode\n",
    "        return action\n",
    "\n",
    "    def get_action_and_value(self, x, action=None):\n",
    "        distr = self.get_distribution(x)\n",
    "        if action is None:\n",
    "            action = distr.sample()\n",
    "        return action, distr.log_prob(action), self.critic(x)"
   ]
  },
  {
   "cell_type": "markdown",
   "id": "08382f29-5bfb-4814-94ef-53d39db5cfea",
   "metadata": {
    "tags": []
   },
   "source": [
    "### Training Params & Agent Hyperparams\n",
    "\n",
    "The parameters and hyperparameters in this section are broadly categorized as below:\n",
    "1. Flags for logging: \n",
    "    - They are stored in the `exp` dict. \n",
    "    - This notebook uses tensorboard logging by deafult to log experiment metrics. These tb log files are saved in the directory `logs/<exp.exp_type>/<exp.run_name>/tb`. (to learn about `exp.exp_type` refer point 3. below)\n",
    "    - To enable logging of gymnasium videos of the agent's interaction with the env set `exp.capture_video = True`\n",
    "    - Patch tensorboard logs and gymnasium videos to Weigths & Biases (wandb) by setting `exp.enable_wandb_logging = True`\n",
    "2. Flags and parameters to generate average performance throughout training:\n",
    "    - Stored in the `exp` dict\n",
    "    - If `exp.eval_agent = True`, the performance of the agent during it's training is saved in the corresponding logs folder. You can later used this to compare the performance of your current agent with other agents during their training (in Section 1.5.2).\n",
    "    - Every `exp.eval_frequency` episodes the trained agent is evaluated using the `envs_eval` by playing out `exp.eval_count` episodes\n",
    "    - To speed up training set `exp.eval_agent = False` \n",
    "3. Create experiment hierarchy inside log folders:\n",
    "    - if `exp.exp_type` is None, experiment logs are saved to the root log directory `logs`, ie, `/logs/<exp.run_name>`, otherwise they are saved to the directory `logs/<exp.exp_type>/<exp._name>`\n",
    "4. Parameters and hyperparameters related to the algorithm:\n",
    "    - Stored in the `hypp` dict\n",
    "    - Quick reminder:  the `num_steps` key in the `hypp` dict is also a hyperparameter defined in Env & Rollout Buffer Init Section.\n",
    "\n",
    "Note: \n",
    "1. If Weigths and Biases (wandb) logging is enabled, when you run the \"Training The Agent\" cell, enter your wandb's api key when prompted. \n",
    "2. Training takes longer when either gymnasium video recording or agent evaluation during training is enabled. To speed up training set both `exp.capture_video` and `exp.eval_agent` to `False`."
   ]
  },
  {
   "cell_type": "code",
   "execution_count": 6,
   "id": "72d426a0-fca1-4608-9ac7-31ceabd0b100",
   "metadata": {},
   "outputs": [],
   "source": [
    "# flags for logging purposes\n",
    "exp.enable_wandb_logging = True\n",
    "exp.capture_video = False  # disable to speed up training\n",
    "\n",
    "# flags to generate agent's average performance during training\n",
    "exp.eval_agent = True  # disable to speed up training\n",
    "exp.eval_count = 10\n",
    "exp.eval_frequency = 20\n",
    "exp.device = device.type\n",
    "\n",
    "# putting the run into the designated log folder for structuring\n",
    "exp.exp_type = None  # directory the run is saved to. Should be None or a string value\n",
    "\n",
    "# agent learning specific flags\n",
    "hypp.total_timesteps = 500000  # the training duration in number of time steps\n",
    "hypp.num_minibatches = 4  # number of minibatches for gradient updates\n",
    "hypp.update_epochs = 10  # only applies to critic updates in TRPO\n",
    "\n",
    "hypp.batch_size = int(exp.num_envs * hypp.num_steps)  # len of the rollout buffer\n",
    "hypp.minibatch_size = int(hypp.batch_size // hypp.num_minibatches)  # rollout buffer size / minibatch count\n",
    "\n",
    "hypp.learning_rate = 1e-3  # size of gradient update step\n",
    "hypp.anneal_lr = False  # when True reduces the learning rate as the training progresses\n",
    "hypp.gamma = 0.99  # discount factor over future rewards\n",
    "hypp.gae_lambda = 0.95  # factor for trade-off bias vs variance for Generalized Advantage Estimator\n",
    "hypp.norm_adv = True\n",
    "hypp.cg_max_steps = 10                   # maximum number of steps in the Conjugate Gradient algorithm for computing the Hessian vector product\n",
    "hypp.cg_damping = 0.1                    # damping in the Hessian vector product computation\n",
    "hypp.line_search_shrinking_factor = 0.8  # step-size reduction factor for the line-search (i.e., `theta_new = theta + shrinking_factor^i * step`)\n",
    "hypp.line_search_max_iter = 10           # maximum number of iteration for the backtracking line-search\n",
    "hypp.target_kl = 0.01  # the target KL divergence threshold for the policy"
   ]
  },
  {
   "cell_type": "markdown",
   "id": "d3493918-2c78-4ea4-bd28-391141dc0b83",
   "metadata": {
    "tags": []
   },
   "source": [
    "## Training the Agent\n",
    "Before we begin training the agent we first initalize the logging (based on the repsective flags in the `exp` dict), object of the `Agent` class and the optimizer, followed by an inital set of observations. \n",
    "\n",
    "After that comes the main training loop which is comprised of:  \n",
    "1. learning rate annealing, \n",
    "2. collecting trajectories, ie, filling the rollout buffer with the actor's interaction with the environment,\n",
    "3. computing the generalized advantage estimate $A^{\\pi_{\\theta_k}}$ and returns $G$ of the trajectories saved in the rollout buffer,\n",
    "4. Policy parameters update:\n",
    "    1. Computing the gradient of the surrogate objective wrt the policy parameters, ie, $g_k = \\nabla_{\\theta} L_{\\pi_{\\theta_{k}}}\\left(\\pi_\\theta\\right)|_{\\theta_{k}}$, where: \n",
    "    $$ L_{\\pi_{\\theta_{k}}}\\left(\\pi_\\theta\\right) = \\mathbb{E}_{s , a \\sim \\pi_{\\theta_{k}}} \\left[ \\frac{\\pi_\\theta(a|s)}{\\pi_{\\theta_{k}}(a|s)}A^{\\pi_{\\theta_k}}(s, a) \\right]$$\n",
    "    2. Computing the Hessian of KL Divergence (also called the Fisher Information Matrix) wrt to policy parameters, ie, $H_k ={\\nabla^2_\\theta} \\bar{D}_{KL}\\left(\\pi_{\\theta_{k}}, \\pi_{\\theta}\\right)$, where\n",
    "    $$\\bar{D}_{KL}\\left(\\pi_{\\theta_{k}}, \\pi_{\\theta}\\right) = \\mathbb{E}_{s \\sim \\pi_{\\theta_{k}}}\\left[D_{\\mathrm{KL}}\\left(\\pi_{\\theta_k}(\\cdot \\mid s) \\| \\pi_\\theta(\\cdot \\mid s)\\right)\\right]$$\n",
    "    3. Using the conjugate gradient algorithm to compute: $$ x_k \\approx H_k^{-1} g_k$$\n",
    "    4. Updating the policy by bracktracing line search with: $$\\theta_{k+1}=\\theta_k+\\alpha^j \\sqrt{\\frac{2 \\delta}{x_k^T H_k x_k}} x_k $$\n",
    "5. Critic network update:\n",
    "    1. Computing the value loss for critic network update, ie, $$L^{V}(s, \\theta) = \\left(V_{\\theta}(s)-G(s)\\right)^{2}$$\n",
    "    2. Perform gradient descent over the critic network `hypp.update_epochs` times wrt the value loss function $L^{V}$.\n",
    "    \n",
    "Post completion of the main training loop, we save a copy of the following in the directory `logs/<exp.exp_type>/<exp.run_name>`:\n",
    "1. `exp` and `hypp` dicts into a `.config` file \n",
    "2. `agent` (instance of `Agent` class) into a `.pt` file for later evaluation\n",
    "3. agent performance progress throughout training into a `.csv` file if `exp.eval_agent=True`\n",
    "\n",
    "\n",
    "Note: we have two vectorised gymnasium environments, `envs` and `envs_eval` in the initalizations. `envs` is used to fill the rollout buffer with trajectories and `envs_eval` is used to evaluate the agent performance at different stages of training."
   ]
  },
  {
   "cell_type": "code",
   "execution_count": 7,
   "id": "4faadf6f-01ed-4318-8e21-fd41df1faa09",
   "metadata": {},
   "outputs": [
    {
     "name": "stderr",
     "output_type": "stream",
     "text": [
      "\u001b[34m\u001b[1mwandb\u001b[0m: Currently logged in as: \u001b[33martur-eisele\u001b[0m to \u001b[32mhttps://api.wandb.ai\u001b[0m. Use \u001b[1m`wandb login --relogin`\u001b[0m to force relogin\n"
     ]
    },
    {
     "data": {
      "text/html": [
       "Tracking run with wandb version 0.20.1"
      ],
      "text/plain": [
       "<IPython.core.display.HTML object>"
      ]
     },
     "metadata": {},
     "output_type": "display_data"
    },
    {
     "data": {
      "text/html": [
       "Run data is saved locally in <code>/home/artur/Dokumente/RL_SS2025/rllbc_ss25_final/RLLBC/deep_examples/logs/wandb/run-20250724_110017-7eg63ys2</code>"
      ],
      "text/plain": [
       "<IPython.core.display.HTML object>"
      ]
     },
     "metadata": {},
     "output_type": "display_data"
    },
    {
     "data": {
      "text/html": [
       "Syncing run <strong><a href='https://wandb.ai/artur-eisele/RLLBC_CartPole-v1/runs/7eg63ys2' target=\"_blank\">CartPole-v1__TRPO__2__250724_110016</a></strong> to <a href='https://wandb.ai/artur-eisele/RLLBC_CartPole-v1' target=\"_blank\">Weights & Biases</a> (<a href='https://wandb.me/developer-guide' target=\"_blank\">docs</a>)<br>"
      ],
      "text/plain": [
       "<IPython.core.display.HTML object>"
      ]
     },
     "metadata": {},
     "output_type": "display_data"
    },
    {
     "data": {
      "text/html": [
       " View project at <a href='https://wandb.ai/artur-eisele/RLLBC_CartPole-v1' target=\"_blank\">https://wandb.ai/artur-eisele/RLLBC_CartPole-v1</a>"
      ],
      "text/plain": [
       "<IPython.core.display.HTML object>"
      ]
     },
     "metadata": {},
     "output_type": "display_data"
    },
    {
     "data": {
      "text/html": [
       " View run at <a href='https://wandb.ai/artur-eisele/RLLBC_CartPole-v1/runs/7eg63ys2' target=\"_blank\">https://wandb.ai/artur-eisele/RLLBC_CartPole-v1/runs/7eg63ys2</a>"
      ],
      "text/plain": [
       "<IPython.core.display.HTML object>"
      ]
     },
     "metadata": {},
     "output_type": "display_data"
    },
    {
     "data": {
      "application/vnd.jupyter.widget-view+json": {
       "model_id": "1d97bcfdbd22416eaae2527667acef61",
       "version_major": 2,
       "version_minor": 0
      },
      "text/plain": [
       "  0%|          | 0/976 [00:00<?, ?it/s]"
      ]
     },
     "metadata": {},
     "output_type": "display_data"
    },
    {
     "data": {
      "text/html": [],
      "text/plain": [
       "<IPython.core.display.HTML object>"
      ]
     },
     "metadata": {},
     "output_type": "display_data"
    },
    {
     "data": {
      "text/html": [
       "<br>    <style><br>        .wandb-row {<br>            display: flex;<br>            flex-direction: row;<br>            flex-wrap: wrap;<br>            justify-content: flex-start;<br>            width: 100%;<br>        }<br>        .wandb-col {<br>            display: flex;<br>            flex-direction: column;<br>            flex-basis: 100%;<br>            flex: 1;<br>            padding: 10px;<br>        }<br>    </style><br><div class=\"wandb-row\"><div class=\"wandb-col\"><h3>Run history:</h3><br/><table class=\"wandb\"><tr><td>Charts/episode_step</td><td>▁▁▁▁▁▂▂▂▂▂▂▂▃▃▃▃▃▃▄▄▄▄▄▅▅▅▅▆▆▆▆▆▆▇▇▇▇███</td></tr><tr><td>Charts/gradient_step</td><td>▁▁▁▁▂▂▂▂▂▂▃▃▃▃▃▄▄▄▄▄▄▄▄▅▅▅▅▅▆▆▆▆▆▇▇▇▇▇██</td></tr><tr><td>global_step</td><td>▁▁▁▁▁▂▂▂▃▃▃▃▄▄▄▄▄▄▄▅▅▅▅▅▅▅▆▆▆▆▇▇▇▇▇▇▇▇██</td></tr><tr><td>hyperparameters/learning_rate</td><td>▁▁▁▁▁▁▁▁▁▁▁▁▁▁▁▁▁▁▁▁▁▁▁▁▁▁▁▁▁▁▁▁▁▁▁▁▁▁▁▁</td></tr><tr><td>rollout/episodic_length</td><td>▁▂▅▆▇█████████████████████████▃█████████</td></tr><tr><td>rollout/episodic_return</td><td>▂▁▁▁▂▃▅██████████████████▄██▅███████████</td></tr><tr><td>train/explained_variance</td><td>██▆▅▄▃▅▃▄▁▆▇▇▂▃▇▆▁▆▅▃▆▄▆▇███████▇███▄▆▄▇</td></tr><tr><td>train/is_line_search_success</td><td>▁▁▁▁▁▁▁▁▁▁▁▁▁▁▁▁▁▁▁▁▁▁▁▁▁▁▁▁▁▁▁▁▁▁▁▁▁▁▁▁</td></tr><tr><td>train/kl_divergence</td><td>▅▅▆▄▇▅▅▅█▇▄▇█▃▄▄▇▅▅█▇█▁▂▃▃▇▆▇▇▇▅▇▇▇▅▇▇▅▅</td></tr><tr><td>train/surrogate_objective</td><td>█▃▃▃▃▃▂▆▂▇▃▂▁▄▁▃█▃▁▃▂▂▅▆▄▃▁▃▂▃▃▂▂▅▁▂▂▂▁▃</td></tr><tr><td>train/value_loss</td><td>█▃▁▁▁▁▁▁▁▁▁▁▁▁▁▁▁▁▁▁▁▁▁▁▁▁▁▁▁▆▁▁▁▁▁▁▁▁▁▁</td></tr></table><br/></div><div class=\"wandb-col\"><h3>Run summary:</h3><br/><table class=\"wandb\"><tr><td>Charts/episode_step</td><td>1117</td></tr><tr><td>Charts/gradient_step</td><td>39040</td></tr><tr><td>global_step</td><td>499712</td></tr><tr><td>hyperparameters/learning_rate</td><td>0.001</td></tr><tr><td>rollout/episodic_length</td><td>500</td></tr><tr><td>rollout/episodic_return</td><td>500</td></tr><tr><td>train/explained_variance</td><td>-13.36629</td></tr><tr><td>train/is_line_search_success</td><td>1</td></tr><tr><td>train/kl_divergence</td><td>0.00921</td></tr><tr><td>train/surrogate_objective</td><td>0.00574</td></tr><tr><td>train/value_loss</td><td>0.0</td></tr></table><br/></div></div>"
      ],
      "text/plain": [
       "<IPython.core.display.HTML object>"
      ]
     },
     "metadata": {},
     "output_type": "display_data"
    },
    {
     "data": {
      "text/html": [
       " View run <strong style=\"color:#cdcd00\">CartPole-v1__TRPO__2__250724_110016</strong> at: <a href='https://wandb.ai/artur-eisele/RLLBC_CartPole-v1/runs/7eg63ys2' target=\"_blank\">https://wandb.ai/artur-eisele/RLLBC_CartPole-v1/runs/7eg63ys2</a><br> View project at: <a href='https://wandb.ai/artur-eisele/RLLBC_CartPole-v1' target=\"_blank\">https://wandb.ai/artur-eisele/RLLBC_CartPole-v1</a><br>Synced 5 W&B file(s), 0 media file(s), 0 artifact file(s) and 1 other file(s)"
      ],
      "text/plain": [
       "<IPython.core.display.HTML object>"
      ]
     },
     "metadata": {},
     "output_type": "display_data"
    },
    {
     "data": {
      "text/html": [
       "Find logs at: <code>./logs/wandb/run-20250724_110017-7eg63ys2/logs</code>"
      ],
      "text/plain": [
       "<IPython.core.display.HTML object>"
      ]
     },
     "metadata": {},
     "output_type": "display_data"
    }
   ],
   "source": [
    "# reinit run_name\n",
    "exp.run_name = f\"{exp.env_id}__{exp.exp_name}__{exp.seed}__{datetime.now().strftime('%y%m%d_%H%M%S')}\"\n",
    "\n",
    "# Init tensorboard logging and wandb logging\n",
    "writer = hf.setup_logging(wandb_prj_name, exp, hypp)\n",
    "\n",
    "# create two vectorized envs: one to fill the rollout buffer with trajectories, and\n",
    "# another to evaluate the agent performance at different stages of training  \n",
    "envs.close()\n",
    "envs = gym.vector.SyncVectorEnv([hf.make_env(exp.env_id, exp.seed + i) for i in range(exp.num_envs)])\n",
    "envs_eval = gym.vector.SyncVectorEnv([hf.make_env(exp.env_id, exp.seed + i) for i in range(exp.eval_count)])\n",
    "\n",
    "# init list to track agent's performance throughout training\n",
    "tracked_returns_over_training = []\n",
    "tracked_episode_len_over_training = []\n",
    "tracked_episode_count = []\n",
    "last_evaluated_episode = None  # stores the episode_step of when the agent's performance was last evaluated\n",
    "greedy_evaluation = False  # whether to perform the evaluation in a greedy way or not\n",
    "eval_max_return = -float('inf')\n",
    "\n",
    "# Create Agent class Instance and network optimizer\n",
    "agent = Agent(envs).to(device)\n",
    "optimizer = optim.Adam(agent.critic.parameters(), lr=hypp.learning_rate)\n",
    "\n",
    "# Init observation to start learning\n",
    "start_time = time.time()\n",
    "obs, _ = envs.reset()\n",
    "obs = torch.Tensor(obs).to(device)\n",
    "done = torch.zeros(exp.num_envs).to(device)\n",
    "num_updates = int(hypp.total_timesteps // hypp.batch_size)\n",
    "\n",
    "global_step = 0\n",
    "episode_step = 0\n",
    "gradient_step = 0\n",
    "\n",
    "pbar = notebook.tqdm(range(1, num_updates + 1))\n",
    "\n",
    "# training loop\n",
    "for update in pbar:\n",
    "    # Annealing the rate if instructed to do so.\n",
    "    if hypp.anneal_lr:\n",
    "        frac = 1.0 - (update - 1.0) / num_updates\n",
    "        lrnow = frac * hypp.learning_rate\n",
    "        optimizer.param_groups[0][\"lr\"] = lrnow\n",
    "\n",
    "    agent.eval()\n",
    "\n",
    "    # collect trajectories\n",
    "    for step in range(0, hypp.num_steps):\n",
    "        observations[step] = obs\n",
    "        dones[step] = done\n",
    "\n",
    "        # sample action and collect value from learned agent policy and value networks\n",
    "        with torch.no_grad():\n",
    "            action, logprob, value = agent.get_action_and_value(obs)\n",
    "            values[step] = value.flatten()\n",
    "        actions[step] = action\n",
    "        logprobs[step] = logprob\n",
    "\n",
    "        # execute the game and log data.\n",
    "        next_obs, reward, termianteds, truncateds, infos = envs.step(action.cpu().numpy())\n",
    "        done = termianteds | truncateds\n",
    "\n",
    "        agent.eval()\n",
    "        if \"final_observation\" in infos.keys():\n",
    "            for idx, final_obs_single in enumerate(infos[\"final_observation\"]):\n",
    "                if final_obs_single is not None and truncateds[idx]==True:\n",
    "                    with torch.no_grad():\n",
    "                        #Deal with the truncated case\n",
    "                        terminal_obs = torch.tensor(final_obs_single).to(device)\n",
    "                        terminal_value = agent.get_value(terminal_obs)\n",
    "                        reward[idx]+=hypp.gamma * terminal_value\n",
    "\n",
    "        if \"final_info\" in infos.keys():\n",
    "            for idx, final_info_single in enumerate(infos[\"final_info\"]):\n",
    "                if final_info_single is not None:\n",
    "                    if \"episode\" in final_info_single.keys():         \n",
    "                        pbar.set_description(f\"global_step={global_step}, episodic_return={float(final_info_single['episode']['r']):.3f}\")\n",
    "                        writer.add_scalar(\"rollout/episodic_return\", final_info_single[\"episode\"][\"r\"], global_step)\n",
    "                        writer.add_scalar(\"rollout/episodic_length\", final_info_single[\"episode\"][\"l\"], global_step)\n",
    "                        writer.add_scalar(\"Charts/episode_step\", episode_step, global_step)\n",
    "                        writer.add_scalar(\"Charts/gradient_step\", gradient_step, global_step)\n",
    "                        episode_step += 1\n",
    "\n",
    "        rewards[step] = torch.tensor(reward).to(device).view(-1)\n",
    "        next_obs, done = torch.Tensor(next_obs).to(device), torch.Tensor(done).to(device)\n",
    "\n",
    "        global_step += 1 * exp.num_envs\n",
    "        obs = next_obs\n",
    "\n",
    "        # generate average performance statistics of current learned agent\n",
    "        if exp.eval_agent and episode_step % exp.eval_frequency == 0 and last_evaluated_episode != episode_step:\n",
    "            last_evaluated_episode = episode_step\n",
    "            tracked_return, tracked_episode_len = hf.evaluate_agent(envs_eval, agent, exp.eval_count, exp.seed, greedy_actor=greedy_evaluation)\n",
    "            tracked_returns_over_training.append(tracked_return)\n",
    "            tracked_episode_len_over_training.append(tracked_episode_len)\n",
    "            tracked_episode_count.append([episode_step, global_step])\n",
    "\n",
    "            # if there has been improvment of the model -\n",
    "            if np.mean(tracked_return) > eval_max_return:\n",
    "                eval_max_return = np.mean(tracked_return)\n",
    "                # call helper function save_and_log_agent to save model, create video, log video to wandb\n",
    "                hf.save_and_log_agent(exp, agent, episode_step, greedy=greedy_evaluation, print_path=False)\n",
    "\n",
    "    next_done = done\n",
    "    agent.train()\n",
    "\n",
    "    # compute generalised advantage estimate and returns\n",
    "    with torch.no_grad():\n",
    "        next_value = agent.get_value(next_obs).reshape(1, -1)\n",
    "        advantages = torch.zeros_like(rewards).to(device)\n",
    "        lastgaelam = 0\n",
    "        for t in reversed(range(hypp.num_steps)):\n",
    "            if t == hypp.num_steps - 1:\n",
    "                nextnonterminal = 1.0 - next_done\n",
    "                nextvalues = next_value\n",
    "            else:\n",
    "                nextnonterminal = 1.0 - dones[t + 1]\n",
    "                nextvalues = values[t + 1]\n",
    "            delta = rewards[t] + hypp.gamma * nextvalues * nextnonterminal - values[t]\n",
    "            advantages[t] = lastgaelam = delta + hypp.gamma * hypp.gae_lambda * nextnonterminal * lastgaelam\n",
    "        returns = advantages + values\n",
    "\n",
    "    # flatten the batch\n",
    "    b_observations = observations.reshape((-1,) + envs.single_observation_space.shape)\n",
    "    b_logprobs = logprobs.reshape(-1)\n",
    "    b_actions = actions.reshape((-1,) + envs.single_action_space.shape)\n",
    "    b_advantages = advantages.reshape(-1)\n",
    "    b_returns = returns.reshape(-1)\n",
    "    b_values = values.reshape(-1)\n",
    "\n",
    "    with torch.no_grad():\n",
    "        old_distribution = copy.copy(agent.get_distribution(b_observations))\n",
    "\n",
    "    distribution = agent.get_distribution(b_observations)\n",
    "    log_prob = distribution.log_prob(b_actions)\n",
    "\n",
    "    if hypp.norm_adv:\n",
    "        b_advantages = (b_advantages - b_advantages.mean()) / (b_advantages.std() + 1e-8)\n",
    "\n",
    "    # ratio between old and new policy, should be one at the start of each iteration\n",
    "    ratio = torch.exp(log_prob - b_logprobs)\n",
    "\n",
    "    # compute the surrogate advantage\n",
    "    policy_objective = (b_advantages * ratio).mean()\n",
    "\n",
    "    # KL Divergence\n",
    "    kl_div = kl_divergence(distribution, old_distribution).mean()\n",
    "\n",
    "    # Compute the gradient of the surroagate advantage and the kl divergence wrt to the policy network parameters\n",
    "    optimizer.zero_grad()\n",
    "    actor_params, policy_objective_gradients, grad_kl, grad_shape = compute_policy_grad(agent.actor, kl_div,\n",
    "                                                                                        policy_objective)\n",
    "\n",
    "    # Compute search_direction, ie ${H^-1}.{g}$, using the conjugate gradient method\n",
    "    hessian_vector_product_fn = partial(hessian_vector_product, actor_params, grad_kl, hypp.cg_damping)\n",
    "\n",
    "    search_direction = conjugate_gradient_solver(\n",
    "        hessian_vector_product_fn,\n",
    "        policy_objective_gradients,\n",
    "        max_iter=hypp.cg_max_steps\n",
    "    )\n",
    "\n",
    "    line_search_max_step_size = 2 * hypp.target_kl\n",
    "    line_search_max_step_size /= torch.matmul(\n",
    "        search_direction, hessian_vector_product_fn(search_direction, retain_graph=False)\n",
    "    )\n",
    "    line_search_max_step_size = torch.sqrt(line_search_max_step_size)\n",
    "\n",
    "    line_search_backtrack_coeff = 1.0\n",
    "    original_actor_params = [param.detach().clone() for param in actor_params]\n",
    "\n",
    "    policy_objective_values = []  # average value of the surrogate advantage\n",
    "    kl_divergences = []  # average KL-divergence between policies across states visited by the old policy\n",
    "\n",
    "    is_line_search_success = False\n",
    "    with torch.no_grad():\n",
    "        # update policy parameters by backtracking line-search\n",
    "        for _ in range(hypp.line_search_max_iter):\n",
    "\n",
    "            start_idx = 0\n",
    "            # Applying the scaled step direction\n",
    "            for param, original_param, shape in zip(actor_params, original_actor_params, grad_shape):\n",
    "                n_params = param.numel()\n",
    "                param.data = (\n",
    "                        original_param.data\n",
    "                        + line_search_backtrack_coeff\n",
    "                        * line_search_max_step_size\n",
    "                        * search_direction[start_idx: (start_idx + n_params)].view(shape)\n",
    "                )\n",
    "                start_idx += n_params\n",
    "\n",
    "            # Recomputing the policy log-probabilities\n",
    "            distribution = agent.get_distribution(b_observations)\n",
    "            log_prob = distribution.log_prob(b_actions)\n",
    "\n",
    "            # New policy objective\n",
    "            ratio = torch.exp(log_prob - b_logprobs)\n",
    "            new_policy_objective = (b_advantages * ratio).mean()\n",
    "\n",
    "            # New KL-divergence\n",
    "            kl_div = kl_divergence(distribution, old_distribution).mean()\n",
    "\n",
    "            # Constraint criteria:\n",
    "            # we need to improve the surrogate policy objective\n",
    "            # while being close enough (in terms of kl div) to the old policy\n",
    "            if (kl_div < hypp.target_kl) and (new_policy_objective > policy_objective):\n",
    "                is_line_search_success = True\n",
    "                break\n",
    "\n",
    "            # Reducing step size if line-search wasn't successful\n",
    "            line_search_backtrack_coeff *= hypp.line_search_shrinking_factor\n",
    "\n",
    "        if not is_line_search_success:\n",
    "            # If the line-search wasn't successful we revert to the original parameters\n",
    "            for param, original_param in zip(actor_params, original_actor_params):\n",
    "                param.data = original_param.data.clone()\n",
    "\n",
    "            policy_objective_values = policy_objective.item()\n",
    "            kl_divergences = 0\n",
    "        else:\n",
    "            policy_objective_values = new_policy_objective.item()\n",
    "            kl_divergences = kl_div.item()\n",
    "\n",
    "    b_inds = np.arange(hypp.batch_size)\n",
    "\n",
    "    value_losses = []\n",
    "\n",
    "    # update the critic network\n",
    "    for i in range(hypp.update_epochs):\n",
    "        np.random.shuffle(b_inds)\n",
    "        for start in range(0, hypp.batch_size, hypp.minibatch_size):\n",
    "            end = start + hypp.minibatch_size\n",
    "            mb_inds = b_inds[start:end]\n",
    "\n",
    "            newvals = agent.get_value(b_observations[mb_inds])\n",
    "            newvals = newvals.view(-1)\n",
    "\n",
    "            v_loss = 0.5 * ((newvals - b_returns[mb_inds]) ** 2).mean()\n",
    "\n",
    "            optimizer.zero_grad()\n",
    "            v_loss.backward()\n",
    "            optimizer.step()\n",
    "\n",
    "            value_losses.append(v_loss.item())\n",
    "            gradient_step += 1\n",
    "\n",
    "    y_pred, y_true = b_values.cpu().numpy(), b_returns.cpu().numpy()\n",
    "    var_y = np.var(y_true)\n",
    "    explained_var = np.nan if var_y == 0 else 1 - np.var(y_true - y_pred) / var_y\n",
    "\n",
    "    # log losses to tensorboard summary writer\n",
    "    writer.add_scalar(\"hyperparameters/learning_rate\", optimizer.param_groups[0][\"lr\"], global_step)\n",
    "    writer.add_scalar(\"train/value_loss\", np.mean(value_losses), global_step)\n",
    "    writer.add_scalar(\"train/kl_divergence\", kl_divergences, global_step)\n",
    "    writer.add_scalar(\"train/explained_variance\", explained_var, global_step)\n",
    "    writer.add_scalar(\"train/is_line_search_success\", int(is_line_search_success), global_step)\n",
    "    writer.add_scalar(\"train/surrogate_objective\", policy_objective_values, global_step)\n",
    "    writer.add_scalar(\"Charts/episode_step\", episode_step, global_step)\n",
    "    writer.add_scalar(\"Charts/gradient_step\", gradient_step, global_step)\n",
    "\n",
    "# one last evaluation stage\n",
    "if exp.eval_agent:\n",
    "    last_evaluated_episode = episode_step\n",
    "    tracked_return, tracked_episode_len = hf.evaluate_agent(envs_eval, agent, exp.eval_count, exp.seed, greedy_actor=greedy_evaluation)\n",
    "    tracked_returns_over_training.append(tracked_return)\n",
    "    tracked_episode_len_over_training.append(tracked_episode_len)\n",
    "    tracked_episode_count.append([episode_step, global_step])\n",
    "\n",
    "    # if there has been improvment of the model -\n",
    "    if np.mean(tracked_return) > eval_max_return:\n",
    "        eval_max_return = np.mean(tracked_return)\n",
    "        # call helper function save_and_log_agent to save model, create video, log video to wandb\n",
    "        hf.save_and_log_agent(exp, agent, episode_step, greedy=greedy_evaluation, print_path=True)\n",
    "\n",
    "    hf.save_tracked_values(tracked_returns_over_training, tracked_episode_len_over_training, tracked_episode_count, exp.eval_count, exp.run_name, exp.exp_type)\n",
    "\n",
    "envs.close()\n",
    "envs_eval.close()\n",
    "writer.close()\n",
    "if wandb.run is not None:\n",
    "    wandb.finish()\n",
    "    wandb.init(mode=\"disabled\")\n",
    "\n",
    "hf.save_train_config_to_yaml(exp, hypp)"
   ]
  },
  {
   "cell_type": "markdown",
   "id": "74e2408a-aeea-4c1f-800c-5067bdd305e4",
   "metadata": {
    "tags": []
   },
   "source": [
    "## Compare Trained Agents and Display Behaviour"
   ]
  },
  {
   "cell_type": "markdown",
   "id": "4b0f1482-cf6b-4a95-b64a-c0d8e8626a30",
   "metadata": {
    "tags": []
   },
   "source": [
    "### Display Trained Agent Behaviour\n",
    "\n",
    "Set `agent_name` and `agent_exp_type` to load the saved agent model in the respective log folder and generate a video of the agent's interaction with the gymnasium environment. After the cell is executed, you should see a video embedding as output, and the video is also available in the following directory: `/logs/<exp.exp_type>/<exp.run_name>/videos` "
   ]
  },
  {
   "cell_type": "code",
   "execution_count": 8,
   "id": "7419ed1c-cfb3-4e86-be95-e418a3ffe51d",
   "metadata": {},
   "outputs": [
    {
     "data": {
      "text/html": [
       "<video loop autoplay  >\n",
       " <source src=\"data:video/mp4;base64,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\" type=\"video/mp4\">\n",
       " Your browser does not support the video tag.\n",
       " </video>"
      ],
      "text/plain": [
       "<IPython.core.display.Video object>"
      ]
     },
     "execution_count": 8,
     "metadata": {},
     "output_type": "execute_result"
    }
   ],
   "source": [
    "agent_name = exp.run_name\n",
    "agent_exp_type = exp.exp_type  # both are needed to identify the agent location\n",
    "\n",
    "\n",
    "exp_folder = \"\" if agent_exp_type is None else agent_exp_type\n",
    "filepath, _ = hf.create_folder_relative(f\"{exp_folder}/{agent_name}/videos\")\n",
    "\n",
    "hf.record_video(exp.env_id, agent_name, f\"{filepath}/best.mp4\", exp_type=agent_exp_type, greedy=True)\n",
    "Video(data=f\"{filepath}/best.mp4\", html_attributes='loop autoplay', embed=True)"
   ]
  },
  {
   "cell_type": "markdown",
   "id": "015ae10e-2713-4f25-a07f-b925d01c4461",
   "metadata": {
    "tags": []
   },
   "source": [
    "### Compare Performance of Agents During Training\n",
    "\n",
    "During the training loop, if `exp.eval_agent = True`, the performance progress of the agent during its training is saved as a csv file. To compare the saved progress of different agents, create a `dict` containing the parent folder's name of each of the csv files and use the helper function `plotter_agents_training_stats`.\n",
    "\n",
    "To load the data, you can either set `eval_params.run_name00 = exp.run_name` (if only a `tracked_performance_training.csv` file for the corresponding `exp.run_name` exists) or manually enter the folder name containing the csv file. \n",
    "\n",
    "If the agent performance you want to load is inside an exp_type folder, set `eval_params.exp_type00` to experiment type, and if not, set it to `None`. \n",
    "\n",
    "You can add more than one experiment by initializing dict keys and values of the format `eval_params.run_namexx` and `eval_params.exp_typexx`."
   ]
  },
  {
   "cell_type": "code",
   "execution_count": 9,
   "id": "1ffead0b-a7a3-4062-8c93-5b209c63e43e",
   "metadata": {
    "tags": []
   },
   "outputs": [
    {
     "data": {
      "image/png": "[encoded data removed]",
      "text/plain": [
       "<Figure size 1400x300 with 2 Axes>"
      ]
     },
     "metadata": {},
     "output_type": "display_data"
    }
   ],
   "source": [
    "eval_params = edict()  # eval_params - evaluation settings for trained agent\n",
    "\n",
    "eval_params.run_name00 = exp.run_name\n",
    "eval_params.exp_type00 = exp.exp_type\n",
    "\n",
    "# eval_params.run_name01 = \"CartPole-v1__PPO__1__230323_224300\"\n",
    "# eval_params.exp_type01 = None \n",
    "\n",
    "# eval_params.run_name02 = \"CartPole-v1__PPO__1__230302_221245\"\n",
    "# eval_params.exp_type02 = None\n",
    "\n",
    "agent_labels = []\n",
    "\n",
    "episode_axis_limit = None\n",
    "\n",
    "hf.plotter_agents_training_stats(eval_params, agent_labels, episode_axis_limit, plot_returns=True, plot_episode_len=True)"
   ]
  },
  {
   "cell_type": "markdown",
   "id": "dc26b1fa-7c14-4bc0-8183-e59450f5d021",
   "metadata": {
    "tags": []
   },
   "source": [
    "## TensorBoard Inline"
   ]
  },
  {
   "cell_type": "code",
   "execution_count": 10,
   "id": "8abce1b0-018f-4761-954d-8015bbda779b",
   "metadata": {
    "tags": []
   },
   "outputs": [],
   "source": [
    "# %load_ext tensorboard\n",
    "# %tensorboard --logdir logs --host localhost"
   ]
  }
 ],
 "metadata": {
  "kernelspec": {
   "display_name": "default",
   "language": "python",
   "name": "python3"
  },
  "language_info": {
   "codemirror_mode": {
    "name": "ipython",
    "version": 3
   },
   "file_extension": ".py",
   "mimetype": "text/x-python",
   "name": "python",
   "nbconvert_exporter": "python",
   "pygments_lexer": "ipython3",
   "version": "3.10.18"
  },
  "toc-autonumbering": true,
  "widgets": {
   "application/vnd.jupyter.widget-state+json": {
    "state": {},
    "version_major": 2,
    "version_minor": 0
   }
  }
 },
 "nbformat": 4,
 "nbformat_minor": 5
}
