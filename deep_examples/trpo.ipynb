{
 "cells": [
  {
   "cell_type": "markdown",
   "id": "f0a5f846-de2e-4db3-acf7-9073fd61d8c1",
   "metadata": {},
   "source": [
    "![DSME-logo](./static/DSME_logo.png)\n",
    "\n",
    "#  Reinforcement Learning and Learning-based Control\n",
    "\n",
    "<p style=\"font-size:12pt\";> \n",
    "<b> Prof. Dr. Sebastian Trimpe, Dr. Friedrich Solowjow </b><br>\n",
    "<b> Institute for Data Science in Mechanical Engineering (DSME) </b><br>\n",
    "<a href = \"mailto:rllbc@dsme.rwth-aachen.de\">rllbc@dsme.rwth-aachen.de</a><br>\n",
    "</p>\n",
    "\n",
    "---\n",
    "TRPO With Generalized Advantage Estimate\n",
    "\n",
    "Notebook Authors: Jyotirmaya Patra\n",
    "\n",
    "Adapted from: [Stable Baselines3 Contrib](https://github.com/Stable-Baselines-Team/stable-baselines3-contrib)\n",
    "\n",
    "Orignal Paper: [Trust Region Policy Optimization](https://arxiv.org/abs/1502.05477)\n",
    "\n",
    "Additional References:\n",
    "1. OpenAI SpinningUp:\n",
    "    * [Trust Region Policy Optimization](https://spinningup.openai.com/en/latest/algorithms/trpo.html)\n",
    "2. CS 285 at UC Berkeley:\n",
    "    * [Lecture 9: Advanced Policy Gradients](http://rail.eecs.berkeley.edu/deeprlcourse/static/slides/lec-9.pdf) (Lecture recordings also available on Youtube!)\n",
    "3. Generalised Advantage Estimate:\n",
    "    * [High-Dimensional Continuous Control Using Generalized Advantage Estimation](https://arxiv.org/abs/1506.02438)\n"
   ]
  },
  {
   "cell_type": "markdown",
   "id": "b5a83f6f-418b-4959-b725-9f4f32ecb319",
   "metadata": {},
   "source": [
    "## Library Imports"
   ]
  },
  {
   "cell_type": "code",
   "execution_count": 1,
   "id": "e818d134-4fcc-4756-aa73-0d236efd42d1",
   "metadata": {},
   "outputs": [],
   "source": [
    "import os\n",
    "import time\n",
    "import copy\n",
    "import random\n",
    "from datetime import datetime\n",
    "from functools import partial\n",
    "\n",
    "import numpy as np\n",
    "import matplotlib.pyplot as plt\n",
    "from tqdm import notebook\n",
    "from easydict import EasyDict as edict\n",
    "from IPython.display import Video\n",
    "\n",
    "import utils.helper_fns as hf\n",
    "\n",
    "import gymnasium as gym\n",
    "import wandb\n",
    "import torch\n",
    "import torch.nn as nn\n",
    "import torch.optim as optim\n",
    "from torch.distributions.categorical import Categorical\n",
    "\n",
    "\n",
    "os.environ['SDL_VIDEODRIVER'] = 'dummy'\n",
    "os.environ['WANDB_NOTEBOOK_NAME'] = 'trpo.ipynb'\n",
    "\n",
    "plt.rcParams['figure.dpi'] = 100\n",
    "device = torch.device(\"cuda\" if torch.cuda.is_available() else \"cpu\")\n",
    "\n",
    "%load_ext autoreload\n",
    "%autoreload 2"
   ]
  },
  {
   "cell_type": "markdown",
   "id": "a97075de-2532-473e-af22-e6cb8c3035a5",
   "metadata": {},
   "source": [
    "## TRPO Specific Helper Functions\n",
    "\n",
    "Apart from the general helper functions in `/uitls/helper_fns.py` here you will find helper functions specific to TRPO. Here's a quick preview:\n",
    "1. `kl_divergence`: compute kl divergence between two pytorch distributions\n",
    "2. `compute_policy_grad`: compute gradients for kl div and surrogate objective wrt the policy parameters \n",
    "3. `hessian_vector_product`: computes the matrix-vector product with the Fisher information matrix.\n",
    "4. `conjugate_gradient_solver`: finds an approximate solution to a set of linear equations Ax = b"
   ]
  },
  {
   "cell_type": "code",
   "execution_count": 2,
   "id": "03865a9c-3ff9-4993-ba57-93096ae86478",
   "metadata": {},
   "outputs": [],
   "source": [
    "def kl_divergence(dist_true, dist_pred):\n",
    "    \"\"\"\n",
    "    Wrapper for the PyTorch implementation of the full form KL Divergence\n",
    "\n",
    "    :param dist_true: the p distribution\n",
    "    :param dist_pred: the q distribution\n",
    "    :return: KL(dist_true||dist_pred)\n",
    "    \"\"\"\n",
    "    return torch.distributions.kl_divergence(dist_true, dist_pred)\n",
    "\n",
    "\n",
    "def compute_policy_grad(actor, kl_div, policy_objective):\n",
    "    \"\"\"\n",
    "    Compute gradients for kl div and surrogate objective wrt the policy parameters\n",
    "    :param actor: actor model in agent\n",
    "    :param kl_div: The KL divergence objective\n",
    "    :param policy_objective: The surrogate advantage\n",
    "    :return: List of actor params, gradients and gradients shape.\n",
    "    \"\"\"\n",
    "    # Contains the gradients of surrogate advantage wrt to each policy parameters\n",
    "    policy_objective_gradients = []\n",
    "    # Contains gradients of the KL divergence wrt each policy parameter\n",
    "    grad_kl = []\n",
    "    # Save the shape of the gradients of the KL divergence w.r.t each policy parameter\n",
    "    # Will be used to unflatten the gradients into its original shape later in the training loop\n",
    "    grad_shape = []\n",
    "    # List of policy parameters\n",
    "    actor_params = []\n",
    "\n",
    "    for param in actor.parameters():\n",
    "        kl_param_grad, *_ = torch.autograd.grad(\n",
    "            kl_div,\n",
    "            param,\n",
    "            create_graph=True,\n",
    "            retain_graph=True,\n",
    "            allow_unused=True,\n",
    "            only_inputs=True\n",
    "        )\n",
    "\n",
    "        policy_objective_grad, *_ = torch.autograd.grad(\n",
    "            policy_objective,\n",
    "            param,\n",
    "            retain_graph=True,\n",
    "            only_inputs=True\n",
    "        )\n",
    "\n",
    "        grad_shape.append(kl_param_grad.shape)\n",
    "        grad_kl.append(kl_param_grad.reshape(-1))\n",
    "        policy_objective_gradients.append(policy_objective_grad.reshape(-1))\n",
    "        actor_params.append(param)\n",
    "\n",
    "    # Concatenate gradients before the conjugate gradient step\n",
    "    policy_objective_gradients = torch.cat(policy_objective_gradients)\n",
    "    grad_kl = torch.cat(grad_kl)\n",
    "    return actor_params, policy_objective_gradients, grad_kl, grad_shape\n",
    "\n",
    "\n",
    "def hessian_vector_product(params, grad_kl, cg_damping, vector, retain_graph=True):\n",
    "    \"\"\"\n",
    "    Computes the matrix-vector product with the Fisher information matrix.\n",
    "\n",
    "    :param params: list of parameters used to compute the Hessian\n",
    "    :param grad_kl: flattened gradient of the KL divergence between the old and new policy\n",
    "    :param vector: vector to compute the dot product the hessian-vector dot product with\n",
    "    :param retain_graph: if True, the graph will be kept after computing the Hessian\n",
    "    :return: Hessian-vector dot product (with damping)\n",
    "    \"\"\"\n",
    "    jacobian_vector_product = (grad_kl * vector).sum()\n",
    "\n",
    "    hessian_vector_product = torch.autograd.grad(\n",
    "        jacobian_vector_product,\n",
    "        params,\n",
    "        create_graph=False,\n",
    "        retain_graph=retain_graph,\n",
    "        allow_unused=True\n",
    "    )\n",
    "\n",
    "    hessian_vector_product_flattened = torch.cat([torch.ravel(grad) for grad in hessian_vector_product if grad is not None])\n",
    "    return hessian_vector_product_flattened + cg_damping * vector\n",
    "\n",
    "\n",
    "def conjugate_gradient_solver(matrix_vector_dot_fn, b, max_iter=10, residual_tol=1e-10):\n",
    "    \"\"\"\n",
    "    Finds an approximate solution to a set of linear equations Ax = b\n",
    "\n",
    "    Sources:\n",
    "     - https://github.com/ajlangley/trpo-pytorch/blob/master/conjugate_gradient.py\n",
    "     - https://github.com/joschu/modular_rl/blob/master/modular_rl/trpo.py#L122\n",
    "\n",
    "    Reference:\n",
    "     - https://epubs.siam.org/doi/abs/10.1137/1.9781611971446.ch6\n",
    "\n",
    "    :param matrix_vector_dot_fn:\n",
    "        a function that right multiplies a matrix A by a vector v\n",
    "    :param b:\n",
    "        the right hand term in the set of linear equations Ax = b\n",
    "    :param max_iter:\n",
    "        the maximum number of iterations (default is 10)\n",
    "    :param residual_tol:\n",
    "        residual tolerance for early stopping of the solving (default is 1e-10)\n",
    "    :return x:\n",
    "        the approximate solution to the system of equations defined by `matrix_vector_dot_fn`\n",
    "        and b\n",
    "    \"\"\"\n",
    "\n",
    "    # The vector is not initialized at 0 because of the instability issues when the gradient becomes small.\n",
    "    # Hence, a small random gaussian noise is used for the initialization.\n",
    "    x = 1e-4 * torch.randn_like(b)\n",
    "    residual = b - matrix_vector_dot_fn(x)\n",
    "    # Equivalent to th.linalg.norm(residual) ** 2 (L2 norm squared)\n",
    "    residual_squared_norm = torch.matmul(residual, residual)\n",
    "\n",
    "    if residual_squared_norm < residual_tol:\n",
    "        # If the gradient becomes extremely small\n",
    "        # The denominator in alpha will become zero\n",
    "        # Leading to a division by zero\n",
    "        return x\n",
    "\n",
    "    p = residual.clone()\n",
    "\n",
    "    for i in range(max_iter):\n",
    "        # A @ p (matrix vector multiplication)\n",
    "        A_dot_p = matrix_vector_dot_fn(p)\n",
    "\n",
    "        alpha = residual_squared_norm / p.dot(A_dot_p)\n",
    "        x += alpha * p\n",
    "\n",
    "        if i == max_iter - 1:\n",
    "            return x\n",
    "\n",
    "        residual -= alpha * A_dot_p\n",
    "        new_residual_squared_norm = torch.matmul(residual, residual)\n",
    "\n",
    "        if new_residual_squared_norm < residual_tol:\n",
    "            return x\n",
    "\n",
    "        beta = new_residual_squared_norm / residual_squared_norm\n",
    "        residual_squared_norm = new_residual_squared_norm\n",
    "        p = residual + beta * p\n",
    "    # Note: this return statement is only used when max_iter=0\n",
    "    return x"
   ]
  },
  {
   "cell_type": "markdown",
   "id": "0c56a7a7-bace-4ddc-8c90-93aa86d8ae69",
   "metadata": {
    "tags": []
   },
   "source": [
    "## Initializations"
   ]
  },
  {
   "cell_type": "markdown",
   "id": "a7705efc-11be-4fa7-8e1c-054bc3efbd7a",
   "metadata": {},
   "source": [
    "### Experiment\n",
    "\n",
    "We primarily use dictionaries for initializing experiment parameters and training hyperparameters. We use the `EasyDict` (imported as `edict`) library, which allows us to access dict values as attributes while retaining the operations and properties of the original python `dict`! [[Github Link](https://github.com/makinacorpus/easydict)]\n",
    "\n",
    "In this notebook we use a few `edicts` with `exp` being one of them. It is initialized in the following cell and has keys and values containing information about the experiment being run. Although initialized in this section, we keep adding new keys and values to the dict in the later sections as well.  \n",
    "\n",
    "This notebook supports gym environments with observation space of type `gym.spaces.Box` and action space of type `gym.spaces.Discrete`. Eg: Acrobot-v1, CartPole-v1, MountainCar-v0"
   ]
  },
  {
   "cell_type": "code",
   "execution_count": 3,
   "id": "468a56a4-7e93-4ec9-8bd8-de7efc02e2d9",
   "metadata": {},
   "outputs": [],
   "source": [
    "exp = edict()\n",
    "\n",
    "exp.exp_name = 'TRPO'  # algorithm name, in this case it should be 'PPO'\n",
    "exp.env_id = 'CartPole-v1'  # name of the gym environment to be used in this experiment. Eg: Acrobot-v1, CartPole-v1, MountainCar-v0\n",
    "exp.device = device.type  # save the device type used to load tensors and perform tensor operations\n",
    "\n",
    "exp.random_seed = True  # set random seed for reproducibility of python, numpy and torch\n",
    "exp.seed = 2\n",
    "\n",
    "# name of the project in Weights & Biases (wandb) to which logs are patched. (only if wandb logging is enabled)\n",
    "# if the project does not exist in wandb, it will be created automatically\n",
    "wandb_prj_name = f\"RLLBC_{exp.env_id}\"\n",
    "\n",
    "# name prefix of output files generated by the notebook\n",
    "exp.run_name = f\"{exp.env_id}__{exp.exp_name}__{exp.seed}__{datetime.now().strftime('%y%m%d_%H%M%S')}\"\n",
    "\n",
    "if exp.random_seed:\n",
    "    random.seed(exp.seed)\n",
    "    np.random.seed(exp.seed)\n",
    "    torch.manual_seed(exp.seed)\n",
    "    torch.backends.cudnn.deterministic = exp.random_seed"
   ]
  },
  {
   "cell_type": "markdown",
   "id": "e7685598-5e38-4124-bf7e-2c76faef0607",
   "metadata": {
    "tags": []
   },
   "source": [
    "### Rollout Buffer\n",
    "\n",
    "The second dictionary, `hypp`, is initialized in the following cell. It has keys and values containing the hyperparameters necessary to the algorithm. Similar to the `exp` dict, new keys and values are added to the `hypp` in the later sections. \n",
    "\n",
    "Define both `exp.num_envs` and `hypp.num_steps`.\n",
    "\n",
    "Initialize the multiple environments and run them in parallel using the `SyncVectorEnv` class from the gym library [More info: [Link](https://www.gymlibrary.dev/content/vectorising/)]. \n",
    "\n",
    "Next, create a rollout buffer based on the number of parallel envs `exp.num_envs` and the number of steps per env `hypp.num_steps`. It is later used to save episode trajectories during agent training. The buffer gets replaced with new trajectories at the beginning of every iteration of the training loop."
   ]
  },
  {
   "cell_type": "code",
   "execution_count": 4,
   "id": "4632173c-fb81-48fe-8378-d3ac93736c60",
   "metadata": {
    "tags": []
   },
   "outputs": [],
   "source": [
    "hypp = edict()\n",
    "\n",
    "exp.num_envs = 4  # number of parallel game environments\n",
    "hypp.num_steps = 128  # number of steps to run in each environment per policy rollout\n",
    "\n",
    "# Intialize vectorized gym evn\n",
    "envs = gym.vector.SyncVectorEnv([hf.make_env(exp.env_id, exp.seed + i) for i in range(exp.num_envs)])\n",
    "\n",
    "# RollOut Buffer Init\n",
    "observations = torch.zeros((hypp.num_steps, exp.num_envs) + envs.single_observation_space.shape).to(device)\n",
    "actions = torch.zeros((hypp.num_steps, exp.num_envs) + envs.single_action_space.shape).to(device)\n",
    "logprobs = torch.zeros((hypp.num_steps, exp.num_envs)).to(device)\n",
    "rewards = torch.zeros((hypp.num_steps, exp.num_envs)).to(device)\n",
    "dones = torch.zeros((hypp.num_steps, exp.num_envs)).to(device)\n",
    "values = torch.zeros((hypp.num_steps, exp.num_envs)).to(device)\n",
    "\n",
    "envs.close()"
   ]
  },
  {
   "cell_type": "markdown",
   "id": "5080f052-8cfd-47bb-83e8-772b8c22f780",
   "metadata": {},
   "source": [
    "### Agent Model Class\n",
    "\n",
    "The `Agent` class consists of a deep MLP value function called the `critic`, and a deep MLP policy called the `actor`, both learned during training. \n",
    "\n",
    "The class has three methods:\n",
    "1. `get_value` method evaluates the `critic` with a given observation (state) to obtain the learned estimate of the observation's value.\n",
    "2. `get_distribution` method first evaluates the `actor` to obtain the un-normalized probabilities of the actions, which is then used to create a categorical distribution over the actions.\n",
    "3. `get_action` method returns an action. The method first obtains the categorical distribution over actions the `actor` has learned. Then, if `greedy = True`, it returns the action with the highest probability else, an action sampled from the distribution.\n",
    "4. `get_action_and_value` method when given an observation, returns the action sampled from the probability distribution (if `action=None`), the respective action's log probability, and the estimate of the observation's value according to the `critic` network.\n",
    "\n",
    "The `actor` and `critic` networks in the `Agent` class make use of the `layer_init` function to implement ideas derived from [Engstrom, Ilyas, et al., (2020)](https://openreview.net/forum?id=r1etN1rtPB), and [Andrychowicz et al. (2021)](https://openreview.net/forum?id=nIAxjsniDzg). The former introduces the idea of orthogonal initialization of weights for tanh activation. In the latter paper, decision C57 shows that initializing the policy such that the action distribution is centered as zero gives better performance. This is done by initializing the `actor`'s output layer weights with 0.01 std. (see the final layer of `self.actor`)\n",
    "\n",
    "Note: observation and state mean the same in the context of this notebook"
   ]
  },
  {
   "cell_type": "code",
   "execution_count": 5,
   "id": "d0fff29a-690d-4dc8-bf2c-191243f98a2e",
   "metadata": {},
   "outputs": [],
   "source": [
    "def layer_init(layer, std=np.sqrt(2), bias_const=0.0):\n",
    "    torch.nn.init.orthogonal_(layer.weight, std)\n",
    "    torch.nn.init.constant_(layer.bias, bias_const)\n",
    "    return layer\n",
    "\n",
    "\n",
    "class Agent(nn.Module):\n",
    "    def __init__(self, envs):\n",
    "        super().__init__()\n",
    "        self.critic = nn.Sequential(\n",
    "            layer_init(nn.Linear(np.array(envs.single_observation_space.shape).prod(), 64)),\n",
    "            nn.Tanh(),\n",
    "            layer_init(nn.Linear(64, 64)),\n",
    "            nn.Tanh(),\n",
    "            layer_init(nn.Linear(64, 1), std=1.0),\n",
    "        )\n",
    "        self.actor = nn.Sequential(\n",
    "            layer_init(nn.Linear(np.array(envs.single_observation_space.shape).prod(), 64)),\n",
    "            nn.Tanh(),\n",
    "            layer_init(nn.Linear(64, 64)),\n",
    "            nn.Tanh(),\n",
    "            layer_init(nn.Linear(64, envs.single_action_space.n), std=0.01),\n",
    "        )\n",
    "\n",
    "    def get_value(self, x):\n",
    "        return self.critic(x)\n",
    "\n",
    "    def get_distribution(self, x):\n",
    "        logits = self.actor(x)\n",
    "        probs = Categorical(logits=logits)\n",
    "        return probs\n",
    "\n",
    "    def get_action(self, x, greedy=False):\n",
    "        distr = self.get_distribution(x)\n",
    "        action = distr.sample() if not greedy else distr.mode\n",
    "        return action\n",
    "\n",
    "    def get_action_and_value(self, x, action=None):\n",
    "        distr = self.get_distribution(x)\n",
    "        if action is None:\n",
    "            action = distr.sample()\n",
    "        return action, distr.log_prob(action), self.critic(x)"
   ]
  },
  {
   "cell_type": "markdown",
   "id": "08382f29-5bfb-4814-94ef-53d39db5cfea",
   "metadata": {
    "tags": []
   },
   "source": [
    "### Training Params & Agent Hyperparams\n",
    "\n",
    "The parameters and hyperparameters in this section are broadly categorized as below:\n",
    "1. Flags for logging: \n",
    "    - They are stored in the `exp` dict. \n",
    "    - This notebook uses tensorboard logging by deafult to log experiment metrics. These tb log files are saved in the directory `logs/<exp.exp_type>/<exp.run_name>/tb`. (to learn about `exp.exp_type` refer point 3. below)\n",
    "    - To enable logging of gym videos of the agent's interaction with the env set `exp.capture_video = True`\n",
    "    - Patch tensorboard logs and gym videos to Weigths & Biases (wandb) by setting `exp.enable_wandb_logging = True`\n",
    "2. Flags and parameters to generate average performance throughout training:\n",
    "    - Stored in the `exp` dict\n",
    "    - If `exp.eval_agent = True`, the performance of the agent during it's training is saved in the corresponding logs folder. You can later used this to compare the performance of your current agent with other agents during their training (in Section 1.5.2).\n",
    "    - Every `exp.eval_frequency` episodes the trained agent is evaluated using the `envs_eval` by playing out `exp.eval_count` episodes\n",
    "    - To speed up training set `exp.eval_agent = False` \n",
    "3. Create experiment hierarchy inside log folders:\n",
    "    - if `exp.exp_type` is None, experiment logs are saved to the root log directory `logs`, ie, `/logs/<exp.run_name>`, otherwise they are saved to the directory `logs/<exp.exp_type>/<exp._name>`\n",
    "4. Parameters and hyperparameters related to the algorithm:\n",
    "    - Stored in the `hypp` dict\n",
    "    - Quick reminder:  the `num_steps` key in the `hypp` dict is also a hyperparameter defined in Env & Rollout Buffer Init Section.\n",
    "\n",
    "Note: \n",
    "1. If Weigths and Biases (wandb) logging is enabled, when you run the \"Training The Agent\" cell, enter your wandb's api key when prompted. \n",
    "2. Training takes longer when either gym video recording or agent evaluation during training is enabled. To speed up training set both `exp.capture_video` and `exp.eval_agent` to `False`."
   ]
  },
  {
   "cell_type": "code",
   "execution_count": 6,
   "id": "72d426a0-fca1-4608-9ac7-31ceabd0b100",
   "metadata": {},
   "outputs": [],
   "source": [
    "# flags for logging purposes\n",
    "exp.enable_wandb_logging = True\n",
    "exp.capture_video = False  # disable to speed up training\n",
    "\n",
    "# flags to generate agent's average performance during training\n",
    "exp.eval_agent = True  # disable to speed up training\n",
    "exp.eval_count = 10\n",
    "exp.eval_frequency = 20\n",
    "exp.device = device.type\n",
    "\n",
    "# putting the run into the designated log folder for structuring\n",
    "exp.exp_type = None  # directory the run is saved to. Should be None or a string value\n",
    "\n",
    "# agent learning specific flags\n",
    "hypp.total_timesteps = 500000  # the training duration in number of time steps\n",
    "hypp.num_minibatches = 4  # number of minibatches for gradient updates\n",
    "hypp.update_epochs = 10  # only applies to critic updates in TRPO\n",
    "\n",
    "hypp.batch_size = int(exp.num_envs * hypp.num_steps)  # len of the rollout buffer\n",
    "hypp.minibatch_size = int(hypp.batch_size // hypp.num_minibatches)  # rollout buffer size / minibatch count\n",
    "\n",
    "hypp.learning_rate = 1e-3  # size of gradient update step\n",
    "hypp.anneal_lr = False  # when True reduces the learning rate as the training progresses\n",
    "hypp.gamma = 0.99  # discount factor over future rewards\n",
    "hypp.gae_lambda = 0.95  # factor for trade-off bias vs variance for Generalized Advantage Estimator\n",
    "hypp.norm_adv = True\n",
    "hypp.cg_max_steps = 10                   # maximum number of steps in the Conjugate Gradient algorithm for computing the Hessian vector product\n",
    "hypp.cg_damping = 0.1                    # damping in the Hessian vector product computation\n",
    "hypp.line_search_shrinking_factor = 0.8  # step-size reduction factor for the line-search (i.e., `theta_new = theta + shrinking_factor^i * step`)\n",
    "hypp.line_search_max_iter = 10           # maximum number of iteration for the backtracking line-search\n",
    "hypp.target_kl = 0.01  # the target KL divergence threshold for the policy"
   ]
  },
  {
   "cell_type": "markdown",
   "id": "d3493918-2c78-4ea4-bd28-391141dc0b83",
   "metadata": {
    "tags": []
   },
   "source": [
    "## Training the Agent\n",
    "Before we begin training the agent we first initalize the logging (based on the repsective flags in the `exp` dict), object of the `Agent` class and the optimizer, followed by an inital set of observations. \n",
    "\n",
    "After that comes the main training loop which is comprised of:  \n",
    "1. learning rate annealing, \n",
    "2. collecting trajectories, ie, filling the rollout buffer with the actor's interaction with the environment,\n",
    "3. computing the generalized advantage estimate $A^{\\pi_{\\theta_k}}$ and returns $G$ of the trajectories saved in the rollout buffer,\n",
    "4. Policy parameters update:\n",
    "    1. Computing the gradient of the surrogate objective wrt the policy parameters, ie, $g_k = \\nabla_{\\theta} L_{\\pi_{\\theta_{k}}}\\left(\\pi_\\theta\\right)|_{\\theta_{k}}$, where: \n",
    "    $$ L_{\\pi_{\\theta_{k}}}\\left(\\pi_\\theta\\right) = \\mathbb{E}_{s , a \\sim \\pi_{\\theta_{k}}} \\left[ \\frac{\\pi_\\theta(a|s)}{\\pi_{\\theta_{k}}(a|s)}A^{\\pi_{\\theta_k}}(s, a) \\right]$$\n",
    "    2. Computing the Hessian of KL Divergence (also called the Fisher Information Matrix) wrt to policy parameters, ie, $H_k ={\\nabla^2_\\theta} \\bar{D}_{KL}\\left(\\pi_{\\theta_{k}}, \\pi_{\\theta}\\right)$, where\n",
    "    $$\\bar{D}_{KL}\\left(\\pi_{\\theta_{k}}, \\pi_{\\theta}\\right) = \\mathbb{E}_{s \\sim \\pi_{\\theta_{k}}}\\left[D_{\\mathrm{KL}}\\left(\\pi_{\\theta_k}(\\cdot \\mid s) \\| \\pi_\\theta(\\cdot \\mid s)\\right)\\right]$$\n",
    "    3. Using the conjugate gradient algorithm to compute: $$ x_k \\approx H_k^{-1} g_k$$\n",
    "    4. Updating the policy by bracktracing line search with: $$\\theta_{k+1}=\\theta_k+\\alpha^j \\sqrt{\\frac{2 \\delta}{x_k^T H_k x_k}} x_k $$\n",
    "5. Critic network update:\n",
    "    1. Computing the value loss for critic network update, ie, $$L^{V}(s, \\theta) = \\left(V_{\\theta}(s)-G(s)\\right)^{2}$$\n",
    "    2. Perform gradient descent over the critic network `hypp.update_epochs` times wrt the value loss function $L^{V}$.\n",
    "    \n",
    "Post completion of the main training loop, we save a copy of the following in the directory `logs/<exp.exp_type>/<exp.run_name>`:\n",
    "1. `exp` and `hypp` dicts into a `.config` file \n",
    "2. `agent` (instance of `Agent` class) into a `.pt` file for later evaluation\n",
    "3. agent performance progress throughout training into a `.csv` file if `exp.eval_agent=True`\n",
    "\n",
    "\n",
    "Note: we have two vectorised gym environments, `envs` and `envs_eval` in the initalizations. `envs` is used to fill the rollout buffer with trajectories and `envs_eval` is used to evaluate the agent performance at different stages of training."
   ]
  },
  {
   "cell_type": "code",
   "execution_count": 7,
   "id": "4faadf6f-01ed-4318-8e21-fd41df1faa09",
   "metadata": {},
   "outputs": [
    {
     "name": "stderr",
     "output_type": "stream",
     "text": [
      "\u001b[34m\u001b[1mwandb\u001b[0m: Using wandb-core as the SDK backend. Please refer to https://wandb.me/wandb-core for more information.\n",
      "\u001b[34m\u001b[1mwandb\u001b[0m: Currently logged in as: \u001b[33mlukas-kesper98\u001b[0m. Use \u001b[1m`wandb login --relogin`\u001b[0m to force relogin\n"
     ]
    },
    {
     "data": {
      "text/html": [
       "Tracking run with wandb version 0.18.3"
      ],
      "text/plain": [
       "<IPython.core.display.HTML object>"
      ]
     },
     "metadata": {},
     "output_type": "display_data"
    },
    {
     "data": {
      "text/html": [
       "Run data is saved locally in <code>/Users/kesperlukas/Projects/RLLBC/deep_examples/logs/wandb/run-20241118_152817-mjswuo0n</code>"
      ],
      "text/plain": [
       "<IPython.core.display.HTML object>"
      ]
     },
     "metadata": {},
     "output_type": "display_data"
    },
    {
     "data": {
      "text/html": [
       "Syncing run <strong><a href='https://wandb.ai/lukas-kesper98/RLLBC_CartPole-v1/runs/mjswuo0n' target=\"_blank\">CartPole-v1__TRPO__2__241118_152816</a></strong> to <a href='https://wandb.ai/lukas-kesper98/RLLBC_CartPole-v1' target=\"_blank\">Weights & Biases</a> (<a href='https://wandb.me/run' target=\"_blank\">docs</a>)<br/>"
      ],
      "text/plain": [
       "<IPython.core.display.HTML object>"
      ]
     },
     "metadata": {},
     "output_type": "display_data"
    },
    {
     "data": {
      "text/html": [
       " View project at <a href='https://wandb.ai/lukas-kesper98/RLLBC_CartPole-v1' target=\"_blank\">https://wandb.ai/lukas-kesper98/RLLBC_CartPole-v1</a>"
      ],
      "text/plain": [
       "<IPython.core.display.HTML object>"
      ]
     },
     "metadata": {},
     "output_type": "display_data"
    },
    {
     "data": {
      "text/html": [
       " View run at <a href='https://wandb.ai/lukas-kesper98/RLLBC_CartPole-v1/runs/mjswuo0n' target=\"_blank\">https://wandb.ai/lukas-kesper98/RLLBC_CartPole-v1/runs/mjswuo0n</a>"
      ],
      "text/plain": [
       "<IPython.core.display.HTML object>"
      ]
     },
     "metadata": {},
     "output_type": "display_data"
    },
    {
     "data": {
      "application/vnd.jupyter.widget-view+json": {
       "model_id": "ba16c608c1ef4519be1266beefc0d885",
       "version_major": 2,
       "version_minor": 0
      },
      "text/plain": [
       "  0%|          | 0/976 [00:00<?, ?it/s]"
      ]
     },
     "metadata": {},
     "output_type": "display_data"
    },
    {
     "data": {
      "application/vnd.jupyter.widget-view+json": {
       "model_id": "",
       "version_major": 2,
       "version_minor": 0
      },
      "text/plain": [
       "VBox(children=(Label(value='0.177 MB of 0.727 MB uploaded\\r'), FloatProgress(value=0.24389271113770067, max=1.…"
      ]
     },
     "metadata": {},
     "output_type": "display_data"
    },
    {
     "data": {
      "text/html": [
       " View run <strong style=\"color:#cdcd00\">CartPole-v1__TRPO__2__241118_152816</strong> at: <a href='https://wandb.ai/lukas-kesper98/RLLBC_CartPole-v1/runs/mjswuo0n' target=\"_blank\">https://wandb.ai/lukas-kesper98/RLLBC_CartPole-v1/runs/mjswuo0n</a><br/> View project at: <a href='https://wandb.ai/lukas-kesper98/RLLBC_CartPole-v1' target=\"_blank\">https://wandb.ai/lukas-kesper98/RLLBC_CartPole-v1</a><br/>Synced 5 W&B file(s), 0 media file(s), 0 artifact file(s) and 1 other file(s)"
      ],
      "text/plain": [
       "<IPython.core.display.HTML object>"
      ]
     },
     "metadata": {},
     "output_type": "display_data"
    }
   ],
   "source": [
    "# reinit run_name\n",
    "exp.run_name = f\"{exp.env_id}__{exp.exp_name}__{exp.seed}__{datetime.now().strftime('%y%m%d_%H%M%S')}\"\n",
    "\n",
    "# Init tensorboard logging and wandb logging\n",
    "writer = hf.setup_logging(wandb_prj_name, exp, hypp)\n",
    "\n",
    "# create two vectorized envs: one to fill the rollout buffer with trajectories, and\n",
    "# another to evaluate the agent performance at different stages of training  \n",
    "envs.close()\n",
    "envs = gym.vector.SyncVectorEnv([hf.make_env(exp.env_id, exp.seed + i) for i in range(exp.num_envs)])\n",
    "envs_eval = gym.vector.SyncVectorEnv([hf.make_env(exp.env_id, exp.seed + i) for i in range(exp.eval_count)])\n",
    "\n",
    "# init list to track agent's performance throughout training\n",
    "tracked_returns_over_training = []\n",
    "tracked_episode_len_over_training = []\n",
    "tracked_episode_count = []\n",
    "last_evaluated_episode = None  # stores the episode_step of when the agent's performance was last evaluated\n",
    "greedy_evaluation = False  # whether to perform the evaluation in a greedy way or not\n",
    "eval_max_return = -float('inf')\n",
    "\n",
    "# Create Agent class Instance and network optimizer\n",
    "agent = Agent(envs).to(device)\n",
    "optimizer = optim.Adam(agent.critic.parameters(), lr=hypp.learning_rate)\n",
    "\n",
    "# Init observation to start learning\n",
    "start_time = time.time()\n",
    "obs, _  = envs.reset()\n",
    "obs = torch.Tensor(obs).to(device)\n",
    "done = torch.zeros(exp.num_envs).to(device)\n",
    "num_updates = int(hypp.total_timesteps // hypp.batch_size)\n",
    "\n",
    "global_step = 0\n",
    "episode_step = 0\n",
    "gradient_step = 0\n",
    "\n",
    "pbar = notebook.tqdm(range(1, num_updates + 1))\n",
    "\n",
    "# training loop\n",
    "for update in pbar:\n",
    "    # Annealing the rate if instructed to do so.\n",
    "    if hypp.anneal_lr:\n",
    "        frac = 1.0 - (update - 1.0) / num_updates\n",
    "        lrnow = frac * hypp.learning_rate\n",
    "        optimizer.param_groups[0][\"lr\"] = lrnow\n",
    "\n",
    "    agent.eval()\n",
    "\n",
    "    # collect trajectories\n",
    "    for step in range(0, hypp.num_steps):\n",
    "        observations[step] = obs\n",
    "        dones[step] = done\n",
    "\n",
    "        # sample action and collect value from learned agent policy and value networks\n",
    "        with torch.no_grad():\n",
    "            action, logprob, value = agent.get_action_and_value(obs)\n",
    "            values[step] = value.flatten()\n",
    "        actions[step] = action\n",
    "        logprobs[step] = logprob\n",
    "\n",
    "        # execute the game and log data.\n",
    "        next_obs, reward, terminations, truncations, infos = envs.step(action.cpu().numpy())\n",
    "        done = np.logical_or(terminations, truncations)\n",
    "\n",
    "        for idx, trunc in enumerate(truncations):\n",
    "            agent.eval()\n",
    "            if trunc:\n",
    "                terminal_obs = torch.tensor(infos[\"final_observation\"][idx]).to(device)\n",
    "                with torch.no_grad():\n",
    "                    terminal_value = agent.get_value(terminal_obs)\n",
    "                reward[idx] += hypp.gamma * terminal_value\n",
    "        \n",
    "        if \"final_info\" in infos:\n",
    "            for info in infos[\"final_info\"]:\n",
    "                if info and \"episode\" in info:\n",
    "                    episode_step += 1\n",
    "                    pbar.set_description(f\"global_step={global_step}, episodic_return={info['episode']['r']}\")\n",
    "                    writer.add_scalar(\"rollout/episodic_return\", info[\"episode\"][\"r\"], global_step+idx)\n",
    "                    writer.add_scalar(\"rollout/episodic_length\", info[\"episode\"][\"l\"], global_step+idx)\n",
    "                    writer.add_scalar(\"Charts/episode_step\", episode_step, global_step)\n",
    "                    writer.add_scalar(\"Charts/gradient_step\", gradient_step, global_step)\n",
    "                    break\n",
    "\n",
    "        rewards[step] = torch.tensor(reward).to(device).view(-1)\n",
    "        next_obs, done = torch.Tensor(next_obs).to(device), torch.Tensor(done).to(device)\n",
    "\n",
    "        global_step += 1 * exp.num_envs\n",
    "        obs = next_obs\n",
    "\n",
    "        # generate average performance statistics of current learned agent\n",
    "        if exp.eval_agent and episode_step % exp.eval_frequency == 0 and last_evaluated_episode != episode_step:\n",
    "            last_evaluated_episode = episode_step\n",
    "            tracked_return, tracked_episode_len = hf.evaluate_agent(envs_eval, agent, exp.eval_count, exp.seed, greedy_actor=greedy_evaluation)\n",
    "            tracked_returns_over_training.append(tracked_return)\n",
    "            tracked_episode_len_over_training.append(tracked_episode_len)\n",
    "            tracked_episode_count.append([episode_step, global_step])\n",
    "\n",
    "            # if there has been improvment of the model -\n",
    "            if np.mean(tracked_return) > eval_max_return:\n",
    "                eval_max_return = np.mean(tracked_return)\n",
    "                # call helper function save_and_log_agent to save model, create video, log video to wandb\n",
    "                hf.save_and_log_agent(exp, envs, Agent, agent, episode_step, greedy=greedy_evaluation, print_path=False)\n",
    "\n",
    "    next_done = done\n",
    "    agent.train()\n",
    "\n",
    "    # compute generalised advantage estimate and returns\n",
    "    with torch.no_grad():\n",
    "        next_value = agent.get_value(next_obs).reshape(1, -1)\n",
    "        advantages = torch.zeros_like(rewards).to(device)\n",
    "        lastgaelam = 0\n",
    "        for t in reversed(range(hypp.num_steps)):\n",
    "            if t == hypp.num_steps - 1:\n",
    "                nextnonterminal = 1.0 - next_done\n",
    "                nextvalues = next_value\n",
    "            else:\n",
    "                nextnonterminal = 1.0 - dones[t + 1]\n",
    "                nextvalues = values[t + 1]\n",
    "            delta = rewards[t] + hypp.gamma * nextvalues * nextnonterminal - values[t]\n",
    "            advantages[t] = lastgaelam = delta + hypp.gamma * hypp.gae_lambda * nextnonterminal * lastgaelam\n",
    "        returns = advantages + values\n",
    "\n",
    "    # flatten the batch\n",
    "    b_observations = observations.reshape((-1,) + envs.single_observation_space.shape)\n",
    "    b_logprobs = logprobs.reshape(-1)\n",
    "    b_actions = actions.reshape((-1,) + envs.single_action_space.shape)\n",
    "    b_advantages = advantages.reshape(-1)\n",
    "    b_returns = returns.reshape(-1)\n",
    "    b_values = values.reshape(-1)\n",
    "\n",
    "    with torch.no_grad():\n",
    "        old_distribution = copy.copy(agent.get_distribution(b_observations))\n",
    "\n",
    "    distribution = agent.get_distribution(b_observations)\n",
    "    log_prob = distribution.log_prob(b_actions)\n",
    "\n",
    "    if hypp.norm_adv:\n",
    "        b_advantages = (b_advantages - b_advantages.mean()) / (b_advantages.std() + 1e-8)\n",
    "\n",
    "    # ratio between old and new policy, should be one at the start of each iteration\n",
    "    ratio = torch.exp(log_prob - b_logprobs)\n",
    "\n",
    "    # compute the surrogate advantage\n",
    "    policy_objective = (b_advantages * ratio).mean()\n",
    "\n",
    "    # KL Divergence\n",
    "    kl_div = kl_divergence(distribution, old_distribution).mean()\n",
    "\n",
    "    # Compute the gradient of the surroagate advantage and the kl divergence wrt to the policy network parameters\n",
    "    optimizer.zero_grad()\n",
    "    actor_params, policy_objective_gradients, grad_kl, grad_shape = compute_policy_grad(agent.actor, kl_div,\n",
    "                                                                                        policy_objective)\n",
    "\n",
    "    # Compute search_direction, ie ${H^-1}.{g}$, using the conjugate gradient method\n",
    "    hessian_vector_product_fn = partial(hessian_vector_product, actor_params, grad_kl, hypp.cg_damping)\n",
    "\n",
    "    search_direction = conjugate_gradient_solver(\n",
    "        hessian_vector_product_fn,\n",
    "        policy_objective_gradients,\n",
    "        max_iter=hypp.cg_max_steps\n",
    "    )\n",
    "\n",
    "    line_search_max_step_size = 2 * hypp.target_kl\n",
    "    line_search_max_step_size /= torch.matmul(\n",
    "        search_direction, hessian_vector_product_fn(search_direction, retain_graph=False)\n",
    "    )\n",
    "    line_search_max_step_size = torch.sqrt(line_search_max_step_size)\n",
    "\n",
    "    line_search_backtrack_coeff = 1.0\n",
    "    original_actor_params = [param.detach().clone() for param in actor_params]\n",
    "\n",
    "    policy_objective_values = []  # average value of the surrogate advantage\n",
    "    kl_divergences = []  # average KL-divergence between policies across states visited by the old policy\n",
    "\n",
    "    is_line_search_success = False\n",
    "    with torch.no_grad():\n",
    "        # update policy parameters by backtracking line-search\n",
    "        for _ in range(hypp.line_search_max_iter):\n",
    "\n",
    "            start_idx = 0\n",
    "            # Applying the scaled step direction\n",
    "            for param, original_param, shape in zip(actor_params, original_actor_params, grad_shape):\n",
    "                n_params = param.numel()\n",
    "                param.data = (\n",
    "                        original_param.data\n",
    "                        + line_search_backtrack_coeff\n",
    "                        * line_search_max_step_size\n",
    "                        * search_direction[start_idx: (start_idx + n_params)].view(shape)\n",
    "                )\n",
    "                start_idx += n_params\n",
    "\n",
    "            # Recomputing the policy log-probabilities\n",
    "            distribution = agent.get_distribution(b_observations)\n",
    "            log_prob = distribution.log_prob(b_actions)\n",
    "\n",
    "            # New policy objective\n",
    "            ratio = torch.exp(log_prob - b_logprobs)\n",
    "            new_policy_objective = (b_advantages * ratio).mean()\n",
    "\n",
    "            # New KL-divergence\n",
    "            kl_div = kl_divergence(distribution, old_distribution).mean()\n",
    "\n",
    "            # Constraint criteria:\n",
    "            # we need to improve the surrogate policy objective\n",
    "            # while being close enough (in terms of kl div) to the old policy\n",
    "            if (kl_div < hypp.target_kl) and (new_policy_objective > policy_objective):\n",
    "                is_line_search_success = True\n",
    "                break\n",
    "\n",
    "            # Reducing step size if line-search wasn't successful\n",
    "            line_search_backtrack_coeff *= hypp.line_search_shrinking_factor\n",
    "\n",
    "        if not is_line_search_success:\n",
    "            # If the line-search wasn't successful we revert to the original parameters\n",
    "            for param, original_param in zip(actor_params, original_actor_params):\n",
    "                param.data = original_param.data.clone()\n",
    "\n",
    "            policy_objective_values = policy_objective.item()\n",
    "            kl_divergences = 0\n",
    "        else:\n",
    "            policy_objective_values = new_policy_objective.item()\n",
    "            kl_divergences = kl_div.item()\n",
    "\n",
    "    b_inds = np.arange(hypp.batch_size)\n",
    "\n",
    "    value_losses = []\n",
    "\n",
    "    # update the critic network\n",
    "    for i in range(hypp.update_epochs):\n",
    "        np.random.shuffle(b_inds)\n",
    "        for start in range(0, hypp.batch_size, hypp.minibatch_size):\n",
    "            end = start + hypp.minibatch_size\n",
    "            mb_inds = b_inds[start:end]\n",
    "\n",
    "            newvals = agent.get_value(b_observations[mb_inds])\n",
    "            newvals = newvals.view(-1)\n",
    "\n",
    "            v_loss = 0.5 * ((newvals - b_returns[mb_inds]) ** 2).mean()\n",
    "\n",
    "            optimizer.zero_grad()\n",
    "            v_loss.backward()\n",
    "            optimizer.step()\n",
    "\n",
    "            value_losses.append(v_loss.item())\n",
    "            gradient_step += 1\n",
    "\n",
    "    y_pred, y_true = b_values.cpu().numpy(), b_returns.cpu().numpy()\n",
    "    var_y = np.var(y_true)\n",
    "    explained_var = np.nan if var_y == 0 else 1 - np.var(y_true - y_pred) / var_y\n",
    "\n",
    "    # log losses to tensorboard summary writer\n",
    "    writer.add_scalar(\"hyperparameters/learning_rate\", optimizer.param_groups[0][\"lr\"], global_step)\n",
    "    writer.add_scalar(\"train/value_loss\", np.mean(value_losses), global_step)\n",
    "    writer.add_scalar(\"train/kl_divergence\", kl_divergences, global_step)\n",
    "    writer.add_scalar(\"train/explained_variance\", explained_var, global_step)\n",
    "    writer.add_scalar(\"train/is_line_search_success\", int(is_line_search_success), global_step)\n",
    "    writer.add_scalar(\"train/surrogate_objective\", policy_objective_values, global_step)\n",
    "    writer.add_scalar(\"Charts/episode_step\", episode_step, global_step)\n",
    "    writer.add_scalar(\"Charts/gradient_step\", gradient_step, global_step)\n",
    "\n",
    "# one last evaluation stage\n",
    "if exp.eval_agent:\n",
    "    last_evaluated_episode = episode_step\n",
    "    tracked_return, tracked_episode_len = hf.evaluate_agent(envs_eval, agent, exp.eval_count, exp.seed, greedy_actor=greedy_evaluation)\n",
    "    tracked_returns_over_training.append(tracked_return)\n",
    "    tracked_episode_len_over_training.append(tracked_episode_len)\n",
    "    tracked_episode_count.append([episode_step, global_step])\n",
    "\n",
    "    # if there has been improvment of the model -\n",
    "    if np.mean(tracked_return) > eval_max_return:\n",
    "        eval_max_return = np.mean(tracked_return)\n",
    "        # call helper function save_and_log_agent to save model, create video, log video to wandb\n",
    "        hf.save_and_log_agent(exp, envs, Agent, agent, episode_step, greedy=greedy_evaluation, print_path=True)\n",
    "\n",
    "    hf.save_tracked_values(tracked_returns_over_training, tracked_episode_len_over_training, tracked_episode_count, exp.eval_count, exp.run_name, exp.exp_type)\n",
    "\n",
    "envs.close()\n",
    "envs_eval.close()\n",
    "writer.close()\n",
    "if wandb.run is not None:\n",
    "    wandb.finish(quiet=True)\n",
    "    wandb.init(mode=\"disabled\")\n",
    "\n",
    "hf.save_train_config_to_yaml(exp, hypp)"
   ]
  },
  {
   "cell_type": "markdown",
   "id": "74e2408a-aeea-4c1f-800c-5067bdd305e4",
   "metadata": {
    "tags": []
   },
   "source": [
    "## Compare Trained Agents and Display Behaviour"
   ]
  },
  {
   "cell_type": "markdown",
   "id": "4b0f1482-cf6b-4a95-b64a-c0d8e8626a30",
   "metadata": {
    "tags": []
   },
   "source": [
    "### Display Trained Agent Behaviour\n",
    "\n",
    "Set `agent_name` and `agent_exp_type` to load the saved agent model in the respective log folder and generate a video of the agent's interaction with the gym environment. After the cell is executed, you should see a video embedding as output, and the video is also available in the following directory: `/logs/<exp.exp_type>/<exp.run_name>/videos` "
   ]
  },
  {
   "cell_type": "code",
   "execution_count": 8,
   "id": "7419ed1c-cfb3-4e86-be95-e418a3ffe51d",
   "metadata": {},
   "outputs": [
    {
     "data": {
      "text/html": [
       "<video loop autoplay  >\n",
       " <source src=\"data:video/mp4;base64,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\" type=\"video/mp4\">\n",
       " Your browser does not support the video tag.\n",
       " </video>"
      ],
      "text/plain": [
       "<IPython.core.display.Video object>"
      ]
     },
     "execution_count": 8,
     "metadata": {},
     "output_type": "execute_result"
    }
   ],
   "source": [
    "agent_name = exp.run_name\n",
    "agent_exp_type = exp.exp_type  # both are needed to identify the agent location\n",
    "\n",
    "\n",
    "exp_folder = \"\" if agent_exp_type is None else agent_exp_type\n",
    "filepath, _ = hf.create_folder_relative(f\"{exp_folder}/{agent_name}/videos\")\n",
    "\n",
    "hf.record_video(exp.env_id, envs, Agent, agent_name, f\"{filepath}/best.mp4\", exp_type=agent_exp_type, greedy=True)\n",
    "Video(data=f\"{filepath}/best.mp4\", html_attributes='loop autoplay', embed=True)"
   ]
  },
  {
   "cell_type": "markdown",
   "id": "015ae10e-2713-4f25-a07f-b925d01c4461",
   "metadata": {
    "tags": []
   },
   "source": [
    "### Compare Performance of Agents During Training\n",
    "\n",
    "During the training loop, if `exp.eval_agent = True`, the performance progress of the agent during its training is saved as a csv file. To compare the saved progress of different agents, create a `dict` containing the parent folder's name of each of the csv files and use the helper function `plotter_agents_training_stats`.\n",
    "\n",
    "To load the data, you can either set `eval_params.run_name00 = exp.run_name` (if only a `tracked_performance_training.csv` file for the corresponding `exp.run_name` exists) or manually enter the folder name containing the csv file. \n",
    "\n",
    "If the agent performance you want to load is inside an exp_type folder, set `eval_params.exp_type00` to experiment type, and if not, set it to `None`. \n",
    "\n",
    "You can add more than one experiment by initializing dict keys and values of the format `eval_params.run_namexx` and `eval_params.exp_typexx`."
   ]
  },
  {
   "cell_type": "code",
   "execution_count": 9,
   "id": "1ffead0b-a7a3-4062-8c93-5b209c63e43e",
   "metadata": {
    "tags": []
   },
   "outputs": [
    {
     "data": {
      "image/png": "[encoded data removed]",
      "text/plain": [
       "<Figure size 1400x300 with 2 Axes>"
      ]
     },
     "metadata": {},
     "output_type": "display_data"
    }
   ],
   "source": [
    "eval_params = edict()  # eval_params - evaluation settings for trained agent\n",
    "\n",
    "eval_params.run_name00 = exp.run_name\n",
    "eval_params.exp_type00 = exp.exp_type\n",
    "\n",
    "# eval_params.run_name01 = \"CartPole-v1__PPO__1__230323_224300\"\n",
    "# eval_params.exp_type01 = None \n",
    "\n",
    "# eval_params.run_name02 = \"CartPole-v1__PPO__1__230302_221245\"\n",
    "# eval_params.exp_type02 = None\n",
    "\n",
    "agent_labels = []\n",
    "\n",
    "episode_axis_limit = None\n",
    "\n",
    "hf.plotter_agents_training_stats(eval_params, agent_labels, episode_axis_limit, plot_returns=True, plot_episode_len=True)"
   ]
  },
  {
   "cell_type": "markdown",
   "id": "dc26b1fa-7c14-4bc0-8183-e59450f5d021",
   "metadata": {
    "tags": []
   },
   "source": [
    "## TensorBoard Inline"
   ]
  },
  {
   "cell_type": "code",
   "execution_count": 10,
   "id": "8abce1b0-018f-4761-954d-8015bbda779b",
   "metadata": {
    "tags": []
   },
   "outputs": [],
   "source": [
    "# %load_ext tensorboard\n",
    "# %tensorboard --logdir logs --host localhost"
   ]
  }
 ],
 "metadata": {
  "kernelspec": {
   "display_name": "Python 3 (ipykernel)",
   "language": "python",
   "name": "python3"
  },
  "language_info": {
   "codemirror_mode": {
    "name": "ipython",
    "version": 3
   },
   "file_extension": ".py",
   "mimetype": "text/x-python",
   "name": "python",
   "nbconvert_exporter": "python",
   "pygments_lexer": "ipython3",
   "version": "3.10.8"
  },
  "toc-autonumbering": true,
  "widgets": {
   "application/vnd.jupyter.widget-state+json": {
    "state": {},
    "version_major": 2,
    "version_minor": 0
   }
  }
 },
 "nbformat": 4,
 "nbformat_minor": 5
}
