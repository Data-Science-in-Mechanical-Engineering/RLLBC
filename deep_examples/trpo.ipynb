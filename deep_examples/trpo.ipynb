{
 "cells": [
  {
   "cell_type": "markdown",
   "id": "f0a5f846-de2e-4db3-acf7-9073fd61d8c1",
   "metadata": {},
   "source": [
    "![DSME-logo](./static/DSME_logo.png)\n",
    "\n",
    "#  Reinforcement Learning and Learning-based Control\n",
    "\n",
    "<p style=\"font-size:12pt\";> \n",
    "<b> Prof. Dr. Sebastian Trimpe, Dr. Friedrich Solowjow </b><br>\n",
    "<b> Institute for Data Science in Mechanical Engineering (DSME) </b><br>\n",
    "<a href = \"mailto:rllbc@dsme.rwth-aachen.de\">rllbc@dsme.rwth-aachen.de</a><br>\n",
    "</p>\n",
    "\n",
    "---\n",
    "TRPO With Generalized Advantage Estimate\n",
    "\n",
    "Notebook Authors: Jyotirmaya Patra\n",
    "\n",
    "Adapted from: [Stable Baselines3 Contrib](https://github.com/Stable-Baselines-Team/stable-baselines3-contrib)\n",
    "\n",
    "Orignal Paper: [Trust Region Policy Optimization](https://arxiv.org/abs/1502.05477)\n",
    "\n",
    "Additional References:\n",
    "1. OpenAI SpinningUp:\n",
    "    * [Trust Region Policy Optimization](https://spinningup.openai.com/en/latest/algorithms/trpo.html)\n",
    "2. CS 285 at UC Berkeley:\n",
    "    * [Lecture 9: Advanced Policy Gradients](http://rail.eecs.berkeley.edu/deeprlcourse/static/slides/lec-9.pdf) (Lecture recordings also available on Youtube!)\n",
    "3. Generalised Advantage Estimate:\n",
    "    * [High-Dimensional Continuous Control Using Generalized Advantage Estimation](https://arxiv.org/abs/1506.02438)\n"
   ]
  },
  {
   "cell_type": "markdown",
   "id": "b5a83f6f-418b-4959-b725-9f4f32ecb319",
   "metadata": {},
   "source": [
    "## Library Imports"
   ]
  },
  {
   "cell_type": "code",
   "execution_count": 1,
   "id": "e818d134-4fcc-4756-aa73-0d236efd42d1",
   "metadata": {},
   "outputs": [],
   "source": [
    "import os\n",
    "import time\n",
    "import copy\n",
    "import random\n",
    "from datetime import datetime\n",
    "from functools import partial\n",
    "\n",
    "import numpy as np\n",
    "import matplotlib.pyplot as plt\n",
    "from tqdm import notebook\n",
    "from easydict import EasyDict as edict\n",
    "from IPython.display import Video\n",
    "\n",
    "import utils.helper_fns as hf\n",
    "\n",
    "import gymnasium as gym\n",
    "import wandb\n",
    "import torch\n",
    "import torch.nn as nn\n",
    "import torch.optim as optim\n",
    "from torch.distributions.categorical import Categorical\n",
    "\n",
    "\n",
    "os.environ['SDL_VIDEODRIVER'] = 'dummy'\n",
    "os.environ['WANDB_NOTEBOOK_NAME'] = 'trpo.ipynb'\n",
    "\n",
    "plt.rcParams['figure.dpi'] = 100\n",
    "device = torch.device(\"cuda\" if torch.cuda.is_available() else \"cpu\")\n",
    "\n",
    "%load_ext autoreload\n",
    "%autoreload 2"
   ]
  },
  {
   "cell_type": "markdown",
   "id": "a97075de-2532-473e-af22-e6cb8c3035a5",
   "metadata": {},
   "source": [
    "## TRPO Specific Helper Functions\n",
    "\n",
    "Apart from the general helper functions in `/uitls/helper_fns.py` here you will find helper functions specific to TRPO. Here's a quick preview:\n",
    "1. `kl_divergence`: compute kl divergence between two pytorch distributions\n",
    "2. `compute_policy_grad`: compute gradients for kl div and surrogate objective wrt the policy parameters \n",
    "3. `hessian_vector_product`: computes the matrix-vector product with the Fisher information matrix.\n",
    "4. `conjugate_gradient_solver`: finds an approximate solution to a set of linear equations Ax = b"
   ]
  },
  {
   "cell_type": "code",
   "execution_count": 2,
   "id": "03865a9c-3ff9-4993-ba57-93096ae86478",
   "metadata": {},
   "outputs": [],
   "source": [
    "def kl_divergence(dist_true, dist_pred):\n",
    "    \"\"\"\n",
    "    Wrapper for the PyTorch implementation of the full form KL Divergence\n",
    "\n",
    "    :param dist_true: the p distribution\n",
    "    :param dist_pred: the q distribution\n",
    "    :return: KL(dist_true||dist_pred)\n",
    "    \"\"\"\n",
    "    return torch.distributions.kl_divergence(dist_true, dist_pred)\n",
    "\n",
    "\n",
    "def compute_policy_grad(actor, kl_div, policy_objective):\n",
    "    \"\"\"\n",
    "    Compute gradients for kl div and surrogate objective wrt the policy parameters\n",
    "    :param actor: actor model in agent\n",
    "    :param kl_div: The KL divergence objective\n",
    "    :param policy_objective: The surrogate advantage\n",
    "    :return: List of actor params, gradients and gradients shape.\n",
    "    \"\"\"\n",
    "    # Contains the gradients of surrogate advantage wrt to each policy parameters\n",
    "    policy_objective_gradients = []\n",
    "    # Contains gradients of the KL divergence wrt each policy parameter\n",
    "    grad_kl = []\n",
    "    # Save the shape of the gradients of the KL divergence w.r.t each policy parameter\n",
    "    # Will be used to unflatten the gradients into its original shape later in the training loop\n",
    "    grad_shape = []\n",
    "    # List of policy parameters\n",
    "    actor_params = []\n",
    "\n",
    "    for param in actor.parameters():\n",
    "        kl_param_grad, *_ = torch.autograd.grad(\n",
    "            kl_div,\n",
    "            param,\n",
    "            create_graph=True,\n",
    "            retain_graph=True,\n",
    "            allow_unused=True,\n",
    "            only_inputs=True\n",
    "        )\n",
    "\n",
    "        policy_objective_grad, *_ = torch.autograd.grad(\n",
    "            policy_objective,\n",
    "            param,\n",
    "            retain_graph=True,\n",
    "            only_inputs=True\n",
    "        )\n",
    "\n",
    "        grad_shape.append(kl_param_grad.shape)\n",
    "        grad_kl.append(kl_param_grad.reshape(-1))\n",
    "        policy_objective_gradients.append(policy_objective_grad.reshape(-1))\n",
    "        actor_params.append(param)\n",
    "\n",
    "    # Concatenate gradients before the conjugate gradient step\n",
    "    policy_objective_gradients = torch.cat(policy_objective_gradients)\n",
    "    grad_kl = torch.cat(grad_kl)\n",
    "    return actor_params, policy_objective_gradients, grad_kl, grad_shape\n",
    "\n",
    "\n",
    "def hessian_vector_product(params, grad_kl, cg_damping, vector, retain_graph=True):\n",
    "    \"\"\"\n",
    "    Computes the matrix-vector product with the Fisher information matrix.\n",
    "\n",
    "    :param params: list of parameters used to compute the Hessian\n",
    "    :param grad_kl: flattened gradient of the KL divergence between the old and new policy\n",
    "    :param vector: vector to compute the dot product the hessian-vector dot product with\n",
    "    :param retain_graph: if True, the graph will be kept after computing the Hessian\n",
    "    :return: Hessian-vector dot product (with damping)\n",
    "    \"\"\"\n",
    "    jacobian_vector_product = (grad_kl * vector).sum()\n",
    "\n",
    "    hessian_vector_product = torch.autograd.grad(\n",
    "        jacobian_vector_product,\n",
    "        params,\n",
    "        create_graph=False,\n",
    "        retain_graph=retain_graph,\n",
    "        allow_unused=True\n",
    "    )\n",
    "\n",
    "    hessian_vector_product_flattened = torch.cat([torch.ravel(grad) for grad in hessian_vector_product if grad is not None])\n",
    "    return hessian_vector_product_flattened + cg_damping * vector\n",
    "\n",
    "\n",
    "def conjugate_gradient_solver(matrix_vector_dot_fn, b, max_iter=10, residual_tol=1e-10):\n",
    "    \"\"\"\n",
    "    Finds an approximate solution to a set of linear equations Ax = b\n",
    "\n",
    "    Sources:\n",
    "     - https://github.com/ajlangley/trpo-pytorch/blob/master/conjugate_gradient.py\n",
    "     - https://github.com/joschu/modular_rl/blob/master/modular_rl/trpo.py#L122\n",
    "\n",
    "    Reference:\n",
    "     - https://epubs.siam.org/doi/abs/10.1137/1.9781611971446.ch6\n",
    "\n",
    "    :param matrix_vector_dot_fn:\n",
    "        a function that right multiplies a matrix A by a vector v\n",
    "    :param b:\n",
    "        the right hand term in the set of linear equations Ax = b\n",
    "    :param max_iter:\n",
    "        the maximum number of iterations (default is 10)\n",
    "    :param residual_tol:\n",
    "        residual tolerance for early stopping of the solving (default is 1e-10)\n",
    "    :return x:\n",
    "        the approximate solution to the system of equations defined by `matrix_vector_dot_fn`\n",
    "        and b\n",
    "    \"\"\"\n",
    "\n",
    "    # The vector is not initialized at 0 because of the instability issues when the gradient becomes small.\n",
    "    # Hence, a small random gaussian noise is used for the initialization.\n",
    "    x = 1e-4 * torch.randn_like(b)\n",
    "    residual = b - matrix_vector_dot_fn(x)\n",
    "    # Equivalent to th.linalg.norm(residual) ** 2 (L2 norm squared)\n",
    "    residual_squared_norm = torch.matmul(residual, residual)\n",
    "\n",
    "    if residual_squared_norm < residual_tol:\n",
    "        # If the gradient becomes extremely small\n",
    "        # The denominator in alpha will become zero\n",
    "        # Leading to a division by zero\n",
    "        return x\n",
    "\n",
    "    p = residual.clone()\n",
    "\n",
    "    for i in range(max_iter):\n",
    "        # A @ p (matrix vector multiplication)\n",
    "        A_dot_p = matrix_vector_dot_fn(p)\n",
    "\n",
    "        alpha = residual_squared_norm / p.dot(A_dot_p)\n",
    "        x += alpha * p\n",
    "\n",
    "        if i == max_iter - 1:\n",
    "            return x\n",
    "\n",
    "        residual -= alpha * A_dot_p\n",
    "        new_residual_squared_norm = torch.matmul(residual, residual)\n",
    "\n",
    "        if new_residual_squared_norm < residual_tol:\n",
    "            return x\n",
    "\n",
    "        beta = new_residual_squared_norm / residual_squared_norm\n",
    "        residual_squared_norm = new_residual_squared_norm\n",
    "        p = residual + beta * p\n",
    "    # Note: this return statement is only used when max_iter=0\n",
    "    return x"
   ]
  },
  {
   "cell_type": "markdown",
   "id": "0c56a7a7-bace-4ddc-8c90-93aa86d8ae69",
   "metadata": {
    "tags": []
   },
   "source": [
    "## Initializations"
   ]
  },
  {
   "cell_type": "markdown",
   "id": "a7705efc-11be-4fa7-8e1c-054bc3efbd7a",
   "metadata": {},
   "source": [
    "### Experiment\n",
    "\n",
    "We primarily use dictionaries for initializing experiment parameters and training hyperparameters. We use the `EasyDict` (imported as `edict`) library, which allows us to access dict values as attributes while retaining the operations and properties of the original python `dict`! [[Github Link](https://github.com/makinacorpus/easydict)]\n",
    "\n",
    "In this notebook we use a few `edicts` with `exp` being one of them. It is initialized in the following cell and has keys and values containing information about the experiment being run. Although initialized in this section, we keep adding new keys and values to the dict in the later sections as well.  \n",
    "\n",
    "This notebook supports gym environments with observation space of type `gym.spaces.Box` and action space of type `gym.spaces.Discrete`. Eg: Acrobot-v1, CartPole-v1, MountainCar-v0"
   ]
  },
  {
   "cell_type": "code",
   "execution_count": 3,
   "id": "468a56a4-7e93-4ec9-8bd8-de7efc02e2d9",
   "metadata": {},
   "outputs": [],
   "source": [
    "exp = edict()\n",
    "\n",
    "exp.exp_name = 'TRPO'  # algorithm name, in this case it should be 'PPO'\n",
    "exp.env_id = 'CartPole-v1'  # name of the gym environment to be used in this experiment. Eg: Acrobot-v1, CartPole-v1, MountainCar-v0\n",
    "exp.device = device.type  # save the device type used to load tensors and perform tensor operations\n",
    "\n",
    "exp.random_seed = True  # set random seed for reproducibility of python, numpy and torch\n",
    "exp.seed = 2\n",
    "\n",
    "# name of the project in Weights & Biases (wandb) to which logs are patched. (only if wandb logging is enabled)\n",
    "# if the project does not exist in wandb, it will be created automatically\n",
    "wandb_prj_name = f\"RLLBC_{exp.env_id}\"\n",
    "\n",
    "# name prefix of output files generated by the notebook\n",
    "exp.run_name = f\"{exp.env_id}__{exp.exp_name}__{exp.seed}__{datetime.now().strftime('%y%m%d_%H%M%S')}\"\n",
    "\n",
    "if exp.random_seed:\n",
    "    random.seed(exp.seed)\n",
    "    np.random.seed(exp.seed)\n",
    "    torch.manual_seed(exp.seed)\n",
    "    torch.backends.cudnn.deterministic = exp.random_seed"
   ]
  },
  {
   "cell_type": "markdown",
   "id": "e7685598-5e38-4124-bf7e-2c76faef0607",
   "metadata": {
    "tags": []
   },
   "source": [
    "### Rollout Buffer\n",
    "\n",
    "The second dictionary, `hypp`, is initialized in the following cell. It has keys and values containing the hyperparameters necessary to the algorithm. Similar to the `exp` dict, new keys and values are added to the `hypp` in the later sections. \n",
    "\n",
    "Define both `exp.num_envs` and `hypp.num_steps`.\n",
    "\n",
    "Initialize the multiple environments and run them in parallel using the `SyncVectorEnv` class from the gym library [More info: [Link](https://www.gymlibrary.dev/content/vectorising/)]. \n",
    "\n",
    "Next, create a rollout buffer based on the number of parallel envs `exp.num_envs` and the number of steps per env `hypp.num_steps`. It is later used to save episode trajectories during agent training. The buffer gets replaced with new trajectories at the beginning of every iteration of the training loop."
   ]
  },
  {
   "cell_type": "code",
   "execution_count": 4,
   "id": "4632173c-fb81-48fe-8378-d3ac93736c60",
   "metadata": {
    "tags": []
   },
   "outputs": [],
   "source": [
    "hypp = edict()\n",
    "\n",
    "exp.num_envs = 4  # number of parallel game environments\n",
    "hypp.num_steps = 128  # number of steps to run in each environment per policy rollout\n",
    "\n",
    "# Intialize vectorized gym evn\n",
    "envs = gym.vector.SyncVectorEnv([hf.make_env(exp.env_id, exp.seed + i) for i in range(exp.num_envs)])\n",
    "\n",
    "# RollOut Buffer Init\n",
    "observations = torch.zeros((hypp.num_steps, exp.num_envs) + envs.single_observation_space.shape).to(device)\n",
    "actions = torch.zeros((hypp.num_steps, exp.num_envs) + envs.single_action_space.shape).to(device)\n",
    "logprobs = torch.zeros((hypp.num_steps, exp.num_envs)).to(device)\n",
    "rewards = torch.zeros((hypp.num_steps, exp.num_envs)).to(device)\n",
    "dones = torch.zeros((hypp.num_steps, exp.num_envs)).to(device)\n",
    "values = torch.zeros((hypp.num_steps, exp.num_envs)).to(device)\n",
    "\n",
    "envs.close()"
   ]
  },
  {
   "cell_type": "markdown",
   "id": "5080f052-8cfd-47bb-83e8-772b8c22f780",
   "metadata": {},
   "source": [
    "### Agent Model Class\n",
    "\n",
    "The `Agent` class consists of a deep MLP value function called the `critic`, and a deep MLP policy called the `actor`, both learned during training. \n",
    "\n",
    "The class has three methods:\n",
    "1. `get_value` method evaluates the `critic` with a given observation (state) to obtain the learned estimate of the observation's value.\n",
    "2. `get_distribution` method first evaluates the `actor` to obtain the un-normalized probabilities of the actions, which is then used to create a categorical distribution over the actions.\n",
    "3. `get_action` method returns an action. The method first obtains the categorical distribution over actions the `actor` has learned. Then, if `greedy = True`, it returns the action with the highest probability else, an action sampled from the distribution.\n",
    "4. `get_action_and_value` method when given an observation, returns the action sampled from the probability distribution (if `action=None`), the respective action's log probability, and the estimate of the observation's value according to the `critic` network.\n",
    "\n",
    "The `actor` and `critic` networks in the `Agent` class make use of the `layer_init` function to implement ideas derived from [Engstrom, Ilyas, et al., (2020)](https://openreview.net/forum?id=r1etN1rtPB), and [Andrychowicz et al. (2021)](https://openreview.net/forum?id=nIAxjsniDzg). The former introduces the idea of orthogonal initialization of weights for tanh activation. In the latter paper, decision C57 shows that initializing the policy such that the action distribution is centered as zero gives better performance. This is done by initializing the `actor`'s output layer weights with 0.01 std. (see the final layer of `self.actor`)\n",
    "\n",
    "Note: observation and state mean the same in the context of this notebook"
   ]
  },
  {
   "cell_type": "code",
   "execution_count": 5,
   "id": "d0fff29a-690d-4dc8-bf2c-191243f98a2e",
   "metadata": {},
   "outputs": [],
   "source": [
    "def layer_init(layer, std=np.sqrt(2), bias_const=0.0):\n",
    "    torch.nn.init.orthogonal_(layer.weight, std)\n",
    "    torch.nn.init.constant_(layer.bias, bias_const)\n",
    "    return layer\n",
    "\n",
    "\n",
    "class Agent(nn.Module):\n",
    "    def __init__(self, envs):\n",
    "        super().__init__()\n",
    "        self.critic = nn.Sequential(\n",
    "            layer_init(nn.Linear(np.array(envs.single_observation_space.shape).prod(), 64)),\n",
    "            nn.Tanh(),\n",
    "            layer_init(nn.Linear(64, 64)),\n",
    "            nn.Tanh(),\n",
    "            layer_init(nn.Linear(64, 1), std=1.0),\n",
    "        )\n",
    "        self.actor = nn.Sequential(\n",
    "            layer_init(nn.Linear(np.array(envs.single_observation_space.shape).prod(), 64)),\n",
    "            nn.Tanh(),\n",
    "            layer_init(nn.Linear(64, 64)),\n",
    "            nn.Tanh(),\n",
    "            layer_init(nn.Linear(64, envs.single_action_space.n), std=0.01),\n",
    "        )\n",
    "\n",
    "    def get_value(self, x):\n",
    "        return self.critic(x)\n",
    "\n",
    "    def get_distribution(self, x):\n",
    "        logits = self.actor(x)\n",
    "        probs = Categorical(logits=logits)\n",
    "        return probs\n",
    "\n",
    "    def get_action(self, x, greedy=False):\n",
    "        distr = self.get_distribution(x)\n",
    "        action = distr.sample() if not greedy else distr.mode\n",
    "        return action\n",
    "\n",
    "    def get_action_and_value(self, x, action=None):\n",
    "        distr = self.get_distribution(x)\n",
    "        if action is None:\n",
    "            action = distr.sample()\n",
    "        return action, distr.log_prob(action), self.critic(x)"
   ]
  },
  {
   "cell_type": "markdown",
   "id": "08382f29-5bfb-4814-94ef-53d39db5cfea",
   "metadata": {
    "tags": []
   },
   "source": [
    "### Training Params & Agent Hyperparams\n",
    "\n",
    "The parameters and hyperparameters in this section are broadly categorized as below:\n",
    "1. Flags for logging: \n",
    "    - They are stored in the `exp` dict. \n",
    "    - This notebook uses tensorboard logging by deafult to log experiment metrics. These tb log files are saved in the directory `logs/<exp.exp_type>/<exp.run_name>/tb`. (to learn about `exp.exp_type` refer point 3. below)\n",
    "    - To enable logging of gym videos of the agent's interaction with the env set `exp.capture_video = True`\n",
    "    - Patch tensorboard logs and gym videos to Weigths & Biases (wandb) by setting `exp.enable_wandb_logging = True`\n",
    "2. Flags and parameters to generate average performance throughout training:\n",
    "    - Stored in the `exp` dict\n",
    "    - If `exp.eval_agent = True`, the performance of the agent during it's training is saved in the corresponding logs folder. You can later used this to compare the performance of your current agent with other agents during their training (in Section 1.5.2).\n",
    "    - Every `exp.eval_frequency` episodes the trained agent is evaluated using the `envs_eval` by playing out `exp.eval_count` episodes\n",
    "    - To speed up training set `exp.eval_agent = False` \n",
    "3. Create experiment hierarchy inside log folders:\n",
    "    - if `exp.exp_type` is None, experiment logs are saved to the root log directory `logs`, ie, `/logs/<exp.run_name>`, otherwise they are saved to the directory `logs/<exp.exp_type>/<exp._name>`\n",
    "4. Parameters and hyperparameters related to the algorithm:\n",
    "    - Stored in the `hypp` dict\n",
    "    - Quick reminder:  the `num_steps` key in the `hypp` dict is also a hyperparameter defined in Env & Rollout Buffer Init Section.\n",
    "\n",
    "Note: \n",
    "1. If Weigths and Biases (wandb) logging is enabled, when you run the \"Training The Agent\" cell, enter your wandb's api key when prompted. \n",
    "2. Training takes longer when either gym video recording or agent evaluation during training is enabled. To speed up training set both `exp.capture_video` and `exp.eval_agent` to `False`."
   ]
  },
  {
   "cell_type": "code",
   "execution_count": 6,
   "id": "72d426a0-fca1-4608-9ac7-31ceabd0b100",
   "metadata": {},
   "outputs": [],
   "source": [
    "# flags for logging purposes\n",
    "exp.enable_wandb_logging = True\n",
    "exp.capture_video = False  # disable to speed up training\n",
    "\n",
    "# flags to generate agent's average performance during training\n",
    "exp.eval_agent = True  # disable to speed up training\n",
    "exp.eval_count = 10\n",
    "exp.eval_frequency = 20\n",
    "exp.device = device.type\n",
    "\n",
    "# putting the run into the designated log folder for structuring\n",
    "exp.exp_type = None  # directory the run is saved to. Should be None or a string value\n",
    "\n",
    "# agent learning specific flags\n",
    "hypp.total_timesteps = 500000  # the training duration in number of time steps\n",
    "hypp.num_minibatches = 4  # number of minibatches for gradient updates\n",
    "hypp.update_epochs = 10  # only applies to critic updates in TRPO\n",
    "\n",
    "hypp.batch_size = int(exp.num_envs * hypp.num_steps)  # len of the rollout buffer\n",
    "hypp.minibatch_size = int(hypp.batch_size // hypp.num_minibatches)  # rollout buffer size / minibatch count\n",
    "\n",
    "hypp.learning_rate = 1e-3  # size of gradient update step\n",
    "hypp.anneal_lr = False  # when True reduces the learning rate as the training progresses\n",
    "hypp.gamma = 0.99  # discount factor over future rewards\n",
    "hypp.gae_lambda = 0.95  # factor for trade-off bias vs variance for Generalized Advantage Estimator\n",
    "hypp.norm_adv = True\n",
    "hypp.cg_max_steps = 10                   # maximum number of steps in the Conjugate Gradient algorithm for computing the Hessian vector product\n",
    "hypp.cg_damping = 0.1                    # damping in the Hessian vector product computation\n",
    "hypp.line_search_shrinking_factor = 0.8  # step-size reduction factor for the line-search (i.e., `theta_new = theta + shrinking_factor^i * step`)\n",
    "hypp.line_search_max_iter = 10           # maximum number of iteration for the backtracking line-search\n",
    "hypp.target_kl = 0.01  # the target KL divergence threshold for the policy"
   ]
  },
  {
   "cell_type": "markdown",
   "id": "d3493918-2c78-4ea4-bd28-391141dc0b83",
   "metadata": {
    "tags": []
   },
   "source": [
    "## Training the Agent\n",
    "Before we begin training the agent we first initalize the logging (based on the repsective flags in the `exp` dict), object of the `Agent` class and the optimizer, followed by an inital set of observations. \n",
    "\n",
    "After that comes the main training loop which is comprised of:  \n",
    "1. learning rate annealing, \n",
    "2. collecting trajectories, ie, filling the rollout buffer with the actor's interaction with the environment,\n",
    "3. computing the generalized advantage estimate $A^{\\pi_{\\theta_k}}$ and returns $G$ of the trajectories saved in the rollout buffer,\n",
    "4. Policy parameters update:\n",
    "    1. Computing the gradient of the surrogate objective wrt the policy parameters, ie, $g_k = \\nabla_{\\theta} L_{\\pi_{\\theta_{k}}}\\left(\\pi_\\theta\\right)|_{\\theta_{k}}$, where: \n",
    "    $$ L_{\\pi_{\\theta_{k}}}\\left(\\pi_\\theta\\right) = \\mathbb{E}_{s , a \\sim \\pi_{\\theta_{k}}} \\left[ \\frac{\\pi_\\theta(a|s)}{\\pi_{\\theta_{k}}(a|s)}A^{\\pi_{\\theta_k}}(s, a) \\right]$$\n",
    "    2. Computing the Hessian of KL Divergence (also called the Fisher Information Matrix) wrt to policy parameters, ie, $H_k ={\\nabla^2_\\theta} \\bar{D}_{KL}\\left(\\pi_{\\theta_{k}}, \\pi_{\\theta}\\right)$, where\n",
    "    $$\\bar{D}_{KL}\\left(\\pi_{\\theta_{k}}, \\pi_{\\theta}\\right) = \\mathbb{E}_{s \\sim \\pi_{\\theta_{k}}}\\left[D_{\\mathrm{KL}}\\left(\\pi_{\\theta_k}(\\cdot \\mid s) \\| \\pi_\\theta(\\cdot \\mid s)\\right)\\right]$$\n",
    "    3. Using the conjugate gradient algorithm to compute: $$ x_k \\approx H_k^{-1} g_k$$\n",
    "    4. Updating the policy by bracktracing line search with: $$\\theta_{k+1}=\\theta_k+\\alpha^j \\sqrt{\\frac{2 \\delta}{x_k^T H_k x_k}} x_k $$\n",
    "5. Critic network update:\n",
    "    1. Computing the value loss for critic network update, ie, $$L^{V}(s, \\theta) = \\left(V_{\\theta}(s)-G(s)\\right)^{2}$$\n",
    "    2. Perform gradient descent over the critic network `hypp.update_epochs` times wrt the value loss function $L^{V}$.\n",
    "    \n",
    "Post completion of the main training loop, we save a copy of the following in the directory `logs/<exp.exp_type>/<exp.run_name>`:\n",
    "1. `exp` and `hypp` dicts into a `.config` file \n",
    "2. `agent` (instance of `Agent` class) into a `.pt` file for later evaluation\n",
    "3. agent performance progress throughout training into a `.csv` file if `exp.eval_agent=True`\n",
    "\n",
    "\n",
    "Note: we have two vectorised gym environments, `envs` and `envs_eval` in the initalizations. `envs` is used to fill the rollout buffer with trajectories and `envs_eval` is used to evaluate the agent performance at different stages of training."
   ]
  },
  {
   "cell_type": "code",
   "execution_count": 7,
   "id": "4faadf6f-01ed-4318-8e21-fd41df1faa09",
   "metadata": {},
   "outputs": [
    {
     "name": "stderr",
     "output_type": "stream",
     "text": [
      "\u001b[34m\u001b[1mwandb\u001b[0m: Using wandb-core as the SDK backend. Please refer to https://wandb.me/wandb-core for more information.\n",
      "\u001b[34m\u001b[1mwandb\u001b[0m: Currently logged in as: \u001b[33mlukas-kesper98\u001b[0m. Use \u001b[1m`wandb login --relogin`\u001b[0m to force relogin\n"
     ]
    },
    {
     "data": {
      "text/html": [
       "Tracking run with wandb version 0.18.3"
      ],
      "text/plain": [
       "<IPython.core.display.HTML object>"
      ]
     },
     "metadata": {},
     "output_type": "display_data"
    },
    {
     "data": {
      "text/html": [
       "Run data is saved locally in <code>/Users/kesperlukas/Projects/RLLBC/deep_examples/logs/wandb/run-20241119_144926-e83hkvaj</code>"
      ],
      "text/plain": [
       "<IPython.core.display.HTML object>"
      ]
     },
     "metadata": {},
     "output_type": "display_data"
    },
    {
     "data": {
      "text/html": [
       "Syncing run <strong><a href='https://wandb.ai/lukas-kesper98/RLLBC_CartPole-v1/runs/e83hkvaj' target=\"_blank\">CartPole-v1__TRPO__2__241119_144925</a></strong> to <a href='https://wandb.ai/lukas-kesper98/RLLBC_CartPole-v1' target=\"_blank\">Weights & Biases</a> (<a href='https://wandb.me/run' target=\"_blank\">docs</a>)<br/>"
      ],
      "text/plain": [
       "<IPython.core.display.HTML object>"
      ]
     },
     "metadata": {},
     "output_type": "display_data"
    },
    {
     "data": {
      "text/html": [
       " View project at <a href='https://wandb.ai/lukas-kesper98/RLLBC_CartPole-v1' target=\"_blank\">https://wandb.ai/lukas-kesper98/RLLBC_CartPole-v1</a>"
      ],
      "text/plain": [
       "<IPython.core.display.HTML object>"
      ]
     },
     "metadata": {},
     "output_type": "display_data"
    },
    {
     "data": {
      "text/html": [
       " View run at <a href='https://wandb.ai/lukas-kesper98/RLLBC_CartPole-v1/runs/e83hkvaj' target=\"_blank\">https://wandb.ai/lukas-kesper98/RLLBC_CartPole-v1/runs/e83hkvaj</a>"
      ],
      "text/plain": [
       "<IPython.core.display.HTML object>"
      ]
     },
     "metadata": {},
     "output_type": "display_data"
    },
    {
     "data": {
      "application/vnd.jupyter.widget-view+json": {
       "model_id": "0e7da5f7df12450889b88f7e0823f528",
       "version_major": 2,
       "version_minor": 0
      },
      "text/plain": [
       "  0%|          | 0/976 [00:00<?, ?it/s]"
      ]
     },
     "metadata": {},
     "output_type": "display_data"
    },
    {
     "data": {
      "application/vnd.jupyter.widget-view+json": {
       "model_id": "",
       "version_major": 2,
       "version_minor": 0
      },
      "text/plain": [
       "VBox(children=(Label(value='0.005 MB of 0.005 MB uploaded\\r'), FloatProgress(value=1.0, max=1.0)))"
      ]
     },
     "metadata": {},
     "output_type": "display_data"
    },
    {
     "data": {
      "text/html": [
       " View run <strong style=\"color:#cdcd00\">CartPole-v1__TRPO__2__241119_144925</strong> at: <a href='https://wandb.ai/lukas-kesper98/RLLBC_CartPole-v1/runs/e83hkvaj' target=\"_blank\">https://wandb.ai/lukas-kesper98/RLLBC_CartPole-v1/runs/e83hkvaj</a><br/> View project at: <a href='https://wandb.ai/lukas-kesper98/RLLBC_CartPole-v1' target=\"_blank\">https://wandb.ai/lukas-kesper98/RLLBC_CartPole-v1</a><br/>Synced 5 W&B file(s), 0 media file(s), 0 artifact file(s) and 1 other file(s)"
      ],
      "text/plain": [
       "<IPython.core.display.HTML object>"
      ]
     },
     "metadata": {},
     "output_type": "display_data"
    }
   ],
   "source": [
    "# reinit run_name\n",
    "exp.run_name = f\"{exp.env_id}__{exp.exp_name}__{exp.seed}__{datetime.now().strftime('%y%m%d_%H%M%S')}\"\n",
    "\n",
    "# Init tensorboard logging and wandb logging\n",
    "writer = hf.setup_logging(wandb_prj_name, exp, hypp)\n",
    "\n",
    "# create two vectorized envs: one to fill the rollout buffer with trajectories, and\n",
    "# another to evaluate the agent performance at different stages of training  \n",
    "envs.close()\n",
    "envs = gym.vector.SyncVectorEnv([hf.make_env(exp.env_id, exp.seed + i) for i in range(exp.num_envs)])\n",
    "envs_eval = gym.vector.SyncVectorEnv([hf.make_env(exp.env_id, exp.seed + i) for i in range(exp.eval_count)])\n",
    "\n",
    "# init list to track agent's performance throughout training\n",
    "tracked_returns_over_training = []\n",
    "tracked_episode_len_over_training = []\n",
    "tracked_episode_count = []\n",
    "last_evaluated_episode = None  # stores the episode_step of when the agent's performance was last evaluated\n",
    "greedy_evaluation = False  # whether to perform the evaluation in a greedy way or not\n",
    "eval_max_return = -float('inf')\n",
    "\n",
    "# Create Agent class Instance and network optimizer\n",
    "agent = Agent(envs).to(device)\n",
    "optimizer = optim.Adam(agent.critic.parameters(), lr=hypp.learning_rate)\n",
    "\n",
    "# Init observation to start learning\n",
    "start_time = time.time()\n",
    "obs, _  = envs.reset()\n",
    "obs = torch.Tensor(obs).to(device)\n",
    "done = torch.zeros(exp.num_envs).to(device)\n",
    "num_updates = int(hypp.total_timesteps // hypp.batch_size)\n",
    "\n",
    "global_step = 0\n",
    "episode_step = 0\n",
    "gradient_step = 0\n",
    "\n",
    "pbar = notebook.tqdm(range(1, num_updates + 1))\n",
    "\n",
    "# training loop\n",
    "for update in pbar:\n",
    "    # Annealing the rate if instructed to do so.\n",
    "    if hypp.anneal_lr:\n",
    "        frac = 1.0 - (update - 1.0) / num_updates\n",
    "        lrnow = frac * hypp.learning_rate\n",
    "        optimizer.param_groups[0][\"lr\"] = lrnow\n",
    "\n",
    "    agent.eval()\n",
    "\n",
    "    # collect trajectories\n",
    "    for step in range(0, hypp.num_steps):\n",
    "        observations[step] = obs\n",
    "        dones[step] = done\n",
    "\n",
    "        # sample action and collect value from learned agent policy and value networks\n",
    "        with torch.no_grad():\n",
    "            action, logprob, value = agent.get_action_and_value(obs)\n",
    "            values[step] = value.flatten()\n",
    "        actions[step] = action\n",
    "        logprobs[step] = logprob\n",
    "\n",
    "        # execute the game and log data.\n",
    "        next_obs, reward, terminations, truncations, infos = envs.step(action.cpu().numpy())\n",
    "        done = np.logical_or(terminations, truncations)\n",
    "\n",
    "        for idx, trunc in enumerate(truncations):\n",
    "            agent.eval()\n",
    "            if trunc:\n",
    "                terminal_obs = torch.tensor(infos[\"final_observation\"][idx]).to(device)\n",
    "                with torch.no_grad():\n",
    "                    terminal_value = agent.get_value(terminal_obs)\n",
    "                reward[idx] += hypp.gamma * terminal_value\n",
    "        \n",
    "        if \"final_info\" in infos:\n",
    "            for info in infos[\"final_info\"]:\n",
    "                if info and \"episode\" in info:\n",
    "                    episode_step += 1\n",
    "                    pbar.set_description(f\"global_step={global_step}, episodic_return={info['episode']['r']}\")\n",
    "                    writer.add_scalar(\"rollout/episodic_return\", info[\"episode\"][\"r\"], global_step+idx)\n",
    "                    writer.add_scalar(\"rollout/episodic_length\", info[\"episode\"][\"l\"], global_step+idx)\n",
    "                    writer.add_scalar(\"Charts/episode_step\", episode_step, global_step)\n",
    "                    writer.add_scalar(\"Charts/gradient_step\", gradient_step, global_step)\n",
    "                    break\n",
    "\n",
    "        rewards[step] = torch.tensor(reward).to(device).view(-1)\n",
    "        next_obs, done = torch.Tensor(next_obs).to(device), torch.Tensor(done).to(device)\n",
    "\n",
    "        global_step += 1 * exp.num_envs\n",
    "        obs = next_obs\n",
    "\n",
    "        # generate average performance statistics of current learned agent\n",
    "        if exp.eval_agent and episode_step % exp.eval_frequency == 0 and last_evaluated_episode != episode_step:\n",
    "            last_evaluated_episode = episode_step\n",
    "            tracked_return, tracked_episode_len = hf.evaluate_agent(envs_eval, agent, exp.eval_count, exp.seed, greedy_actor=greedy_evaluation)\n",
    "            tracked_returns_over_training.append(tracked_return)\n",
    "            tracked_episode_len_over_training.append(tracked_episode_len)\n",
    "            tracked_episode_count.append([episode_step, global_step])\n",
    "\n",
    "            # if there has been improvment of the model -\n",
    "            if np.mean(tracked_return) > eval_max_return:\n",
    "                eval_max_return = np.mean(tracked_return)\n",
    "                # call helper function save_and_log_agent to save model, create video, log video to wandb\n",
    "                hf.save_and_log_agent(exp, envs, Agent, agent, episode_step, greedy=greedy_evaluation, print_path=False)\n",
    "\n",
    "    next_done = done\n",
    "    agent.train()\n",
    "\n",
    "    # compute generalised advantage estimate and returns\n",
    "    with torch.no_grad():\n",
    "        next_value = agent.get_value(next_obs).reshape(1, -1)\n",
    "        advantages = torch.zeros_like(rewards).to(device)\n",
    "        lastgaelam = 0\n",
    "        for t in reversed(range(hypp.num_steps)):\n",
    "            if t == hypp.num_steps - 1:\n",
    "                nextnonterminal = 1.0 - next_done\n",
    "                nextvalues = next_value\n",
    "            else:\n",
    "                nextnonterminal = 1.0 - dones[t + 1]\n",
    "                nextvalues = values[t + 1]\n",
    "            delta = rewards[t] + hypp.gamma * nextvalues * nextnonterminal - values[t]\n",
    "            advantages[t] = lastgaelam = delta + hypp.gamma * hypp.gae_lambda * nextnonterminal * lastgaelam\n",
    "        returns = advantages + values\n",
    "\n",
    "    # flatten the batch\n",
    "    b_observations = observations.reshape((-1,) + envs.single_observation_space.shape)\n",
    "    b_logprobs = logprobs.reshape(-1)\n",
    "    b_actions = actions.reshape((-1,) + envs.single_action_space.shape)\n",
    "    b_advantages = advantages.reshape(-1)\n",
    "    b_returns = returns.reshape(-1)\n",
    "    b_values = values.reshape(-1)\n",
    "\n",
    "    with torch.no_grad():\n",
    "        old_distribution = copy.copy(agent.get_distribution(b_observations))\n",
    "\n",
    "    distribution = agent.get_distribution(b_observations)\n",
    "    log_prob = distribution.log_prob(b_actions)\n",
    "\n",
    "    if hypp.norm_adv:\n",
    "        b_advantages = (b_advantages - b_advantages.mean()) / (b_advantages.std() + 1e-8)\n",
    "\n",
    "    # ratio between old and new policy, should be one at the start of each iteration\n",
    "    ratio = torch.exp(log_prob - b_logprobs)\n",
    "\n",
    "    # compute the surrogate advantage\n",
    "    policy_objective = (b_advantages * ratio).mean()\n",
    "\n",
    "    # KL Divergence\n",
    "    kl_div = kl_divergence(distribution, old_distribution).mean()\n",
    "\n",
    "    # Compute the gradient of the surroagate advantage and the kl divergence wrt to the policy network parameters\n",
    "    optimizer.zero_grad()\n",
    "    actor_params, policy_objective_gradients, grad_kl, grad_shape = compute_policy_grad(agent.actor, kl_div,\n",
    "                                                                                        policy_objective)\n",
    "\n",
    "    # Compute search_direction, ie ${H^-1}.{g}$, using the conjugate gradient method\n",
    "    hessian_vector_product_fn = partial(hessian_vector_product, actor_params, grad_kl, hypp.cg_damping)\n",
    "\n",
    "    search_direction = conjugate_gradient_solver(\n",
    "        hessian_vector_product_fn,\n",
    "        policy_objective_gradients,\n",
    "        max_iter=hypp.cg_max_steps\n",
    "    )\n",
    "\n",
    "    line_search_max_step_size = 2 * hypp.target_kl\n",
    "    line_search_max_step_size /= torch.matmul(\n",
    "        search_direction, hessian_vector_product_fn(search_direction, retain_graph=False)\n",
    "    )\n",
    "    line_search_max_step_size = torch.sqrt(line_search_max_step_size)\n",
    "\n",
    "    line_search_backtrack_coeff = 1.0\n",
    "    original_actor_params = [param.detach().clone() for param in actor_params]\n",
    "\n",
    "    policy_objective_values = []  # average value of the surrogate advantage\n",
    "    kl_divergences = []  # average KL-divergence between policies across states visited by the old policy\n",
    "\n",
    "    is_line_search_success = False\n",
    "    with torch.no_grad():\n",
    "        # update policy parameters by backtracking line-search\n",
    "        for _ in range(hypp.line_search_max_iter):\n",
    "\n",
    "            start_idx = 0\n",
    "            # Applying the scaled step direction\n",
    "            for param, original_param, shape in zip(actor_params, original_actor_params, grad_shape):\n",
    "                n_params = param.numel()\n",
    "                param.data = (\n",
    "                        original_param.data\n",
    "                        + line_search_backtrack_coeff\n",
    "                        * line_search_max_step_size\n",
    "                        * search_direction[start_idx: (start_idx + n_params)].view(shape)\n",
    "                )\n",
    "                start_idx += n_params\n",
    "\n",
    "            # Recomputing the policy log-probabilities\n",
    "            distribution = agent.get_distribution(b_observations)\n",
    "            log_prob = distribution.log_prob(b_actions)\n",
    "\n",
    "            # New policy objective\n",
    "            ratio = torch.exp(log_prob - b_logprobs)\n",
    "            new_policy_objective = (b_advantages * ratio).mean()\n",
    "\n",
    "            # New KL-divergence\n",
    "            kl_div = kl_divergence(distribution, old_distribution).mean()\n",
    "\n",
    "            # Constraint criteria:\n",
    "            # we need to improve the surrogate policy objective\n",
    "            # while being close enough (in terms of kl div) to the old policy\n",
    "            if (kl_div < hypp.target_kl) and (new_policy_objective > policy_objective):\n",
    "                is_line_search_success = True\n",
    "                break\n",
    "\n",
    "            # Reducing step size if line-search wasn't successful\n",
    "            line_search_backtrack_coeff *= hypp.line_search_shrinking_factor\n",
    "\n",
    "        if not is_line_search_success:\n",
    "            # If the line-search wasn't successful we revert to the original parameters\n",
    "            for param, original_param in zip(actor_params, original_actor_params):\n",
    "                param.data = original_param.data.clone()\n",
    "\n",
    "            policy_objective_values = policy_objective.item()\n",
    "            kl_divergences = 0\n",
    "        else:\n",
    "            policy_objective_values = new_policy_objective.item()\n",
    "            kl_divergences = kl_div.item()\n",
    "\n",
    "    b_inds = np.arange(hypp.batch_size)\n",
    "\n",
    "    value_losses = []\n",
    "\n",
    "    # update the critic network\n",
    "    for i in range(hypp.update_epochs):\n",
    "        np.random.shuffle(b_inds)\n",
    "        for start in range(0, hypp.batch_size, hypp.minibatch_size):\n",
    "            end = start + hypp.minibatch_size\n",
    "            mb_inds = b_inds[start:end]\n",
    "\n",
    "            newvals = agent.get_value(b_observations[mb_inds])\n",
    "            newvals = newvals.view(-1)\n",
    "\n",
    "            v_loss = 0.5 * ((newvals - b_returns[mb_inds]) ** 2).mean()\n",
    "\n",
    "            optimizer.zero_grad()\n",
    "            v_loss.backward()\n",
    "            optimizer.step()\n",
    "\n",
    "            value_losses.append(v_loss.item())\n",
    "            gradient_step += 1\n",
    "\n",
    "    y_pred, y_true = b_values.cpu().numpy(), b_returns.cpu().numpy()\n",
    "    var_y = np.var(y_true)\n",
    "    explained_var = np.nan if var_y == 0 else 1 - np.var(y_true - y_pred) / var_y\n",
    "\n",
    "    # log losses to tensorboard summary writer\n",
    "    writer.add_scalar(\"hyperparameters/learning_rate\", optimizer.param_groups[0][\"lr\"], global_step)\n",
    "    writer.add_scalar(\"train/value_loss\", np.mean(value_losses), global_step)\n",
    "    writer.add_scalar(\"train/kl_divergence\", kl_divergences, global_step)\n",
    "    writer.add_scalar(\"train/explained_variance\", explained_var, global_step)\n",
    "    writer.add_scalar(\"train/is_line_search_success\", int(is_line_search_success), global_step)\n",
    "    writer.add_scalar(\"train/surrogate_objective\", policy_objective_values, global_step)\n",
    "    writer.add_scalar(\"Charts/episode_step\", episode_step, global_step)\n",
    "    writer.add_scalar(\"Charts/gradient_step\", gradient_step, global_step)\n",
    "\n",
    "# one last evaluation stage\n",
    "if exp.eval_agent:\n",
    "    last_evaluated_episode = episode_step\n",
    "    tracked_return, tracked_episode_len = hf.evaluate_agent(envs_eval, agent, exp.eval_count, exp.seed, greedy_actor=greedy_evaluation)\n",
    "    tracked_returns_over_training.append(tracked_return)\n",
    "    tracked_episode_len_over_training.append(tracked_episode_len)\n",
    "    tracked_episode_count.append([episode_step, global_step])\n",
    "\n",
    "    # if there has been improvment of the model -\n",
    "    if np.mean(tracked_return) > eval_max_return:\n",
    "        eval_max_return = np.mean(tracked_return)\n",
    "        # call helper function save_and_log_agent to save model, create video, log video to wandb\n",
    "        hf.save_and_log_agent(exp, envs, Agent, agent, episode_step, greedy=greedy_evaluation, print_path=True)\n",
    "\n",
    "    hf.save_tracked_values(tracked_returns_over_training, tracked_episode_len_over_training, tracked_episode_count, exp.eval_count, exp.run_name, exp.exp_type)\n",
    "\n",
    "envs.close()\n",
    "envs_eval.close()\n",
    "writer.close()\n",
    "if wandb.run is not None:\n",
    "    wandb.finish(quiet=True)\n",
    "    wandb.init(mode=\"disabled\")\n",
    "\n",
    "hf.save_train_config_to_yaml(exp, hypp)"
   ]
  },
  {
   "cell_type": "markdown",
   "id": "74e2408a-aeea-4c1f-800c-5067bdd305e4",
   "metadata": {
    "tags": []
   },
   "source": [
    "## Compare Trained Agents and Display Behaviour"
   ]
  },
  {
   "cell_type": "markdown",
   "id": "4b0f1482-cf6b-4a95-b64a-c0d8e8626a30",
   "metadata": {
    "tags": []
   },
   "source": [
    "### Display Trained Agent Behaviour\n",
    "\n",
    "Set `agent_name` and `agent_exp_type` to load the saved agent model in the respective log folder and generate a video of the agent's interaction with the gym environment. After the cell is executed, you should see a video embedding as output, and the video is also available in the following directory: `/logs/<exp.exp_type>/<exp.run_name>/videos` "
   ]
  },
  {
   "cell_type": "code",
   "execution_count": 8,
   "id": "7419ed1c-cfb3-4e86-be95-e418a3ffe51d",
   "metadata": {},
   "outputs": [
    {
     "data": {
      "text/html": [
       "<video loop autoplay  >\n",
       " <source src=\"data:video/mp4;base64,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\" type=\"video/mp4\">\n",
       " Your browser does not support the video tag.\n",
       " </video>"
      ],
      "text/plain": [
       "<IPython.core.display.Video object>"
      ]
     },
     "execution_count": 8,
     "metadata": {},
     "output_type": "execute_result"
    }
   ],
   "source": [
    "agent_name = exp.run_name\n",
    "agent_exp_type = exp.exp_type  # both are needed to identify the agent location\n",
    "\n",
    "\n",
    "exp_folder = \"\" if agent_exp_type is None else agent_exp_type\n",
    "filepath, _ = hf.create_folder_relative(f\"{exp_folder}/{agent_name}/videos\")\n",
    "\n",
    "hf.record_video(exp.env_id, envs, Agent, agent_name, f\"{filepath}/best.mp4\", exp_type=agent_exp_type, greedy=True)\n",
    "Video(data=f\"{filepath}/best.mp4\", html_attributes='loop autoplay', embed=True)"
   ]
  },
  {
   "cell_type": "markdown",
   "id": "015ae10e-2713-4f25-a07f-b925d01c4461",
   "metadata": {
    "tags": []
   },
   "source": [
    "### Compare Performance of Agents During Training\n",
    "\n",
    "During the training loop, if `exp.eval_agent = True`, the performance progress of the agent during its training is saved as a csv file. To compare the saved progress of different agents, create a `dict` containing the parent folder's name of each of the csv files and use the helper function `plotter_agents_training_stats`.\n",
    "\n",
    "To load the data, you can either set `eval_params.run_name00 = exp.run_name` (if only a `tracked_performance_training.csv` file for the corresponding `exp.run_name` exists) or manually enter the folder name containing the csv file. \n",
    "\n",
    "If the agent performance you want to load is inside an exp_type folder, set `eval_params.exp_type00` to experiment type, and if not, set it to `None`. \n",
    "\n",
    "You can add more than one experiment by initializing dict keys and values of the format `eval_params.run_namexx` and `eval_params.exp_typexx`."
   ]
  },
  {
   "cell_type": "code",
   "execution_count": 9,
   "id": "1ffead0b-a7a3-4062-8c93-5b209c63e43e",
   "metadata": {
    "tags": []
   },
   "outputs": [
    {
     "data": {
      "image/png": "[encoded data removed]",
      "text/plain": [
       "<Figure size 1400x300 with 2 Axes>"
      ]
     },
     "metadata": {},
     "output_type": "display_data"
    }
   ],
   "source": [
    "eval_params = edict()  # eval_params - evaluation settings for trained agent\n",
    "\n",
    "eval_params.run_name00 = exp.run_name\n",
    "eval_params.exp_type00 = exp.exp_type\n",
    "\n",
    "# eval_params.run_name01 = \"CartPole-v1__PPO__1__230323_224300\"\n",
    "# eval_params.exp_type01 = None \n",
    "\n",
    "# eval_params.run_name02 = \"CartPole-v1__PPO__1__230302_221245\"\n",
    "# eval_params.exp_type02 = None\n",
    "\n",
    "agent_labels = []\n",
    "\n",
    "episode_axis_limit = None\n",
    "\n",
    "hf.plotter_agents_training_stats(eval_params, agent_labels, episode_axis_limit, plot_returns=True, plot_episode_len=True)"
   ]
  },
  {
   "cell_type": "markdown",
   "id": "dc26b1fa-7c14-4bc0-8183-e59450f5d021",
   "metadata": {
    "tags": []
   },
   "source": [
    "## TensorBoard Inline"
   ]
  },
  {
   "cell_type": "code",
   "execution_count": 10,
   "id": "8abce1b0-018f-4761-954d-8015bbda779b",
   "metadata": {
    "tags": []
   },
   "outputs": [],
   "source": [
    "# %load_ext tensorboard\n",
    "# %tensorboard --logdir logs --host localhost"
   ]
  }
 ],
 "metadata": {
  "kernelspec": {
   "display_name": "Python 3 (ipykernel)",
   "language": "python",
   "name": "python3"
  },
  "language_info": {
   "codemirror_mode": {
    "name": "ipython",
    "version": 3
   },
   "file_extension": ".py",
   "mimetype": "text/x-python",
   "name": "python",
   "nbconvert_exporter": "python",
   "pygments_lexer": "ipython3",
   "version": "3.10.8"
  },
  "toc-autonumbering": true,
  "widgets": {
   "application/vnd.jupyter.widget-state+json": {
    "state": {},
    "version_major": 2,
    "version_minor": 0
   }
  }
 },
 "nbformat": 4,
 "nbformat_minor": 5
}
