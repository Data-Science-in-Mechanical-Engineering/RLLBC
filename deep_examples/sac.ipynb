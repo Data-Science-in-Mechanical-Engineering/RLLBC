{
 "cells": [
  {
   "cell_type": "markdown",
   "id": "1a4f1407-ebe7-4afd-8e96-47877badf739",
   "metadata": {
    "tags": []
   },
   "source": [
    "![DSME-logo](./static/DSME_logo.png)\n",
    "\n",
    "#  Reinforcement Learning and Learning-based Control\n",
    "\n",
    "<p style=\"font-size:12pt\";> \n",
    "<b> Prof. Dr. Sebastian Trimpe, Dr. Friedrich Solowjow </b><br>\n",
    "<b> Institute for Data Science in Mechanical Engineering (DSME) </b><br>\n",
    "<a href = \"mailto:rllbc@dsme.rwth-aachen.de\">rllbc@dsme.rwth-aachen.de</a><br>\n",
    "</p>\n",
    "\n",
    "---\n",
    "Authors: Jyotirmaya Patra, Ramil Sabirov\n",
    "\n",
    "Adapted from: [CleanRL](https://github.com/vwxyzjn/cleanrl)\n",
    "\n",
    "Orignal Paper: [Soft Actor-Critic: Off-Policy Maximum Entropy Deep Reinforcement Learning with a Stochastic Actor\n",
    "](https://arxiv.org/abs/1801.01290#)\n",
    "\n",
    "Variation of the Orignal Paper on which the notebook is based: [Soft Actor-Critic Algorithms and Applications\n",
    "](https://arxiv.org/abs/1812.05905)\n",
    "\n",
    "Additional References:\n",
    "1. Generalised Advantage Estimate:\n",
    "    * [High-Dimensional Continuous Control Using Generalized Advantage Estimation](https://arxiv.org/abs/1506.02438)\n",
    "2. OpenAI SpinningUp:\n",
    "    * [Soft Actor-Critic](https://spinningup.openai.com/en/latest/algorithms/sac.html)\n"
   ]
  },
  {
   "cell_type": "markdown",
   "id": "19efbe47-50d4-41ca-a03d-1994d4751eb5",
   "metadata": {
    "tags": []
   },
   "source": [
    "## Library Imports"
   ]
  },
  {
   "cell_type": "code",
   "execution_count": 1,
   "id": "87fb41e0-6fe7-4210-b784-63049e1cac36",
   "metadata": {
    "ExecuteTime": {
     "end_time": "2025-04-24T11:14:48.565803Z",
     "start_time": "2025-04-24T11:14:07.084416Z"
    }
   },
   "outputs": [],
   "source": [
    "import warnings\n",
    "warnings.filterwarnings(\"ignore\", category=DeprecationWarning)\n",
    "warnings.filterwarnings(\"ignore\", category=UserWarning)\n",
    "\n",
    "import os\n",
    "import time\n",
    "import random\n",
    "from datetime import datetime\n",
    "\n",
    "import numpy as np\n",
    "import matplotlib.pyplot as plt\n",
    "from tqdm import notebook\n",
    "from easydict import EasyDict as edict\n",
    "from IPython.display import Video\n",
    "\n",
    "import utils.helper_fns as hf\n",
    "\n",
    "import gymnasium as gym\n",
    "import wandb\n",
    "import torch\n",
    "import torch.nn as nn\n",
    "import torch.nn.functional as F\n",
    "import torch.optim as optim\n",
    "from stable_baselines3.common.buffers import ReplayBuffer\n",
    "\n",
    "\n",
    "\n",
    "os.environ['SDL_VIDEODRIVER'] = 'dummy'\n",
    "os.environ['WANDB_NOTEBOOK_NAME'] = 'sac.ipynb'\n",
    "\n",
    "plt.rcParams['figure.dpi'] = 100\n",
    "device = torch.device(\"cuda\" if torch.cuda.is_available() else \"cpu\")\n",
    "\n",
    "%load_ext autoreload\n",
    "%autoreload 2"
   ]
  },
  {
   "cell_type": "markdown",
   "id": "80de5b92-f042-4dbb-9b78-56f094553a21",
   "metadata": {
    "tags": []
   },
   "source": [
    "## Initializations"
   ]
  },
  {
   "cell_type": "markdown",
   "id": "e86412c6-d16f-4f3c-b03a-540715d0146a",
   "metadata": {
    "tags": []
   },
   "source": [
    "### Experiment\n",
    "\n",
    "We primarily use dictionaries for initializing experiment parameters and training hyperparameters. We use the `EasyDict` (imported as `edict`) library, which allows us to access dict values as attributes while retaining the operations and properties of the original python `dict`! [[Github Link](https://github.com/makinacorpus/easydict)]\n",
    "\n",
    "In this notebook we use a few `edicts` with `exp` being one of them. It is initialized in the following cell and has keys and values containing information about the experiment being run. Although initialized in this section, we keep adding new keys and values to the dict in the later sections as well.  \n",
    "\n",
    "This notebook supports continuous gymnasium environments with observation space of type `gym.spaces.Box` and action space of type `gym.spaces.Box`. Eg: Pendulum-v1, MountainCarContinuous-v0, BipedalWalker-v3, LunarLanderContinuous-v2"
   ]
  },
  {
   "cell_type": "code",
   "execution_count": 2,
   "id": "86354c3c-479d-467e-a9ee-f277e602292f",
   "metadata": {
    "ExecuteTime": {
     "end_time": "2025-04-24T11:14:50.308631Z",
     "start_time": "2025-04-24T11:14:48.640529Z"
    }
   },
   "outputs": [],
   "source": [
    "exp = edict()\n",
    "\n",
    "exp.exp_name = 'SAC'  # algorithm name, in this case it should be 'SAC'\n",
    "exp.env_id = 'Pendulum-v1'  # name of the gymnasium environment to be used in this experiment. Eg: Pendulum-v1, BipedalWalker-v3\n",
    "exp.device = device.type  # save the device type used to load tensors and perform tensor operations\n",
    "\n",
    "exp.random_seed = True  # set random seed for reproducibility of python, numpy and torch\n",
    "exp.seed = 1\n",
    "\n",
    "# name of the project in Weights & Biases (wandb) to which logs are patched. (only if wandb logging is enabled)\n",
    "# if the project does not exist in wandb, it will be created automatically\n",
    "wandb_prj_name = f\"RLLBC_{exp.env_id}\"\n",
    "\n",
    "# name prefix of output files generated by the notebook\n",
    "exp.run_name = f\"{exp.env_id}__{exp.exp_name}__{exp.seed}__{datetime.now().strftime('%y%m%d_%H%M%S')}\"\n",
    "\n",
    "if exp.random_seed:\n",
    "    random.seed(exp.seed)\n",
    "    np.random.seed(exp.seed)\n",
    "    torch.manual_seed(exp.seed)\n",
    "    torch.backends.cudnn.deterministic = exp.random_seed"
   ]
  },
  {
   "cell_type": "markdown",
   "id": "80be4f89-0b03-4166-9a68-e9b3b8f0de29",
   "metadata": {
    "tags": []
   },
   "source": [
    "### Agent Model Class\n",
    "\n",
    "\n",
    "The `Agent` class consists of two different architectures of neural networks: a network architecture for the actor (`ActorNetwork`) and a network architecture for the Q-values (`QNetwork`). The Q-network takes state and action as input and evaluates to a scalar value that approximates the expected return until the end of the episode. The actor network takes the state as input and evaluates to a (multidimensional) gaussian distribution by specifying mean and (logarithm of) standard deviation. The logarithm of the standard deviation is bounded by a specified interval. Just as in [TD3](https://arxiv.org/abs/1802.09477), to counteract the overestimation of Q-values, SAC uses two Q-networks instead of one.\n",
    "\n",
    "The `Agent` class uses target networks to stabilize the learning process. In particular, it holds a target network for both Q-networks. The class provides methods to query the four different Q-networks, i.e. `get_q1_value`, `get_target_q1_value`, `get_q2_value`, and `get_target_q2_value`. The class also provides methods to query the actor network: `get_action` samples an action for a state according to the computed gaussian distribution and `get_action_and_logprob` additionally outputs the logarithm of the gaussian for the sampled action as well as the mean action. The sampled action is always first transformed to $[-1,1]$ by a hyperbolic tangent before it is scaled to the desired action space range.\n",
    "\n",
    "Note that the target networks will not be subject to the optimizer, meaning they will not be modified through gradient steps. Instead, the `Agent` class provides the function `track_networks` to make the parameters of the target networks slowly track the parameters of the learned networks by the linear combination $\\theta^t \\leftarrow \\tau\\theta + (1-\\tau)\\theta^t$ with $\\tau \\ll 1$."
   ]
  },
  {
   "cell_type": "code",
   "execution_count": 3,
   "id": "7f9cdf50-c151-4f11-aff4-071449a9d863",
   "metadata": {
    "ExecuteTime": {
     "end_time": "2025-04-24T11:14:53.131909Z",
     "start_time": "2025-04-24T11:14:51.095235Z"
    }
   },
   "outputs": [],
   "source": [
    "class Critic(nn.Module):\n",
    "    def __init__(self, env):\n",
    "        super().__init__()\n",
    "\n",
    "        self.fc1 = nn.Linear(np.array(env.single_observation_space.shape).prod() + np.prod(env.single_action_space.shape, dtype=int), 64)\n",
    "        self.fc2 = nn.Linear(64, 64)\n",
    "        self.fc3 = nn.Linear(64, 1)\n",
    "\n",
    "    def forward(self, x, a):\n",
    "        x = torch.cat([x, a], 1)\n",
    "        x = F.relu(self.fc1(x))\n",
    "        x = F.relu(self.fc2(x))\n",
    "        x = self.fc3(x)\n",
    "        return x\n",
    "\n",
    "\n",
    "class Actor(nn.Module):\n",
    "    def __init__(self, env):\n",
    "        super().__init__()\n",
    "\n",
    "        self.LOG_STD_MAX = 2\n",
    "        self.LOG_STD_MIN = -5\n",
    "\n",
    "        self.fc1 = nn.Linear(np.array(env.single_observation_space.shape).prod(), 64)\n",
    "        self.fc2 = nn.Linear(64, 64)\n",
    "        self.act = F.relu\n",
    "        self.fc_mean = nn.Linear(64, np.prod(env.single_action_space.shape, dtype=int))\n",
    "        self.fc_logstd = nn.Linear(64, np.prod(env.single_action_space.shape, dtype=int))\n",
    "\n",
    "        # action rescaling\n",
    "        self.register_buffer(\n",
    "            \"action_scale\", torch.tensor((env.action_space.high - env.action_space.low) / 2.0, dtype=torch.float32)\n",
    "        )\n",
    "        self.register_buffer(\n",
    "            \"action_bias\", torch.tensor((env.action_space.high + env.action_space.low) / 2.0, dtype=torch.float32)\n",
    "        )\n",
    "\n",
    "    def forward(self, x):\n",
    "        x = self.act(self.fc1(x))\n",
    "        x = self.act(self.fc2(x))\n",
    "        mean = self.fc_mean(x)\n",
    "        log_std = self.fc_logstd(x)\n",
    "        log_std = torch.tanh(log_std)\n",
    "        log_std = self.LOG_STD_MIN + 0.5 * (self.LOG_STD_MAX - self.LOG_STD_MIN) * (log_std + 1)  # From SpinUp / Denis Yarats\n",
    "\n",
    "        return mean, log_std"
   ]
  },
  {
   "cell_type": "code",
   "execution_count": 4,
   "id": "a5ab7544-6785-4663-813f-583b3ba2d1d5",
   "metadata": {
    "ExecuteTime": {
     "end_time": "2025-04-24T11:14:55.138010Z",
     "start_time": "2025-04-24T11:14:53.209657Z"
    }
   },
   "outputs": [],
   "source": [
    "class Agent(nn.Module):\n",
    "    def __init__(self, env):\n",
    "        super().__init__()\n",
    "        self.q1_net = Critic(env)\n",
    "        self.q2_net = Critic(env)\n",
    "        self.target_q1_net = Critic(env)\n",
    "        self.target_q2_net = Critic(env)\n",
    "        self.actor_net = Actor(env)\n",
    "\n",
    "        self.target_q1_net.load_state_dict(self.q1_net.state_dict())\n",
    "        self.target_q2_net.load_state_dict(self.q2_net.state_dict())\n",
    "\n",
    "    def get_q1_value(self, x, a):\n",
    "        return self.q1_net(x, a)\n",
    "\n",
    "    def get_q2_value(self, x, a):\n",
    "        return self.q2_net(x, a)\n",
    "\n",
    "    def get_target_q1_value(self, x, a):\n",
    "        return self.target_q1_net(x, a)\n",
    "\n",
    "    def get_target_q2_value(self, x, a):\n",
    "        return self.target_q2_net(x, a)\n",
    "\n",
    "    def get_action(self, x, greedy=False):\n",
    "        mean, log_std = self.actor_net(x)\n",
    "        std = log_std.exp()\n",
    "        normal = torch.distributions.Normal(mean, std)\n",
    "        if not greedy:\n",
    "            x_t = normal.rsample()  # for reparameterization trick (mean + std * N(0,1))\n",
    "        else:\n",
    "            x_t = mean  # greedy action\n",
    "        y_t = torch.tanh(x_t)\n",
    "        action = y_t * self.actor_net.action_scale + self.actor_net.action_bias\n",
    "\n",
    "        return action\n",
    "\n",
    "    def get_action_and_logprob(self, x):\n",
    "        mean, log_std = self.actor_net(x)\n",
    "        std = log_std.exp()\n",
    "        normal = torch.distributions.Normal(mean, std)\n",
    "        x_t = normal.rsample()  # for reparameterization trick (mean + std * N(0,1))\n",
    "        y_t = torch.tanh(x_t)\n",
    "        action = y_t * self.actor_net.action_scale + self.actor_net.action_bias\n",
    "        log_prob = normal.log_prob(x_t)\n",
    "        # Enforcing Action Bound\n",
    "        log_prob -= torch.log(self.actor_net.action_scale * (1 - y_t.pow(2)) + 1e-6)\n",
    "        log_prob = log_prob.sum(1, keepdim=True)\n",
    "        mean = torch.tanh(mean) * self.actor_net.action_scale + self.actor_net.action_bias\n",
    "        return action, log_prob, mean\n",
    "\n",
    "    def update_target_networks(self, tau):\n",
    "        for param, target_param in zip(self.q1_net.parameters(), self.target_q1_net.parameters()):\n",
    "            target_param.data.copy_(tau * param.data + (1 - tau) * target_param.data)\n",
    "        for param, target_param in zip(self.q2_net.parameters(), self.target_q2_net.parameters()):\n",
    "            target_param.data.copy_(tau * param.data + (1 - tau) * target_param.data)"
   ]
  },
  {
   "cell_type": "markdown",
   "id": "4fa01160-2779-4ced-b3b6-fef310652fe9",
   "metadata": {},
   "source": [
    "### Training Params & Agent Hyperparams\n",
    "\n",
    "The second dictionary we use, `hypp`, is initialized in the following cell. It has keys and values containing the hyperparameters necessary to the algorithm.\n",
    "\n",
    "The parameters and hyperparameters in this section are broadly categorized as below:\n",
    "1. Flags for logging: \n",
    "    - They are stored in the `exp` dict. \n",
    "    - This notebook uses tensorboard logging by deafult to log experiment metrics. These tb log files are saved in the directory `logs/<exp.exp_type>/<exp.run_name>/tb`. (to learn about `exp.exp_type` refer point 3. below)\n",
    "    - To enable logging of gymnasium videos of the agent's interaction with the env set `exp.capture_video = True`\n",
    "    - Patch tensorboard logs and gymnasium videos to Weigths & Biases (wandb) by setting `exp.enable_wandb_logging = True`\n",
    "2. Flags and parameters to generate average performance throughout training:\n",
    "    - Stored in the `exp` dict\n",
    "    - If `exp.eval_agent = True`, the performance of the agent during it's training is saved in the corresponding logs folder. You can later used this to compare the performance of your current agent with other agents during their training (in Section 1.5.2).\n",
    "    - Every `exp.eval_frequency` episodes the trained agent is evaluated using the `envs_eval` by playing out `exp.eval_count` episodes\n",
    "    - To speed up training set `exp.eval_agent = False` \n",
    "3. Create experiment hierarchy inside log folders:\n",
    "    - if `exp.exp_type` is None, experiment logs are saved to the root log directory `logs`, ie, `/logs/<exp.run_name>`, otherwise they are saved to the directory `logs/<exp.exp_type>/<exp._name>`\n",
    "4. Parameters and hyperparameters related to the algorithm:\n",
    "    - Stored in the `hypp` dict\n",
    "    - Quick reminder:  the `num_steps` key in the `hypp` dict is also a hyperparameter defined in Env & Rollout Buffer Init Section.\n",
    "\n",
    "Note: \n",
    "1. If Weigths and Biases (wandb) logging is enabled, when you run the \"Training The Agent\" cell, enter your wandb's api key when prompted. \n",
    "2. Training takes longer when either gymnasium video recording or agent evaluation during training is enabled. To speed up training set both `exp.capture_video` and `exp.eval_agent` to `False`."
   ]
  },
  {
   "cell_type": "code",
   "execution_count": 5,
   "id": "6fc74697-2586-40cc-b626-5e460ae92705",
   "metadata": {
    "ExecuteTime": {
     "end_time": "2025-04-24T11:14:57.023882Z",
     "start_time": "2025-04-24T11:14:55.185575Z"
    }
   },
   "outputs": [],
   "source": [
    "hypp = edict()\n",
    "\n",
    "# env count\n",
    "exp.num_envs = 1  # currently replaybuffer from SB3 supports only single environment\n",
    "\n",
    "# flags for logging purposes\n",
    "exp.enable_wandb_logging = True\n",
    "exp.capture_video = True  # disable to speed up training\n",
    "\n",
    "# flags to generate agent's average performance during training\n",
    "exp.eval_agent = True  # disable to speed up training\n",
    "exp.eval_count = 10\n",
    "exp.eval_frequency = 20\n",
    "exp.device = device.type\n",
    "\n",
    "# putting the run into the designated log folder for structuring\n",
    "exp.exp_type = None  # directory the run is saved to. Should be None or a string value\n",
    "\n",
    "# agent training specific parameters and hyperparameters\n",
    "hypp.total_timesteps = 100000  # the training duration in number of time steps\n",
    "hypp.learning_starts = 5000  # timestep after which gradient descent updates begins\n",
    "hypp.buffer_size = 10000  # size of replay buffer\n",
    "hypp.batch_size = 256  # number of minibatches for gradient updates\n",
    "\n",
    "hypp.gamma = 0.99  # discount factor over future rewards\n",
    "hypp.tau = 0.005  # smoothing coefficient for target q neworks parameters\n",
    "hypp.exploration_noise = 0.1  # the scale of exploration noise\n",
    "hypp.policy_lr = 3e-4  # learning rate of the policy network optimizer\n",
    "hypp.q_lr = 1e-3  # learning rate of the Q network network optimizer\n",
    "hypp.policy_frequency = 2  # frequency of training policy (delayed)\n",
    "hypp.target_network_frequency = 1  # frequency of updates for the target networks\n",
    "hypp.alpha = 0.2  # Entropy regularization coefficient\n",
    "hypp.autotune = True  # automatic tuning of the entropy coefficient"
   ]
  },
  {
   "cell_type": "markdown",
   "id": "963a3272-c548-415e-8423-ed3a6277c43e",
   "metadata": {},
   "source": [
    "### Replay Buffer\n",
    "\n",
    "In the following cell the **replay buffer** is initialised. It is used in 2 ways:\n",
    "- It **stores transitions** the agent took in the environment in the past (i.e. (state, action, next_state, reward, done?) tuples)\n",
    "- It is possible to **sample a batch** of transitions from the replay buffer. The batch is used to perform a gradient step on for training."
   ]
  },
  {
   "cell_type": "code",
   "execution_count": 6,
   "id": "125c0614-13d0-44f6-a788-0b16efef30d8",
   "metadata": {
    "ExecuteTime": {
     "end_time": "2025-04-24T11:14:59.316566Z",
     "start_time": "2025-04-24T11:14:57.107535Z"
    }
   },
   "outputs": [],
   "source": [
    "envs = gym.vector.SyncVectorEnv([hf.make_env(exp.env_id, exp.seed + i) for i in range(exp.num_envs)])\n",
    "\n",
    "rb = ReplayBuffer(\n",
    "    int(hypp.buffer_size),\n",
    "    envs.single_observation_space,\n",
    "    envs.single_action_space,\n",
    "    device,\n",
    "    handle_timeout_termination=False,\n",
    ")"
   ]
  },
  {
   "cell_type": "markdown",
   "id": "4d15ab05-01a7-4562-92f6-867c6ed0605c",
   "metadata": {},
   "source": [
    "### Training the Agent\n",
    "\n",
    "Before we begin training the agent, we first initialize the logging (based on the respective flags in the `exp` dict), the object of the `Agent` class and the optimizers: one for the Q-networks, one for the actor, and possibly one for tuning the entropy coefficient $\\alpha$. We also initialize an initial set of observations.\n",
    "\n",
    "After that follows the main training loop which consists of an initial **warm-up phase** followed by the **training phase**. In the warm-up phase we sample random trajectories to fill the replay buffer with observations. After that we enter the training phase which consists of:\n",
    "1. **Taking a step in the environment** according to the policy defined by the actor network.\n",
    "2. **Sampling a minibatch from the replay buffer** of previously experienced transitions. These are tuples of the form $(s,a,s',r,d)$=(state, action, next_state, reward, done) where done is a boolean indicating whether the environment has terminated after the transition.\n",
    "3. **Optimizing the Q-networks** by:\n",
    "    1. Sampling the target actions $\\tilde{a}_i$ in the states $s'_i$ of the minibatch from the policy network $\\pi$\n",
    "    2. Calculating the targets for each transition in the minibatch. Let $Q_j'(s,a)$ denote the Q-value of the $j$-th target network in state $s$ for action $a$, then the target $T_i$ for transition $i$ of the minibatch is:  \n",
    "    <br>$$\\begin{equation}T_i =\n",
    "\\begin{cases}\n",
    "r_i + \\min_{j=1,2}Q_j'(s'_i,\\tilde{a}_i) - \\alpha\\log (\\pi(s'_i, \\tilde{a}_i)) &, \\text{if } d_i = 0\\\\\n",
    "r_i &, \\text{else}\n",
    "\\end{cases}\n",
    "\\end{equation}$$  \n",
    "\n",
    "    3. Setting up the Q-loss functions $L_{Q_j}$ as a mean squared error (MSE) between Q-values and computed targets. Let $Q_j(s,a|\\theta^{Q_j})$ be the Q-value of the $j$-th Q-network for state $s$ and action $a$, then for $j=1,2$ the Q-losses are:  \n",
    "    <br>$$L_{Q_j} = \\frac{1}{m}\\sum_{i=1}^{m}(Q(s_i,a_i|\\theta^{Q_j}) - T_i)^2$$  \n",
    "    \n",
    "    4. Performing a gradient descent step for the parameters of the Q-networks $\\theta^{Q} = \\bigcup_{j=1,2}\\theta^{Q_j}$ along the gradient $\\nabla_{\\theta^Q} L_{Q_1} + L_{Q_2}$.\n",
    "4. **Optimizing the actor network** by:\n",
    "    1. Computing the policy loss $L_\\pi$ for the minibatch. Let $\\tilde{a}_i \\sim \\pi(\\cdot|s_i; \\theta^{\\pi})$ be the actions sampled (once again) by the actor network $\\pi$ in states $s_i$, then the policy loss is:  \n",
    "    <br>$$L_{\\pi} = \\frac{1}{m}\\sum_{i=1}^m\\left( \\alpha\\log\\pi(s_i, \\tilde{a}_i|\\theta^{\\pi})-\\min_{j=1,2}Q_j(s_i,\\tilde{a}_i)\\right)$$  \n",
    "    \n",
    "    2. Performing a gradient descent step for parameters of actor network $\\theta^\\pi$ along the gradient $\\nabla_{\\theta^\\pi} L_\\pi$.\n",
    "    \n",
    "5. **Tuning the temperature parameter $\\alpha$** by:\n",
    "    1. Setting up a loss function $L_{\\alpha}$ for the minibatch. Again, for the sampled actions $\\tilde{a}_i \\sim \\pi(\\cdot|s_i)$ from the actor network $\\pi$ in states $s_i$, we arrive at the loss: $$L_{\\alpha} = \\frac{1}{m}\\sum_{i=1}^m -\\alpha * (\\log\\pi(s_i, \\tilde{a}_i) + \\bar{H})$$ where $\\bar{H}$ is a specified target entropy.\n",
    "    2. Performing a gradient descent step for the parameter $\\alpha$ along the gradient $\\nabla_{\\alpha} L_{\\alpha}$.  \n",
    "      \n",
    "      Note: for numerical reasons, rather than tuning $\\alpha$ directly, this implementation tunes its logarithm. The actually implemented formulas can be obtained by replacing $\\alpha$ by $\\log\\alpha$.\n",
    "    \n",
    "6. **Updating the target networks** by letting them track the parameters of the learned networks.\n",
    "\n",
    "Note that steps 4 to 6 are generally not performed in every step of the main loop but in a delayed fashion.\n",
    "\n",
    "Post completion of the main training loop, we save a copy of the following in the directory `logs/<exp.exp_type>/<exp.run_name>`:\n",
    "1. `exp` and `hypp` dicts into a `.config` file \n",
    "2. `agent` (instance of `Agent` class) into a `.pt` file for later evaluation\n",
    "3. agent performance progress throughout training into a `.csv` file if `exp.eval_agent=True`\n",
    "\n",
    "Note: we have two vectorised gymnasium environments, `envs` and `envs_eval` in the initalizations. `envs` is used to fill the rollout buffer with trajectories and `envs_eval` is used to evaluate the agent performance at different stages of training."
   ]
  },
  {
   "cell_type": "code",
   "execution_count": 7,
   "id": "6f237b86-59fc-415e-879d-b3ad925497ad",
   "metadata": {
    "ExecuteTime": {
     "start_time": "2025-04-24T11:19:55.527343Z"
    },
    "jupyter": {
     "is_executing": true
    }
   },
   "outputs": [
    {
     "name": "stderr",
     "output_type": "stream",
     "text": [
      "\u001b[34m\u001b[1mwandb\u001b[0m: Currently logged in as: \u001b[33martur-eisele\u001b[0m to \u001b[32mhttps://api.wandb.ai\u001b[0m. Use \u001b[1m`wandb login --relogin`\u001b[0m to force relogin\n"
     ]
    },
    {
     "data": {
      "text/html": [
       "Tracking run with wandb version 0.20.1"
      ],
      "text/plain": [
       "<IPython.core.display.HTML object>"
      ]
     },
     "metadata": {},
     "output_type": "display_data"
    },
    {
     "data": {
      "text/html": [
       "Run data is saved locally in <code>/home/artur/Dokumente/RL_SS2025/rllbc_ss25_final/RLLBC/deep_examples/logs/wandb/run-20250724_101436-ng03kcmb</code>"
      ],
      "text/plain": [
       "<IPython.core.display.HTML object>"
      ]
     },
     "metadata": {},
     "output_type": "display_data"
    },
    {
     "data": {
      "text/html": [
       "Syncing run <strong><a href='https://wandb.ai/artur-eisele/RLLBC_Pendulum-v1/runs/ng03kcmb' target=\"_blank\">Pendulum-v1__SAC__1__250724_101435</a></strong> to <a href='https://wandb.ai/artur-eisele/RLLBC_Pendulum-v1' target=\"_blank\">Weights & Biases</a> (<a href='https://wandb.me/developer-guide' target=\"_blank\">docs</a>)<br>"
      ],
      "text/plain": [
       "<IPython.core.display.HTML object>"
      ]
     },
     "metadata": {},
     "output_type": "display_data"
    },
    {
     "data": {
      "text/html": [
       " View project at <a href='https://wandb.ai/artur-eisele/RLLBC_Pendulum-v1' target=\"_blank\">https://wandb.ai/artur-eisele/RLLBC_Pendulum-v1</a>"
      ],
      "text/plain": [
       "<IPython.core.display.HTML object>"
      ]
     },
     "metadata": {},
     "output_type": "display_data"
    },
    {
     "data": {
      "text/html": [
       " View run at <a href='https://wandb.ai/artur-eisele/RLLBC_Pendulum-v1/runs/ng03kcmb' target=\"_blank\">https://wandb.ai/artur-eisele/RLLBC_Pendulum-v1/runs/ng03kcmb</a>"
      ],
      "text/plain": [
       "<IPython.core.display.HTML object>"
      ]
     },
     "metadata": {},
     "output_type": "display_data"
    },
    {
     "data": {
      "application/vnd.jupyter.widget-view+json": {
       "model_id": "8f598a336e0d4897a8ecd03f23f3683d",
       "version_major": 2,
       "version_minor": 0
      },
      "text/plain": [
       "  0%|          | 0/100000 [00:00<?, ?it/s]"
      ]
     },
     "metadata": {},
     "output_type": "display_data"
    },
    {
     "data": {
      "text/html": [
       "uploading media/videos/video_2_7df71c33dbdced607b63.mp4 19.2KB/19.2KB (10.8m)<br>uploading media/videos/video_3_24976eaf974d2b4591fb.mp4 17.6KB/17.6KB (9.6m)<br>uploading output.log (4.0m)<br>uploading wandb-summary.json 668B/668B (4.0m)<br>uploading config.yaml 1.2KB/1.2KB (4.0m)<br>uploading logs/Pendulum-v1__SAC__1__250724_101435/tb/events.out.tfevents.1753344877.artur-IdeaPad-5-14ITL05.23212.0 96.0KB/685.9KB (4.0m)"
      ],
      "text/plain": [
       "<IPython.core.display.HTML object>"
      ]
     },
     "metadata": {},
     "output_type": "display_data"
    },
    {
     "name": "stderr",
     "output_type": "stream",
     "text": [
      "\u001b[34m\u001b[1mwandb\u001b[0m: \u001b[32m\u001b[41mERROR\u001b[0m Control-C detected -- Run data was not synced\n"
     ]
    },
    {
     "ename": "KeyboardInterrupt",
     "evalue": "",
     "output_type": "error",
     "traceback": [
      "\u001b[0;31m---------------------------------------------------------------------------\u001b[0m",
      "\u001b[0;31mKeyboardInterrupt\u001b[0m                         Traceback (most recent call last)",
      "Cell \u001b[0;32mIn[7], line 193\u001b[0m\n\u001b[1;32m    191\u001b[0m writer\u001b[38;5;241m.\u001b[39mclose()\n\u001b[1;32m    192\u001b[0m \u001b[38;5;28;01mif\u001b[39;00m wandb\u001b[38;5;241m.\u001b[39mrun \u001b[38;5;129;01mis\u001b[39;00m \u001b[38;5;129;01mnot\u001b[39;00m \u001b[38;5;28;01mNone\u001b[39;00m:\n\u001b[0;32m--> 193\u001b[0m     \u001b[43mwandb\u001b[49m\u001b[38;5;241;43m.\u001b[39;49m\u001b[43mfinish\u001b[49m\u001b[43m(\u001b[49m\u001b[43m)\u001b[49m\n\u001b[1;32m    194\u001b[0m     wandb\u001b[38;5;241m.\u001b[39minit(mode\u001b[38;5;241m=\u001b[39m\u001b[38;5;124m\"\u001b[39m\u001b[38;5;124mdisabled\u001b[39m\u001b[38;5;124m\"\u001b[39m)\n\u001b[1;32m    196\u001b[0m hf\u001b[38;5;241m.\u001b[39msave_train_config_to_yaml(exp, hypp)\n",
      "File \u001b[0;32m~/Dokumente/RL_SS2025/rllbc_ss25_final/RLLBC/.pixi/envs/default/lib/python3.10/site-packages/wandb/sdk/wandb_run.py:4174\u001b[0m, in \u001b[0;36mfinish\u001b[0;34m(exit_code, quiet)\u001b[0m\n\u001b[1;32m   4157\u001b[0m \u001b[38;5;250m\u001b[39m\u001b[38;5;124;03m\"\"\"Finish a run and upload any remaining data.\u001b[39;00m\n\u001b[1;32m   4158\u001b[0m \n\u001b[1;32m   4159\u001b[0m \u001b[38;5;124;03mMarks the completion of a W&B run and ensures all data is synced to the server.\u001b[39;00m\n\u001b[0;32m   (...)\u001b[0m\n\u001b[1;32m   4171\u001b[0m \u001b[38;5;124;03m    quiet: Deprecated. Configure logging verbosity using `wandb.Settings(quiet=...)`.\u001b[39;00m\n\u001b[1;32m   4172\u001b[0m \u001b[38;5;124;03m\"\"\"\u001b[39;00m\n\u001b[1;32m   4173\u001b[0m \u001b[38;5;28;01mif\u001b[39;00m wandb\u001b[38;5;241m.\u001b[39mrun:\n\u001b[0;32m-> 4174\u001b[0m     \u001b[43mwandb\u001b[49m\u001b[38;5;241;43m.\u001b[39;49m\u001b[43mrun\u001b[49m\u001b[38;5;241;43m.\u001b[39;49m\u001b[43mfinish\u001b[49m\u001b[43m(\u001b[49m\u001b[43mexit_code\u001b[49m\u001b[38;5;241;43m=\u001b[39;49m\u001b[43mexit_code\u001b[49m\u001b[43m,\u001b[49m\u001b[43m \u001b[49m\u001b[43mquiet\u001b[49m\u001b[38;5;241;43m=\u001b[39;49m\u001b[43mquiet\u001b[49m\u001b[43m)\u001b[49m\n",
      "File \u001b[0;32m~/Dokumente/RL_SS2025/rllbc_ss25_final/RLLBC/.pixi/envs/default/lib/python3.10/site-packages/wandb/sdk/wandb_run.py:391\u001b[0m, in \u001b[0;36m_log_to_run.<locals>.wrapper\u001b[0;34m(self, *args, **kwargs)\u001b[0m\n\u001b[1;32m    388\u001b[0m     run_id \u001b[38;5;241m=\u001b[39m \u001b[38;5;28mself\u001b[39m\u001b[38;5;241m.\u001b[39m_attach_id\n\u001b[1;32m    390\u001b[0m \u001b[38;5;28;01mwith\u001b[39;00m wb_logging\u001b[38;5;241m.\u001b[39mlog_to_run(run_id):\n\u001b[0;32m--> 391\u001b[0m     \u001b[38;5;28;01mreturn\u001b[39;00m \u001b[43mfunc\u001b[49m\u001b[43m(\u001b[49m\u001b[38;5;28;43mself\u001b[39;49m\u001b[43m,\u001b[49m\u001b[43m \u001b[49m\u001b[38;5;241;43m*\u001b[39;49m\u001b[43margs\u001b[49m\u001b[43m,\u001b[49m\u001b[43m \u001b[49m\u001b[38;5;241;43m*\u001b[39;49m\u001b[38;5;241;43m*\u001b[39;49m\u001b[43mkwargs\u001b[49m\u001b[43m)\u001b[49m\n",
      "File \u001b[0;32m~/Dokumente/RL_SS2025/rllbc_ss25_final/RLLBC/.pixi/envs/default/lib/python3.10/site-packages/wandb/sdk/wandb_run.py:436\u001b[0m, in \u001b[0;36m_attach.<locals>.wrapper\u001b[0;34m(self, *args, **kwargs)\u001b[0m\n\u001b[1;32m    433\u001b[0m     \u001b[38;5;28;01mfinally\u001b[39;00m:\n\u001b[1;32m    434\u001b[0m         _is_attaching \u001b[38;5;241m=\u001b[39m \u001b[38;5;124m\"\u001b[39m\u001b[38;5;124m\"\u001b[39m\n\u001b[0;32m--> 436\u001b[0m \u001b[38;5;28;01mreturn\u001b[39;00m \u001b[43mfunc\u001b[49m\u001b[43m(\u001b[49m\u001b[38;5;28;43mself\u001b[39;49m\u001b[43m,\u001b[49m\u001b[43m \u001b[49m\u001b[38;5;241;43m*\u001b[39;49m\u001b[43margs\u001b[49m\u001b[43m,\u001b[49m\u001b[43m \u001b[49m\u001b[38;5;241;43m*\u001b[39;49m\u001b[38;5;241;43m*\u001b[39;49m\u001b[43mkwargs\u001b[49m\u001b[43m)\u001b[49m\n",
      "File \u001b[0;32m~/Dokumente/RL_SS2025/rllbc_ss25_final/RLLBC/.pixi/envs/default/lib/python3.10/site-packages/wandb/sdk/wandb_run.py:2207\u001b[0m, in \u001b[0;36mRun.finish\u001b[0;34m(self, exit_code, quiet)\u001b[0m\n\u001b[1;32m   2198\u001b[0m \u001b[38;5;28;01mif\u001b[39;00m quiet \u001b[38;5;129;01mis\u001b[39;00m \u001b[38;5;129;01mnot\u001b[39;00m \u001b[38;5;28;01mNone\u001b[39;00m:\n\u001b[1;32m   2199\u001b[0m     deprecate\u001b[38;5;241m.\u001b[39mdeprecate(\n\u001b[1;32m   2200\u001b[0m         field_name\u001b[38;5;241m=\u001b[39mDeprecated\u001b[38;5;241m.\u001b[39mrun__finish_quiet,\n\u001b[1;32m   2201\u001b[0m         warning_message\u001b[38;5;241m=\u001b[39m(\n\u001b[0;32m   (...)\u001b[0m\n\u001b[1;32m   2205\u001b[0m         run\u001b[38;5;241m=\u001b[39m\u001b[38;5;28mself\u001b[39m,\n\u001b[1;32m   2206\u001b[0m     )\n\u001b[0;32m-> 2207\u001b[0m \u001b[38;5;28;01mreturn\u001b[39;00m \u001b[38;5;28;43mself\u001b[39;49m\u001b[38;5;241;43m.\u001b[39;49m\u001b[43m_finish\u001b[49m\u001b[43m(\u001b[49m\u001b[43mexit_code\u001b[49m\u001b[43m)\u001b[49m\n",
      "File \u001b[0;32m~/Dokumente/RL_SS2025/rllbc_ss25_final/RLLBC/.pixi/envs/default/lib/python3.10/site-packages/wandb/sdk/wandb_run.py:391\u001b[0m, in \u001b[0;36m_log_to_run.<locals>.wrapper\u001b[0;34m(self, *args, **kwargs)\u001b[0m\n\u001b[1;32m    388\u001b[0m     run_id \u001b[38;5;241m=\u001b[39m \u001b[38;5;28mself\u001b[39m\u001b[38;5;241m.\u001b[39m_attach_id\n\u001b[1;32m    390\u001b[0m \u001b[38;5;28;01mwith\u001b[39;00m wb_logging\u001b[38;5;241m.\u001b[39mlog_to_run(run_id):\n\u001b[0;32m--> 391\u001b[0m     \u001b[38;5;28;01mreturn\u001b[39;00m \u001b[43mfunc\u001b[49m\u001b[43m(\u001b[49m\u001b[38;5;28;43mself\u001b[39;49m\u001b[43m,\u001b[49m\u001b[43m \u001b[49m\u001b[38;5;241;43m*\u001b[39;49m\u001b[43margs\u001b[49m\u001b[43m,\u001b[49m\u001b[43m \u001b[49m\u001b[38;5;241;43m*\u001b[39;49m\u001b[38;5;241;43m*\u001b[39;49m\u001b[43mkwargs\u001b[49m\u001b[43m)\u001b[49m\n",
      "File \u001b[0;32m~/Dokumente/RL_SS2025/rllbc_ss25_final/RLLBC/.pixi/envs/default/lib/python3.10/site-packages/wandb/sdk/wandb_run.py:2235\u001b[0m, in \u001b[0;36mRun._finish\u001b[0;34m(self, exit_code)\u001b[0m\n\u001b[1;32m   2232\u001b[0m \u001b[38;5;28mself\u001b[39m\u001b[38;5;241m.\u001b[39m_wl\u001b[38;5;241m.\u001b[39mremove_active_run(\u001b[38;5;28mself\u001b[39m)\n\u001b[1;32m   2234\u001b[0m \u001b[38;5;28;01mtry\u001b[39;00m:\n\u001b[0;32m-> 2235\u001b[0m     \u001b[38;5;28;43mself\u001b[39;49m\u001b[38;5;241;43m.\u001b[39;49m\u001b[43m_atexit_cleanup\u001b[49m\u001b[43m(\u001b[49m\u001b[43mexit_code\u001b[49m\u001b[38;5;241;43m=\u001b[39;49m\u001b[43mexit_code\u001b[49m\u001b[43m)\u001b[49m\n\u001b[1;32m   2237\u001b[0m     \u001b[38;5;66;03m# Run hooks that should happen after the last messages to the\u001b[39;00m\n\u001b[1;32m   2238\u001b[0m     \u001b[38;5;66;03m# internal service, like detaching the logger.\u001b[39;00m\n\u001b[1;32m   2239\u001b[0m     \u001b[38;5;28;01mfor\u001b[39;00m hook \u001b[38;5;129;01min\u001b[39;00m \u001b[38;5;28mself\u001b[39m\u001b[38;5;241m.\u001b[39m_teardown_hooks:\n",
      "File \u001b[0;32m~/Dokumente/RL_SS2025/rllbc_ss25_final/RLLBC/.pixi/envs/default/lib/python3.10/site-packages/wandb/sdk/wandb_run.py:2430\u001b[0m, in \u001b[0;36mRun._atexit_cleanup\u001b[0;34m(self, exit_code)\u001b[0m\n\u001b[1;32m   2427\u001b[0m         os\u001b[38;5;241m.\u001b[39mremove(\u001b[38;5;28mself\u001b[39m\u001b[38;5;241m.\u001b[39m_settings\u001b[38;5;241m.\u001b[39mresume_fname)\n\u001b[1;32m   2429\u001b[0m \u001b[38;5;28;01mtry\u001b[39;00m:\n\u001b[0;32m-> 2430\u001b[0m     \u001b[38;5;28;43mself\u001b[39;49m\u001b[38;5;241;43m.\u001b[39;49m\u001b[43m_on_finish\u001b[49m\u001b[43m(\u001b[49m\u001b[43m)\u001b[49m\n\u001b[1;32m   2432\u001b[0m \u001b[38;5;28;01mexcept\u001b[39;00m \u001b[38;5;167;01mKeyboardInterrupt\u001b[39;00m:\n\u001b[1;32m   2433\u001b[0m     \u001b[38;5;28;01mif\u001b[39;00m \u001b[38;5;129;01mnot\u001b[39;00m wandb\u001b[38;5;241m.\u001b[39mwandb_agent\u001b[38;5;241m.\u001b[39m_is_running():  \u001b[38;5;66;03m# type: ignore\u001b[39;00m\n",
      "File \u001b[0;32m~/Dokumente/RL_SS2025/rllbc_ss25_final/RLLBC/.pixi/envs/default/lib/python3.10/site-packages/wandb/sdk/wandb_run.py:2681\u001b[0m, in \u001b[0;36mRun._on_finish\u001b[0;34m(self)\u001b[0m\n\u001b[1;32m   2674\u001b[0m     exit_handle \u001b[38;5;241m=\u001b[39m \u001b[38;5;28mself\u001b[39m\u001b[38;5;241m.\u001b[39m_backend\u001b[38;5;241m.\u001b[39minterface\u001b[38;5;241m.\u001b[39mdeliver_finish_without_exit()\n\u001b[1;32m   2676\u001b[0m \u001b[38;5;28;01mwith\u001b[39;00m progress\u001b[38;5;241m.\u001b[39mprogress_printer(\n\u001b[1;32m   2677\u001b[0m     \u001b[38;5;28mself\u001b[39m\u001b[38;5;241m.\u001b[39m_printer,\n\u001b[1;32m   2678\u001b[0m     default_text\u001b[38;5;241m=\u001b[39m\u001b[38;5;124m\"\u001b[39m\u001b[38;5;124mFinishing up...\u001b[39m\u001b[38;5;124m\"\u001b[39m,\n\u001b[1;32m   2679\u001b[0m ) \u001b[38;5;28;01mas\u001b[39;00m progress_printer:\n\u001b[1;32m   2680\u001b[0m     \u001b[38;5;66;03m# Wait for the run to complete.\u001b[39;00m\n\u001b[0;32m-> 2681\u001b[0m     \u001b[43mwait_with_progress\u001b[49m\u001b[43m(\u001b[49m\n\u001b[1;32m   2682\u001b[0m \u001b[43m        \u001b[49m\u001b[43mexit_handle\u001b[49m\u001b[43m,\u001b[49m\n\u001b[1;32m   2683\u001b[0m \u001b[43m        \u001b[49m\u001b[43mtimeout\u001b[49m\u001b[38;5;241;43m=\u001b[39;49m\u001b[38;5;28;43;01mNone\u001b[39;49;00m\u001b[43m,\u001b[49m\n\u001b[1;32m   2684\u001b[0m \u001b[43m        \u001b[49m\u001b[43mprogress_after\u001b[49m\u001b[38;5;241;43m=\u001b[39;49m\u001b[38;5;241;43m1\u001b[39;49m\u001b[43m,\u001b[49m\n\u001b[1;32m   2685\u001b[0m \u001b[43m        \u001b[49m\u001b[43mdisplay_progress\u001b[49m\u001b[38;5;241;43m=\u001b[39;49m\u001b[43mfunctools\u001b[49m\u001b[38;5;241;43m.\u001b[39;49m\u001b[43mpartial\u001b[49m\u001b[43m(\u001b[49m\n\u001b[1;32m   2686\u001b[0m \u001b[43m            \u001b[49m\u001b[38;5;28;43mself\u001b[39;49m\u001b[38;5;241;43m.\u001b[39;49m\u001b[43m_display_finish_stats\u001b[49m\u001b[43m,\u001b[49m\n\u001b[1;32m   2687\u001b[0m \u001b[43m            \u001b[49m\u001b[43mprogress_printer\u001b[49m\u001b[43m,\u001b[49m\n\u001b[1;32m   2688\u001b[0m \u001b[43m        \u001b[49m\u001b[43m)\u001b[49m\u001b[43m,\u001b[49m\n\u001b[1;32m   2689\u001b[0m \u001b[43m    \u001b[49m\u001b[43m)\u001b[49m\n\u001b[1;32m   2691\u001b[0m \u001b[38;5;66;03m# Print some final statistics.\u001b[39;00m\n\u001b[1;32m   2692\u001b[0m poll_exit_handle \u001b[38;5;241m=\u001b[39m \u001b[38;5;28mself\u001b[39m\u001b[38;5;241m.\u001b[39m_backend\u001b[38;5;241m.\u001b[39minterface\u001b[38;5;241m.\u001b[39mdeliver_poll_exit()\n",
      "File \u001b[0;32m~/Dokumente/RL_SS2025/rllbc_ss25_final/RLLBC/.pixi/envs/default/lib/python3.10/site-packages/wandb/sdk/mailbox/wait_with_progress.py:24\u001b[0m, in \u001b[0;36mwait_with_progress\u001b[0;34m(handle, timeout, progress_after, display_progress)\u001b[0m\n\u001b[1;32m     13\u001b[0m \u001b[38;5;28;01mdef\u001b[39;00m\u001b[38;5;250m \u001b[39m\u001b[38;5;21mwait_with_progress\u001b[39m(\n\u001b[1;32m     14\u001b[0m     handle: MailboxHandle[_T],\n\u001b[1;32m     15\u001b[0m     \u001b[38;5;241m*\u001b[39m,\n\u001b[0;32m   (...)\u001b[0m\n\u001b[1;32m     18\u001b[0m     display_progress: Callable[[], Coroutine[Any, Any, \u001b[38;5;28;01mNone\u001b[39;00m]],\n\u001b[1;32m     19\u001b[0m ) \u001b[38;5;241m-\u001b[39m\u001b[38;5;241m>\u001b[39m _T:\n\u001b[1;32m     20\u001b[0m \u001b[38;5;250m    \u001b[39m\u001b[38;5;124;03m\"\"\"Wait for a handle, possibly displaying progress to the user.\u001b[39;00m\n\u001b[1;32m     21\u001b[0m \n\u001b[1;32m     22\u001b[0m \u001b[38;5;124;03m    Equivalent to passing a single handle to `wait_all_with_progress`.\u001b[39;00m\n\u001b[1;32m     23\u001b[0m \u001b[38;5;124;03m    \"\"\"\u001b[39;00m\n\u001b[0;32m---> 24\u001b[0m     \u001b[38;5;28;01mreturn\u001b[39;00m \u001b[43mwait_all_with_progress\u001b[49m\u001b[43m(\u001b[49m\n\u001b[1;32m     25\u001b[0m \u001b[43m        \u001b[49m\u001b[43m[\u001b[49m\u001b[43mhandle\u001b[49m\u001b[43m]\u001b[49m\u001b[43m,\u001b[49m\n\u001b[1;32m     26\u001b[0m \u001b[43m        \u001b[49m\u001b[43mtimeout\u001b[49m\u001b[38;5;241;43m=\u001b[39;49m\u001b[43mtimeout\u001b[49m\u001b[43m,\u001b[49m\n\u001b[1;32m     27\u001b[0m \u001b[43m        \u001b[49m\u001b[43mprogress_after\u001b[49m\u001b[38;5;241;43m=\u001b[39;49m\u001b[43mprogress_after\u001b[49m\u001b[43m,\u001b[49m\n\u001b[1;32m     28\u001b[0m \u001b[43m        \u001b[49m\u001b[43mdisplay_progress\u001b[49m\u001b[38;5;241;43m=\u001b[39;49m\u001b[43mdisplay_progress\u001b[49m\u001b[43m,\u001b[49m\n\u001b[1;32m     29\u001b[0m \u001b[43m    \u001b[49m\u001b[43m)\u001b[49m[\u001b[38;5;241m0\u001b[39m]\n",
      "File \u001b[0;32m~/Dokumente/RL_SS2025/rllbc_ss25_final/RLLBC/.pixi/envs/default/lib/python3.10/site-packages/wandb/sdk/mailbox/wait_with_progress.py:87\u001b[0m, in \u001b[0;36mwait_all_with_progress\u001b[0;34m(handle_list, timeout, progress_after, display_progress)\u001b[0m\n\u001b[1;32m     80\u001b[0m             remaining_timeout \u001b[38;5;241m=\u001b[39m \u001b[38;5;28;01mNone\u001b[39;00m\n\u001b[1;32m     82\u001b[0m         \u001b[38;5;28;01mreturn\u001b[39;00m \u001b[38;5;28;01mawait\u001b[39;00m _wait_handles_async(\n\u001b[1;32m     83\u001b[0m             handle_list,\n\u001b[1;32m     84\u001b[0m             timeout\u001b[38;5;241m=\u001b[39mremaining_timeout,\n\u001b[1;32m     85\u001b[0m         )\n\u001b[0;32m---> 87\u001b[0m \u001b[38;5;28;01mreturn\u001b[39;00m \u001b[43masyncio_compat\u001b[49m\u001b[38;5;241;43m.\u001b[39;49m\u001b[43mrun\u001b[49m\u001b[43m(\u001b[49m\u001b[43mprogress_loop_with_timeout\u001b[49m\u001b[43m)\u001b[49m\n",
      "File \u001b[0;32m~/Dokumente/RL_SS2025/rllbc_ss25_final/RLLBC/.pixi/envs/default/lib/python3.10/site-packages/wandb/sdk/lib/asyncio_compat.py:30\u001b[0m, in \u001b[0;36mrun\u001b[0;34m(fn)\u001b[0m\n\u001b[1;32m     27\u001b[0m future \u001b[38;5;241m=\u001b[39m executor\u001b[38;5;241m.\u001b[39msubmit(runner\u001b[38;5;241m.\u001b[39mrun, fn)\n\u001b[1;32m     29\u001b[0m \u001b[38;5;28;01mtry\u001b[39;00m:\n\u001b[0;32m---> 30\u001b[0m     \u001b[38;5;28;01mreturn\u001b[39;00m \u001b[43mfuture\u001b[49m\u001b[38;5;241;43m.\u001b[39;49m\u001b[43mresult\u001b[49m\u001b[43m(\u001b[49m\u001b[43m)\u001b[49m\n\u001b[1;32m     32\u001b[0m \u001b[38;5;28;01mfinally\u001b[39;00m:\n\u001b[1;32m     33\u001b[0m     runner\u001b[38;5;241m.\u001b[39mcancel()\n",
      "File \u001b[0;32m~/Dokumente/RL_SS2025/rllbc_ss25_final/RLLBC/.pixi/envs/default/lib/python3.10/concurrent/futures/_base.py:453\u001b[0m, in \u001b[0;36mFuture.result\u001b[0;34m(self, timeout)\u001b[0m\n\u001b[1;32m    450\u001b[0m \u001b[38;5;28;01melif\u001b[39;00m \u001b[38;5;28mself\u001b[39m\u001b[38;5;241m.\u001b[39m_state \u001b[38;5;241m==\u001b[39m FINISHED:\n\u001b[1;32m    451\u001b[0m     \u001b[38;5;28;01mreturn\u001b[39;00m \u001b[38;5;28mself\u001b[39m\u001b[38;5;241m.\u001b[39m__get_result()\n\u001b[0;32m--> 453\u001b[0m \u001b[38;5;28;43mself\u001b[39;49m\u001b[38;5;241;43m.\u001b[39;49m\u001b[43m_condition\u001b[49m\u001b[38;5;241;43m.\u001b[39;49m\u001b[43mwait\u001b[49m\u001b[43m(\u001b[49m\u001b[43mtimeout\u001b[49m\u001b[43m)\u001b[49m\n\u001b[1;32m    455\u001b[0m \u001b[38;5;28;01mif\u001b[39;00m \u001b[38;5;28mself\u001b[39m\u001b[38;5;241m.\u001b[39m_state \u001b[38;5;129;01min\u001b[39;00m [CANCELLED, CANCELLED_AND_NOTIFIED]:\n\u001b[1;32m    456\u001b[0m     \u001b[38;5;28;01mraise\u001b[39;00m CancelledError()\n",
      "File \u001b[0;32m~/Dokumente/RL_SS2025/rllbc_ss25_final/RLLBC/.pixi/envs/default/lib/python3.10/threading.py:320\u001b[0m, in \u001b[0;36mCondition.wait\u001b[0;34m(self, timeout)\u001b[0m\n\u001b[1;32m    318\u001b[0m \u001b[38;5;28;01mtry\u001b[39;00m:    \u001b[38;5;66;03m# restore state no matter what (e.g., KeyboardInterrupt)\u001b[39;00m\n\u001b[1;32m    319\u001b[0m     \u001b[38;5;28;01mif\u001b[39;00m timeout \u001b[38;5;129;01mis\u001b[39;00m \u001b[38;5;28;01mNone\u001b[39;00m:\n\u001b[0;32m--> 320\u001b[0m         \u001b[43mwaiter\u001b[49m\u001b[38;5;241;43m.\u001b[39;49m\u001b[43macquire\u001b[49m\u001b[43m(\u001b[49m\u001b[43m)\u001b[49m\n\u001b[1;32m    321\u001b[0m         gotit \u001b[38;5;241m=\u001b[39m \u001b[38;5;28;01mTrue\u001b[39;00m\n\u001b[1;32m    322\u001b[0m     \u001b[38;5;28;01melse\u001b[39;00m:\n",
      "\u001b[0;31mKeyboardInterrupt\u001b[0m: "
     ]
    }
   ],
   "source": [
    "# reinit run_name\n",
    "exp.run_name = f\"{exp.env_id}__{exp.exp_name}__{exp.seed}__{datetime.now().strftime('%y%m%d_%H%M%S')}\"\n",
    "\n",
    "# Init tensorboard logging and wandb logging\n",
    "writer = hf.setup_logging(wandb_prj_name, exp, hypp)\n",
    "\n",
    "# create two vectorized envs: one to fill the rollout buffer with trajectories, and\n",
    "# another to evaluate the agent performance at different stages of training\n",
    "envs.close()\n",
    "envs = gym.vector.SyncVectorEnv([hf.make_env(exp.env_id, exp.seed + i) for i in range(exp.num_envs)])\n",
    "envs_eval = gym.vector.SyncVectorEnv([hf.make_env(exp.env_id, exp.seed + i) for i in range(exp.eval_count)])\n",
    "\n",
    "# envs.single_observation_space.dtype = np.float32\n",
    "\n",
    "# init list to track agent's performance throughout training\n",
    "tracked_returns_over_training = []\n",
    "tracked_episode_len_over_training = []\n",
    "tracked_episode_count = []\n",
    "last_evaluated_episode = None  # stores the episode_step of when the agent's performance was last evaluated\n",
    "greedy_evaluation = True  # whether to perform the evaluation in a greedy way or not\n",
    "eval_max_return = -float('inf')\n",
    "\n",
    "agent = Agent(envs).to(device)\n",
    "q_optimizer = optim.Adam(list(agent.q1_net.parameters()) + list(agent.q2_net.parameters()), lr=hypp.q_lr)\n",
    "actor_optimizer = optim.Adam(agent.actor_net.parameters(), lr=hypp.policy_lr)\n",
    "\n",
    "global_step = 0\n",
    "episode_step = 0\n",
    "gradient_step = 0\n",
    "\n",
    "# Automatic entropy tuning\n",
    "if hypp.autotune:\n",
    "    target_entropy = -torch.prod(torch.Tensor(envs.single_action_space.shape).to(device)).item()\n",
    "    log_alpha = torch.zeros(1, requires_grad=True, device=device)\n",
    "    alpha = log_alpha.exp().item()\n",
    "    a_optimizer = optim.Adam([log_alpha], lr=hypp.q_lr)\n",
    "else:\n",
    "    alpha = hypp.alpha\n",
    "\n",
    "# Init observation to start learning\n",
    "start_time = time.time()\n",
    "obs,_=envs.reset()\n",
    "obs = torch.Tensor(obs)\n",
    "\n",
    "pbar = notebook.tqdm(range(hypp.total_timesteps))\n",
    "\n",
    "# training loop\n",
    "for global_step in pbar:\n",
    "\n",
    "    # collect trajectories; sample action randomly if learning/gradient updates has not begun\n",
    "    if global_step < hypp.learning_starts:\n",
    "        actions = np.array([envs.single_action_space.sample() for _ in range(envs.num_envs)])\n",
    "    else:\n",
    "        # actions, _, _ = agent.get_action(torch.Tensor(obs).to(device))\n",
    "        actions = agent.get_action(torch.Tensor(obs).to(device))\n",
    "        actions = actions.detach().cpu().numpy()\n",
    "\n",
    "    # execute the game and log data\n",
    "    next_obs, rewards, terminateds,truncateds, infos = envs.step(actions)\n",
    "    dones = terminateds | truncateds\n",
    "\n",
    "    # record rewards for plotting purposes at the end of every episode\n",
    "    if \"final_info\" in infos.keys():\n",
    "        for idx, final_info_single in enumerate(infos[\"final_info\"]):\n",
    "            if final_info_single is not None:\n",
    "                if \"episode\" in final_info_single.keys():         \n",
    "                    pbar.set_description(f\"global_step={global_step}, episodic_return={float(final_info_single['episode']['r']):.3f}\")\n",
    "                    writer.add_scalar(\"rollout/episodic_return\", final_info_single[\"episode\"][\"r\"], global_step)\n",
    "                    writer.add_scalar(\"rollout/episodic_length\", final_info_single[\"episode\"][\"l\"], global_step)\n",
    "                    writer.add_scalar(\"Charts/episode_step\", episode_step, global_step)\n",
    "                    writer.add_scalar(\"Charts/gradient_step\", gradient_step, global_step)\n",
    "                    episode_step += 1\n",
    "\n",
    "    # Handling the terminal observation\n",
    "    real_next_obs = next_obs.copy()\n",
    "    if \"final_observation\" in infos.keys():\n",
    "        for idx, final_obs_single in enumerate(infos[\"final_observation\"]):\n",
    "            if final_obs_single is not None:\n",
    "                real_next_obs[idx] = final_obs_single\n",
    "\n",
    "    # save data to reply buffer\n",
    "    rb.add(obs, real_next_obs, actions, rewards, terminateds, infos)\n",
    "\n",
    "    obs = next_obs\n",
    "\n",
    "    # generate average performance statistics of current learned agent\n",
    "    if exp.eval_agent and episode_step % exp.eval_frequency == 0 and last_evaluated_episode != episode_step:\n",
    "        last_evaluated_episode = episode_step\n",
    "        tracked_return, tracked_episode_len = hf.evaluate_agent(envs_eval, agent, exp.eval_count, exp.seed, greedy_actor=greedy_evaluation)\n",
    "        tracked_returns_over_training.append(tracked_return)\n",
    "        tracked_episode_len_over_training.append(tracked_episode_len)\n",
    "        tracked_episode_count.append([episode_step, global_step])\n",
    "\n",
    "        # if there has been improvment of the model -\n",
    "        if np.mean(tracked_return) > eval_max_return:\n",
    "            eval_max_return = np.mean(tracked_return)\n",
    "            # call helper function save_and_log_agent to save model, create video, log video to wandb\n",
    "            hf.save_and_log_agent(exp, agent, episode_step, greedy=greedy_evaluation, print_path=False)\n",
    "\n",
    "    # begin gradient descent updates\n",
    "    if global_step > hypp.learning_starts:\n",
    "        data = rb.sample(hypp.batch_size)\n",
    "\n",
    "        # compute targets for Q networks\n",
    "        with torch.no_grad():\n",
    "            next_state_actions, next_state_log_pi, _ = agent.get_action_and_logprob(data.next_observations)\n",
    "            q1_next_target = agent.get_target_q1_value(data.next_observations, next_state_actions)\n",
    "            q2_next_target = agent.get_target_q2_value(data.next_observations, next_state_actions)\n",
    "            min_q_next_target = torch.min(q1_next_target, q2_next_target) - alpha * next_state_log_pi\n",
    "            next_q_value = data.rewards.flatten() + (1 - data.dones.flatten()) * hypp.gamma * (min_q_next_target).view(-1)\n",
    "\n",
    "        # compute error loss for both Q networks\n",
    "        q1_a_values = agent.get_q1_value(data.observations, data.actions).view(-1)\n",
    "        q2_a_values = agent.get_q2_value(data.observations, data.actions).view(-1)\n",
    "        q1_loss = F.mse_loss(q1_a_values, next_q_value)\n",
    "        q2_loss = F.mse_loss(q2_a_values, next_q_value)\n",
    "        q_loss = q1_loss + q2_loss\n",
    "\n",
    "        # optimize Q network\n",
    "        q_optimizer.zero_grad()\n",
    "        q_loss.backward()\n",
    "        q_optimizer.step()\n",
    "\n",
    "        # gradient_step += 1\n",
    "\n",
    "        # improve policy using entropy regulalized policy update\n",
    "        if global_step % hypp.policy_frequency == 0:  # TD 3 Delayed update support\n",
    "            for _ in range(hypp.policy_frequency):  # compensate for the delay by doing 'hypp.policy_frequency' times instead of 1\n",
    "                pi, log_pi, _ = agent.get_action_and_logprob(data.observations)\n",
    "                q1_pi = agent.get_q1_value(data.observations, pi)\n",
    "                q2_pi = agent.get_q2_value(data.observations, pi)\n",
    "                min_q_pi = torch.min(q1_pi, q2_pi).view(-1)\n",
    "                policy_loss = ((alpha * log_pi) - min_q_pi).mean()\n",
    "\n",
    "                # optimize policy\n",
    "                actor_optimizer.zero_grad()\n",
    "                policy_loss.backward()\n",
    "                actor_optimizer.step()\n",
    "\n",
    "                gradient_step += 1\n",
    "\n",
    "                # update alpha parameter\n",
    "                if hypp.autotune:\n",
    "                    with torch.no_grad():\n",
    "                        _, log_pi, _ = agent.get_action_and_logprob(data.observations)\n",
    "                    alpha_loss = (-log_alpha * (log_pi + target_entropy)).mean()\n",
    "\n",
    "                    # tune entropy temperature\n",
    "                    a_optimizer.zero_grad()\n",
    "                    alpha_loss.backward()\n",
    "                    a_optimizer.step()\n",
    "                    alpha = log_alpha.exp().item()\n",
    "\n",
    "        # update the target networks\n",
    "        if global_step % hypp.target_network_frequency == 0:\n",
    "            agent.update_target_networks(hypp.tau)\n",
    "\n",
    "        # log training losses to tensorboard\n",
    "        if global_step % 100 == 0:\n",
    "            writer.add_scalar(\"train/q1_values\", q1_a_values.mean().item(), global_step)\n",
    "            writer.add_scalar(\"train/q2_values\", q2_a_values.mean().item(), global_step)\n",
    "            writer.add_scalar(\"train/q1_loss\", q1_loss.item(), global_step)\n",
    "            writer.add_scalar(\"train/q2_loss\", q2_loss.item(), global_step)\n",
    "            writer.add_scalar(\"train/q_loss\", q_loss.item() / 2.0, global_step)\n",
    "            writer.add_scalar(\"train/policy_loss\", policy_loss.item(), global_step)\n",
    "            writer.add_scalar(\"hyperparameters/alpha\", alpha, global_step)\n",
    "            writer.add_scalar(\"Charts/episode_step\", episode_step, global_step)\n",
    "            writer.add_scalar(\"Charts/gradient_step\", gradient_step, global_step)\n",
    "            writer.add_scalar(\"others/SPS\", int(global_step / (time.time() - start_time)), global_step)\n",
    "            if hypp.autotune:\n",
    "                writer.add_scalar(\"losses/alpha_loss\", alpha_loss.item(), global_step)\n",
    "\n",
    "# one last evaluation stage\n",
    "if exp.eval_agent:\n",
    "    last_evaluated_episode = episode_step\n",
    "    tracked_return, tracked_episode_len = hf.evaluate_agent(envs_eval, agent, exp.eval_count, exp.seed, greedy_actor=greedy_evaluation)\n",
    "    tracked_returns_over_training.append(tracked_return)\n",
    "    tracked_episode_len_over_training.append(tracked_episode_len)\n",
    "    tracked_episode_count.append([episode_step, global_step])\n",
    "\n",
    "    # if there has been improvment of the model -\n",
    "    if np.mean(tracked_return) > eval_max_return:\n",
    "        eval_max_return = np.mean(tracked_return)\n",
    "        # call helper function save_and_log_agent to save model, create video, log video to wandb\n",
    "        hf.save_and_log_agent(exp, agent, episode_step, greedy=greedy_evaluation, print_path = True)\n",
    "\n",
    "    hf.save_tracked_values(tracked_returns_over_training, tracked_episode_len_over_training, tracked_episode_count, exp.eval_count, exp.run_name, exp.exp_type)\n",
    "\n",
    "envs.close()\n",
    "envs_eval.close()\n",
    "writer.close()\n",
    "if wandb.run is not None:\n",
    "    wandb.finish()\n",
    "    wandb.init(mode=\"disabled\")\n",
    "\n",
    "hf.save_train_config_to_yaml(exp, hypp)"
   ]
  },
  {
   "cell_type": "markdown",
   "id": "17fa634a-5a38-4836-afeb-a4c7914c2f9a",
   "metadata": {
    "tags": []
   },
   "source": [
    "## Compare Trained Agents and Display Behaviour"
   ]
  },
  {
   "cell_type": "markdown",
   "id": "8b890d2c-f07f-412f-b7bf-b935f30cdf17",
   "metadata": {
    "tags": []
   },
   "source": [
    "### Display Trained Agent Behaviour\n",
    "\n",
    "Set `agent_name` and `agent_exp_type` to load the saved agent model in the respective log folder and generate a video of the agent's interaction with the gymnasium environment. After the cell is executed, you should see a video embedding as output, and the video is also available in the directory: `/logs/<exp.exp_type>/<exp.run_name>/videos` "
   ]
  },
  {
   "cell_type": "code",
   "execution_count": 8,
   "id": "b982f24f-d21d-4883-bab7-7796a659a2d6",
   "metadata": {},
   "outputs": [
    {
     "data": {
      "text/html": [
       "<video loop autoplay  >\n",
       " <source src=\"data:video/mp4;base64,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\" type=\"video/mp4\">\n",
       " Your browser does not support the video tag.\n",
       " </video>"
      ],
      "text/plain": [
       "<IPython.core.display.Video object>"
      ]
     },
     "execution_count": 8,
     "metadata": {},
     "output_type": "execute_result"
    }
   ],
   "source": [
    "agent_name = exp.run_name\n",
    "agent_exp_type = exp.exp_type  # both are needed to identify the agent location\n",
    "\n",
    "\n",
    "exp_folder = \"\" if agent_exp_type is None else agent_exp_type\n",
    "filepath, _ = hf.create_folder_relative(f\"{exp_folder}/{agent_name}/videos\")\n",
    "\n",
    "hf.record_video(exp.env_id, agent_name, f\"{filepath}/best.mp4\", exp_type=agent_exp_type, greedy=True)\n",
    "Video(data=f\"{filepath}/best.mp4\", html_attributes='loop autoplay', embed=True)"
   ]
  },
  {
   "cell_type": "markdown",
   "id": "68aa638a-fa93-43e6-8203-4b68ae27b7af",
   "metadata": {
    "tags": []
   },
   "source": [
    "### Compare Performance of Agents During Training\n",
    "\n",
    "During the training loop, if `exp.eval_agent = True`, the performance progress of the agent during its training is saved in a csv file. To compare the saved progress of different agents, create a `dict` containing the parent folder's name of each of the csv files and use the helper function `plotter_agents_training_stats`.\n",
    "\n",
    "To load the data, you can either set `eval_params.run_name00 = exp.run_name` (if only a `tracked_performance_training.csv` file for the corresponding `exp.run_name` exists) or manually enter the folder name containing the csv file. \n",
    "\n",
    "If the agent performance you want to load is inside an exp_type folder, set `eval_params.exp_type00` to experiment type, and if not, set it to `None`. \n",
    "\n",
    "You can add more than one experiment by initializing dict keys and values of the format `eval_params.run_namexx` and `eval_params.exp_typexx`."
   ]
  },
  {
   "cell_type": "code",
   "execution_count": 10,
   "id": "c474adef-84da-42d1-86dd-c38a87a99256",
   "metadata": {
    "tags": []
   },
   "outputs": [
    {
     "data": {
      "image/png": "[encoded data removed]",
      "text/plain": [
       "<Figure size 1400x300 with 2 Axes>"
      ]
     },
     "metadata": {},
     "output_type": "display_data"
    }
   ],
   "source": [
    "eval_params = edict()  # eval_params - evaluation settings for trained agent\n",
    "\n",
    "eval_params.run_name00 = exp.run_name\n",
    "eval_params.exp_type00 = exp.exp_type\n",
    "\n",
    "# eval_params.run_name01 = \"CartPole-v1__PPO__1__230302_224624\"\n",
    "# eval_params.exp_type01 = None\n",
    "\n",
    "# eval_params.run_name02 = \"CartPole-v1__PPO__1__230302_221245\"\n",
    "# eval_params.exp_type02 = None\n",
    "\n",
    "agent_labels = []\n",
    "\n",
    "episode_axis_limit = None\n",
    "\n",
    "hf.plotter_agents_training_stats(eval_params, agent_labels, episode_axis_limit, plot_returns=True, plot_episode_len=True)"
   ]
  },
  {
   "cell_type": "markdown",
   "id": "b0df4217-f704-4cbc-8924-ffe30ce15820",
   "metadata": {
    "tags": []
   },
   "source": [
    "## TensorBoard Inline"
   ]
  },
  {
   "cell_type": "code",
   "execution_count": null,
   "id": "17554498-120b-434b-83de-7ae947d7062a",
   "metadata": {
    "tags": []
   },
   "outputs": [],
   "source": [
    "# %load_ext tensorboard\n",
    "# %tensorboard --logdir runs --host localhost"
   ]
  }
 ],
 "metadata": {
  "kernelspec": {
   "display_name": "default",
   "language": "python",
   "name": "python3"
  },
  "language_info": {
   "codemirror_mode": {
    "name": "ipython",
    "version": 3
   },
   "file_extension": ".py",
   "mimetype": "text/x-python",
   "name": "python",
   "nbconvert_exporter": "python",
   "pygments_lexer": "ipython3",
   "version": "3.10.18"
  },
  "toc-autonumbering": true,
  "widgets": {
   "application/vnd.jupyter.widget-state+json": {
    "state": {},
    "version_major": 2,
    "version_minor": 0
   }
  }
 },
 "nbformat": 4,
 "nbformat_minor": 5
}
