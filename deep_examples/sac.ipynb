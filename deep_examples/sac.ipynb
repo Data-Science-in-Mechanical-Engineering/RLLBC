{
 "cells": [
  {
   "cell_type": "markdown",
   "id": "1a4f1407-ebe7-4afd-8e96-47877badf739",
   "metadata": {
    "tags": []
   },
   "source": [
    "![DSME-logo](./static/DSME_logo.png)\n",
    "\n",
    "#  Reinforcement Learning and Learning-based Control\n",
    "\n",
    "<p style=\"font-size:12pt\";> \n",
    "<b> Prof. Dr. Sebastian Trimpe, Dr. Friedrich Solowjow </b><br>\n",
    "<b> Institute for Data Science in Mechanical Engineering (DSME) </b><br>\n",
    "<a href = \"mailto:rllbc@dsme.rwth-aachen.de\">rllbc@dsme.rwth-aachen.de</a><br>\n",
    "</p>\n",
    "\n",
    "---\n",
    "Authors: Jyotirmaya Patra, Ramil Sabirov\n",
    "\n",
    "Adapted from: [CleanRL](https://github.com/vwxyzjn/cleanrl)\n",
    "\n",
    "Orignal Paper: [Soft Actor-Critic: Off-Policy Maximum Entropy Deep Reinforcement Learning with a Stochastic Actor\n",
    "](https://arxiv.org/abs/1801.01290#)\n",
    "\n",
    "Variation of the Orignal Paper on which the notebook is based: [Soft Actor-Critic Algorithms and Applications\n",
    "](https://arxiv.org/abs/1812.05905)\n",
    "\n",
    "Additional References:\n",
    "1. Generalised Advantage Estimate:\n",
    "    * [High-Dimensional Continuous Control Using Generalized Advantage Estimation](https://arxiv.org/abs/1506.02438)\n",
    "2. OpenAI SpinningUp:\n",
    "    * [Soft Actor-Critic](https://spinningup.openai.com/en/latest/algorithms/sac.html)\n"
   ]
  },
  {
   "cell_type": "markdown",
   "id": "19efbe47-50d4-41ca-a03d-1994d4751eb5",
   "metadata": {
    "tags": []
   },
   "source": [
    "## Library Imports"
   ]
  },
  {
   "cell_type": "code",
   "execution_count": 1,
   "id": "87fb41e0-6fe7-4210-b784-63049e1cac36",
   "metadata": {},
   "outputs": [],
   "source": [
    "import os\n",
    "import time\n",
    "import random\n",
    "import warnings\n",
    "from datetime import datetime\n",
    "\n",
    "import numpy as np\n",
    "import matplotlib.pyplot as plt\n",
    "from tqdm import notebook\n",
    "from easydict import EasyDict as edict\n",
    "from IPython.display import Video\n",
    "\n",
    "import utils.helper_fns as hf\n",
    "\n",
    "import gym\n",
    "import wandb\n",
    "import torch\n",
    "import torch.nn as nn\n",
    "import torch.nn.functional as F\n",
    "import torch.optim as optim\n",
    "from stable_baselines3.common.buffers import ReplayBuffer\n",
    "\n",
    "warnings.filterwarnings(\"ignore\", category=DeprecationWarning)\n",
    "\n",
    "os.environ['SDL_VIDEODRIVER'] = 'dummy'\n",
    "os.environ['WANDB_NOTEBOOK_NAME'] = 'sac.ipynb'\n",
    "\n",
    "plt.rcParams['figure.dpi'] = 100\n",
    "device = torch.device(\"cuda\" if torch.cuda.is_available() else \"cpu\")\n",
    "\n",
    "%load_ext autoreload\n",
    "%autoreload 2"
   ]
  },
  {
   "cell_type": "markdown",
   "id": "80de5b92-f042-4dbb-9b78-56f094553a21",
   "metadata": {
    "tags": []
   },
   "source": [
    "## Initializations"
   ]
  },
  {
   "cell_type": "markdown",
   "id": "e86412c6-d16f-4f3c-b03a-540715d0146a",
   "metadata": {
    "tags": []
   },
   "source": [
    "### Experiment\n",
    "\n",
    "We primarily use dictionaries for initializing experiment parameters and training hyperparameters. We use the `EasyDict` (imported as `edict`) library, which allows us to access dict values as attributes while retaining the operations and properties of the original python `dict`! [[Github Link](https://github.com/makinacorpus/easydict)]\n",
    "\n",
    "In this notebook we use a few `edicts` with `exp` being one of them. It is initialized in the following cell and has keys and values containing information about the experiment being run. Although initialized in this section, we keep adding new keys and values to the dict in the later sections as well.  \n",
    "\n",
    "This notebook supports continuous gym environments with observation space of type `gym.spaces.Box` and action space of type `gym.spaces.Box`. Eg: Pendulum-v1, MountainCarContinuous-v0, BipedalWalker-v3, LunarLanderContinuous-v2"
   ]
  },
  {
   "cell_type": "code",
   "execution_count": 2,
   "id": "86354c3c-479d-467e-a9ee-f277e602292f",
   "metadata": {},
   "outputs": [],
   "source": [
    "exp = edict()\n",
    "\n",
    "exp.exp_name = 'SAC'  # algorithm name, in this case it should be 'SAC'\n",
    "exp.env_id = 'Pendulum-v1'  # name of the gym environment to be used in this experiment. Eg: Pendulum-v1, BipedalWalker-v3\n",
    "exp.device = device.type  # save the device type used to load tensors and perform tensor operations\n",
    "\n",
    "exp.random_seed = True  # set random seed for reproducibility of python, numpy and torch\n",
    "exp.seed = 1\n",
    "\n",
    "# name of the project in Weights & Biases (wandb) to which logs are patched. (only if wandb logging is enabled)\n",
    "# if the project does not exist in wandb, it will be created automatically\n",
    "wandb_prj_name = f\"RLLBC_{exp.env_id}\"\n",
    "\n",
    "# name prefix of output files generated by the notebook\n",
    "exp.run_name = f\"{exp.env_id}__{exp.exp_name}__{exp.seed}__{datetime.now().strftime('%y%m%d_%H%M%S')}\"\n",
    "\n",
    "if exp.random_seed:\n",
    "    random.seed(exp.seed)\n",
    "    np.random.seed(exp.seed)\n",
    "    torch.manual_seed(exp.seed)\n",
    "    torch.backends.cudnn.deterministic = exp.random_seed"
   ]
  },
  {
   "cell_type": "markdown",
   "id": "80be4f89-0b03-4166-9a68-e9b3b8f0de29",
   "metadata": {
    "tags": []
   },
   "source": [
    "### Agent Model Class\n",
    "\n",
    "\n",
    "The `Agent` class consists of two different architectures of neural networks: a network architecture for the actor (`ActorNetwork`) and a network architecture for the Q-values (`QNetwork`). The Q-network takes state and action as input and evaluates to a scalar value that approximates the expected return until the end of the episode. The actor network takes the state as input and evaluates to a (multidimensional) gaussian distribution by specifying mean and (logarithm of) standard deviation. The logarithm of the standard deviation is bounded by a specified interval. Just as in [TD3](https://arxiv.org/abs/1802.09477), to counteract the overestimation of Q-values, SAC uses two Q-networks instead of one.\n",
    "\n",
    "The `Agent` class uses target networks to stabilize the learning process. In particular, it holds a target network for both Q-networks. The class provides methods to query the four different Q-networks, i.e. `get_q1_value`, `get_target_q1_value`, `get_q2_value`, and `get_target_q2_value`. The class also provides methods to query the actor network: `get_action` samples an action for a state according to the computed gaussian distribution and `get_action_and_logprob` additionally outputs the logarithm of the gaussian for the sampled action as well as the mean action. The sampled action is always first transformed to $[-1,1]$ by a hyperbolic tangent before it is scaled to the desired action space range.\n",
    "\n",
    "Note that the target networks will not be subject to the optimizer, meaning they will not be modified through gradient steps. Instead, the `Agent` class provides the function `track_networks` to make the parameters of the target networks slowly track the parameters of the learned networks by the linear combination $\\theta^t \\leftarrow \\tau\\theta + (1-\\tau)\\theta^t$ with $\\tau \\ll 1$."
   ]
  },
  {
   "cell_type": "code",
   "execution_count": 3,
   "id": "7f9cdf50-c151-4f11-aff4-071449a9d863",
   "metadata": {},
   "outputs": [],
   "source": [
    "class Critic(nn.Module):\n",
    "    def __init__(self, env):\n",
    "        super().__init__()\n",
    "\n",
    "        self.fc1 = nn.Linear(np.array(env.single_observation_space.shape).prod() + np.prod(env.single_action_space.shape, dtype=int), 64)\n",
    "        self.fc2 = nn.Linear(64, 64)\n",
    "        self.fc3 = nn.Linear(64, 1)\n",
    "\n",
    "    def forward(self, x, a):\n",
    "        x = torch.cat([x, a], 1)\n",
    "        x = F.relu(self.fc1(x))\n",
    "        x = F.relu(self.fc2(x))\n",
    "        x = self.fc3(x)\n",
    "        return x\n",
    "\n",
    "\n",
    "class Actor(nn.Module):\n",
    "    def __init__(self, env):\n",
    "        super().__init__()\n",
    "\n",
    "        self.LOG_STD_MAX = 2\n",
    "        self.LOG_STD_MIN = -5\n",
    "\n",
    "        self.fc1 = nn.Linear(np.array(env.single_observation_space.shape).prod(), 64)\n",
    "        self.fc2 = nn.Linear(64, 64)\n",
    "        self.act = F.relu\n",
    "        self.fc_mean = nn.Linear(64, np.prod(env.single_action_space.shape, dtype=int))\n",
    "        self.fc_logstd = nn.Linear(64, np.prod(env.single_action_space.shape, dtype=int))\n",
    "\n",
    "        # action rescaling\n",
    "        self.register_buffer(\n",
    "            \"action_scale\", torch.tensor((env.action_space.high - env.action_space.low) / 2.0, dtype=torch.float32)\n",
    "        )\n",
    "        self.register_buffer(\n",
    "            \"action_bias\", torch.tensor((env.action_space.high + env.action_space.low) / 2.0, dtype=torch.float32)\n",
    "        )\n",
    "\n",
    "    def forward(self, x):\n",
    "        x = self.act(self.fc1(x))\n",
    "        x = self.act(self.fc2(x))\n",
    "        mean = self.fc_mean(x)\n",
    "        log_std = self.fc_logstd(x)\n",
    "        log_std = torch.tanh(log_std)\n",
    "        log_std = self.LOG_STD_MIN + 0.5 * (self.LOG_STD_MAX - self.LOG_STD_MIN) * (log_std + 1)  # From SpinUp / Denis Yarats\n",
    "\n",
    "        return mean, log_std"
   ]
  },
  {
   "cell_type": "code",
   "execution_count": 4,
   "id": "a5ab7544-6785-4663-813f-583b3ba2d1d5",
   "metadata": {},
   "outputs": [],
   "source": [
    "class Agent(nn.Module):\n",
    "    def __init__(self, env):\n",
    "        super().__init__()\n",
    "        self.q1_net = Critic(env)\n",
    "        self.q2_net = Critic(env)\n",
    "        self.target_q1_net = Critic(env)\n",
    "        self.target_q2_net = Critic(env)\n",
    "        self.actor_net = Actor(env)\n",
    "\n",
    "        self.target_q1_net.load_state_dict(self.q1_net.state_dict())\n",
    "        self.target_q2_net.load_state_dict(self.q2_net.state_dict())\n",
    "\n",
    "    def get_q1_value(self, x, a):\n",
    "        return self.q1_net(x, a)\n",
    "\n",
    "    def get_q2_value(self, x, a):\n",
    "        return self.q2_net(x, a)\n",
    "\n",
    "    def get_target_q1_value(self, x, a):\n",
    "        return self.target_q1_net(x, a)\n",
    "\n",
    "    def get_target_q2_value(self, x, a):\n",
    "        return self.target_q2_net(x, a)\n",
    "\n",
    "    def get_action(self, x, greedy=False):\n",
    "        mean, log_std = self.actor_net(x)\n",
    "        std = log_std.exp()\n",
    "        normal = torch.distributions.Normal(mean, std)\n",
    "        if not greedy:\n",
    "            x_t = normal.rsample()  # for reparameterization trick (mean + std * N(0,1))\n",
    "        else:\n",
    "            x_t = mean  # greedy action\n",
    "        y_t = torch.tanh(x_t)\n",
    "        action = y_t * self.actor_net.action_scale + self.actor_net.action_bias\n",
    "\n",
    "        return action\n",
    "\n",
    "    def get_action_and_logprob(self, x):\n",
    "        mean, log_std = self.actor_net(x)\n",
    "        std = log_std.exp()\n",
    "        normal = torch.distributions.Normal(mean, std)\n",
    "        x_t = normal.rsample()  # for reparameterization trick (mean + std * N(0,1))\n",
    "        y_t = torch.tanh(x_t)\n",
    "        action = y_t * self.actor_net.action_scale + self.actor_net.action_bias\n",
    "        log_prob = normal.log_prob(x_t)\n",
    "        # Enforcing Action Bound\n",
    "        log_prob -= torch.log(self.actor_net.action_scale * (1 - y_t.pow(2)) + 1e-6)\n",
    "        log_prob = log_prob.sum(1, keepdim=True)\n",
    "        mean = torch.tanh(mean) * self.actor_net.action_scale + self.actor_net.action_bias\n",
    "        return action, log_prob, mean\n",
    "\n",
    "    def update_target_networks(self, tau):\n",
    "        for param, target_param in zip(self.q1_net.parameters(), self.target_q1_net.parameters()):\n",
    "            target_param.data.copy_(tau * param.data + (1 - tau) * target_param.data)\n",
    "        for param, target_param in zip(self.q2_net.parameters(), self.target_q2_net.parameters()):\n",
    "            target_param.data.copy_(tau * param.data + (1 - tau) * target_param.data)"
   ]
  },
  {
   "cell_type": "markdown",
   "id": "4fa01160-2779-4ced-b3b6-fef310652fe9",
   "metadata": {},
   "source": [
    "### Training Params & Agent Hyperparams\n",
    "\n",
    "The second dictionary we use, `hypp`, is initialized in the following cell. It has keys and values containing the hyperparameters necessary to the algorithm.\n",
    "\n",
    "The parameters and hyperparameters in this section are broadly categorized as below:\n",
    "1. Flags for logging: \n",
    "    - They are stored in the `exp` dict. \n",
    "    - This notebook uses tensorboard logging by deafult to log experiment metrics. These tb log files are saved in the directory `logs/<exp.exp_type>/<exp.run_name>/tb`. (to learn about `exp.exp_type` refer point 3. below)\n",
    "    - To enable logging of gym videos of the agent's interaction with the env set `exp.capture_video = True`\n",
    "    - Patch tensorboard logs and gym videos to Weigths & Biases (wandb) by setting `exp.enable_wandb_logging = True`\n",
    "2. Flags and parameters to generate average performance throughout training:\n",
    "    - Stored in the `exp` dict\n",
    "    - If `exp.eval_agent = True`, the performance of the agent during it's training is saved in the corresponding logs folder. You can later used this to compare the performance of your current agent with other agents during their training (in Section 1.5.2).\n",
    "    - Every `exp.eval_frequency` episodes the trained agent is evaluated using the `envs_eval` by playing out `exp.eval_count` episodes\n",
    "    - To speed up training set `exp.eval_agent = False` \n",
    "3. Create experiment hierarchy inside log folders:\n",
    "    - if `exp.exp_type` is None, experiment logs are saved to the root log directory `logs`, ie, `/logs/<exp.run_name>`, otherwise they are saved to the directory `logs/<exp.exp_type>/<exp._name>`\n",
    "4. Parameters and hyperparameters related to the algorithm:\n",
    "    - Stored in the `hypp` dict\n",
    "    - Quick reminder:  the `num_steps` key in the `hypp` dict is also a hyperparameter defined in Env & Rollout Buffer Init Section.\n",
    "\n",
    "Note: \n",
    "1. If Weigths and Biases (wandb) logging is enabled, when you run the \"Training The Agent\" cell, enter your wandb's api key when prompted. \n",
    "2. Training takes longer when either gym video recording or agent evaluation during training is enabled. To speed up training set both `exp.capture_video` and `exp.eval_agent` to `False`."
   ]
  },
  {
   "cell_type": "code",
   "execution_count": 5,
   "id": "6fc74697-2586-40cc-b626-5e460ae92705",
   "metadata": {},
   "outputs": [],
   "source": [
    "hypp = edict()\n",
    "\n",
    "# env count\n",
    "exp.num_envs = 1  # currently replaybuffer from SB3 supports only single environment\n",
    "\n",
    "# flags for logging purposes\n",
    "exp.enable_wandb_logging = True\n",
    "exp.capture_video = True  # disable to speed up training\n",
    "\n",
    "# flags to generate agent's average performance during training\n",
    "exp.eval_agent = True  # disable to speed up training\n",
    "exp.eval_count = 10\n",
    "exp.eval_frequency = 20\n",
    "exp.device = device.type\n",
    "\n",
    "# putting the run into the designated log folder for structuring\n",
    "exp.exp_type = None  # directory the run is saved to. Should be None or a string value\n",
    "\n",
    "# agent training specific parameters and hyperparameters\n",
    "hypp.total_timesteps = 100000  # the training duration in number of time steps\n",
    "hypp.learning_starts = 5000  # timestep after which gradient descent updates begins\n",
    "hypp.buffer_size = 10000  # size of replay buffer\n",
    "hypp.batch_size = 256  # number of minibatches for gradient updates\n",
    "\n",
    "hypp.gamma = 0.99  # discount factor over future rewards\n",
    "hypp.tau = 0.005  # smoothing coefficient for target q neworks parameters\n",
    "hypp.exploration_noise = 0.1  # the scale of exploration noise\n",
    "hypp.policy_lr = 3e-4  # learning rate of the policy network optimizer\n",
    "hypp.q_lr = 1e-3  # learning rate of the Q network network optimizer\n",
    "hypp.policy_frequency = 2  # frequency of training policy (delayed)\n",
    "hypp.target_network_frequency = 1  # frequency of updates for the target networks\n",
    "hypp.alpha = 0.2  # Entropy regularization coefficient\n",
    "hypp.autotune = True  # automatic tuning of the entropy coefficient"
   ]
  },
  {
   "cell_type": "markdown",
   "id": "963a3272-c548-415e-8423-ed3a6277c43e",
   "metadata": {},
   "source": [
    "### Replay Buffer\n",
    "\n",
    "In the following cell the **replay buffer** is initialised. It is used in 2 ways:\n",
    "- It **stores transitions** the agent took in the environment in the past (i.e. (state, action, next_state, reward, done?) tuples)\n",
    "- It is possible to **sample a batch** of transitions from the replay buffer. The batch is used to perform a gradient step on for training."
   ]
  },
  {
   "cell_type": "code",
   "execution_count": 6,
   "id": "125c0614-13d0-44f6-a788-0b16efef30d8",
   "metadata": {},
   "outputs": [],
   "source": [
    "envs = gym.vector.SyncVectorEnv([hf.make_env(exp.env_id, exp.seed + i) for i in range(exp.num_envs)])\n",
    "\n",
    "rb = ReplayBuffer(\n",
    "    int(hypp.buffer_size),\n",
    "    envs.single_observation_space,\n",
    "    envs.single_action_space,\n",
    "    device,\n",
    "    handle_timeout_termination=True,\n",
    ")"
   ]
  },
  {
   "cell_type": "markdown",
   "id": "4d15ab05-01a7-4562-92f6-867c6ed0605c",
   "metadata": {},
   "source": [
    "### Training the Agent\n",
    "\n",
    "Before we begin training the agent, we first initialize the logging (based on the respective flags in the `exp` dict), the object of the `Agent` class and the optimizers: one for the Q-networks, one for the actor, and possibly one for tuning the entropy coefficient $\\alpha$. We also initialize an initial set of observations.\n",
    "\n",
    "After that follows the main training loop which consists of an initial **warm-up phase** followed by the **training phase**. In the warm-up phase we sample random trajectories to fill the replay buffer with observations. After that we enter the training phase which consists of:\n",
    "1. **Taking a step in the environment** according to the policy defined by the actor network.\n",
    "2. **Sampling a minibatch from the replay buffer** of previously experienced transitions. These are tuples of the form $(s,a,s',r,d)$=(state, action, next_state, reward, done) where done is a boolean indicating whether the environment has terminated after the transition.\n",
    "3. **Optimizing the Q-networks** by:\n",
    "    1. Sampling the target actions $\\tilde{a}_i$ in the states $s'_i$ of the minibatch from the policy network $\\pi$\n",
    "    2. Calculating the targets for each transition in the minibatch. Let $Q_j'(s,a)$ denote the Q-value of the $j$-th target network in state $s$ for action $a$, then the target $T_i$ for transition $i$ of the minibatch is:  \n",
    "    <br>$$\\begin{equation}T_i =\n",
    "\\begin{cases}\n",
    "r_i + \\min_{j=1,2}Q_j'(s'_i,\\tilde{a}_i) - \\alpha\\log (\\pi(s'_i, \\tilde{a}_i)) &, \\text{if } d_i = 0\\\\\n",
    "r_i &, \\text{else}\n",
    "\\end{cases}\n",
    "\\end{equation}$$  \n",
    "\n",
    "    3. Setting up the Q-loss functions $L_{Q_j}$ as a mean squared error (MSE) between Q-values and computed targets. Let $Q_j(s,a|\\theta^{Q_j})$ be the Q-value of the $j$-th Q-network for state $s$ and action $a$, then for $j=1,2$ the Q-losses are:  \n",
    "    <br>$$L_{Q_j} = \\frac{1}{m}\\sum_{i=1}^{m}(Q(s_i,a_i|\\theta^{Q_j}) - T_i)^2$$  \n",
    "    \n",
    "    4. Performing a gradient descent step for the parameters of the Q-networks $\\theta^{Q} = \\bigcup_{j=1,2}\\theta^{Q_j}$ along the gradient $\\nabla_{\\theta^Q} L_{Q_1} + L_{Q_2}$.\n",
    "4. **Optimizing the actor network** by:\n",
    "    1. Computing the policy loss $L_\\pi$ for the minibatch. Let $\\tilde{a}_i \\sim \\pi(\\cdot|s_i; \\theta^{\\pi})$ be the actions sampled (once again) by the actor network $\\pi$ in states $s_i$, then the policy loss is:  \n",
    "    <br>$$L_{\\pi} = \\frac{1}{m}\\sum_{i=1}^m\\left( \\alpha\\log\\pi(s_i, \\tilde{a}_i|\\theta^{\\pi})-\\min_{j=1,2}Q_j(s_i,\\tilde{a}_i)\\right)$$  \n",
    "    \n",
    "    2. Performing a gradient descent step for parameters of actor network $\\theta^\\pi$ along the gradient $\\nabla_{\\theta^\\pi} L_\\pi$.\n",
    "    \n",
    "5. **Tuning the temperature parameter $\\alpha$** by:\n",
    "    1. Setting up a loss function $L_{\\alpha}$ for the minibatch. Again, for the sampled actions $\\tilde{a}_i \\sim \\pi(\\cdot|s_i)$ from the actor network $\\pi$ in states $s_i$, we arrive at the loss: $$L_{\\alpha} = \\frac{1}{m}\\sum_{i=1}^m -\\alpha * (\\log\\pi(s_i, \\tilde{a}_i) + \\bar{H})$$ where $\\bar{H}$ is a specified target entropy.\n",
    "    2. Performing a gradient descent step for the parameter $\\alpha$ along the gradient $\\nabla_{\\alpha} L_{\\alpha}$.  \n",
    "      \n",
    "      Note: for numerical reasons, rather than tuning $\\alpha$ directly, this implementation tunes its logarithm. The actually implemented formulas can be obtained by replacing $\\alpha$ by $\\log\\alpha$.\n",
    "    \n",
    "6. **Updating the target networks** by letting them track the parameters of the learned networks.\n",
    "\n",
    "Note that steps 4 to 6 are generally not performed in every step of the main loop but in a delayed fashion.\n",
    "\n",
    "Post completion of the main training loop, we save a copy of the following in the directory `logs/<exp.exp_type>/<exp.run_name>`:\n",
    "1. `exp` and `hypp` dicts into a `.config` file \n",
    "2. `agent` (instance of `Agent` class) into a `.pt` file for later evaluation\n",
    "3. agent performance progress throughout training into a `.csv` file if `exp.eval_agent=True`\n",
    "\n",
    "Note: we have two vectorised gym environments, `envs` and `envs_eval` in the initalizations. `envs` is used to fill the rollout buffer with trajectories and `envs_eval` is used to evaluate the agent performance at different stages of training."
   ]
  },
  {
   "cell_type": "code",
   "execution_count": 7,
   "id": "6f237b86-59fc-415e-879d-b3ad925497ad",
   "metadata": {},
   "outputs": [
    {
     "name": "stderr",
     "output_type": "stream",
     "text": [
      "\u001b[34m\u001b[1mwandb\u001b[0m: Currently logged in as: \u001b[33mlukas-kesper98\u001b[0m. Use \u001b[1m`wandb login --relogin`\u001b[0m to force relogin\n"
     ]
    },
    {
     "data": {
      "text/html": [
       "wandb version 0.16.6 is available!  To upgrade, please run:\n",
       " $ pip install wandb --upgrade"
      ],
      "text/plain": [
       "<IPython.core.display.HTML object>"
      ]
     },
     "metadata": {},
     "output_type": "display_data"
    },
    {
     "data": {
      "text/html": [
       "Tracking run with wandb version 0.16.5"
      ],
      "text/plain": [
       "<IPython.core.display.HTML object>"
      ]
     },
     "metadata": {},
     "output_type": "display_data"
    },
    {
     "data": {
      "text/html": [
       "Run data is saved locally in <code>/Users/kesperlukas/Projects/RLLBC/deep_examples/notebooks/logs/wandb/run-20240412_140604-38q6u7ud</code>"
      ],
      "text/plain": [
       "<IPython.core.display.HTML object>"
      ]
     },
     "metadata": {},
     "output_type": "display_data"
    },
    {
     "data": {
      "text/html": [
       "Syncing run <strong><a href='https://wandb.ai/lukas-kesper98/RLLBC_Pendulum-v1/runs/38q6u7ud/workspace' target=\"_blank\">Pendulum-v1__SAC__1__240412_140603</a></strong> to <a href='https://wandb.ai/lukas-kesper98/RLLBC_Pendulum-v1' target=\"_blank\">Weights & Biases</a> (<a href='https://wandb.me/run' target=\"_blank\">docs</a>)<br/>"
      ],
      "text/plain": [
       "<IPython.core.display.HTML object>"
      ]
     },
     "metadata": {},
     "output_type": "display_data"
    },
    {
     "data": {
      "text/html": [
       " View project at <a href='https://wandb.ai/lukas-kesper98/RLLBC_Pendulum-v1' target=\"_blank\">https://wandb.ai/lukas-kesper98/RLLBC_Pendulum-v1</a>"
      ],
      "text/plain": [
       "<IPython.core.display.HTML object>"
      ]
     },
     "metadata": {},
     "output_type": "display_data"
    },
    {
     "data": {
      "text/html": [
       " View run at <a href='https://wandb.ai/lukas-kesper98/RLLBC_Pendulum-v1/runs/38q6u7ud/workspace' target=\"_blank\">https://wandb.ai/lukas-kesper98/RLLBC_Pendulum-v1/runs/38q6u7ud/workspace</a>"
      ],
      "text/plain": [
       "<IPython.core.display.HTML object>"
      ]
     },
     "metadata": {},
     "output_type": "display_data"
    },
    {
     "data": {
      "application/vnd.jupyter.widget-view+json": {
       "model_id": "9edfb7f3ed984fe687e8e8ec6fedcb3f",
       "version_major": 2,
       "version_minor": 0
      },
      "text/plain": [
       "  0%|          | 0/100000 [00:00<?, ?it/s]"
      ]
     },
     "metadata": {},
     "output_type": "display_data"
    },
    {
     "data": {
      "application/vnd.jupyter.widget-view+json": {
       "model_id": "",
       "version_major": 2,
       "version_minor": 0
      },
      "text/plain": [
       "VBox(children=(Label(value='0.724 MB of 0.724 MB uploaded\\r'), FloatProgress(value=1.0, max=1.0)))"
      ]
     },
     "metadata": {},
     "output_type": "display_data"
    },
    {
     "data": {
      "text/html": [
       " View run <strong style=\"color:#cdcd00\">Pendulum-v1__SAC__1__240412_140603</strong> at: <a href='https://wandb.ai/lukas-kesper98/RLLBC_Pendulum-v1/runs/38q6u7ud/workspace' target=\"_blank\">https://wandb.ai/lukas-kesper98/RLLBC_Pendulum-v1/runs/38q6u7ud/workspace</a><br/>Synced 5 W&B file(s), 4 media file(s), 2 artifact file(s) and 1 other file(s)"
      ],
      "text/plain": [
       "<IPython.core.display.HTML object>"
      ]
     },
     "metadata": {},
     "output_type": "display_data"
    }
   ],
   "source": [
    "# reinit run_name\n",
    "exp.run_name = f\"{exp.env_id}__{exp.exp_name}__{exp.seed}__{datetime.now().strftime('%y%m%d_%H%M%S')}\"\n",
    "\n",
    "# Init tensorboard logging and wandb logging\n",
    "writer = hf.setup_logging(wandb_prj_name, exp, hypp)\n",
    "\n",
    "# create two vectorized envs: one to fill the rollout buffer with trajectories, and\n",
    "# another to evaluate the agent performance at different stages of training\n",
    "envs.close()\n",
    "envs = gym.vector.SyncVectorEnv([hf.make_env(exp.env_id, exp.seed + i) for i in range(exp.num_envs)])\n",
    "envs_eval = gym.vector.SyncVectorEnv([hf.make_env(exp.env_id, exp.seed + i) for i in range(exp.eval_count)])\n",
    "\n",
    "# envs.single_observation_space.dtype = np.float32\n",
    "\n",
    "# init list to track agent's performance throughout training\n",
    "tracked_returns_over_training = []\n",
    "tracked_episode_len_over_training = []\n",
    "tracked_episode_count = []\n",
    "last_evaluated_episode = None  # stores the episode_step of when the agent's performance was last evaluated\n",
    "greedy_evaluation = True  # whether to perform the evaluation in a greedy way or not\n",
    "eval_max_return = -float('inf')\n",
    "\n",
    "agent = Agent(envs).to(device)\n",
    "q_optimizer = optim.Adam(list(agent.q1_net.parameters()) + list(agent.q2_net.parameters()), lr=hypp.q_lr)\n",
    "actor_optimizer = optim.Adam(agent.actor_net.parameters(), lr=hypp.policy_lr)\n",
    "\n",
    "global_step = 0\n",
    "episode_step = 0\n",
    "gradient_step = 0\n",
    "\n",
    "# Automatic entropy tuning\n",
    "if hypp.autotune:\n",
    "    target_entropy = -torch.prod(torch.Tensor(envs.single_action_space.shape).to(device)).item()\n",
    "    log_alpha = torch.zeros(1, requires_grad=True, device=device)\n",
    "    alpha = log_alpha.exp().item()\n",
    "    a_optimizer = optim.Adam([log_alpha], lr=hypp.q_lr)\n",
    "else:\n",
    "    alpha = hypp.alpha\n",
    "\n",
    "# Init observation to start learning\n",
    "start_time = time.time()\n",
    "obs = torch.Tensor(envs.reset()).to(device)\n",
    "\n",
    "pbar = notebook.tqdm(range(hypp.total_timesteps))\n",
    "\n",
    "# training loop\n",
    "for global_step in pbar:\n",
    "\n",
    "    # collect trajectories; sample action randomly if learning/gradient updates has not begun\n",
    "    if global_step < hypp.learning_starts:\n",
    "        actions = np.array([envs.single_action_space.sample() for _ in range(envs.num_envs)])\n",
    "    else:\n",
    "        # actions, _, _ = agent.get_action(torch.Tensor(obs).to(device))\n",
    "        actions = agent.get_action(torch.Tensor(obs).to(device))\n",
    "        actions = actions.detach().cpu().numpy()\n",
    "\n",
    "    # execute the game and log data\n",
    "    next_obs, rewards, dones, infos = envs.step(actions)\n",
    "    real_next_obs = next_obs.copy()\n",
    "\n",
    "    # record rewards for plotting purposes at the end of every episode\n",
    "    for idx, info in enumerate(infos):\n",
    "        if \"episode\" in info.keys():\n",
    "            pbar.set_description(f\"global_step={global_step}, episodic_return={info['episode']['r']:.3f}\")\n",
    "            writer.add_scalar(\"rollout/episodic_return\", info[\"episode\"][\"r\"], global_step+idx)\n",
    "            writer.add_scalar(\"rollout/episodic_length\", info[\"episode\"][\"l\"], global_step+idx)\n",
    "            writer.add_scalar(\"Charts/episode_step\", episode_step, global_step)\n",
    "            writer.add_scalar(\"Charts/gradient_step\", gradient_step, global_step)\n",
    "            episode_step += 1\n",
    "\n",
    "        # handle `terminal_observation`\n",
    "        if dones[idx]:\n",
    "            real_next_obs[idx] = info[\"terminal_observation\"]\n",
    "\n",
    "    # save data to reply buffer\n",
    "    rb.add(obs, real_next_obs, actions, rewards, dones, infos)\n",
    "\n",
    "    obs = next_obs\n",
    "\n",
    "    # generate average performance statistics of current learned agent\n",
    "    if exp.eval_agent and episode_step % exp.eval_frequency == 0 and last_evaluated_episode != episode_step:\n",
    "        last_evaluated_episode = episode_step\n",
    "        tracked_return, tracked_episode_len = hf.evaluate_agent(envs_eval, agent, exp.eval_count, exp.seed, greedy_actor=greedy_evaluation)\n",
    "        tracked_returns_over_training.append(tracked_return)\n",
    "        tracked_episode_len_over_training.append(tracked_episode_len)\n",
    "        tracked_episode_count.append([episode_step, global_step])\n",
    "\n",
    "        # if there has been improvment of the model -\n",
    "        if np.mean(tracked_return) > eval_max_return:\n",
    "            eval_max_return = np.mean(tracked_return)\n",
    "            # call helper function save_and_log_agent to save model, create video, log video to wandb\n",
    "            hf.save_and_log_agent(exp, agent, episode_step, greedy=greedy_evaluation, print_path=False)\n",
    "\n",
    "    # begin gradient descent updates\n",
    "    if global_step > hypp.learning_starts:\n",
    "        data = rb.sample(hypp.batch_size)\n",
    "\n",
    "        # compute targets for Q networks\n",
    "        with torch.no_grad():\n",
    "            next_state_actions, next_state_log_pi, _ = agent.get_action_and_logprob(data.next_observations)\n",
    "            q1_next_target = agent.get_target_q1_value(data.next_observations, next_state_actions)\n",
    "            q2_next_target = agent.get_target_q2_value(data.next_observations, next_state_actions)\n",
    "            min_q_next_target = torch.min(q1_next_target, q2_next_target) - alpha * next_state_log_pi\n",
    "            next_q_value = data.rewards.flatten() + (1 - data.dones.flatten()) * hypp.gamma * (min_q_next_target).view(-1)\n",
    "\n",
    "        # compute error loss for both Q networks\n",
    "        q1_a_values = agent.get_q1_value(data.observations, data.actions).view(-1)\n",
    "        q2_a_values = agent.get_q2_value(data.observations, data.actions).view(-1)\n",
    "        q1_loss = F.mse_loss(q1_a_values, next_q_value)\n",
    "        q2_loss = F.mse_loss(q2_a_values, next_q_value)\n",
    "        q_loss = q1_loss + q2_loss\n",
    "\n",
    "        # optimize Q network\n",
    "        q_optimizer.zero_grad()\n",
    "        q_loss.backward()\n",
    "        q_optimizer.step()\n",
    "\n",
    "        # gradient_step += 1\n",
    "\n",
    "        # improve policy using entropy regulalized policy update\n",
    "        if global_step % hypp.policy_frequency == 0:  # TD 3 Delayed update support\n",
    "            for _ in range(hypp.policy_frequency):  # compensate for the delay by doing 'hypp.policy_frequency' times instead of 1\n",
    "                pi, log_pi, _ = agent.get_action_and_logprob(data.observations)\n",
    "                q1_pi = agent.get_q1_value(data.observations, pi)\n",
    "                q2_pi = agent.get_q2_value(data.observations, pi)\n",
    "                min_q_pi = torch.min(q1_pi, q2_pi).view(-1)\n",
    "                policy_loss = ((alpha * log_pi) - min_q_pi).mean()\n",
    "\n",
    "                # optimize policy\n",
    "                actor_optimizer.zero_grad()\n",
    "                policy_loss.backward()\n",
    "                actor_optimizer.step()\n",
    "\n",
    "                gradient_step += 1\n",
    "\n",
    "                # update alpha parameter\n",
    "                if hypp.autotune:\n",
    "                    with torch.no_grad():\n",
    "                        _, log_pi, _ = agent.get_action_and_logprob(data.observations)\n",
    "                    alpha_loss = (-log_alpha * (log_pi + target_entropy)).mean()\n",
    "\n",
    "                    # tune entropy temperature\n",
    "                    a_optimizer.zero_grad()\n",
    "                    alpha_loss.backward()\n",
    "                    a_optimizer.step()\n",
    "                    alpha = log_alpha.exp().item()\n",
    "\n",
    "        # update the target networks\n",
    "        if global_step % hypp.target_network_frequency == 0:\n",
    "            agent.update_target_networks(hypp.tau)\n",
    "\n",
    "        # log training losses to tensorboard\n",
    "        if global_step % 100 == 0:\n",
    "            writer.add_scalar(\"train/q1_values\", q1_a_values.mean().item(), global_step)\n",
    "            writer.add_scalar(\"train/q2_values\", q2_a_values.mean().item(), global_step)\n",
    "            writer.add_scalar(\"train/q1_loss\", q1_loss.item(), global_step)\n",
    "            writer.add_scalar(\"train/q2_loss\", q2_loss.item(), global_step)\n",
    "            writer.add_scalar(\"train/q_loss\", q_loss.item() / 2.0, global_step)\n",
    "            writer.add_scalar(\"train/policy_loss\", policy_loss.item(), global_step)\n",
    "            writer.add_scalar(\"hyperparameters/alpha\", alpha, global_step)\n",
    "            writer.add_scalar(\"Charts/episode_step\", episode_step, global_step)\n",
    "            writer.add_scalar(\"Charts/gradient_step\", gradient_step, global_step)\n",
    "            writer.add_scalar(\"others/SPS\", int(global_step / (time.time() - start_time)), global_step)\n",
    "            if hypp.autotune:\n",
    "                writer.add_scalar(\"losses/alpha_loss\", alpha_loss.item(), global_step)\n",
    "\n",
    "# one last evaluation stage\n",
    "if exp.eval_agent:\n",
    "    last_evaluated_episode = episode_step\n",
    "    tracked_return, tracked_episode_len = hf.evaluate_agent(envs_eval, agent, exp.eval_count, exp.seed, greedy_actor=greedy_evaluation)\n",
    "    tracked_returns_over_training.append(tracked_return)\n",
    "    tracked_episode_len_over_training.append(tracked_episode_len)\n",
    "    tracked_episode_count.append([episode_step, global_step])\n",
    "\n",
    "    # if there has been improvment of the model -\n",
    "    if np.mean(tracked_return) > eval_max_return:\n",
    "        eval_max_return = np.mean(tracked_return)\n",
    "        # call helper function save_and_log_agent to save model, create video, log video to wandb\n",
    "        hf.save_and_log_agent(exp, agent, episode_step, greedy=greedy_evaluation, print_path = True)\n",
    "\n",
    "    hf.save_tracked_values(tracked_returns_over_training, tracked_episode_len_over_training, tracked_episode_count, exp.eval_count, exp.run_name, exp.exp_type)\n",
    "\n",
    "envs.close()\n",
    "envs_eval.close()\n",
    "writer.close()\n",
    "if wandb.run is not None:\n",
    "    wandb.finish(quiet=True)\n",
    "    wandb.init(mode=\"disabled\")\n",
    "\n",
    "hf.save_train_config_to_yaml(exp, hypp)"
   ]
  },
  {
   "cell_type": "markdown",
   "id": "17fa634a-5a38-4836-afeb-a4c7914c2f9a",
   "metadata": {
    "tags": []
   },
   "source": [
    "## Compare Trained Agents and Display Behaviour"
   ]
  },
  {
   "cell_type": "markdown",
   "id": "8b890d2c-f07f-412f-b7bf-b935f30cdf17",
   "metadata": {
    "tags": []
   },
   "source": [
    "### Display Trained Agent Behaviour\n",
    "\n",
    "Set `agent_name` and `agent_exp_type` to load the saved agent model in the respective log folder and generate a video of the agent's interaction with the gym environment. After the cell is executed, you should see a video embedding as output, and the video is also available in the directory: `/logs/<exp.exp_type>/<exp.run_name>/videos` "
   ]
  },
  {
   "cell_type": "code",
   "execution_count": 8,
   "id": "b982f24f-d21d-4883-bab7-7796a659a2d6",
   "metadata": {},
   "outputs": [
    {
     "data": {
      "text/html": [
       "<video loop autoplay  >\n",
       " <source src=\"data:video/mp4;base64,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\" type=\"video/mp4\">\n",
       " Your browser does not support the video tag.\n",
       " </video>"
      ],
      "text/plain": [
       "<IPython.core.display.Video object>"
      ]
     },
     "execution_count": 8,
     "metadata": {},
     "output_type": "execute_result"
    }
   ],
   "source": [
    "agent_name = exp.run_name\n",
    "agent_exp_type = exp.exp_type  # both are needed to identify the agent location\n",
    "\n",
    "\n",
    "exp_folder = \"\" if agent_exp_type is None else agent_exp_type\n",
    "filepath, _ = hf.create_folder_relative(f\"{exp_folder}/{agent_name}/videos\")\n",
    "\n",
    "hf.record_video(exp.env_id, agent_name, f\"{filepath}/best.mp4\", exp_type=agent_exp_type, greedy=True)\n",
    "Video(data=f\"{filepath}/best.mp4\", html_attributes='loop autoplay', embed=True)"
   ]
  },
  {
   "cell_type": "markdown",
   "id": "68aa638a-fa93-43e6-8203-4b68ae27b7af",
   "metadata": {
    "tags": []
   },
   "source": [
    "### Compare Performance of Agents During Training\n",
    "\n",
    "During the training loop, if `exp.eval_agent = True`, the performance progress of the agent during its training is saved in a csv file. To compare the saved progress of different agents, create a `dict` containing the parent folder's name of each of the csv files and use the helper function `plotter_agents_training_stats`.\n",
    "\n",
    "To load the data, you can either set `eval_params.run_name00 = exp.run_name` (if only a `tracked_performance_training.csv` file for the corresponding `exp.run_name` exists) or manually enter the folder name containing the csv file. \n",
    "\n",
    "If the agent performance you want to load is inside an exp_type folder, set `eval_params.exp_type00` to experiment type, and if not, set it to `None`. \n",
    "\n",
    "You can add more than one experiment by initializing dict keys and values of the format `eval_params.run_namexx` and `eval_params.exp_typexx`."
   ]
  },
  {
   "cell_type": "code",
   "execution_count": 9,
   "id": "c474adef-84da-42d1-86dd-c38a87a99256",
   "metadata": {
    "tags": []
   },
   "outputs": [
    {
     "data": {
      "image/png": "[encoded data removed]",
      "text/plain": [
       "<Figure size 1400x300 with 2 Axes>"
      ]
     },
     "metadata": {},
     "output_type": "display_data"
    }
   ],
   "source": [
    "eval_params = edict()  # eval_params - evaluation settings for trained agent\n",
    "\n",
    "eval_params.run_name00 = exp.run_name\n",
    "eval_params.exp_type00 = exp.exp_type\n",
    "\n",
    "# eval_params.run_name01 = \"CartPole-v1__PPO__1__230302_224624\"\n",
    "# eval_params.exp_type01 = None\n",
    "\n",
    "# eval_params.run_name02 = \"CartPole-v1__PPO__1__230302_221245\"\n",
    "# eval_params.exp_type02 = None\n",
    "\n",
    "agent_labels = []\n",
    "\n",
    "episode_axis_limit = None\n",
    "\n",
    "hf.plotter_agents_training_stats(eval_params, agent_labels, episode_axis_limit, plot_returns=True, plot_episode_len=True)"
   ]
  },
  {
   "cell_type": "markdown",
   "id": "b0df4217-f704-4cbc-8924-ffe30ce15820",
   "metadata": {
    "tags": []
   },
   "source": [
    "## TensorBoard Inline"
   ]
  },
  {
   "cell_type": "code",
   "execution_count": 10,
   "id": "17554498-120b-434b-83de-7ae947d7062a",
   "metadata": {
    "tags": []
   },
   "outputs": [],
   "source": [
    "# %load_ext tensorboard\n",
    "# %tensorboard --logdir runs --host localhost"
   ]
  }
 ],
 "metadata": {
  "kernelspec": {
   "display_name": "Python 3 (ipykernel)",
   "language": "python",
   "name": "python3"
  },
  "language_info": {
   "codemirror_mode": {
    "name": "ipython",
    "version": 3
   },
   "file_extension": ".py",
   "mimetype": "text/x-python",
   "name": "python",
   "nbconvert_exporter": "python",
   "pygments_lexer": "ipython3",
   "version": "3.10.8"
  },
  "toc-autonumbering": true,
  "widgets": {
   "application/vnd.jupyter.widget-state+json": {
    "state": {},
    "version_major": 2,
    "version_minor": 0
   }
  }
 },
 "nbformat": 4,
 "nbformat_minor": 5
}
