{
 "cells": [
  {
   "cell_type": "markdown",
   "id": "1a210fd1",
   "metadata": {},
   "source": [
    "![DSME-logo](./static/DSME_logo.png)\n",
    "\n",
    "#  Reinforcement Learning and Learning-based Control\n",
    "\n",
    "<p style=\"font-size:12pt\";> \n",
    "<b> Prof. Dr. Sebastian Trimpe, Dr. Friedrich Solowjow </b><br>\n",
    "<b> Institute for Data Science in Mechanical Engineering (DSME) </b><br>\n",
    "<a href = \"mailto:rllbc@dsme.rwth-aachen.de\">rllbc@dsme.rwth-aachen.de</a><br>\n",
    "</p>\n",
    "\n",
    "---\n",
    "DQN Implementation\n",
    "\n",
    "Notebook Authors: Ramil Sabirov\n",
    "\n",
    "Adapted from: [CleanRL](https://github.com/vwxyzjn/cleanrl)\n",
    "\n",
    "Orignal Paper: [Playing Atari with Deep Reinforcement Learning](https://arxiv.org/abs/1312.5602)"
   ]
  },
  {
   "cell_type": "markdown",
   "id": "8493b02b",
   "metadata": {},
   "source": [
    "## Library Imports"
   ]
  },
  {
   "cell_type": "code",
   "id": "0d58f9e7",
   "metadata": {
    "ExecuteTime": {
     "end_time": "2025-06-03T14:08:18.044434Z",
     "start_time": "2025-06-03T14:08:18.040097Z"
    }
   },
   "source": [
    "import os\n",
    "#set env vars for cuda\n",
    "os.environ['CUDA_VISIBLE_DEVICES'] = \"0\"\n",
    "\n",
    "import copy\n",
    "import time\n",
    "import random\n",
    "import warnings\n",
    "from datetime import datetime\n",
    "from functools import partial\n",
    "\n",
    "import numpy as np\n",
    "import matplotlib.pyplot as plt\n",
    "from stable_baselines3.common.atari_wrappers import MaxAndSkipEnv, EpisodicLifeEnv, FireResetEnv, \\\n",
    "    ClipRewardEnv\n",
    "from tqdm import notebook\n",
    "from easydict import EasyDict as edict\n",
    "from IPython.display import Video\n",
    "\n",
    "import utils.helper_fns as hf\n",
    "\n",
    "import gym\n",
    "import wandb\n",
    "import torch\n",
    "import torch.nn as nn\n",
    "import torch.optim as optim\n",
    "import torch.nn.functional as F\n",
    "from stable_baselines3.common.buffers import ReplayBuffer\n",
    "\n",
    "warnings.filterwarnings(\"ignore\", category=DeprecationWarning)\n",
    "\n",
    "os.environ['SDL_VIDEODRIVER'] = 'dummy'\n",
    "os.environ['WANDB_NOTEBOOK_NAME'] = 'dqn_atari.ipynb'\n",
    "\n",
    "plt.rcParams['figure.dpi'] = 100\n",
    "device = torch.device(\"cuda\" if torch.cuda.is_available() else \"cpu\")"
   ],
   "outputs": [],
   "execution_count": 11
  },
  {
   "cell_type": "markdown",
   "id": "e9fb3389-75f0-44d5-850a-7e43ea83ac66",
   "metadata": {},
   "source": [
    "## DQN-specific helper functions\n",
    "DQN uses a decreasing linear schedule for the exploration rate $\\epsilon$. Meaning that the algorithm starts with a certain exploration rate (e.g.  $\\epsilon = 1$) and decreases the rate linearly until it reaches a minimum exploration rate (e.g. $\\epsilon = 0.05$). The helper function `linear schedule` calculates the current $\\epsilon$ as a function of timesteps `t`."
   ]
  },
  {
   "cell_type": "code",
   "id": "1010c165-24cc-4a2b-9b38-2267f09eb29a",
   "metadata": {
    "ExecuteTime": {
     "end_time": "2025-06-03T14:08:18.093444Z",
     "start_time": "2025-06-03T14:08:18.091477Z"
    }
   },
   "source": [
    "def linear_schedule(start_e: float, end_e: float, duration: int, t: int):\n",
    "    '''\n",
    "    returns the linearly decreasing exploration probability epsilon for a certain timestep\n",
    "    :param start_e: exploration probability (epsilon) at timestep 0\n",
    "    :param end_e:  minimal exploration probability (epsilon)\n",
    "    :param duration: number of timesteps after which end_e is reached\n",
    "    :param t: the current timestep\n",
    "    :return: exploration probability (epsilon) for the current timestep\n",
    "    '''\n",
    "    slope = (end_e - start_e) / duration\n",
    "    return max(slope * t + start_e, end_e)"
   ],
   "outputs": [],
   "execution_count": 12
  },
  {
   "cell_type": "markdown",
   "id": "a8223db4",
   "metadata": {},
   "source": [
    "## Initializations"
   ]
  },
  {
   "cell_type": "markdown",
   "id": "8e5ddf45",
   "metadata": {},
   "source": [
    "### Experiment\n",
    "\n",
    "We primarily use dictionaries for initializing experiment parameters and training hyperparameters. We use the `EasyDict` (imported as `edict`) library, which allows us to access dict values as attributes while retaining the operations and properties of the original python `dict`! [[Github Link](https://github.com/makinacorpus/easydict)]\n",
    "\n",
    "In this notebook we use a few `edicts` with `exp` being one of them. It is initialized in the following cell and has keys and values containing information about the experiment being run. Although initialized in this section, we keep adding new keys and values to the dict in the later sections as well.  \n",
    "\n",
    "This notebook supports gym environments with observation space of type `gym.spaces.Box` and action space of type `gym.spaces.Discrete`. Eg: Acrobot-v1, CartPole-v1, MountainCar-v0"
   ]
  },
  {
   "cell_type": "code",
   "id": "45b9b8fb",
   "metadata": {
    "ExecuteTime": {
     "end_time": "2025-06-03T14:08:18.142900Z",
     "start_time": "2025-06-03T14:08:18.138853Z"
    }
   },
   "source": [
    "exp = edict()\n",
    "\n",
    "exp.exp_name = 'DQN'  # algorithm name, in this case it should be 'DQN'\n",
    "exp.env_id = 'BreakoutNoFrameskip-v4'  # name of the gym environment to be used in this experiment. Eg: Acrobot-v1, CartPole-v1, MountainCar-v0\n",
    "exp.device = device.type  # save the device type used to load tensors and perform tensor operations\n",
    "\n",
    "set_random_seed = True  # set random seed for reproducibility of python, numpy and torch\n",
    "exp.seed = 2\n",
    "\n",
    "# name of the project in Weights & Biases (wandb) to which logs are patched. (only if wandb logging is enabled)\n",
    "# if the project does not exist in wandb, it will be created automatically\n",
    "wandb_prj_name = f\"RLLBC_Breakout-v4\"\n",
    "\n",
    "# name prefix of output files generated by the notebook\n",
    "exp.run_name = f\"{exp.env_id}__{exp.exp_name}__{exp.seed}__{datetime.now().strftime('%y%m%d_%H%M%S')}\"\n",
    "\n",
    "if set_random_seed:\n",
    "    random.seed(exp.seed)\n",
    "    np.random.seed(exp.seed)\n",
    "    torch.manual_seed(exp.seed)\n",
    "    torch.backends.cudnn.deterministic = set_random_seed"
   ],
   "outputs": [],
   "execution_count": 13
  },
  {
   "cell_type": "markdown",
   "id": "ebba383a",
   "metadata": {},
   "source": [
    "### Agent Model Class\n",
    "\n",
    "The `Agent` class consists of two neural networks with the exact same architecture: the *Q-network* and the *target network*. Both networks are taking a state as input and evaluate to *Q-values* for every possible (discrete) action. The class provides methods to query the networks, i.e. `get_q_values` and `get_target_values`.\n",
    "\n",
    "Note that the target network will not be subject to the optimizer, meaning that only the Q-network will be modified by the optimizer through gradient steps. Instead, the target network is periodically synchronized with the Q-network by the means of the function `synchronize_networks`.\n",
    "\n",
    "The `Agent` class also provides a method to retrieve the best action for a state according to the current Q-network, that is the action with the highest Q-value."
   ]
  },
  {
   "cell_type": "code",
   "id": "b80e1114",
   "metadata": {
    "ExecuteTime": {
     "end_time": "2025-06-03T14:08:18.190918Z",
     "start_time": "2025-06-03T14:08:18.187580Z"
    }
   },
   "source": [
    "class Agent(nn.Module):\n",
    "    def __init__(self, env):\n",
    "        super().__init__()\n",
    "        self.q_network = nn.Sequential(\n",
    "            nn.Conv2d(4, 32, 8, stride=4),\n",
    "            nn.ReLU(),\n",
    "            nn.Conv2d(32, 64, 4, stride=2),\n",
    "            nn.ReLU(),\n",
    "            nn.Conv2d(64, 64, 3, stride=1),\n",
    "            nn.ReLU(),\n",
    "            nn.Flatten(),\n",
    "            nn.Linear(3136, 512),\n",
    "            nn.ReLU(),\n",
    "            nn.Linear(512, env.single_action_space.n),\n",
    "        )\n",
    "\n",
    "        self.target_network = copy.deepcopy(self.q_network)\n",
    "\n",
    "    def get_q_values(self, x):\n",
    "        return self.q_network(x / 255.0)\n",
    "\n",
    "    def get_target_values(self, x):\n",
    "        return self.target_network(x / 255.0)\n",
    "\n",
    "    def synchronize_networks(self):\n",
    "        self.target_network.load_state_dict(self.q_network.state_dict())\n",
    "\n",
    "    def get_action(self, x, greedy=True):\n",
    "        q_vals = self.get_q_values(x)\n",
    "        action = q_vals.argmax(dim=1)\n",
    "\n",
    "        return action"
   ],
   "outputs": [],
   "execution_count": 14
  },
  {
   "cell_type": "markdown",
   "id": "885b57a9",
   "metadata": {},
   "source": [
    "### Training Params & Agent Hyperparams\n",
    "The second dictionary we use, `hypp`, is initialized in the following cell. It has keys and values containing the hyperparameters necessary to the algorithm.\n",
    "\n",
    "The parameters and hyperparameters in this section are broadly categorized as below:\n",
    "1. Flags for logging: \n",
    "    - They are stored in the `exp` dict. \n",
    "    - This notebook uses tensorboard logging by deafult to log experiment metrics. These tb log files are saved in the directory `logs/<exp.exp_type>/<exp.run_name>/tb`. (to learn about `exp.exp_type` refer point 3. below)\n",
    "    - To enable logging of gym videos of the agent's interaction with the env set `exp.capture_video = True`\n",
    "    - Patch tensorboard logs and gym videos to Weigths & Biases (wandb) by setting `exp.enable_wandb_logging = True`\n",
    "2. Flags and parameters to generate average performance throughout training:\n",
    "    - Stored in the `exp` dict\n",
    "    - If `exp.eval_agent = True`, the performance of the agent during it's training is saved in the corresponding logs folder. You can later used this to compare the performance of your current agent with other agents during their training (in Section 1.5.2).\n",
    "    - Every `exp.eval_frequency` episodes the trained agent is evaluated using the `envs_eval` by playing out `exp.eval_count` episodes\n",
    "    - To speed up training set `exp.eval_agent = False` \n",
    "3. Create experiment hierarchy inside log folders:\n",
    "    - if `exp.exp_type` is None, experiment logs are saved to the root log directory `logs`, ie, `/logs/<exp.run_name>`, otherwise they are saved to the directory `logs/<exp.exp_type>/<exp._name>`\n",
    "4. Parameters and hyperparameters related to the algorithm:\n",
    "    - Stored in the `hypp` dict\n",
    "    - Quick reminder:  the `num_steps` key in the `hypp` dict is also a hyperparameter defined in Env & Rollout Buffer Init Section.\n",
    "\n",
    "Note: \n",
    "1. If Weigths and Biases (wandb) logging is enabled, when you run the \"Training The Agent\" cell, enter your wandb's api key when prompted. \n",
    "2. Training takes longer when either gym video recording or agent evaluation during training is enabled. To speed up training set both `exp.capture_video` and `exp.eval_agent` to `False`."
   ]
  },
  {
   "cell_type": "code",
   "id": "53f8844a",
   "metadata": {
    "ExecuteTime": {
     "end_time": "2025-06-03T14:08:18.240113Z",
     "start_time": "2025-06-03T14:08:18.236921Z"
    }
   },
   "source": [
    "hypp = edict()\n",
    "\n",
    "# flags for logging purposes\n",
    "exp.enable_wandb_logging = True\n",
    "exp.capture_video = True\n",
    "\n",
    "# flags to generate agent's average performance during training\n",
    "exp.eval_agent = True  # disable to speed up training\n",
    "exp.eval_count = 10\n",
    "exp.eval_frequency = 200\n",
    "\n",
    "# putting the run into the designated log folder for structuring\n",
    "exp.exp_type = None  # directory the run is saved to. Should be None or a string value\n",
    "\n",
    "# agent training specific parameters and hyperparameters\n",
    "hypp.total_timesteps = int(1e7)  # the training duration in number of time steps\n",
    "hypp.learning_rate = 1e-4  # the learning rate for the optimizer\n",
    "hypp.gamma = 0.99  # decay factor of future rewards\n",
    "hypp.buffer_size = int(1e6)  # the size of the replay memory buffer\n",
    "hypp.target_network_frequency = 1000  # the frequency of synchronization with target network\n",
    "hypp.batch_size = 32  # number of samples taken from the replay buffer for one step\n",
    "hypp.start_e = 1  # probability of exploration (epsilon) at timestep 0\n",
    "hypp.end_e = 0.01  # minimal probability of exploration (epsilon)\n",
    "hypp.exploration_fraction = 0.1  # the fraction of total_timesteps it takes to go from start_e to end_e\n",
    "hypp.start_learning = 80000  # the timestep the learning starts (before that the replay buffer is filled)\n",
    "hypp.train_frequency = 4  # the frequency of training"
   ],
   "outputs": [],
   "execution_count": 15
  },
  {
   "cell_type": "markdown",
   "id": "d0155331-bfae-478c-a71c-4413613f2dd5",
   "metadata": {},
   "source": [
    "### Replay Buffer\n",
    "In the following cell the **replay buffer** is initialised. It is used in 2 ways:\n",
    "- It **stores transitions** the agent took in the environment in the past (i.e. (state, action, next_state, reward, done?) tuples)\n",
    "- It is possible to **sample a batch** of transitions from the replay buffer. The batch is used to perform a gradient step on for training."
   ]
  },
  {
   "cell_type": "code",
   "id": "0efaad3d-04b1-41f7-8596-a529a2773ad9",
   "metadata": {
    "ExecuteTime": {
     "end_time": "2025-06-03T14:08:18.482666Z",
     "start_time": "2025-06-03T14:08:18.283342Z"
    }
   },
   "source": [
    "# Initialization of Replay Buffer\n",
    "\n",
    "envs = gym.vector.SyncVectorEnv([hf.make_atari_breakout_env(exp.env_id, exp.seed + i) for i in range(1)])\n",
    "\n",
    "rb = ReplayBuffer(\n",
    "    hypp.buffer_size,\n",
    "    envs.single_observation_space,\n",
    "    envs.single_action_space,\n",
    "    device,\n",
    "    handle_timeout_termination=True,\n",
    ")\n",
    "\n",
    "envs.close()"
   ],
   "outputs": [],
   "execution_count": 16
  },
  {
   "cell_type": "markdown",
   "id": "45b81a75",
   "metadata": {},
   "source": [
    "## Training the Agent\n",
    "\n",
    "Before we begin training the agent, we first initialize the logging (based on the respective flags in the `exp` dict), the object of the `Agent` class, and the optimizer, followed by an initial set of observations. \n",
    "\n",
    "After that follows the main training loop which consists of:\n",
    "1. **Taking a step in the environment** following the $\\epsilon$-greedy policy, i.e. take random action with probability $\\epsilon$ and optimal action according to the Q-network with probability $1-\\epsilon$.\n",
    "2. **Sampling a batch from the replay buffer** of previously experienced transitions. These are tuples of the form $(s,a,s',r,d)$=(state, action, next_state, reward, done) where done is a boolean indicating whether the environment has terminated after the transition.\n",
    "3. **Calculating the TD-targets** for each transition in the batch. Let $Q_t(s,a)$ denote the Q-value of the target network in state $s$ for action $a$, then the TD-target $T_i$ for transition $i$ of the batch is:  \n",
    "\n",
    "$$T_i =\n",
    "\\begin{cases}\n",
    "r_i + \\max_{a'}Q_t(s'_i,a') &, \\text{if } d_i = 0\\\\\n",
    "r_i &, \\text{else}\n",
    "\\end{cases}$$  \n",
    "\n",
    "4. **Setting up the loss function** as a mean squared error (MSE) between Q-values and TD-targets. Let $Q_{\\theta}(s,a)$ be the Q-value of the (parametrized) Q-network for state $s$ and action $a$, then the loss $L$ is:  \n",
    "\n",
    "$$L = \\frac{1}{n}\\sum_{i=1}^{n}(Q_{\\theta}(s_i,a_i) - T_i)^2$$\n",
    "5. **Performing gradient descent** with regard to the gradient $\\frac{\\delta}{\\delta\\theta}{L}$\n",
    "\n",
    "Note that steps 2-4 are not performed in every iteration of the main loop:\n",
    "- before actual training starts the algorithm runs a \"warm-up\" phase where it begins to fill the replay buffer (see `hypp.start_learning`)\n",
    "- training happens periodically every few steps (see `hypp.train_frequency`)\n",
    "\n",
    "Also periodically, the target network and the Q-network are synchronized. (see `hypp.target_network_frequency`)\n",
    "\n",
    "Post completion of the main training loop, we save a copy of the following in the directory `logs/<exp.exp_type>/<exp.run_name>`:\n",
    "1. `exp` and `hypp` dicts into a `.config` file \n",
    "2. `agent` (instance of `Agent` class) into a `.pt` file for later evaluation\n",
    "3. agent performance progress throughout training into a `.csv` file if `exp.eval_agent=True`\n",
    "\n",
    "Note: we have two vectorised gym environments, `envs` and `envs_eval` in the initalizations. `envs` is used to fill the rollout buffer with trajectories and `envs_eval` is used to evaluate the agent performance at different stages of training."
   ]
  },
  {
   "cell_type": "code",
   "id": "0da39b1c",
   "metadata": {
    "ExecuteTime": {
     "end_time": "2025-06-03T14:08:22.476830Z",
     "start_time": "2025-06-03T14:08:18.491792Z"
    }
   },
   "source": [
    "exp.run_name = f\"{exp.env_id}__{exp.exp_name}__{exp.seed}__{datetime.now().strftime('%y%m%d_%H%M%S')}\"\n",
    "\n",
    "# Init tensorboard logging and wandb logging\n",
    "writer = hf.setup_logging(wandb_prj_name, exp, hypp)\n",
    "\n",
    "# create two vectorized envs: one to fill the rollout buffer with trajectories and\n",
    "# another one to evaluate the agent performance at different stages of training\n",
    "envs = gym.vector.SyncVectorEnv([hf.make_atari_breakout_env(exp.env_id, exp.seed)])\n",
    "envs_eval = gym.vector.SyncVectorEnv([hf.make_atari_breakout_env(exp.env_id, exp.seed + i) for i in range(1)])\n",
    "\n",
    "# Atari specific environment wrappers such that the images are preprocessed\n",
    "env_video_wrapper = [\n",
    "    partial(hf.NoopResetEnv, noop_max=30),\n",
    "    partial(MaxAndSkipEnv, skip=4),\n",
    "    EpisodicLifeEnv,\n",
    "    FireResetEnv,\n",
    "    ClipRewardEnv,\n",
    "    partial(gym.wrappers.ResizeObservation, shape=(84, 84)),\n",
    "    gym.wrappers.GrayScaleObservation,\n",
    "    partial(gym.wrappers.FrameStack, num_stack=4)\n",
    "]\n",
    "\n",
    "# init list to track agent's performance throughout training\n",
    "tracked_returns_over_training = []\n",
    "tracked_episode_len_over_training = []\n",
    "tracked_episode_count = []\n",
    "last_evaluated_episode = None  # stores the episode_step of when the agent's performance was last evaluated\n",
    "eval_max_return = -float('inf')\n",
    "\n",
    "# Create Agent class Instance and network optimizer\n",
    "agent = Agent(envs).to(device)\n",
    "optimizer = optim.Adam(agent.q_network.parameters(), lr=hypp.learning_rate)\n",
    "\n",
    "global_step = 0\n",
    "episode_step = 0\n",
    "gradient_step = 0\n",
    "\n",
    "# Init observation to start learning\n",
    "start_time = time.time()\n",
    "obs = envs.reset()\n",
    "\n",
    "pbar = notebook.tqdm(range(1, hypp.total_timesteps + 1))\n",
    "\n",
    "# training loop\n",
    "for update in pbar:\n",
    "\n",
    "    # choosing action\n",
    "    # random action with probability epsilon\n",
    "    # action according to maximum values of q-network with probality 1-epsilon\n",
    "    epsilon = linear_schedule(hypp.start_e, hypp.end_e, hypp.exploration_fraction * hypp.total_timesteps, global_step)\n",
    "    if random.random() < epsilon:\n",
    "        actions = np.array([envs.single_action_space.sample() for _ in range(envs.num_envs)])\n",
    "    else:\n",
    "        q_values = agent.get_q_values(torch.Tensor(obs).to(device))\n",
    "        actions = torch.argmax(q_values, dim=1).cpu().numpy()\n",
    "\n",
    "    # apply action to environment\n",
    "    next_obs, rewards, dones, infos = envs.step(actions)\n",
    "    global_step += 1\n",
    "\n",
    "    # log episode return and length to tensorboard as well as current epsilon\n",
    "    for info in infos:\n",
    "        if \"episode\" in info.keys():\n",
    "            episode_step += 1\n",
    "            pbar.set_description(f\"global_step: {global_step}, episodic_return={info['episode']['r']}\")\n",
    "            writer.add_scalar(\"rollout/episodic_return\", info[\"episode\"][\"r\"], global_step)\n",
    "            writer.add_scalar(\"rollout/episodic_length\", info[\"episode\"][\"l\"], global_step)\n",
    "            writer.add_scalar(\"hyperparameters/epsilon\", epsilon, global_step)\n",
    "            writer.add_scalar(\"Charts/episode_step\", episode_step, global_step)\n",
    "            writer.add_scalar(\"Charts/gradient_step\", gradient_step, global_step)\n",
    "            break\n",
    "\n",
    "    # evaluation of the agent\n",
    "    if exp.eval_agent and (episode_step % exp.eval_frequency == 0) and last_evaluated_episode != episode_step:\n",
    "        last_evaluated_episode = episode_step\n",
    "        tracked_return, tracked_episode_len = hf.evaluate_agent(envs_eval, agent, exp.eval_count,\n",
    "                                                                exp.seed, greedy_actor=True)\n",
    "        tracked_returns_over_training.append(tracked_return)\n",
    "        tracked_episode_len_over_training.append(tracked_episode_len)\n",
    "        tracked_episode_count.append([episode_step, global_step])\n",
    "\n",
    "        writer.add_scalar(\"eval/episodic_return\", np.mean(tracked_return), global_step)\n",
    "        writer.add_scalar(\"eval/episodic_length\", np.mean(tracked_episode_len), global_step)\n",
    "\n",
    "        # if there has been improvement of the model - save model, create video, log video to wandb\n",
    "        if np.mean(tracked_return) > eval_max_return:\n",
    "            writer.add_scalar(\"eval_max/episodic_return\", np.mean(tracked_return), global_step)\n",
    "            writer.add_scalar(\"eval_max/episodic_length\", np.mean(tracked_episode_len), global_step)\n",
    "\n",
    "            eval_max_return = np.mean(tracked_return)\n",
    "            # call helper function save_and_log_agent to save model, create video, log video to wandb\n",
    "            hf.save_and_log_agent(exp, agent, episode_step,\n",
    "                                  greedy=True, print_path=False, env_wrapper=env_video_wrapper)\n",
    "\n",
    "    # Handling the terminal observation\n",
    "    real_next_obs = next_obs.copy()\n",
    "    for idx, d in enumerate(dones):\n",
    "        if d:\n",
    "            real_next_obs[idx] = infos[idx][\"terminal_observation\"]\n",
    "\n",
    "    # Add data to replay buffer\n",
    "    rb.add(obs, real_next_obs, actions, rewards, dones, infos)\n",
    "\n",
    "    # update obs\n",
    "    obs = next_obs\n",
    "\n",
    "    # training of the agent\n",
    "    if global_step > hypp.start_learning:\n",
    "        if global_step % hypp.train_frequency == 0:\n",
    "            data = rb.sample(hypp.batch_size)\n",
    "\n",
    "            # calculate the TD target using target network\n",
    "            with torch.no_grad():\n",
    "                target_max, _ = agent.get_target_values(data.next_observations).max(dim=1)\n",
    "                td_target = data.rewards.flatten() + hypp.gamma * target_max * (1 - data.dones.flatten())\n",
    "\n",
    "            # calculate MSE loss between target and value\n",
    "            old_val = agent.get_q_values(data.observations).gather(1, data.actions).squeeze()\n",
    "            loss = F.mse_loss(td_target, old_val)\n",
    "\n",
    "            # log td_loss and q_values to tensorboard\n",
    "            if global_step % 100 == 0:\n",
    "                writer.add_scalar(\"train/td_loss\", loss, global_step)\n",
    "                writer.add_scalar(\"train/q_values\", old_val.mean().item(), global_step)\n",
    "                writer.add_scalar(\"others/SPS\", int(global_step / (time.time() - start_time)), global_step)\n",
    "                writer.add_scalar(\"Charts/episode_step\", episode_step, global_step)\n",
    "                writer.add_scalar(\"Charts/gradient_step\", gradient_step, global_step)\n",
    "\n",
    "            # optimize the model\n",
    "            optimizer.zero_grad()\n",
    "            loss.backward()\n",
    "            optimizer.step()\n",
    "            gradient_step += 1\n",
    "\n",
    "        # update the target network\n",
    "        if global_step % hypp.target_network_frequency == 0:\n",
    "            agent.synchronize_networks()\n",
    "\n",
    "\n",
    "# one last evaluation stage\n",
    "if exp.eval_agent:\n",
    "    tracked_return, tracked_episode_len = hf.evaluate_agent(envs_eval, agent, exp.eval_count, exp.seed, greedy_actor = True)\n",
    "    tracked_returns_over_training.append(tracked_return)\n",
    "    tracked_episode_len_over_training.append(tracked_episode_len)\n",
    "    tracked_episode_count.append([episode_step, global_step])\n",
    "\n",
    "    # if there has been improvement of the model - save model, create video, log video to wandb\n",
    "    if np.mean(tracked_return) > eval_max_return:\n",
    "        eval_max_return = np.mean(tracked_return)\n",
    "        # call helper function save_and_log_agent to save model, create video, log video to wandb\n",
    "        hf.save_and_log_agent(exp, agent, episode_step,\n",
    "                              greedy=True, print_path=False, env_wrapper=env_video_wrapper)\n",
    "\n",
    "    hf.save_tracked_values(tracked_returns_over_training, tracked_episode_len_over_training, tracked_episode_count, exp.eval_count, exp.run_name)\n",
    "\n",
    "envs.close()\n",
    "writer.close()\n",
    "pbar.close()\n",
    "if wandb.run is not None:\n",
    "    wandb.finish(quiet=True)\n",
    "    wandb.init(mode= 'disabled')\n",
    "\n",
    "hf.save_train_config_to_yaml(exp, hypp)"
   ],
   "outputs": [
    {
     "data": {
      "text/plain": [
       "<IPython.core.display.HTML object>"
      ],
      "text/html": [
       "Tracking run with wandb version 0.19.11"
      ]
     },
     "metadata": {},
     "output_type": "display_data"
    },
    {
     "data": {
      "text/plain": [
       "<IPython.core.display.HTML object>"
      ],
      "text/html": [
       "Run data is saved locally in <code>/data/PycharmProjects/RLLBC-library/deep_examples/logs/wandb/run-20250603_160818-cthuncv5</code>"
      ]
     },
     "metadata": {},
     "output_type": "display_data"
    },
    {
     "data": {
      "text/plain": [
       "<IPython.core.display.HTML object>"
      ],
      "text/html": [
       "Syncing run <strong><a href='https://wandb.ai/RLLBC-atari/RLLBC_Breakout-v5/runs/cthuncv5' target=\"_blank\">ALE/Breakout-v5__DQN__2__250603_160818</a></strong> to <a href='https://wandb.ai/RLLBC-atari/RLLBC_Breakout-v5' target=\"_blank\">Weights & Biases</a> (<a href='https://wandb.me/developer-guide' target=\"_blank\">docs</a>)<br>"
      ]
     },
     "metadata": {},
     "output_type": "display_data"
    },
    {
     "data": {
      "text/plain": [
       "<IPython.core.display.HTML object>"
      ],
      "text/html": [
       " View project at <a href='https://wandb.ai/RLLBC-atari/RLLBC_Breakout-v5' target=\"_blank\">https://wandb.ai/RLLBC-atari/RLLBC_Breakout-v5</a>"
      ]
     },
     "metadata": {},
     "output_type": "display_data"
    },
    {
     "data": {
      "text/plain": [
       "<IPython.core.display.HTML object>"
      ],
      "text/html": [
       " View run at <a href='https://wandb.ai/RLLBC-atari/RLLBC_Breakout-v5/runs/cthuncv5' target=\"_blank\">https://wandb.ai/RLLBC-atari/RLLBC_Breakout-v5/runs/cthuncv5</a>"
      ]
     },
     "metadata": {},
     "output_type": "display_data"
    },
    {
     "ename": "ValueError",
     "evalue": "too many values to unpack (expected 4)",
     "output_type": "error",
     "traceback": [
      "\u001B[0;31m---------------------------------------------------------------------------\u001B[0m",
      "\u001B[0;31mValueError\u001B[0m                                Traceback (most recent call last)",
      "Cell \u001B[0;32mIn[17], line 40\u001B[0m\n\u001B[1;32m     38\u001B[0m \u001B[38;5;66;03m# Init observation to start learning\u001B[39;00m\n\u001B[1;32m     39\u001B[0m start_time \u001B[38;5;241m=\u001B[39m time\u001B[38;5;241m.\u001B[39mtime()\n\u001B[0;32m---> 40\u001B[0m obs \u001B[38;5;241m=\u001B[39m \u001B[43menvs\u001B[49m\u001B[38;5;241;43m.\u001B[39;49m\u001B[43mreset\u001B[49m\u001B[43m(\u001B[49m\u001B[43m)\u001B[49m\n\u001B[1;32m     42\u001B[0m pbar \u001B[38;5;241m=\u001B[39m notebook\u001B[38;5;241m.\u001B[39mtqdm(\u001B[38;5;28mrange\u001B[39m(\u001B[38;5;241m1\u001B[39m, hypp\u001B[38;5;241m.\u001B[39mtotal_timesteps \u001B[38;5;241m+\u001B[39m \u001B[38;5;241m1\u001B[39m))\n\u001B[1;32m     44\u001B[0m \u001B[38;5;66;03m# training loop\u001B[39;00m\n",
      "File \u001B[0;32m/data/PycharmProjects/RLLBC-library/.venv/lib/python3.10/site-packages/gym/vector/vector_env.py:80\u001B[0m, in \u001B[0;36mVectorEnv.reset\u001B[0;34m(self, seed, return_info, options)\u001B[0m\n\u001B[1;32m     72\u001B[0m \u001B[38;5;250m\u001B[39m\u001B[38;5;124mr\u001B[39m\u001B[38;5;124;03m\"\"\"Reset all sub-environments and return a batch of initial observations.\u001B[39;00m\n\u001B[1;32m     73\u001B[0m \n\u001B[1;32m     74\u001B[0m \u001B[38;5;124;03mReturns\u001B[39;00m\n\u001B[0;32m   (...)\u001B[0m\n\u001B[1;32m     77\u001B[0m \u001B[38;5;124;03m    A batch of observations from the vectorized environment.\u001B[39;00m\n\u001B[1;32m     78\u001B[0m \u001B[38;5;124;03m\"\"\"\u001B[39;00m\n\u001B[1;32m     79\u001B[0m \u001B[38;5;28mself\u001B[39m\u001B[38;5;241m.\u001B[39mreset_async(seed\u001B[38;5;241m=\u001B[39mseed, return_info\u001B[38;5;241m=\u001B[39mreturn_info, options\u001B[38;5;241m=\u001B[39moptions)\n\u001B[0;32m---> 80\u001B[0m \u001B[38;5;28;01mreturn\u001B[39;00m \u001B[38;5;28;43mself\u001B[39;49m\u001B[38;5;241;43m.\u001B[39;49m\u001B[43mreset_wait\u001B[49m\u001B[43m(\u001B[49m\u001B[43mseed\u001B[49m\u001B[38;5;241;43m=\u001B[39;49m\u001B[43mseed\u001B[49m\u001B[43m,\u001B[49m\u001B[43m \u001B[49m\u001B[43mreturn_info\u001B[49m\u001B[38;5;241;43m=\u001B[39;49m\u001B[43mreturn_info\u001B[49m\u001B[43m,\u001B[49m\u001B[43m \u001B[49m\u001B[43moptions\u001B[49m\u001B[38;5;241;43m=\u001B[39;49m\u001B[43moptions\u001B[49m\u001B[43m)\u001B[49m\n",
      "File \u001B[0;32m/data/PycharmProjects/RLLBC-library/.venv/lib/python3.10/site-packages/gym/vector/sync_vector_env.py:115\u001B[0m, in \u001B[0;36mSyncVectorEnv.reset_wait\u001B[0;34m(self, seed, return_info, options)\u001B[0m\n\u001B[1;32m    112\u001B[0m     kwargs[\u001B[38;5;124m\"\u001B[39m\u001B[38;5;124mreturn_info\u001B[39m\u001B[38;5;124m\"\u001B[39m] \u001B[38;5;241m=\u001B[39m return_info\n\u001B[1;32m    114\u001B[0m \u001B[38;5;28;01mif\u001B[39;00m \u001B[38;5;129;01mnot\u001B[39;00m return_info:\n\u001B[0;32m--> 115\u001B[0m     observation \u001B[38;5;241m=\u001B[39m \u001B[43menv\u001B[49m\u001B[38;5;241;43m.\u001B[39;49m\u001B[43mreset\u001B[49m\u001B[43m(\u001B[49m\u001B[38;5;241;43m*\u001B[39;49m\u001B[38;5;241;43m*\u001B[39;49m\u001B[43mkwargs\u001B[49m\u001B[43m)\u001B[49m\n\u001B[1;32m    116\u001B[0m     observations\u001B[38;5;241m.\u001B[39mappend(observation)\n\u001B[1;32m    117\u001B[0m \u001B[38;5;28;01melse\u001B[39;00m:\n",
      "File \u001B[0;32m/data/PycharmProjects/RLLBC-library/.venv/lib/python3.10/site-packages/gym/wrappers/frame_stack.py:125\u001B[0m, in \u001B[0;36mFrameStack.reset\u001B[0;34m(self, **kwargs)\u001B[0m\n\u001B[1;32m    123\u001B[0m     obs, info \u001B[38;5;241m=\u001B[39m \u001B[38;5;28mself\u001B[39m\u001B[38;5;241m.\u001B[39menv\u001B[38;5;241m.\u001B[39mreset(\u001B[38;5;241m*\u001B[39m\u001B[38;5;241m*\u001B[39mkwargs)\n\u001B[1;32m    124\u001B[0m \u001B[38;5;28;01melse\u001B[39;00m:\n\u001B[0;32m--> 125\u001B[0m     obs \u001B[38;5;241m=\u001B[39m \u001B[38;5;28;43mself\u001B[39;49m\u001B[38;5;241;43m.\u001B[39;49m\u001B[43menv\u001B[49m\u001B[38;5;241;43m.\u001B[39;49m\u001B[43mreset\u001B[49m\u001B[43m(\u001B[49m\u001B[38;5;241;43m*\u001B[39;49m\u001B[38;5;241;43m*\u001B[39;49m\u001B[43mkwargs\u001B[49m\u001B[43m)\u001B[49m\n\u001B[1;32m    126\u001B[0m     info \u001B[38;5;241m=\u001B[39m \u001B[38;5;28;01mNone\u001B[39;00m  \u001B[38;5;66;03m# Unused\u001B[39;00m\n\u001B[1;32m    127\u001B[0m [\u001B[38;5;28mself\u001B[39m\u001B[38;5;241m.\u001B[39mframes\u001B[38;5;241m.\u001B[39mappend(obs) \u001B[38;5;28;01mfor\u001B[39;00m _ \u001B[38;5;129;01min\u001B[39;00m \u001B[38;5;28mrange\u001B[39m(\u001B[38;5;28mself\u001B[39m\u001B[38;5;241m.\u001B[39mnum_stack)]\n",
      "File \u001B[0;32m/data/PycharmProjects/RLLBC-library/.venv/lib/python3.10/site-packages/gym/core.py:311\u001B[0m, in \u001B[0;36mObservationWrapper.reset\u001B[0;34m(self, **kwargs)\u001B[0m\n\u001B[1;32m    309\u001B[0m     \u001B[38;5;28;01mreturn\u001B[39;00m \u001B[38;5;28mself\u001B[39m\u001B[38;5;241m.\u001B[39mobservation(obs), info\n\u001B[1;32m    310\u001B[0m \u001B[38;5;28;01melse\u001B[39;00m:\n\u001B[0;32m--> 311\u001B[0m     \u001B[38;5;28;01mreturn\u001B[39;00m \u001B[38;5;28mself\u001B[39m\u001B[38;5;241m.\u001B[39mobservation(\u001B[38;5;28;43mself\u001B[39;49m\u001B[38;5;241;43m.\u001B[39;49m\u001B[43menv\u001B[49m\u001B[38;5;241;43m.\u001B[39;49m\u001B[43mreset\u001B[49m\u001B[43m(\u001B[49m\u001B[38;5;241;43m*\u001B[39;49m\u001B[38;5;241;43m*\u001B[39;49m\u001B[43mkwargs\u001B[49m\u001B[43m)\u001B[49m)\n",
      "File \u001B[0;32m/data/PycharmProjects/RLLBC-library/.venv/lib/python3.10/site-packages/gym/core.py:311\u001B[0m, in \u001B[0;36mObservationWrapper.reset\u001B[0;34m(self, **kwargs)\u001B[0m\n\u001B[1;32m    309\u001B[0m     \u001B[38;5;28;01mreturn\u001B[39;00m \u001B[38;5;28mself\u001B[39m\u001B[38;5;241m.\u001B[39mobservation(obs), info\n\u001B[1;32m    310\u001B[0m \u001B[38;5;28;01melse\u001B[39;00m:\n\u001B[0;32m--> 311\u001B[0m     \u001B[38;5;28;01mreturn\u001B[39;00m \u001B[38;5;28mself\u001B[39m\u001B[38;5;241m.\u001B[39mobservation(\u001B[38;5;28;43mself\u001B[39;49m\u001B[38;5;241;43m.\u001B[39;49m\u001B[43menv\u001B[49m\u001B[38;5;241;43m.\u001B[39;49m\u001B[43mreset\u001B[49m\u001B[43m(\u001B[49m\u001B[38;5;241;43m*\u001B[39;49m\u001B[38;5;241;43m*\u001B[39;49m\u001B[43mkwargs\u001B[49m\u001B[43m)\u001B[49m)\n",
      "File \u001B[0;32m/data/PycharmProjects/RLLBC-library/.venv/lib/python3.10/site-packages/gym/core.py:324\u001B[0m, in \u001B[0;36mRewardWrapper.reset\u001B[0;34m(self, **kwargs)\u001B[0m\n\u001B[1;32m    323\u001B[0m \u001B[38;5;28;01mdef\u001B[39;00m\u001B[38;5;250m \u001B[39m\u001B[38;5;21mreset\u001B[39m(\u001B[38;5;28mself\u001B[39m, \u001B[38;5;241m*\u001B[39m\u001B[38;5;241m*\u001B[39mkwargs):\n\u001B[0;32m--> 324\u001B[0m     \u001B[38;5;28;01mreturn\u001B[39;00m \u001B[38;5;28;43mself\u001B[39;49m\u001B[38;5;241;43m.\u001B[39;49m\u001B[43menv\u001B[49m\u001B[38;5;241;43m.\u001B[39;49m\u001B[43mreset\u001B[49m\u001B[43m(\u001B[49m\u001B[38;5;241;43m*\u001B[39;49m\u001B[38;5;241;43m*\u001B[39;49m\u001B[43mkwargs\u001B[49m\u001B[43m)\u001B[49m\n",
      "File \u001B[0;32m/data/PycharmProjects/RLLBC-library/.venv/lib/python3.10/site-packages/stable_baselines3/common/atari_wrappers.py:59\u001B[0m, in \u001B[0;36mFireResetEnv.reset\u001B[0;34m(self, **kwargs)\u001B[0m\n\u001B[1;32m     58\u001B[0m \u001B[38;5;28;01mdef\u001B[39;00m\u001B[38;5;250m \u001B[39m\u001B[38;5;21mreset\u001B[39m(\u001B[38;5;28mself\u001B[39m, \u001B[38;5;241m*\u001B[39m\u001B[38;5;241m*\u001B[39mkwargs) \u001B[38;5;241m-\u001B[39m\u001B[38;5;241m>\u001B[39m np\u001B[38;5;241m.\u001B[39mndarray:\n\u001B[0;32m---> 59\u001B[0m     \u001B[38;5;28;43mself\u001B[39;49m\u001B[38;5;241;43m.\u001B[39;49m\u001B[43menv\u001B[49m\u001B[38;5;241;43m.\u001B[39;49m\u001B[43mreset\u001B[49m\u001B[43m(\u001B[49m\u001B[38;5;241;43m*\u001B[39;49m\u001B[38;5;241;43m*\u001B[39;49m\u001B[43mkwargs\u001B[49m\u001B[43m)\u001B[49m\n\u001B[1;32m     60\u001B[0m     obs, _, done, _ \u001B[38;5;241m=\u001B[39m \u001B[38;5;28mself\u001B[39m\u001B[38;5;241m.\u001B[39menv\u001B[38;5;241m.\u001B[39mstep(\u001B[38;5;241m1\u001B[39m)\n\u001B[1;32m     61\u001B[0m     \u001B[38;5;28;01mif\u001B[39;00m done:\n",
      "File \u001B[0;32m/data/PycharmProjects/RLLBC-library/.venv/lib/python3.10/site-packages/stable_baselines3/common/atari_wrappers.py:106\u001B[0m, in \u001B[0;36mEpisodicLifeEnv.reset\u001B[0;34m(self, **kwargs)\u001B[0m\n\u001B[1;32m     97\u001B[0m \u001B[38;5;250m\u001B[39m\u001B[38;5;124;03m\"\"\"\u001B[39;00m\n\u001B[1;32m     98\u001B[0m \u001B[38;5;124;03mCalls the Gym environment reset, only when lives are exhausted.\u001B[39;00m\n\u001B[1;32m     99\u001B[0m \u001B[38;5;124;03mThis way all states are still reachable even though lives are episodic,\u001B[39;00m\n\u001B[0;32m   (...)\u001B[0m\n\u001B[1;32m    103\u001B[0m \u001B[38;5;124;03m:return: the first observation of the environment\u001B[39;00m\n\u001B[1;32m    104\u001B[0m \u001B[38;5;124;03m\"\"\"\u001B[39;00m\n\u001B[1;32m    105\u001B[0m \u001B[38;5;28;01mif\u001B[39;00m \u001B[38;5;28mself\u001B[39m\u001B[38;5;241m.\u001B[39mwas_real_done:\n\u001B[0;32m--> 106\u001B[0m     obs \u001B[38;5;241m=\u001B[39m \u001B[38;5;28;43mself\u001B[39;49m\u001B[38;5;241;43m.\u001B[39;49m\u001B[43menv\u001B[49m\u001B[38;5;241;43m.\u001B[39;49m\u001B[43mreset\u001B[49m\u001B[43m(\u001B[49m\u001B[38;5;241;43m*\u001B[39;49m\u001B[38;5;241;43m*\u001B[39;49m\u001B[43mkwargs\u001B[49m\u001B[43m)\u001B[49m\n\u001B[1;32m    107\u001B[0m \u001B[38;5;28;01melse\u001B[39;00m:\n\u001B[1;32m    108\u001B[0m     \u001B[38;5;66;03m# no-op step to advance from terminal/lost life state\u001B[39;00m\n\u001B[1;32m    109\u001B[0m     obs, _, _, _ \u001B[38;5;241m=\u001B[39m \u001B[38;5;28mself\u001B[39m\u001B[38;5;241m.\u001B[39menv\u001B[38;5;241m.\u001B[39mstep(\u001B[38;5;241m0\u001B[39m)\n",
      "File \u001B[0;32m/data/PycharmProjects/RLLBC-library/.venv/lib/python3.10/site-packages/stable_baselines3/common/atari_wrappers.py:154\u001B[0m, in \u001B[0;36mMaxAndSkipEnv.reset\u001B[0;34m(self, **kwargs)\u001B[0m\n\u001B[1;32m    153\u001B[0m \u001B[38;5;28;01mdef\u001B[39;00m\u001B[38;5;250m \u001B[39m\u001B[38;5;21mreset\u001B[39m(\u001B[38;5;28mself\u001B[39m, \u001B[38;5;241m*\u001B[39m\u001B[38;5;241m*\u001B[39mkwargs) \u001B[38;5;241m-\u001B[39m\u001B[38;5;241m>\u001B[39m GymObs:\n\u001B[0;32m--> 154\u001B[0m     \u001B[38;5;28;01mreturn\u001B[39;00m \u001B[38;5;28;43mself\u001B[39;49m\u001B[38;5;241;43m.\u001B[39;49m\u001B[43menv\u001B[49m\u001B[38;5;241;43m.\u001B[39;49m\u001B[43mreset\u001B[49m\u001B[43m(\u001B[49m\u001B[38;5;241;43m*\u001B[39;49m\u001B[38;5;241;43m*\u001B[39;49m\u001B[43mkwargs\u001B[49m\u001B[43m)\u001B[49m\n",
      "File \u001B[0;32m/data/PycharmProjects/RLLBC-library/deep_examples/utils/helper_fns.py:64\u001B[0m, in \u001B[0;36mNoopResetEnv.reset\u001B[0;34m(self, **kwargs)\u001B[0m\n\u001B[1;32m     62\u001B[0m obs \u001B[38;5;241m=\u001B[39m np\u001B[38;5;241m.\u001B[39mzeros(\u001B[38;5;241m0\u001B[39m)\n\u001B[1;32m     63\u001B[0m \u001B[38;5;28;01mfor\u001B[39;00m _ \u001B[38;5;129;01min\u001B[39;00m \u001B[38;5;28mrange\u001B[39m(noops):\n\u001B[0;32m---> 64\u001B[0m     obs, _, done, _ \u001B[38;5;241m=\u001B[39m \u001B[38;5;28;43mself\u001B[39;49m\u001B[38;5;241;43m.\u001B[39;49m\u001B[43menv\u001B[49m\u001B[38;5;241;43m.\u001B[39;49m\u001B[43mstep\u001B[49m\u001B[43m(\u001B[49m\u001B[38;5;28;43mself\u001B[39;49m\u001B[38;5;241;43m.\u001B[39;49m\u001B[43mnoop_action\u001B[49m\u001B[43m)\u001B[49m\n\u001B[1;32m     65\u001B[0m     \u001B[38;5;28;01mif\u001B[39;00m done:\n\u001B[1;32m     66\u001B[0m         obs \u001B[38;5;241m=\u001B[39m \u001B[38;5;28mself\u001B[39m\u001B[38;5;241m.\u001B[39menv\u001B[38;5;241m.\u001B[39mreset(\u001B[38;5;241m*\u001B[39m\u001B[38;5;241m*\u001B[39mkwargs)\n",
      "File \u001B[0;32m/data/PycharmProjects/RLLBC-library/.venv/lib/python3.10/site-packages/gym/wrappers/record_episode_statistics.py:28\u001B[0m, in \u001B[0;36mRecordEpisodeStatistics.step\u001B[0;34m(self, action)\u001B[0m\n\u001B[1;32m     27\u001B[0m \u001B[38;5;28;01mdef\u001B[39;00m\u001B[38;5;250m \u001B[39m\u001B[38;5;21mstep\u001B[39m(\u001B[38;5;28mself\u001B[39m, action):\n\u001B[0;32m---> 28\u001B[0m     observations, rewards, dones, infos \u001B[38;5;241m=\u001B[39m \u001B[38;5;28;43msuper\u001B[39;49m\u001B[43m(\u001B[49m\u001B[43m)\u001B[49m\u001B[38;5;241;43m.\u001B[39;49m\u001B[43mstep\u001B[49m\u001B[43m(\u001B[49m\u001B[43maction\u001B[49m\u001B[43m)\u001B[49m\n\u001B[1;32m     29\u001B[0m     \u001B[38;5;28mself\u001B[39m\u001B[38;5;241m.\u001B[39mepisode_returns \u001B[38;5;241m+\u001B[39m\u001B[38;5;241m=\u001B[39m rewards\n\u001B[1;32m     30\u001B[0m     \u001B[38;5;28mself\u001B[39m\u001B[38;5;241m.\u001B[39mepisode_lengths \u001B[38;5;241m+\u001B[39m\u001B[38;5;241m=\u001B[39m \u001B[38;5;241m1\u001B[39m\n",
      "File \u001B[0;32m/data/PycharmProjects/RLLBC-library/.venv/lib/python3.10/site-packages/gym/core.py:280\u001B[0m, in \u001B[0;36mWrapper.step\u001B[0;34m(self, action)\u001B[0m\n\u001B[1;32m    279\u001B[0m \u001B[38;5;28;01mdef\u001B[39;00m\u001B[38;5;250m \u001B[39m\u001B[38;5;21mstep\u001B[39m(\u001B[38;5;28mself\u001B[39m, action: ActType) \u001B[38;5;241m-\u001B[39m\u001B[38;5;241m>\u001B[39m Tuple[ObsType, \u001B[38;5;28mfloat\u001B[39m, \u001B[38;5;28mbool\u001B[39m, \u001B[38;5;28mdict\u001B[39m]:\n\u001B[0;32m--> 280\u001B[0m     \u001B[38;5;28;01mreturn\u001B[39;00m \u001B[38;5;28;43mself\u001B[39;49m\u001B[38;5;241;43m.\u001B[39;49m\u001B[43menv\u001B[49m\u001B[38;5;241;43m.\u001B[39;49m\u001B[43mstep\u001B[49m\u001B[43m(\u001B[49m\u001B[43maction\u001B[49m\u001B[43m)\u001B[49m\n",
      "File \u001B[0;32m/data/PycharmProjects/RLLBC-library/.venv/lib/python3.10/site-packages/gym/wrappers/order_enforcing.py:13\u001B[0m, in \u001B[0;36mOrderEnforcing.step\u001B[0;34m(self, action)\u001B[0m\n\u001B[1;32m     11\u001B[0m \u001B[38;5;28;01mdef\u001B[39;00m\u001B[38;5;250m \u001B[39m\u001B[38;5;21mstep\u001B[39m(\u001B[38;5;28mself\u001B[39m, action):\n\u001B[1;32m     12\u001B[0m     \u001B[38;5;28;01massert\u001B[39;00m \u001B[38;5;28mself\u001B[39m\u001B[38;5;241m.\u001B[39m_has_reset, \u001B[38;5;124m\"\u001B[39m\u001B[38;5;124mCannot call env.step() before calling reset()\u001B[39m\u001B[38;5;124m\"\u001B[39m\n\u001B[0;32m---> 13\u001B[0m     observation, reward, done, info \u001B[38;5;241m=\u001B[39m \u001B[38;5;28mself\u001B[39m\u001B[38;5;241m.\u001B[39menv\u001B[38;5;241m.\u001B[39mstep(action)\n\u001B[1;32m     14\u001B[0m     \u001B[38;5;28;01mreturn\u001B[39;00m observation, reward, done, info\n",
      "\u001B[0;31mValueError\u001B[0m: too many values to unpack (expected 4)"
     ]
    }
   ],
   "execution_count": 17
  },
  {
   "cell_type": "markdown",
   "id": "13093318",
   "metadata": {},
   "source": [
    "## Compare Trained Agents and Display Behaviour"
   ]
  },
  {
   "cell_type": "markdown",
   "id": "165bf7d0",
   "metadata": {},
   "source": [
    "### Display Trained Agent Behaviour\n",
    "\n",
    "Set `agent_name` and `agent_exp_type` to load the saved agent model in the respective log folder and generate a video of the agent's interaction with the gym environment. After the cell is executed, you should see a video embedding as output, and the video is also available in the following directory: `/logs/<exp.exp_type>/<exp.run_name>/videos` "
   ]
  },
  {
   "cell_type": "code",
   "id": "c49f4c2b",
   "metadata": {},
   "source": [
    "agent_name = exp.run_name\n",
    "agent_exp_type = exp.exp_type  # both are needed to identify the agent location\n",
    "\n",
    "\n",
    "exp_folder = \"\" if agent_exp_type is None else agent_exp_type\n",
    "filepath, _ = hf.create_folder_relative(f\"{exp_folder}/{agent_name}/videos\")\n",
    "\n",
    "hf.record_video(exp.env_id, agent_name, f\"{filepath}/best.mp4\", exp_type=agent_exp_type, greedy=True)\n",
    "Video(data=f\"{filepath}/best.mp4\", html_attributes='loop autoplay', embed=True)"
   ],
   "outputs": [],
   "execution_count": null
  },
  {
   "cell_type": "markdown",
   "id": "a5ca9e83",
   "metadata": {},
   "source": [
    "### Compare Performance of Agents During Training\n",
    "\n",
    "During the training loop, if `exp.eval_agent = True`, the performance progress of the agent during its training is saved as a csv file. To compare the saved progress of different agents, create a `dict` containing the parent folder's name of each of the csv files and use the helper function `plotter_agents_training_stats`.\n",
    "\n",
    "To load the data, you can either set `eval_params.run_name00 = exp.run_name` (if only a `tracked_performance_training.csv` file for the corresponding `exp.run_name` exists) or manually enter the folder name containing the csv file. \n",
    "\n",
    "If the agent performance you want to load is inside an exp_type folder, set `eval_params.exp_type00` to experiment type, and if not, set it to `None`. \n",
    "\n",
    "You can add more than one experiment by initializing dict keys and values of the format `eval_params.run_namexx` and `eval_params.exp_typexx`."
   ]
  },
  {
   "cell_type": "code",
   "id": "008addbe",
   "metadata": {},
   "source": [
    "eval_params = edict()  # eval_params - evaluation settings for trained agent\n",
    "\n",
    "eval_params.run_name00 = exp.run_name\n",
    "eval_params.exp_type00 = exp.exp_type\n",
    "\n",
    "# eval_params.run_name01 = \"CartPole-v1__PPO__1__230302_224624\"\n",
    "# eval_params.exp_type01 = None\n",
    "\n",
    "# eval_params.run_name02 = \"CartPole-v1__PPO__1__230302_221245\"\n",
    "# eval_params.exp_type02 = None\n",
    "\n",
    "agent_labels = []\n",
    "\n",
    "episode_axis_limit = None\n",
    "\n",
    "hf.plotter_agents_training_stats(eval_params, agent_labels, episode_axis_limit, plot_returns=True, plot_episode_len=True)"
   ],
   "outputs": [],
   "execution_count": null
  },
  {
   "cell_type": "markdown",
   "id": "af260c86",
   "metadata": {},
   "source": [
    "## TensorBoard Inline"
   ]
  },
  {
   "cell_type": "code",
   "id": "dfbf550f",
   "metadata": {},
   "source": [
    "# %load_ext tensorboard\n",
    "# %tensorboard --logdir runs --host localhost"
   ],
   "outputs": [],
   "execution_count": null
  },
  {
   "metadata": {},
   "cell_type": "code",
   "source": "",
   "id": "29b3d01eaed52269",
   "outputs": [],
   "execution_count": null
  }
 ],
 "metadata": {
  "kernelspec": {
   "display_name": "Python 3 (ipykernel)",
   "language": "python",
   "name": "python3"
  },
  "language_info": {
   "codemirror_mode": {
    "name": "ipython",
    "version": 3
   },
   "file_extension": ".py",
   "mimetype": "text/x-python",
   "name": "python",
   "nbconvert_exporter": "python",
   "pygments_lexer": "ipython3",
   "version": "3.10.13"
  },
  "toc-autonumbering": true,
  "widgets": {
   "application/vnd.jupyter.widget-state+json": {
    "state": {},
    "version_major": 2,
    "version_minor": 0
   }
  }
 },
 "nbformat": 4,
 "nbformat_minor": 5
}
