{
 "cells": [
  {
   "cell_type": "markdown",
   "id": "1a210fd1",
   "metadata": {},
   "source": [
    "![DSME-logo](./static/DSME_logo.png)\n",
    "\n",
    "#  Reinforcement Learning and Learning-based Control\n",
    "\n",
    "<p style=\"font-size:12pt\";> \n",
    "<b> Prof. Dr. Sebastian Trimpe, Dr. Friedrich Solowjow </b><br>\n",
    "<b> Institute for Data Science in Mechanical Engineering(DSME) </b><br>\n",
    "<a href = \"mailto:rllbc@dsme.rwth-aachen.de\">rllbc@dsme.rwth-aachen.de</a><br>\n",
    "</p>\n",
    "\n",
    "---\n",
    "DQN Implementation\n",
    "\n",
    "Notebook Authors: Ramil Sabirov\n",
    "\n",
    "Adapted from: [CleanRL](https://github.com/vwxyzjn/cleanrl)\n",
    "\n",
    "Orignal Paper: [Playing Atari with Deep Reinforcement Learning](https://arxiv.org/abs/1312.5602)"
   ]
  },
  {
   "cell_type": "markdown",
   "id": "8493b02b",
   "metadata": {},
   "source": [
    "## Library Imports"
   ]
  },
  {
   "cell_type": "code",
   "execution_count": 1,
   "id": "0d58f9e7",
   "metadata": {},
   "outputs": [],
   "source": [
    "import os\n",
    "import copy\n",
    "import time\n",
    "import random\n",
    "import warnings\n",
    "from datetime import datetime\n",
    "\n",
    "import numpy as np\n",
    "import matplotlib.pyplot as plt\n",
    "from tqdm import notebook\n",
    "from easydict import EasyDict as edict\n",
    "from IPython.display import Video\n",
    "\n",
    "import utils.helper_fns as hf\n",
    "\n",
    "import gym\n",
    "import wandb\n",
    "import torch\n",
    "import torch.nn as nn\n",
    "import torch.optim as optim\n",
    "import torch.nn.functional as F\n",
    "from stable_baselines3.common.buffers import ReplayBuffer\n",
    "\n",
    "warnings.filterwarnings(\"ignore\", category=DeprecationWarning)\n",
    "\n",
    "os.environ['SDL_VIDEODRIVER'] = 'dummy'\n",
    "os.environ['WANDB_NOTEBOOK_NAME'] = 'dqn.ipynb'\n",
    "\n",
    "plt.rcParams['figure.dpi'] = 100\n",
    "device = torch.device(\"cuda\" if torch.cuda.is_available() else \"cpu\")\n",
    "\n",
    "%load_ext autoreload\n",
    "%autoreload 2"
   ]
  },
  {
   "cell_type": "markdown",
   "id": "e9fb3389-75f0-44d5-850a-7e43ea83ac66",
   "metadata": {},
   "source": [
    "## DQN-specific helper functions\n",
    "DQN uses a decreasing linear schedule for the exploration rate $\\epsilon$. Meaning that the algorithm starts with a certain exploration rate (e.g.  $\\epsilon = 1$) and decreases the rate linearly until it reaches a minimum exploration rate (e.g. $\\epsilon = 0.05$). The helper function `linear schedule` calculates the current $\\epsilon$ as a function of timesteps `t`."
   ]
  },
  {
   "cell_type": "code",
   "execution_count": 2,
   "id": "1010c165-24cc-4a2b-9b38-2267f09eb29a",
   "metadata": {},
   "outputs": [],
   "source": [
    "def linear_schedule(start_e: float, end_e: float, duration: int, t: int):\n",
    "    '''\n",
    "    returns the linearly decreasing exploration probability epsilon for a certain timestep\n",
    "    :param start_e: exploration probability (epsilon) at timestep 0\n",
    "    :param end_e:  minimal exploration probability (epsilon)\n",
    "    :param duration: number of timesteps after which end_e is reached\n",
    "    :param t: the current timestep\n",
    "    :return: exploration probability (epsilon) for the current timestep\n",
    "    '''\n",
    "    slope = (end_e - start_e) / duration\n",
    "    return max(slope * t + start_e, end_e)"
   ]
  },
  {
   "cell_type": "markdown",
   "id": "a8223db4",
   "metadata": {},
   "source": [
    "## Initializations"
   ]
  },
  {
   "cell_type": "markdown",
   "id": "8e5ddf45",
   "metadata": {},
   "source": [
    "### Experiment\n",
    "\n",
    "We primarily use dictionaries for initializing experiment parameters and training hyperparameters. We use the `EasyDict` (imported as `edict`) library, which allows us to access dict values as attributes while retaining the operations and properties of the original python `dict`! [[Github Link](https://github.com/makinacorpus/easydict)]\n",
    "\n",
    "In this notebook we use a few `edicts` with `exp` being one of them. It is initialized in the following cell and has keys and values containing information about the experiment being run. Although initialized in this section, we keep adding new keys and values to the dict in the later sections as well.  \n",
    "\n",
    "This notebook supports gym environments with observation space of type `gym.spaces.Box` and action space of type `gym.spaces.Discrete`. Eg: Acrobot-v1, CartPole-v1, MountainCar-v0"
   ]
  },
  {
   "cell_type": "code",
   "execution_count": 3,
   "id": "45b9b8fb",
   "metadata": {},
   "outputs": [],
   "source": [
    "exp = edict()\n",
    "\n",
    "exp.exp_name = 'DQN'  # algorithm name, in this case it should be 'DQN'\n",
    "exp.env_id = 'CartPole-v1'  # name of the gym environment to be used in this experiment. Eg: Acrobot-v1, CartPole-v1, MountainCar-v0\n",
    "exp.device = device.type  # save the device type used to load tensors and perform tensor operations\n",
    "\n",
    "set_random_seed = True  # set random seed for reproducibility of python, numpy and torch\n",
    "exp.seed = 2\n",
    "\n",
    "# name of the project in Weights & Biases (wandb) to which logs are patched. (only if wandb logging is enabled)\n",
    "# if the project does not exist in wandb, it will be created automatically\n",
    "wandb_prj_name = f\"RLLBC_{exp.env_id}\"\n",
    "\n",
    "# name prefix of output files generated by the notebook\n",
    "exp.run_name = f\"{exp.env_id}__{exp.exp_name}__{exp.seed}__{datetime.now().strftime('%y%m%d_%H%M%S')}\"\n",
    "\n",
    "if set_random_seed:\n",
    "    random.seed(exp.seed)\n",
    "    np.random.seed(exp.seed)\n",
    "    torch.manual_seed(exp.seed)\n",
    "    torch.backends.cudnn.deterministic = set_random_seed"
   ]
  },
  {
   "cell_type": "markdown",
   "id": "ebba383a",
   "metadata": {},
   "source": [
    "### Agent Model Class\n",
    "\n",
    "The `Agent` class consists of two neural networks with the exact same architecture: the *Q-network* and the *target network*. Both networks are taking a state as input and evaluate to *Q-values* for every possible (discrete) action. The class provides methods to query the networks, i.e. `get_q_values` and `get_target_values`.\n",
    "\n",
    "Note that the target network will not be subject to the optimizer, meaning that only the Q-network will be modified by the optimizer through gradient steps. Instead, the target network is periodically synchronized with the Q-network by the means of the function `synchronize_networks`.\n",
    "\n",
    "The `Agent` class also provides a method to retrieve the best action for a state according to the current Q-network, that is the action with the highest Q-value."
   ]
  },
  {
   "cell_type": "code",
   "execution_count": 4,
   "id": "b80e1114",
   "metadata": {},
   "outputs": [],
   "source": [
    "class Agent(nn.Module):\n",
    "    def __init__(self, env):\n",
    "        super().__init__()\n",
    "        self.q_network = nn.Sequential(\n",
    "            nn.Linear(np.array(env.single_observation_space.shape).prod(), 120),\n",
    "            nn.ReLU(),\n",
    "            nn.Linear(120, 84),\n",
    "            nn.ReLU(),\n",
    "            nn.Linear(84, env.single_action_space.n),\n",
    "        )\n",
    "\n",
    "        self.target_network = copy.deepcopy(self.q_network)\n",
    "\n",
    "    def get_q_values(self, x):\n",
    "        return self.q_network(x)\n",
    "\n",
    "    def get_target_values(self, x):\n",
    "        return self.target_network(x)\n",
    "\n",
    "    def synchronize_networks(self):\n",
    "        self.target_network.load_state_dict(self.q_network.state_dict())\n",
    "\n",
    "    def get_action(self, x, greedy=True):\n",
    "        q_vals = self.get_q_values(x)\n",
    "        action = q_vals.argmax(dim=1)\n",
    "\n",
    "        return action"
   ]
  },
  {
   "cell_type": "markdown",
   "id": "885b57a9",
   "metadata": {},
   "source": [
    "### Training Params & Agent Hyperparams\n",
    "The second dictionary we use, `hypp`, is initialized in the following cell. It has keys and values containing the hyperparameters necessary to the algorithm.\n",
    "\n",
    "The parameters and hyperparameters in this section are broadly categorized as below:\n",
    "1. Flags for logging: \n",
    "    - They are stored in the `exp` dict. \n",
    "    - This notebook uses tensorboard logging by deafult to log experiment metrics. These tb log files are saved in the directory `logs/<exp.exp_type>/<exp.run_name>/tb`. (to learn about `exp.exp_type` refer point 3. below)\n",
    "    - To enable logging of gym videos of the agent's interaction with the env set `exp.capture_video = True`\n",
    "    - Patch tensorboard logs and gym videos to Weigths & Biases (wandb) by setting `exp.enable_wandb_logging = True`\n",
    "2. Flags and parameters to generate average performance throughout training:\n",
    "    - Stored in the `exp` dict\n",
    "    - If `exp.eval_agent = True`, the performance of the agent during it's training is saved in the corresponding logs folder. You can later used this to compare the performance of your current agent with other agents during their training (in Section 1.5.2).\n",
    "    - Every `exp.eval_frequency` episodes the trained agent is evaluated using the `envs_eval` by playing out `exp.eval_count` episodes\n",
    "    - To speed up training set `exp.eval_agent = False` \n",
    "3. Create experiment hierarchy inside log folders:\n",
    "    - if `exp.exp_type` is None, experiment logs are saved to the root log directory `logs`, ie, `/logs/<exp.run_name>`, otherwise they are saved to the directory `logs/<exp.exp_type>/<exp._name>`\n",
    "4. Parameters and hyperparameters related to the algorithm:\n",
    "    - Stored in the `hypp` dict\n",
    "    - Quick reminder:  the `num_steps` key in the `hypp` dict is also a hyperparameter defined in Env & Rollout Buffer Init Section.\n",
    "\n",
    "Note: \n",
    "1. If Weigths and Biases (wandb) logging is enabled, when you run the \"Training The Agent\" cell, enter your wandb's api key when prompted. \n",
    "2. Training takes longer when either gym video recording or agent evaluation during training is enabled. To speed up training set both `exp.capture_video` and `exp.eval_agent` to `False`."
   ]
  },
  {
   "cell_type": "code",
   "execution_count": 5,
   "id": "53f8844a",
   "metadata": {},
   "outputs": [],
   "source": [
    "hypp = edict()\n",
    "\n",
    "# flags for logging purposes\n",
    "exp.enable_wandb_logging = True\n",
    "exp.capture_video = True\n",
    "\n",
    "# flags to generate agent's average performance during training\n",
    "exp.eval_agent = True  # disable to speed up training\n",
    "exp.eval_count = 10\n",
    "exp.eval_frequency = 20\n",
    "\n",
    "# putting the run into the designated log folder for structuring\n",
    "exp.exp_type = None  # directory the run is saved to. Should be None or a string value\n",
    "\n",
    "# agent training specific parameters and hyperparameters\n",
    "hypp.total_timesteps = 100000  # the training duration in number of time steps\n",
    "hypp.learning_rate = 3e-4  # the learning rate for the optimizer\n",
    "hypp.gamma = 0.99  # decay factor of future rewards\n",
    "hypp.buffer_size = 10000  # the size of the replay memory buffer\n",
    "hypp.target_network_frequency = 500  # the frequency of synchronization with target network\n",
    "hypp.batch_size = 128  # number of samples taken from the replay buffer for one step\n",
    "hypp.start_e = 1  # probability of exploration (epsilon) at timestep 0\n",
    "hypp.end_e = 0.05  # minimal probability of exploration (epsilon)\n",
    "hypp.exploration_fraction = 0.5  # the fraction of total_timesteps it takes to go from start_e to end_e\n",
    "hypp.start_learning = 1000  # the timestep the learning starts (before that the replay buffer is filled)\n",
    "hypp.train_frequency = 10  # the frequency of training"
   ]
  },
  {
   "cell_type": "markdown",
   "id": "d0155331-bfae-478c-a71c-4413613f2dd5",
   "metadata": {},
   "source": [
    "### Replay Buffer\n",
    "In the following cell the **replay buffer** is initialised. It is used in 2 ways:\n",
    "- It **stores transitions** the agent took in the environment in the past (i.e. (state, action, next_state, reward, done?) tuples)\n",
    "- It is possible to **sample a batch** of transitions from the replay buffer. The batch is used to perform a gradient step on for training."
   ]
  },
  {
   "cell_type": "code",
   "execution_count": 6,
   "id": "0efaad3d-04b1-41f7-8596-a529a2773ad9",
   "metadata": {},
   "outputs": [],
   "source": [
    "# Initialization of Replay Buffer\n",
    "\n",
    "envs = gym.vector.SyncVectorEnv([hf.make_env(exp.env_id, exp.seed + i) for i in range(1)])\n",
    "\n",
    "rb = ReplayBuffer(\n",
    "    hypp.buffer_size,\n",
    "    envs.single_observation_space,\n",
    "    envs.single_action_space,\n",
    "    device,\n",
    "    handle_timeout_termination=True,\n",
    ")\n",
    "\n",
    "envs.close()"
   ]
  },
  {
   "cell_type": "markdown",
   "id": "45b81a75",
   "metadata": {},
   "source": [
    "## Training the Agent\n",
    "\n",
    "Before we begin training the agent, we first initialize the logging (based on the respective flags in the `exp` dict), the object of the `Agent` class, and the optimizer, followed by an initial set of observations. \n",
    "\n",
    "After that follows the main training loop which consists of:\n",
    "1. **Taking a step in the environment** following the $\\epsilon$-greedy policy, i.e. take random action with probability $\\epsilon$ and optimal action according to the Q-network with probability $1-\\epsilon$.\n",
    "2. **Sampling a batch from the replay buffer** of previously experienced transitions. These are tuples of the form $(s,a,s',r,d)$=(state, action, next_state, reward, done) where done is a boolean indicating whether the environment has terminated after the transition.\n",
    "3. **Calculating the TD-targets** for each transition in the batch. Let $Q_t(s,a)$ denote the Q-value of the target network in state $s$ for action $a$, then the TD-target $T_i$ for transition $i$ of the batch is:  \n",
    "\n",
    "$$T_i =\n",
    "\\begin{cases}\n",
    "r_i + \\max_{a'}Q_t(s'_i,a') &, \\text{if } d_i = 0\\\\\n",
    "r_i &, \\text{else}\n",
    "\\end{cases}$$  \n",
    "\n",
    "4. **Setting up the loss function** as a mean squared error (MSE) between Q-values and TD-targets. Let $Q_{\\theta}(s,a)$ be the Q-value of the (parametrized) Q-network for state $s$ and action $a$, then the loss $L$ is:  \n",
    "\n",
    "$$L = \\frac{1}{n}\\sum_{i=1}^{n}(Q_{\\theta}(s_i,a_i) - T_i)^2$$\n",
    "5. **Performing gradient descent** with regard to the gradient $\\frac{\\delta}{\\delta\\theta}{L}$\n",
    "\n",
    "Note that steps 2-4 are not performed in every iteration of the main loop:\n",
    "- before actual training starts the algorithm runs a \"warm-up\" phase where it begins to fill the replay buffer (see `hypp.start_learning`)\n",
    "- training happens periodically every few steps (see `hypp.train_frequency`)\n",
    "\n",
    "Also periodically, the target network and the Q-network are synchronized. (see `hypp.target_network_frequency`)\n",
    "\n",
    "Post completion of the main training loop, we save a copy of the following in the directory `logs/<exp.exp_type>/<exp.run_name>`:\n",
    "1. `exp` and `hypp` dicts into a `.config` file \n",
    "2. `agent` (instance of `Agent` class) into a `.pt` file for later evaluation\n",
    "3. agent performance progress throughout training into a `.csv` file if `exp.eval_agent=True`\n",
    "\n",
    "Note: we have two vectorised gym environments, `envs` and `envs_eval` in the initalizations. `envs` is used to fill the rollout buffer with trajectories and `envs_eval` is used to evaluate the agent performance at different stages of training."
   ]
  },
  {
   "cell_type": "code",
   "execution_count": 7,
   "id": "0da39b1c",
   "metadata": {},
   "outputs": [
    {
     "name": "stderr",
     "output_type": "stream",
     "text": [
      "\u001b[34m\u001b[1mwandb\u001b[0m: Currently logged in as: \u001b[33mlukas-kesper98\u001b[0m. Use \u001b[1m`wandb login --relogin`\u001b[0m to force relogin\n"
     ]
    },
    {
     "data": {
      "text/html": [
       "wandb version 0.16.6 is available!  To upgrade, please run:\n",
       " $ pip install wandb --upgrade"
      ],
      "text/plain": [
       "<IPython.core.display.HTML object>"
      ]
     },
     "metadata": {},
     "output_type": "display_data"
    },
    {
     "data": {
      "text/html": [
       "Tracking run with wandb version 0.16.5"
      ],
      "text/plain": [
       "<IPython.core.display.HTML object>"
      ]
     },
     "metadata": {},
     "output_type": "display_data"
    },
    {
     "data": {
      "text/html": [
       "Run data is saved locally in <code>/Users/kesperlukas/Projects/RLLBC/deep_examples/notebooks/logs/wandb/run-20240412_144818-ndqmvp28</code>"
      ],
      "text/plain": [
       "<IPython.core.display.HTML object>"
      ]
     },
     "metadata": {},
     "output_type": "display_data"
    },
    {
     "data": {
      "text/html": [
       "Syncing run <strong><a href='https://wandb.ai/lukas-kesper98/RLLBC_CartPole-v1/runs/ndqmvp28/workspace' target=\"_blank\">CartPole-v1__DQN__2__240412_144817</a></strong> to <a href='https://wandb.ai/lukas-kesper98/RLLBC_CartPole-v1' target=\"_blank\">Weights & Biases</a> (<a href='https://wandb.me/run' target=\"_blank\">docs</a>)<br/>"
      ],
      "text/plain": [
       "<IPython.core.display.HTML object>"
      ]
     },
     "metadata": {},
     "output_type": "display_data"
    },
    {
     "data": {
      "text/html": [
       " View project at <a href='https://wandb.ai/lukas-kesper98/RLLBC_CartPole-v1' target=\"_blank\">https://wandb.ai/lukas-kesper98/RLLBC_CartPole-v1</a>"
      ],
      "text/plain": [
       "<IPython.core.display.HTML object>"
      ]
     },
     "metadata": {},
     "output_type": "display_data"
    },
    {
     "data": {
      "text/html": [
       " View run at <a href='https://wandb.ai/lukas-kesper98/RLLBC_CartPole-v1/runs/ndqmvp28/workspace' target=\"_blank\">https://wandb.ai/lukas-kesper98/RLLBC_CartPole-v1/runs/ndqmvp28/workspace</a>"
      ],
      "text/plain": [
       "<IPython.core.display.HTML object>"
      ]
     },
     "metadata": {},
     "output_type": "display_data"
    },
    {
     "data": {
      "application/vnd.jupyter.widget-view+json": {
       "model_id": "1a81731e4acd47acac15be9b1ac29e6b",
       "version_major": 2,
       "version_minor": 0
      },
      "text/plain": [
       "  0%|          | 0/100000 [00:00<?, ?it/s]"
      ]
     },
     "metadata": {},
     "output_type": "display_data"
    },
    {
     "data": {
      "application/vnd.jupyter.widget-view+json": {
       "model_id": "",
       "version_major": 2,
       "version_minor": 0
      },
      "text/plain": [
       "VBox(children=(Label(value='0.668 MB of 0.668 MB uploaded\\r'), FloatProgress(value=1.0, max=1.0)))"
      ]
     },
     "metadata": {},
     "output_type": "display_data"
    },
    {
     "data": {
      "text/html": [
       " View run <strong style=\"color:#cdcd00\">CartPole-v1__DQN__2__240412_144817</strong> at: <a href='https://wandb.ai/lukas-kesper98/RLLBC_CartPole-v1/runs/ndqmvp28/workspace' target=\"_blank\">https://wandb.ai/lukas-kesper98/RLLBC_CartPole-v1/runs/ndqmvp28/workspace</a><br/>Synced 5 W&B file(s), 11 media file(s), 2 artifact file(s) and 1 other file(s)"
      ],
      "text/plain": [
       "<IPython.core.display.HTML object>"
      ]
     },
     "metadata": {},
     "output_type": "display_data"
    }
   ],
   "source": [
    "# reinit run_name\n",
    "exp.run_name = f\"{exp.env_id}__{exp.exp_name}__{exp.seed}__{datetime.now().strftime('%y%m%d_%H%M%S')}\"\n",
    "\n",
    "# Init tensorboard logging and wandb logging\n",
    "writer = hf.setup_logging(wandb_prj_name, exp, hypp)\n",
    "\n",
    "# create two vectorized envs: one to fill the rollout buffer with trajectories and\n",
    "# another one to evaluate the agent performance at different stages of training\n",
    "envs = gym.vector.SyncVectorEnv([hf.make_env(exp.env_id, exp.seed)])\n",
    "envs_eval = gym.vector.SyncVectorEnv([hf.make_env(exp.env_id, exp.seed + i) for i in range(1)])\n",
    "\n",
    "# init list to track agent's performance throughout training\n",
    "tracked_returns_over_training = []\n",
    "tracked_episode_len_over_training = []\n",
    "tracked_episode_count = []\n",
    "last_evaluated_episode = None  # stores the episode_step of when the agent's performance was last evaluated\n",
    "eval_max_return = -float('inf')\n",
    "\n",
    "# Create Agent class Instance and network optimizer\n",
    "agent = Agent(envs).to(device)\n",
    "optimizer = optim.Adam(agent.q_network.parameters(), lr=hypp.learning_rate)\n",
    "\n",
    "global_step = 0\n",
    "episode_step = 0\n",
    "gradient_step = 0\n",
    "\n",
    "# Init observation to start learning\n",
    "start_time = time.time()\n",
    "obs = envs.reset()\n",
    "\n",
    "pbar = notebook.tqdm(range(1, hypp.total_timesteps + 1))\n",
    "\n",
    "# training loop\n",
    "for update in pbar:\n",
    "\n",
    "    # choosing action\n",
    "    # random action with probability epsilon\n",
    "    # action according to maximum values of q-network with probality 1-epsilon\n",
    "    epsilon = linear_schedule(hypp.start_e, hypp.end_e, hypp.exploration_fraction * hypp.total_timesteps, global_step)\n",
    "    if random.random() < epsilon:\n",
    "        actions = np.array([envs.single_action_space.sample() for _ in range(envs.num_envs)])\n",
    "    else:\n",
    "        q_values = agent.get_q_values(torch.Tensor(obs).to(device))\n",
    "        actions = torch.argmax(q_values, dim=1).cpu().numpy()\n",
    "\n",
    "    # apply action to environment\n",
    "    next_obs, rewards, dones, infos = envs.step(actions)\n",
    "    global_step += 1\n",
    "\n",
    "    # log episode return and length to tensorboard as well as current epsilon\n",
    "    for info in infos:\n",
    "        if \"episode\" in info.keys():\n",
    "            episode_step += 1\n",
    "            pbar.set_description(f\"global_step: {global_step}, episodic_return={info['episode']['r']}\")\n",
    "            writer.add_scalar(\"rollout/episodic_return\", info[\"episode\"][\"r\"], global_step)\n",
    "            writer.add_scalar(\"rollout/episodic_length\", info[\"episode\"][\"l\"], global_step)\n",
    "            writer.add_scalar(\"hyperparameters/epsilon\", epsilon, global_step)\n",
    "            writer.add_scalar(\"Charts/episode_step\", episode_step, global_step)\n",
    "            writer.add_scalar(\"Charts/gradient_step\", gradient_step, global_step)\n",
    "            break\n",
    "\n",
    "    # evaluation of the agent\n",
    "    if exp.eval_agent and (episode_step % exp.eval_frequency == 0) and last_evaluated_episode != episode_step:\n",
    "        last_evaluated_episode = episode_step\n",
    "        tracked_return, tracked_episode_len = hf.evaluate_agent(envs_eval, agent, exp.eval_count,\n",
    "                                                                exp.seed, greedy_actor=True)\n",
    "        tracked_returns_over_training.append(tracked_return)\n",
    "        tracked_episode_len_over_training.append(tracked_episode_len)\n",
    "        tracked_episode_count.append([episode_step, global_step])\n",
    "\n",
    "        # if there has been improvement of the model - save model, create video, log video to wandb\n",
    "        if np.mean(tracked_return) > eval_max_return:\n",
    "            eval_max_return = np.mean(tracked_return)\n",
    "            # call helper function save_and_log_agent to save model, create video, log video to wandb\n",
    "            hf.save_and_log_agent(exp, agent, episode_step,\n",
    "                                  greedy=True, print_path=False)\n",
    "\n",
    "    # Handling the terminal observation\n",
    "    real_next_obs = next_obs.copy()\n",
    "    for idx, d in enumerate(dones):\n",
    "        if d:\n",
    "            real_next_obs[idx] = infos[idx][\"terminal_observation\"]\n",
    "\n",
    "    # Add data to replay buffer\n",
    "    rb.add(obs, real_next_obs, actions, rewards, dones, infos)\n",
    "\n",
    "    # update obs\n",
    "    obs = next_obs\n",
    "\n",
    "    # training of the agent\n",
    "    if global_step > hypp.start_learning:\n",
    "        if global_step % hypp.train_frequency == 0:\n",
    "            data = rb.sample(hypp.batch_size)\n",
    "\n",
    "            # calculate the TD target using target network\n",
    "            with torch.no_grad():\n",
    "                target_max, _ = agent.get_target_values(data.next_observations).max(dim=1)\n",
    "                td_target = data.rewards.flatten() + hypp.gamma * target_max * (1 - data.dones.flatten())\n",
    "\n",
    "            # calculate MSE loss between target and value\n",
    "            old_val = agent.get_q_values(data.observations).gather(1, data.actions).squeeze()\n",
    "            loss = F.mse_loss(td_target, old_val)\n",
    "\n",
    "            # log td_loss and q_values to tensorboard\n",
    "            if global_step % 100 == 0:\n",
    "                writer.add_scalar(\"train/td_loss\", loss, global_step)\n",
    "                writer.add_scalar(\"train/q_values\", old_val.mean().item(), global_step)\n",
    "                writer.add_scalar(\"others/SPS\", int(global_step / (time.time() - start_time)), global_step)\n",
    "                writer.add_scalar(\"Charts/episode_step\", episode_step, global_step)\n",
    "                writer.add_scalar(\"Charts/gradient_step\", gradient_step, global_step)\n",
    "\n",
    "            # optimize the model\n",
    "            optimizer.zero_grad()\n",
    "            loss.backward()\n",
    "            optimizer.step()\n",
    "            gradient_step += 1\n",
    "\n",
    "        # update the target network\n",
    "        if global_step % hypp.target_network_frequency == 0:\n",
    "            agent.synchronize_networks()\n",
    "\n",
    "\n",
    "# one last evaluation stage\n",
    "if exp.eval_agent:\n",
    "    tracked_return, tracked_episode_len = hf.evaluate_agent(envs_eval, agent, exp.eval_count, exp.seed, greedy_actor = True)\n",
    "    tracked_returns_over_training.append(tracked_return)\n",
    "    tracked_episode_len_over_training.append(tracked_episode_len)\n",
    "    tracked_episode_count.append([episode_step, global_step])\n",
    "\n",
    "    # if there has been improvement of the model - save model, create video, log video to wandb\n",
    "    if np.mean(tracked_return) > eval_max_return:\n",
    "        eval_max_return = np.mean(tracked_return)\n",
    "        # call helper function save_and_log_agent to save model, create video, log video to wandb\n",
    "        hf.save_and_log_agent(exp, agent, episode_step,\n",
    "                              greedy=True, print_path=False)\n",
    "\n",
    "    hf.save_tracked_values(tracked_returns_over_training, tracked_episode_len_over_training, tracked_episode_count, exp.eval_count, exp.run_name)    \n",
    "\n",
    "envs.close()\n",
    "writer.close()\n",
    "pbar.close()\n",
    "if wandb.run is not None:\n",
    "    wandb.finish(quiet=True)\n",
    "    wandb.init(mode= 'disabled')\n",
    "\n",
    "hf.save_train_config_to_yaml(exp, hypp)"
   ]
  },
  {
   "cell_type": "markdown",
   "id": "13093318",
   "metadata": {},
   "source": [
    "## Compare Trained Agents and Display Behaviour"
   ]
  },
  {
   "cell_type": "markdown",
   "id": "165bf7d0",
   "metadata": {},
   "source": [
    "### Display Trained Agent Behaviour\n",
    "\n",
    "Set `agent_name` and `agent_exp_type` to load the saved agent model in the respective log folder and generate a video of the agent's interaction with the gym environment. After the cell is executed, you should see a video embedding as output, and the video is also available in the following directory: `/logs/<exp.exp_type>/<exp.run_name>/videos` "
   ]
  },
  {
   "cell_type": "code",
   "execution_count": 8,
   "id": "c49f4c2b",
   "metadata": {},
   "outputs": [
    {
     "data": {
      "text/html": [
       "<video loop autoplay  >\n",
       " <source src=\"data:video/mp4;base64,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\" type=\"video/mp4\">\n",
       " Your browser does not support the video tag.\n",
       " </video>"
      ],
      "text/plain": [
       "<IPython.core.display.Video object>"
      ]
     },
     "execution_count": 8,
     "metadata": {},
     "output_type": "execute_result"
    }
   ],
   "source": [
    "agent_name = exp.run_name\n",
    "agent_exp_type = exp.exp_type  # both are needed to identify the agent location\n",
    "\n",
    "\n",
    "exp_folder = \"\" if agent_exp_type is None else agent_exp_type\n",
    "filepath, _ = hf.create_folder_relative(f\"{exp_folder}/{agent_name}/videos\")\n",
    "\n",
    "hf.record_video(exp.env_id, agent_name, f\"{filepath}/best.mp4\", exp_type=agent_exp_type, greedy=True)\n",
    "Video(data=f\"{filepath}/best.mp4\", html_attributes='loop autoplay', embed=True)"
   ]
  },
  {
   "cell_type": "markdown",
   "id": "a5ca9e83",
   "metadata": {},
   "source": [
    "### Compare Performance of Agents During Training\n",
    "\n",
    "During the training loop, if `exp.eval_agent = True`, the performance progress of the agent during its training is saved as a csv file. To compare the saved progress of different agents, create a `dict` containing the parent folder's name of each of the csv files and use the helper function `plotter_agents_training_stats`.\n",
    "\n",
    "To load the data, you can either set `eval_params.run_name00 = exp.run_name` (if only a `tracked_performance_training.csv` file for the corresponding `exp.run_name` exists) or manually enter the folder name containing the csv file. \n",
    "\n",
    "If the agent performance you want to load is inside an exp_type folder, set `eval_params.exp_type00` to experiment type, and if not, set it to `None`. \n",
    "\n",
    "You can add more than one experiment by initializing dict keys and values of the format `eval_params.run_namexx` and `eval_params.exp_typexx`."
   ]
  },
  {
   "cell_type": "code",
   "execution_count": 9,
   "id": "008addbe",
   "metadata": {},
   "outputs": [
    {
     "data": {
      "image/png": "[encoded data removed]",
      "text/plain": [
       "<Figure size 1400x300 with 2 Axes>"
      ]
     },
     "metadata": {},
     "output_type": "display_data"
    }
   ],
   "source": [
    "eval_params = edict()  # eval_params - evaluation settings for trained agent\n",
    "\n",
    "eval_params.run_name00 = exp.run_name\n",
    "eval_params.exp_type00 = exp.exp_type\n",
    "\n",
    "# eval_params.run_name01 = \"CartPole-v1__PPO__1__230302_224624\"\n",
    "# eval_params.exp_type01 = None\n",
    "\n",
    "# eval_params.run_name02 = \"CartPole-v1__PPO__1__230302_221245\"\n",
    "# eval_params.exp_type02 = None\n",
    "\n",
    "agent_labels = []\n",
    "\n",
    "episode_axis_limit = None\n",
    "\n",
    "hf.plotter_agents_training_stats(eval_params, agent_labels, episode_axis_limit, plot_returns=True, plot_episode_len=True)"
   ]
  },
  {
   "cell_type": "markdown",
   "id": "af260c86",
   "metadata": {},
   "source": [
    "## TensorBoard Inline"
   ]
  },
  {
   "cell_type": "code",
   "execution_count": 10,
   "id": "dfbf550f",
   "metadata": {},
   "outputs": [],
   "source": [
    "# %load_ext tensorboard\n",
    "# %tensorboard --logdir runs --host localhost"
   ]
  }
 ],
 "metadata": {
  "kernelspec": {
   "display_name": "Python 3 (ipykernel)",
   "language": "python",
   "name": "python3"
  },
  "language_info": {
   "codemirror_mode": {
    "name": "ipython",
    "version": 3
   },
   "file_extension": ".py",
   "mimetype": "text/x-python",
   "name": "python",
   "nbconvert_exporter": "python",
   "pygments_lexer": "ipython3",
   "version": "3.10.8"
  },
  "toc-autonumbering": true,
  "widgets": {
   "application/vnd.jupyter.widget-state+json": {
    "state": {},
    "version_major": 2,
    "version_minor": 0
   }
  }
 },
 "nbformat": 4,
 "nbformat_minor": 5
}
