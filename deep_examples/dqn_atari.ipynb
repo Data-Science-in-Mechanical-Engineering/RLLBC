{
 "cells": [
  {
   "cell_type": "markdown",
   "id": "1a210fd1",
   "metadata": {},
   "source": [
    "![DSME-logo](./static/DSME_logo.png)\n",
    "\n",
    "#  Reinforcement Learning and Learning-based Control\n",
    "\n",
    "<p style=\"font-size:12pt\";> \n",
    "<b> Prof. Dr. Sebastian Trimpe, Dr. Friedrich Solowjow </b><br>\n",
    "<b> Institute for Data Science in Mechanical Engineering (DSME) </b><br>\n",
    "<a href = \"mailto:rllbc@dsme.rwth-aachen.de\">rllbc@dsme.rwth-aachen.de</a><br>\n",
    "</p>\n",
    "\n",
    "---\n",
    "DQN Implementation\n",
    "\n",
    "Notebook Authors: Ramil Sabirov\n",
    "\n",
    "Adapted from: [CleanRL](https://github.com/vwxyzjn/cleanrl)\n",
    "\n",
    "Orignal Paper: [Playing Atari with Deep Reinforcement Learning](https://arxiv.org/abs/1312.5602)"
   ]
  },
  {
   "cell_type": "markdown",
   "id": "8493b02b",
   "metadata": {},
   "source": [
    "## Library Imports"
   ]
  },
  {
   "cell_type": "code",
   "execution_count": 8,
   "id": "0d58f9e7",
   "metadata": {
    "ExecuteTime": {
     "end_time": "2024-05-28T14:42:01.397862Z",
     "start_time": "2024-05-28T14:42:01.369010Z"
    }
   },
   "outputs": [
    {
     "name": "stdout",
     "output_type": "stream",
     "text": [
      "The autoreload extension is already loaded. To reload it, use:\n",
      "  %reload_ext autoreload\n"
     ]
    }
   ],
   "source": [
    "import os\n",
    "#set env vars for cuda\n",
    "os.environ['CUDA_VISIBLE_DEVICES'] = \"0\"\n",
    "\n",
    "import copy\n",
    "import time\n",
    "import random\n",
    "import warnings\n",
    "from datetime import datetime\n",
    "from functools import partial\n",
    "\n",
    "import numpy as np\n",
    "import matplotlib.pyplot as plt\n",
    "from stable_baselines3.common.atari_wrappers import MaxAndSkipEnv, EpisodicLifeEnv, FireResetEnv, \\\n",
    "    ClipRewardEnv\n",
    "from tqdm import notebook\n",
    "from easydict import EasyDict as edict\n",
    "from IPython.display import Video\n",
    "\n",
    "import utils.helper_fns as hf\n",
    "\n",
    "import gymnasium as gym\n",
    "import wandb\n",
    "import torch\n",
    "import torch.nn as nn\n",
    "import torch.optim as optim\n",
    "import torch.nn.functional as F\n",
    "from stable_baselines3.common.buffers import ReplayBuffer\n",
    "import ale_py\n",
    "\n",
    "warnings.filterwarnings(\"ignore\", category=DeprecationWarning)\n",
    "\n",
    "os.environ['SDL_VIDEODRIVER'] = 'dummy'\n",
    "os.environ['WANDB_NOTEBOOK_NAME'] = 'dqn_atari.ipynb'\n",
    "\n",
    "plt.rcParams['figure.dpi'] = 100\n",
    "device = torch.device(\"cuda\" if torch.cuda.is_available() else \"cpu\")"
   ]
  },
  {
   "cell_type": "markdown",
   "id": "e9fb3389-75f0-44d5-850a-7e43ea83ac66",
   "metadata": {},
   "source": [
    "## DQN-specific helper functions\n",
    "DQN uses a decreasing linear schedule for the exploration rate $\\epsilon$. Meaning that the algorithm starts with a certain exploration rate (e.g.  $\\epsilon = 1$) and decreases the rate linearly until it reaches a minimum exploration rate (e.g. $\\epsilon = 0.05$). The helper function `linear schedule` calculates the current $\\epsilon$ as a function of timesteps `t`."
   ]
  },
  {
   "cell_type": "code",
   "execution_count": 9,
   "id": "1010c165-24cc-4a2b-9b38-2267f09eb29a",
   "metadata": {
    "ExecuteTime": {
     "end_time": "2024-05-28T14:42:01.430976Z",
     "start_time": "2024-05-28T14:42:01.404837Z"
    }
   },
   "outputs": [],
   "source": [
    "def linear_schedule(start_e: float, end_e: float, duration: int, t: int):\n",
    "    '''\n",
    "    returns the linearly decreasing exploration probability epsilon for a certain timestep\n",
    "    :param start_e: exploration probability (epsilon) at timestep 0\n",
    "    :param end_e:  minimal exploration probability (epsilon)\n",
    "    :param duration: number of timesteps after which end_e is reached\n",
    "    :param t: the current timestep\n",
    "    :return: exploration probability (epsilon) for the current timestep\n",
    "    '''\n",
    "    slope = (end_e - start_e) / duration\n",
    "    return max(slope * t + start_e, end_e)"
   ]
  },
  {
   "cell_type": "markdown",
   "id": "a8223db4",
   "metadata": {},
   "source": [
    "## Initializations"
   ]
  },
  {
   "cell_type": "markdown",
   "id": "8e5ddf45",
   "metadata": {},
   "source": [
    "### Experiment\n",
    "\n",
    "We primarily use dictionaries for initializing experiment parameters and training hyperparameters. We use the `EasyDict` (imported as `edict`) library, which allows us to access dict values as attributes while retaining the operations and properties of the original python `dict`! [[Github Link](https://github.com/makinacorpus/easydict)]\n",
    "\n",
    "In this notebook we use a few `edicts` with `exp` being one of them. It is initialized in the following cell and has keys and values containing information about the experiment being run. Although initialized in this section, we keep adding new keys and values to the dict in the later sections as well.  \n",
    "\n",
    "This notebook supports gym environments with observation space of type `gym.spaces.Box` and action space of type `gym.spaces.Discrete`. Eg: Acrobot-v1, CartPole-v1, MountainCar-v0"
   ]
  },
  {
   "cell_type": "code",
   "execution_count": 10,
   "id": "45b9b8fb",
   "metadata": {
    "ExecuteTime": {
     "end_time": "2024-05-28T14:42:01.457385Z",
     "start_time": "2024-05-28T14:42:01.433511Z"
    }
   },
   "outputs": [],
   "source": [
    "exp = edict()\n",
    "\n",
    "exp.exp_name = 'DQN'  # algorithm name, in this case it should be 'DQN'\n",
    "exp.env_id = 'BreakoutNoFrameskip-v4'  # name of the gym environment to be used in this experiment. Eg: Acrobot-v1, CartPole-v1, MountainCar-v0\n",
    "exp.device = device.type  # save the device type used to load tensors and perform tensor operations\n",
    "\n",
    "set_random_seed = True  # set random seed for reproducibility of python, numpy and torch\n",
    "exp.seed = 2\n",
    "\n",
    "# name of the project in Weights & Biases (wandb) to which logs are patched. (only if wandb logging is enabled)\n",
    "# if the project does not exist in wandb, it will be created automatically\n",
    "wandb_prj_name = f\"RLLBC_{exp.env_id}\"\n",
    "\n",
    "# name prefix of output files generated by the notebook\n",
    "exp.run_name = f\"{exp.env_id}__{exp.exp_name}__{exp.seed}__{datetime.now().strftime('%y%m%d_%H%M%S')}\"\n",
    "\n",
    "if set_random_seed:\n",
    "    random.seed(exp.seed)\n",
    "    np.random.seed(exp.seed)\n",
    "    torch.manual_seed(exp.seed)\n",
    "    torch.backends.cudnn.deterministic = set_random_seed"
   ]
  },
  {
   "cell_type": "markdown",
   "id": "ebba383a",
   "metadata": {},
   "source": [
    "### Agent Model Class\n",
    "\n",
    "The `Agent` class consists of two neural networks with the exact same architecture: the *Q-network* and the *target network*. Both networks are taking a state as input and evaluate to *Q-values* for every possible (discrete) action. The class provides methods to query the networks, i.e. `get_q_values` and `get_target_values`.\n",
    "\n",
    "Note that the target network will not be subject to the optimizer, meaning that only the Q-network will be modified by the optimizer through gradient steps. Instead, the target network is periodically synchronized with the Q-network by the means of the function `synchronize_networks`.\n",
    "\n",
    "The `Agent` class also provides a method to retrieve the best action for a state according to the current Q-network, that is the action with the highest Q-value."
   ]
  },
  {
   "cell_type": "code",
   "execution_count": 11,
   "id": "b80e1114",
   "metadata": {
    "ExecuteTime": {
     "end_time": "2024-05-28T14:42:01.484803Z",
     "start_time": "2024-05-28T14:42:01.458700Z"
    }
   },
   "outputs": [],
   "source": [
    "class Agent(nn.Module):\n",
    "    def __init__(self, env):\n",
    "        super().__init__()\n",
    "        self.q_network = nn.Sequential(\n",
    "            nn.Conv2d(4, 32, 8, stride=4),\n",
    "            nn.ReLU(),\n",
    "            nn.Conv2d(32, 64, 4, stride=2),\n",
    "            nn.ReLU(),\n",
    "            nn.Conv2d(64, 64, 3, stride=1),\n",
    "            nn.ReLU(),\n",
    "            nn.Flatten(),\n",
    "            nn.Linear(3136, 512),\n",
    "            nn.ReLU(),\n",
    "            nn.Linear(512, env.single_action_space.n),\n",
    "        )\n",
    "\n",
    "        self.target_network = copy.deepcopy(self.q_network)\n",
    "\n",
    "    def get_q_values(self, x):\n",
    "        return self.q_network(x / 255.0)\n",
    "\n",
    "    def get_target_values(self, x):\n",
    "        return self.target_network(x / 255.0)\n",
    "\n",
    "    def synchronize_networks(self):\n",
    "        self.target_network.load_state_dict(self.q_network.state_dict())\n",
    "\n",
    "    def get_action(self, x, greedy=True):\n",
    "        q_vals = self.get_q_values(x)\n",
    "        action = q_vals.argmax(dim=1)\n",
    "\n",
    "        return action"
   ]
  },
  {
   "cell_type": "markdown",
   "id": "885b57a9",
   "metadata": {},
   "source": [
    "### Training Params & Agent Hyperparams\n",
    "The second dictionary we use, `hypp`, is initialized in the following cell. It has keys and values containing the hyperparameters necessary to the algorithm.\n",
    "\n",
    "The parameters and hyperparameters in this section are broadly categorized as below:\n",
    "1. Flags for logging: \n",
    "    - They are stored in the `exp` dict. \n",
    "    - This notebook uses tensorboard logging by deafult to log experiment metrics. These tb log files are saved in the directory `logs/<exp.exp_type>/<exp.run_name>/tb`. (to learn about `exp.exp_type` refer point 3. below)\n",
    "    - To enable logging of gym videos of the agent's interaction with the env set `exp.capture_video = True`\n",
    "    - Patch tensorboard logs and gym videos to Weigths & Biases (wandb) by setting `exp.enable_wandb_logging = True`\n",
    "2. Flags and parameters to generate average performance throughout training:\n",
    "    - Stored in the `exp` dict\n",
    "    - If `exp.eval_agent = True`, the performance of the agent during it's training is saved in the corresponding logs folder. You can later used this to compare the performance of your current agent with other agents during their training (in Section 1.5.2).\n",
    "    - Every `exp.eval_frequency` episodes the trained agent is evaluated using the `envs_eval` by playing out `exp.eval_count` episodes\n",
    "    - To speed up training set `exp.eval_agent = False` \n",
    "3. Create experiment hierarchy inside log folders:\n",
    "    - if `exp.exp_type` is None, experiment logs are saved to the root log directory `logs`, ie, `/logs/<exp.run_name>`, otherwise they are saved to the directory `logs/<exp.exp_type>/<exp._name>`\n",
    "4. Parameters and hyperparameters related to the algorithm:\n",
    "    - Stored in the `hypp` dict\n",
    "    - Quick reminder:  the `num_steps` key in the `hypp` dict is also a hyperparameter defined in Env & Rollout Buffer Init Section.\n",
    "\n",
    "Note: \n",
    "1. If Weigths and Biases (wandb) logging is enabled, when you run the \"Training The Agent\" cell, enter your wandb's api key when prompted. \n",
    "2. Training takes longer when either gym video recording or agent evaluation during training is enabled. To speed up training set both `exp.capture_video` and `exp.eval_agent` to `False`."
   ]
  },
  {
   "cell_type": "code",
   "execution_count": 12,
   "id": "53f8844a",
   "metadata": {
    "ExecuteTime": {
     "end_time": "2024-05-28T14:42:01.513305Z",
     "start_time": "2024-05-28T14:42:01.487450Z"
    }
   },
   "outputs": [],
   "source": [
    "hypp = edict()\n",
    "\n",
    "# flags for logging purposes\n",
    "exp.enable_wandb_logging = True\n",
    "exp.capture_video = True\n",
    "\n",
    "# flags to generate agent's average performance during training\n",
    "exp.eval_agent = True  # disable to speed up training\n",
    "exp.eval_count = 10\n",
    "exp.eval_frequency = 200\n",
    "\n",
    "# putting the run into the designated log folder for structuring\n",
    "exp.exp_type = None  # directory the run is saved to. Should be None or a string value\n",
    "\n",
    "# agent training specific parameters and hyperparameters\n",
    "hypp.total_timesteps = int(1e7)  # the training duration in number of time steps\n",
    "hypp.learning_rate = 1e-4  # the learning rate for the optimizer\n",
    "hypp.gamma = 0.99  # decay factor of future rewards\n",
    "hypp.buffer_size = int(1e6)  # the size of the replay memory buffer\n",
    "hypp.target_network_frequency = 1000  # the frequency of synchronization with target network\n",
    "hypp.batch_size = 32  # number of samples taken from the replay buffer for one step\n",
    "hypp.start_e = 1  # probability of exploration (epsilon) at timestep 0\n",
    "hypp.end_e = 0.01  # minimal probability of exploration (epsilon)\n",
    "hypp.exploration_fraction = 0.1  # the fraction of total_timesteps it takes to go from start_e to end_e\n",
    "hypp.start_learning = 80000  # the timestep the learning starts (before that the replay buffer is filled)\n",
    "hypp.train_frequency = 4  # the frequency of training"
   ]
  },
  {
   "cell_type": "markdown",
   "id": "d0155331-bfae-478c-a71c-4413613f2dd5",
   "metadata": {},
   "source": [
    "### Replay Buffer\n",
    "In the following cell the **replay buffer** is initialised. It is used in 2 ways:\n",
    "- It **stores transitions** the agent took in the environment in the past (i.e. (state, action, next_state, reward, done?) tuples)\n",
    "- It is possible to **sample a batch** of transitions from the replay buffer. The batch is used to perform a gradient step on for training."
   ]
  },
  {
   "cell_type": "code",
   "execution_count": 13,
   "id": "0efaad3d-04b1-41f7-8596-a529a2773ad9",
   "metadata": {
    "ExecuteTime": {
     "end_time": "2024-05-28T14:42:01.546871Z",
     "start_time": "2024-05-28T14:42:01.515764Z"
    }
   },
   "outputs": [],
   "source": [
    "# Initialization of Replay Buffer\n",
    "\n",
    "envs = gym.vector.SyncVectorEnv([hf.make_env(exp.env_id, exp.seed + i) for i in range(1)])\n",
    "\n",
    "rb = ReplayBuffer(\n",
    "    hypp.buffer_size,\n",
    "    envs.single_observation_space,\n",
    "    envs.single_action_space,\n",
    "    device,\n",
    "    handle_timeout_termination=True,\n",
    ")\n",
    "\n",
    "envs.close()"
   ]
  },
  {
   "cell_type": "markdown",
   "id": "45b81a75",
   "metadata": {},
   "source": [
    "## Training the Agent\n",
    "\n",
    "Before we begin training the agent, we first initialize the logging (based on the respective flags in the `exp` dict), the object of the `Agent` class, and the optimizer, followed by an initial set of observations. \n",
    "\n",
    "After that follows the main training loop which consists of:\n",
    "1. **Taking a step in the environment** following the $\\epsilon$-greedy policy, i.e. take random action with probability $\\epsilon$ and optimal action according to the Q-network with probability $1-\\epsilon$.\n",
    "2. **Sampling a batch from the replay buffer** of previously experienced transitions. These are tuples of the form $(s,a,s',r,d)$=(state, action, next_state, reward, done) where done is a boolean indicating whether the environment has terminated after the transition.\n",
    "3. **Calculating the TD-targets** for each transition in the batch. Let $Q_t(s,a)$ denote the Q-value of the target network in state $s$ for action $a$, then the TD-target $T_i$ for transition $i$ of the batch is:  \n",
    "\n",
    "$$T_i =\n",
    "\\begin{cases}\n",
    "r_i + \\max_{a'}Q_t(s'_i,a') &, \\text{if } d_i = 0\\\\\n",
    "r_i &, \\text{else}\n",
    "\\end{cases}$$  \n",
    "\n",
    "4. **Setting up the loss function** as a mean squared error (MSE) between Q-values and TD-targets. Let $Q_{\\theta}(s,a)$ be the Q-value of the (parametrized) Q-network for state $s$ and action $a$, then the loss $L$ is:  \n",
    "\n",
    "$$L = \\frac{1}{n}\\sum_{i=1}^{n}(Q_{\\theta}(s_i,a_i) - T_i)^2$$\n",
    "5. **Performing gradient descent** with regard to the gradient $\\frac{\\delta}{\\delta\\theta}{L}$\n",
    "\n",
    "Note that steps 2-4 are not performed in every iteration of the main loop:\n",
    "- before actual training starts the algorithm runs a \"warm-up\" phase where it begins to fill the replay buffer (see `hypp.start_learning`)\n",
    "- training happens periodically every few steps (see `hypp.train_frequency`)\n",
    "\n",
    "Also periodically, the target network and the Q-network are synchronized. (see `hypp.target_network_frequency`)\n",
    "\n",
    "Post completion of the main training loop, we save a copy of the following in the directory `logs/<exp.exp_type>/<exp.run_name>`:\n",
    "1. `exp` and `hypp` dicts into a `.config` file \n",
    "2. `agent` (instance of `Agent` class) into a `.pt` file for later evaluation\n",
    "3. agent performance progress throughout training into a `.csv` file if `exp.eval_agent=True`\n",
    "\n",
    "Note: we have two vectorised gym environments, `envs` and `envs_eval` in the initalizations. `envs` is used to fill the rollout buffer with trajectories and `envs_eval` is used to evaluate the agent performance at different stages of training."
   ]
  },
  {
   "cell_type": "code",
   "execution_count": 15,
   "id": "0da39b1c",
   "metadata": {
    "ExecuteTime": {
     "end_time": "2024-05-28T15:03:04.808823Z",
     "start_time": "2024-05-28T14:59:00.849874Z"
    }
   },
   "outputs": [
    {
     "data": {
      "application/vnd.jupyter.widget-view+json": {
       "model_id": "23a6dfdbb931499994c9fa123381317e",
       "version_major": 2,
       "version_minor": 0
      },
      "text/plain": [
       "VBox(children=(Label(value='0.004 MB of 0.004 MB uploaded\\r'), FloatProgress(value=1.0, max=1.0)))"
      ]
     },
     "metadata": {},
     "output_type": "display_data"
    },
    {
     "data": {
      "text/html": [
       "<style>\n",
       "    table.wandb td:nth-child(1) { padding: 0 10px; text-align: left ; width: auto;} td:nth-child(2) {text-align: left ; width: 100%}\n",
       "    .wandb-row { display: flex; flex-direction: row; flex-wrap: wrap; justify-content: flex-start; width: 100% }\n",
       "    .wandb-col { display: flex; flex-direction: column; flex-basis: 100%; flex: 1; padding: 10px; }\n",
       "    </style>\n",
       "<div class=\"wandb-row\"><div class=\"wandb-col\"><h3>Run history:</h3><br/><table class=\"wandb\"><tr><td>global_step</td><td>▁</td></tr></table><br/></div><div class=\"wandb-col\"><h3>Run summary:</h3><br/><table class=\"wandb\"><tr><td>global_step</td><td>0</td></tr></table><br/></div></div>"
      ],
      "text/plain": [
       "<IPython.core.display.HTML object>"
      ]
     },
     "metadata": {},
     "output_type": "display_data"
    },
    {
     "data": {
      "text/html": [
       " View run <strong style=\"color:#cdcd00\">CartPole-v1__DQN__2__240528_164201</strong> at: <a href='https://wandb.ai/nkpmedia/RLLBC_CartPole-v1/runs/yguh8ssd/workspace' target=\"_blank\">https://wandb.ai/nkpmedia/RLLBC_CartPole-v1/runs/yguh8ssd/workspace</a><br/>Synced 6 W&B file(s), 0 media file(s), 0 artifact file(s) and 1 other file(s)"
      ],
      "text/plain": [
       "<IPython.core.display.HTML object>"
      ]
     },
     "metadata": {},
     "output_type": "display_data"
    },
    {
     "data": {
      "text/html": [
       "Find logs at: <code>./logs/wandb/run-20240528_164215-yguh8ssd/logs</code>"
      ],
      "text/plain": [
       "<IPython.core.display.HTML object>"
      ]
     },
     "metadata": {},
     "output_type": "display_data"
    },
    {
     "data": {
      "application/vnd.jupyter.widget-view+json": {
       "model_id": "54260b17a9bc48e7a04f53713ed0f715",
       "version_major": 2,
       "version_minor": 0
      },
      "text/plain": [
       "VBox(children=(Label(value='Waiting for wandb.init()...\\r'), FloatProgress(value=0.011115001611112044, max=1.0…"
      ]
     },
     "metadata": {},
     "output_type": "display_data"
    },
    {
     "data": {
      "text/html": [
       "wandb version 0.17.0 is available!  To upgrade, please run:\n",
       " $ pip install wandb --upgrade"
      ],
      "text/plain": [
       "<IPython.core.display.HTML object>"
      ]
     },
     "metadata": {},
     "output_type": "display_data"
    },
    {
     "data": {
      "text/html": [
       "Tracking run with wandb version 0.16.5"
      ],
      "text/plain": [
       "<IPython.core.display.HTML object>"
      ]
     },
     "metadata": {},
     "output_type": "display_data"
    },
    {
     "data": {
      "text/html": [
       "Run data is saved locally in <code>/mnt/c/Users/md062091/PycharmProjects/RLLBC/deep_examples/logs/wandb/run-20240528_165912-wpsmujjz</code>"
      ],
      "text/plain": [
       "<IPython.core.display.HTML object>"
      ]
     },
     "metadata": {},
     "output_type": "display_data"
    },
    {
     "data": {
      "text/html": [
       "Syncing run <strong><a href='https://wandb.ai/nkpmedia/RLLBC_CartPole-v1/runs/wpsmujjz/workspace' target=\"_blank\">CartPole-v1__DQN__2__240528_165900</a></strong> to <a href='https://wandb.ai/nkpmedia/RLLBC_CartPole-v1' target=\"_blank\">Weights & Biases</a> (<a href='https://wandb.me/run' target=\"_blank\">docs</a>)<br/>"
      ],
      "text/plain": [
       "<IPython.core.display.HTML object>"
      ]
     },
     "metadata": {},
     "output_type": "display_data"
    },
    {
     "data": {
      "text/html": [
       " View project at <a href='https://wandb.ai/nkpmedia/RLLBC_CartPole-v1' target=\"_blank\">https://wandb.ai/nkpmedia/RLLBC_CartPole-v1</a>"
      ],
      "text/plain": [
       "<IPython.core.display.HTML object>"
      ]
     },
     "metadata": {},
     "output_type": "display_data"
    },
    {
     "data": {
      "text/html": [
       " View run at <a href='https://wandb.ai/nkpmedia/RLLBC_CartPole-v1/runs/wpsmujjz/workspace' target=\"_blank\">https://wandb.ai/nkpmedia/RLLBC_CartPole-v1/runs/wpsmujjz/workspace</a>"
      ],
      "text/plain": [
       "<IPython.core.display.HTML object>"
      ]
     },
     "metadata": {},
     "output_type": "display_data"
    },
    {
     "name": "stderr",
     "output_type": "stream",
     "text": [
      "\u001b[34m\u001b[1mwandb\u001b[0m: \u001b[33mWARNING\u001b[0m When using several event log directories, please call `wandb.tensorboard.patch(root_logdir=\"...\")` before `wandb.init`\n"
     ]
    },
    {
     "data": {
      "application/vnd.jupyter.widget-view+json": {
       "model_id": "04873f7da25f44158af72d91541387d4",
       "version_major": 2,
       "version_minor": 0
      },
      "text/plain": [
       "  0%|          | 0/100000 [00:00<?, ?it/s]"
      ]
     },
     "metadata": {},
     "output_type": "display_data"
    },
    {
     "data": {
      "application/vnd.jupyter.widget-view+json": {
       "model_id": "2aa401c77b9e4e449089be7f3f39a2a2",
       "version_major": 2,
       "version_minor": 0
      },
      "text/plain": [
       "VBox(children=(Label(value='0.627 MB of 0.627 MB uploaded\\r'), FloatProgress(value=1.0, max=1.0)))"
      ]
     },
     "metadata": {},
     "output_type": "display_data"
    },
    {
     "data": {
      "text/html": [
       " View run <strong style=\"color:#cdcd00\">CartPole-v1__DQN__2__240528_165900</strong> at: <a href='https://wandb.ai/nkpmedia/RLLBC_CartPole-v1/runs/wpsmujjz/workspace' target=\"_blank\">https://wandb.ai/nkpmedia/RLLBC_CartPole-v1/runs/wpsmujjz/workspace</a><br/>Synced 6 W&B file(s), 9 media file(s), 2 artifact file(s) and 1 other file(s)"
      ],
      "text/plain": [
       "<IPython.core.display.HTML object>"
      ]
     },
     "metadata": {},
     "output_type": "display_data"
    }
   ],
   "source": [
    "exp.run_name = f\"{exp.env_id}__{exp.exp_name}__{exp.seed}__{datetime.now().strftime('%y%m%d_%H%M%S')}\"\n",
    "\n",
    "# Init tensorboard logging and wandb logging\n",
    "writer = hf.setup_logging(wandb_prj_name, exp, hypp)\n",
    "\n",
    "# create two vectorized envs: one to fill the rollout buffer with trajectories and\n",
    "# another one to evaluate the agent performance at different stages of training\n",
    "envs = gym.vector.SyncVectorEnv([hf.make_atari_breakout_env(exp.env_id, exp.seed)])\n",
    "envs_eval = gym.vector.SyncVectorEnv([hf.make_atari_breakout_env(exp.env_id, exp.seed + i) for i in range(1)])\n",
    "\n",
    "# Atari specific environment wrappers such that the images are preprocessed\n",
    "env_video_wrapper = [\n",
    "    partial(hf.NoopResetEnv, noop_max=30),\n",
    "    partial(MaxAndSkipEnv, skip=4),\n",
    "    EpisodicLifeEnv,\n",
    "    FireResetEnv,\n",
    "    ClipRewardEnv,\n",
    "    partial(gym.wrappers.ResizeObservation, shape=(84, 84)),\n",
    "    gym.wrappers.GrayScaleObservation,\n",
    "    partial(gym.wrappers.FrameStack, num_stack=4)\n",
    "]\n",
    "\n",
    "# init list to track agent's performance throughout training\n",
    "tracked_returns_over_training = []\n",
    "tracked_episode_len_over_training = []\n",
    "tracked_episode_count = []\n",
    "last_evaluated_episode = None  # stores the episode_step of when the agent's performance was last evaluated\n",
    "eval_max_return = -float('inf')\n",
    "\n",
    "# Create Agent class Instance and network optimizer\n",
    "agent = Agent(envs).to(device)\n",
    "optimizer = optim.Adam(agent.q_network.parameters(), lr=hypp.learning_rate)\n",
    "\n",
    "global_step = 0\n",
    "episode_step = 0\n",
    "gradient_step = 0\n",
    "\n",
    "# Init observation to start learning\n",
    "start_time = time.time()\n",
    "obs = envs.reset()\n",
    "\n",
    "pbar = notebook.tqdm(range(1, hypp.total_timesteps + 1))\n",
    "\n",
    "# training loop\n",
    "for update in pbar:\n",
    "\n",
    "    # choosing action\n",
    "    # random action with probability epsilon\n",
    "    # action according to maximum values of q-network with probality 1-epsilon\n",
    "    epsilon = linear_schedule(hypp.start_e, hypp.end_e, hypp.exploration_fraction * hypp.total_timesteps, global_step)\n",
    "    if random.random() < epsilon:\n",
    "        actions = np.array([envs.single_action_space.sample() for _ in range(envs.num_envs)])\n",
    "    else:\n",
    "        q_values = agent.get_q_values(torch.Tensor(obs).to(device))\n",
    "        actions = torch.argmax(q_values, dim=1).cpu().numpy()\n",
    "\n",
    "    # apply action to environment\n",
    "    next_obs, rewards, dones, infos = envs.step(actions)\n",
    "    global_step += 1\n",
    "\n",
    "    # log episode return and length to tensorboard as well as current epsilon\n",
    "    for info in infos:\n",
    "        if \"episode\" in info.keys():\n",
    "            episode_step += 1\n",
    "            pbar.set_description(f\"global_step: {global_step}, episodic_return={info['episode']['r']}\")\n",
    "            writer.add_scalar(\"rollout/episodic_return\", info[\"episode\"][\"r\"], global_step)\n",
    "            writer.add_scalar(\"rollout/episodic_length\", info[\"episode\"][\"l\"], global_step)\n",
    "            writer.add_scalar(\"hyperparameters/epsilon\", epsilon, global_step)\n",
    "            writer.add_scalar(\"Charts/episode_step\", episode_step, global_step)\n",
    "            writer.add_scalar(\"Charts/gradient_step\", gradient_step, global_step)\n",
    "            break\n",
    "\n",
    "    # evaluation of the agent\n",
    "    if exp.eval_agent and (episode_step % exp.eval_frequency == 0) and last_evaluated_episode != episode_step:\n",
    "        last_evaluated_episode = episode_step\n",
    "        tracked_return, tracked_episode_len = hf.evaluate_agent(envs_eval, agent, exp.eval_count,\n",
    "                                                                exp.seed, greedy_actor=True)\n",
    "        tracked_returns_over_training.append(tracked_return)\n",
    "        tracked_episode_len_over_training.append(tracked_episode_len)\n",
    "        tracked_episode_count.append([episode_step, global_step])\n",
    "\n",
    "        writer.add_scalar(\"eval/episodic_return\", np.mean(tracked_return), global_step)\n",
    "        writer.add_scalar(\"eval/episodic_length\", np.mean(tracked_episode_len), global_step)\n",
    "\n",
    "        # if there has been improvement of the model - save model, create video, log video to wandb\n",
    "        if np.mean(tracked_return) > eval_max_return:\n",
    "            writer.add_scalar(\"eval_max/episodic_return\", np.mean(tracked_return), global_step)\n",
    "            writer.add_scalar(\"eval_max/episodic_length\", np.mean(tracked_episode_len), global_step)\n",
    "\n",
    "            eval_max_return = np.mean(tracked_return)\n",
    "            # call helper function save_and_log_agent to save model, create video, log video to wandb\n",
    "            hf.save_and_log_agent(exp, agent, episode_step,\n",
    "                                  greedy=True, print_path=False, env_wrapper=env_video_wrapper)\n",
    "\n",
    "    # Handling the terminal observation\n",
    "    real_next_obs = next_obs.copy()\n",
    "    for idx, d in enumerate(dones):\n",
    "        if d:\n",
    "            real_next_obs[idx] = infos[idx][\"terminal_observation\"]\n",
    "\n",
    "    # Add data to replay buffer\n",
    "    rb.add(obs, real_next_obs, actions, rewards, dones, infos)\n",
    "\n",
    "    # update obs\n",
    "    obs = next_obs\n",
    "\n",
    "    # training of the agent\n",
    "    if global_step > hypp.start_learning:\n",
    "        if global_step % hypp.train_frequency == 0:\n",
    "            data = rb.sample(hypp.batch_size)\n",
    "\n",
    "            # calculate the TD target using target network\n",
    "            with torch.no_grad():\n",
    "                target_max, _ = agent.get_target_values(data.next_observations).max(dim=1)\n",
    "                td_target = data.rewards.flatten() + hypp.gamma * target_max * (1 - data.dones.flatten())\n",
    "\n",
    "            # calculate MSE loss between target and value\n",
    "            old_val = agent.get_q_values(data.observations).gather(1, data.actions).squeeze()\n",
    "            loss = F.mse_loss(td_target, old_val)\n",
    "\n",
    "            # log td_loss and q_values to tensorboard\n",
    "            if global_step % 100 == 0:\n",
    "                writer.add_scalar(\"train/td_loss\", loss, global_step)\n",
    "                writer.add_scalar(\"train/q_values\", old_val.mean().item(), global_step)\n",
    "                writer.add_scalar(\"others/SPS\", int(global_step / (time.time() - start_time)), global_step)\n",
    "                writer.add_scalar(\"Charts/episode_step\", episode_step, global_step)\n",
    "                writer.add_scalar(\"Charts/gradient_step\", gradient_step, global_step)\n",
    "\n",
    "            # optimize the model\n",
    "            optimizer.zero_grad()\n",
    "            loss.backward()\n",
    "            optimizer.step()\n",
    "            gradient_step += 1\n",
    "\n",
    "        # update the target network\n",
    "        if global_step % hypp.target_network_frequency == 0:\n",
    "            agent.synchronize_networks()\n",
    "\n",
    "\n",
    "# one last evaluation stage\n",
    "if exp.eval_agent:\n",
    "    tracked_return, tracked_episode_len = hf.evaluate_agent(envs_eval, agent, exp.eval_count, exp.seed, greedy_actor = True)\n",
    "    tracked_returns_over_training.append(tracked_return)\n",
    "    tracked_episode_len_over_training.append(tracked_episode_len)\n",
    "    tracked_episode_count.append([episode_step, global_step])\n",
    "\n",
    "    # if there has been improvement of the model - save model, create video, log video to wandb\n",
    "    if np.mean(tracked_return) > eval_max_return:\n",
    "        eval_max_return = np.mean(tracked_return)\n",
    "        # call helper function save_and_log_agent to save model, create video, log video to wandb\n",
    "        hf.save_and_log_agent(exp, agent, episode_step,\n",
    "                              greedy=True, print_path=False, env_wrapper=env_video_wrapper)\n",
    "\n",
    "    hf.save_tracked_values(tracked_returns_over_training, tracked_episode_len_over_training, tracked_episode_count, exp.eval_count, exp.run_name)\n",
    "\n",
    "envs.close()\n",
    "writer.close()\n",
    "pbar.close()\n",
    "if wandb.run is not None:\n",
    "    wandb.finish(quiet=True)\n",
    "    wandb.init(mode= 'disabled')\n",
    "\n",
    "hf.save_train_config_to_yaml(exp, hypp)"
   ]
  },
  {
   "cell_type": "markdown",
   "id": "13093318",
   "metadata": {},
   "source": [
    "## Compare Trained Agents and Display Behaviour"
   ]
  },
  {
   "cell_type": "markdown",
   "id": "165bf7d0",
   "metadata": {},
   "source": [
    "### Display Trained Agent Behaviour\n",
    "\n",
    "Set `agent_name` and `agent_exp_type` to load the saved agent model in the respective log folder and generate a video of the agent's interaction with the gym environment. After the cell is executed, you should see a video embedding as output, and the video is also available in the following directory: `/logs/<exp.exp_type>/<exp.run_name>/videos` "
   ]
  },
  {
   "cell_type": "code",
   "execution_count": 16,
   "id": "c49f4c2b",
   "metadata": {
    "ExecuteTime": {
     "end_time": "2024-05-28T15:08:42.033009Z",
     "start_time": "2024-05-28T15:08:36.006787Z"
    }
   },
   "outputs": [
    {
     "data": {
      "text/html": [
       "<video loop autoplay  >\n",
       " <source src=\"data:video/mp4;base64,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\" type=\"video/mp4\">\n",
       " Your browser does not support the video tag.\n",
       " </video>"
      ],
      "text/plain": [
       "<IPython.core.display.Video object>"
      ]
     },
     "execution_count": 16,
     "metadata": {},
     "output_type": "execute_result"
    }
   ],
   "source": [
    "agent_name = exp.run_name\n",
    "agent_exp_type = exp.exp_type  # both are needed to identify the agent location\n",
    "\n",
    "\n",
    "exp_folder = \"\" if agent_exp_type is None else agent_exp_type\n",
    "filepath, _ = hf.create_folder_relative(f\"{exp_folder}/{agent_name}/videos\")\n",
    "\n",
    "hf.record_video(exp.env_id, agent_name, f\"{filepath}/best.mp4\", exp_type=agent_exp_type, greedy=True)\n",
    "Video(data=f\"{filepath}/best.mp4\", html_attributes='loop autoplay', embed=True)"
   ]
  },
  {
   "cell_type": "markdown",
   "id": "a5ca9e83",
   "metadata": {},
   "source": [
    "### Compare Performance of Agents During Training\n",
    "\n",
    "During the training loop, if `exp.eval_agent = True`, the performance progress of the agent during its training is saved as a csv file. To compare the saved progress of different agents, create a `dict` containing the parent folder's name of each of the csv files and use the helper function `plotter_agents_training_stats`.\n",
    "\n",
    "To load the data, you can either set `eval_params.run_name00 = exp.run_name` (if only a `tracked_performance_training.csv` file for the corresponding `exp.run_name` exists) or manually enter the folder name containing the csv file. \n",
    "\n",
    "If the agent performance you want to load is inside an exp_type folder, set `eval_params.exp_type00` to experiment type, and if not, set it to `None`. \n",
    "\n",
    "You can add more than one experiment by initializing dict keys and values of the format `eval_params.run_namexx` and `eval_params.exp_typexx`."
   ]
  },
  {
   "cell_type": "code",
   "execution_count": 18,
   "id": "008addbe",
   "metadata": {
    "ExecuteTime": {
     "end_time": "2024-05-28T15:10:25.822216Z",
     "start_time": "2024-05-28T15:10:25.732123Z"
    }
   },
   "outputs": [
    {
     "ename": "Exception",
     "evalue": "Can't find filename00: CartPole-v1__DQN__2__240528_165900.csv in folder: /mnt/c/Users/md062091/PycharmProjects/RLLBC/deep_examples/logs/CartPole-v1__DQN__2__240528_165900",
     "output_type": "error",
     "traceback": [
      "\u001b[0;31m---------------------------------------------------------------------------\u001b[0m",
      "\u001b[0;31mException\u001b[0m                                 Traceback (most recent call last)",
      "Cell \u001b[0;32mIn[18], line 16\u001b[0m\n\u001b[1;32m     12\u001b[0m agent_labels \u001b[38;5;241m=\u001b[39m []\n\u001b[1;32m     14\u001b[0m episode_axis_limit \u001b[38;5;241m=\u001b[39m \u001b[38;5;28;01mNone\u001b[39;00m\n\u001b[0;32m---> 16\u001b[0m \u001b[43mhf\u001b[49m\u001b[38;5;241;43m.\u001b[39;49m\u001b[43mplotter_agents_training_stats\u001b[49m\u001b[43m(\u001b[49m\u001b[43meval_params\u001b[49m\u001b[43m,\u001b[49m\u001b[43m \u001b[49m\u001b[43magent_labels\u001b[49m\u001b[43m,\u001b[49m\u001b[43m \u001b[49m\u001b[43mepisode_axis_limit\u001b[49m\u001b[43m,\u001b[49m\u001b[43m \u001b[49m\u001b[43mplot_returns\u001b[49m\u001b[38;5;241;43m=\u001b[39;49m\u001b[38;5;28;43;01mTrue\u001b[39;49;00m\u001b[43m,\u001b[49m\u001b[43m \u001b[49m\u001b[43mplot_episode_len\u001b[49m\u001b[38;5;241;43m=\u001b[39;49m\u001b[38;5;28;43;01mTrue\u001b[39;49;00m\u001b[43m)\u001b[49m\n",
      "File \u001b[0;32m/mnt/c/Users/md062091/PycharmProjects/RLLBC/deep_examples/utils/helper_fns.py:285\u001b[0m, in \u001b[0;36mplotter_agents_training_stats\u001b[0;34m(exp_settings, agent_labels, episode_axis_limit, plot_returns, plot_episode_len)\u001b[0m\n\u001b[1;32m    283\u001b[0m         dfList\u001b[38;5;241m.\u001b[39mappend(pd\u001b[38;5;241m.\u001b[39mread_csv(full_path))\n\u001b[1;32m    284\u001b[0m     \u001b[38;5;28;01melse\u001b[39;00m:\n\u001b[0;32m--> 285\u001b[0m         \u001b[38;5;28;01mraise\u001b[39;00m \u001b[38;5;167;01mException\u001b[39;00m(\u001b[38;5;124m\"\u001b[39m\u001b[38;5;124mCan\u001b[39m\u001b[38;5;124m'\u001b[39m\u001b[38;5;124mt find filename\u001b[39m\u001b[38;5;132;01m%.2d\u001b[39;00m\u001b[38;5;124m: \u001b[39m\u001b[38;5;132;01m%s\u001b[39;00m\u001b[38;5;124m.csv in folder: \u001b[39m\u001b[38;5;132;01m%s\u001b[39;00m\u001b[38;5;124m\"\u001b[39m \u001b[38;5;241m%\u001b[39m (idx, run_name, folder_path))\n\u001b[1;32m    287\u001b[0m \u001b[38;5;28;01mif\u001b[39;00m agent_labels \u001b[38;5;129;01mis\u001b[39;00m \u001b[38;5;28;01mNone\u001b[39;00m \u001b[38;5;129;01mor\u001b[39;00m \u001b[38;5;129;01mnot\u001b[39;00m agent_labels:\n\u001b[1;32m    288\u001b[0m     agent_labels \u001b[38;5;241m=\u001b[39m generate_agent_labels(exp_settings, agent_abbrevation\u001b[38;5;241m=\u001b[39m\u001b[38;5;28;01mFalse\u001b[39;00m)\n",
      "\u001b[0;31mException\u001b[0m: Can't find filename00: CartPole-v1__DQN__2__240528_165900.csv in folder: /mnt/c/Users/md062091/PycharmProjects/RLLBC/deep_examples/logs/CartPole-v1__DQN__2__240528_165900"
     ]
    }
   ],
   "source": [
    "eval_params = edict()  # eval_params - evaluation settings for trained agent\n",
    "\n",
    "eval_params.run_name00 = exp.run_name\n",
    "eval_params.exp_type00 = exp.exp_type\n",
    "\n",
    "# eval_params.run_name01 = \"CartPole-v1__PPO__1__230302_224624\"\n",
    "# eval_params.exp_type01 = None\n",
    "\n",
    "# eval_params.run_name02 = \"CartPole-v1__PPO__1__230302_221245\"\n",
    "# eval_params.exp_type02 = None\n",
    "\n",
    "agent_labels = []\n",
    "\n",
    "episode_axis_limit = None\n",
    "\n",
    "hf.plotter_agents_training_stats(eval_params, agent_labels, episode_axis_limit, plot_returns=True, plot_episode_len=True)"
   ]
  },
  {
   "cell_type": "markdown",
   "id": "af260c86",
   "metadata": {},
   "source": [
    "## TensorBoard Inline"
   ]
  },
  {
   "cell_type": "code",
   "execution_count": 20,
   "id": "dfbf550f",
   "metadata": {
    "ExecuteTime": {
     "end_time": "2024-05-28T15:10:59.344736Z",
     "start_time": "2024-05-28T15:10:59.319449Z"
    }
   },
   "outputs": [],
   "source": [
    "# %load_ext tensorboard\n",
    "# %tensorboard --logdir runs --host localhost"
   ]
  },
  {
   "cell_type": "code",
   "execution_count": null,
   "id": "29b3d01eaed52269",
   "metadata": {},
   "outputs": [],
   "source": []
  }
 ],
 "metadata": {
  "kernelspec": {
   "display_name": "Python 3 (ipykernel)",
   "language": "python",
   "name": "python3"
  },
  "language_info": {
   "codemirror_mode": {
    "name": "ipython",
    "version": 3
   },
   "file_extension": ".py",
   "mimetype": "text/x-python",
   "name": "python",
   "nbconvert_exporter": "python",
   "pygments_lexer": "ipython3",
   "version": "3.10.8"
  },
  "toc-autonumbering": true,
  "widgets": {
   "application/vnd.jupyter.widget-state+json": {
    "state": {},
    "version_major": 2,
    "version_minor": 0
   }
  }
 },
 "nbformat": 4,
 "nbformat_minor": 5
}
