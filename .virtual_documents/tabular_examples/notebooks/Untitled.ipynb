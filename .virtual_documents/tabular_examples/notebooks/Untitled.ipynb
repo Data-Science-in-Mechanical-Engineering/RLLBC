





import gymnasium as gym
import matplotlib.pyplot as plt
import matplotlib.cm as cm
import numpy as np
import custom_envs
import random



