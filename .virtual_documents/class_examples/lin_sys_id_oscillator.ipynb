


import numpy as np
import matplotlib.pyplot as plt
import control as ct





m = 2
c = 50
k = 0.5
dt = 0.01

A_cont = np.array([[0, 1], [-c/m, -k/m]])
B_cont = np.array([[0], [1/m]])
C_cont = np.eye(2)
D_cont = np.zeros((2, 1))





sys_cont = ct.StateSpace(A_cont, B_cont, C_cont, D_cont)
sys_dis = sys_cont.sample(dt)

A_dis = sys_dis.A
B_dis = sys_dis.B
C_dis = sys_dis.C
D_dis = sys_dis.D





t_max = 0.03

x_0 = np.array([3, 0])

Q_dis = 0.0 * np.eye(2) # Measurement Noise
R_dis = 0.0 * np.eye(2) # Process Noise

t = np.linspace(0, t_max, int(t_max/dt))
F = np.expand_dims(2*np.sin(3*t), axis=0)
x_arr = np.zeros((A_dis.shape[1], t.shape[0]+1))
y_arr = np.zeros((C_dis.shape[1], t.shape[0]+1))
u_arr = np.zeros((B_dis.shape[1], t.shape[0]))

x_arr[:, 0] = x_0 + np.random.multivariate_normal(mean=np.zeros(R_dis.shape[0]), cov=R_dis)
y_arr[:, 0] = np.matmul(C_dis, x_arr[:, 0]) + np.random.multivariate_normal(mean=np.zeros(Q_dis.shape[0]), cov=Q_dis)

for i in range(t.shape[0]):
    x_arr[:, i+1] = np.matmul(A_dis, x_arr[:, i]+ np.random.multivariate_normal(mean=np.zeros(R_dis.shape[0]), cov=R_dis)) + np.matmul(B_dis, F[:, i])
    y_arr[:, i+1] = np.matmul(C_dis, x_arr[:, i+1]) + np.random.multivariate_normal(mean=np.zeros(Q_dis.shape[0]), cov=Q_dis)
    u_arr[:, i] = F[:, i]

plt.plot(x_arr[0, :], label='$s$')
plt.plot(x_arr[1, :], label='$\dot{s}$')
plt.plot(u_arr[0, :], label='$F$')
plt.legend()
plt.show()

plt.plot(x_arr[0, :], label='$s$')
plt.plot(y_arr[0, :], label='$y$')
plt.legend()
plt.show()





H = np.concatenate((y_arr[:, :t.shape[0]], u_arr), axis=0)
y = y_arr[:, 1:]

AB = np.matmul(y, np.matmul(np.transpose(H, (1, 0)), np.linalg.inv(np.matmul(H, np.transpose(H, (1, 0))))))

A_dis_id = AB[:, :2]
B_dis_id = AB[:, 2:3]

print('True System Matrix:')
print(A_dis)
print('Identified System Matrix:')
print(A_dis_id)
print('Identification Error:')
print(np.abs(A_dis_id - A_dis))
print('True Input Matrix:')
print(A_dis)
print('Identified Input Matrix:')
print(B_dis_id)
print('Identification Error:')
print(np.abs(B_dis_id - B_dis))





t_max = 2

x_0 = np.array([3, 0])

Q_dis = 0.01 * np.eye(2) # Measurement Noise
R_dis = 0.0 * np.eye(2) # Process Noise

t = np.linspace(0, t_max, int(t_max/dt))
F = np.expand_dims(2*np.sin(3*t), axis=0)
x_arr = np.zeros((A_dis.shape[1], t.shape[0]+1))
y_arr = np.zeros((C_dis.shape[1], t.shape[0]+1))
u_arr = np.zeros((B_dis.shape[1], t.shape[0]))

x_arr[:, 0] = x_0 + np.random.multivariate_normal(mean=np.zeros(R_dis.shape[0]), cov=R_dis)
y_arr[:, 0] = np.matmul(C_dis, x_arr[:, 0]) + np.random.multivariate_normal(mean=np.zeros(Q_dis.shape[0]), cov=Q_dis)

for i in range(t.shape[0]):
    x_arr[:, i+1] = np.matmul(A_dis, x_arr[:, i]+ np.random.multivariate_normal(mean=np.zeros(R_dis.shape[0]), cov=R_dis)) + np.matmul(B_dis, F[:, i])
    y_arr[:, i+1] = np.matmul(C_dis, x_arr[:, i+1]) + np.random.multivariate_normal(mean=np.zeros(Q_dis.shape[0]), cov=Q_dis)
    u_arr[:, i] = F[:, i]

plt.plot(x_arr[0, :], label='$s$')
plt.plot(x_arr[1, :], label='$\dot{s}$')
plt.plot(u_arr[0, :], label='$F$')
plt.legend()
plt.show()

plt.plot(x_arr[0, :], label='$s$')
plt.plot(y_arr[0, :], label='$y$')
plt.legend()
plt.show()

H = np.concatenate((y_arr[:, :t.shape[0]], u_arr), axis=0)
y = y_arr[:, 1:]

AB = np.matmul(y, np.matmul(np.transpose(H, (1, 0)), np.linalg.inv(np.matmul(H, np.transpose(H, (1, 0))))))

A_dis_id = AB[:, :2]
B_dis_id = AB[:, 2:3]

print('True System Matrix:')
print(A_dis)
print('Identified System Matrix:')
print(A_dis_id)
print('Identification Error:')
print(np.abs(A_dis_id - A_dis))
print('True Input Matrix:')
print(A_dis)
print('Identified Input Matrix:')
print(B_dis_id)
print('Identification Error:')
print(np.abs(B_dis_id - B_dis))





t_max = 10

x_0 = np.array([3, 0])

Q_dis = 0.01 * np.eye(2) # Measurement Noise
R_dis = 0.02 * np.eye(2) # Process Noise

t = np.linspace(0, t_max, int(t_max/dt))
F = np.expand_dims(2*np.sin(3*t), axis=0)
x_arr = np.zeros((A_dis.shape[1], t.shape[0]+1))
y_arr = np.zeros((C_dis.shape[1], t.shape[0]+1))
u_arr = np.zeros((B_dis.shape[1], t.shape[0]))

x_arr[:, 0] = x_0 + np.random.multivariate_normal(mean=np.zeros(R_dis.shape[0]), cov=R_dis)
y_arr[:, 0] = np.matmul(C_dis, x_arr[:, 0]) + np.random.multivariate_normal(mean=np.zeros(Q_dis.shape[0]), cov=Q_dis)

for i in range(t.shape[0]):
    x_arr[:, i+1] = np.matmul(A_dis, x_arr[:, i]+ np.random.multivariate_normal(mean=np.zeros(R_dis.shape[0]), cov=R_dis)) + np.matmul(B_dis, F[:, i])
    y_arr[:, i+1] = np.matmul(C_dis, x_arr[:, i+1]) + np.random.multivariate_normal(mean=np.zeros(Q_dis.shape[0]), cov=Q_dis)
    u_arr[:, i] = F[:, i]

plt.plot(x_arr[0, :], label='$s$')
plt.plot(x_arr[1, :], label='$\dot{s}$')
plt.plot(u_arr[0, :], label='$F$')
plt.legend()
plt.show()

plt.plot(x_arr[0, :], label='$s$')
plt.plot(y_arr[0, :], label='$y$')
plt.legend()
plt.show()

H = np.concatenate((y_arr[:, :t.shape[0]], u_arr), axis=0)
y = y_arr[:, 1:]

AB = np.matmul(y, np.matmul(np.transpose(H, (1, 0)), np.linalg.inv(np.matmul(H, np.transpose(H, (1, 0))))))

A_dis_id = AB[:, :2]
B_dis_id = AB[:, 2:3]

print('True System Matrix:')
print(A_dis)
print('Identified System Matrix:')
print(A_dis_id)
print('Identification Error:')
print(np.abs(A_dis_id - A_dis))
print('True Input Matrix:')
print(A_dis)
print('Identified Input Matrix:')
print(B_dis_id)
print('Identification Error:')
print(np.abs(B_dis_id - B_dis))



