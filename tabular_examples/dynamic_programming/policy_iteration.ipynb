{
 "cells": [
  {
   "cell_type": "markdown",
   "id": "b41b88be-31b3-4ea3-9563-47058d0d2880",
   "metadata": {},
   "source": [
    "![DSME-logo](./utils/DSME_logo.png)\n",
    "\n",
    "#  Reinforcement Learning and Learning-based Control\n",
    "\n",
    "<p style=\"font-size:12pt\";> \n",
    "<b> Prof. Dr. Sebastian Trimpe, Dr. Friedrich Solowjow </b><br>\n",
    "<b> Institute for Data Science in Mechanical Engineering (DSME) </b><br>\n",
    "<a href = \"mailto:rllbc@dsme.rwth-aachen.de\">rllbc@dsme.rwth-aachen.de</a><br>\n",
    "</p>\n",
    "\n",
    "---\n",
    "Notebook Authors: Lukas Kesper\n",
    "\n",
    "In this example, we use the policy iteration algorithm to find an optimal policy for the recycling bot from \"Reinforcement Learning: An Introduction.\" An overview of the MDP that belongs to the recycling bot is shown below. The robot has a battery, whose state can be high or low. When having a high battery level, the agent can search or wait for cans. When being in a low battery state, the agent can also recharge, to prevent running out of battery.\n",
    "\n",
    "<img src=\"./utils/recycling_bot.jpg\" alt=\"Policy Iteration algorithm\" width=\"500\">\n",
    "\n",
    "Reference: [Reinforcement Learning: An Introduction, by Richard S. Sutton and Andrew G. Barto](http://incompleteideas.net/book/the-book-2nd.html)"
   ]
  },
  {
   "cell_type": "markdown",
   "id": "77c429c4-dfcb-46af-9695-c5ccd62c1c7d",
   "metadata": {},
   "source": [
    "## Library Imports"
   ]
  },
  {
   "cell_type": "code",
   "execution_count": 1,
   "id": "aa671843-9406-4e96-8cc7-d51c7084f7bd",
   "metadata": {},
   "outputs": [],
   "source": [
    "%matplotlib inline\n",
    "import gymnasium as gym\n",
    "import numpy as np\n",
    "import custom_envs\n",
    "import random\n",
    "import matplotlib\n",
    "import matplotlib.pyplot as plt\n",
    "from matplotlib.animation import FuncAnimation\n",
    "from IPython.display import Video\n",
    "from IPython.display import display\n",
    "from screeninfo import get_monitors\n",
    "from typing import Optional"
   ]
  },
  {
   "cell_type": "markdown",
   "id": "cbb6beaf-b124-4cc0-aa3d-90e3035e8c9a",
   "metadata": {},
   "source": [
    "## Initializations\n",
    "### Initializing the MDP\n",
    "\n",
    "Dynamic Programming (DP) algorithms are a class of algorithms capable of finding the optimal policy for an environment, given a model of the environment. Below, we implement such a model in the class `MarkovDecisionProcess`. The class identifies the number of states in `self.num_states`, as well as the state dependent actions in `self.actions_per_state`. Furthermore, it contains the state transition probabilities, as well as the successor states and rewards in `self.P`."
   ]
  },
  {
   "cell_type": "code",
   "execution_count": 2,
   "id": "bc384a04-e075-4e03-827f-ce0c0b5aaef5",
   "metadata": {},
   "outputs": [],
   "source": [
    "class MarkovDecisionProcess():\n",
    "    def __init__(self, env):\n",
    "        self.num_states = env.observation_space.n\n",
    "        self.P = env.unwrapped.P\n",
    "        self.actions_per_state = [] # list containing the actions available per state\n",
    "        for state in self.P:\n",
    "            actions = list(self.P[state].keys())\n",
    "            self.actions_per_state.append(actions)"
   ]
  },
  {
   "cell_type": "markdown",
   "id": "eb8bbf43-745b-4deb-bc32-77deb21f0f12",
   "metadata": {},
   "source": [
    "### Initializing the Agent\n",
    "The DP Agent uses the MDP to obtain an optimal policy via the optimization algorithm. This is done using the method `train`. In this example, we consider policy iteration. The algorithm obtains an optimal policy by switching between the evaluation of a policy to obtain a value function, and using the value function to improve the policy. This is done until the policy converges. Below, we provide an overview of the algorithm.\n",
    "\n",
    "<img src=\"./utils/policy_iteration.png\" alt=\"Policy Iteration algorithm\" width=\"500\">   \n",
    "\n",
    "The training loop can be found in the method `train`. Since we are trying to find a policy for the recycling bot, we have implemented the method `train` with a state-dependent action space. This is rather unusual, as most environments are based on uniform action spaces.\n",
    "Furthermore, the algorithm also offers the option of using in-place updates for policy evaluation. For further details, we refer to the lecture."
   ]
  },
  {
   "cell_type": "code",
   "execution_count": 3,
   "id": "5397e837-4d05-4861-a46c-499516e3059b",
   "metadata": {},
   "outputs": [],
   "source": [
    "class Agent():\n",
    "    def __init__(self, mdp, gamma=0.9, update_threshold=1e-6):\n",
    "        self.mdp = mdp\n",
    "        self.update_threshold = update_threshold # stopping criterium for the updates of policy and value function\n",
    "        self.state_value_fn = np.zeros(self.mdp.num_states) # table leading from state to value expectations\n",
    "        # Create random policy\n",
    "        self.policy = []\n",
    "        for state in range(self.mdp.num_states):\n",
    "            random_entry = random.randint(0, len(self.mdp.actions_per_state[state])-1)\n",
    "            self.policy.append([0 for _ in range(len(self.mdp.actions_per_state[state]))])\n",
    "            self.policy[state][random_entry] = 1\n",
    "        self.gamma = gamma # discount factor\n",
    "\n",
    "    def get_greedy_action(self, state):\n",
    "        # Choose action based on the probabilities defined within the policy\n",
    "        action = np.random.choice(np.flatnonzero(np.isclose(self.policy[state], max(self.policy[state]), rtol=0.01)))\n",
    "        return action\n",
    "\n",
    "    def train(self, in_place=False):\n",
    "        policy_stable = False\n",
    "        iteration = 0\n",
    "        total_sweeps = 0\n",
    "        while not policy_stable:\n",
    "            iteration += 1\n",
    "            # Policy Evaluation\n",
    "            total_sweeps += self.policy_evaluation(in_place)\n",
    "            # Policy Improvement\n",
    "            policy_stable = self.policy_improvement()\n",
    "        print('Sweeps required for convergence ', str(total_sweeps))\n",
    "        print('Iterations required for convergence ', str(iteration))\n",
    "\n",
    "    def policy_evaluation(self, in_place=True): # in_place version\n",
    "        sweeps = 0\n",
    "        stable = False\n",
    "        while not stable:\n",
    "            delta = 0\n",
    "            sweeps += 1\n",
    "            if in_place:\n",
    "                for state in range(self.mdp.num_states):\n",
    "                    old_state_value = self.state_value_fn[state]\n",
    "                    new_state_value = 0\n",
    "                    # sum over potential actions\n",
    "                    for action in range(len(self.mdp.actions_per_state[state])):\n",
    "                        new_state_value += self.get_state_value(state, action)\n",
    "                    self.state_value_fn[state] = new_state_value\n",
    "                    delta = max(delta, np.abs(old_state_value - self.state_value_fn[state]))\n",
    "                if delta < self.update_threshold:\n",
    "                    stable = True\n",
    "            else:\n",
    "                new_state_value_fn = np.copy(self.state_value_fn)\n",
    "                for state in range(self.mdp.num_states):\n",
    "                    old_state_value = self.state_value_fn[state]\n",
    "                    new_state_value = 0\n",
    "                    # sum over potential actions\n",
    "                    for action in range(len(self.mdp.actions_per_state[state])):\n",
    "                        new_state_value += self.get_state_value(state, action)\n",
    "                    new_state_value_fn[state] = new_state_value\n",
    "                    delta = max(delta, np.abs(old_state_value - self.state_value_fn[state]))\n",
    "                if delta < self.update_threshold:\n",
    "                    stable = True\n",
    "                self.state_value_fn = new_state_value_fn\n",
    "        return sweeps\n",
    "\n",
    "    def get_state_value(self, state, action):\n",
    "        # Value expectation considering the policy\n",
    "        policy_value = 0\n",
    "        for transition in self.mdp.P[state][action]:\n",
    "            transition_prob = transition[0]  # prob of next state\n",
    "            successor_state = transition[1]  # value/name of next state\n",
    "            reward = transition[2]  # reward of next state\n",
    "            policy_value += self.policy[state][action] * transition_prob * (reward + self.gamma * self.state_value_fn[successor_state])\n",
    "        return policy_value\n",
    "    \n",
    "    def get_action_value(self, state, action):\n",
    "        # Value expectation without considering the policy\n",
    "        action_value = 0\n",
    "        for transition in self.mdp.P[state][action]:\n",
    "            transition_prob = transition[0]  # prob of next state\n",
    "            successor_state = transition[1]  # value/name of next state\n",
    "            reward = transition[2]  # reward of next state\n",
    "            action_value += transition_prob * (reward + self.gamma * self.state_value_fn[successor_state])\n",
    "        return action_value\n",
    "\n",
    "    def policy_improvement(self):\n",
    "        policy_stable = True\n",
    "        current_policy = self.policy # Cache current policy\n",
    "        best_policy = []\n",
    "        for state in range(self.mdp.num_states):\n",
    "            best_policy.append([0 for _ in range(len(self.mdp.actions_per_state[state]))])\n",
    "            # Calculate best possible policy based on current value function\n",
    "            action_values = []\n",
    "            for action in range(len(self.mdp.actions_per_state[state])):\n",
    "                action_values.append(self.get_action_value(state, action))\n",
    "            best_actions = np.where(action_values == max(action_values))[0]\n",
    "            for index in best_actions:\n",
    "                best_policy[state][index] = 1\n",
    "            best_policy[state] = [best_policy[state][action] / len(best_actions)\n",
    "                                  for action in range(len(self.mdp.actions_per_state[state]))]\n",
    "            # If the current policy is not the best policy, update it\n",
    "            if not np.array_equal(current_policy[state], best_policy[state]):\n",
    "                policy_stable = False\n",
    "                self.policy[state] = best_policy[state]\n",
    "        self.visualize()\n",
    "        return policy_stable"
   ]
  },
  {
   "cell_type": "markdown",
   "id": "1c8b45e5-0d10-4801-a777-200073f6ed37",
   "metadata": {},
   "source": [
    "### Preparing the Evaluation\n",
    "\n",
    "For evaluating the trained agent, we implement methods that can show us the value function (`visualize`) and the policy (`render_policy`). We also add the method `evaluate`, which allows us to show samples from an agent's policy in a video."
   ]
  },
  {
   "cell_type": "code",
   "execution_count": 4,
   "id": "34a3cbd9-f6ca-43de-bca3-276f4a6047ea",
   "metadata": {},
   "outputs": [],
   "source": [
    "def visualize(self):\n",
    "    x_axis = 1\n",
    "    y_axis = 2\n",
    "    X1 = np.reshape(self.state_value_fn, (x_axis, y_axis))\n",
    "    fig, ax = plt.subplots(1, 1)\n",
    "    cmap = matplotlib.colormaps.get_cmap(\"Blues_r\")\n",
    "    cmap.set_under(\"black\")\n",
    "    img = ax.imshow(X1, interpolation=\"nearest\", vmin=-2.5, vmax=max(self.state_value_fn), cmap=cmap)\n",
    "    ax.axis('off')\n",
    "    for i in range(x_axis):\n",
    "        for j in range(y_axis):\n",
    "            ax.text(j, i, str(X1[i][j])[:4], fontsize=12, color='black', ha='center', va='center')\n",
    "    plt.show()\n",
    "    self.render_policy()\n",
    "\n",
    "def render_policy(self):\n",
    "    print('Policy of the agent:')\n",
    "    out = ' | '\n",
    "    render = out\n",
    "    for i in range(self.mdp.num_states):\n",
    "        token = \"\"\n",
    "        if self.policy[i][0] > 0:   # search\n",
    "            token += \"Search\"\n",
    "        if self.policy[i][1] > 0:   # wait\n",
    "            if token != \"\":\n",
    "                token += \" or Wait\"\n",
    "            else:\n",
    "                token += \"Wait\"\n",
    "        if len(self.policy[i]) > 2:\n",
    "            if self.policy[i][2] > 0:   # recharge\n",
    "                if token != \"\":\n",
    "                    token += \" and Recharge\"\n",
    "                else:\n",
    "                    token += \"Recharge\"\n",
    "        render += token + out\n",
    "    print(render)\n",
    "\n",
    "def evaluate(self, env, file, num_runs=5):\n",
    "    frames = []  # collect rgb_image of agent env interaction\n",
    "    for _ in range(num_runs):\n",
    "        done = False\n",
    "        obs, info = env.reset()\n",
    "        out = env.render()\n",
    "        frames.append(out)\n",
    "        while not done:\n",
    "            action = self.get_greedy_action(obs)\n",
    "            obs, reward, done, truncated, info = env.step(action)\n",
    "            out = env.render()\n",
    "            for i in range(len(out)):\n",
    "                frames.append([out[i]])\n",
    "    # create animation out of saved frames\n",
    "    if all(frame is not None for frame in frames):\n",
    "        fig = plt.figure(figsize=(10, 6))\n",
    "        plt.axis('off')\n",
    "        img = plt.imshow(frames[0][0])\n",
    "        def animate(index):\n",
    "            img.set_data(frames[index][0])\n",
    "            return [img]\n",
    "        anim = FuncAnimation(fig, animate, frames=len(frames), interval=20)\n",
    "        plt.close()\n",
    "        anim.save(file, writer=\"ffmpeg\", fps=3) \n",
    "\n",
    "setattr(Agent, 'visualize', visualize)\n",
    "setattr(Agent, 'render_policy', render_policy)\n",
    "setattr(Agent, 'evaluate', evaluate)"
   ]
  },
  {
   "cell_type": "markdown",
   "id": "6c600eb9-c402-4d72-8ee5-7bb3f1599a95",
   "metadata": {},
   "source": [
    "## Training and Evaluation\n",
    "Now we train the agent with the algorithm we implemented earlier.\n",
    "\n",
    "### Setting up Agent and Environment\n",
    "We start by setting up the environment, which is part of our custom environments. We create the environment using `Gymnasium`, and extract its properties via our `MarkovDecisionProcess` class. Then, we can set up an Agent that we can train. We see that our initial Value function only contains zeros (state \"low\" is displayed in the left square; state \"high\" is displayed in the right square)."
   ]
  },
  {
   "cell_type": "code",
   "execution_count": 5,
   "id": "3590daf5-696c-4148-997e-5e4465bc073a",
   "metadata": {},
   "outputs": [
    {
     "data": {
      "image/png": "[encoded data removed]",
      "text/plain": [
       "<Figure size 640x480 with 1 Axes>"
      ]
     },
     "metadata": {},
     "output_type": "display_data"
    },
    {
     "name": "stdout",
     "output_type": "stream",
     "text": [
      "Policy of the agent:\n",
      " | Wait | Search | \n"
     ]
    }
   ],
   "source": [
    "env = gym.make('RecyclingRobot-v1', render_mode='text')\n",
    "env.reset()\n",
    "mdp = MarkovDecisionProcess(env) # in our case contains dynamics function\n",
    "agent = Agent(mdp, gamma=0.9, update_threshold=0.05)\n",
    "agent.visualize()"
   ]
  },
  {
   "cell_type": "markdown",
   "id": "94702010-4216-4668-ae08-a416f889969f",
   "metadata": {},
   "source": [
    "### Training"
   ]
  },
  {
   "cell_type": "code",
   "execution_count": 6,
   "id": "46c6c8b4-c0e6-4f33-885f-838404249fbf",
   "metadata": {},
   "outputs": [
    {
     "data": {
      "image/png": "[encoded data removed]",
      "text/plain": [
       "<Figure size 640x480 with 1 Axes>"
      ]
     },
     "metadata": {},
     "output_type": "display_data"
    },
    {
     "name": "stdout",
     "output_type": "stream",
     "text": [
      "Policy of the agent:\n",
      " | Recharge | Search | \n"
     ]
    },
    {
     "data": {
      "image/png": "[encoded data removed]",
      "text/plain": [
       "<Figure size 640x480 with 1 Axes>"
      ]
     },
     "metadata": {},
     "output_type": "display_data"
    },
    {
     "name": "stdout",
     "output_type": "stream",
     "text": [
      "Policy of the agent:\n",
      " | Recharge | Search | \n",
      "Sweeps required for convergence  2\n",
      "Iterations required for convergence  2\n"
     ]
    }
   ],
   "source": [
    "agent.train()"
   ]
  },
  {
   "cell_type": "markdown",
   "id": "83cfdbfe-7e65-4198-bcc5-c1013496fc65",
   "metadata": {},
   "source": [
    "### Evaluation\n",
    "The solution for the environment is a fairly simple behavior policy. If the agent is in the state \"high\", it searches for cans; if the state is \"low\", it recharges itself. This way, the agent receives the highest possible return. Below we show the resulting behavior highlighted in the MDP."
   ]
  },
  {
   "cell_type": "code",
   "execution_count": 7,
   "id": "8a6d0b7c-8da1-4f48-ae56-2deb38be5a3f",
   "metadata": {},
   "outputs": [
    {
     "data": {
      "text/html": [
       "<video src=\"policy_iteration.mp4\" loop autoplay  >\n",
       "      Your browser does not support the <code>video</code> element.\n",
       "    </video>"
      ],
      "text/plain": [
       "<IPython.core.display.Video object>"
      ]
     },
     "execution_count": 7,
     "metadata": {},
     "output_type": "execute_result"
    }
   ],
   "source": [
    "env = gym.make('RecyclingRobot-v1', render_mode='rgb_array', render_type='node')\n",
    "num_runs=5\n",
    "video_file_1 = \"policy_iteration.mp4\"\n",
    "agent.evaluate(env, video_file_1, num_runs)\n",
    "Video(video_file_1, html_attributes=\"loop autoplay\")"
   ]
  }
 ],
 "metadata": {
  "kernelspec": {
   "display_name": "Python 3 (ipykernel)",
   "language": "python",
   "name": "python3"
  },
  "language_info": {
   "codemirror_mode": {
    "name": "ipython",
    "version": 3
   },
   "file_extension": ".py",
   "mimetype": "text/x-python",
   "name": "python",
   "nbconvert_exporter": "python",
   "pygments_lexer": "ipython3",
   "version": "3.10.8"
  }
 },
 "nbformat": 4,
 "nbformat_minor": 5
}
