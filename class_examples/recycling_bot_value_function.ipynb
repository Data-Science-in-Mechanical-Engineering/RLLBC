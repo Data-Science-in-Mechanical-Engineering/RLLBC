{
 "cells": [
  {
   "cell_type": "markdown",
   "metadata": {
    "pycharm": {
     "name": "#%% md\n"
    }
   },
   "source": [
    "![DSME-logo](./img/DSME_logo.png)\n",
    "\n",
    "#  Reinforcement Learning and Learning-based Control\n",
    "\n",
    "<p style=\"font-size:12pt\";> \n",
    "<b> Prof. Dr. Sebastian Trimpe, Dr. Friedrich Solowjow </b><br>\n",
    "<b> Institute for Data Science in Mechanical Engineering (DSME) </b><br>\n",
    "<a href = \"mailto:rllbc@dsme.rwth-aachen.de\">rllbc@dsme.rwth-aachen.de</a><br>\n",
    "</p>\n",
    "\n",
    "---"
   ]
  },
  {
   "cell_type": "markdown",
   "metadata": {},
   "source": [
    "# Demo for Exercise 2: Value Function \n",
    "\n",
    "This Jupyter notebook accompanies Exercise 2 (Task 3) of the Reinforcement Learning and Learning-based Control.\n",
    "By loading it in Jupyter or Jupyter Lab you can rerun it on your own and also modify it."
   ]
  },
  {
   "cell_type": "markdown",
   "metadata": {},
   "source": [
    "## Recycling Robot\n",
    "[Sutton & Barto, Example 3.3]\n",
    "\n",
    "<img src=\"./img/recycling_bot.png\" alt=\"Recycling_Bot\" width=\"500\" />"
   ]
  },
  {
   "cell_type": "markdown",
   "metadata": {},
   "source": [
    "Set environment parameters."
   ]
  },
  {
   "cell_type": "code",
   "execution_count": 1,
   "metadata": {},
   "outputs": [],
   "source": [
    "alpha = 0.7\n",
    "beta = 0.1\n",
    "gamma = 0.9\n",
    "\n",
    "r_search = 3\n",
    "r_wait = 2\n",
    "r_empty = -3"
   ]
  },
  {
   "cell_type": "markdown",
   "metadata": {},
   "source": [
    "Define policy."
   ]
  },
  {
   "cell_type": "code",
   "execution_count": 2,
   "metadata": {},
   "outputs": [],
   "source": [
    "pi_search_high = 0.7\n",
    "pi_wait_high = 0.3\n",
    "\n",
    "pi_search_low = 0.2\n",
    "pi_wait_low = 0.5\n",
    "pi_recharge_low = 0.3\n",
    "\n",
    "assert (pi_search_high + pi_wait_high == 1)\n",
    "assert (pi_search_low + pi_wait_low + pi_recharge_low == 1)"
   ]
  },
  {
   "cell_type": "markdown",
   "metadata": {},
   "source": [
    "Solve the resulting linear system of equations as presented in Task 3."
   ]
  },
  {
   "cell_type": "code",
   "execution_count": 3,
   "metadata": {},
   "outputs": [
    {
     "name": "stdout",
     "output_type": "stream",
     "text": [
      "v_low 18.261858529819694\n",
      "v_high 21.28543689320388\n"
     ]
    }
   ],
   "source": [
    "c_1 = gamma * pi_wait_high + alpha * gamma * pi_search_high\n",
    "c_2 = (1-alpha) * gamma * pi_search_high\n",
    "c_3 = pi_wait_high * r_wait + pi_search_high * r_search\n",
    "\n",
    "c_4 = gamma * pi_wait_low + beta * gamma * pi_search_low\n",
    "c_5 = (1-beta) * gamma * pi_search_low + gamma * pi_recharge_low\n",
    "c_6 = pi_wait_low * r_wait + beta * pi_search_low * r_search + (1-beta) * pi_search_low * r_empty\n",
    "\n",
    "v_low = ((c_3 * c_5) / (1 - c_1) + c_6) / (1 - c_4 - (c_2 * c_5) / (1 - c_1))\n",
    "v_high = (c_2 * v_low + c_3) / (1 - c_1)\n",
    "\n",
    "print('v_low', v_low)\n",
    "print('v_high', v_high)"
   ]
  }
 ],
 "metadata": {
  "kernelspec": {
   "display_name": "Python 3 (ipykernel)",
   "language": "python",
   "name": "python3"
  },
  "language_info": {
   "codemirror_mode": {
    "name": "ipython",
    "version": 3
   },
   "file_extension": ".py",
   "mimetype": "text/x-python",
   "name": "python",
   "nbconvert_exporter": "python",
   "pygments_lexer": "ipython3",
   "version": "3.10.8"
  }
 },
 "nbformat": 4,
 "nbformat_minor": 4
}
