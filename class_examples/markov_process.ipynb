{
 "cells": [
  {
   "cell_type": "markdown",
   "metadata": {
    "pycharm": {
     "name": "#%% md\n"
    }
   },
   "source": [
    "![DSME-logo](./img/DSME_logo.png)\n",
    "\n",
    "#  Reinforcement Learning and Learning-based Control\n",
    "\n",
    "<p style=\"font-size:12pt\";> \n",
    "<b> Prof. Dr. Sebastian Trimpe, Dr. Friedrich Solowjow </b><br>\n",
    "<b> Institute for Data Science in Mechanical Engineering (DSME) </b><br>\n",
    "<a href = \"mailto:rllbc@dsme.rwth-aachen.de\">rllbc@dsme.rwth-aachen.de</a><br>\n",
    "</p>\n",
    "\n",
    "---"
   ]
  },
  {
   "cell_type": "markdown",
   "metadata": {},
   "source": [
    "# Demo for Exercise 1: Markov Decision Processes \n",
    "\n",
    "This Jupyter notebook accompanies Exercise 1 (Task 1) of the Reinforcement Learning and Learning-based Control in SS 23.\n",
    "By loading it in Jupyter or Jupyter Lab you can rerun it on your own and also modify it."
   ]
  },
  {
   "cell_type": "code",
   "execution_count": 11,
   "metadata": {
    "collapsed": false,
    "jupyter": {
     "outputs_hidden": false
    },
    "pycharm": {
     "name": "#%%\n"
    }
   },
   "outputs": [],
   "source": [
    "import numpy as np"
   ]
  },
  {
   "cell_type": "markdown",
   "metadata": {},
   "source": [
    "We first define the initial state $S_{t=0}$ and the transposed transition matrix $P^T$:print('P_transpose:', P_transpose)"
   ]
  },
  {
   "cell_type": "code",
   "execution_count": 12,
   "metadata": {
    "collapsed": false,
    "jupyter": {
     "outputs_hidden": false
    },
    "pycharm": {
     "name": "#%%\n"
    }
   },
   "outputs": [
    {
     "name": "stdout",
     "output_type": "stream",
     "text": [
      "P_transpose:\n",
      "[[0.2 0.5 0.7]\n",
      " [0.6 0.  0. ]\n",
      " [0.2 0.5 0.3]]\n"
     ]
    }
   ],
   "source": [
    "S_0 = np.array([1, 0 , 0])\n",
    "P_transpose = np.array([[0.2, 0.5, 0.7], [0.6, 0, 0], [0.2, 0.5, 0.3]])\n",
    "print('P_transpose:')\n",
    "print(P_transpose)"
   ]
  },
  {
   "cell_type": "markdown",
   "metadata": {
    "tags": []
   },
   "source": [
    "Now we compute the state at time step $t=1$ and $t=2$."
   ]
  },
  {
   "cell_type": "code",
   "execution_count": 13,
   "metadata": {
    "pycharm": {
     "name": "#%%\n"
    },
    "tags": []
   },
   "outputs": [
    {
     "name": "stdout",
     "output_type": "stream",
     "text": [
      "S_1:  [0.2 0.6 0.2]\n",
      "S_2:  [0.48 0.12 0.4 ]\n"
     ]
    }
   ],
   "source": [
    "# compute S_1\n",
    "S_1 = np.dot(P_transpose, S_0)\n",
    "print(\"S_1: \", S_1)\n",
    "\n",
    "# compute s_2\n",
    "S_2 = np.dot(P_transpose, S_1)\n",
    "print(\"S_2: \", S_2)"
   ]
  },
  {
   "cell_type": "markdown",
   "metadata": {},
   "source": [
    "We examine the state of the system after 500 time steps starting in two different starting states $S_0$ and $\\hat{S}_0$."
   ]
  },
  {
   "cell_type": "code",
   "execution_count": 14,
   "metadata": {
    "collapsed": false,
    "jupyter": {
     "outputs_hidden": false
    },
    "pycharm": {
     "name": "#%%\n"
    }
   },
   "outputs": [
    {
     "name": "stdout",
     "output_type": "stream",
     "text": [
      "state after 500 timesteps, starting in S_0:  [0.43209877 0.25925926 0.30864198]\n",
      "state after 500 timesteps, starting in S_0_hat:  [0.43209877 0.25925926 0.30864198]\n"
     ]
    }
   ],
   "source": [
    "# State after 500 time steps\n",
    "S_t = S_0\n",
    "for t in range(500):\n",
    "    S_t = np.dot(P_transpose, S_t)\n",
    "print('state after 500 timesteps, starting in S_0: ', S_t)\n",
    "\n",
    "# Now start in a different start state S_0 = [0,0,1]. In which state are we after 500 timesteps?\n",
    "S_0_hat = np.array([0, 0, 1])\n",
    "S_t = S_0_hat\n",
    "for t in range(500):\n",
    "    S_t = np.dot(P_transpose, S_t)\n",
    "print('state after 500 timesteps, starting in S_0_hat: ', S_t)"
   ]
  },
  {
   "cell_type": "markdown",
   "metadata": {},
   "source": [
    "By iterating 500 timesteps we saw that the system converges to a stationary state distribution $S_{\\infty}$. We can also find this state distribution as the eigenvector $v$ which solves the system $\\lambda v = P^T v$ with the eigenvalue $\\lambda = 1$."
   ]
  },
  {
   "cell_type": "code",
   "execution_count": 15,
   "metadata": {
    "collapsed": false,
    "jupyter": {
     "outputs_hidden": false
    },
    "pycharm": {
     "name": "#%%\n"
    }
   },
   "outputs": [
    {
     "name": "stdout",
     "output_type": "stream",
     "text": [
      "stationary state distribution:  [0.43209877 0.25925926 0.30864198]\n"
     ]
    }
   ],
   "source": [
    "eigval, eigvec = np.linalg.eig(P_transpose)\n",
    "eigvec_norm = np.abs(eigvec[:,0]) # get first eigenvector\n",
    "eigvec_norm = eigvec_norm / np.sum(eigvec_norm) # normalize such that sum_i P_ij =1\n",
    "print('stationary state distribution: ', eigvec_norm)"
   ]
  },
  {
   "cell_type": "code",
   "execution_count": null,
   "metadata": {
    "collapsed": false,
    "jupyter": {
     "outputs_hidden": false
    },
    "pycharm": {
     "name": "#%%\n"
    }
   },
   "outputs": [],
   "source": []
  }
 ],
 "metadata": {
  "kernelspec": {
   "display_name": "Python 3 (ipykernel)",
   "language": "python",
   "name": "python3"
  },
  "language_info": {
   "codemirror_mode": {
    "name": "ipython",
    "version": 3
   },
   "file_extension": ".py",
   "mimetype": "text/x-python",
   "name": "python",
   "nbconvert_exporter": "python",
   "pygments_lexer": "ipython3",
   "version": "3.10.8"
  }
 },
 "nbformat": 4,
 "nbformat_minor": 4
}
