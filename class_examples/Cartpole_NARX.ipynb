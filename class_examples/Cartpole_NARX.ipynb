{
 "cells": [
  {
   "cell_type": "markdown",
   "id": "fad5820d-1a7f-45ad-b9f7-a6a7bdcf6db7",
   "metadata": {
    "tags": []
   },
   "source": [
    "![DSME-logo](./img/DSME_logo.png)\n",
    "\n",
    "#  Reinforcement Learning and Learning-based Control\n",
    "\n",
    "<p style=\"font-size:12pt\";> \n",
    "<b> Prof. Dr. Sebastian Trimpe, Dr. Friedrich Solowjow </b><br>\n",
    "<b> Institute for Data Science in Mechanical Engineering (DSME) </b><br>\n",
    "<a href = \"mailto:rllbc@dsme.rwth-aachen.de\">rllbc@dsme.rwth-aachen.de</a><br>\n",
    "</p>\n",
    "\n",
    "---\n",
    "\n",
    "# NARX Model of the Cartpole Environment\n",
    "\n",
    "In the following we will train a nonlinear autoregressive exogenous dynamics model (NARX) for the cartpole environment using a feedforward neural network.<br>\n",
    "![cartpole](./img/cartpole.png)\n",
    "\n",
    "## Library Imports"
   ]
  },
  {
   "cell_type": "code",
   "execution_count": null,
   "id": "1d68ef28-8d56-4633-8c08-a1f3adf5ee71",
   "metadata": {},
   "outputs": [],
   "source": [
    "import warnings\n",
    "warnings.filterwarnings(\"ignore\", category=DeprecationWarning)\n",
    "warnings.filterwarnings(\"ignore\", category=UserWarning)\n",
    "import gymnasium as gym\n",
    "import numpy as np\n",
    "import control as ct\n",
    "import math\n",
    "import custom_envs\n",
    "import matplotlib.pyplot as plt\n",
    "from typing import Optional, Union\n",
    "from IPython.display import Video\n",
    "from IPython.display import display\n",
    "from matplotlib.animation import FuncAnimation\n",
    "from gymnasium import logger, spaces\n",
    "from gymnasium.envs.classic_control import utils\n",
    "\n",
    "import torch\n",
    "from torch.utils.data import TensorDataset, DataLoader\n",
    "import torch.nn as nn\n",
    "import torch.nn.functional as F\n",
    "import torch.optim as optim\n"
   ]
  },
  {
   "cell_type": "markdown",
   "id": "c84142e3-5d7a-4de8-b8aa-5c4d84d8cc2b",
   "metadata": {},
   "source": [
    "## Initialize Environment\n",
    "\n",
    "First, we initialize the cartpole environment. For controlling the system, we synthesize a linear quadratic regulator (LQR)."
   ]
  },
  {
   "cell_type": "code",
   "execution_count": null,
   "id": "349b6f00-26f6-453c-af87-0d3e4f59d4e6",
   "metadata": {},
   "outputs": [],
   "source": [
    "env = gym.make('CustomCartPole-v1', render_mode='rgb_array')\n",
    "\n",
    "cartpole = ct.NonlinearIOSystem(env.ct_sys_update, env.ct_sys_output, states=4, name='cartpole', inputs=['action'], outputs=['x', 'x_dot', 'theta', 'theta_dot'])\n",
    "linsys = cartpole.linearize(x0=np.array([0., 0., 0., 0.]), u0=np.array([0.]))\n",
    "linsys_d = linsys.sample(env.tau)\n",
    "\n",
    "cost_x = 5\n",
    "cost_x_dot = 1\n",
    "cost_theta = 10\n",
    "cost_theta_dot = 1\n",
    "cost_control = 1\n",
    "\n",
    "Q = np.diag([cost_x, cost_x_dot, cost_theta, cost_theta_dot])\n",
    "R = np.diag([cost_control])\n",
    "\n",
    "K, _, _ = ct.lqr(linsys_d, Q, R)"
   ]
  },
  {
   "cell_type": "markdown",
   "id": "d08a6611-2a9d-4911-af4c-ac83d7eb4795",
   "metadata": {},
   "source": [
    "## Generate Dataset\n",
    "\n",
    "Next, we collect data from the system. We start the cartpole with different initial conditions and stabilize it using the LQR controller. We save the encountered states, actions and when a trajectory terminates."
   ]
  },
  {
   "cell_type": "code",
   "execution_count": null,
   "id": "88dbdfef-f7ec-4810-835f-5c8cc30ea0b5",
   "metadata": {},
   "outputs": [],
   "source": [
    "total_steps = 500 #100000\n",
    "max_ep_steps = 300\n",
    "steps = 0\n",
    "ep_steps = 0\n",
    "act_arr = np.zeros([total_steps, 1])\n",
    "obs_arr = np.zeros([total_steps, 4])\n",
    "done_arr = np.zeros(total_steps)\n",
    "\n",
    "while steps < total_steps:\n",
    "    x_0 = np.random.uniform(low=0.0, high=2.0) # Sample start state\n",
    "    x_dot_0 = np.random.uniform(low=-1, high=1)\n",
    "    theta_0 = np.random.uniform(low=-45, high=45) * 2 * math.pi / 360\n",
    "    theta_dot_0 = np.random.uniform(low=-20, high=20) * 2 * math.pi / 360\n",
    "\n",
    "    start_state = np.array([x_0, x_dot_0, theta_0, theta_dot_0 ])\n",
    "    done = False\n",
    "    state, _ = env.reset(start_state=start_state.copy())\n",
    "    #frames = []  # collect rgb_image of agent env interaction\n",
    "\n",
    "    while not done:\n",
    "        action = -np.matmul(K, state)[0] # apply control action (the LQR acts as the policy)\n",
    "        next_state, reward, done, _, _ = env.step(action) # simulate the system\n",
    "        act_arr[steps] = action # store the data\n",
    "        obs_arr[steps, :] = state\n",
    "        done_arr[steps] = done\n",
    "        state = next_state\n",
    "        steps += 1\n",
    "        ep_steps += 1\n",
    "        if ep_steps == max_ep_steps:\n",
    "            done = True\n",
    "            done_arr[steps-1] = done\n",
    "            ep_steps = 0\n",
    "        if steps == total_steps:\n",
    "            break\n",
    "\n",
    "\n",
    "\n",
    "plt.plot(obs_arr[:, 0], label='$x$', color='darkorange')\n",
    "plt.plot(obs_arr[:, 1], label='$\\dot{x}$', color='darkgreen')\n",
    "plt.plot(obs_arr[:, 2], label='$\\\\theta$', color='darkblue')\n",
    "plt.plot(obs_arr[:, 3], label='$\\dot{\\\\theta}$', color='darkred')\n",
    "plt.legend(loc='upper right')\n",
    "plt.show()\n",
    "\n",
    "plt.plot(act_arr, label='$u$')\n",
    "plt.legend(loc='upper right')\n",
    "plt.show()\n",
    "\n",
    "plt.plot(done_arr, label='done')\n",
    "plt.legend(loc='upper right')\n",
    "plt.show()"
   ]
  },
  {
   "cell_type": "markdown",
   "id": "fb9d5e9b-ea5f-4b14-9020-c1e1c8ad5ca5",
   "metadata": {},
   "source": [
    "## Define model input\n",
    "\n",
    "Here we define the history of controls and observations we consider for the NARX model input. <br>\n",
    "$y(t)=F(\\phi(t))=F(y(t-1), y(t-2), \\ldots, u(t-1), u(t-2), \\ldots)$"
   ]
  },
  {
   "cell_type": "code",
   "execution_count": null,
   "id": "b56695d4-fa44-4eb0-a083-fbe4bb54b02e",
   "metadata": {},
   "outputs": [],
   "source": [
    "hist_obs = 5\n",
    "hist_act = 3\n",
    "win_len = max(hist_obs, hist_act) + 1"
   ]
  },
  {
   "cell_type": "markdown",
   "id": "03a42646-917a-4cf3-9526-321139a81b18",
   "metadata": {},
   "source": [
    "## Compute Training Data\n",
    "\n",
    "Based on the input specifications, compute features and labels for training the neural network."
   ]
  },
  {
   "cell_type": "code",
   "execution_count": null,
   "id": "8b709150-1d80-4d18-9d2b-f51d0aa40a4a",
   "metadata": {},
   "outputs": [],
   "source": [
    "features = np.zeros([total_steps, hist_obs * obs_arr.shape[1] + hist_act * act_arr.shape[1]])\n",
    "labels = np.zeros([total_steps, obs_arr.shape[1]])\n",
    "\n",
    "j=0\n",
    "for i in range(win_len, total_steps):\n",
    "    if np.sum(done_arr[i-win_len:i]) < 1e-6:\n",
    "        labels[j] = obs_arr[i, :]\n",
    "        features[j] = np.concatenate((obs_arr[i-hist_obs:i, :].flatten(), act_arr[i-hist_act:i, :].flatten()), axis=0)\n",
    "        j += 1\n",
    "features = features[:j, :]\n",
    "labels = labels[:j, :]\n",
    "\n",
    "with open('features.npy', 'wb') as f:\n",
    "    np.save(f, features)\n",
    "with open('labels.npy', 'wb') as f:\n",
    "    np.save(f, labels)"
   ]
  },
  {
   "cell_type": "markdown",
   "id": "25d99da4-c3f8-4736-9ed8-b087c50dde82",
   "metadata": {},
   "source": [
    "## Prepare Training Data\n",
    "\n",
    "Shuffle the dataset and split it into training and test data."
   ]
  },
  {
   "cell_type": "code",
   "execution_count": null,
   "id": "3847ddf7-d9c8-43b9-b529-93e4e25a04c9",
   "metadata": {},
   "outputs": [],
   "source": [
    "with open('features.npy', 'rb') as f:\n",
    "    features = np.load(f)\n",
    "with open('labels.npy', 'rb') as f:\n",
    "    labels = np.load(f)\n",
    "\n",
    "\n",
    "dataset = TensorDataset(torch.from_numpy(features).type(torch.FloatTensor), torch.from_numpy(labels).type(torch.FloatTensor))\n",
    "train_size = int(0.8 * len(dataset))\n",
    "test_size = len(dataset) - train_size\n",
    "train_dataset, test_dataset = torch.utils.data.random_split(dataset, [train_size, test_size])\n",
    "train_loader = DataLoader(train_dataset, batch_size=64, shuffle=True)\n",
    "test_loader = DataLoader(test_dataset, batch_size=64, shuffle=True)"
   ]
  },
  {
   "cell_type": "markdown",
   "id": "74bb67cd-b0d2-4f27-95e1-6a6274e3281d",
   "metadata": {},
   "source": [
    "## Define neural network architecture"
   ]
  },
  {
   "cell_type": "code",
   "execution_count": null,
   "id": "3df8371f-7125-4e96-b36a-31edf078b393",
   "metadata": {},
   "outputs": [],
   "source": [
    "class Net(nn.Module):\n",
    "    def __init__(self, state_dim, state_hist, act_dim, act_hist):\n",
    "        super().__init__()\n",
    "        self.fc1 = nn.Linear(state_dim*state_hist+act_dim*act_hist, 32)\n",
    "        self.fc2 = nn.Linear(32, 16)\n",
    "        self.fc3 = nn.Linear(16, state_dim)\n",
    "\n",
    "    def forward(self, x):\n",
    "        x = F.relu(self.fc1(x))\n",
    "        x = F.relu(self.fc2(x))\n",
    "        x = self.fc3(x)\n",
    "        return x"
   ]
  },
  {
   "cell_type": "markdown",
   "id": "6fa553e9-e66f-4941-b156-d8063c0c1473",
   "metadata": {},
   "source": [
    "## Define Neural Network Parameters"
   ]
  },
  {
   "cell_type": "code",
   "execution_count": null,
   "id": "a9034777-c64a-4f84-9c5c-638b37758c9c",
   "metadata": {},
   "outputs": [],
   "source": [
    "net = Net(state_dim=4, state_hist=hist_obs, act_dim=1, act_hist=hist_act)\n",
    "\n",
    "criterion = nn.MSELoss()\n",
    "optimizer = optim.SGD(net.parameters(), lr=0.001, momentum=0.3)\n",
    "num_epochs = 200\n",
    "train_loss = np.zeros(num_epochs)\n",
    "test_loss = np.zeros(num_epochs)\n",
    "\n",
    "early_stopping_patience = 3\n",
    "min_improvement = 1e-4"
   ]
  },
  {
   "cell_type": "markdown",
   "id": "36ede084-e092-4e62-bd1c-c4f958ed44ac",
   "metadata": {},
   "source": [
    "## Train Neural Network"
   ]
  },
  {
   "cell_type": "code",
   "execution_count": null,
   "id": "4775e66e-a8a0-4b1a-ba35-860090c8b83e",
   "metadata": {},
   "outputs": [],
   "source": [
    "for epoch in range(num_epochs):  # loop over the dataset multiple times\n",
    "\n",
    "    running_loss = 0.0\n",
    "    for i, data in enumerate(train_loader, 0):\n",
    "        # get the inputs; data is a list of [inputs, labels]\n",
    "        inputs, labels = data\n",
    "\n",
    "        # zero the parameter gradients\n",
    "        optimizer.zero_grad()\n",
    "\n",
    "        # forward + backward + optimize\n",
    "        outputs = net(inputs)\n",
    "        loss = criterion(outputs, labels)\n",
    "        loss.backward()\n",
    "        optimizer.step()\n",
    "\n",
    "        # print statistics\n",
    "        running_loss += loss.item()\n",
    "    ep_train_loss = running_loss / i\n",
    "    print('epoch: '+str(epoch) + ', train loss: '+str(ep_train_loss))\n",
    "    train_loss[epoch] = ep_train_loss\n",
    "\n",
    "    for i, data in enumerate(test_loader, 0):\n",
    "        inputs, labels = data\n",
    "        with torch.no_grad():\n",
    "            outputs = net(inputs)\n",
    "            loss = criterion(outputs, labels)\n",
    "        running_loss += loss.item()\n",
    "    ep_test_loss = running_loss / i\n",
    "    print('epoch: ' + str(epoch) + ', test loss: ' + str(ep_test_loss))\n",
    "    test_loss[epoch] = ep_test_loss\n",
    "\n",
    "    # early stopping\n",
    "    if epoch > early_stopping_patience and test_loss[epoch] >= np.max(test_loss[epoch-1-early_stopping_patience:epoch-1])-min_improvement:\n",
    "        break\n",
    "\n",
    "print('Finished Training')\n",
    "plt.plot(train_loss[:epoch], label='train_loss')\n",
    "plt.plot(test_loss[:epoch], label='test_loss')\n",
    "plt.ylabel('MSE')\n",
    "plt.xlabel('Epoch')\n",
    "plt.legend()\n",
    "plt.show()\n",
    "\n",
    "torch.save(net.state_dict(), './net_notebook.pth')"
   ]
  },
  {
   "cell_type": "markdown",
   "id": "c84226c0-efb4-431b-bb9d-17271c9f7be3",
   "metadata": {},
   "source": [
    "## Load Neural Network"
   ]
  },
  {
   "cell_type": "code",
   "execution_count": null,
   "id": "4793976d-4a02-42d3-8bb8-c40aea4b5760",
   "metadata": {},
   "outputs": [],
   "source": [
    "net = Net(state_dim=4, state_hist=hist_obs, act_dim=1, act_hist=hist_act)\n",
    "net.load_state_dict(torch.load('./net_notebook.pth'))"
   ]
  },
  {
   "cell_type": "markdown",
   "id": "099269e9-cc00-476b-9a13-645fe68f299e",
   "metadata": {},
   "source": [
    "## Collect Evaluation Trajectory"
   ]
  },
  {
   "cell_type": "code",
   "execution_count": null,
   "id": "1f618cb4-a968-4a8e-9a82-9af19959a0b1",
   "metadata": {},
   "outputs": [],
   "source": [
    "max_ep_steps = 300\n",
    "ep_steps = 0\n",
    "act_arr = np.zeros([max_ep_steps, 1])\n",
    "obs_arr = np.zeros([max_ep_steps, 4])\n",
    "done_arr = np.zeros(max_ep_steps)\n",
    "\n",
    "x_0 = 1.0\n",
    "x_dot_0 = -0.2\n",
    "theta_0 = 20 * 2 * math.pi / 360\n",
    "theta_dot_0 = 10 * 2 * math.pi / 360\n",
    "\n",
    "start_state = np.array([x_0, x_dot_0, theta_0, theta_dot_0 ])\n",
    "done = False\n",
    "state, _ = env.reset(start_state=start_state.copy())\n",
    "\n",
    "while not done:\n",
    "    action = -np.matmul(K, state)[0]\n",
    "    next_state, reward, done, _, _ = env.step(action)\n",
    "    act_arr[ep_steps] = action\n",
    "    obs_arr[ep_steps, :] = state\n",
    "    done_arr[ep_steps] = done\n",
    "    #out = env.render()\n",
    "    #frames.append(out)\n",
    "    state = next_state\n",
    "    ep_steps += 1\n",
    "    if ep_steps == max_ep_steps:\n",
    "        done = True\n",
    "        done_arr[ep_steps-1] = done\n",
    "        break\n",
    "\n",
    "plt.plot(obs_arr[win_len:, 0], label='$x$', color='darkorange')\n",
    "plt.plot(obs_arr[win_len:, 1], label='$\\dot{x}$', color='darkgreen')\n",
    "plt.plot(obs_arr[win_len:, 2], label='$\\\\theta$', color='darkblue')\n",
    "plt.plot(obs_arr[win_len:, 3], label='$\\dot{\\\\theta}$', color='darkred')\n",
    "plt.legend(loc='lower right', ncol=1)\n",
    "plt.show()"
   ]
  },
  {
   "cell_type": "code",
   "execution_count": null,
   "id": "8e9b1ddb-ef20-4c67-835a-458fa5b1d5c5",
   "metadata": {},
   "outputs": [],
   "source": [
    "features = np.zeros([max_ep_steps, hist_obs * obs_arr.shape[1] + hist_act * act_arr.shape[1]])\n",
    "labels = np.zeros([max_ep_steps, obs_arr.shape[1]])\n",
    "j=0\n",
    "for i in range(win_len, max_ep_steps):\n",
    "    if np.sum(done_arr[i-win_len:i]) < 1e-6:\n",
    "        labels[j] = obs_arr[i, :]\n",
    "        features[j] = np.concatenate((obs_arr[i-hist_obs:i, :].flatten(), act_arr[i-hist_act:i, :].flatten()), axis=0)\n",
    "        j += 1\n",
    "features = features[:j, :]\n",
    "labels = labels[:j, :]\n",
    "\n",
    "features = torch.from_numpy(features).type(torch.FloatTensor)\n",
    "act_arr = torch.from_numpy(act_arr).type(torch.FloatTensor)\n",
    "obs_arr = torch.from_numpy(obs_arr).type(torch.FloatTensor)"
   ]
  },
  {
   "cell_type": "markdown",
   "id": "d03e0c71-e56a-47ca-b54f-5f0c70a39ab5",
   "metadata": {},
   "source": [
    "## One-step predictions with the model"
   ]
  },
  {
   "cell_type": "code",
   "execution_count": null,
   "id": "c0b69070-a852-4d00-ba4d-6924ecae3ab3",
   "metadata": {},
   "outputs": [],
   "source": [
    "with torch.no_grad():\n",
    "    one_step_preds = net(features)\n",
    "plt.plot(obs_arr[win_len:, 0], label='$x$', color='darkorange')\n",
    "plt.plot(obs_arr[win_len:, 1], label='$\\dot{x}$', color='darkgreen')\n",
    "plt.plot(obs_arr[win_len:, 2], label='$\\\\theta$', color='darkblue')\n",
    "plt.plot(obs_arr[win_len:, 3], label='$\\dot{\\\\theta}$', color='darkred')\n",
    "\n",
    "plt.plot(one_step_preds[:, 0], label='$x_{1 step}$', color='orange')\n",
    "plt.plot(one_step_preds[:, 1], label='$\\dot{x}_{1 step}$', color='green')\n",
    "plt.plot(one_step_preds[:, 2], label='$\\\\theta_{1 step}$', color='blue')\n",
    "plt.plot(one_step_preds[:, 3], label='$\\dot{\\\\theta}_{1 step}$', color='red')\n",
    "plt.legend(loc='lower right', ncol=2)\n",
    "plt.show()"
   ]
  },
  {
   "cell_type": "markdown",
   "id": "d8d58a9a-a996-4b0a-9ce7-07c0a3347274",
   "metadata": {},
   "source": [
    "## Predict the full trajectory with the model"
   ]
  },
  {
   "cell_type": "code",
   "execution_count": null,
   "id": "e1d81fb4-3377-43e6-807f-50293d5f7646",
   "metadata": {
    "tags": []
   },
   "outputs": [],
   "source": [
    "pred_arr = torch.zeros(max_ep_steps, 4)\n",
    "pred_arr[win_len-hist_obs:win_len, :] = obs_arr[win_len-hist_obs:win_len, :]\n",
    "\n",
    "for i in range(win_len, max_ep_steps):\n",
    "    feature = torch.concat((pred_arr[i-hist_obs:i, :].flatten(), act_arr[i-hist_act:i, :].flatten()), dim=0)\n",
    "    with torch.no_grad():\n",
    "        pred_arr[i, :] = net(feature).data\n",
    "plt.plot(obs_arr[win_len:, 0], label='$x$', color='darkorange')\n",
    "plt.plot(obs_arr[win_len:, 1], label='$\\dot{x}$', color='darkgreen')\n",
    "plt.plot(obs_arr[win_len:, 2], label='$\\\\theta$', color='darkblue')\n",
    "plt.plot(obs_arr[win_len:, 3], label='$\\dot{\\\\theta}$', color='darkred')\n",
    "\n",
    "plt.plot(pred_arr[win_len:, 0], label='$x_{traj}$', color='orange')\n",
    "plt.plot(pred_arr[win_len:, 1], label='$\\dot{x}_{traj}$', color='green')\n",
    "plt.plot(pred_arr[win_len:, 2], label='$\\\\theta_{traj}$', color='blue')\n",
    "plt.plot(pred_arr[win_len:, 3], label='$\\dot{\\\\theta}_{traj}$', color='red')\n",
    "\n",
    "plt.legend(loc='lower right', ncol=2)\n",
    "plt.show()"
   ]
  },
  {
   "cell_type": "code",
   "execution_count": null,
   "id": "b0de310c-7be9-4d93-b78a-4d4cae729fa0",
   "metadata": {},
   "outputs": [],
   "source": []
  }
 ],
 "metadata": {
  "kernelspec": {
   "display_name": "default",
   "language": "python",
   "name": "python3"
  },
  "language_info": {
   "codemirror_mode": {
    "name": "ipython",
    "version": 3
   },
   "file_extension": ".py",
   "mimetype": "text/x-python",
   "name": "python",
   "nbconvert_exporter": "python",
   "pygments_lexer": "ipython3",
   "version": "3.10.18"
  }
 },
 "nbformat": 4,
 "nbformat_minor": 5
}
